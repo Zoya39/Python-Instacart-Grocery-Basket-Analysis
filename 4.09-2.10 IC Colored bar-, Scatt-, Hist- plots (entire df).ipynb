{
 "cells": [
  {
   "cell_type": "markdown",
   "id": "84b07eae",
   "metadata": {},
   "source": [
    "### 4.9- Part 2. Data Visualization with Python. "
   ]
  },
  {
   "cell_type": "markdown",
   "id": "2417e1be",
   "metadata": {},
   "source": [
    "#### 4.9-1 Import libraries"
   ]
  },
  {
   "cell_type": "code",
   "execution_count": 1,
   "id": "6dad0d68",
   "metadata": {},
   "outputs": [],
   "source": [
    "import pandas as pd\n",
    "import numpy as np\n",
    "import os\n",
    "import matplotlib.pyplot as plt\n",
    "import seaborn as sns\n",
    "import scipy"
   ]
  },
  {
   "cell_type": "markdown",
   "id": "50bb260a",
   "metadata": {},
   "source": [
    "#### 4.9-1-1 Import files"
   ]
  },
  {
   "cell_type": "code",
   "execution_count": 2,
   "id": "399d8644",
   "metadata": {},
   "outputs": [],
   "source": [
    "path=r'C:\\Users\\user\\07-2023 Instacart Basket Analysis\\02 Data'"
   ]
  },
  {
   "cell_type": "code",
   "execution_count": 3,
   "id": "1038ac02",
   "metadata": {},
   "outputs": [],
   "source": [
    "df_concat=pd.read_pickle(os.path.join(path, 'Prepared Data','491_concat.pkl'))"
   ]
  },
  {
   "cell_type": "code",
   "execution_count": 4,
   "id": "2aed5d91",
   "metadata": {},
   "outputs": [
    {
     "data": {
      "text/html": [
       "<div>\n",
       "<style scoped>\n",
       "    .dataframe tbody tr th:only-of-type {\n",
       "        vertical-align: middle;\n",
       "    }\n",
       "\n",
       "    .dataframe tbody tr th {\n",
       "        vertical-align: top;\n",
       "    }\n",
       "\n",
       "    .dataframe thead th {\n",
       "        text-align: right;\n",
       "    }\n",
       "</style>\n",
       "<table border=\"1\" class=\"dataframe\">\n",
       "  <thead>\n",
       "    <tr style=\"text-align: right;\">\n",
       "      <th></th>\n",
       "      <th>user_id</th>\n",
       "      <th>Gender</th>\n",
       "      <th>STATE</th>\n",
       "      <th>Age</th>\n",
       "      <th>date_joined</th>\n",
       "      <th>n_dependants</th>\n",
       "      <th>fam_status</th>\n",
       "      <th>income</th>\n",
       "      <th>Full_Name</th>\n",
       "      <th>product_id</th>\n",
       "      <th>...</th>\n",
       "      <th>reordered</th>\n",
       "      <th>price_range_loc</th>\n",
       "      <th>busiest_day</th>\n",
       "      <th>busiest days</th>\n",
       "      <th>max_order</th>\n",
       "      <th>loyalty_flag</th>\n",
       "      <th>mean_price</th>\n",
       "      <th>spender_flag</th>\n",
       "      <th>median_days_sinse_ord</th>\n",
       "      <th>frequent_flag</th>\n",
       "    </tr>\n",
       "  </thead>\n",
       "  <tbody>\n",
       "    <tr>\n",
       "      <th>0</th>\n",
       "      <td>26711</td>\n",
       "      <td>Female</td>\n",
       "      <td>Missouri</td>\n",
       "      <td>48</td>\n",
       "      <td>1/1/2017</td>\n",
       "      <td>3</td>\n",
       "      <td>married</td>\n",
       "      <td>165665</td>\n",
       "      <td>Deborah Esquivel</td>\n",
       "      <td>196</td>\n",
       "      <td>...</td>\n",
       "      <td>1</td>\n",
       "      <td>mid_range_product</td>\n",
       "      <td>Regularly days</td>\n",
       "      <td>Regularly days</td>\n",
       "      <td>9</td>\n",
       "      <td>New customer</td>\n",
       "      <td>7.988889</td>\n",
       "      <td>Low spender</td>\n",
       "      <td>19</td>\n",
       "      <td>Regular customer</td>\n",
       "    </tr>\n",
       "    <tr>\n",
       "      <th>1</th>\n",
       "      <td>26711</td>\n",
       "      <td>Female</td>\n",
       "      <td>Missouri</td>\n",
       "      <td>48</td>\n",
       "      <td>1/1/2017</td>\n",
       "      <td>3</td>\n",
       "      <td>married</td>\n",
       "      <td>165665</td>\n",
       "      <td>Deborah Esquivel</td>\n",
       "      <td>6184</td>\n",
       "      <td>...</td>\n",
       "      <td>1</td>\n",
       "      <td>low_range_product</td>\n",
       "      <td>Busiest days</td>\n",
       "      <td>Busiest days</td>\n",
       "      <td>9</td>\n",
       "      <td>New customer</td>\n",
       "      <td>7.988889</td>\n",
       "      <td>Low spender</td>\n",
       "      <td>19</td>\n",
       "      <td>Regular customer</td>\n",
       "    </tr>\n",
       "  </tbody>\n",
       "</table>\n",
       "<p>2 rows × 31 columns</p>\n",
       "</div>"
      ],
      "text/plain": [
       "   user_id  Gender     STATE  Age date_joined  n_dependants fam_status  \\\n",
       "0    26711  Female  Missouri   48    1/1/2017             3    married   \n",
       "1    26711  Female  Missouri   48    1/1/2017             3    married   \n",
       "\n",
       "   income         Full_Name  product_id  ... reordered    price_range_loc  \\\n",
       "0  165665  Deborah Esquivel         196  ...         1  mid_range_product   \n",
       "1  165665  Deborah Esquivel        6184  ...         1  low_range_product   \n",
       "\n",
       "      busiest_day    busiest days  max_order  loyalty_flag  mean_price  \\\n",
       "0  Regularly days  Regularly days          9  New customer    7.988889   \n",
       "1    Busiest days    Busiest days          9  New customer    7.988889   \n",
       "\n",
       "   spender_flag  median_days_sinse_ord     frequent_flag  \n",
       "0   Low spender                     19  Regular customer  \n",
       "1   Low spender                     19  Regular customer  \n",
       "\n",
       "[2 rows x 31 columns]"
      ]
     },
     "execution_count": 4,
     "metadata": {},
     "output_type": "execute_result"
    }
   ],
   "source": [
    "df_concat.head(2)"
   ]
  },
  {
   "cell_type": "code",
   "execution_count": 5,
   "id": "bbb0f895",
   "metadata": {},
   "outputs": [
    {
     "data": {
      "text/plain": [
       "user_id                     int64\n",
       "Gender                     string\n",
       "STATE                      string\n",
       "Age                         int64\n",
       "date_joined                string\n",
       "n_dependants                int64\n",
       "fam_status                 string\n",
       "income                      int64\n",
       "Full_Name                  string\n",
       "product_id                  int64\n",
       "product_name               string\n",
       "aisle_id                    int64\n",
       "department_id               int64\n",
       "prices                    float64\n",
       "order_id                    int64\n",
       "eval_set                   string\n",
       "order_number                int64\n",
       "day_of_week                 int64\n",
       "order_hour_of_day           int64\n",
       "days_since_prior_order      int64\n",
       "add_to_cart_order           int64\n",
       "reordered                   int64\n",
       "price_range_loc            string\n",
       "busiest_day                string\n",
       "busiest days               string\n",
       "max_order                   int64\n",
       "loyalty_flag               string\n",
       "mean_price                float64\n",
       "spender_flag               string\n",
       "median_days_sinse_ord       int64\n",
       "frequent_flag              string\n",
       "dtype: object"
      ]
     },
     "execution_count": 5,
     "metadata": {},
     "output_type": "execute_result"
    }
   ],
   "source": [
    "df_concat.dtypes"
   ]
  },
  {
   "cell_type": "code",
   "execution_count": null,
   "id": "e8d15682",
   "metadata": {},
   "outputs": [],
   "source": []
  },
  {
   "cell_type": "markdown",
   "id": "090b6b94",
   "metadata": {},
   "source": [
    "##### 4.9.2-2 Create a bar chart, a histogram, a scatterplot, and a line chart, using a sample subset for the line chart."
   ]
  },
  {
   "cell_type": "markdown",
   "id": "e26f8f52",
   "metadata": {},
   "source": [
    "#### Creating the bar chart"
   ]
  },
  {
   "cell_type": "code",
   "execution_count": 6,
   "id": "7bfd13eb",
   "metadata": {},
   "outputs": [
    {
     "data": {
      "image/png": "[encoded data removed]",
      "text/plain": [
       "<Figure size 640x480 with 1 Axes>"
      ]
     },
     "metadata": {},
     "output_type": "display_data"
    }
   ],
   "source": [
    "bar=df_concat['day_of_week'].value_counts().sort_index().plot.bar(color=['red','orange','yellow','green','cornflowerblue','blue','blueviolet'])"
   ]
  },
  {
   "cell_type": "markdown",
   "id": "10117ea2",
   "metadata": {},
   "source": [
    "#### saving the plot"
   ]
  },
  {
   "cell_type": "code",
   "execution_count": 7,
   "id": "348b1ed5",
   "metadata": {},
   "outputs": [],
   "source": [
    "bar.figure.savefig(os.path.join(path, 'Prepared Data', 'Entire_bar.png'))"
   ]
  },
  {
   "cell_type": "markdown",
   "id": "a7ad69e5",
   "metadata": {},
   "source": [
    "### Creating scatterplot"
   ]
  },
  {
   "cell_type": "code",
   "execution_count": 8,
   "id": "a617e964",
   "metadata": {},
   "outputs": [
    {
     "data": {
      "image/png": "[encoded data removed]",
      "text/plain": [
       "<Figure size 640x480 with 1 Axes>"
      ]
     },
     "metadata": {},
     "output_type": "display_data"
    }
   ],
   "source": [
    "scat2=sns.scatterplot(x='prices', y='prices', data=df_concat)"
   ]
  },
  {
   "cell_type": "markdown",
   "id": "b03c2610",
   "metadata": {},
   "source": [
    "#### saving the plot"
   ]
  },
  {
   "cell_type": "code",
   "execution_count": 9,
   "id": "12dfda0b",
   "metadata": {},
   "outputs": [],
   "source": [
    "scat2.figure.savefig(os.path.join(path,'Prepared Data', 'Entire_scat.png'))"
   ]
  },
  {
   "cell_type": "markdown",
   "id": "a3c00721",
   "metadata": {},
   "source": [
    "#### As we see on the scatterplot the outlier , we need to esclude this value to create a histogram"
   ]
  },
  {
   "cell_type": "markdown",
   "id": "f39b75dc",
   "metadata": {},
   "source": [
    "#### replacing the value >100 with NANs"
   ]
  },
  {
   "cell_type": "code",
   "execution_count": 10,
   "id": "4bda1035",
   "metadata": {},
   "outputs": [],
   "source": [
    "df_concat.loc[df_concat['prices']>100,'prices']=np.nan"
   ]
  },
  {
   "cell_type": "markdown",
   "id": "4fd60642",
   "metadata": {},
   "source": [
    "#### creating a histogram"
   ]
  },
  {
   "cell_type": "code",
   "execution_count": 11,
   "id": "714c116e",
   "metadata": {},
   "outputs": [
    {
     "data": {
      "image/png": "[encoded data removed]",
      "text/plain": [
       "<Figure size 640x480 with 1 Axes>"
      ]
     },
     "metadata": {},
     "output_type": "display_data"
    }
   ],
   "source": [
    "hist=df_concat['prices'].plot.hist(bins=20)"
   ]
  },
  {
   "cell_type": "markdown",
   "id": "d042c1c0",
   "metadata": {},
   "source": [
    "#### saving the plot"
   ]
  },
  {
   "cell_type": "code",
   "execution_count": 12,
   "id": "951ea2f6",
   "metadata": {},
   "outputs": [],
   "source": [
    "hist.figure.savefig(os.path.join(path, 'Prepared Data', 'Entire_hist.png'))"
   ]
  },
  {
   "cell_type": "code",
   "execution_count": null,
   "id": "991862dc",
   "metadata": {},
   "outputs": [],
   "source": []
  },
  {
   "cell_type": "code",
   "execution_count": null,
   "id": "bbabfb8c",
   "metadata": {},
   "outputs": [],
   "source": []
  },
  {
   "cell_type": "code",
   "execution_count": null,
   "id": "2b6ed3dc",
   "metadata": {},
   "outputs": [],
   "source": []
  }
 ],
 "metadata": {
  "kernelspec": {
   "display_name": "Python 3 (ipykernel)",
   "language": "python",
   "name": "python3"
  },
  "language_info": {
   "codemirror_mode": {
    "name": "ipython",
    "version": 3
   },
   "file_extension": ".py",
   "mimetype": "text/x-python",
   "name": "python",
   "nbconvert_exporter": "python",
   "pygments_lexer": "ipython3",
   "version": "3.10.9"
  }
 },
 "nbformat": 4,
 "nbformat_minor": 5
}
