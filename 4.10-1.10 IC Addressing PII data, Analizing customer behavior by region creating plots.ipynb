{
 "cells": [
  {
   "cell_type": "markdown",
   "id": "dc856afc",
   "metadata": {},
   "source": [
    "### 4.10 Part1 "
   ]
  },
  {
   "cell_type": "markdown",
   "id": "b3478eda",
   "metadata": {},
   "source": [
    "### 4.10-1 Importing libraries and df"
   ]
  },
  {
   "cell_type": "code",
   "execution_count": 6,
   "id": "e865d8b6",
   "metadata": {},
   "outputs": [],
   "source": [
    "import pandas as pd\n",
    "import numpy as np\n",
    "import os"
   ]
  },
  {
   "cell_type": "code",
   "execution_count": 7,
   "id": "a0d783f3",
   "metadata": {},
   "outputs": [],
   "source": [
    "path=r'C:\\Users\\user\\07-2023 Instacart Basket Analysis\\02 Data'"
   ]
  },
  {
   "cell_type": "code",
   "execution_count": 8,
   "id": "339d7784",
   "metadata": {},
   "outputs": [],
   "source": [
    "df=pd.read_pickle(os.path.join(path,'Prepared Data','491_concat.pkl'))"
   ]
  },
  {
   "cell_type": "markdown",
   "id": "f90fb8bd",
   "metadata": {},
   "source": [
    "### 4.10-2 Adressing any PII data in the data before continuing the analysis"
   ]
  },
  {
   "cell_type": "code",
   "execution_count": 9,
   "id": "dd1cde48",
   "metadata": {},
   "outputs": [
    {
     "data": {
      "text/plain": [
       "Index(['user_id', 'Gender', 'STATE', 'Age', 'date_joined', 'n_dependants',\n",
       "       'fam_status', 'income', 'Full_Name', 'product_id', 'product_name',\n",
       "       'aisle_id', 'department_id', 'prices', 'order_id', 'eval_set',\n",
       "       'order_number', 'day_of_week', 'order_hour_of_day',\n",
       "       'days_since_prior_order', 'add_to_cart_order', 'reordered',\n",
       "       'price_range_loc', 'busiest_day', 'busiest days', 'max_order',\n",
       "       'loyalty_flag', 'mean_price', 'spender_flag', 'median_days_sinse_ord',\n",
       "       'frequent_flag'],\n",
       "      dtype='object')"
      ]
     },
     "execution_count": 9,
     "metadata": {},
     "output_type": "execute_result"
    }
   ],
   "source": [
    "df.columns"
   ]
  },
  {
   "cell_type": "code",
   "execution_count": 10,
   "id": "da2cd59d",
   "metadata": {},
   "outputs": [
    {
     "data": {
      "text/plain": [
       "(32641268, 31)"
      ]
     },
     "execution_count": 10,
     "metadata": {},
     "output_type": "execute_result"
    }
   ],
   "source": [
    "df.shape"
   ]
  },
  {
   "cell_type": "markdown",
   "id": "61c10917",
   "metadata": {},
   "source": [
    "### creating df without PII data (escluding Full_Name). Note: I don't create a subset because I need all colums axsept only one"
   ]
  },
  {
   "cell_type": "code",
   "execution_count": 11,
   "id": "5a948589",
   "metadata": {},
   "outputs": [],
   "source": [
    "del df['Full_Name']"
   ]
  },
  {
   "cell_type": "code",
   "execution_count": 12,
   "id": "0f7fb8b4",
   "metadata": {},
   "outputs": [
    {
     "data": {
      "text/plain": [
       "(32641268, 30)"
      ]
     },
     "execution_count": 12,
     "metadata": {},
     "output_type": "execute_result"
    }
   ],
   "source": [
    "df.shape"
   ]
  },
  {
   "cell_type": "code",
   "execution_count": 13,
   "id": "28e72c4d",
   "metadata": {},
   "outputs": [
    {
     "data": {
      "text/plain": [
       "Index(['user_id', 'Gender', 'STATE', 'Age', 'date_joined', 'n_dependants',\n",
       "       'fam_status', 'income', 'product_id', 'product_name', 'aisle_id',\n",
       "       'department_id', 'prices', 'order_id', 'eval_set', 'order_number',\n",
       "       'day_of_week', 'order_hour_of_day', 'days_since_prior_order',\n",
       "       'add_to_cart_order', 'reordered', 'price_range_loc', 'busiest_day',\n",
       "       'busiest days', 'max_order', 'loyalty_flag', 'mean_price',\n",
       "       'spender_flag', 'median_days_sinse_ord', 'frequent_flag'],\n",
       "      dtype='object')"
      ]
     },
     "execution_count": 13,
     "metadata": {},
     "output_type": "execute_result"
    }
   ],
   "source": [
    "df.columns"
   ]
  },
  {
   "cell_type": "markdown",
   "id": "3bd4ca0f",
   "metadata": {},
   "source": [
    "#### exporting df ready for analysis to save it"
   ]
  },
  {
   "cell_type": "code",
   "execution_count": 9,
   "id": "54c43faa",
   "metadata": {},
   "outputs": [],
   "source": [
    "df.to_pickle(os.path.join(path,'Prepared Data','for_analysis410.pkl'))"
   ]
  },
  {
   "cell_type": "markdown",
   "id": "2bfd5058",
   "metadata": {},
   "source": [
    "### 4.10-3 creating df with STATE and spender flag only to avoide Memory Error"
   ]
  },
  {
   "cell_type": "code",
   "execution_count": 25,
   "id": "829a338d",
   "metadata": {},
   "outputs": [],
   "source": [
    "df1=df[['STATE','spender_flag']]"
   ]
  },
  {
   "cell_type": "code",
   "execution_count": 30,
   "id": "9437bece",
   "metadata": {},
   "outputs": [
    {
     "data": {
      "text/plain": [
       "(32641268, 2)"
      ]
     },
     "execution_count": 30,
     "metadata": {},
     "output_type": "execute_result"
    }
   ],
   "source": [
    "df1.shape"
   ]
  },
  {
   "cell_type": "markdown",
   "id": "54b48d1e",
   "metadata": {},
   "source": [
    "### 4.10-3 Comparing customer behavior in different geographic areas. Creating a regional segmentation of the data "
   ]
  },
  {
   "cell_type": "markdown",
   "id": "5a479ea8",
   "metadata": {},
   "source": [
    "#### filter df by region-Northest"
   ]
  },
  {
   "cell_type": "code",
   "execution_count": 40,
   "id": "8ecd84f1",
   "metadata": {},
   "outputs": [],
   "source": [
    "desig=['Maine','New Hampshire','Vermont',\n",
    "                     'Massachusetts', 'Rhode Island','Connecticut','New York',\n",
    "                      'Pennsylvania','New Jersey']\n",
    "df_Northest=df1[df1['STATE'].isin(desig)]"
   ]
  },
  {
   "cell_type": "code",
   "execution_count": 42,
   "id": "8012b69d",
   "metadata": {},
   "outputs": [
    {
     "data": {
      "text/plain": [
       "(5764832, 2)"
      ]
     },
     "execution_count": 42,
     "metadata": {},
     "output_type": "execute_result"
    }
   ],
   "source": [
    "df_Northest.shape"
   ]
  },
  {
   "cell_type": "markdown",
   "id": "7b244104",
   "metadata": {},
   "source": [
    "#### filter df by region-Midwest"
   ]
  },
  {
   "cell_type": "code",
   "execution_count": 43,
   "id": "e17b49b7",
   "metadata": {},
   "outputs": [],
   "source": [
    "desig1=['Wisconsin','Michigan','Illinois','Indiana','Ohio',\n",
    "'North Dakota','South Dakota','Nebraska','Kansas','Minnesota','Iowa','Missouri']\n",
    "df_Midwest=df1[df1['STATE'].isin(desig1)]"
   ]
  },
  {
   "cell_type": "code",
   "execution_count": 44,
   "id": "8757b9a9",
   "metadata": {},
   "outputs": [
    {
     "data": {
      "text/plain": [
       "(7652535, 2)"
      ]
     },
     "execution_count": 44,
     "metadata": {},
     "output_type": "execute_result"
    }
   ],
   "source": [
    "df_Midwest.shape"
   ]
  },
  {
   "cell_type": "markdown",
   "id": "6a96c92c",
   "metadata": {},
   "source": [
    "#### filter df by region- South"
   ]
  },
  {
   "cell_type": "code",
   "execution_count": 45,
   "id": "8c5a0787",
   "metadata": {},
   "outputs": [],
   "source": [
    "desig2=['Delaware','Maryland','District of Columbia','Virginia',\n",
    "'West Virginia','North Carolina','South Carolina','Georgia','Florida','Kentucky',\n",
    "'Tennessee','Mississippi','Alabama','Oklahoma','Texas','Arkansas','Louisiana']\n",
    "df_South=df1[df1['STATE'].isin(desig2)]"
   ]
  },
  {
   "cell_type": "code",
   "execution_count": 46,
   "id": "ebd1858e",
   "metadata": {},
   "outputs": [
    {
     "data": {
      "text/plain": [
       "(10870719, 2)"
      ]
     },
     "execution_count": 46,
     "metadata": {},
     "output_type": "execute_result"
    }
   ],
   "source": [
    "df_South.shape"
   ]
  },
  {
   "cell_type": "markdown",
   "id": "7beb8976",
   "metadata": {},
   "source": [
    "#### filter df by region- WEst"
   ]
  },
  {
   "cell_type": "code",
   "execution_count": 47,
   "id": "4d03f9f8",
   "metadata": {},
   "outputs": [],
   "source": [
    "desig3=['Idaho','Montana','Wyoming','Nevada','Utah','Colorado','Arizona',\n",
    "               'New Mexico','Alaska','Washington','Oregon','California','Hawaii']\n",
    "df_West=df1[df1['STATE'].isin(desig3)]"
   ]
  },
  {
   "cell_type": "code",
   "execution_count": 53,
   "id": "6df705d3",
   "metadata": {},
   "outputs": [
    {
     "data": {
      "text/plain": [
       "(8353182, 2)"
      ]
     },
     "execution_count": 53,
     "metadata": {},
     "output_type": "execute_result"
    }
   ],
   "source": [
    "df_West.shape"
   ]
  },
  {
   "cell_type": "markdown",
   "id": "7f26ac79",
   "metadata": {},
   "source": [
    "#### check the rows total number"
   ]
  },
  {
   "cell_type": "code",
   "execution_count": 56,
   "id": "69dc4f67",
   "metadata": {},
   "outputs": [
    {
     "data": {
      "text/plain": [
       "32641268"
      ]
     },
     "execution_count": 56,
     "metadata": {},
     "output_type": "execute_result"
    }
   ],
   "source": [
    "df_West.shape[0]+df_South.shape[0]+df_Midwest.shape[0]+df_Northest.shape[0]"
   ]
  },
  {
   "cell_type": "markdown",
   "id": "2347814c",
   "metadata": {},
   "source": [
    "#### 4.10-3-1 Creating a “Region” column based on the “State” column from customers data set"
   ]
  },
  {
   "cell_type": "markdown",
   "id": "0203d27e",
   "metadata": {},
   "source": [
    "##### Unfortunately apply function runs very slow. I havn't got any result in some hours. Therefore I devidet df in regionspart to analyse one by one"
   ]
  },
  {
   "cell_type": "markdown",
   "id": "9c55c83b",
   "metadata": {},
   "source": [
    "#### 4.10.3-2 Determining whether there’s a difference in spending habits between the different U.S. regions. "
   ]
  },
  {
   "cell_type": "markdown",
   "id": "3fbd9665",
   "metadata": {},
   "source": [
    "#### Creating the visualisation"
   ]
  },
  {
   "cell_type": "code",
   "execution_count": 57,
   "id": "a841959f",
   "metadata": {},
   "outputs": [],
   "source": [
    "##### importing libraries\n",
    "import matplotlib.pyplot as plt\n",
    "import seaborn as sns\n",
    "import scipy"
   ]
  },
  {
   "cell_type": "code",
   "execution_count": 60,
   "id": "2ddd3781",
   "metadata": {},
   "outputs": [
    {
     "data": {
      "image/png": "[encoded data removed]",
      "text/plain": [
       "<Figure size 640x480 with 1 Axes>"
      ]
     },
     "metadata": {},
     "output_type": "display_data"
    }
   ],
   "source": [
    "bar_South=df_South['spender_flag'].value_counts().sort_index().plot.bar(color=['red','yellow','blueviolet'])"
   ]
  },
  {
   "cell_type": "code",
   "execution_count": 61,
   "id": "08348fae",
   "metadata": {},
   "outputs": [
    {
     "data": {
      "image/png": "[encoded data removed]",
      "text/plain": [
       "<Figure size 640x480 with 1 Axes>"
      ]
     },
     "metadata": {},
     "output_type": "display_data"
    }
   ],
   "source": [
    "bar_Northest=df_Northest['spender_flag'].value_counts().sort_index().plot.bar(color=['red','yellow','blueviolet'])"
   ]
  },
  {
   "cell_type": "code",
   "execution_count": 62,
   "id": "c7f8267a",
   "metadata": {},
   "outputs": [
    {
     "data": {
      "image/png": "[encoded data removed]",
      "text/plain": [
       "<Figure size 640x480 with 1 Axes>"
      ]
     },
     "metadata": {},
     "output_type": "display_data"
    }
   ],
   "source": [
    "bar_West=df_West['spender_flag'].value_counts().sort_index().plot.bar(color=['red','yellow','blueviolet'])"
   ]
  },
  {
   "cell_type": "code",
   "execution_count": 63,
   "id": "41e3301d",
   "metadata": {},
   "outputs": [
    {
     "data": {
      "image/png": "[encoded data removed]",
      "text/plain": [
       "<Figure size 640x480 with 1 Axes>"
      ]
     },
     "metadata": {},
     "output_type": "display_data"
    }
   ],
   "source": [
    "bar_Midwest=df_Midwest['spender_flag'].value_counts().sort_index().plot.bar(color=['red','yellow','blueviolet'])"
   ]
  },
  {
   "cell_type": "markdown",
   "id": "df9fcdb5",
   "metadata": {},
   "source": [
    "### it seems the ratio between High spender and Low spender is the same in all regions. To see the possible difference in High spender by region let's analyse this part of df"
   ]
  },
  {
   "cell_type": "markdown",
   "id": "f9a511b7",
   "metadata": {},
   "source": [
    "#### filtring to became High Spender data only , adding name of region and concatenating the data to get united df to analyse"
   ]
  },
  {
   "cell_type": "code",
   "execution_count": 65,
   "id": "5d54c100",
   "metadata": {},
   "outputs": [],
   "source": [
    "df_South_HS=df_South[df_South['spender_flag']=='High spender']"
   ]
  },
  {
   "cell_type": "code",
   "execution_count": 66,
   "id": "81079fb5",
   "metadata": {},
   "outputs": [],
   "source": [
    "df_South_HS.insert(1,'Region', \"South\")"
   ]
  },
  {
   "cell_type": "code",
   "execution_count": 67,
   "id": "42dfb7e3",
   "metadata": {},
   "outputs": [
    {
     "data": {
      "text/html": [
       "<div>\n",
       "<style scoped>\n",
       "    .dataframe tbody tr th:only-of-type {\n",
       "        vertical-align: middle;\n",
       "    }\n",
       "\n",
       "    .dataframe tbody tr th {\n",
       "        vertical-align: top;\n",
       "    }\n",
       "\n",
       "    .dataframe thead th {\n",
       "        text-align: right;\n",
       "    }\n",
       "</style>\n",
       "<table border=\"1\" class=\"dataframe\">\n",
       "  <thead>\n",
       "    <tr style=\"text-align: right;\">\n",
       "      <th></th>\n",
       "      <th>STATE</th>\n",
       "      <th>Region</th>\n",
       "      <th>spender_flag</th>\n",
       "    </tr>\n",
       "  </thead>\n",
       "  <tbody>\n",
       "    <tr>\n",
       "      <th>6814</th>\n",
       "      <td>Kentucky</td>\n",
       "      <td>South</td>\n",
       "      <td>High spender</td>\n",
       "    </tr>\n",
       "    <tr>\n",
       "      <th>6815</th>\n",
       "      <td>Kentucky</td>\n",
       "      <td>South</td>\n",
       "      <td>High spender</td>\n",
       "    </tr>\n",
       "    <tr>\n",
       "      <th>6816</th>\n",
       "      <td>Kentucky</td>\n",
       "      <td>South</td>\n",
       "      <td>High spender</td>\n",
       "    </tr>\n",
       "    <tr>\n",
       "      <th>6817</th>\n",
       "      <td>Kentucky</td>\n",
       "      <td>South</td>\n",
       "      <td>High spender</td>\n",
       "    </tr>\n",
       "    <tr>\n",
       "      <th>6818</th>\n",
       "      <td>Kentucky</td>\n",
       "      <td>South</td>\n",
       "      <td>High spender</td>\n",
       "    </tr>\n",
       "  </tbody>\n",
       "</table>\n",
       "</div>"
      ],
      "text/plain": [
       "         STATE Region  spender_flag\n",
       "6814  Kentucky  South  High spender\n",
       "6815  Kentucky  South  High spender\n",
       "6816  Kentucky  South  High spender\n",
       "6817  Kentucky  South  High spender\n",
       "6818  Kentucky  South  High spender"
      ]
     },
     "execution_count": 67,
     "metadata": {},
     "output_type": "execute_result"
    }
   ],
   "source": [
    "df_South_HS.head(5)"
   ]
  },
  {
   "cell_type": "code",
   "execution_count": 80,
   "id": "41e3b849",
   "metadata": {},
   "outputs": [
    {
     "data": {
      "text/plain": [
       "(212055, 3)"
      ]
     },
     "execution_count": 80,
     "metadata": {},
     "output_type": "execute_result"
    }
   ],
   "source": [
    "df_South_HS.shape"
   ]
  },
  {
   "cell_type": "code",
   "execution_count": 69,
   "id": "43186c52",
   "metadata": {},
   "outputs": [],
   "source": [
    "df_West_HS=df_West[df_West['spender_flag']=='High spender']"
   ]
  },
  {
   "cell_type": "code",
   "execution_count": 70,
   "id": "5c1d6ff8",
   "metadata": {},
   "outputs": [],
   "source": [
    "df_West_HS.insert(1,'Region', \"West\")"
   ]
  },
  {
   "cell_type": "code",
   "execution_count": 77,
   "id": "02246a67",
   "metadata": {},
   "outputs": [
    {
     "data": {
      "text/plain": [
       "(162216, 3)"
      ]
     },
     "execution_count": 77,
     "metadata": {},
     "output_type": "execute_result"
    }
   ],
   "source": [
    "df_West_HS.shape"
   ]
  },
  {
   "cell_type": "code",
   "execution_count": 71,
   "id": "a561c787",
   "metadata": {},
   "outputs": [],
   "source": [
    "df_Northest_HS=df_Northest[df_Northest['spender_flag']=='High spender']"
   ]
  },
  {
   "cell_type": "code",
   "execution_count": 72,
   "id": "d73deebc",
   "metadata": {},
   "outputs": [],
   "source": [
    "df_Northest_HS.insert(1,'Region', \"Northest\")"
   ]
  },
  {
   "cell_type": "code",
   "execution_count": 78,
   "id": "d9735128",
   "metadata": {},
   "outputs": [
    {
     "data": {
      "text/plain": [
       "(109234, 3)"
      ]
     },
     "execution_count": 78,
     "metadata": {},
     "output_type": "execute_result"
    }
   ],
   "source": [
    "df_Northest_HS.shape"
   ]
  },
  {
   "cell_type": "code",
   "execution_count": 73,
   "id": "ea54191e",
   "metadata": {},
   "outputs": [],
   "source": [
    "df_Midwest_HS=df_Midwest[df_Midwest['spender_flag']=='High spender']"
   ]
  },
  {
   "cell_type": "code",
   "execution_count": 74,
   "id": "28399c03",
   "metadata": {},
   "outputs": [],
   "source": [
    "df_Midwest_HS.insert(1,'Region', \"Midwest\")"
   ]
  },
  {
   "cell_type": "code",
   "execution_count": 79,
   "id": "85789ef0",
   "metadata": {},
   "outputs": [
    {
     "data": {
      "text/plain": [
       "(157410, 3)"
      ]
     },
     "execution_count": 79,
     "metadata": {},
     "output_type": "execute_result"
    }
   ],
   "source": [
    "df_Midwest_HS.shape"
   ]
  },
  {
   "cell_type": "markdown",
   "id": "d76a3ed0",
   "metadata": {},
   "source": [
    "####-- checking"
   ]
  },
  {
   "cell_type": "code",
   "execution_count": 81,
   "id": "90fbba9a",
   "metadata": {},
   "outputs": [
    {
     "data": {
      "text/plain": [
       "640915"
      ]
     },
     "execution_count": 81,
     "metadata": {},
     "output_type": "execute_result"
    }
   ],
   "source": [
    "df_West_HS.shape[0]+df_South_HS.shape[0]+df_Midwest_HS.shape[0]+df_Northest_HS.shape[0]"
   ]
  },
  {
   "cell_type": "markdown",
   "id": "91675100",
   "metadata": {},
   "source": [
    "#### --- concatenating one under one"
   ]
  },
  {
   "cell_type": "code",
   "execution_count": 75,
   "id": "287325d5",
   "metadata": {},
   "outputs": [],
   "source": [
    "df_HS=pd.concat([df_West_HS,df_Northest_HS, df_Midwest_HS,df_South_HS], ignore_index=True)"
   ]
  },
  {
   "cell_type": "code",
   "execution_count": 76,
   "id": "d0fb3544",
   "metadata": {},
   "outputs": [
    {
     "data": {
      "text/plain": [
       "(640915, 3)"
      ]
     },
     "execution_count": 76,
     "metadata": {},
     "output_type": "execute_result"
    }
   ],
   "source": [
    "df_HS.shape"
   ]
  },
  {
   "cell_type": "markdown",
   "id": "a4e780e8",
   "metadata": {},
   "source": [
    "#### ---creating visualisation of HS by region"
   ]
  },
  {
   "cell_type": "code",
   "execution_count": 82,
   "id": "d1ca8dd8",
   "metadata": {},
   "outputs": [
    {
     "data": {
      "image/png": "[encoded data removed]",
      "text/plain": [
       "<Figure size 640x480 with 1 Axes>"
      ]
     },
     "metadata": {},
     "output_type": "display_data"
    }
   ],
   "source": [
    "bar_HS=df_HS['Region'].value_counts().sort_index().plot.bar(color=['red','yellow','blueviolet','gray'])"
   ]
  },
  {
   "cell_type": "markdown",
   "id": "bc00a7bf",
   "metadata": {},
   "source": [
    "#### The plot shows South Region is leading by High spenders although the total number of orders is the lowest among the regions."
   ]
  },
  {
   "cell_type": "code",
   "execution_count": null,
   "id": "e404523f",
   "metadata": {},
   "outputs": [],
   "source": []
  },
  {
   "cell_type": "code",
   "execution_count": null,
   "id": "deb1baf7",
   "metadata": {},
   "outputs": [],
   "source": []
  },
  {
   "cell_type": "code",
   "execution_count": null,
   "id": "7173d47c",
   "metadata": {},
   "outputs": [],
   "source": []
  }
 ],
 "metadata": {
  "kernelspec": {
   "display_name": "Python 3 (ipykernel)",
   "language": "python",
   "name": "python3"
  },
  "language_info": {
   "codemirror_mode": {
    "name": "ipython",
    "version": 3
   },
   "file_extension": ".py",
   "mimetype": "text/x-python",
   "name": "python",
   "nbconvert_exporter": "python",
   "pygments_lexer": "ipython3",
   "version": "3.10.9"
  }
 },
 "nbformat": 4,
 "nbformat_minor": 5
}
