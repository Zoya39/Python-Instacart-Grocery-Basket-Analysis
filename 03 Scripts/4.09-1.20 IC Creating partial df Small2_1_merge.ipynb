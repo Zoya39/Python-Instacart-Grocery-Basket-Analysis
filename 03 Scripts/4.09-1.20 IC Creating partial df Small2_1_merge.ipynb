{
 "cells": [
  {
   "cell_type": "markdown",
   "id": "84b07eae",
   "metadata": {},
   "source": [
    "### 4.9- Part 1. Data Visualization with Python. Preparation df small2_1"
   ]
  },
  {
   "cell_type": "markdown",
   "id": "2417e1be",
   "metadata": {},
   "source": [
    "#### 4.9-1 Import libraries"
   ]
  },
  {
   "cell_type": "code",
   "execution_count": 4,
   "id": "6dad0d68",
   "metadata": {},
   "outputs": [],
   "source": [
    "import pandas as pd\n",
    "import numpy as np\n",
    "import os"
   ]
  },
  {
   "cell_type": "markdown",
   "id": "50bb260a",
   "metadata": {},
   "source": [
    "#### 4.9-2 Import files"
   ]
  },
  {
   "cell_type": "code",
   "execution_count": 5,
   "id": "399d8644",
   "metadata": {},
   "outputs": [],
   "source": [
    "path=r'C:\\Users\\user\\07-2023 Instacart Basket Analysis\\02 Data'"
   ]
  },
  {
   "cell_type": "markdown",
   "id": "090b6b94",
   "metadata": {},
   "source": [
    "#### - importing the Instacart data"
   ]
  },
  {
   "cell_type": "code",
   "execution_count": 6,
   "id": "3713d599",
   "metadata": {},
   "outputs": [],
   "source": [
    "df_flags=pd.read_pickle(os.path.join(path,'Prepared Data', 'merged_bdays_flags.pkl'))"
   ]
  },
  {
   "cell_type": "code",
   "execution_count": 7,
   "id": "15c8b1bf",
   "metadata": {},
   "outputs": [
    {
     "data": {
      "text/plain": [
       "product_id                float64\n",
       "product_name               object\n",
       "aisle_id                  float64\n",
       "department_id             float64\n",
       "prices                    float64\n",
       "order_id                  float64\n",
       "user_id                   float64\n",
       "eval_set                   object\n",
       "order_number              float64\n",
       "day_of_week               float64\n",
       "order_hour_of_day         float64\n",
       "days_since_prior_order    float64\n",
       "add_to_cart_order         float64\n",
       "reordered                 float64\n",
       "price_range_loc            object\n",
       "busiest_day                object\n",
       "busiest days               object\n",
       "max_order                 float64\n",
       "loyalty_flag               object\n",
       "mean_price                float64\n",
       "spender_flag               object\n",
       "median_days_sinse_ord     float64\n",
       "frequent_flag              object\n",
       "dtype: object"
      ]
     },
     "execution_count": 7,
     "metadata": {},
     "output_type": "execute_result"
    }
   ],
   "source": [
    "df_flags.dtypes"
   ]
  },
  {
   "cell_type": "code",
   "execution_count": 8,
   "id": "02f4c733",
   "metadata": {},
   "outputs": [
    {
     "data": {
      "text/plain": [
       "(32641279, 23)"
      ]
     },
     "execution_count": 8,
     "metadata": {},
     "output_type": "execute_result"
    }
   ],
   "source": [
    "df_flags.shape"
   ]
  },
  {
   "cell_type": "markdown",
   "id": "9e67ad18",
   "metadata": {},
   "source": [
    "#### Dtypes object and float is not ok because of memory problem. As I can not change data type because of NAN values, I will check df_flags for NANs and replace them. Rows with NANs in user_id will be deletet to process merging on this column in the future. "
   ]
  },
  {
   "cell_type": "markdown",
   "id": "f771f879",
   "metadata": {},
   "source": [
    "#### checking df for NANs in user_id"
   ]
  },
  {
   "cell_type": "code",
   "execution_count": 9,
   "id": "b325c523",
   "metadata": {},
   "outputs": [
    {
     "data": {
      "text/plain": [
       "11"
      ]
     },
     "execution_count": 9,
     "metadata": {},
     "output_type": "execute_result"
    }
   ],
   "source": [
    "df_flags['user_id'].isnull().sum()"
   ]
  },
  {
   "cell_type": "markdown",
   "id": "47fc6e5e",
   "metadata": {},
   "source": [
    "#### visualizing NANs rows"
   ]
  },
  {
   "cell_type": "code",
   "execution_count": 10,
   "id": "7aaf2202",
   "metadata": {},
   "outputs": [
    {
     "data": {
      "text/html": [
       "<div>\n",
       "<style scoped>\n",
       "    .dataframe tbody tr th:only-of-type {\n",
       "        vertical-align: middle;\n",
       "    }\n",
       "\n",
       "    .dataframe tbody tr th {\n",
       "        vertical-align: top;\n",
       "    }\n",
       "\n",
       "    .dataframe thead th {\n",
       "        text-align: right;\n",
       "    }\n",
       "</style>\n",
       "<table border=\"1\" class=\"dataframe\">\n",
       "  <thead>\n",
       "    <tr style=\"text-align: right;\">\n",
       "      <th></th>\n",
       "      <th>product_id</th>\n",
       "      <th>product_name</th>\n",
       "      <th>aisle_id</th>\n",
       "      <th>department_id</th>\n",
       "      <th>prices</th>\n",
       "      <th>order_id</th>\n",
       "      <th>user_id</th>\n",
       "      <th>eval_set</th>\n",
       "      <th>order_number</th>\n",
       "      <th>day_of_week</th>\n",
       "      <th>...</th>\n",
       "      <th>reordered</th>\n",
       "      <th>price_range_loc</th>\n",
       "      <th>busiest_day</th>\n",
       "      <th>busiest days</th>\n",
       "      <th>max_order</th>\n",
       "      <th>loyalty_flag</th>\n",
       "      <th>mean_price</th>\n",
       "      <th>spender_flag</th>\n",
       "      <th>median_days_sinse_ord</th>\n",
       "      <th>frequent_flag</th>\n",
       "    </tr>\n",
       "  </thead>\n",
       "  <tbody>\n",
       "    <tr>\n",
       "      <th>1738025</th>\n",
       "      <td>3630.0</td>\n",
       "      <td>Protein Granola Apple Crisp</td>\n",
       "      <td>57.0</td>\n",
       "      <td>14.0</td>\n",
       "      <td>2.6</td>\n",
       "      <td>NaN</td>\n",
       "      <td>NaN</td>\n",
       "      <td>NaN</td>\n",
       "      <td>NaN</td>\n",
       "      <td>NaN</td>\n",
       "      <td>...</td>\n",
       "      <td>NaN</td>\n",
       "      <td>low_range_product</td>\n",
       "      <td>Regularly busy</td>\n",
       "      <td>Regularly days</td>\n",
       "      <td>NaN</td>\n",
       "      <td>NaN</td>\n",
       "      <td>NaN</td>\n",
       "      <td>NaN</td>\n",
       "      <td>NaN</td>\n",
       "      <td>NaN</td>\n",
       "    </tr>\n",
       "    <tr>\n",
       "      <th>1768779</th>\n",
       "      <td>3718.0</td>\n",
       "      <td>Wasabi Cheddar Spreadable Cheese</td>\n",
       "      <td>21.0</td>\n",
       "      <td>16.0</td>\n",
       "      <td>12.0</td>\n",
       "      <td>NaN</td>\n",
       "      <td>NaN</td>\n",
       "      <td>NaN</td>\n",
       "      <td>NaN</td>\n",
       "      <td>NaN</td>\n",
       "      <td>...</td>\n",
       "      <td>NaN</td>\n",
       "      <td>mid_range_product</td>\n",
       "      <td>Regularly busy</td>\n",
       "      <td>Regularly days</td>\n",
       "      <td>NaN</td>\n",
       "      <td>NaN</td>\n",
       "      <td>NaN</td>\n",
       "      <td>NaN</td>\n",
       "      <td>NaN</td>\n",
       "      <td>NaN</td>\n",
       "    </tr>\n",
       "    <tr>\n",
       "      <th>4041119</th>\n",
       "      <td>7045.0</td>\n",
       "      <td>Unpeeled Apricot Halves in Heavy Syrup</td>\n",
       "      <td>88.0</td>\n",
       "      <td>13.0</td>\n",
       "      <td>6.8</td>\n",
       "      <td>NaN</td>\n",
       "      <td>NaN</td>\n",
       "      <td>NaN</td>\n",
       "      <td>NaN</td>\n",
       "      <td>NaN</td>\n",
       "      <td>...</td>\n",
       "      <td>NaN</td>\n",
       "      <td>mid_range_product</td>\n",
       "      <td>Regularly busy</td>\n",
       "      <td>Regularly days</td>\n",
       "      <td>NaN</td>\n",
       "      <td>NaN</td>\n",
       "      <td>NaN</td>\n",
       "      <td>NaN</td>\n",
       "      <td>NaN</td>\n",
       "      <td>NaN</td>\n",
       "    </tr>\n",
       "    <tr>\n",
       "      <th>16268144</th>\n",
       "      <td>25383.0</td>\n",
       "      <td>Chocolate Go Bites</td>\n",
       "      <td>61.0</td>\n",
       "      <td>19.0</td>\n",
       "      <td>1.8</td>\n",
       "      <td>NaN</td>\n",
       "      <td>NaN</td>\n",
       "      <td>NaN</td>\n",
       "      <td>NaN</td>\n",
       "      <td>NaN</td>\n",
       "      <td>...</td>\n",
       "      <td>NaN</td>\n",
       "      <td>low_range_product</td>\n",
       "      <td>Regularly busy</td>\n",
       "      <td>Regularly days</td>\n",
       "      <td>NaN</td>\n",
       "      <td>NaN</td>\n",
       "      <td>NaN</td>\n",
       "      <td>NaN</td>\n",
       "      <td>NaN</td>\n",
       "      <td>NaN</td>\n",
       "    </tr>\n",
       "    <tr>\n",
       "      <th>17804187</th>\n",
       "      <td>27499.0</td>\n",
       "      <td>Non-Dairy Coconut Seven Layer Bar</td>\n",
       "      <td>100.0</td>\n",
       "      <td>21.0</td>\n",
       "      <td>15.0</td>\n",
       "      <td>NaN</td>\n",
       "      <td>NaN</td>\n",
       "      <td>NaN</td>\n",
       "      <td>NaN</td>\n",
       "      <td>NaN</td>\n",
       "      <td>...</td>\n",
       "      <td>NaN</td>\n",
       "      <td>mid_range_product</td>\n",
       "      <td>Regularly busy</td>\n",
       "      <td>Regularly days</td>\n",
       "      <td>NaN</td>\n",
       "      <td>NaN</td>\n",
       "      <td>NaN</td>\n",
       "      <td>NaN</td>\n",
       "      <td>NaN</td>\n",
       "      <td>NaN</td>\n",
       "    </tr>\n",
       "    <tr>\n",
       "      <th>23482218</th>\n",
       "      <td>36233.0</td>\n",
       "      <td>Water With Electrolytes</td>\n",
       "      <td>100.0</td>\n",
       "      <td>21.0</td>\n",
       "      <td>10.4</td>\n",
       "      <td>NaN</td>\n",
       "      <td>NaN</td>\n",
       "      <td>NaN</td>\n",
       "      <td>NaN</td>\n",
       "      <td>NaN</td>\n",
       "      <td>...</td>\n",
       "      <td>NaN</td>\n",
       "      <td>mid_range_product</td>\n",
       "      <td>Regularly busy</td>\n",
       "      <td>Regularly days</td>\n",
       "      <td>NaN</td>\n",
       "      <td>NaN</td>\n",
       "      <td>NaN</td>\n",
       "      <td>NaN</td>\n",
       "      <td>NaN</td>\n",
       "      <td>NaN</td>\n",
       "    </tr>\n",
       "    <tr>\n",
       "      <th>24232636</th>\n",
       "      <td>37703.0</td>\n",
       "      <td>Ultra Sun Blossom Liquid 90 loads Fabric Enhan...</td>\n",
       "      <td>75.0</td>\n",
       "      <td>17.0</td>\n",
       "      <td>14.3</td>\n",
       "      <td>NaN</td>\n",
       "      <td>NaN</td>\n",
       "      <td>NaN</td>\n",
       "      <td>NaN</td>\n",
       "      <td>NaN</td>\n",
       "      <td>...</td>\n",
       "      <td>NaN</td>\n",
       "      <td>mid_range_product</td>\n",
       "      <td>Regularly busy</td>\n",
       "      <td>Regularly days</td>\n",
       "      <td>NaN</td>\n",
       "      <td>NaN</td>\n",
       "      <td>NaN</td>\n",
       "      <td>NaN</td>\n",
       "      <td>NaN</td>\n",
       "      <td>NaN</td>\n",
       "    </tr>\n",
       "    <tr>\n",
       "      <th>28037267</th>\n",
       "      <td>43725.0</td>\n",
       "      <td>Sweetart Jelly Beans</td>\n",
       "      <td>100.0</td>\n",
       "      <td>21.0</td>\n",
       "      <td>8.1</td>\n",
       "      <td>NaN</td>\n",
       "      <td>NaN</td>\n",
       "      <td>NaN</td>\n",
       "      <td>NaN</td>\n",
       "      <td>NaN</td>\n",
       "      <td>...</td>\n",
       "      <td>NaN</td>\n",
       "      <td>mid_range_product</td>\n",
       "      <td>Regularly busy</td>\n",
       "      <td>Regularly days</td>\n",
       "      <td>NaN</td>\n",
       "      <td>NaN</td>\n",
       "      <td>NaN</td>\n",
       "      <td>NaN</td>\n",
       "      <td>NaN</td>\n",
       "      <td>NaN</td>\n",
       "    </tr>\n",
       "    <tr>\n",
       "      <th>29658742</th>\n",
       "      <td>45971.0</td>\n",
       "      <td>12 Inch Taper Candle White</td>\n",
       "      <td>101.0</td>\n",
       "      <td>17.0</td>\n",
       "      <td>9.8</td>\n",
       "      <td>NaN</td>\n",
       "      <td>NaN</td>\n",
       "      <td>NaN</td>\n",
       "      <td>NaN</td>\n",
       "      <td>NaN</td>\n",
       "      <td>...</td>\n",
       "      <td>NaN</td>\n",
       "      <td>mid_range_product</td>\n",
       "      <td>Regularly busy</td>\n",
       "      <td>Regularly days</td>\n",
       "      <td>NaN</td>\n",
       "      <td>NaN</td>\n",
       "      <td>NaN</td>\n",
       "      <td>NaN</td>\n",
       "      <td>NaN</td>\n",
       "      <td>NaN</td>\n",
       "    </tr>\n",
       "    <tr>\n",
       "      <th>29930524</th>\n",
       "      <td>46625.0</td>\n",
       "      <td>Single Barrel Kentucky Straight Bourbon Whiskey</td>\n",
       "      <td>31.0</td>\n",
       "      <td>7.0</td>\n",
       "      <td>1.7</td>\n",
       "      <td>NaN</td>\n",
       "      <td>NaN</td>\n",
       "      <td>NaN</td>\n",
       "      <td>NaN</td>\n",
       "      <td>NaN</td>\n",
       "      <td>...</td>\n",
       "      <td>NaN</td>\n",
       "      <td>low_range_product</td>\n",
       "      <td>Regularly busy</td>\n",
       "      <td>Regularly days</td>\n",
       "      <td>NaN</td>\n",
       "      <td>NaN</td>\n",
       "      <td>NaN</td>\n",
       "      <td>NaN</td>\n",
       "      <td>NaN</td>\n",
       "      <td>NaN</td>\n",
       "    </tr>\n",
       "    <tr>\n",
       "      <th>32282913</th>\n",
       "      <td>49540.0</td>\n",
       "      <td>Pure Squeezed  Lemonade</td>\n",
       "      <td>31.0</td>\n",
       "      <td>7.0</td>\n",
       "      <td>9.1</td>\n",
       "      <td>NaN</td>\n",
       "      <td>NaN</td>\n",
       "      <td>NaN</td>\n",
       "      <td>NaN</td>\n",
       "      <td>NaN</td>\n",
       "      <td>...</td>\n",
       "      <td>NaN</td>\n",
       "      <td>mid_range_product</td>\n",
       "      <td>Regularly busy</td>\n",
       "      <td>Regularly days</td>\n",
       "      <td>NaN</td>\n",
       "      <td>NaN</td>\n",
       "      <td>NaN</td>\n",
       "      <td>NaN</td>\n",
       "      <td>NaN</td>\n",
       "      <td>NaN</td>\n",
       "    </tr>\n",
       "  </tbody>\n",
       "</table>\n",
       "<p>11 rows × 23 columns</p>\n",
       "</div>"
      ],
      "text/plain": [
       "          product_id                                       product_name  \\\n",
       "1738025       3630.0                        Protein Granola Apple Crisp   \n",
       "1768779       3718.0                   Wasabi Cheddar Spreadable Cheese   \n",
       "4041119       7045.0             Unpeeled Apricot Halves in Heavy Syrup   \n",
       "16268144     25383.0                                 Chocolate Go Bites   \n",
       "17804187     27499.0                  Non-Dairy Coconut Seven Layer Bar   \n",
       "23482218     36233.0                            Water With Electrolytes   \n",
       "24232636     37703.0  Ultra Sun Blossom Liquid 90 loads Fabric Enhan...   \n",
       "28037267     43725.0                               Sweetart Jelly Beans   \n",
       "29658742     45971.0                         12 Inch Taper Candle White   \n",
       "29930524     46625.0    Single Barrel Kentucky Straight Bourbon Whiskey   \n",
       "32282913     49540.0                            Pure Squeezed  Lemonade   \n",
       "\n",
       "          aisle_id  department_id  prices  order_id  user_id eval_set  \\\n",
       "1738025       57.0           14.0     2.6       NaN      NaN      NaN   \n",
       "1768779       21.0           16.0    12.0       NaN      NaN      NaN   \n",
       "4041119       88.0           13.0     6.8       NaN      NaN      NaN   \n",
       "16268144      61.0           19.0     1.8       NaN      NaN      NaN   \n",
       "17804187     100.0           21.0    15.0       NaN      NaN      NaN   \n",
       "23482218     100.0           21.0    10.4       NaN      NaN      NaN   \n",
       "24232636      75.0           17.0    14.3       NaN      NaN      NaN   \n",
       "28037267     100.0           21.0     8.1       NaN      NaN      NaN   \n",
       "29658742     101.0           17.0     9.8       NaN      NaN      NaN   \n",
       "29930524      31.0            7.0     1.7       NaN      NaN      NaN   \n",
       "32282913      31.0            7.0     9.1       NaN      NaN      NaN   \n",
       "\n",
       "          order_number  day_of_week  ...  reordered    price_range_loc  \\\n",
       "1738025            NaN          NaN  ...        NaN  low_range_product   \n",
       "1768779            NaN          NaN  ...        NaN  mid_range_product   \n",
       "4041119            NaN          NaN  ...        NaN  mid_range_product   \n",
       "16268144           NaN          NaN  ...        NaN  low_range_product   \n",
       "17804187           NaN          NaN  ...        NaN  mid_range_product   \n",
       "23482218           NaN          NaN  ...        NaN  mid_range_product   \n",
       "24232636           NaN          NaN  ...        NaN  mid_range_product   \n",
       "28037267           NaN          NaN  ...        NaN  mid_range_product   \n",
       "29658742           NaN          NaN  ...        NaN  mid_range_product   \n",
       "29930524           NaN          NaN  ...        NaN  low_range_product   \n",
       "32282913           NaN          NaN  ...        NaN  mid_range_product   \n",
       "\n",
       "             busiest_day    busiest days max_order loyalty_flag mean_price  \\\n",
       "1738025   Regularly busy  Regularly days       NaN          NaN        NaN   \n",
       "1768779   Regularly busy  Regularly days       NaN          NaN        NaN   \n",
       "4041119   Regularly busy  Regularly days       NaN          NaN        NaN   \n",
       "16268144  Regularly busy  Regularly days       NaN          NaN        NaN   \n",
       "17804187  Regularly busy  Regularly days       NaN          NaN        NaN   \n",
       "23482218  Regularly busy  Regularly days       NaN          NaN        NaN   \n",
       "24232636  Regularly busy  Regularly days       NaN          NaN        NaN   \n",
       "28037267  Regularly busy  Regularly days       NaN          NaN        NaN   \n",
       "29658742  Regularly busy  Regularly days       NaN          NaN        NaN   \n",
       "29930524  Regularly busy  Regularly days       NaN          NaN        NaN   \n",
       "32282913  Regularly busy  Regularly days       NaN          NaN        NaN   \n",
       "\n",
       "          spender_flag median_days_sinse_ord  frequent_flag  \n",
       "1738025            NaN                   NaN            NaN  \n",
       "1768779            NaN                   NaN            NaN  \n",
       "4041119            NaN                   NaN            NaN  \n",
       "16268144           NaN                   NaN            NaN  \n",
       "17804187           NaN                   NaN            NaN  \n",
       "23482218           NaN                   NaN            NaN  \n",
       "24232636           NaN                   NaN            NaN  \n",
       "28037267           NaN                   NaN            NaN  \n",
       "29658742           NaN                   NaN            NaN  \n",
       "29930524           NaN                   NaN            NaN  \n",
       "32282913           NaN                   NaN            NaN  \n",
       "\n",
       "[11 rows x 23 columns]"
      ]
     },
     "execution_count": 10,
     "metadata": {},
     "output_type": "execute_result"
    }
   ],
   "source": [
    "df_flags[df_flags['user_id'].isnull() == True]"
   ]
  },
  {
   "cell_type": "markdown",
   "id": "32cacba9",
   "metadata": {},
   "source": [
    "#### creating df without NANs in 'user_id'"
   ]
  },
  {
   "cell_type": "code",
   "execution_count": 11,
   "id": "fa4c959a",
   "metadata": {},
   "outputs": [],
   "source": [
    "df_flags_noNANs=df_flags[df_flags['user_id'].isnull() == False]"
   ]
  },
  {
   "cell_type": "code",
   "execution_count": 12,
   "id": "3403dd0f",
   "metadata": {},
   "outputs": [
    {
     "data": {
      "text/plain": [
       "(32641268, 23)"
      ]
     },
     "execution_count": 12,
     "metadata": {},
     "output_type": "execute_result"
    }
   ],
   "source": [
    "df_flags_noNANs.shape"
   ]
  },
  {
   "cell_type": "code",
   "execution_count": 13,
   "id": "ba66218a",
   "metadata": {},
   "outputs": [
    {
     "data": {
      "text/plain": [
       "product_id                float64\n",
       "product_name               object\n",
       "aisle_id                  float64\n",
       "department_id             float64\n",
       "prices                    float64\n",
       "order_id                  float64\n",
       "user_id                   float64\n",
       "eval_set                   object\n",
       "order_number              float64\n",
       "day_of_week               float64\n",
       "order_hour_of_day         float64\n",
       "days_since_prior_order    float64\n",
       "add_to_cart_order         float64\n",
       "reordered                 float64\n",
       "price_range_loc            object\n",
       "busiest_day                object\n",
       "busiest days               object\n",
       "max_order                 float64\n",
       "loyalty_flag               object\n",
       "mean_price                float64\n",
       "spender_flag               object\n",
       "median_days_sinse_ord     float64\n",
       "frequent_flag              object\n",
       "dtype: object"
      ]
     },
     "execution_count": 13,
     "metadata": {},
     "output_type": "execute_result"
    }
   ],
   "source": [
    "df_flags_noNANs.dtypes"
   ]
  },
  {
   "cell_type": "markdown",
   "id": "4dbc949b",
   "metadata": {},
   "source": [
    "#### -checking the result"
   ]
  },
  {
   "cell_type": "code",
   "execution_count": 14,
   "id": "22e8b83f",
   "metadata": {},
   "outputs": [
    {
     "data": {
      "text/plain": [
       "(32641268, 23)"
      ]
     },
     "execution_count": 14,
     "metadata": {},
     "output_type": "execute_result"
    }
   ],
   "source": [
    "df_flags_noNANs.shape"
   ]
  },
  {
   "cell_type": "code",
   "execution_count": 15,
   "id": "2fdc716a",
   "metadata": {},
   "outputs": [
    {
     "data": {
      "text/html": [
       "<div>\n",
       "<style scoped>\n",
       "    .dataframe tbody tr th:only-of-type {\n",
       "        vertical-align: middle;\n",
       "    }\n",
       "\n",
       "    .dataframe tbody tr th {\n",
       "        vertical-align: top;\n",
       "    }\n",
       "\n",
       "    .dataframe thead th {\n",
       "        text-align: right;\n",
       "    }\n",
       "</style>\n",
       "<table border=\"1\" class=\"dataframe\">\n",
       "  <thead>\n",
       "    <tr style=\"text-align: right;\">\n",
       "      <th></th>\n",
       "      <th>product_id</th>\n",
       "      <th>product_name</th>\n",
       "      <th>aisle_id</th>\n",
       "      <th>department_id</th>\n",
       "      <th>prices</th>\n",
       "      <th>order_id</th>\n",
       "      <th>user_id</th>\n",
       "      <th>eval_set</th>\n",
       "      <th>order_number</th>\n",
       "      <th>day_of_week</th>\n",
       "      <th>...</th>\n",
       "      <th>reordered</th>\n",
       "      <th>price_range_loc</th>\n",
       "      <th>busiest_day</th>\n",
       "      <th>busiest days</th>\n",
       "      <th>max_order</th>\n",
       "      <th>loyalty_flag</th>\n",
       "      <th>mean_price</th>\n",
       "      <th>spender_flag</th>\n",
       "      <th>median_days_sinse_ord</th>\n",
       "      <th>frequent_flag</th>\n",
       "    </tr>\n",
       "  </thead>\n",
       "  <tbody>\n",
       "    <tr>\n",
       "      <th>0</th>\n",
       "      <td>1.0</td>\n",
       "      <td>Chocolate Sandwich Cookies</td>\n",
       "      <td>61.0</td>\n",
       "      <td>19.0</td>\n",
       "      <td>5.8</td>\n",
       "      <td>3139998.0</td>\n",
       "      <td>138.0</td>\n",
       "      <td>prior</td>\n",
       "      <td>28.0</td>\n",
       "      <td>6.0</td>\n",
       "      <td>...</td>\n",
       "      <td>0.0</td>\n",
       "      <td>mid_range_product</td>\n",
       "      <td>Regularly busy</td>\n",
       "      <td>Regularly days</td>\n",
       "      <td>33.0</td>\n",
       "      <td>Regular customer</td>\n",
       "      <td>6.935811</td>\n",
       "      <td>Low spender</td>\n",
       "      <td>8.0</td>\n",
       "      <td>Frequent customer</td>\n",
       "    </tr>\n",
       "    <tr>\n",
       "      <th>1</th>\n",
       "      <td>1.0</td>\n",
       "      <td>Chocolate Sandwich Cookies</td>\n",
       "      <td>61.0</td>\n",
       "      <td>19.0</td>\n",
       "      <td>5.8</td>\n",
       "      <td>1977647.0</td>\n",
       "      <td>138.0</td>\n",
       "      <td>prior</td>\n",
       "      <td>30.0</td>\n",
       "      <td>6.0</td>\n",
       "      <td>...</td>\n",
       "      <td>1.0</td>\n",
       "      <td>mid_range_product</td>\n",
       "      <td>Regularly busy</td>\n",
       "      <td>Regularly days</td>\n",
       "      <td>33.0</td>\n",
       "      <td>Regular customer</td>\n",
       "      <td>6.935811</td>\n",
       "      <td>Low spender</td>\n",
       "      <td>8.0</td>\n",
       "      <td>Frequent customer</td>\n",
       "    </tr>\n",
       "  </tbody>\n",
       "</table>\n",
       "<p>2 rows × 23 columns</p>\n",
       "</div>"
      ],
      "text/plain": [
       "   product_id                product_name  aisle_id  department_id  prices  \\\n",
       "0         1.0  Chocolate Sandwich Cookies      61.0           19.0     5.8   \n",
       "1         1.0  Chocolate Sandwich Cookies      61.0           19.0     5.8   \n",
       "\n",
       "    order_id  user_id eval_set  order_number  day_of_week  ...  reordered  \\\n",
       "0  3139998.0    138.0    prior          28.0          6.0  ...        0.0   \n",
       "1  1977647.0    138.0    prior          30.0          6.0  ...        1.0   \n",
       "\n",
       "     price_range_loc     busiest_day    busiest days max_order  \\\n",
       "0  mid_range_product  Regularly busy  Regularly days      33.0   \n",
       "1  mid_range_product  Regularly busy  Regularly days      33.0   \n",
       "\n",
       "       loyalty_flag mean_price  spender_flag median_days_sinse_ord  \\\n",
       "0  Regular customer   6.935811   Low spender                   8.0   \n",
       "1  Regular customer   6.935811   Low spender                   8.0   \n",
       "\n",
       "       frequent_flag  \n",
       "0  Frequent customer  \n",
       "1  Frequent customer  \n",
       "\n",
       "[2 rows x 23 columns]"
      ]
     },
     "execution_count": 15,
     "metadata": {},
     "output_type": "execute_result"
    }
   ],
   "source": [
    "df_flags_noNANs.head(2)"
   ]
  },
  {
   "cell_type": "markdown",
   "id": "28c16252",
   "metadata": {},
   "source": [
    "#### -- to avoid the Memory Error I will devide df for 4 parts"
   ]
  },
  {
   "cell_type": "markdown",
   "id": "0b435d6c",
   "metadata": {},
   "source": [
    "#### -- creating a sample"
   ]
  },
  {
   "cell_type": "markdown",
   "id": "f6b72ca4",
   "metadata": {},
   "source": [
    "#### -- creating list of random values False/True to the test np.random.rand<=0.8"
   ]
  },
  {
   "cell_type": "code",
   "execution_count": 16,
   "id": "1850bbd0",
   "metadata": {},
   "outputs": [],
   "source": [
    "np.random.seed(4)\n",
    "dev = np.random.rand(len(df_flags_noNANs)) <= 0.8"
   ]
  },
  {
   "cell_type": "markdown",
   "id": "65d9cde9",
   "metadata": {},
   "source": [
    "##### --- store 80 % of sample in the df big"
   ]
  },
  {
   "cell_type": "code",
   "execution_count": 17,
   "id": "87994b9b",
   "metadata": {},
   "outputs": [],
   "source": [
    "big=df_flags_noNANs[dev]"
   ]
  },
  {
   "cell_type": "markdown",
   "id": "6941b82f",
   "metadata": {},
   "source": [
    "#### --- store 20% of sample in the df small"
   ]
  },
  {
   "cell_type": "code",
   "execution_count": 18,
   "id": "d58bb5cf",
   "metadata": {},
   "outputs": [],
   "source": [
    "small1=df_flags_noNANs[~dev]"
   ]
  },
  {
   "cell_type": "markdown",
   "id": "9d578de4",
   "metadata": {},
   "source": [
    "#### -- checking small and big"
   ]
  },
  {
   "cell_type": "code",
   "execution_count": 19,
   "id": "8504013a",
   "metadata": {},
   "outputs": [
    {
     "data": {
      "text/plain": [
       "32641268"
      ]
     },
     "execution_count": 19,
     "metadata": {},
     "output_type": "execute_result"
    }
   ],
   "source": [
    "len(df_flags_noNANs)"
   ]
  },
  {
   "cell_type": "code",
   "execution_count": 20,
   "id": "c79b4fa2",
   "metadata": {},
   "outputs": [
    {
     "data": {
      "text/plain": [
       "32641268"
      ]
     },
     "execution_count": 20,
     "metadata": {},
     "output_type": "execute_result"
    }
   ],
   "source": [
    "len(small1)+len(big)"
   ]
  },
  {
   "cell_type": "markdown",
   "id": "2f3f71f7",
   "metadata": {},
   "source": [
    "### now the devision of df is to repeat(80% to 20% and 60%)"
   ]
  },
  {
   "cell_type": "markdown",
   "id": "24b98e2b",
   "metadata": {},
   "source": [
    "#### #### -- creating list of random values False/True to the test np.random.rand<=0.75"
   ]
  },
  {
   "cell_type": "code",
   "execution_count": 21,
   "id": "605cf287",
   "metadata": {},
   "outputs": [],
   "source": [
    "np.random.seed(4)\n",
    "dev = np.random.rand(len(big)) <= 0.75"
   ]
  },
  {
   "cell_type": "markdown",
   "id": "f0a61de1",
   "metadata": {},
   "source": [
    "#### Division of big to big2 and small2 (80% to 20% and 60%)"
   ]
  },
  {
   "cell_type": "code",
   "execution_count": 22,
   "id": "f6973324",
   "metadata": {},
   "outputs": [],
   "source": [
    "big2=big[dev]"
   ]
  },
  {
   "cell_type": "code",
   "execution_count": 23,
   "id": "13d6b3d7",
   "metadata": {},
   "outputs": [],
   "source": [
    "small2=big[~dev]"
   ]
  },
  {
   "cell_type": "code",
   "execution_count": null,
   "id": "fa49a29e",
   "metadata": {},
   "outputs": [],
   "source": []
  },
  {
   "cell_type": "markdown",
   "id": "40dcb967",
   "metadata": {},
   "source": [
    "#### trying to make the data less heavy"
   ]
  },
  {
   "cell_type": "markdown",
   "id": "0f243344",
   "metadata": {},
   "source": [
    "#### - first of allpelacing NANs"
   ]
  },
  {
   "cell_type": "code",
   "execution_count": 24,
   "id": "882af9e3",
   "metadata": {},
   "outputs": [
    {
     "data": {
      "text/plain": [
       "product_id                 41487\n",
       "product_name               47366\n",
       "aisle_id                   41925\n",
       "department_id              41925\n",
       "prices                     41925\n",
       "order_id                       0\n",
       "user_id                        0\n",
       "eval_set                       0\n",
       "order_number                   0\n",
       "day_of_week                    0\n",
       "order_hour_of_day              0\n",
       "days_since_prior_order         0\n",
       "add_to_cart_order          41487\n",
       "reordered                  41487\n",
       "price_range_loc            41925\n",
       "busiest_day                    0\n",
       "busiest days                   0\n",
       "max_order                      0\n",
       "loyalty_flag                   0\n",
       "mean_price                     0\n",
       "spender_flag                   0\n",
       "median_days_sinse_ord          0\n",
       "frequent_flag             329454\n",
       "dtype: int64"
      ]
     },
     "execution_count": 24,
     "metadata": {},
     "output_type": "execute_result"
    }
   ],
   "source": [
    "small2.isnull().sum()"
   ]
  },
  {
   "cell_type": "markdown",
   "id": "138cac12",
   "metadata": {},
   "source": [
    "#### changing NANs to 0 and empty string (' ')"
   ]
  },
  {
   "cell_type": "code",
   "execution_count": 25,
   "id": "ef61d286",
   "metadata": {},
   "outputs": [],
   "source": [
    "small2.loc[np.isnan(small2['product_id']), 'product_id']=0"
   ]
  },
  {
   "cell_type": "code",
   "execution_count": 26,
   "id": "c42f5783",
   "metadata": {},
   "outputs": [],
   "source": [
    "small2.loc[np.isnan(small2['prices']), 'prices']=0"
   ]
  },
  {
   "cell_type": "code",
   "execution_count": 27,
   "id": "02128fbf",
   "metadata": {},
   "outputs": [],
   "source": [
    "small2.loc[np.isnan(small2['aisle_id']), 'aisle_id']=0"
   ]
  },
  {
   "cell_type": "code",
   "execution_count": 28,
   "id": "7b6f2fbc",
   "metadata": {},
   "outputs": [],
   "source": [
    "small2.loc[np.isnan(small2['department_id']), 'department_id']=0"
   ]
  },
  {
   "cell_type": "code",
   "execution_count": 29,
   "id": "ef393b3d",
   "metadata": {},
   "outputs": [],
   "source": [
    "small2.loc[np.isnan(small2['add_to_cart_order']), 'add_to_cart_order']=0"
   ]
  },
  {
   "cell_type": "code",
   "execution_count": 30,
   "id": "bca1f9dd",
   "metadata": {},
   "outputs": [],
   "source": [
    "small2.loc[np.isnan(small2['reordered']), 'reordered']=0"
   ]
  },
  {
   "cell_type": "code",
   "execution_count": 31,
   "id": "dd0a6b09",
   "metadata": {},
   "outputs": [],
   "source": [
    "small2_1=small2.fillna(\"\")"
   ]
  },
  {
   "cell_type": "code",
   "execution_count": 32,
   "id": "b19aa28a",
   "metadata": {},
   "outputs": [
    {
     "data": {
      "text/plain": [
       "product_id                0\n",
       "product_name              0\n",
       "aisle_id                  0\n",
       "department_id             0\n",
       "prices                    0\n",
       "order_id                  0\n",
       "user_id                   0\n",
       "eval_set                  0\n",
       "order_number              0\n",
       "day_of_week               0\n",
       "order_hour_of_day         0\n",
       "days_since_prior_order    0\n",
       "add_to_cart_order         0\n",
       "reordered                 0\n",
       "price_range_loc           0\n",
       "busiest_day               0\n",
       "busiest days              0\n",
       "max_order                 0\n",
       "loyalty_flag              0\n",
       "mean_price                0\n",
       "spender_flag              0\n",
       "median_days_sinse_ord     0\n",
       "frequent_flag             0\n",
       "dtype: int64"
      ]
     },
     "execution_count": 32,
     "metadata": {},
     "output_type": "execute_result"
    }
   ],
   "source": [
    "small2_1.isnull().sum()"
   ]
  },
  {
   "cell_type": "markdown",
   "id": "c5a16a82",
   "metadata": {},
   "source": [
    "#### -changing dtypes in df small1_1"
   ]
  },
  {
   "cell_type": "code",
   "execution_count": 33,
   "id": "ae7f5b46",
   "metadata": {},
   "outputs": [
    {
     "data": {
      "text/plain": [
       "(6527173, 23)"
      ]
     },
     "execution_count": 33,
     "metadata": {},
     "output_type": "execute_result"
    }
   ],
   "source": [
    "small2_1.shape"
   ]
  },
  {
   "cell_type": "code",
   "execution_count": 34,
   "id": "7bca2f28",
   "metadata": {},
   "outputs": [
    {
     "data": {
      "text/plain": [
       "product_id                float64\n",
       "product_name               object\n",
       "aisle_id                  float64\n",
       "department_id             float64\n",
       "prices                    float64\n",
       "order_id                  float64\n",
       "user_id                   float64\n",
       "eval_set                   object\n",
       "order_number              float64\n",
       "day_of_week               float64\n",
       "order_hour_of_day         float64\n",
       "days_since_prior_order    float64\n",
       "add_to_cart_order         float64\n",
       "reordered                 float64\n",
       "price_range_loc            object\n",
       "busiest_day                object\n",
       "busiest days               object\n",
       "max_order                 float64\n",
       "loyalty_flag               object\n",
       "mean_price                float64\n",
       "spender_flag               object\n",
       "median_days_sinse_ord     float64\n",
       "frequent_flag              object\n",
       "dtype: object"
      ]
     },
     "execution_count": 34,
     "metadata": {},
     "output_type": "execute_result"
    }
   ],
   "source": [
    "small2_1.dtypes"
   ]
  },
  {
   "cell_type": "markdown",
   "id": "8419aeac",
   "metadata": {},
   "source": [
    "#### changing float to int64"
   ]
  },
  {
   "cell_type": "code",
   "execution_count": 35,
   "id": "c477fc3e",
   "metadata": {},
   "outputs": [],
   "source": [
    "small2_1=small2_1.astype({'product_id':np.int64, 'aisle_id':np.int64, 'department_id':np.int64 , \n",
    "                          'order_id':np.int64,'user_id':np.int64,'order_number':np.int64,\n",
    "                          'day_of_week':np.int64,'order_hour_of_day':np.int64,'max_order':np.int64,\n",
    "                          'days_since_prior_order':np.int64,'median_days_sinse_ord':np.int64,\n",
    "                          'max_order':np.int64,'order_number':np.int64,'days_since_prior_order':np.int64,\n",
    "                          'reordered':np.int64, 'add_to_cart_order':np.int64,\n",
    "                          'reordered':np.int64, 'add_to_cart_order':np.int64})"
   ]
  },
  {
   "cell_type": "code",
   "execution_count": 36,
   "id": "af99fce8",
   "metadata": {},
   "outputs": [
    {
     "data": {
      "text/plain": [
       "product_id                  int64\n",
       "product_name               object\n",
       "aisle_id                    int64\n",
       "department_id               int64\n",
       "prices                    float64\n",
       "order_id                    int64\n",
       "user_id                     int64\n",
       "eval_set                   object\n",
       "order_number                int64\n",
       "day_of_week                 int64\n",
       "order_hour_of_day           int64\n",
       "days_since_prior_order      int64\n",
       "add_to_cart_order           int64\n",
       "reordered                   int64\n",
       "price_range_loc            object\n",
       "busiest_day                object\n",
       "busiest days               object\n",
       "max_order                   int64\n",
       "loyalty_flag               object\n",
       "mean_price                float64\n",
       "spender_flag               object\n",
       "median_days_sinse_ord       int64\n",
       "frequent_flag              object\n",
       "dtype: object"
      ]
     },
     "execution_count": 36,
     "metadata": {},
     "output_type": "execute_result"
    }
   ],
   "source": [
    "small2_1.dtypes"
   ]
  },
  {
   "cell_type": "markdown",
   "id": "48d7c083",
   "metadata": {},
   "source": [
    "#### changing object dtypes to string"
   ]
  },
  {
   "cell_type": "code",
   "execution_count": 38,
   "id": "518688f0",
   "metadata": {},
   "outputs": [],
   "source": [
    "small2_1['product_name']=small2_1['product_name'].astype('string')"
   ]
  },
  {
   "cell_type": "code",
   "execution_count": 40,
   "id": "6ae27fa7",
   "metadata": {},
   "outputs": [],
   "source": [
    "small2_1['eval_set']=small2_1['eval_set'].astype('string')"
   ]
  },
  {
   "cell_type": "code",
   "execution_count": 41,
   "id": "c9529722",
   "metadata": {},
   "outputs": [],
   "source": [
    "small2_1['price_range_loc']=small2_1['price_range_loc'].astype('string')"
   ]
  },
  {
   "cell_type": "code",
   "execution_count": 42,
   "id": "29385784",
   "metadata": {},
   "outputs": [],
   "source": [
    "small2_1['busiest_day']=small2_1['busiest days'].astype('string')"
   ]
  },
  {
   "cell_type": "code",
   "execution_count": 43,
   "id": "032e5ff1",
   "metadata": {},
   "outputs": [],
   "source": [
    "small2_1['busiest days']=small2_1['busiest days'].astype('string')"
   ]
  },
  {
   "cell_type": "code",
   "execution_count": 44,
   "id": "195788aa",
   "metadata": {},
   "outputs": [],
   "source": [
    "small2_1['loyalty_flag']=small2_1['loyalty_flag'].astype('string')"
   ]
  },
  {
   "cell_type": "code",
   "execution_count": 45,
   "id": "6a2fa74f",
   "metadata": {},
   "outputs": [],
   "source": [
    "small2_1['spender_flag']=small2_1['spender_flag'].astype('string')"
   ]
  },
  {
   "cell_type": "code",
   "execution_count": 46,
   "id": "d5349022",
   "metadata": {},
   "outputs": [],
   "source": [
    "small2_1['frequent_flag']=small2_1['frequent_flag'].astype('string')"
   ]
  },
  {
   "cell_type": "markdown",
   "id": "b360ce6a",
   "metadata": {},
   "source": [
    "#### checking dtype"
   ]
  },
  {
   "cell_type": "code",
   "execution_count": 47,
   "id": "9d66121d",
   "metadata": {},
   "outputs": [
    {
     "data": {
      "text/plain": [
       "product_id                  int64\n",
       "product_name               string\n",
       "aisle_id                    int64\n",
       "department_id               int64\n",
       "prices                    float64\n",
       "order_id                    int64\n",
       "user_id                     int64\n",
       "eval_set                   string\n",
       "order_number                int64\n",
       "day_of_week                 int64\n",
       "order_hour_of_day           int64\n",
       "days_since_prior_order      int64\n",
       "add_to_cart_order           int64\n",
       "reordered                   int64\n",
       "price_range_loc            string\n",
       "busiest_day                string\n",
       "busiest days               string\n",
       "max_order                   int64\n",
       "loyalty_flag               string\n",
       "mean_price                float64\n",
       "spender_flag               string\n",
       "median_days_sinse_ord       int64\n",
       "frequent_flag              string\n",
       "dtype: object"
      ]
     },
     "execution_count": 47,
     "metadata": {},
     "output_type": "execute_result"
    }
   ],
   "source": [
    "small2_1.dtypes"
   ]
  },
  {
   "cell_type": "markdown",
   "id": "cf7f6e44",
   "metadata": {},
   "source": [
    "### merging small2_1 with df_customers"
   ]
  },
  {
   "cell_type": "markdown",
   "id": "6cd96ce1",
   "metadata": {},
   "source": [
    "importinf file"
   ]
  },
  {
   "cell_type": "code",
   "execution_count": 48,
   "id": "baf49647",
   "metadata": {},
   "outputs": [],
   "source": [
    "df_customers=pd.read_pickle(os.path.join(path,'Prepared Data', 'customers491.pkl'))"
   ]
  },
  {
   "cell_type": "code",
   "execution_count": 49,
   "id": "545ee6b1",
   "metadata": {},
   "outputs": [
    {
     "data": {
      "text/html": [
       "<div>\n",
       "<style scoped>\n",
       "    .dataframe tbody tr th:only-of-type {\n",
       "        vertical-align: middle;\n",
       "    }\n",
       "\n",
       "    .dataframe tbody tr th {\n",
       "        vertical-align: top;\n",
       "    }\n",
       "\n",
       "    .dataframe thead th {\n",
       "        text-align: right;\n",
       "    }\n",
       "</style>\n",
       "<table border=\"1\" class=\"dataframe\">\n",
       "  <thead>\n",
       "    <tr style=\"text-align: right;\">\n",
       "      <th></th>\n",
       "      <th>user_id</th>\n",
       "      <th>Gender</th>\n",
       "      <th>STATE</th>\n",
       "      <th>Age</th>\n",
       "      <th>date_joined</th>\n",
       "      <th>n_dependants</th>\n",
       "      <th>fam_status</th>\n",
       "      <th>income</th>\n",
       "      <th>Full_Name</th>\n",
       "    </tr>\n",
       "  </thead>\n",
       "  <tbody>\n",
       "    <tr>\n",
       "      <th>0</th>\n",
       "      <td>26711</td>\n",
       "      <td>Female</td>\n",
       "      <td>Missouri</td>\n",
       "      <td>48</td>\n",
       "      <td>1/1/2017</td>\n",
       "      <td>3</td>\n",
       "      <td>married</td>\n",
       "      <td>165665</td>\n",
       "      <td>Deborah Esquivel</td>\n",
       "    </tr>\n",
       "    <tr>\n",
       "      <th>1</th>\n",
       "      <td>33890</td>\n",
       "      <td>Female</td>\n",
       "      <td>New Mexico</td>\n",
       "      <td>36</td>\n",
       "      <td>1/1/2017</td>\n",
       "      <td>0</td>\n",
       "      <td>single</td>\n",
       "      <td>59285</td>\n",
       "      <td>Patricia Hart</td>\n",
       "    </tr>\n",
       "  </tbody>\n",
       "</table>\n",
       "</div>"
      ],
      "text/plain": [
       "   user_id  Gender       STATE  Age date_joined  n_dependants fam_status  \\\n",
       "0    26711  Female    Missouri   48    1/1/2017             3    married   \n",
       "1    33890  Female  New Mexico   36    1/1/2017             0     single   \n",
       "\n",
       "   income         Full_Name  \n",
       "0  165665  Deborah Esquivel  \n",
       "1   59285     Patricia Hart  "
      ]
     },
     "execution_count": 49,
     "metadata": {},
     "output_type": "execute_result"
    }
   ],
   "source": [
    "df_customers.head(2)"
   ]
  },
  {
   "cell_type": "code",
   "execution_count": 50,
   "id": "ddd54f0e",
   "metadata": {},
   "outputs": [
    {
     "data": {
      "text/plain": [
       "user_id          int64\n",
       "Gender          string\n",
       "STATE           string\n",
       "Age              int64\n",
       "date_joined     string\n",
       "n_dependants     int64\n",
       "fam_status      string\n",
       "income           int64\n",
       "Full_Name       string\n",
       "dtype: object"
      ]
     },
     "execution_count": 50,
     "metadata": {},
     "output_type": "execute_result"
    }
   ],
   "source": [
    "df_customers.dtypes"
   ]
  },
  {
   "cell_type": "code",
   "execution_count": 51,
   "id": "6cc5c9ff",
   "metadata": {},
   "outputs": [
    {
     "data": {
      "text/plain": [
       "(206209, 9)"
      ]
     },
     "execution_count": 51,
     "metadata": {},
     "output_type": "execute_result"
    }
   ],
   "source": [
    "df_customers.shape"
   ]
  },
  {
   "cell_type": "markdown",
   "id": "8f3c4199",
   "metadata": {},
   "source": [
    "#### merging dfs"
   ]
  },
  {
   "cell_type": "code",
   "execution_count": 52,
   "id": "1c4639cd",
   "metadata": {},
   "outputs": [],
   "source": [
    "small2_1_merged=pd.merge(df_customers,small2_1, on='user_id')"
   ]
  },
  {
   "cell_type": "code",
   "execution_count": 53,
   "id": "a508a26a",
   "metadata": {},
   "outputs": [
    {
     "data": {
      "text/plain": [
       "(6527173, 31)"
      ]
     },
     "execution_count": 53,
     "metadata": {},
     "output_type": "execute_result"
    }
   ],
   "source": [
    "small2_1_merged.shape"
   ]
  },
  {
   "cell_type": "markdown",
   "id": "f9ee5dab",
   "metadata": {},
   "source": [
    "### exsporting small1_1_merged"
   ]
  },
  {
   "cell_type": "code",
   "execution_count": 54,
   "id": "4420e62e",
   "metadata": {},
   "outputs": [],
   "source": [
    "small2_1_merged.to_pickle(os.path.join(path,'Prepared Data', 'small2_merged.pkl'))"
   ]
  },
  {
   "cell_type": "code",
   "execution_count": null,
   "id": "17ae0858",
   "metadata": {},
   "outputs": [],
   "source": []
  }
 ],
 "metadata": {
  "kernelspec": {
   "display_name": "Python 3 (ipykernel)",
   "language": "python",
   "name": "python3"
  },
  "language_info": {
   "codemirror_mode": {
    "name": "ipython",
    "version": 3
   },
   "file_extension": ".py",
   "mimetype": "text/x-python",
   "name": "python",
   "nbconvert_exporter": "python",
   "pygments_lexer": "ipython3",
   "version": "3.10.9"
  }
 },
 "nbformat": 4,
 "nbformat_minor": 5
}
