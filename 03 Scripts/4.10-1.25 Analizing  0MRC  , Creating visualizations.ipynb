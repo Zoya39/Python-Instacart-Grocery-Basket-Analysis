{
 "cells": [
  {
   "cell_type": "markdown",
   "id": "dc856afc",
   "metadata": {},
   "source": [
    "### 4.10 Part 1.25 Mature Regular Customer\n",
    "#### 1 - importing libraries\n",
    "#### 2 - Importing df\n",
    "#### 3 - Analyzing  by Frequent Flag\n",
    "#### 4 - Analyzing Purshases by Income\n",
    "#### 5 - Analyzing by Busiest_day\n",
    "#### 6 - Analyzing number by State\n",
    "#### 7 - Analyzing by n_dependants\n",
    "#### 8 - Analyzing Days since prior order\n",
    "#### 9 - Defining TOP products for client group"
   ]
  },
  {
   "cell_type": "markdown",
   "id": "b3478eda",
   "metadata": {},
   "source": [
    "### 1 Importing libraries and df w/o PII"
   ]
  },
  {
   "cell_type": "code",
   "execution_count": 1,
   "id": "e865d8b6",
   "metadata": {},
   "outputs": [],
   "source": [
    "import pandas as pd\n",
    "import numpy as np\n",
    "import os\n",
    "import matplotlib.pyplot as plt\n",
    "import seaborn as sns\n",
    "import scipy"
   ]
  },
  {
   "cell_type": "code",
   "execution_count": 2,
   "id": "a0d783f3",
   "metadata": {},
   "outputs": [],
   "source": [
    "path=r'C:\\Users\\user\\07-2023 Instacart Basket Analysis\\02 Data'"
   ]
  },
  {
   "cell_type": "markdown",
   "id": "7d9928b7",
   "metadata": {},
   "source": [
    "### 2 Importing df"
   ]
  },
  {
   "cell_type": "code",
   "execution_count": 3,
   "id": "339d7784",
   "metadata": {},
   "outputs": [],
   "source": [
    "df=pd.read_pickle(os.path.join(path,'Prepared Data','0MRC.pkl'))"
   ]
  },
  {
   "cell_type": "code",
   "execution_count": 4,
   "id": "dd1cde48",
   "metadata": {},
   "outputs": [
    {
     "data": {
      "text/plain": [
       "Index(['user_id', 'Gender', 'STATE', 'Age', 'date_joined', 'n_dependants',\n",
       "       'fam_status', 'income', 'product_id', 'product_name', 'aisle_id',\n",
       "       'department_id', 'prices', 'order_id', 'eval_set', 'order_number',\n",
       "       'day_of_week', 'order_hour_of_day', 'days_since_prior_order',\n",
       "       'add_to_cart_order', 'reordered', 'price_range_loc', 'busiest_day',\n",
       "       'busiest days', 'max_order', 'loyalty_flag', 'mean_price',\n",
       "       'spender_flag', 'median_days_sinse_ord', 'frequent_flag'],\n",
       "      dtype='object')"
      ]
     },
     "execution_count": 4,
     "metadata": {},
     "output_type": "execute_result"
    }
   ],
   "source": [
    "df.columns"
   ]
  },
  {
   "cell_type": "code",
   "execution_count": 5,
   "id": "a95c3088",
   "metadata": {},
   "outputs": [
    {
     "data": {
      "text/plain": [
       "(10441258, 30)"
      ]
     },
     "execution_count": 5,
     "metadata": {},
     "output_type": "execute_result"
    }
   ],
   "source": [
    "df.shape"
   ]
  },
  {
   "cell_type": "code",
   "execution_count": 6,
   "id": "d110e1b9",
   "metadata": {},
   "outputs": [
    {
     "data": {
      "text/html": [
       "<div>\n",
       "<style scoped>\n",
       "    .dataframe tbody tr th:only-of-type {\n",
       "        vertical-align: middle;\n",
       "    }\n",
       "\n",
       "    .dataframe tbody tr th {\n",
       "        vertical-align: top;\n",
       "    }\n",
       "\n",
       "    .dataframe thead th {\n",
       "        text-align: right;\n",
       "    }\n",
       "</style>\n",
       "<table border=\"1\" class=\"dataframe\">\n",
       "  <thead>\n",
       "    <tr style=\"text-align: right;\">\n",
       "      <th></th>\n",
       "      <th>user_id</th>\n",
       "      <th>Age</th>\n",
       "      <th>income</th>\n",
       "      <th>product_id</th>\n",
       "      <th>order_number</th>\n",
       "      <th>mean_price</th>\n",
       "    </tr>\n",
       "  </thead>\n",
       "  <tbody>\n",
       "    <tr>\n",
       "      <th>count</th>\n",
       "      <td>1.044126e+07</td>\n",
       "      <td>1.044126e+07</td>\n",
       "      <td>1.044126e+07</td>\n",
       "      <td>1.044126e+07</td>\n",
       "      <td>1.044126e+07</td>\n",
       "      <td>1.044126e+07</td>\n",
       "    </tr>\n",
       "    <tr>\n",
       "      <th>mean</th>\n",
       "      <td>1.026214e+05</td>\n",
       "      <td>6.098824e+01</td>\n",
       "      <td>1.164178e+05</td>\n",
       "      <td>2.545804e+04</td>\n",
       "      <td>1.182530e+01</td>\n",
       "      <td>1.260806e+01</td>\n",
       "    </tr>\n",
       "    <tr>\n",
       "      <th>std</th>\n",
       "      <td>5.937793e+04</td>\n",
       "      <td>1.186152e+01</td>\n",
       "      <td>4.254840e+04</td>\n",
       "      <td>1.419403e+04</td>\n",
       "      <td>8.225399e+00</td>\n",
       "      <td>8.749585e+01</td>\n",
       "    </tr>\n",
       "    <tr>\n",
       "      <th>min</th>\n",
       "      <td>2.000000e+00</td>\n",
       "      <td>4.100000e+01</td>\n",
       "      <td>2.900100e+04</td>\n",
       "      <td>0.000000e+00</td>\n",
       "      <td>1.000000e+00</td>\n",
       "      <td>1.300000e+00</td>\n",
       "    </tr>\n",
       "    <tr>\n",
       "      <th>25%</th>\n",
       "      <td>5.138400e+04</td>\n",
       "      <td>5.100000e+01</td>\n",
       "      <td>9.610800e+04</td>\n",
       "      <td>1.325500e+04</td>\n",
       "      <td>5.000000e+00</td>\n",
       "      <td>7.408152e+00</td>\n",
       "    </tr>\n",
       "    <tr>\n",
       "      <th>50%</th>\n",
       "      <td>1.020610e+05</td>\n",
       "      <td>6.100000e+01</td>\n",
       "      <td>1.165780e+05</td>\n",
       "      <td>2.514600e+04</td>\n",
       "      <td>1.000000e+01</td>\n",
       "      <td>7.841584e+00</td>\n",
       "    </tr>\n",
       "    <tr>\n",
       "      <th>75%</th>\n",
       "      <td>1.540770e+05</td>\n",
       "      <td>7.100000e+01</td>\n",
       "      <td>1.437140e+05</td>\n",
       "      <td>3.782500e+04</td>\n",
       "      <td>1.700000e+01</td>\n",
       "      <td>8.272358e+00</td>\n",
       "    </tr>\n",
       "    <tr>\n",
       "      <th>max</th>\n",
       "      <td>2.062090e+05</td>\n",
       "      <td>8.100000e+01</td>\n",
       "      <td>5.924090e+05</td>\n",
       "      <td>4.968800e+04</td>\n",
       "      <td>4.000000e+01</td>\n",
       "      <td>1.500694e+04</td>\n",
       "    </tr>\n",
       "  </tbody>\n",
       "</table>\n",
       "</div>"
      ],
      "text/plain": [
       "            user_id           Age        income    product_id  order_number  \\\n",
       "count  1.044126e+07  1.044126e+07  1.044126e+07  1.044126e+07  1.044126e+07   \n",
       "mean   1.026214e+05  6.098824e+01  1.164178e+05  2.545804e+04  1.182530e+01   \n",
       "std    5.937793e+04  1.186152e+01  4.254840e+04  1.419403e+04  8.225399e+00   \n",
       "min    2.000000e+00  4.100000e+01  2.900100e+04  0.000000e+00  1.000000e+00   \n",
       "25%    5.138400e+04  5.100000e+01  9.610800e+04  1.325500e+04  5.000000e+00   \n",
       "50%    1.020610e+05  6.100000e+01  1.165780e+05  2.514600e+04  1.000000e+01   \n",
       "75%    1.540770e+05  7.100000e+01  1.437140e+05  3.782500e+04  1.700000e+01   \n",
       "max    2.062090e+05  8.100000e+01  5.924090e+05  4.968800e+04  4.000000e+01   \n",
       "\n",
       "         mean_price  \n",
       "count  1.044126e+07  \n",
       "mean   1.260806e+01  \n",
       "std    8.749585e+01  \n",
       "min    1.300000e+00  \n",
       "25%    7.408152e+00  \n",
       "50%    7.841584e+00  \n",
       "75%    8.272358e+00  \n",
       "max    1.500694e+04  "
      ]
     },
     "execution_count": 6,
     "metadata": {},
     "output_type": "execute_result"
    }
   ],
   "source": [
    "df[['user_id','Age', 'income','product_id', 'order_number','mean_price']] .describe()"
   ]
  },
  {
   "cell_type": "markdown",
   "id": "08380bfb",
   "metadata": {},
   "source": [
    "### 3 -Analyzing MRC by Frequent Flag"
   ]
  },
  {
   "cell_type": "markdown",
   "id": "6e53f0cf",
   "metadata": {},
   "source": [
    "#### --creating the subset to avoid Memory Error"
   ]
  },
  {
   "cell_type": "code",
   "execution_count": 7,
   "id": "ca583f66",
   "metadata": {},
   "outputs": [],
   "source": [
    "df1=df[['user_id','fam_status','frequent_flag']]"
   ]
  },
  {
   "cell_type": "code",
   "execution_count": 8,
   "id": "ae779de1",
   "metadata": {},
   "outputs": [],
   "source": [
    "df11=df1.drop_duplicates().reset_index()"
   ]
  },
  {
   "cell_type": "code",
   "execution_count": 10,
   "id": "886f2f16",
   "metadata": {},
   "outputs": [
    {
     "data": {
      "text/html": [
       "<div>\n",
       "<style scoped>\n",
       "    .dataframe tbody tr th:only-of-type {\n",
       "        vertical-align: middle;\n",
       "    }\n",
       "\n",
       "    .dataframe tbody tr th {\n",
       "        vertical-align: top;\n",
       "    }\n",
       "\n",
       "    .dataframe thead th {\n",
       "        text-align: right;\n",
       "    }\n",
       "</style>\n",
       "<table border=\"1\" class=\"dataframe\">\n",
       "  <thead>\n",
       "    <tr style=\"text-align: right;\">\n",
       "      <th></th>\n",
       "      <th>index</th>\n",
       "      <th>user_id</th>\n",
       "      <th>fam_status</th>\n",
       "      <th>frequent_flag</th>\n",
       "    </tr>\n",
       "  </thead>\n",
       "  <tbody>\n",
       "    <tr>\n",
       "      <th>0</th>\n",
       "      <td>157</td>\n",
       "      <td>69965</td>\n",
       "      <td>married</td>\n",
       "      <td>Non-frequent customer</td>\n",
       "    </tr>\n",
       "    <tr>\n",
       "      <th>1</th>\n",
       "      <td>550</td>\n",
       "      <td>37744</td>\n",
       "      <td>married</td>\n",
       "      <td>Frequent customer</td>\n",
       "    </tr>\n",
       "    <tr>\n",
       "      <th>2</th>\n",
       "      <td>594</td>\n",
       "      <td>57549</td>\n",
       "      <td>divorced/widowed</td>\n",
       "      <td>Regular customer</td>\n",
       "    </tr>\n",
       "    <tr>\n",
       "      <th>3</th>\n",
       "      <td>731</td>\n",
       "      <td>86936</td>\n",
       "      <td>married</td>\n",
       "      <td>Frequent customer</td>\n",
       "    </tr>\n",
       "    <tr>\n",
       "      <th>4</th>\n",
       "      <td>881</td>\n",
       "      <td>104359</td>\n",
       "      <td>married</td>\n",
       "      <td>Regular customer</td>\n",
       "    </tr>\n",
       "    <tr>\n",
       "      <th>...</th>\n",
       "      <td>...</td>\n",
       "      <td>...</td>\n",
       "      <td>...</td>\n",
       "      <td>...</td>\n",
       "    </tr>\n",
       "    <tr>\n",
       "      <th>53749</th>\n",
       "      <td>674845</td>\n",
       "      <td>20790</td>\n",
       "      <td>single</td>\n",
       "      <td>Regular customer</td>\n",
       "    </tr>\n",
       "    <tr>\n",
       "      <th>53750</th>\n",
       "      <td>1159554</td>\n",
       "      <td>87503</td>\n",
       "      <td>married</td>\n",
       "      <td>Regular customer</td>\n",
       "    </tr>\n",
       "    <tr>\n",
       "      <th>53751</th>\n",
       "      <td>1968892</td>\n",
       "      <td>131221</td>\n",
       "      <td>divorced/widowed</td>\n",
       "      <td>Non-frequent customer</td>\n",
       "    </tr>\n",
       "    <tr>\n",
       "      <th>53752</th>\n",
       "      <td>4129831</td>\n",
       "      <td>204400</td>\n",
       "      <td>married</td>\n",
       "      <td>Regular customer</td>\n",
       "    </tr>\n",
       "    <tr>\n",
       "      <th>53753</th>\n",
       "      <td>5609850</td>\n",
       "      <td>676</td>\n",
       "      <td>divorced/widowed</td>\n",
       "      <td>Non-frequent customer</td>\n",
       "    </tr>\n",
       "  </tbody>\n",
       "</table>\n",
       "<p>53754 rows × 4 columns</p>\n",
       "</div>"
      ],
      "text/plain": [
       "         index  user_id        fam_status          frequent_flag\n",
       "0          157    69965           married  Non-frequent customer\n",
       "1          550    37744           married      Frequent customer\n",
       "2          594    57549  divorced/widowed       Regular customer\n",
       "3          731    86936           married      Frequent customer\n",
       "4          881   104359           married       Regular customer\n",
       "...        ...      ...               ...                    ...\n",
       "53749   674845    20790            single       Regular customer\n",
       "53750  1159554    87503           married       Regular customer\n",
       "53751  1968892   131221  divorced/widowed  Non-frequent customer\n",
       "53752  4129831   204400           married       Regular customer\n",
       "53753  5609850      676  divorced/widowed  Non-frequent customer\n",
       "\n",
       "[53754 rows x 4 columns]"
      ]
     },
     "execution_count": 10,
     "metadata": {},
     "output_type": "execute_result"
    }
   ],
   "source": [
    "df11"
   ]
  },
  {
   "cell_type": "markdown",
   "id": "8a4e55ee",
   "metadata": {},
   "source": [
    "#### -analyzing YNC by Frequent_flag and Family Status based on customers number"
   ]
  },
  {
   "cell_type": "code",
   "execution_count": 11,
   "id": "b10af605",
   "metadata": {},
   "outputs": [
    {
     "data": {
      "image/png": "[encoded data removed]",
      "text/plain": [
       "<Figure size 640x480 with 1 Axes>"
      ]
     },
     "metadata": {},
     "output_type": "display_data"
    }
   ],
   "source": [
    "bar12=df11.groupby('fam_status')['frequent_flag'].value_counts().unstack().plot.barh()"
   ]
  },
  {
   "cell_type": "code",
   "execution_count": 12,
   "id": "cdd18c95",
   "metadata": {},
   "outputs": [],
   "source": [
    "bar12.figure.savefig(os.path.join(path, 'Prepared Data', 'MRC_LoyaltyFlag.png'))"
   ]
  },
  {
   "cell_type": "code",
   "execution_count": 13,
   "id": "9633aa76",
   "metadata": {},
   "outputs": [
    {
     "data": {
      "text/plain": [
       "fam_status        frequent_flag        \n",
       "divorced/widowed  Frequent customer         3494\n",
       "                  Regular customer          2477\n",
       "                  Non-frequent customer      618\n",
       "                                             576\n",
       "married           Frequent customer        19805\n",
       "                  Regular customer         14005\n",
       "                  Non-frequent customer     3483\n",
       "                                            3133\n",
       "single            Frequent customer         3035\n",
       "                  Regular customer          2157\n",
       "                  Non-frequent customer      504\n",
       "                                             467\n",
       "Name: frequent_flag, dtype: int64"
      ]
     },
     "execution_count": 13,
     "metadata": {},
     "output_type": "execute_result"
    }
   ],
   "source": [
    "df11.groupby('fam_status')['frequent_flag'].value_counts()"
   ]
  },
  {
   "cell_type": "markdown",
   "id": "432fdabf",
   "metadata": {},
   "source": [
    "### -analyzing MRC by Frequent flag and Family Status based on purchase number"
   ]
  },
  {
   "cell_type": "code",
   "execution_count": 14,
   "id": "41bc2683",
   "metadata": {},
   "outputs": [
    {
     "data": {
      "image/png": "[encoded data removed]",
      "text/plain": [
       "<Figure size 640x480 with 1 Axes>"
      ]
     },
     "metadata": {},
     "output_type": "display_data"
    }
   ],
   "source": [
    "bar12=df1.groupby('fam_status')['frequent_flag'].value_counts().unstack().plot.barh()"
   ]
  },
  {
   "cell_type": "code",
   "execution_count": 15,
   "id": "d0c74606",
   "metadata": {},
   "outputs": [],
   "source": [
    "bar12.figure.savefig(os.path.join(path, 'Prepared Data', 'MRC_LoyaltyFlagSales.png'))"
   ]
  },
  {
   "cell_type": "code",
   "execution_count": 16,
   "id": "7d9900be",
   "metadata": {},
   "outputs": [
    {
     "data": {
      "text/plain": [
       "fam_status        frequent_flag        \n",
       "divorced/widowed  Frequent customer         3494\n",
       "                  Regular customer          2477\n",
       "                  Non-frequent customer      618\n",
       "                                             576\n",
       "married           Frequent customer        19805\n",
       "                  Regular customer         14005\n",
       "                  Non-frequent customer     3483\n",
       "                                            3133\n",
       "single            Frequent customer         3035\n",
       "                  Regular customer          2157\n",
       "                  Non-frequent customer      504\n",
       "                                             467\n",
       "Name: frequent_flag, dtype: int64"
      ]
     },
     "execution_count": 16,
     "metadata": {},
     "output_type": "execute_result"
    }
   ],
   "source": [
    "df11.groupby('fam_status')['frequent_flag'].value_counts()"
   ]
  },
  {
   "cell_type": "code",
   "execution_count": null,
   "id": "0d411ab1",
   "metadata": {},
   "outputs": [],
   "source": []
  },
  {
   "cell_type": "markdown",
   "id": "6df1434e",
   "metadata": {},
   "source": [
    "### 4 -analyzing MRC purshases by their income"
   ]
  },
  {
   "cell_type": "code",
   "execution_count": 17,
   "id": "77ac4735",
   "metadata": {},
   "outputs": [],
   "source": [
    "df2=df[['prices', 'income']]"
   ]
  },
  {
   "cell_type": "code",
   "execution_count": 18,
   "id": "e10061de",
   "metadata": {},
   "outputs": [
    {
     "data": {
      "text/plain": [
       "130961526.70000005"
      ]
     },
     "execution_count": 18,
     "metadata": {},
     "output_type": "execute_result"
    }
   ],
   "source": [
    "df2['prices'].sum()"
   ]
  },
  {
   "cell_type": "code",
   "execution_count": 19,
   "id": "9c144c3a",
   "metadata": {},
   "outputs": [],
   "source": [
    "df22=df2.groupby('income').agg(mean_purshase=('prices','mean'))"
   ]
  },
  {
   "cell_type": "code",
   "execution_count": 20,
   "id": "b81dd39e",
   "metadata": {},
   "outputs": [
    {
     "data": {
      "text/html": [
       "<div>\n",
       "<style scoped>\n",
       "    .dataframe tbody tr th:only-of-type {\n",
       "        vertical-align: middle;\n",
       "    }\n",
       "\n",
       "    .dataframe tbody tr th {\n",
       "        vertical-align: top;\n",
       "    }\n",
       "\n",
       "    .dataframe thead th {\n",
       "        text-align: right;\n",
       "    }\n",
       "</style>\n",
       "<table border=\"1\" class=\"dataframe\">\n",
       "  <thead>\n",
       "    <tr style=\"text-align: right;\">\n",
       "      <th></th>\n",
       "      <th>mean_purshase</th>\n",
       "    </tr>\n",
       "    <tr>\n",
       "      <th>income</th>\n",
       "      <th></th>\n",
       "    </tr>\n",
       "  </thead>\n",
       "  <tbody>\n",
       "    <tr>\n",
       "      <th>29001</th>\n",
       "      <td>6.648468</td>\n",
       "    </tr>\n",
       "    <tr>\n",
       "      <th>29011</th>\n",
       "      <td>6.940702</td>\n",
       "    </tr>\n",
       "    <tr>\n",
       "      <th>29017</th>\n",
       "      <td>6.489474</td>\n",
       "    </tr>\n",
       "    <tr>\n",
       "      <th>29040</th>\n",
       "      <td>6.633333</td>\n",
       "    </tr>\n",
       "    <tr>\n",
       "      <th>29050</th>\n",
       "      <td>6.717021</td>\n",
       "    </tr>\n",
       "    <tr>\n",
       "      <th>...</th>\n",
       "      <td>...</td>\n",
       "    </tr>\n",
       "    <tr>\n",
       "      <th>578251</th>\n",
       "      <td>1414.752113</td>\n",
       "    </tr>\n",
       "    <tr>\n",
       "      <th>578551</th>\n",
       "      <td>173.017778</td>\n",
       "    </tr>\n",
       "    <tr>\n",
       "      <th>579397</th>\n",
       "      <td>105.096104</td>\n",
       "    </tr>\n",
       "    <tr>\n",
       "      <th>591089</th>\n",
       "      <td>91.810734</td>\n",
       "    </tr>\n",
       "    <tr>\n",
       "      <th>592409</th>\n",
       "      <td>241.131034</td>\n",
       "    </tr>\n",
       "  </tbody>\n",
       "</table>\n",
       "<p>43404 rows × 1 columns</p>\n",
       "</div>"
      ],
      "text/plain": [
       "        mean_purshase\n",
       "income               \n",
       "29001        6.648468\n",
       "29011        6.940702\n",
       "29017        6.489474\n",
       "29040        6.633333\n",
       "29050        6.717021\n",
       "...               ...\n",
       "578251    1414.752113\n",
       "578551     173.017778\n",
       "579397     105.096104\n",
       "591089      91.810734\n",
       "592409     241.131034\n",
       "\n",
       "[43404 rows x 1 columns]"
      ]
     },
     "execution_count": 20,
     "metadata": {},
     "output_type": "execute_result"
    }
   ],
   "source": [
    "df22"
   ]
  },
  {
   "cell_type": "code",
   "execution_count": 21,
   "id": "75ff1fd3",
   "metadata": {},
   "outputs": [
    {
     "data": {
      "image/png": "[encoded data removed]",
      "text/plain": [
       "<Figure size 640x480 with 1 Axes>"
      ]
     },
     "metadata": {},
     "output_type": "display_data"
    }
   ],
   "source": [
    "scat3=sns.scatterplot(x='mean_purshase', y='income', data=df22)"
   ]
  },
  {
   "cell_type": "markdown",
   "id": "cba42179",
   "metadata": {},
   "source": [
    "#### filter extrem big values"
   ]
  },
  {
   "cell_type": "code",
   "execution_count": 22,
   "id": "acf7672e",
   "metadata": {},
   "outputs": [],
   "source": [
    "df22filtered=df22[df22['mean_purshase']<6000]"
   ]
  },
  {
   "cell_type": "code",
   "execution_count": 23,
   "id": "c96ec908",
   "metadata": {},
   "outputs": [
    {
     "data": {
      "image/png": "[encoded data removed]",
      "text/plain": [
       "<Figure size 640x480 with 1 Axes>"
      ]
     },
     "metadata": {},
     "output_type": "display_data"
    }
   ],
   "source": [
    "scat3=sns.scatterplot(x='mean_purshase', y='income', data=df22filtered)"
   ]
  },
  {
   "cell_type": "code",
   "execution_count": 24,
   "id": "6873ccae",
   "metadata": {},
   "outputs": [],
   "source": [
    "scat3.figure.savefig(os.path.join(path, 'Prepared Data', 'MRC_PricesIncome.png'))"
   ]
  },
  {
   "cell_type": "markdown",
   "id": "022c92a7",
   "metadata": {},
   "source": [
    "### 5 - Analyzing MRC by Busiest_day"
   ]
  },
  {
   "cell_type": "code",
   "execution_count": 25,
   "id": "58fcebb9",
   "metadata": {},
   "outputs": [],
   "source": [
    "df4=df[['user_id','STATE', 'busiest_day', 'day_of_week']]"
   ]
  },
  {
   "cell_type": "code",
   "execution_count": 26,
   "id": "7a0d6e09",
   "metadata": {},
   "outputs": [
    {
     "data": {
      "text/html": [
       "<div>\n",
       "<style scoped>\n",
       "    .dataframe tbody tr th:only-of-type {\n",
       "        vertical-align: middle;\n",
       "    }\n",
       "\n",
       "    .dataframe tbody tr th {\n",
       "        vertical-align: top;\n",
       "    }\n",
       "\n",
       "    .dataframe thead th {\n",
       "        text-align: right;\n",
       "    }\n",
       "</style>\n",
       "<table border=\"1\" class=\"dataframe\">\n",
       "  <thead>\n",
       "    <tr style=\"text-align: right;\">\n",
       "      <th></th>\n",
       "      <th>user_id</th>\n",
       "      <th>STATE</th>\n",
       "      <th>busiest_day</th>\n",
       "      <th>day_of_week</th>\n",
       "    </tr>\n",
       "  </thead>\n",
       "  <tbody>\n",
       "    <tr>\n",
       "      <th>157</th>\n",
       "      <td>69965</td>\n",
       "      <td>Texas</td>\n",
       "      <td>Busiest days</td>\n",
       "      <td>1</td>\n",
       "    </tr>\n",
       "    <tr>\n",
       "      <th>158</th>\n",
       "      <td>69965</td>\n",
       "      <td>Texas</td>\n",
       "      <td>Regularly days</td>\n",
       "      <td>2</td>\n",
       "    </tr>\n",
       "    <tr>\n",
       "      <th>159</th>\n",
       "      <td>69965</td>\n",
       "      <td>Texas</td>\n",
       "      <td>Regularly days</td>\n",
       "      <td>6</td>\n",
       "    </tr>\n",
       "    <tr>\n",
       "      <th>160</th>\n",
       "      <td>69965</td>\n",
       "      <td>Texas</td>\n",
       "      <td>Regularly days</td>\n",
       "      <td>6</td>\n",
       "    </tr>\n",
       "    <tr>\n",
       "      <th>161</th>\n",
       "      <td>69965</td>\n",
       "      <td>Texas</td>\n",
       "      <td>Regularly days</td>\n",
       "      <td>5</td>\n",
       "    </tr>\n",
       "    <tr>\n",
       "      <th>...</th>\n",
       "      <td>...</td>\n",
       "      <td>...</td>\n",
       "      <td>...</td>\n",
       "      <td>...</td>\n",
       "    </tr>\n",
       "    <tr>\n",
       "      <th>6464238</th>\n",
       "      <td>74598</td>\n",
       "      <td>Minnesota</td>\n",
       "      <td>Regularly days</td>\n",
       "      <td>2</td>\n",
       "    </tr>\n",
       "    <tr>\n",
       "      <th>6464239</th>\n",
       "      <td>74598</td>\n",
       "      <td>Minnesota</td>\n",
       "      <td>Busiest days</td>\n",
       "      <td>1</td>\n",
       "    </tr>\n",
       "    <tr>\n",
       "      <th>6464240</th>\n",
       "      <td>74598</td>\n",
       "      <td>Minnesota</td>\n",
       "      <td>Busiest days</td>\n",
       "      <td>0</td>\n",
       "    </tr>\n",
       "    <tr>\n",
       "      <th>6464241</th>\n",
       "      <td>74598</td>\n",
       "      <td>Minnesota</td>\n",
       "      <td>Regularly days</td>\n",
       "      <td>5</td>\n",
       "    </tr>\n",
       "    <tr>\n",
       "      <th>6464242</th>\n",
       "      <td>74598</td>\n",
       "      <td>Minnesota</td>\n",
       "      <td>Regularly days</td>\n",
       "      <td>6</td>\n",
       "    </tr>\n",
       "  </tbody>\n",
       "</table>\n",
       "<p>10441258 rows × 4 columns</p>\n",
       "</div>"
      ],
      "text/plain": [
       "         user_id      STATE     busiest_day  day_of_week\n",
       "157        69965      Texas    Busiest days            1\n",
       "158        69965      Texas  Regularly days            2\n",
       "159        69965      Texas  Regularly days            6\n",
       "160        69965      Texas  Regularly days            6\n",
       "161        69965      Texas  Regularly days            5\n",
       "...          ...        ...             ...          ...\n",
       "6464238    74598  Minnesota  Regularly days            2\n",
       "6464239    74598  Minnesota    Busiest days            1\n",
       "6464240    74598  Minnesota    Busiest days            0\n",
       "6464241    74598  Minnesota  Regularly days            5\n",
       "6464242    74598  Minnesota  Regularly days            6\n",
       "\n",
       "[10441258 rows x 4 columns]"
      ]
     },
     "execution_count": 26,
     "metadata": {},
     "output_type": "execute_result"
    }
   ],
   "source": [
    "df4"
   ]
  },
  {
   "cell_type": "code",
   "execution_count": 27,
   "id": "6a0d8788",
   "metadata": {},
   "outputs": [
    {
     "data": {
      "image/png": "[encoded data removed]",
      "text/plain": [
       "<Figure size 640x480 with 1 Axes>"
      ]
     },
     "metadata": {},
     "output_type": "display_data"
    }
   ],
   "source": [
    "bar14=df4.groupby('busiest_day').agg({'day_of_week':['mean']}).plot.barh()"
   ]
  },
  {
   "cell_type": "code",
   "execution_count": 28,
   "id": "1869f79f",
   "metadata": {},
   "outputs": [],
   "source": [
    "bar14.figure.savefig(os.path.join(path, 'Prepared Data', 'MRC_BusiestDayOfWeek.png'))"
   ]
  },
  {
   "cell_type": "code",
   "execution_count": 29,
   "id": "85f545c6",
   "metadata": {},
   "outputs": [
    {
     "data": {
      "image/png": "[encoded data removed]",
      "text/plain": [
       "<Figure size 640x480 with 1 Axes>"
      ]
     },
     "metadata": {},
     "output_type": "display_data"
    }
   ],
   "source": [
    "pie24=df4.groupby('day_of_week')['busiest_day'].count().plot(kind='pie', autopct='%0.01f%%')"
   ]
  },
  {
   "cell_type": "code",
   "execution_count": 30,
   "id": "69e06226",
   "metadata": {},
   "outputs": [
    {
     "data": {
      "text/plain": [
       "day_of_week\n",
       "0    2082206\n",
       "1    1798629\n",
       "2    1352052\n",
       "3    1214935\n",
       "4    1178930\n",
       "5    1310066\n",
       "6    1504440\n",
       "Name: busiest_day, dtype: int64"
      ]
     },
     "execution_count": 30,
     "metadata": {},
     "output_type": "execute_result"
    }
   ],
   "source": [
    "df4.groupby('day_of_week')['busiest_day'].count()"
   ]
  },
  {
   "cell_type": "code",
   "execution_count": 31,
   "id": "8815f6e2",
   "metadata": {},
   "outputs": [],
   "source": [
    "pie24.figure.savefig(os.path.join(path, 'Prepared Data', 'MRC_pieBusiestDayOfWeek.png'))"
   ]
  },
  {
   "cell_type": "markdown",
   "id": "2d3eb93f",
   "metadata": {},
   "source": [
    "### -MRC prefered hour of day"
   ]
  },
  {
   "cell_type": "code",
   "execution_count": 32,
   "id": "1b254441",
   "metadata": {},
   "outputs": [],
   "source": [
    "df44=df[['order_hour_of_day','user_id']]"
   ]
  },
  {
   "cell_type": "code",
   "execution_count": 33,
   "id": "6ea53ee1",
   "metadata": {},
   "outputs": [
    {
     "data": {
      "text/plain": [
       "order_hour_of_day\n",
       "0      72644\n",
       "1      38364\n",
       "2      22778\n",
       "3      17069\n",
       "4      16892\n",
       "5      28223\n",
       "6      86671\n",
       "7     269744\n",
       "8     529002\n",
       "9     761332\n",
       "10    870602\n",
       "11    877830\n",
       "12    848420\n",
       "13    858916\n",
       "14    872281\n",
       "15    864002\n",
       "16    836367\n",
       "17    699545\n",
       "18    552299\n",
       "19    416747\n",
       "20    314174\n",
       "21    253867\n",
       "22    201731\n",
       "23    131758\n",
       "Name: user_id, dtype: int64"
      ]
     },
     "execution_count": 33,
     "metadata": {},
     "output_type": "execute_result"
    }
   ],
   "source": [
    "df44.groupby('order_hour_of_day')['user_id'].count()"
   ]
  },
  {
   "cell_type": "code",
   "execution_count": 34,
   "id": "a091f84d",
   "metadata": {},
   "outputs": [
    {
     "data": {
      "image/png": "[encoded data removed]",
      "text/plain": [
       "<Figure size 640x480 with 1 Axes>"
      ]
     },
     "metadata": {},
     "output_type": "display_data"
    }
   ],
   "source": [
    "bar44=df44.groupby('order_hour_of_day')['user_id'].count().plot.bar()"
   ]
  },
  {
   "cell_type": "code",
   "execution_count": 35,
   "id": "ae76aa46",
   "metadata": {},
   "outputs": [],
   "source": [
    "bar44.figure.savefig(os.path.join(path, 'Prepared Data', 'MRC_BusiestHourOfDay.png'))"
   ]
  },
  {
   "cell_type": "markdown",
   "id": "07093898",
   "metadata": {},
   "source": [
    "### 6 - Analyzing number of MRC by State"
   ]
  },
  {
   "cell_type": "code",
   "execution_count": 36,
   "id": "7d0dda6d",
   "metadata": {},
   "outputs": [],
   "source": [
    "df5=df[['user_id','STATE']]"
   ]
  },
  {
   "cell_type": "code",
   "execution_count": 37,
   "id": "35bc7814",
   "metadata": {},
   "outputs": [],
   "source": [
    "DF5=df5.drop_duplicates().reset_index()"
   ]
  },
  {
   "cell_type": "code",
   "execution_count": 38,
   "id": "17841906",
   "metadata": {},
   "outputs": [
    {
     "data": {
      "text/html": [
       "<div>\n",
       "<style scoped>\n",
       "    .dataframe tbody tr th:only-of-type {\n",
       "        vertical-align: middle;\n",
       "    }\n",
       "\n",
       "    .dataframe tbody tr th {\n",
       "        vertical-align: top;\n",
       "    }\n",
       "\n",
       "    .dataframe thead th {\n",
       "        text-align: right;\n",
       "    }\n",
       "</style>\n",
       "<table border=\"1\" class=\"dataframe\">\n",
       "  <thead>\n",
       "    <tr style=\"text-align: right;\">\n",
       "      <th></th>\n",
       "      <th>index</th>\n",
       "      <th>user_id</th>\n",
       "      <th>STATE</th>\n",
       "    </tr>\n",
       "  </thead>\n",
       "  <tbody>\n",
       "    <tr>\n",
       "      <th>0</th>\n",
       "      <td>157</td>\n",
       "      <td>69965</td>\n",
       "      <td>Texas</td>\n",
       "    </tr>\n",
       "    <tr>\n",
       "      <th>1</th>\n",
       "      <td>550</td>\n",
       "      <td>37744</td>\n",
       "      <td>Arkansas</td>\n",
       "    </tr>\n",
       "    <tr>\n",
       "      <th>2</th>\n",
       "      <td>594</td>\n",
       "      <td>57549</td>\n",
       "      <td>Montana</td>\n",
       "    </tr>\n",
       "    <tr>\n",
       "      <th>3</th>\n",
       "      <td>731</td>\n",
       "      <td>86936</td>\n",
       "      <td>Oregon</td>\n",
       "    </tr>\n",
       "    <tr>\n",
       "      <th>4</th>\n",
       "      <td>881</td>\n",
       "      <td>104359</td>\n",
       "      <td>Idaho</td>\n",
       "    </tr>\n",
       "    <tr>\n",
       "      <th>...</th>\n",
       "      <td>...</td>\n",
       "      <td>...</td>\n",
       "      <td>...</td>\n",
       "    </tr>\n",
       "    <tr>\n",
       "      <th>53749</th>\n",
       "      <td>674845</td>\n",
       "      <td>20790</td>\n",
       "      <td>Maryland</td>\n",
       "    </tr>\n",
       "    <tr>\n",
       "      <th>53750</th>\n",
       "      <td>1159554</td>\n",
       "      <td>87503</td>\n",
       "      <td>Missouri</td>\n",
       "    </tr>\n",
       "    <tr>\n",
       "      <th>53751</th>\n",
       "      <td>1968892</td>\n",
       "      <td>131221</td>\n",
       "      <td>West Virginia</td>\n",
       "    </tr>\n",
       "    <tr>\n",
       "      <th>53752</th>\n",
       "      <td>4129831</td>\n",
       "      <td>204400</td>\n",
       "      <td>Tennessee</td>\n",
       "    </tr>\n",
       "    <tr>\n",
       "      <th>53753</th>\n",
       "      <td>5609850</td>\n",
       "      <td>676</td>\n",
       "      <td>Idaho</td>\n",
       "    </tr>\n",
       "  </tbody>\n",
       "</table>\n",
       "<p>53754 rows × 3 columns</p>\n",
       "</div>"
      ],
      "text/plain": [
       "         index  user_id          STATE\n",
       "0          157    69965          Texas\n",
       "1          550    37744       Arkansas\n",
       "2          594    57549        Montana\n",
       "3          731    86936         Oregon\n",
       "4          881   104359          Idaho\n",
       "...        ...      ...            ...\n",
       "53749   674845    20790       Maryland\n",
       "53750  1159554    87503       Missouri\n",
       "53751  1968892   131221  West Virginia\n",
       "53752  4129831   204400      Tennessee\n",
       "53753  5609850      676          Idaho\n",
       "\n",
       "[53754 rows x 3 columns]"
      ]
     },
     "execution_count": 38,
     "metadata": {},
     "output_type": "execute_result"
    }
   ],
   "source": [
    "DF5"
   ]
  },
  {
   "cell_type": "markdown",
   "id": "4c0a7d5a",
   "metadata": {},
   "source": [
    "#### number of rows indicate total number of YNC =53574"
   ]
  },
  {
   "cell_type": "code",
   "execution_count": 39,
   "id": "3095fc97",
   "metadata": {},
   "outputs": [
    {
     "data": {
      "image/png": "[encoded data removed]",
      "text/plain": [
       "<Figure size 640x480 with 1 Axes>"
      ]
     },
     "metadata": {},
     "output_type": "display_data"
    }
   ],
   "source": [
    "bar15=DF5.groupby('STATE')['user_id'].count().plot.bar()"
   ]
  },
  {
   "cell_type": "code",
   "execution_count": 40,
   "id": "ae4f0761",
   "metadata": {},
   "outputs": [
    {
     "data": {
      "text/plain": [
       "STATE\n",
       "Alabama                 1084\n",
       "Alaska                  1099\n",
       "Arizona                 1048\n",
       "Arkansas                1009\n",
       "California              1025\n",
       "Colorado                1026\n",
       "Connecticut             1024\n",
       "Delaware                1090\n",
       "District of Columbia    1057\n",
       "Florida                 1052\n",
       "Georgia                 1042\n",
       "Hawaii                  1044\n",
       "Idaho                   1062\n",
       "Illinois                1019\n",
       "Indiana                 1060\n",
       "Iowa                    1112\n",
       "Kansas                  1040\n",
       "Kentucky                1087\n",
       "Louisiana               1075\n",
       "Maine                   1023\n",
       "Maryland                1012\n",
       "Massachusetts           1022\n",
       "Michigan                1098\n",
       "Minnesota               1103\n",
       "Mississippi             1075\n",
       "Missouri                1085\n",
       "Montana                 1051\n",
       "Nebraska                1022\n",
       "Nevada                  1043\n",
       "New Hampshire           1053\n",
       "New Jersey              1021\n",
       "New Mexico              1063\n",
       "New York                1056\n",
       "North Carolina          1073\n",
       "North Dakota            1030\n",
       "Ohio                    1034\n",
       "Oklahoma                1035\n",
       "Oregon                  1025\n",
       "Pennsylvania            1090\n",
       "Rhode Island            1042\n",
       "South Carolina          1064\n",
       "South Dakota            1069\n",
       "Tennessee               1034\n",
       "Texas                   1042\n",
       "Utah                    1084\n",
       "Vermont                 1086\n",
       "Virginia                1053\n",
       "Washington              1061\n",
       "West Virginia           1019\n",
       "Wisconsin               1061\n",
       "Wyoming                 1070\n",
       "Name: user_id, dtype: int64"
      ]
     },
     "execution_count": 40,
     "metadata": {},
     "output_type": "execute_result"
    }
   ],
   "source": [
    "DF5.groupby('STATE')['user_id'].count()"
   ]
  },
  {
   "cell_type": "markdown",
   "id": "18d39621",
   "metadata": {},
   "source": [
    "#### -defining 10 Top States"
   ]
  },
  {
   "cell_type": "code",
   "execution_count": 41,
   "id": "aac475de",
   "metadata": {},
   "outputs": [
    {
     "data": {
      "text/plain": [
       "STATE\n",
       "Iowa            1112\n",
       "Minnesota       1103\n",
       "Alaska          1099\n",
       "Michigan        1098\n",
       "Pennsylvania    1090\n",
       "Delaware        1090\n",
       "Kentucky        1087\n",
       "Vermont         1086\n",
       "Missouri        1085\n",
       "Utah            1084\n",
       "Name: user_id, dtype: int64"
      ]
     },
     "execution_count": 41,
     "metadata": {},
     "output_type": "execute_result"
    }
   ],
   "source": [
    "DF5.groupby('STATE')['user_id'].count().sort_values(ascending=False).head(10)"
   ]
  },
  {
   "cell_type": "code",
   "execution_count": null,
   "id": "d53615bf",
   "metadata": {},
   "outputs": [],
   "source": []
  },
  {
   "cell_type": "markdown",
   "id": "c1b72f2d",
   "metadata": {},
   "source": [
    "#### -saving the plot"
   ]
  },
  {
   "cell_type": "code",
   "execution_count": 42,
   "id": "5d005869",
   "metadata": {},
   "outputs": [],
   "source": [
    "bar15.figure.savefig(os.path.join(path, 'Prepared Data', 'MRC_UsersNumberState.png'))"
   ]
  },
  {
   "cell_type": "markdown",
   "id": "a2d601e3",
   "metadata": {},
   "source": [
    "### 7 - Analyzing MRC by n_dependants"
   ]
  },
  {
   "cell_type": "code",
   "execution_count": 43,
   "id": "2864b045",
   "metadata": {},
   "outputs": [],
   "source": [
    "df6=df[['user_id', 'n_dependants']]"
   ]
  },
  {
   "cell_type": "code",
   "execution_count": 44,
   "id": "e5568505",
   "metadata": {},
   "outputs": [],
   "source": [
    "DF6=df6.drop_duplicates()"
   ]
  },
  {
   "cell_type": "code",
   "execution_count": 45,
   "id": "59971c8d",
   "metadata": {},
   "outputs": [
    {
     "data": {
      "text/plain": [
       "n_dependants\n",
       "0    13328\n",
       "1    13430\n",
       "2    13405\n",
       "3    13591\n",
       "Name: user_id, dtype: int64"
      ]
     },
     "execution_count": 45,
     "metadata": {},
     "output_type": "execute_result"
    }
   ],
   "source": [
    "DF6.groupby(['n_dependants'])['user_id'].count()"
   ]
  },
  {
   "cell_type": "code",
   "execution_count": 46,
   "id": "e705b023",
   "metadata": {},
   "outputs": [
    {
     "data": {
      "image/png": "[encoded data removed]",
      "text/plain": [
       "<Figure size 640x480 with 1 Axes>"
      ]
     },
     "metadata": {},
     "output_type": "display_data"
    }
   ],
   "source": [
    "pie16=DF6.groupby(['n_dependants'])['user_id'].count().plot(kind='pie', autopct='%0.01f%%')"
   ]
  },
  {
   "cell_type": "code",
   "execution_count": 47,
   "id": "4144864c",
   "metadata": {},
   "outputs": [
    {
     "data": {
      "text/html": [
       "<div>\n",
       "<style scoped>\n",
       "    .dataframe tbody tr th:only-of-type {\n",
       "        vertical-align: middle;\n",
       "    }\n",
       "\n",
       "    .dataframe tbody tr th {\n",
       "        vertical-align: top;\n",
       "    }\n",
       "\n",
       "    .dataframe thead th {\n",
       "        text-align: right;\n",
       "    }\n",
       "</style>\n",
       "<table border=\"1\" class=\"dataframe\">\n",
       "  <thead>\n",
       "    <tr style=\"text-align: right;\">\n",
       "      <th></th>\n",
       "      <th>user_id</th>\n",
       "      <th>n_dependants</th>\n",
       "    </tr>\n",
       "  </thead>\n",
       "  <tbody>\n",
       "    <tr>\n",
       "      <th>157</th>\n",
       "      <td>69965</td>\n",
       "      <td>1</td>\n",
       "    </tr>\n",
       "    <tr>\n",
       "      <th>550</th>\n",
       "      <td>37744</td>\n",
       "      <td>1</td>\n",
       "    </tr>\n",
       "    <tr>\n",
       "      <th>594</th>\n",
       "      <td>57549</td>\n",
       "      <td>0</td>\n",
       "    </tr>\n",
       "    <tr>\n",
       "      <th>731</th>\n",
       "      <td>86936</td>\n",
       "      <td>3</td>\n",
       "    </tr>\n",
       "    <tr>\n",
       "      <th>881</th>\n",
       "      <td>104359</td>\n",
       "      <td>1</td>\n",
       "    </tr>\n",
       "    <tr>\n",
       "      <th>...</th>\n",
       "      <td>...</td>\n",
       "      <td>...</td>\n",
       "    </tr>\n",
       "    <tr>\n",
       "      <th>674845</th>\n",
       "      <td>20790</td>\n",
       "      <td>0</td>\n",
       "    </tr>\n",
       "    <tr>\n",
       "      <th>1159554</th>\n",
       "      <td>87503</td>\n",
       "      <td>3</td>\n",
       "    </tr>\n",
       "    <tr>\n",
       "      <th>1968892</th>\n",
       "      <td>131221</td>\n",
       "      <td>0</td>\n",
       "    </tr>\n",
       "    <tr>\n",
       "      <th>4129831</th>\n",
       "      <td>204400</td>\n",
       "      <td>2</td>\n",
       "    </tr>\n",
       "    <tr>\n",
       "      <th>5609850</th>\n",
       "      <td>676</td>\n",
       "      <td>0</td>\n",
       "    </tr>\n",
       "  </tbody>\n",
       "</table>\n",
       "<p>53754 rows × 2 columns</p>\n",
       "</div>"
      ],
      "text/plain": [
       "         user_id  n_dependants\n",
       "157        69965             1\n",
       "550        37744             1\n",
       "594        57549             0\n",
       "731        86936             3\n",
       "881       104359             1\n",
       "...          ...           ...\n",
       "674845     20790             0\n",
       "1159554    87503             3\n",
       "1968892   131221             0\n",
       "4129831   204400             2\n",
       "5609850      676             0\n",
       "\n",
       "[53754 rows x 2 columns]"
      ]
     },
     "execution_count": 47,
     "metadata": {},
     "output_type": "execute_result"
    }
   ],
   "source": [
    "DF6"
   ]
  },
  {
   "cell_type": "markdown",
   "id": "4402e712",
   "metadata": {},
   "source": [
    "#### saving the plot"
   ]
  },
  {
   "cell_type": "code",
   "execution_count": 48,
   "id": "930f9006",
   "metadata": {},
   "outputs": [],
   "source": [
    "pie16.figure.savefig(os.path.join(path, 'Prepared Data', 'MRC_NDependansUsers.png'))"
   ]
  },
  {
   "cell_type": "markdown",
   "id": "69240cad",
   "metadata": {},
   "source": [
    "### 8 - Analyzing MRC Days since prior order"
   ]
  },
  {
   "cell_type": "code",
   "execution_count": 49,
   "id": "38b4175f",
   "metadata": {},
   "outputs": [
    {
     "data": {
      "image/png": "[encoded data removed]",
      "text/plain": [
       "<Figure size 640x480 with 1 Axes>"
      ]
     },
     "metadata": {},
     "output_type": "display_data"
    }
   ],
   "source": [
    "line17=df.groupby('days_since_prior_order')['days_since_prior_order'].count().plot(kind='line')"
   ]
  },
  {
   "cell_type": "code",
   "execution_count": 50,
   "id": "4bc710c4",
   "metadata": {},
   "outputs": [
    {
     "data": {
      "text/plain": [
       "days_since_prior_order\n",
       "0      657224\n",
       "1      169807\n",
       "2      267825\n",
       "3      376591\n",
       "4      476425\n",
       "5      565680\n",
       "6      763252\n",
       "7     1129646\n",
       "8      680187\n",
       "9      457549\n",
       "10     376490\n",
       "11     328266\n",
       "12     317485\n",
       "13     360676\n",
       "14     443657\n",
       "15     290308\n",
       "16     199822\n",
       "17     165419\n",
       "18     154771\n",
       "19     145698\n",
       "20     166723\n",
       "21     193060\n",
       "22     135456\n",
       "23      96177\n",
       "24      82957\n",
       "25      76159\n",
       "26      74953\n",
       "27      87009\n",
       "28     104383\n",
       "29      72776\n",
       "30    1024827\n",
       "Name: days_since_prior_order, dtype: int64"
      ]
     },
     "execution_count": 50,
     "metadata": {},
     "output_type": "execute_result"
    }
   ],
   "source": [
    "df.groupby('days_since_prior_order')['days_since_prior_order'].count()"
   ]
  },
  {
   "cell_type": "code",
   "execution_count": 51,
   "id": "dc157699",
   "metadata": {},
   "outputs": [],
   "source": [
    "line17.figure.savefig(os.path.join(path, 'Prepared Data', 'MRC_DaysSincePriorOrder.png'))"
   ]
  },
  {
   "cell_type": "markdown",
   "id": "3d0c4597",
   "metadata": {},
   "source": [
    "### 9- Defining MRC TOP products for client group\n"
   ]
  },
  {
   "cell_type": "markdown",
   "id": "f0621a1a",
   "metadata": {},
   "source": [
    " #### creating subset"
   ]
  },
  {
   "cell_type": "code",
   "execution_count": 52,
   "id": "b5303195",
   "metadata": {},
   "outputs": [],
   "source": [
    "df18=df[['product_name','product_id','prices']]"
   ]
  },
  {
   "cell_type": "code",
   "execution_count": 53,
   "id": "bc00aa6b",
   "metadata": {},
   "outputs": [
    {
     "data": {
      "text/html": [
       "<div>\n",
       "<style scoped>\n",
       "    .dataframe tbody tr th:only-of-type {\n",
       "        vertical-align: middle;\n",
       "    }\n",
       "\n",
       "    .dataframe tbody tr th {\n",
       "        vertical-align: top;\n",
       "    }\n",
       "\n",
       "    .dataframe thead th {\n",
       "        text-align: right;\n",
       "    }\n",
       "</style>\n",
       "<table border=\"1\" class=\"dataframe\">\n",
       "  <thead>\n",
       "    <tr style=\"text-align: right;\">\n",
       "      <th></th>\n",
       "      <th>product_name</th>\n",
       "      <th>product_id</th>\n",
       "      <th>prices</th>\n",
       "    </tr>\n",
       "  </thead>\n",
       "  <tbody>\n",
       "    <tr>\n",
       "      <th>157</th>\n",
       "      <td>Yellow Bell Pepper</td>\n",
       "      <td>2295</td>\n",
       "      <td>6.5</td>\n",
       "    </tr>\n",
       "    <tr>\n",
       "      <th>158</th>\n",
       "      <td>Organic Turkey Bacon</td>\n",
       "      <td>5646</td>\n",
       "      <td>24.2</td>\n",
       "    </tr>\n",
       "    <tr>\n",
       "      <th>159</th>\n",
       "      <td>Organic Lemon</td>\n",
       "      <td>5876</td>\n",
       "      <td>3.6</td>\n",
       "    </tr>\n",
       "    <tr>\n",
       "      <th>160</th>\n",
       "      <td>Organic Unsweetened Vanilla Almond Milk</td>\n",
       "      <td>14084</td>\n",
       "      <td>12.5</td>\n",
       "    </tr>\n",
       "    <tr>\n",
       "      <th>161</th>\n",
       "      <td>Powdered Peanut Butter</td>\n",
       "      <td>17304</td>\n",
       "      <td>7.6</td>\n",
       "    </tr>\n",
       "    <tr>\n",
       "      <th>...</th>\n",
       "      <td>...</td>\n",
       "      <td>...</td>\n",
       "      <td>...</td>\n",
       "    </tr>\n",
       "    <tr>\n",
       "      <th>6464238</th>\n",
       "      <td>Chicken Franks</td>\n",
       "      <td>45994</td>\n",
       "      <td>15.6</td>\n",
       "    </tr>\n",
       "    <tr>\n",
       "      <th>6464239</th>\n",
       "      <td>Chicken Franks</td>\n",
       "      <td>45994</td>\n",
       "      <td>15.6</td>\n",
       "    </tr>\n",
       "    <tr>\n",
       "      <th>6464240</th>\n",
       "      <td>Chicken Franks</td>\n",
       "      <td>45994</td>\n",
       "      <td>15.6</td>\n",
       "    </tr>\n",
       "    <tr>\n",
       "      <th>6464241</th>\n",
       "      <td>Chicken Franks</td>\n",
       "      <td>45994</td>\n",
       "      <td>15.6</td>\n",
       "    </tr>\n",
       "    <tr>\n",
       "      <th>6464242</th>\n",
       "      <td>Chicken Franks</td>\n",
       "      <td>45994</td>\n",
       "      <td>15.6</td>\n",
       "    </tr>\n",
       "  </tbody>\n",
       "</table>\n",
       "<p>10441258 rows × 3 columns</p>\n",
       "</div>"
      ],
      "text/plain": [
       "                                    product_name  product_id  prices\n",
       "157                           Yellow Bell Pepper        2295     6.5\n",
       "158                         Organic Turkey Bacon        5646    24.2\n",
       "159                                Organic Lemon        5876     3.6\n",
       "160      Organic Unsweetened Vanilla Almond Milk       14084    12.5\n",
       "161                       Powdered Peanut Butter       17304     7.6\n",
       "...                                          ...         ...     ...\n",
       "6464238                           Chicken Franks       45994    15.6\n",
       "6464239                           Chicken Franks       45994    15.6\n",
       "6464240                           Chicken Franks       45994    15.6\n",
       "6464241                           Chicken Franks       45994    15.6\n",
       "6464242                           Chicken Franks       45994    15.6\n",
       "\n",
       "[10441258 rows x 3 columns]"
      ]
     },
     "execution_count": 53,
     "metadata": {},
     "output_type": "execute_result"
    }
   ],
   "source": [
    "df18"
   ]
  },
  {
   "cell_type": "markdown",
   "id": "dbc97ae0",
   "metadata": {},
   "source": [
    "#### identifying the most populare products counting orders rows  and selecting 10 TOP "
   ]
  },
  {
   "cell_type": "code",
   "execution_count": 59,
   "id": "8d2dd45a",
   "metadata": {},
   "outputs": [],
   "source": [
    "DF18=df18.groupby('product_name')['prices'].count().sort_values( ascending=False).reset_index().head(10)"
   ]
  },
  {
   "cell_type": "code",
   "execution_count": 60,
   "id": "9a600ca3",
   "metadata": {},
   "outputs": [
    {
     "data": {
      "text/html": [
       "<div>\n",
       "<style scoped>\n",
       "    .dataframe tbody tr th:only-of-type {\n",
       "        vertical-align: middle;\n",
       "    }\n",
       "\n",
       "    .dataframe tbody tr th {\n",
       "        vertical-align: top;\n",
       "    }\n",
       "\n",
       "    .dataframe thead th {\n",
       "        text-align: right;\n",
       "    }\n",
       "</style>\n",
       "<table border=\"1\" class=\"dataframe\">\n",
       "  <thead>\n",
       "    <tr style=\"text-align: right;\">\n",
       "      <th></th>\n",
       "      <th>product_name</th>\n",
       "      <th>prices</th>\n",
       "    </tr>\n",
       "  </thead>\n",
       "  <tbody>\n",
       "    <tr>\n",
       "      <th>0</th>\n",
       "      <td>Banana</td>\n",
       "      <td>151369</td>\n",
       "    </tr>\n",
       "    <tr>\n",
       "      <th>1</th>\n",
       "      <td>Bag of Organic Bananas</td>\n",
       "      <td>114214</td>\n",
       "    </tr>\n",
       "    <tr>\n",
       "      <th>2</th>\n",
       "      <td>Organic Strawberries</td>\n",
       "      <td>77529</td>\n",
       "    </tr>\n",
       "    <tr>\n",
       "      <th>3</th>\n",
       "      <td>Organic Baby Spinach</td>\n",
       "      <td>76957</td>\n",
       "    </tr>\n",
       "    <tr>\n",
       "      <th>4</th>\n",
       "      <td>Organic Hass Avocado</td>\n",
       "      <td>64135</td>\n",
       "    </tr>\n",
       "    <tr>\n",
       "      <th>5</th>\n",
       "      <td></td>\n",
       "      <td>63387</td>\n",
       "    </tr>\n",
       "    <tr>\n",
       "      <th>6</th>\n",
       "      <td>Organic Avocado</td>\n",
       "      <td>58889</td>\n",
       "    </tr>\n",
       "    <tr>\n",
       "      <th>7</th>\n",
       "      <td>Large Lemon</td>\n",
       "      <td>50692</td>\n",
       "    </tr>\n",
       "    <tr>\n",
       "      <th>8</th>\n",
       "      <td>Strawberries</td>\n",
       "      <td>47629</td>\n",
       "    </tr>\n",
       "    <tr>\n",
       "      <th>9</th>\n",
       "      <td>Limes</td>\n",
       "      <td>45188</td>\n",
       "    </tr>\n",
       "  </tbody>\n",
       "</table>\n",
       "</div>"
      ],
      "text/plain": [
       "             product_name  prices\n",
       "0                  Banana  151369\n",
       "1  Bag of Organic Bananas  114214\n",
       "2    Organic Strawberries   77529\n",
       "3    Organic Baby Spinach   76957\n",
       "4    Organic Hass Avocado   64135\n",
       "5                           63387\n",
       "6         Organic Avocado   58889\n",
       "7             Large Lemon   50692\n",
       "8            Strawberries   47629\n",
       "9                   Limes   45188"
      ]
     },
     "execution_count": 60,
     "metadata": {},
     "output_type": "execute_result"
    }
   ],
   "source": [
    "DF18"
   ]
  },
  {
   "cell_type": "code",
   "execution_count": 55,
   "id": "93087406",
   "metadata": {},
   "outputs": [],
   "source": [
    "DF18=DF18.rename(columns={'prices':'count_orders'})"
   ]
  },
  {
   "cell_type": "code",
   "execution_count": 61,
   "id": "501292d6",
   "metadata": {},
   "outputs": [],
   "source": [
    "DF18=DF18.drop(index=5)"
   ]
  },
  {
   "cell_type": "code",
   "execution_count": 62,
   "id": "992dffcb",
   "metadata": {},
   "outputs": [
    {
     "data": {
      "text/html": [
       "<div>\n",
       "<style scoped>\n",
       "    .dataframe tbody tr th:only-of-type {\n",
       "        vertical-align: middle;\n",
       "    }\n",
       "\n",
       "    .dataframe tbody tr th {\n",
       "        vertical-align: top;\n",
       "    }\n",
       "\n",
       "    .dataframe thead th {\n",
       "        text-align: right;\n",
       "    }\n",
       "</style>\n",
       "<table border=\"1\" class=\"dataframe\">\n",
       "  <thead>\n",
       "    <tr style=\"text-align: right;\">\n",
       "      <th></th>\n",
       "      <th>product_name</th>\n",
       "      <th>prices</th>\n",
       "    </tr>\n",
       "  </thead>\n",
       "  <tbody>\n",
       "    <tr>\n",
       "      <th>0</th>\n",
       "      <td>Banana</td>\n",
       "      <td>151369</td>\n",
       "    </tr>\n",
       "    <tr>\n",
       "      <th>1</th>\n",
       "      <td>Bag of Organic Bananas</td>\n",
       "      <td>114214</td>\n",
       "    </tr>\n",
       "    <tr>\n",
       "      <th>2</th>\n",
       "      <td>Organic Strawberries</td>\n",
       "      <td>77529</td>\n",
       "    </tr>\n",
       "    <tr>\n",
       "      <th>3</th>\n",
       "      <td>Organic Baby Spinach</td>\n",
       "      <td>76957</td>\n",
       "    </tr>\n",
       "    <tr>\n",
       "      <th>4</th>\n",
       "      <td>Organic Hass Avocado</td>\n",
       "      <td>64135</td>\n",
       "    </tr>\n",
       "    <tr>\n",
       "      <th>6</th>\n",
       "      <td>Organic Avocado</td>\n",
       "      <td>58889</td>\n",
       "    </tr>\n",
       "    <tr>\n",
       "      <th>7</th>\n",
       "      <td>Large Lemon</td>\n",
       "      <td>50692</td>\n",
       "    </tr>\n",
       "    <tr>\n",
       "      <th>8</th>\n",
       "      <td>Strawberries</td>\n",
       "      <td>47629</td>\n",
       "    </tr>\n",
       "    <tr>\n",
       "      <th>9</th>\n",
       "      <td>Limes</td>\n",
       "      <td>45188</td>\n",
       "    </tr>\n",
       "  </tbody>\n",
       "</table>\n",
       "</div>"
      ],
      "text/plain": [
       "             product_name  prices\n",
       "0                  Banana  151369\n",
       "1  Bag of Organic Bananas  114214\n",
       "2    Organic Strawberries   77529\n",
       "3    Organic Baby Spinach   76957\n",
       "4    Organic Hass Avocado   64135\n",
       "6         Organic Avocado   58889\n",
       "7             Large Lemon   50692\n",
       "8            Strawberries   47629\n",
       "9                   Limes   45188"
      ]
     },
     "execution_count": 62,
     "metadata": {},
     "output_type": "execute_result"
    }
   ],
   "source": [
    "DF18"
   ]
  },
  {
   "cell_type": "markdown",
   "id": "e81502a4",
   "metadata": {},
   "source": [
    "#### -creating plot"
   ]
  },
  {
   "cell_type": "code",
   "execution_count": 63,
   "id": "24b293eb",
   "metadata": {},
   "outputs": [
    {
     "data": {
      "image/png": "[encoded data removed]",
      "text/plain": [
       "<Figure size 640x480 with 1 Axes>"
      ]
     },
     "metadata": {},
     "output_type": "display_data"
    }
   ],
   "source": [
    "Bar21=DF18.plot.barh(x='product_name')"
   ]
  },
  {
   "cell_type": "markdown",
   "id": "55217e2b",
   "metadata": {},
   "source": [
    "#### -saving the plot"
   ]
  },
  {
   "cell_type": "code",
   "execution_count": 64,
   "id": "6f746e60",
   "metadata": {},
   "outputs": [],
   "source": [
    "Bar21.figure.savefig(os.path.join(path, 'Prepared Data', 'MRC_Products.png'))"
   ]
  },
  {
   "cell_type": "code",
   "execution_count": null,
   "id": "2fea46c3",
   "metadata": {},
   "outputs": [],
   "source": []
  }
 ],
 "metadata": {
  "kernelspec": {
   "display_name": "Python 3 (ipykernel)",
   "language": "python",
   "name": "python3"
  },
  "language_info": {
   "codemirror_mode": {
    "name": "ipython",
    "version": 3
   },
   "file_extension": ".py",
   "mimetype": "text/x-python",
   "name": "python",
   "nbconvert_exporter": "python",
   "pygments_lexer": "ipython3",
   "version": "3.10.9"
  }
 },
 "nbformat": 4,
 "nbformat_minor": 5
}
