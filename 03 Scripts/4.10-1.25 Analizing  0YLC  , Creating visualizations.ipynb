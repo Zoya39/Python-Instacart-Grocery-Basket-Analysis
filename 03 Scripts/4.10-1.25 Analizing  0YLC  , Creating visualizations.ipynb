{
 "cells": [
  {
   "cell_type": "markdown",
   "id": "dc856afc",
   "metadata": {},
   "source": [
    "### 4.10 Part 1.25 Yang Loyal Consumer\n",
    "#### 1 - importing libraries\n",
    "#### 2 - Importing df\n",
    "#### 3 - Analyzing  by Loyalty Flag\n",
    "#### 4 - Analyzing Purshases by Income\n",
    "#### 5 - Analyzing by Busiest_day\n",
    "#### 6 - Analyzing number by State\n",
    "#### 7 - Analyzing by n_dependants\n",
    "#### 8 - Analyzing Days since prior order\n",
    "#### 9 - Defining TOP products for client group"
   ]
  },
  {
   "cell_type": "markdown",
   "id": "b3478eda",
   "metadata": {},
   "source": [
    "### 1 Importing libraries and df w/o PII"
   ]
  },
  {
   "cell_type": "code",
   "execution_count": 1,
   "id": "e865d8b6",
   "metadata": {},
   "outputs": [],
   "source": [
    "import pandas as pd\n",
    "import numpy as np\n",
    "import os\n",
    "import matplotlib.pyplot as plt\n",
    "import seaborn as sns\n",
    "import scipy"
   ]
  },
  {
   "cell_type": "code",
   "execution_count": 2,
   "id": "a0d783f3",
   "metadata": {},
   "outputs": [],
   "source": [
    "path=r'C:\\Users\\user\\07-2023 Instacart Basket Analysis\\02 Data'"
   ]
  },
  {
   "cell_type": "markdown",
   "id": "7d9928b7",
   "metadata": {},
   "source": [
    "### 2 Importing df"
   ]
  },
  {
   "cell_type": "code",
   "execution_count": 3,
   "id": "339d7784",
   "metadata": {},
   "outputs": [],
   "source": [
    "df=pd.read_pickle(os.path.join(path,'Prepared Data','0YLC.pkl'))"
   ]
  },
  {
   "cell_type": "code",
   "execution_count": 4,
   "id": "dd1cde48",
   "metadata": {},
   "outputs": [
    {
     "data": {
      "text/plain": [
       "Index(['user_id', 'Gender', 'STATE', 'Age', 'date_joined', 'n_dependants',\n",
       "       'fam_status', 'income', 'product_id', 'product_name', 'aisle_id',\n",
       "       'department_id', 'prices', 'order_id', 'eval_set', 'order_number',\n",
       "       'day_of_week', 'order_hour_of_day', 'days_since_prior_order',\n",
       "       'add_to_cart_order', 'reordered', 'price_range_loc', 'busiest_day',\n",
       "       'busiest days', 'max_order', 'loyalty_flag', 'mean_price',\n",
       "       'spender_flag', 'median_days_sinse_ord', 'frequent_flag'],\n",
       "      dtype='object')"
      ]
     },
     "execution_count": 4,
     "metadata": {},
     "output_type": "execute_result"
    }
   ],
   "source": [
    "df.columns"
   ]
  },
  {
   "cell_type": "code",
   "execution_count": 5,
   "id": "a95c3088",
   "metadata": {},
   "outputs": [
    {
     "data": {
      "text/plain": [
       "(3815770, 30)"
      ]
     },
     "execution_count": 5,
     "metadata": {},
     "output_type": "execute_result"
    }
   ],
   "source": [
    "df.shape"
   ]
  },
  {
   "cell_type": "code",
   "execution_count": 6,
   "id": "d110e1b9",
   "metadata": {},
   "outputs": [
    {
     "data": {
      "text/html": [
       "<div>\n",
       "<style scoped>\n",
       "    .dataframe tbody tr th:only-of-type {\n",
       "        vertical-align: middle;\n",
       "    }\n",
       "\n",
       "    .dataframe tbody tr th {\n",
       "        vertical-align: top;\n",
       "    }\n",
       "\n",
       "    .dataframe thead th {\n",
       "        text-align: right;\n",
       "    }\n",
       "</style>\n",
       "<table border=\"1\" class=\"dataframe\">\n",
       "  <thead>\n",
       "    <tr style=\"text-align: right;\">\n",
       "      <th></th>\n",
       "      <th>user_id</th>\n",
       "      <th>Age</th>\n",
       "      <th>income</th>\n",
       "      <th>product_id</th>\n",
       "      <th>order_number</th>\n",
       "      <th>mean_price</th>\n",
       "    </tr>\n",
       "  </thead>\n",
       "  <tbody>\n",
       "    <tr>\n",
       "      <th>count</th>\n",
       "      <td>3.815770e+06</td>\n",
       "      <td>3.815770e+06</td>\n",
       "      <td>3.815770e+06</td>\n",
       "      <td>3.815770e+06</td>\n",
       "      <td>3.815770e+06</td>\n",
       "      <td>3.815770e+06</td>\n",
       "    </tr>\n",
       "    <tr>\n",
       "      <th>mean</th>\n",
       "      <td>1.024431e+05</td>\n",
       "      <td>2.901497e+01</td>\n",
       "      <td>7.110112e+04</td>\n",
       "      <td>2.551685e+04</td>\n",
       "      <td>3.234246e+01</td>\n",
       "      <td>1.052552e+01</td>\n",
       "    </tr>\n",
       "    <tr>\n",
       "      <th>std</th>\n",
       "      <td>5.994546e+04</td>\n",
       "      <td>6.648246e+00</td>\n",
       "      <td>2.528649e+04</td>\n",
       "      <td>1.406407e+04</td>\n",
       "      <td>2.166153e+01</td>\n",
       "      <td>7.454621e+01</td>\n",
       "    </tr>\n",
       "    <tr>\n",
       "      <th>min</th>\n",
       "      <td>1.700000e+01</td>\n",
       "      <td>1.800000e+01</td>\n",
       "      <td>2.595500e+04</td>\n",
       "      <td>0.000000e+00</td>\n",
       "      <td>1.000000e+00</td>\n",
       "      <td>2.387671e+00</td>\n",
       "    </tr>\n",
       "    <tr>\n",
       "      <th>25%</th>\n",
       "      <td>4.980800e+04</td>\n",
       "      <td>2.300000e+01</td>\n",
       "      <td>5.679500e+04</td>\n",
       "      <td>1.351200e+04</td>\n",
       "      <td>1.500000e+01</td>\n",
       "      <td>7.432517e+00</td>\n",
       "    </tr>\n",
       "    <tr>\n",
       "      <th>50%</th>\n",
       "      <td>1.030540e+05</td>\n",
       "      <td>2.900000e+01</td>\n",
       "      <td>6.947100e+04</td>\n",
       "      <td>2.508700e+04</td>\n",
       "      <td>3.000000e+01</td>\n",
       "      <td>7.816157e+00</td>\n",
       "    </tr>\n",
       "    <tr>\n",
       "      <th>75%</th>\n",
       "      <td>1.545210e+05</td>\n",
       "      <td>3.500000e+01</td>\n",
       "      <td>8.448400e+04</td>\n",
       "      <td>3.775000e+04</td>\n",
       "      <td>4.500000e+01</td>\n",
       "      <td>8.193416e+00</td>\n",
       "    </tr>\n",
       "    <tr>\n",
       "      <th>max</th>\n",
       "      <td>2.062060e+05</td>\n",
       "      <td>4.000000e+01</td>\n",
       "      <td>3.953600e+05</td>\n",
       "      <td>4.968800e+04</td>\n",
       "      <td>1.000000e+02</td>\n",
       "      <td>8.794882e+03</td>\n",
       "    </tr>\n",
       "  </tbody>\n",
       "</table>\n",
       "</div>"
      ],
      "text/plain": [
       "            user_id           Age        income    product_id  order_number  \\\n",
       "count  3.815770e+06  3.815770e+06  3.815770e+06  3.815770e+06  3.815770e+06   \n",
       "mean   1.024431e+05  2.901497e+01  7.110112e+04  2.551685e+04  3.234246e+01   \n",
       "std    5.994546e+04  6.648246e+00  2.528649e+04  1.406407e+04  2.166153e+01   \n",
       "min    1.700000e+01  1.800000e+01  2.595500e+04  0.000000e+00  1.000000e+00   \n",
       "25%    4.980800e+04  2.300000e+01  5.679500e+04  1.351200e+04  1.500000e+01   \n",
       "50%    1.030540e+05  2.900000e+01  6.947100e+04  2.508700e+04  3.000000e+01   \n",
       "75%    1.545210e+05  3.500000e+01  8.448400e+04  3.775000e+04  4.500000e+01   \n",
       "max    2.062060e+05  4.000000e+01  3.953600e+05  4.968800e+04  1.000000e+02   \n",
       "\n",
       "         mean_price  \n",
       "count  3.815770e+06  \n",
       "mean   1.052552e+01  \n",
       "std    7.454621e+01  \n",
       "min    2.387671e+00  \n",
       "25%    7.432517e+00  \n",
       "50%    7.816157e+00  \n",
       "75%    8.193416e+00  \n",
       "max    8.794882e+03  "
      ]
     },
     "execution_count": 6,
     "metadata": {},
     "output_type": "execute_result"
    }
   ],
   "source": [
    "df[['user_id','Age', 'income','product_id', 'order_number','mean_price']] .describe()"
   ]
  },
  {
   "cell_type": "markdown",
   "id": "08380bfb",
   "metadata": {},
   "source": [
    "### 3 -Analyzing YLC by Frequent Flag"
   ]
  },
  {
   "cell_type": "markdown",
   "id": "6e53f0cf",
   "metadata": {},
   "source": [
    "#### --creating the subset to avoid Memory Error"
   ]
  },
  {
   "cell_type": "code",
   "execution_count": 7,
   "id": "ca583f66",
   "metadata": {},
   "outputs": [],
   "source": [
    "df1=df[['user_id','fam_status','frequent_flag']]"
   ]
  },
  {
   "cell_type": "code",
   "execution_count": 8,
   "id": "ae779de1",
   "metadata": {},
   "outputs": [],
   "source": [
    "df11=df1.drop_duplicates().reset_index()"
   ]
  },
  {
   "cell_type": "code",
   "execution_count": 9,
   "id": "886f2f16",
   "metadata": {},
   "outputs": [
    {
     "data": {
      "text/html": [
       "<div>\n",
       "<style scoped>\n",
       "    .dataframe tbody tr th:only-of-type {\n",
       "        vertical-align: middle;\n",
       "    }\n",
       "\n",
       "    .dataframe tbody tr th {\n",
       "        vertical-align: top;\n",
       "    }\n",
       "\n",
       "    .dataframe thead th {\n",
       "        text-align: right;\n",
       "    }\n",
       "</style>\n",
       "<table border=\"1\" class=\"dataframe\">\n",
       "  <thead>\n",
       "    <tr style=\"text-align: right;\">\n",
       "      <th></th>\n",
       "      <th>index</th>\n",
       "      <th>user_id</th>\n",
       "      <th>fam_status</th>\n",
       "      <th>frequent_flag</th>\n",
       "    </tr>\n",
       "  </thead>\n",
       "  <tbody>\n",
       "    <tr>\n",
       "      <th>0</th>\n",
       "      <td>1163</td>\n",
       "      <td>127020</td>\n",
       "      <td>married</td>\n",
       "      <td>Frequent customer</td>\n",
       "    </tr>\n",
       "    <tr>\n",
       "      <th>1</th>\n",
       "      <td>1933</td>\n",
       "      <td>19666</td>\n",
       "      <td>married</td>\n",
       "      <td>Frequent customer</td>\n",
       "    </tr>\n",
       "    <tr>\n",
       "      <th>2</th>\n",
       "      <td>2693</td>\n",
       "      <td>202887</td>\n",
       "      <td>living with parents and siblings</td>\n",
       "      <td>Frequent customer</td>\n",
       "    </tr>\n",
       "    <tr>\n",
       "      <th>3</th>\n",
       "      <td>6973</td>\n",
       "      <td>33626</td>\n",
       "      <td>living with parents and siblings</td>\n",
       "      <td>Frequent customer</td>\n",
       "    </tr>\n",
       "    <tr>\n",
       "      <th>4</th>\n",
       "      <td>8470</td>\n",
       "      <td>100536</td>\n",
       "      <td>living with parents and siblings</td>\n",
       "      <td>Frequent customer</td>\n",
       "    </tr>\n",
       "    <tr>\n",
       "      <th>...</th>\n",
       "      <td>...</td>\n",
       "      <td>...</td>\n",
       "      <td>...</td>\n",
       "      <td>...</td>\n",
       "    </tr>\n",
       "    <tr>\n",
       "      <th>6313</th>\n",
       "      <td>6520424</td>\n",
       "      <td>197161</td>\n",
       "      <td>single</td>\n",
       "      <td>Frequent customer</td>\n",
       "    </tr>\n",
       "    <tr>\n",
       "      <th>6314</th>\n",
       "      <td>6521307</td>\n",
       "      <td>94601</td>\n",
       "      <td>married</td>\n",
       "      <td>Frequent customer</td>\n",
       "    </tr>\n",
       "    <tr>\n",
       "      <th>6315</th>\n",
       "      <td>6523031</td>\n",
       "      <td>179310</td>\n",
       "      <td>married</td>\n",
       "      <td>Frequent customer</td>\n",
       "    </tr>\n",
       "    <tr>\n",
       "      <th>6316</th>\n",
       "      <td>6523432</td>\n",
       "      <td>33960</td>\n",
       "      <td>living with parents and siblings</td>\n",
       "      <td>Frequent customer</td>\n",
       "    </tr>\n",
       "    <tr>\n",
       "      <th>6317</th>\n",
       "      <td>6523637</td>\n",
       "      <td>77311</td>\n",
       "      <td>living with parents and siblings</td>\n",
       "      <td>Frequent customer</td>\n",
       "    </tr>\n",
       "  </tbody>\n",
       "</table>\n",
       "<p>6318 rows × 4 columns</p>\n",
       "</div>"
      ],
      "text/plain": [
       "        index  user_id                        fam_status      frequent_flag\n",
       "0        1163   127020                           married  Frequent customer\n",
       "1        1933    19666                           married  Frequent customer\n",
       "2        2693   202887  living with parents and siblings  Frequent customer\n",
       "3        6973    33626  living with parents and siblings  Frequent customer\n",
       "4        8470   100536  living with parents and siblings  Frequent customer\n",
       "...       ...      ...                               ...                ...\n",
       "6313  6520424   197161                            single  Frequent customer\n",
       "6314  6521307    94601                           married  Frequent customer\n",
       "6315  6523031   179310                           married  Frequent customer\n",
       "6316  6523432    33960  living with parents and siblings  Frequent customer\n",
       "6317  6523637    77311  living with parents and siblings  Frequent customer\n",
       "\n",
       "[6318 rows x 4 columns]"
      ]
     },
     "execution_count": 9,
     "metadata": {},
     "output_type": "execute_result"
    }
   ],
   "source": [
    "df11"
   ]
  },
  {
   "cell_type": "markdown",
   "id": "8a4e55ee",
   "metadata": {},
   "source": [
    "#### -analyzing YLC by Frequent_flag and Family Status based on customers number"
   ]
  },
  {
   "cell_type": "code",
   "execution_count": 10,
   "id": "b10af605",
   "metadata": {},
   "outputs": [
    {
     "data": {
      "image/png": "[encoded data removed]",
      "text/plain": [
       "<Figure size 640x480 with 1 Axes>"
      ]
     },
     "metadata": {},
     "output_type": "display_data"
    }
   ],
   "source": [
    "bar12=df11.groupby('fam_status')['frequent_flag'].value_counts().unstack().plot.barh()"
   ]
  },
  {
   "cell_type": "code",
   "execution_count": 11,
   "id": "cdd18c95",
   "metadata": {},
   "outputs": [],
   "source": [
    "bar12.figure.savefig(os.path.join(path, 'Prepared Data', 'YLC_LoyaltyFlag.png'))"
   ]
  },
  {
   "cell_type": "code",
   "execution_count": 12,
   "id": "9633aa76",
   "metadata": {},
   "outputs": [
    {
     "data": {
      "text/plain": [
       "fam_status                        frequent_flag    \n",
       "living with parents and siblings  Frequent customer     851\n",
       "                                                          1\n",
       "married                           Frequent customer    3889\n",
       "                                                          4\n",
       "                                  Regular customer        2\n",
       "single                            Frequent customer    1567\n",
       "                                                          4\n",
       "Name: frequent_flag, dtype: int64"
      ]
     },
     "execution_count": 12,
     "metadata": {},
     "output_type": "execute_result"
    }
   ],
   "source": [
    "df11.groupby('fam_status')['frequent_flag'].value_counts()"
   ]
  },
  {
   "cell_type": "markdown",
   "id": "432fdabf",
   "metadata": {},
   "source": [
    "### -analyzing YLC by Frequent flag and Family Status based on purchase number"
   ]
  },
  {
   "cell_type": "code",
   "execution_count": 13,
   "id": "41bc2683",
   "metadata": {},
   "outputs": [
    {
     "data": {
      "image/png": "[encoded data removed]",
      "text/plain": [
       "<Figure size 640x480 with 1 Axes>"
      ]
     },
     "metadata": {},
     "output_type": "display_data"
    }
   ],
   "source": [
    "bar12=df1.groupby('fam_status')['frequent_flag'].value_counts().unstack().plot.barh()"
   ]
  },
  {
   "cell_type": "code",
   "execution_count": 16,
   "id": "d0c74606",
   "metadata": {},
   "outputs": [],
   "source": [
    "bar12.figure.savefig(os.path.join(path, 'Prepared Data', 'YLC_LoyaltyFlagSales.png'))"
   ]
  },
  {
   "cell_type": "code",
   "execution_count": 15,
   "id": "7d9900be",
   "metadata": {},
   "outputs": [
    {
     "data": {
      "text/plain": [
       "fam_status                        frequent_flag    \n",
       "living with parents and siblings  Frequent customer     851\n",
       "                                                          1\n",
       "married                           Frequent customer    3889\n",
       "                                                          4\n",
       "                                  Regular customer        2\n",
       "single                            Frequent customer    1567\n",
       "                                                          4\n",
       "Name: frequent_flag, dtype: int64"
      ]
     },
     "execution_count": 15,
     "metadata": {},
     "output_type": "execute_result"
    }
   ],
   "source": [
    "df11.groupby('fam_status')['frequent_flag'].value_counts()"
   ]
  },
  {
   "cell_type": "code",
   "execution_count": null,
   "id": "0d411ab1",
   "metadata": {},
   "outputs": [],
   "source": []
  },
  {
   "cell_type": "markdown",
   "id": "6df1434e",
   "metadata": {},
   "source": [
    "### 4 -analyzing YLC purshases by their income"
   ]
  },
  {
   "cell_type": "code",
   "execution_count": 17,
   "id": "77ac4735",
   "metadata": {},
   "outputs": [],
   "source": [
    "df2=df[['prices', 'income']]"
   ]
  },
  {
   "cell_type": "code",
   "execution_count": 18,
   "id": "e10061de",
   "metadata": {},
   "outputs": [
    {
     "data": {
      "text/plain": [
       "40088735.8"
      ]
     },
     "execution_count": 18,
     "metadata": {},
     "output_type": "execute_result"
    }
   ],
   "source": [
    "df2['prices'].sum()"
   ]
  },
  {
   "cell_type": "code",
   "execution_count": 19,
   "id": "9c144c3a",
   "metadata": {},
   "outputs": [],
   "source": [
    "df22=df2.groupby('income').agg(mean_purshase=('prices','mean'))"
   ]
  },
  {
   "cell_type": "code",
   "execution_count": 20,
   "id": "b81dd39e",
   "metadata": {},
   "outputs": [
    {
     "data": {
      "text/html": [
       "<div>\n",
       "<style scoped>\n",
       "    .dataframe tbody tr th:only-of-type {\n",
       "        vertical-align: middle;\n",
       "    }\n",
       "\n",
       "    .dataframe tbody tr th {\n",
       "        vertical-align: top;\n",
       "    }\n",
       "\n",
       "    .dataframe thead th {\n",
       "        text-align: right;\n",
       "    }\n",
       "</style>\n",
       "<table border=\"1\" class=\"dataframe\">\n",
       "  <thead>\n",
       "    <tr style=\"text-align: right;\">\n",
       "      <th></th>\n",
       "      <th>mean_purshase</th>\n",
       "    </tr>\n",
       "    <tr>\n",
       "      <th>income</th>\n",
       "      <th></th>\n",
       "    </tr>\n",
       "  </thead>\n",
       "  <tbody>\n",
       "    <tr>\n",
       "      <th>25955</th>\n",
       "      <td>6.889567</td>\n",
       "    </tr>\n",
       "    <tr>\n",
       "      <th>26293</th>\n",
       "      <td>6.936534</td>\n",
       "    </tr>\n",
       "    <tr>\n",
       "      <th>26439</th>\n",
       "      <td>6.815939</td>\n",
       "    </tr>\n",
       "    <tr>\n",
       "      <th>26476</th>\n",
       "      <td>6.920161</td>\n",
       "    </tr>\n",
       "    <tr>\n",
       "      <th>26580</th>\n",
       "      <td>6.719850</td>\n",
       "    </tr>\n",
       "    <tr>\n",
       "      <th>...</th>\n",
       "      <td>...</td>\n",
       "    </tr>\n",
       "    <tr>\n",
       "      <th>362619</th>\n",
       "      <td>36.861034</td>\n",
       "    </tr>\n",
       "    <tr>\n",
       "      <th>369155</th>\n",
       "      <td>81.996020</td>\n",
       "    </tr>\n",
       "    <tr>\n",
       "      <th>373234</th>\n",
       "      <td>840.171739</td>\n",
       "    </tr>\n",
       "    <tr>\n",
       "      <th>391967</th>\n",
       "      <td>255.054614</td>\n",
       "    </tr>\n",
       "    <tr>\n",
       "      <th>395360</th>\n",
       "      <td>129.548455</td>\n",
       "    </tr>\n",
       "  </tbody>\n",
       "</table>\n",
       "<p>6018 rows × 1 columns</p>\n",
       "</div>"
      ],
      "text/plain": [
       "        mean_purshase\n",
       "income               \n",
       "25955        6.889567\n",
       "26293        6.936534\n",
       "26439        6.815939\n",
       "26476        6.920161\n",
       "26580        6.719850\n",
       "...               ...\n",
       "362619      36.861034\n",
       "369155      81.996020\n",
       "373234     840.171739\n",
       "391967     255.054614\n",
       "395360     129.548455\n",
       "\n",
       "[6018 rows x 1 columns]"
      ]
     },
     "execution_count": 20,
     "metadata": {},
     "output_type": "execute_result"
    }
   ],
   "source": [
    "df22"
   ]
  },
  {
   "cell_type": "code",
   "execution_count": 21,
   "id": "75ff1fd3",
   "metadata": {},
   "outputs": [
    {
     "data": {
      "image/png": "[encoded data removed]",
      "text/plain": [
       "<Figure size 640x480 with 1 Axes>"
      ]
     },
     "metadata": {},
     "output_type": "display_data"
    }
   ],
   "source": [
    "scat3=sns.scatterplot(x='mean_purshase', y='income', data=df22)"
   ]
  },
  {
   "cell_type": "markdown",
   "id": "cba42179",
   "metadata": {},
   "source": [
    "#### filter extrem big values"
   ]
  },
  {
   "cell_type": "code",
   "execution_count": 22,
   "id": "acf7672e",
   "metadata": {},
   "outputs": [],
   "source": [
    "df22filtered=df22[df22['mean_purshase']<2000]"
   ]
  },
  {
   "cell_type": "code",
   "execution_count": 23,
   "id": "c96ec908",
   "metadata": {},
   "outputs": [
    {
     "data": {
      "image/png": "[encoded data removed]",
      "text/plain": [
       "<Figure size 640x480 with 1 Axes>"
      ]
     },
     "metadata": {},
     "output_type": "display_data"
    }
   ],
   "source": [
    "scat3=sns.scatterplot(x='mean_purshase', y='income', data=df22filtered)"
   ]
  },
  {
   "cell_type": "code",
   "execution_count": 24,
   "id": "6873ccae",
   "metadata": {},
   "outputs": [],
   "source": [
    "scat3.figure.savefig(os.path.join(path, 'Prepared Data', 'YLC_PricesIncome.png'))"
   ]
  },
  {
   "cell_type": "markdown",
   "id": "022c92a7",
   "metadata": {},
   "source": [
    "### 5 - Analyzing YLC by Busiest_day"
   ]
  },
  {
   "cell_type": "code",
   "execution_count": 25,
   "id": "58fcebb9",
   "metadata": {},
   "outputs": [],
   "source": [
    "df4=df[['user_id','STATE', 'busiest_day', 'day_of_week']]"
   ]
  },
  {
   "cell_type": "code",
   "execution_count": 26,
   "id": "7a0d6e09",
   "metadata": {},
   "outputs": [
    {
     "data": {
      "text/html": [
       "<div>\n",
       "<style scoped>\n",
       "    .dataframe tbody tr th:only-of-type {\n",
       "        vertical-align: middle;\n",
       "    }\n",
       "\n",
       "    .dataframe tbody tr th {\n",
       "        vertical-align: top;\n",
       "    }\n",
       "\n",
       "    .dataframe thead th {\n",
       "        text-align: right;\n",
       "    }\n",
       "</style>\n",
       "<table border=\"1\" class=\"dataframe\">\n",
       "  <thead>\n",
       "    <tr style=\"text-align: right;\">\n",
       "      <th></th>\n",
       "      <th>user_id</th>\n",
       "      <th>STATE</th>\n",
       "      <th>busiest_day</th>\n",
       "      <th>day_of_week</th>\n",
       "    </tr>\n",
       "  </thead>\n",
       "  <tbody>\n",
       "    <tr>\n",
       "      <th>1163</th>\n",
       "      <td>127020</td>\n",
       "      <td>Ohio</td>\n",
       "      <td>Busiest days</td>\n",
       "      <td>0</td>\n",
       "    </tr>\n",
       "    <tr>\n",
       "      <th>1164</th>\n",
       "      <td>127020</td>\n",
       "      <td>Ohio</td>\n",
       "      <td>Busiest days</td>\n",
       "      <td>1</td>\n",
       "    </tr>\n",
       "    <tr>\n",
       "      <th>1165</th>\n",
       "      <td>127020</td>\n",
       "      <td>Ohio</td>\n",
       "      <td>Regularly days</td>\n",
       "      <td>6</td>\n",
       "    </tr>\n",
       "    <tr>\n",
       "      <th>1166</th>\n",
       "      <td>127020</td>\n",
       "      <td>Ohio</td>\n",
       "      <td>Regularly days</td>\n",
       "      <td>2</td>\n",
       "    </tr>\n",
       "    <tr>\n",
       "      <th>1167</th>\n",
       "      <td>127020</td>\n",
       "      <td>Ohio</td>\n",
       "      <td>Regularly days</td>\n",
       "      <td>6</td>\n",
       "    </tr>\n",
       "    <tr>\n",
       "      <th>...</th>\n",
       "      <td>...</td>\n",
       "      <td>...</td>\n",
       "      <td>...</td>\n",
       "      <td>...</td>\n",
       "    </tr>\n",
       "    <tr>\n",
       "      <th>6459954</th>\n",
       "      <td>77311</td>\n",
       "      <td>Vermont</td>\n",
       "      <td>Slowest days</td>\n",
       "      <td>3</td>\n",
       "    </tr>\n",
       "    <tr>\n",
       "      <th>6459955</th>\n",
       "      <td>77311</td>\n",
       "      <td>Vermont</td>\n",
       "      <td>Busiest days</td>\n",
       "      <td>0</td>\n",
       "    </tr>\n",
       "    <tr>\n",
       "      <th>6459956</th>\n",
       "      <td>77311</td>\n",
       "      <td>Vermont</td>\n",
       "      <td>Regularly days</td>\n",
       "      <td>5</td>\n",
       "    </tr>\n",
       "    <tr>\n",
       "      <th>6459957</th>\n",
       "      <td>77311</td>\n",
       "      <td>Vermont</td>\n",
       "      <td>Busiest days</td>\n",
       "      <td>1</td>\n",
       "    </tr>\n",
       "    <tr>\n",
       "      <th>6459958</th>\n",
       "      <td>77311</td>\n",
       "      <td>Vermont</td>\n",
       "      <td>Slowest days</td>\n",
       "      <td>3</td>\n",
       "    </tr>\n",
       "  </tbody>\n",
       "</table>\n",
       "<p>3815770 rows × 4 columns</p>\n",
       "</div>"
      ],
      "text/plain": [
       "         user_id    STATE     busiest_day  day_of_week\n",
       "1163      127020     Ohio    Busiest days            0\n",
       "1164      127020     Ohio    Busiest days            1\n",
       "1165      127020     Ohio  Regularly days            6\n",
       "1166      127020     Ohio  Regularly days            2\n",
       "1167      127020     Ohio  Regularly days            6\n",
       "...          ...      ...             ...          ...\n",
       "6459954    77311  Vermont    Slowest days            3\n",
       "6459955    77311  Vermont    Busiest days            0\n",
       "6459956    77311  Vermont  Regularly days            5\n",
       "6459957    77311  Vermont    Busiest days            1\n",
       "6459958    77311  Vermont    Slowest days            3\n",
       "\n",
       "[3815770 rows x 4 columns]"
      ]
     },
     "execution_count": 26,
     "metadata": {},
     "output_type": "execute_result"
    }
   ],
   "source": [
    "df4"
   ]
  },
  {
   "cell_type": "code",
   "execution_count": 27,
   "id": "6a0d8788",
   "metadata": {},
   "outputs": [
    {
     "data": {
      "image/png": "[encoded data removed]",
      "text/plain": [
       "<Figure size 640x480 with 1 Axes>"
      ]
     },
     "metadata": {},
     "output_type": "display_data"
    }
   ],
   "source": [
    "bar14=df4.groupby('busiest_day').agg({'day_of_week':['mean']}).plot.barh()"
   ]
  },
  {
   "cell_type": "code",
   "execution_count": 29,
   "id": "1869f79f",
   "metadata": {},
   "outputs": [],
   "source": [
    "bar14.figure.savefig(os.path.join(path, 'Prepared Data', 'YLC_BusiestDayOfWeek.png'))"
   ]
  },
  {
   "cell_type": "code",
   "execution_count": 28,
   "id": "85f545c6",
   "metadata": {},
   "outputs": [
    {
     "data": {
      "image/png": "[encoded data removed]",
      "text/plain": [
       "<Figure size 640x480 with 1 Axes>"
      ]
     },
     "metadata": {},
     "output_type": "display_data"
    }
   ],
   "source": [
    "pie24=df4.groupby('day_of_week')['busiest_day'].count().plot(kind='pie', autopct='%0.01f%%')"
   ]
  },
  {
   "cell_type": "code",
   "execution_count": 30,
   "id": "69e06226",
   "metadata": {},
   "outputs": [
    {
     "data": {
      "text/plain": [
       "day_of_week\n",
       "0    659585\n",
       "1    693329\n",
       "2    494211\n",
       "3    463405\n",
       "4    480424\n",
       "5    546818\n",
       "6    477998\n",
       "Name: busiest_day, dtype: int64"
      ]
     },
     "execution_count": 30,
     "metadata": {},
     "output_type": "execute_result"
    }
   ],
   "source": [
    "df4.groupby('day_of_week')['busiest_day'].count()"
   ]
  },
  {
   "cell_type": "code",
   "execution_count": 31,
   "id": "8815f6e2",
   "metadata": {},
   "outputs": [],
   "source": [
    "pie24.figure.savefig(os.path.join(path, 'Prepared Data', 'YLC_pieBusiestDayOfWeek.png'))"
   ]
  },
  {
   "cell_type": "markdown",
   "id": "2d3eb93f",
   "metadata": {},
   "source": [
    "### -YLC prefered hour of day"
   ]
  },
  {
   "cell_type": "code",
   "execution_count": 32,
   "id": "1b254441",
   "metadata": {},
   "outputs": [],
   "source": [
    "df44=df[['order_hour_of_day','user_id']]"
   ]
  },
  {
   "cell_type": "code",
   "execution_count": 33,
   "id": "6ea53ee1",
   "metadata": {},
   "outputs": [
    {
     "data": {
      "text/plain": [
       "order_hour_of_day\n",
       "0      24303\n",
       "1      11679\n",
       "2       6934\n",
       "3       5093\n",
       "4       6070\n",
       "5      10661\n",
       "6      42850\n",
       "7     125809\n",
       "8     235792\n",
       "9     327086\n",
       "10    348945\n",
       "11    324703\n",
       "12    299480\n",
       "13    305522\n",
       "14    312139\n",
       "15    304408\n",
       "16    276867\n",
       "17    215023\n",
       "18    164550\n",
       "19    131632\n",
       "20    115331\n",
       "21     97743\n",
       "22     78099\n",
       "23     45051\n",
       "Name: user_id, dtype: int64"
      ]
     },
     "execution_count": 33,
     "metadata": {},
     "output_type": "execute_result"
    }
   ],
   "source": [
    "df44.groupby('order_hour_of_day')['user_id'].count()"
   ]
  },
  {
   "cell_type": "code",
   "execution_count": 34,
   "id": "a091f84d",
   "metadata": {},
   "outputs": [
    {
     "data": {
      "image/png": "[encoded data removed]",
      "text/plain": [
       "<Figure size 640x480 with 1 Axes>"
      ]
     },
     "metadata": {},
     "output_type": "display_data"
    }
   ],
   "source": [
    "bar44=df44.groupby('order_hour_of_day')['user_id'].count().plot.bar()"
   ]
  },
  {
   "cell_type": "code",
   "execution_count": 35,
   "id": "ae76aa46",
   "metadata": {},
   "outputs": [],
   "source": [
    "bar44.figure.savefig(os.path.join(path, 'Prepared Data', 'YLC_BusiestHourOfDay.png'))"
   ]
  },
  {
   "cell_type": "markdown",
   "id": "07093898",
   "metadata": {},
   "source": [
    "### 6 - Analyzing number of YLC by State"
   ]
  },
  {
   "cell_type": "code",
   "execution_count": 36,
   "id": "7d0dda6d",
   "metadata": {},
   "outputs": [],
   "source": [
    "df5=df[['user_id','STATE']]"
   ]
  },
  {
   "cell_type": "code",
   "execution_count": 37,
   "id": "35bc7814",
   "metadata": {},
   "outputs": [],
   "source": [
    "DF5=df5.drop_duplicates().reset_index()"
   ]
  },
  {
   "cell_type": "code",
   "execution_count": 38,
   "id": "17841906",
   "metadata": {},
   "outputs": [
    {
     "data": {
      "text/html": [
       "<div>\n",
       "<style scoped>\n",
       "    .dataframe tbody tr th:only-of-type {\n",
       "        vertical-align: middle;\n",
       "    }\n",
       "\n",
       "    .dataframe tbody tr th {\n",
       "        vertical-align: top;\n",
       "    }\n",
       "\n",
       "    .dataframe thead th {\n",
       "        text-align: right;\n",
       "    }\n",
       "</style>\n",
       "<table border=\"1\" class=\"dataframe\">\n",
       "  <thead>\n",
       "    <tr style=\"text-align: right;\">\n",
       "      <th></th>\n",
       "      <th>index</th>\n",
       "      <th>user_id</th>\n",
       "      <th>STATE</th>\n",
       "    </tr>\n",
       "  </thead>\n",
       "  <tbody>\n",
       "    <tr>\n",
       "      <th>0</th>\n",
       "      <td>1163</td>\n",
       "      <td>127020</td>\n",
       "      <td>Ohio</td>\n",
       "    </tr>\n",
       "    <tr>\n",
       "      <th>1</th>\n",
       "      <td>1933</td>\n",
       "      <td>19666</td>\n",
       "      <td>Oklahoma</td>\n",
       "    </tr>\n",
       "    <tr>\n",
       "      <th>2</th>\n",
       "      <td>2693</td>\n",
       "      <td>202887</td>\n",
       "      <td>District of Columbia</td>\n",
       "    </tr>\n",
       "    <tr>\n",
       "      <th>3</th>\n",
       "      <td>6973</td>\n",
       "      <td>33626</td>\n",
       "      <td>Kansas</td>\n",
       "    </tr>\n",
       "    <tr>\n",
       "      <th>4</th>\n",
       "      <td>8470</td>\n",
       "      <td>100536</td>\n",
       "      <td>Indiana</td>\n",
       "    </tr>\n",
       "    <tr>\n",
       "      <th>...</th>\n",
       "      <td>...</td>\n",
       "      <td>...</td>\n",
       "      <td>...</td>\n",
       "    </tr>\n",
       "    <tr>\n",
       "      <th>6313</th>\n",
       "      <td>6520424</td>\n",
       "      <td>197161</td>\n",
       "      <td>Vermont</td>\n",
       "    </tr>\n",
       "    <tr>\n",
       "      <th>6314</th>\n",
       "      <td>6521307</td>\n",
       "      <td>94601</td>\n",
       "      <td>Virginia</td>\n",
       "    </tr>\n",
       "    <tr>\n",
       "      <th>6315</th>\n",
       "      <td>6523031</td>\n",
       "      <td>179310</td>\n",
       "      <td>Utah</td>\n",
       "    </tr>\n",
       "    <tr>\n",
       "      <th>6316</th>\n",
       "      <td>6523432</td>\n",
       "      <td>33960</td>\n",
       "      <td>Utah</td>\n",
       "    </tr>\n",
       "    <tr>\n",
       "      <th>6317</th>\n",
       "      <td>6523637</td>\n",
       "      <td>77311</td>\n",
       "      <td>Vermont</td>\n",
       "    </tr>\n",
       "  </tbody>\n",
       "</table>\n",
       "<p>6318 rows × 3 columns</p>\n",
       "</div>"
      ],
      "text/plain": [
       "        index  user_id                 STATE\n",
       "0        1163   127020                  Ohio\n",
       "1        1933    19666              Oklahoma\n",
       "2        2693   202887  District of Columbia\n",
       "3        6973    33626                Kansas\n",
       "4        8470   100536               Indiana\n",
       "...       ...      ...                   ...\n",
       "6313  6520424   197161               Vermont\n",
       "6314  6521307    94601              Virginia\n",
       "6315  6523031   179310                  Utah\n",
       "6316  6523432    33960                  Utah\n",
       "6317  6523637    77311               Vermont\n",
       "\n",
       "[6318 rows x 3 columns]"
      ]
     },
     "execution_count": 38,
     "metadata": {},
     "output_type": "execute_result"
    }
   ],
   "source": [
    "DF5"
   ]
  },
  {
   "cell_type": "markdown",
   "id": "4c0a7d5a",
   "metadata": {},
   "source": [
    "#### number of rows indicate total number of YLC =6318"
   ]
  },
  {
   "cell_type": "code",
   "execution_count": 39,
   "id": "3095fc97",
   "metadata": {},
   "outputs": [
    {
     "data": {
      "image/png": "[encoded data removed]",
      "text/plain": [
       "<Figure size 640x480 with 1 Axes>"
      ]
     },
     "metadata": {},
     "output_type": "display_data"
    }
   ],
   "source": [
    "bar15=DF5.groupby('STATE')['user_id'].count().plot.bar()"
   ]
  },
  {
   "cell_type": "code",
   "execution_count": 40,
   "id": "ae4f0761",
   "metadata": {},
   "outputs": [
    {
     "data": {
      "text/plain": [
       "STATE\n",
       "Alabama                 133\n",
       "Alaska                  100\n",
       "Arizona                 114\n",
       "Arkansas                122\n",
       "California              144\n",
       "Colorado                136\n",
       "Connecticut             125\n",
       "Delaware                129\n",
       "District of Columbia    122\n",
       "Florida                 127\n",
       "Georgia                 142\n",
       "Hawaii                  132\n",
       "Idaho                   105\n",
       "Illinois                112\n",
       "Indiana                 110\n",
       "Iowa                    105\n",
       "Kansas                  133\n",
       "Kentucky                119\n",
       "Louisiana               128\n",
       "Maine                   132\n",
       "Maryland                137\n",
       "Massachusetts           122\n",
       "Michigan                115\n",
       "Minnesota               114\n",
       "Mississippi             112\n",
       "Missouri                120\n",
       "Montana                 121\n",
       "Nebraska                130\n",
       "Nevada                  127\n",
       "New Hampshire           112\n",
       "New Jersey              121\n",
       "New Mexico              138\n",
       "New York                111\n",
       "North Carolina          151\n",
       "North Dakota            126\n",
       "Ohio                    123\n",
       "Oklahoma                148\n",
       "Oregon                  118\n",
       "Pennsylvania            130\n",
       "Rhode Island            129\n",
       "South Carolina          117\n",
       "South Dakota            140\n",
       "Tennessee               118\n",
       "Texas                   136\n",
       "Utah                    132\n",
       "Vermont                 122\n",
       "Virginia                120\n",
       "Washington              108\n",
       "West Virginia            99\n",
       "Wisconsin               115\n",
       "Wyoming                 136\n",
       "Name: user_id, dtype: int64"
      ]
     },
     "execution_count": 40,
     "metadata": {},
     "output_type": "execute_result"
    }
   ],
   "source": [
    "DF5.groupby('STATE')['user_id'].count()"
   ]
  },
  {
   "cell_type": "markdown",
   "id": "18d39621",
   "metadata": {},
   "source": [
    "#### -defining 10 Top States"
   ]
  },
  {
   "cell_type": "code",
   "execution_count": 41,
   "id": "aac475de",
   "metadata": {},
   "outputs": [
    {
     "data": {
      "text/plain": [
       "STATE\n",
       "North Carolina    151\n",
       "Oklahoma          148\n",
       "California        144\n",
       "Georgia           142\n",
       "South Dakota      140\n",
       "New Mexico        138\n",
       "Maryland          137\n",
       "Wyoming           136\n",
       "Texas             136\n",
       "Colorado          136\n",
       "Name: user_id, dtype: int64"
      ]
     },
     "execution_count": 41,
     "metadata": {},
     "output_type": "execute_result"
    }
   ],
   "source": [
    "DF5.groupby('STATE')['user_id'].count().sort_values(ascending=False).head(10)"
   ]
  },
  {
   "cell_type": "code",
   "execution_count": null,
   "id": "d53615bf",
   "metadata": {},
   "outputs": [],
   "source": []
  },
  {
   "cell_type": "markdown",
   "id": "c1b72f2d",
   "metadata": {},
   "source": [
    "#### -saving the plot"
   ]
  },
  {
   "cell_type": "code",
   "execution_count": 42,
   "id": "5d005869",
   "metadata": {},
   "outputs": [],
   "source": [
    "bar15.figure.savefig(os.path.join(path, 'Prepared Data', 'YLC_UsersNumberState.png'))"
   ]
  },
  {
   "cell_type": "markdown",
   "id": "a2d601e3",
   "metadata": {},
   "source": [
    "### 7 - Analyzing YLC by n_dependants"
   ]
  },
  {
   "cell_type": "code",
   "execution_count": 43,
   "id": "2864b045",
   "metadata": {},
   "outputs": [],
   "source": [
    "df6=df[['user_id', 'n_dependants']]"
   ]
  },
  {
   "cell_type": "code",
   "execution_count": 44,
   "id": "e5568505",
   "metadata": {},
   "outputs": [],
   "source": [
    "DF6=df6.drop_duplicates()"
   ]
  },
  {
   "cell_type": "code",
   "execution_count": 45,
   "id": "59971c8d",
   "metadata": {},
   "outputs": [
    {
     "data": {
      "text/plain": [
       "n_dependants\n",
       "0    1571\n",
       "1    1544\n",
       "2    1583\n",
       "3    1620\n",
       "Name: user_id, dtype: int64"
      ]
     },
     "execution_count": 45,
     "metadata": {},
     "output_type": "execute_result"
    }
   ],
   "source": [
    "DF6.groupby(['n_dependants'])['user_id'].count()"
   ]
  },
  {
   "cell_type": "code",
   "execution_count": 46,
   "id": "e705b023",
   "metadata": {},
   "outputs": [
    {
     "data": {
      "image/png": "[encoded data removed]",
      "text/plain": [
       "<Figure size 640x480 with 1 Axes>"
      ]
     },
     "metadata": {},
     "output_type": "display_data"
    }
   ],
   "source": [
    "pie16=DF6.groupby(['n_dependants'])['user_id'].count().plot(kind='pie', autopct='%0.01f%%')"
   ]
  },
  {
   "cell_type": "code",
   "execution_count": 47,
   "id": "4144864c",
   "metadata": {},
   "outputs": [
    {
     "data": {
      "text/html": [
       "<div>\n",
       "<style scoped>\n",
       "    .dataframe tbody tr th:only-of-type {\n",
       "        vertical-align: middle;\n",
       "    }\n",
       "\n",
       "    .dataframe tbody tr th {\n",
       "        vertical-align: top;\n",
       "    }\n",
       "\n",
       "    .dataframe thead th {\n",
       "        text-align: right;\n",
       "    }\n",
       "</style>\n",
       "<table border=\"1\" class=\"dataframe\">\n",
       "  <thead>\n",
       "    <tr style=\"text-align: right;\">\n",
       "      <th></th>\n",
       "      <th>user_id</th>\n",
       "      <th>n_dependants</th>\n",
       "    </tr>\n",
       "  </thead>\n",
       "  <tbody>\n",
       "    <tr>\n",
       "      <th>1163</th>\n",
       "      <td>127020</td>\n",
       "      <td>3</td>\n",
       "    </tr>\n",
       "    <tr>\n",
       "      <th>1933</th>\n",
       "      <td>19666</td>\n",
       "      <td>3</td>\n",
       "    </tr>\n",
       "    <tr>\n",
       "      <th>2693</th>\n",
       "      <td>202887</td>\n",
       "      <td>3</td>\n",
       "    </tr>\n",
       "    <tr>\n",
       "      <th>6973</th>\n",
       "      <td>33626</td>\n",
       "      <td>2</td>\n",
       "    </tr>\n",
       "    <tr>\n",
       "      <th>8470</th>\n",
       "      <td>100536</td>\n",
       "      <td>3</td>\n",
       "    </tr>\n",
       "    <tr>\n",
       "      <th>...</th>\n",
       "      <td>...</td>\n",
       "      <td>...</td>\n",
       "    </tr>\n",
       "    <tr>\n",
       "      <th>6520424</th>\n",
       "      <td>197161</td>\n",
       "      <td>0</td>\n",
       "    </tr>\n",
       "    <tr>\n",
       "      <th>6521307</th>\n",
       "      <td>94601</td>\n",
       "      <td>1</td>\n",
       "    </tr>\n",
       "    <tr>\n",
       "      <th>6523031</th>\n",
       "      <td>179310</td>\n",
       "      <td>1</td>\n",
       "    </tr>\n",
       "    <tr>\n",
       "      <th>6523432</th>\n",
       "      <td>33960</td>\n",
       "      <td>1</td>\n",
       "    </tr>\n",
       "    <tr>\n",
       "      <th>6523637</th>\n",
       "      <td>77311</td>\n",
       "      <td>1</td>\n",
       "    </tr>\n",
       "  </tbody>\n",
       "</table>\n",
       "<p>6318 rows × 2 columns</p>\n",
       "</div>"
      ],
      "text/plain": [
       "         user_id  n_dependants\n",
       "1163      127020             3\n",
       "1933       19666             3\n",
       "2693      202887             3\n",
       "6973       33626             2\n",
       "8470      100536             3\n",
       "...          ...           ...\n",
       "6520424   197161             0\n",
       "6521307    94601             1\n",
       "6523031   179310             1\n",
       "6523432    33960             1\n",
       "6523637    77311             1\n",
       "\n",
       "[6318 rows x 2 columns]"
      ]
     },
     "execution_count": 47,
     "metadata": {},
     "output_type": "execute_result"
    }
   ],
   "source": [
    "DF6"
   ]
  },
  {
   "cell_type": "markdown",
   "id": "4402e712",
   "metadata": {},
   "source": [
    "#### saving the plot"
   ]
  },
  {
   "cell_type": "code",
   "execution_count": 48,
   "id": "930f9006",
   "metadata": {},
   "outputs": [],
   "source": [
    "pie16.figure.savefig(os.path.join(path, 'Prepared Data', 'YLC_NDependansUsers.png'))"
   ]
  },
  {
   "cell_type": "markdown",
   "id": "69240cad",
   "metadata": {},
   "source": [
    "### 8 - Analyzing YLC Days since prior order"
   ]
  },
  {
   "cell_type": "code",
   "execution_count": 49,
   "id": "38b4175f",
   "metadata": {},
   "outputs": [
    {
     "data": {
      "image/png": "[encoded data removed]",
      "text/plain": [
       "<Figure size 640x480 with 1 Axes>"
      ]
     },
     "metadata": {},
     "output_type": "display_data"
    }
   ],
   "source": [
    "line17=df.groupby('days_since_prior_order')['days_since_prior_order'].count().plot(kind='line')"
   ]
  },
  {
   "cell_type": "code",
   "execution_count": 50,
   "id": "4bc710c4",
   "metadata": {},
   "outputs": [
    {
     "data": {
      "text/plain": [
       "days_since_prior_order\n",
       "0     155196\n",
       "1     226833\n",
       "2     354507\n",
       "3     435282\n",
       "4     439362\n",
       "5     392738\n",
       "6     402643\n",
       "7     514864\n",
       "8     243119\n",
       "9     130249\n",
       "10     92708\n",
       "11     69223\n",
       "12     58240\n",
       "13     53021\n",
       "14     57544\n",
       "15     34485\n",
       "16     21961\n",
       "17     16719\n",
       "18     14360\n",
       "19     11992\n",
       "20     12602\n",
       "21     13136\n",
       "22      9168\n",
       "23      6285\n",
       "24      5342\n",
       "25      4402\n",
       "26      3492\n",
       "27      3975\n",
       "28      5028\n",
       "29      2634\n",
       "30     24660\n",
       "Name: days_since_prior_order, dtype: int64"
      ]
     },
     "execution_count": 50,
     "metadata": {},
     "output_type": "execute_result"
    }
   ],
   "source": [
    "df.groupby('days_since_prior_order')['days_since_prior_order'].count()"
   ]
  },
  {
   "cell_type": "code",
   "execution_count": 51,
   "id": "dc157699",
   "metadata": {},
   "outputs": [],
   "source": [
    "line17.figure.savefig(os.path.join(path, 'Prepared Data', 'YLC_DaysSincePriorOrder.png'))"
   ]
  },
  {
   "cell_type": "markdown",
   "id": "3d0c4597",
   "metadata": {},
   "source": [
    "### 9- Defining YLC TOP products for client group\n"
   ]
  },
  {
   "cell_type": "markdown",
   "id": "f0621a1a",
   "metadata": {},
   "source": [
    " #### creating subset"
   ]
  },
  {
   "cell_type": "code",
   "execution_count": 52,
   "id": "b5303195",
   "metadata": {},
   "outputs": [],
   "source": [
    "df18=df[['product_name','product_id','prices']]"
   ]
  },
  {
   "cell_type": "code",
   "execution_count": 53,
   "id": "bc00aa6b",
   "metadata": {},
   "outputs": [
    {
     "data": {
      "text/html": [
       "<div>\n",
       "<style scoped>\n",
       "    .dataframe tbody tr th:only-of-type {\n",
       "        vertical-align: middle;\n",
       "    }\n",
       "\n",
       "    .dataframe tbody tr th {\n",
       "        vertical-align: top;\n",
       "    }\n",
       "\n",
       "    .dataframe thead th {\n",
       "        text-align: right;\n",
       "    }\n",
       "</style>\n",
       "<table border=\"1\" class=\"dataframe\">\n",
       "  <thead>\n",
       "    <tr style=\"text-align: right;\">\n",
       "      <th></th>\n",
       "      <th>product_name</th>\n",
       "      <th>product_id</th>\n",
       "      <th>prices</th>\n",
       "    </tr>\n",
       "  </thead>\n",
       "  <tbody>\n",
       "    <tr>\n",
       "      <th>1163</th>\n",
       "      <td>9.5 pH Super Hydrating Purified Water</td>\n",
       "      <td>1096</td>\n",
       "      <td>9.9</td>\n",
       "    </tr>\n",
       "    <tr>\n",
       "      <th>1164</th>\n",
       "      <td>9.5 pH Super Hydrating Purified Water</td>\n",
       "      <td>1096</td>\n",
       "      <td>9.9</td>\n",
       "    </tr>\n",
       "    <tr>\n",
       "      <th>1165</th>\n",
       "      <td>9.5 pH Super Hydrating Purified Water</td>\n",
       "      <td>1096</td>\n",
       "      <td>9.9</td>\n",
       "    </tr>\n",
       "    <tr>\n",
       "      <th>1166</th>\n",
       "      <td>9.5 pH Super Hydrating Purified Water</td>\n",
       "      <td>1096</td>\n",
       "      <td>9.9</td>\n",
       "    </tr>\n",
       "    <tr>\n",
       "      <th>1167</th>\n",
       "      <td>9.5 pH Super Hydrating Purified Water</td>\n",
       "      <td>1096</td>\n",
       "      <td>9.9</td>\n",
       "    </tr>\n",
       "    <tr>\n",
       "      <th>...</th>\n",
       "      <td>...</td>\n",
       "      <td>...</td>\n",
       "      <td>...</td>\n",
       "    </tr>\n",
       "    <tr>\n",
       "      <th>6459954</th>\n",
       "      <td>Organic Whole Wheat Fusilli Pasta</td>\n",
       "      <td>48802</td>\n",
       "      <td>6.1</td>\n",
       "    </tr>\n",
       "    <tr>\n",
       "      <th>6459955</th>\n",
       "      <td>Organic Whole Wheat Fusilli Pasta</td>\n",
       "      <td>48802</td>\n",
       "      <td>6.1</td>\n",
       "    </tr>\n",
       "    <tr>\n",
       "      <th>6459956</th>\n",
       "      <td>Barbecue Veggie Burgers</td>\n",
       "      <td>48869</td>\n",
       "      <td>9.3</td>\n",
       "    </tr>\n",
       "    <tr>\n",
       "      <th>6459957</th>\n",
       "      <td>Organic Half &amp; Half</td>\n",
       "      <td>49235</td>\n",
       "      <td>1.8</td>\n",
       "    </tr>\n",
       "    <tr>\n",
       "      <th>6459958</th>\n",
       "      <td>Organic Half &amp; Half</td>\n",
       "      <td>49235</td>\n",
       "      <td>1.8</td>\n",
       "    </tr>\n",
       "  </tbody>\n",
       "</table>\n",
       "<p>3815770 rows × 3 columns</p>\n",
       "</div>"
      ],
      "text/plain": [
       "                                  product_name  product_id  prices\n",
       "1163     9.5 pH Super Hydrating Purified Water        1096     9.9\n",
       "1164     9.5 pH Super Hydrating Purified Water        1096     9.9\n",
       "1165     9.5 pH Super Hydrating Purified Water        1096     9.9\n",
       "1166     9.5 pH Super Hydrating Purified Water        1096     9.9\n",
       "1167     9.5 pH Super Hydrating Purified Water        1096     9.9\n",
       "...                                        ...         ...     ...\n",
       "6459954      Organic Whole Wheat Fusilli Pasta       48802     6.1\n",
       "6459955      Organic Whole Wheat Fusilli Pasta       48802     6.1\n",
       "6459956                Barbecue Veggie Burgers       48869     9.3\n",
       "6459957                    Organic Half & Half       49235     1.8\n",
       "6459958                    Organic Half & Half       49235     1.8\n",
       "\n",
       "[3815770 rows x 3 columns]"
      ]
     },
     "execution_count": 53,
     "metadata": {},
     "output_type": "execute_result"
    }
   ],
   "source": [
    "df18"
   ]
  },
  {
   "cell_type": "markdown",
   "id": "dbc97ae0",
   "metadata": {},
   "source": [
    "#### identifying the most populare products counting orders rows  and selecting 10 TOP "
   ]
  },
  {
   "cell_type": "code",
   "execution_count": 54,
   "id": "8d2dd45a",
   "metadata": {},
   "outputs": [],
   "source": [
    "DF18=df18.groupby('product_name')['prices'].count().sort_values( ascending=False).reset_index().head(10)"
   ]
  },
  {
   "cell_type": "code",
   "execution_count": 73,
   "id": "9a600ca3",
   "metadata": {},
   "outputs": [
    {
     "data": {
      "text/html": [
       "<div>\n",
       "<style scoped>\n",
       "    .dataframe tbody tr th:only-of-type {\n",
       "        vertical-align: middle;\n",
       "    }\n",
       "\n",
       "    .dataframe tbody tr th {\n",
       "        vertical-align: top;\n",
       "    }\n",
       "\n",
       "    .dataframe thead th {\n",
       "        text-align: right;\n",
       "    }\n",
       "</style>\n",
       "<table border=\"1\" class=\"dataframe\">\n",
       "  <thead>\n",
       "    <tr style=\"text-align: right;\">\n",
       "      <th></th>\n",
       "      <th>product_name</th>\n",
       "      <th>prices</th>\n",
       "    </tr>\n",
       "  </thead>\n",
       "  <tbody>\n",
       "    <tr>\n",
       "      <th>0</th>\n",
       "      <td>Banana</td>\n",
       "      <td>2341</td>\n",
       "    </tr>\n",
       "    <tr>\n",
       "      <th>1</th>\n",
       "      <td>Lowfat 2% Milkfat Cottage Cheese</td>\n",
       "      <td>1475</td>\n",
       "    </tr>\n",
       "    <tr>\n",
       "      <th>2</th>\n",
       "      <td>Bag of Organic Bananas</td>\n",
       "      <td>1241</td>\n",
       "    </tr>\n",
       "    <tr>\n",
       "      <th>4</th>\n",
       "      <td>Small Hass Avocado</td>\n",
       "      <td>595</td>\n",
       "    </tr>\n",
       "    <tr>\n",
       "      <th>5</th>\n",
       "      <td>100% Whole Wheat Bread</td>\n",
       "      <td>579</td>\n",
       "    </tr>\n",
       "    <tr>\n",
       "      <th>6</th>\n",
       "      <td>Blueberries</td>\n",
       "      <td>552</td>\n",
       "    </tr>\n",
       "    <tr>\n",
       "      <th>7</th>\n",
       "      <td>2% Reduced Fat Milk</td>\n",
       "      <td>525</td>\n",
       "    </tr>\n",
       "    <tr>\n",
       "      <th>8</th>\n",
       "      <td>Organic Avocado</td>\n",
       "      <td>522</td>\n",
       "    </tr>\n",
       "    <tr>\n",
       "      <th>9</th>\n",
       "      <td>Large Lemon</td>\n",
       "      <td>520</td>\n",
       "    </tr>\n",
       "    <tr>\n",
       "      <th>10</th>\n",
       "      <td>Organic Fuji Apple</td>\n",
       "      <td>487</td>\n",
       "    </tr>\n",
       "  </tbody>\n",
       "</table>\n",
       "</div>"
      ],
      "text/plain": [
       "                        product_name  prices\n",
       "0                             Banana    2341\n",
       "1   Lowfat 2% Milkfat Cottage Cheese    1475\n",
       "2             Bag of Organic Bananas    1241\n",
       "4                 Small Hass Avocado     595\n",
       "5             100% Whole Wheat Bread     579\n",
       "6                        Blueberries     552\n",
       "7                2% Reduced Fat Milk     525\n",
       "8                    Organic Avocado     522\n",
       "9                        Large Lemon     520\n",
       "10                Organic Fuji Apple     487"
      ]
     },
     "execution_count": 73,
     "metadata": {},
     "output_type": "execute_result"
    }
   ],
   "source": [
    "DF18"
   ]
  },
  {
   "cell_type": "code",
   "execution_count": 55,
   "id": "93087406",
   "metadata": {},
   "outputs": [],
   "source": [
    "DF18=DF18.rename(columns={'prices':'count_orders'})"
   ]
  },
  {
   "cell_type": "code",
   "execution_count": 56,
   "id": "501292d6",
   "metadata": {},
   "outputs": [
    {
     "data": {
      "text/html": [
       "<div>\n",
       "<style scoped>\n",
       "    .dataframe tbody tr th:only-of-type {\n",
       "        vertical-align: middle;\n",
       "    }\n",
       "\n",
       "    .dataframe tbody tr th {\n",
       "        vertical-align: top;\n",
       "    }\n",
       "\n",
       "    .dataframe thead th {\n",
       "        text-align: right;\n",
       "    }\n",
       "</style>\n",
       "<table border=\"1\" class=\"dataframe\">\n",
       "  <thead>\n",
       "    <tr style=\"text-align: right;\">\n",
       "      <th></th>\n",
       "      <th>product_name</th>\n",
       "      <th>count_orders</th>\n",
       "    </tr>\n",
       "  </thead>\n",
       "  <tbody>\n",
       "    <tr>\n",
       "      <th>0</th>\n",
       "      <td>Banana</td>\n",
       "      <td>57894</td>\n",
       "    </tr>\n",
       "    <tr>\n",
       "      <th>1</th>\n",
       "      <td>Bag of Organic Bananas</td>\n",
       "      <td>52368</td>\n",
       "    </tr>\n",
       "    <tr>\n",
       "      <th>2</th>\n",
       "      <td>Organic Strawberries</td>\n",
       "      <td>38882</td>\n",
       "    </tr>\n",
       "    <tr>\n",
       "      <th>3</th>\n",
       "      <td>Organic Hass Avocado</td>\n",
       "      <td>30874</td>\n",
       "    </tr>\n",
       "    <tr>\n",
       "      <th>4</th>\n",
       "      <td>Organic Baby Spinach</td>\n",
       "      <td>29391</td>\n",
       "    </tr>\n",
       "    <tr>\n",
       "      <th>5</th>\n",
       "      <td>Organic Whole Milk</td>\n",
       "      <td>21211</td>\n",
       "    </tr>\n",
       "    <tr>\n",
       "      <th>6</th>\n",
       "      <td>Organic Raspberries</td>\n",
       "      <td>20482</td>\n",
       "    </tr>\n",
       "    <tr>\n",
       "      <th>7</th>\n",
       "      <td>Organic Avocado</td>\n",
       "      <td>19504</td>\n",
       "    </tr>\n",
       "    <tr>\n",
       "      <th>8</th>\n",
       "      <td>Limes</td>\n",
       "      <td>16919</td>\n",
       "    </tr>\n",
       "    <tr>\n",
       "      <th>9</th>\n",
       "      <td>Large Lemon</td>\n",
       "      <td>16743</td>\n",
       "    </tr>\n",
       "  </tbody>\n",
       "</table>\n",
       "</div>"
      ],
      "text/plain": [
       "             product_name  count_orders\n",
       "0                  Banana         57894\n",
       "1  Bag of Organic Bananas         52368\n",
       "2    Organic Strawberries         38882\n",
       "3    Organic Hass Avocado         30874\n",
       "4    Organic Baby Spinach         29391\n",
       "5      Organic Whole Milk         21211\n",
       "6     Organic Raspberries         20482\n",
       "7         Organic Avocado         19504\n",
       "8                   Limes         16919\n",
       "9             Large Lemon         16743"
      ]
     },
     "execution_count": 56,
     "metadata": {},
     "output_type": "execute_result"
    }
   ],
   "source": [
    "DF18"
   ]
  },
  {
   "cell_type": "markdown",
   "id": "e81502a4",
   "metadata": {},
   "source": [
    "#### -creating plot"
   ]
  },
  {
   "cell_type": "code",
   "execution_count": 57,
   "id": "24b293eb",
   "metadata": {},
   "outputs": [
    {
     "data": {
      "image/png": "[encoded data removed]",
      "text/plain": [
       "<Figure size 640x480 with 1 Axes>"
      ]
     },
     "metadata": {},
     "output_type": "display_data"
    }
   ],
   "source": [
    "Bar21=DF18.plot.barh(x='product_name')"
   ]
  },
  {
   "cell_type": "markdown",
   "id": "55217e2b",
   "metadata": {},
   "source": [
    "#### -saving the plot"
   ]
  },
  {
   "cell_type": "code",
   "execution_count": 58,
   "id": "6f746e60",
   "metadata": {},
   "outputs": [],
   "source": [
    "Bar21.figure.savefig(os.path.join(path, 'Prepared Data', 'YLC_Products.png'))"
   ]
  },
  {
   "cell_type": "code",
   "execution_count": null,
   "id": "2fea46c3",
   "metadata": {},
   "outputs": [],
   "source": []
  }
 ],
 "metadata": {
  "kernelspec": {
   "display_name": "Python 3 (ipykernel)",
   "language": "python",
   "name": "python3"
  },
  "language_info": {
   "codemirror_mode": {
    "name": "ipython",
    "version": 3
   },
   "file_extension": ".py",
   "mimetype": "text/x-python",
   "name": "python",
   "nbconvert_exporter": "python",
   "pygments_lexer": "ipython3",
   "version": "3.10.9"
  }
 },
 "nbformat": 4,
 "nbformat_minor": 5
}
