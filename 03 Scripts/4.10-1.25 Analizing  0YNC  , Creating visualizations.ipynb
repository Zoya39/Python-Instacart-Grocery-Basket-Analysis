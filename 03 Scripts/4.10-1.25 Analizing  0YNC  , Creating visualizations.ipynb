{
 "cells": [
  {
   "cell_type": "markdown",
   "id": "dc856afc",
   "metadata": {},
   "source": [
    "### 4.10 Part 1.25 Yang New Customer\n",
    "#### 1 - importing libraries\n",
    "#### 2 - Importing df\n",
    "#### 3 - Analyzing  by Frequent Flag\n",
    "#### 4 - Analyzing Purshases by Income\n",
    "#### 5 - Analyzing by Busiest_day\n",
    "#### 6 - Analyzing number by State\n",
    "#### 7 - Analyzing by n_dependants\n",
    "#### 8 - Analyzing Days since prior order\n",
    "#### 9 - Defining TOP products for client group"
   ]
  },
  {
   "cell_type": "markdown",
   "id": "b3478eda",
   "metadata": {},
   "source": [
    "### 1 Importing libraries and df w/o PII"
   ]
  },
  {
   "cell_type": "code",
   "execution_count": 1,
   "id": "e865d8b6",
   "metadata": {},
   "outputs": [],
   "source": [
    "import pandas as pd\n",
    "import numpy as np\n",
    "import os\n",
    "import matplotlib.pyplot as plt\n",
    "import seaborn as sns\n",
    "import scipy"
   ]
  },
  {
   "cell_type": "code",
   "execution_count": 2,
   "id": "a0d783f3",
   "metadata": {},
   "outputs": [],
   "source": [
    "path=r'C:\\Users\\user\\07-2023 Instacart Basket Analysis\\02 Data'"
   ]
  },
  {
   "cell_type": "markdown",
   "id": "7d9928b7",
   "metadata": {},
   "source": [
    "### 2 Importing df"
   ]
  },
  {
   "cell_type": "code",
   "execution_count": 3,
   "id": "339d7784",
   "metadata": {},
   "outputs": [],
   "source": [
    "df=pd.read_pickle(os.path.join(path,'Prepared Data','0YNC.pkl'))"
   ]
  },
  {
   "cell_type": "code",
   "execution_count": 4,
   "id": "dd1cde48",
   "metadata": {},
   "outputs": [
    {
     "data": {
      "text/plain": [
       "Index(['user_id', 'Gender', 'STATE', 'Age', 'date_joined', 'n_dependants',\n",
       "       'fam_status', 'income', 'product_id', 'product_name', 'aisle_id',\n",
       "       'department_id', 'prices', 'order_id', 'eval_set', 'order_number',\n",
       "       'day_of_week', 'order_hour_of_day', 'days_since_prior_order',\n",
       "       'add_to_cart_order', 'reordered', 'price_range_loc', 'busiest_day',\n",
       "       'busiest days', 'max_order', 'loyalty_flag', 'mean_price',\n",
       "       'spender_flag', 'median_days_sinse_ord', 'frequent_flag'],\n",
       "      dtype='object')"
      ]
     },
     "execution_count": 4,
     "metadata": {},
     "output_type": "execute_result"
    }
   ],
   "source": [
    "df.columns"
   ]
  },
  {
   "cell_type": "code",
   "execution_count": 5,
   "id": "a95c3088",
   "metadata": {},
   "outputs": [
    {
     "data": {
      "text/plain": [
       "(1461002, 30)"
      ]
     },
     "execution_count": 5,
     "metadata": {},
     "output_type": "execute_result"
    }
   ],
   "source": [
    "df.shape"
   ]
  },
  {
   "cell_type": "code",
   "execution_count": 6,
   "id": "d110e1b9",
   "metadata": {},
   "outputs": [
    {
     "data": {
      "text/html": [
       "<div>\n",
       "<style scoped>\n",
       "    .dataframe tbody tr th:only-of-type {\n",
       "        vertical-align: middle;\n",
       "    }\n",
       "\n",
       "    .dataframe tbody tr th {\n",
       "        vertical-align: top;\n",
       "    }\n",
       "\n",
       "    .dataframe thead th {\n",
       "        text-align: right;\n",
       "    }\n",
       "</style>\n",
       "<table border=\"1\" class=\"dataframe\">\n",
       "  <thead>\n",
       "    <tr style=\"text-align: right;\">\n",
       "      <th></th>\n",
       "      <th>user_id</th>\n",
       "      <th>Age</th>\n",
       "      <th>income</th>\n",
       "      <th>product_id</th>\n",
       "      <th>order_number</th>\n",
       "      <th>mean_price</th>\n",
       "    </tr>\n",
       "  </thead>\n",
       "  <tbody>\n",
       "    <tr>\n",
       "      <th>count</th>\n",
       "      <td>1.461002e+06</td>\n",
       "      <td>1.461002e+06</td>\n",
       "      <td>1.461002e+06</td>\n",
       "      <td>1.461002e+06</td>\n",
       "      <td>1.461002e+06</td>\n",
       "      <td>1.461002e+06</td>\n",
       "    </tr>\n",
       "    <tr>\n",
       "      <th>mean</th>\n",
       "      <td>1.035408e+05</td>\n",
       "      <td>2.888721e+01</td>\n",
       "      <td>6.895287e+04</td>\n",
       "      <td>2.521548e+04</td>\n",
       "      <td>4.076788e+00</td>\n",
       "      <td>1.395043e+01</td>\n",
       "    </tr>\n",
       "    <tr>\n",
       "      <th>std</th>\n",
       "      <td>5.959099e+04</td>\n",
       "      <td>6.600387e+00</td>\n",
       "      <td>2.398956e+04</td>\n",
       "      <td>1.438950e+04</td>\n",
       "      <td>2.209809e+00</td>\n",
       "      <td>1.246759e+02</td>\n",
       "    </tr>\n",
       "    <tr>\n",
       "      <th>min</th>\n",
       "      <td>4.000000e+00</td>\n",
       "      <td>1.800000e+01</td>\n",
       "      <td>2.590300e+04</td>\n",
       "      <td>0.000000e+00</td>\n",
       "      <td>1.000000e+00</td>\n",
       "      <td>1.000000e+00</td>\n",
       "    </tr>\n",
       "    <tr>\n",
       "      <th>25%</th>\n",
       "      <td>5.215000e+04</td>\n",
       "      <td>2.300000e+01</td>\n",
       "      <td>5.481400e+04</td>\n",
       "      <td>1.317600e+04</td>\n",
       "      <td>2.000000e+00</td>\n",
       "      <td>7.309589e+00</td>\n",
       "    </tr>\n",
       "    <tr>\n",
       "      <th>50%</th>\n",
       "      <td>1.040800e+05</td>\n",
       "      <td>2.900000e+01</td>\n",
       "      <td>6.799600e+04</td>\n",
       "      <td>2.496400e+04</td>\n",
       "      <td>4.000000e+00</td>\n",
       "      <td>7.828061e+00</td>\n",
       "    </tr>\n",
       "    <tr>\n",
       "      <th>75%</th>\n",
       "      <td>1.553830e+05</td>\n",
       "      <td>3.500000e+01</td>\n",
       "      <td>8.354000e+04</td>\n",
       "      <td>3.775400e+04</td>\n",
       "      <td>6.000000e+00</td>\n",
       "      <td>8.332031e+00</td>\n",
       "    </tr>\n",
       "    <tr>\n",
       "      <th>max</th>\n",
       "      <td>2.061980e+05</td>\n",
       "      <td>4.000000e+01</td>\n",
       "      <td>3.853240e+05</td>\n",
       "      <td>4.968800e+04</td>\n",
       "      <td>1.000000e+01</td>\n",
       "      <td>1.020999e+04</td>\n",
       "    </tr>\n",
       "  </tbody>\n",
       "</table>\n",
       "</div>"
      ],
      "text/plain": [
       "            user_id           Age        income    product_id  order_number  \\\n",
       "count  1.461002e+06  1.461002e+06  1.461002e+06  1.461002e+06  1.461002e+06   \n",
       "mean   1.035408e+05  2.888721e+01  6.895287e+04  2.521548e+04  4.076788e+00   \n",
       "std    5.959099e+04  6.600387e+00  2.398956e+04  1.438950e+04  2.209809e+00   \n",
       "min    4.000000e+00  1.800000e+01  2.590300e+04  0.000000e+00  1.000000e+00   \n",
       "25%    5.215000e+04  2.300000e+01  5.481400e+04  1.317600e+04  2.000000e+00   \n",
       "50%    1.040800e+05  2.900000e+01  6.799600e+04  2.496400e+04  4.000000e+00   \n",
       "75%    1.553830e+05  3.500000e+01  8.354000e+04  3.775400e+04  6.000000e+00   \n",
       "max    2.061980e+05  4.000000e+01  3.853240e+05  4.968800e+04  1.000000e+01   \n",
       "\n",
       "         mean_price  \n",
       "count  1.461002e+06  \n",
       "mean   1.395043e+01  \n",
       "std    1.246759e+02  \n",
       "min    1.000000e+00  \n",
       "25%    7.309589e+00  \n",
       "50%    7.828061e+00  \n",
       "75%    8.332031e+00  \n",
       "max    1.020999e+04  "
      ]
     },
     "execution_count": 6,
     "metadata": {},
     "output_type": "execute_result"
    }
   ],
   "source": [
    "df[['user_id','Age', 'income','product_id', 'order_number','mean_price']] .describe()"
   ]
  },
  {
   "cell_type": "markdown",
   "id": "08380bfb",
   "metadata": {},
   "source": [
    "### 3 -Analyzing YNC by Frequent Flag"
   ]
  },
  {
   "cell_type": "markdown",
   "id": "6e53f0cf",
   "metadata": {},
   "source": [
    "#### --creating the subset to avoid Memory Error"
   ]
  },
  {
   "cell_type": "code",
   "execution_count": 7,
   "id": "ca583f66",
   "metadata": {},
   "outputs": [],
   "source": [
    "df1=df[['user_id','fam_status','frequent_flag']]"
   ]
  },
  {
   "cell_type": "code",
   "execution_count": 8,
   "id": "ae779de1",
   "metadata": {},
   "outputs": [],
   "source": [
    "df11=df1.drop_duplicates().reset_index()"
   ]
  },
  {
   "cell_type": "code",
   "execution_count": 9,
   "id": "886f2f16",
   "metadata": {},
   "outputs": [
    {
     "data": {
      "text/html": [
       "<div>\n",
       "<style scoped>\n",
       "    .dataframe tbody tr th:only-of-type {\n",
       "        vertical-align: middle;\n",
       "    }\n",
       "\n",
       "    .dataframe tbody tr th {\n",
       "        vertical-align: top;\n",
       "    }\n",
       "\n",
       "    .dataframe thead th {\n",
       "        text-align: right;\n",
       "    }\n",
       "</style>\n",
       "<table border=\"1\" class=\"dataframe\">\n",
       "  <thead>\n",
       "    <tr style=\"text-align: right;\">\n",
       "      <th></th>\n",
       "      <th>index</th>\n",
       "      <th>user_id</th>\n",
       "      <th>fam_status</th>\n",
       "      <th>frequent_flag</th>\n",
       "    </tr>\n",
       "  </thead>\n",
       "  <tbody>\n",
       "    <tr>\n",
       "      <th>0</th>\n",
       "      <td>19</td>\n",
       "      <td>65803</td>\n",
       "      <td>married</td>\n",
       "      <td>Frequent customer</td>\n",
       "    </tr>\n",
       "    <tr>\n",
       "      <th>1</th>\n",
       "      <td>497</td>\n",
       "      <td>8794</td>\n",
       "      <td>married</td>\n",
       "      <td>Frequent customer</td>\n",
       "    </tr>\n",
       "    <tr>\n",
       "      <th>2</th>\n",
       "      <td>1362</td>\n",
       "      <td>168047</td>\n",
       "      <td>married</td>\n",
       "      <td>Regular customer</td>\n",
       "    </tr>\n",
       "    <tr>\n",
       "      <th>3</th>\n",
       "      <td>1990</td>\n",
       "      <td>23357</td>\n",
       "      <td>single</td>\n",
       "      <td>Non-frequent customer</td>\n",
       "    </tr>\n",
       "    <tr>\n",
       "      <th>4</th>\n",
       "      <td>2084</td>\n",
       "      <td>76694</td>\n",
       "      <td>married</td>\n",
       "      <td>Frequent customer</td>\n",
       "    </tr>\n",
       "    <tr>\n",
       "      <th>...</th>\n",
       "      <td>...</td>\n",
       "      <td>...</td>\n",
       "      <td>...</td>\n",
       "      <td>...</td>\n",
       "    </tr>\n",
       "    <tr>\n",
       "      <th>21825</th>\n",
       "      <td>4231416</td>\n",
       "      <td>186530</td>\n",
       "      <td>married</td>\n",
       "      <td>Non-frequent customer</td>\n",
       "    </tr>\n",
       "    <tr>\n",
       "      <th>21826</th>\n",
       "      <td>4347018</td>\n",
       "      <td>179450</td>\n",
       "      <td>married</td>\n",
       "      <td>Frequent customer</td>\n",
       "    </tr>\n",
       "    <tr>\n",
       "      <th>21827</th>\n",
       "      <td>4578719</td>\n",
       "      <td>73043</td>\n",
       "      <td>single</td>\n",
       "      <td>Frequent customer</td>\n",
       "    </tr>\n",
       "    <tr>\n",
       "      <th>21828</th>\n",
       "      <td>4754176</td>\n",
       "      <td>10625</td>\n",
       "      <td>living with parents and siblings</td>\n",
       "      <td>Frequent customer</td>\n",
       "    </tr>\n",
       "    <tr>\n",
       "      <th>21829</th>\n",
       "      <td>5166243</td>\n",
       "      <td>15443</td>\n",
       "      <td>living with parents and siblings</td>\n",
       "      <td>Non-frequent customer</td>\n",
       "    </tr>\n",
       "  </tbody>\n",
       "</table>\n",
       "<p>21830 rows × 4 columns</p>\n",
       "</div>"
      ],
      "text/plain": [
       "         index  user_id                        fam_status  \\\n",
       "0           19    65803                           married   \n",
       "1          497     8794                           married   \n",
       "2         1362   168047                           married   \n",
       "3         1990    23357                            single   \n",
       "4         2084    76694                           married   \n",
       "...        ...      ...                               ...   \n",
       "21825  4231416   186530                           married   \n",
       "21826  4347018   179450                           married   \n",
       "21827  4578719    73043                            single   \n",
       "21828  4754176    10625  living with parents and siblings   \n",
       "21829  5166243    15443  living with parents and siblings   \n",
       "\n",
       "               frequent_flag  \n",
       "0          Frequent customer  \n",
       "1          Frequent customer  \n",
       "2           Regular customer  \n",
       "3      Non-frequent customer  \n",
       "4          Frequent customer  \n",
       "...                      ...  \n",
       "21825  Non-frequent customer  \n",
       "21826      Frequent customer  \n",
       "21827      Frequent customer  \n",
       "21828      Frequent customer  \n",
       "21829  Non-frequent customer  \n",
       "\n",
       "[21830 rows x 4 columns]"
      ]
     },
     "execution_count": 9,
     "metadata": {},
     "output_type": "execute_result"
    }
   ],
   "source": [
    "df11"
   ]
  },
  {
   "cell_type": "markdown",
   "id": "8a4e55ee",
   "metadata": {},
   "source": [
    "#### -analyzing YNC by Frequent_flag and Family Status based on customers number"
   ]
  },
  {
   "cell_type": "code",
   "execution_count": 10,
   "id": "b10af605",
   "metadata": {},
   "outputs": [
    {
     "data": {
      "image/png": "[encoded data removed]",
      "text/plain": [
       "<Figure size 640x480 with 1 Axes>"
      ]
     },
     "metadata": {},
     "output_type": "display_data"
    }
   ],
   "source": [
    "bar12=df11.groupby('fam_status')['frequent_flag'].value_counts().unstack().plot.barh()"
   ]
  },
  {
   "cell_type": "code",
   "execution_count": 11,
   "id": "cdd18c95",
   "metadata": {},
   "outputs": [],
   "source": [
    "bar12.figure.savefig(os.path.join(path, 'Prepared Data', 'YNC_LoyaltyFlag.png'))"
   ]
  },
  {
   "cell_type": "code",
   "execution_count": 12,
   "id": "9633aa76",
   "metadata": {},
   "outputs": [
    {
     "data": {
      "text/plain": [
       "fam_status                        frequent_flag        \n",
       "living with parents and siblings  Non-frequent customer     948\n",
       "                                  Regular customer          856\n",
       "                                  Frequent customer         830\n",
       "                                                            166\n",
       "married                           Non-frequent customer    4688\n",
       "                                  Frequent customer        4222\n",
       "                                  Regular customer         3837\n",
       "                                                            745\n",
       "single                            Non-frequent customer    1897\n",
       "                                  Frequent customer        1691\n",
       "                                  Regular customer         1627\n",
       "                                                            323\n",
       "Name: frequent_flag, dtype: int64"
      ]
     },
     "execution_count": 12,
     "metadata": {},
     "output_type": "execute_result"
    }
   ],
   "source": [
    "df11.groupby('fam_status')['frequent_flag'].value_counts()"
   ]
  },
  {
   "cell_type": "markdown",
   "id": "432fdabf",
   "metadata": {},
   "source": [
    "### -analyzing YNC by Frequent flag and Family Status based on purchase number"
   ]
  },
  {
   "cell_type": "code",
   "execution_count": 15,
   "id": "41bc2683",
   "metadata": {},
   "outputs": [
    {
     "data": {
      "image/png": "[encoded data removed]",
      "text/plain": [
       "<Figure size 640x480 with 1 Axes>"
      ]
     },
     "metadata": {},
     "output_type": "display_data"
    }
   ],
   "source": [
    "bar12=df1.groupby('fam_status')['frequent_flag'].value_counts().unstack().plot.barh()"
   ]
  },
  {
   "cell_type": "code",
   "execution_count": 13,
   "id": "d0c74606",
   "metadata": {},
   "outputs": [],
   "source": [
    "bar12.figure.savefig(os.path.join(path, 'Prepared Data', 'YNC_LoyaltyFlagSales.png'))"
   ]
  },
  {
   "cell_type": "code",
   "execution_count": 14,
   "id": "7d9900be",
   "metadata": {},
   "outputs": [
    {
     "data": {
      "text/plain": [
       "fam_status                        frequent_flag        \n",
       "living with parents and siblings  Non-frequent customer     948\n",
       "                                  Regular customer          856\n",
       "                                  Frequent customer         830\n",
       "                                                            166\n",
       "married                           Non-frequent customer    4688\n",
       "                                  Frequent customer        4222\n",
       "                                  Regular customer         3837\n",
       "                                                            745\n",
       "single                            Non-frequent customer    1897\n",
       "                                  Frequent customer        1691\n",
       "                                  Regular customer         1627\n",
       "                                                            323\n",
       "Name: frequent_flag, dtype: int64"
      ]
     },
     "execution_count": 14,
     "metadata": {},
     "output_type": "execute_result"
    }
   ],
   "source": [
    "df11.groupby('fam_status')['frequent_flag'].value_counts()"
   ]
  },
  {
   "cell_type": "code",
   "execution_count": null,
   "id": "0d411ab1",
   "metadata": {},
   "outputs": [],
   "source": []
  },
  {
   "cell_type": "markdown",
   "id": "6df1434e",
   "metadata": {},
   "source": [
    "### 4 -analyzing YNC purshases by their income"
   ]
  },
  {
   "cell_type": "code",
   "execution_count": 15,
   "id": "77ac4735",
   "metadata": {},
   "outputs": [],
   "source": [
    "df2=df[['prices', 'income']]"
   ]
  },
  {
   "cell_type": "code",
   "execution_count": 16,
   "id": "e10061de",
   "metadata": {},
   "outputs": [
    {
     "data": {
      "text/plain": [
       "20096403.3"
      ]
     },
     "execution_count": 16,
     "metadata": {},
     "output_type": "execute_result"
    }
   ],
   "source": [
    "df2['prices'].sum()"
   ]
  },
  {
   "cell_type": "code",
   "execution_count": 17,
   "id": "9c144c3a",
   "metadata": {},
   "outputs": [],
   "source": [
    "df22=df2.groupby('income').agg(mean_purshase=('prices','mean'))"
   ]
  },
  {
   "cell_type": "code",
   "execution_count": 18,
   "id": "b81dd39e",
   "metadata": {},
   "outputs": [
    {
     "data": {
      "text/html": [
       "<div>\n",
       "<style scoped>\n",
       "    .dataframe tbody tr th:only-of-type {\n",
       "        vertical-align: middle;\n",
       "    }\n",
       "\n",
       "    .dataframe tbody tr th {\n",
       "        vertical-align: top;\n",
       "    }\n",
       "\n",
       "    .dataframe thead th {\n",
       "        text-align: right;\n",
       "    }\n",
       "</style>\n",
       "<table border=\"1\" class=\"dataframe\">\n",
       "  <thead>\n",
       "    <tr style=\"text-align: right;\">\n",
       "      <th></th>\n",
       "      <th>mean_purshase</th>\n",
       "    </tr>\n",
       "    <tr>\n",
       "      <th>income</th>\n",
       "      <th></th>\n",
       "    </tr>\n",
       "  </thead>\n",
       "  <tbody>\n",
       "    <tr>\n",
       "      <th>25903</th>\n",
       "      <td>3.214286</td>\n",
       "    </tr>\n",
       "    <tr>\n",
       "      <th>25911</th>\n",
       "      <td>6.444828</td>\n",
       "    </tr>\n",
       "    <tr>\n",
       "      <th>25937</th>\n",
       "      <td>6.807500</td>\n",
       "    </tr>\n",
       "    <tr>\n",
       "      <th>25941</th>\n",
       "      <td>5.500000</td>\n",
       "    </tr>\n",
       "    <tr>\n",
       "      <th>25991</th>\n",
       "      <td>6.411429</td>\n",
       "    </tr>\n",
       "    <tr>\n",
       "      <th>...</th>\n",
       "      <td>...</td>\n",
       "    </tr>\n",
       "    <tr>\n",
       "      <th>368295</th>\n",
       "      <td>192.856790</td>\n",
       "    </tr>\n",
       "    <tr>\n",
       "      <th>371653</th>\n",
       "      <td>3233.061290</td>\n",
       "    </tr>\n",
       "    <tr>\n",
       "      <th>376599</th>\n",
       "      <td>3398.111017</td>\n",
       "    </tr>\n",
       "    <tr>\n",
       "      <th>376772</th>\n",
       "      <td>333.433577</td>\n",
       "    </tr>\n",
       "    <tr>\n",
       "      <th>385324</th>\n",
       "      <td>324.780851</td>\n",
       "    </tr>\n",
       "  </tbody>\n",
       "</table>\n",
       "<p>18756 rows × 1 columns</p>\n",
       "</div>"
      ],
      "text/plain": [
       "        mean_purshase\n",
       "income               \n",
       "25903        3.214286\n",
       "25911        6.444828\n",
       "25937        6.807500\n",
       "25941        5.500000\n",
       "25991        6.411429\n",
       "...               ...\n",
       "368295     192.856790\n",
       "371653    3233.061290\n",
       "376599    3398.111017\n",
       "376772     333.433577\n",
       "385324     324.780851\n",
       "\n",
       "[18756 rows x 1 columns]"
      ]
     },
     "execution_count": 18,
     "metadata": {},
     "output_type": "execute_result"
    }
   ],
   "source": [
    "df22"
   ]
  },
  {
   "cell_type": "code",
   "execution_count": 19,
   "id": "75ff1fd3",
   "metadata": {},
   "outputs": [
    {
     "data": {
      "image/png": "[encoded data removed]",
      "text/plain": [
       "<Figure size 640x480 with 1 Axes>"
      ]
     },
     "metadata": {},
     "output_type": "display_data"
    }
   ],
   "source": [
    "scat3=sns.scatterplot(x='mean_purshase', y='income', data=df22)"
   ]
  },
  {
   "cell_type": "markdown",
   "id": "cba42179",
   "metadata": {},
   "source": [
    "#### filter extrem big values"
   ]
  },
  {
   "cell_type": "code",
   "execution_count": 20,
   "id": "acf7672e",
   "metadata": {},
   "outputs": [],
   "source": [
    "df22filtered=df22[df22['mean_purshase']<600]"
   ]
  },
  {
   "cell_type": "code",
   "execution_count": 21,
   "id": "c96ec908",
   "metadata": {},
   "outputs": [
    {
     "data": {
      "image/png": "[encoded data removed]",
      "text/plain": [
       "<Figure size 640x480 with 1 Axes>"
      ]
     },
     "metadata": {},
     "output_type": "display_data"
    }
   ],
   "source": [
    "scat3=sns.scatterplot(x='mean_purshase', y='income', data=df22filtered)"
   ]
  },
  {
   "cell_type": "code",
   "execution_count": 22,
   "id": "6873ccae",
   "metadata": {},
   "outputs": [],
   "source": [
    "scat3.figure.savefig(os.path.join(path, 'Prepared Data', 'YNC_PricesIncome.png'))"
   ]
  },
  {
   "cell_type": "markdown",
   "id": "022c92a7",
   "metadata": {},
   "source": [
    "### 5 - Analyzing YNC by Busiest_day"
   ]
  },
  {
   "cell_type": "code",
   "execution_count": 23,
   "id": "58fcebb9",
   "metadata": {},
   "outputs": [],
   "source": [
    "df4=df[['user_id','STATE', 'busiest_day', 'day_of_week']]"
   ]
  },
  {
   "cell_type": "code",
   "execution_count": 24,
   "id": "7a0d6e09",
   "metadata": {},
   "outputs": [
    {
     "data": {
      "text/html": [
       "<div>\n",
       "<style scoped>\n",
       "    .dataframe tbody tr th:only-of-type {\n",
       "        vertical-align: middle;\n",
       "    }\n",
       "\n",
       "    .dataframe tbody tr th {\n",
       "        vertical-align: top;\n",
       "    }\n",
       "\n",
       "    .dataframe thead th {\n",
       "        text-align: right;\n",
       "    }\n",
       "</style>\n",
       "<table border=\"1\" class=\"dataframe\">\n",
       "  <thead>\n",
       "    <tr style=\"text-align: right;\">\n",
       "      <th></th>\n",
       "      <th>user_id</th>\n",
       "      <th>STATE</th>\n",
       "      <th>busiest_day</th>\n",
       "      <th>day_of_week</th>\n",
       "    </tr>\n",
       "  </thead>\n",
       "  <tbody>\n",
       "    <tr>\n",
       "      <th>19</th>\n",
       "      <td>65803</td>\n",
       "      <td>Idaho</td>\n",
       "      <td>Busiest days</td>\n",
       "      <td>1</td>\n",
       "    </tr>\n",
       "    <tr>\n",
       "      <th>20</th>\n",
       "      <td>65803</td>\n",
       "      <td>Idaho</td>\n",
       "      <td>Busiest days</td>\n",
       "      <td>1</td>\n",
       "    </tr>\n",
       "    <tr>\n",
       "      <th>21</th>\n",
       "      <td>65803</td>\n",
       "      <td>Idaho</td>\n",
       "      <td>Busiest days</td>\n",
       "      <td>1</td>\n",
       "    </tr>\n",
       "    <tr>\n",
       "      <th>22</th>\n",
       "      <td>65803</td>\n",
       "      <td>Idaho</td>\n",
       "      <td>Busiest days</td>\n",
       "      <td>0</td>\n",
       "    </tr>\n",
       "    <tr>\n",
       "      <th>23</th>\n",
       "      <td>65803</td>\n",
       "      <td>Idaho</td>\n",
       "      <td>Slowest days</td>\n",
       "      <td>4</td>\n",
       "    </tr>\n",
       "    <tr>\n",
       "      <th>...</th>\n",
       "      <td>...</td>\n",
       "      <td>...</td>\n",
       "      <td>...</td>\n",
       "      <td>...</td>\n",
       "    </tr>\n",
       "    <tr>\n",
       "      <th>6464309</th>\n",
       "      <td>75529</td>\n",
       "      <td>West Virginia</td>\n",
       "      <td>Regularly days</td>\n",
       "      <td>2</td>\n",
       "    </tr>\n",
       "    <tr>\n",
       "      <th>6464310</th>\n",
       "      <td>75529</td>\n",
       "      <td>West Virginia</td>\n",
       "      <td>Slowest days</td>\n",
       "      <td>4</td>\n",
       "    </tr>\n",
       "    <tr>\n",
       "      <th>6464311</th>\n",
       "      <td>75529</td>\n",
       "      <td>West Virginia</td>\n",
       "      <td>Regularly days</td>\n",
       "      <td>5</td>\n",
       "    </tr>\n",
       "    <tr>\n",
       "      <th>6464312</th>\n",
       "      <td>75529</td>\n",
       "      <td>West Virginia</td>\n",
       "      <td>Busiest days</td>\n",
       "      <td>0</td>\n",
       "    </tr>\n",
       "    <tr>\n",
       "      <th>6464313</th>\n",
       "      <td>75529</td>\n",
       "      <td>West Virginia</td>\n",
       "      <td>Busiest days</td>\n",
       "      <td>1</td>\n",
       "    </tr>\n",
       "  </tbody>\n",
       "</table>\n",
       "<p>1461002 rows × 4 columns</p>\n",
       "</div>"
      ],
      "text/plain": [
       "         user_id          STATE     busiest_day  day_of_week\n",
       "19         65803          Idaho    Busiest days            1\n",
       "20         65803          Idaho    Busiest days            1\n",
       "21         65803          Idaho    Busiest days            1\n",
       "22         65803          Idaho    Busiest days            0\n",
       "23         65803          Idaho    Slowest days            4\n",
       "...          ...            ...             ...          ...\n",
       "6464309    75529  West Virginia  Regularly days            2\n",
       "6464310    75529  West Virginia    Slowest days            4\n",
       "6464311    75529  West Virginia  Regularly days            5\n",
       "6464312    75529  West Virginia    Busiest days            0\n",
       "6464313    75529  West Virginia    Busiest days            1\n",
       "\n",
       "[1461002 rows x 4 columns]"
      ]
     },
     "execution_count": 24,
     "metadata": {},
     "output_type": "execute_result"
    }
   ],
   "source": [
    "df4"
   ]
  },
  {
   "cell_type": "code",
   "execution_count": 25,
   "id": "6a0d8788",
   "metadata": {},
   "outputs": [
    {
     "data": {
      "image/png": "[encoded data removed]",
      "text/plain": [
       "<Figure size 640x480 with 1 Axes>"
      ]
     },
     "metadata": {},
     "output_type": "display_data"
    }
   ],
   "source": [
    "bar14=df4.groupby('busiest_day').agg({'day_of_week':['mean']}).plot.barh()"
   ]
  },
  {
   "cell_type": "code",
   "execution_count": 26,
   "id": "1869f79f",
   "metadata": {},
   "outputs": [],
   "source": [
    "bar14.figure.savefig(os.path.join(path, 'Prepared Data', 'YNC_BusiestDayOfWeek.png'))"
   ]
  },
  {
   "cell_type": "code",
   "execution_count": 27,
   "id": "85f545c6",
   "metadata": {},
   "outputs": [
    {
     "data": {
      "image/png": "[encoded data removed]",
      "text/plain": [
       "<Figure size 640x480 with 1 Axes>"
      ]
     },
     "metadata": {},
     "output_type": "display_data"
    }
   ],
   "source": [
    "pie24=df4.groupby('day_of_week')['busiest_day'].count().plot(kind='pie', autopct='%0.01f%%')"
   ]
  },
  {
   "cell_type": "code",
   "execution_count": 28,
   "id": "69e06226",
   "metadata": {},
   "outputs": [
    {
     "data": {
      "text/plain": [
       "day_of_week\n",
       "0    300935\n",
       "1    249916\n",
       "2    187894\n",
       "3    172036\n",
       "4    162414\n",
       "5    178383\n",
       "6    209424\n",
       "Name: busiest_day, dtype: int64"
      ]
     },
     "execution_count": 28,
     "metadata": {},
     "output_type": "execute_result"
    }
   ],
   "source": [
    "df4.groupby('day_of_week')['busiest_day'].count()"
   ]
  },
  {
   "cell_type": "code",
   "execution_count": 29,
   "id": "8815f6e2",
   "metadata": {},
   "outputs": [],
   "source": [
    "pie24.figure.savefig(os.path.join(path, 'Prepared Data', 'YNC_pieBusiestDayOfWeek.png'))"
   ]
  },
  {
   "cell_type": "markdown",
   "id": "2d3eb93f",
   "metadata": {},
   "source": [
    "### -YNC prefered hour of day"
   ]
  },
  {
   "cell_type": "code",
   "execution_count": 30,
   "id": "1b254441",
   "metadata": {},
   "outputs": [],
   "source": [
    "df44=df[['order_hour_of_day','user_id']]"
   ]
  },
  {
   "cell_type": "code",
   "execution_count": 31,
   "id": "6ea53ee1",
   "metadata": {},
   "outputs": [
    {
     "data": {
      "text/plain": [
       "order_hour_of_day\n",
       "0      11130\n",
       "1       6338\n",
       "2       3773\n",
       "3       3253\n",
       "4       2916\n",
       "5       4024\n",
       "6      10340\n",
       "7      31582\n",
       "8      62446\n",
       "9      93253\n",
       "10    116000\n",
       "11    123629\n",
       "12    118187\n",
       "13    125197\n",
       "14    124644\n",
       "15    127315\n",
       "16    123708\n",
       "17    105144\n",
       "18     82199\n",
       "19     62982\n",
       "20     44337\n",
       "21     33951\n",
       "22     27412\n",
       "23     17242\n",
       "Name: user_id, dtype: int64"
      ]
     },
     "execution_count": 31,
     "metadata": {},
     "output_type": "execute_result"
    }
   ],
   "source": [
    "df44.groupby('order_hour_of_day')['user_id'].count()"
   ]
  },
  {
   "cell_type": "code",
   "execution_count": 32,
   "id": "a091f84d",
   "metadata": {},
   "outputs": [
    {
     "data": {
      "image/png": "[encoded data removed]",
      "text/plain": [
       "<Figure size 640x480 with 1 Axes>"
      ]
     },
     "metadata": {},
     "output_type": "display_data"
    }
   ],
   "source": [
    "bar44=df44.groupby('order_hour_of_day')['user_id'].count().plot.bar()"
   ]
  },
  {
   "cell_type": "code",
   "execution_count": 33,
   "id": "ae76aa46",
   "metadata": {},
   "outputs": [],
   "source": [
    "bar44.figure.savefig(os.path.join(path, 'Prepared Data', 'YNC_BusiestHourOfDay.png'))"
   ]
  },
  {
   "cell_type": "markdown",
   "id": "07093898",
   "metadata": {},
   "source": [
    "### 6 - Analyzing number of YNC by State"
   ]
  },
  {
   "cell_type": "code",
   "execution_count": 45,
   "id": "7d0dda6d",
   "metadata": {},
   "outputs": [],
   "source": [
    "df5=df[['user_id','STATE']]"
   ]
  },
  {
   "cell_type": "code",
   "execution_count": 46,
   "id": "35bc7814",
   "metadata": {},
   "outputs": [],
   "source": [
    "DF5=df5.drop_duplicates().reset_index()"
   ]
  },
  {
   "cell_type": "code",
   "execution_count": 47,
   "id": "17841906",
   "metadata": {},
   "outputs": [
    {
     "data": {
      "text/html": [
       "<div>\n",
       "<style scoped>\n",
       "    .dataframe tbody tr th:only-of-type {\n",
       "        vertical-align: middle;\n",
       "    }\n",
       "\n",
       "    .dataframe tbody tr th {\n",
       "        vertical-align: top;\n",
       "    }\n",
       "\n",
       "    .dataframe thead th {\n",
       "        text-align: right;\n",
       "    }\n",
       "</style>\n",
       "<table border=\"1\" class=\"dataframe\">\n",
       "  <thead>\n",
       "    <tr style=\"text-align: right;\">\n",
       "      <th></th>\n",
       "      <th>index</th>\n",
       "      <th>user_id</th>\n",
       "      <th>STATE</th>\n",
       "    </tr>\n",
       "  </thead>\n",
       "  <tbody>\n",
       "    <tr>\n",
       "      <th>0</th>\n",
       "      <td>19</td>\n",
       "      <td>65803</td>\n",
       "      <td>Idaho</td>\n",
       "    </tr>\n",
       "    <tr>\n",
       "      <th>1</th>\n",
       "      <td>497</td>\n",
       "      <td>8794</td>\n",
       "      <td>Nebraska</td>\n",
       "    </tr>\n",
       "    <tr>\n",
       "      <th>2</th>\n",
       "      <td>1362</td>\n",
       "      <td>168047</td>\n",
       "      <td>Alaska</td>\n",
       "    </tr>\n",
       "    <tr>\n",
       "      <th>3</th>\n",
       "      <td>1990</td>\n",
       "      <td>23357</td>\n",
       "      <td>Wisconsin</td>\n",
       "    </tr>\n",
       "    <tr>\n",
       "      <th>4</th>\n",
       "      <td>2084</td>\n",
       "      <td>76694</td>\n",
       "      <td>South Carolina</td>\n",
       "    </tr>\n",
       "    <tr>\n",
       "      <th>...</th>\n",
       "      <td>...</td>\n",
       "      <td>...</td>\n",
       "      <td>...</td>\n",
       "    </tr>\n",
       "    <tr>\n",
       "      <th>21825</th>\n",
       "      <td>4231416</td>\n",
       "      <td>186530</td>\n",
       "      <td>Nevada</td>\n",
       "    </tr>\n",
       "    <tr>\n",
       "      <th>21826</th>\n",
       "      <td>4347018</td>\n",
       "      <td>179450</td>\n",
       "      <td>Oregon</td>\n",
       "    </tr>\n",
       "    <tr>\n",
       "      <th>21827</th>\n",
       "      <td>4578719</td>\n",
       "      <td>73043</td>\n",
       "      <td>Georgia</td>\n",
       "    </tr>\n",
       "    <tr>\n",
       "      <th>21828</th>\n",
       "      <td>4754176</td>\n",
       "      <td>10625</td>\n",
       "      <td>Kansas</td>\n",
       "    </tr>\n",
       "    <tr>\n",
       "      <th>21829</th>\n",
       "      <td>5166243</td>\n",
       "      <td>15443</td>\n",
       "      <td>South Carolina</td>\n",
       "    </tr>\n",
       "  </tbody>\n",
       "</table>\n",
       "<p>21830 rows × 3 columns</p>\n",
       "</div>"
      ],
      "text/plain": [
       "         index  user_id           STATE\n",
       "0           19    65803           Idaho\n",
       "1          497     8794        Nebraska\n",
       "2         1362   168047          Alaska\n",
       "3         1990    23357       Wisconsin\n",
       "4         2084    76694  South Carolina\n",
       "...        ...      ...             ...\n",
       "21825  4231416   186530          Nevada\n",
       "21826  4347018   179450          Oregon\n",
       "21827  4578719    73043         Georgia\n",
       "21828  4754176    10625          Kansas\n",
       "21829  5166243    15443  South Carolina\n",
       "\n",
       "[21830 rows x 3 columns]"
      ]
     },
     "execution_count": 47,
     "metadata": {},
     "output_type": "execute_result"
    }
   ],
   "source": [
    "DF5"
   ]
  },
  {
   "cell_type": "markdown",
   "id": "4c0a7d5a",
   "metadata": {},
   "source": [
    "#### number of rows indicate total number of YNC =21830"
   ]
  },
  {
   "cell_type": "code",
   "execution_count": 48,
   "id": "3095fc97",
   "metadata": {},
   "outputs": [
    {
     "data": {
      "image/png": "[encoded data removed]",
      "text/plain": [
       "<Figure size 640x480 with 1 Axes>"
      ]
     },
     "metadata": {},
     "output_type": "display_data"
    }
   ],
   "source": [
    "bar15=DF5.groupby('STATE')['user_id'].count().plot.bar()"
   ]
  },
  {
   "cell_type": "code",
   "execution_count": 49,
   "id": "ae4f0761",
   "metadata": {},
   "outputs": [
    {
     "data": {
      "text/plain": [
       "STATE\n",
       "Alabama                 454\n",
       "Alaska                  424\n",
       "Arizona                 415\n",
       "Arkansas                432\n",
       "California              443\n",
       "Colorado                423\n",
       "Connecticut             410\n",
       "Delaware                483\n",
       "District of Columbia    442\n",
       "Florida                 455\n",
       "Georgia                 455\n",
       "Hawaii                  446\n",
       "Idaho                   455\n",
       "Illinois                411\n",
       "Indiana                 400\n",
       "Iowa                    385\n",
       "Kansas                  423\n",
       "Kentucky                414\n",
       "Louisiana               383\n",
       "Maine                   430\n",
       "Maryland                453\n",
       "Massachusetts           432\n",
       "Michigan                419\n",
       "Minnesota               389\n",
       "Mississippi             431\n",
       "Missouri                388\n",
       "Montana                 430\n",
       "Nebraska                458\n",
       "Nevada                  451\n",
       "New Hampshire           420\n",
       "New Jersey              409\n",
       "New Mexico              426\n",
       "New York                423\n",
       "North Carolina          440\n",
       "North Dakota            447\n",
       "Ohio                    422\n",
       "Oklahoma                433\n",
       "Oregon                  432\n",
       "Pennsylvania            432\n",
       "Rhode Island            415\n",
       "South Carolina          403\n",
       "South Dakota            413\n",
       "Tennessee               438\n",
       "Texas                   435\n",
       "Utah                    414\n",
       "Vermont                 440\n",
       "Virginia                455\n",
       "Washington              433\n",
       "West Virginia           423\n",
       "Wisconsin               421\n",
       "Wyoming                 422\n",
       "Name: user_id, dtype: int64"
      ]
     },
     "execution_count": 49,
     "metadata": {},
     "output_type": "execute_result"
    }
   ],
   "source": [
    "DF5.groupby('STATE')['user_id'].count()"
   ]
  },
  {
   "cell_type": "markdown",
   "id": "18d39621",
   "metadata": {},
   "source": [
    "#### -defining 10 Top States"
   ]
  },
  {
   "cell_type": "code",
   "execution_count": 50,
   "id": "aac475de",
   "metadata": {},
   "outputs": [
    {
     "data": {
      "text/plain": [
       "STATE\n",
       "Delaware        483\n",
       "Nebraska        458\n",
       "Virginia        455\n",
       "Idaho           455\n",
       "Georgia         455\n",
       "Florida         455\n",
       "Alabama         454\n",
       "Maryland        453\n",
       "Nevada          451\n",
       "North Dakota    447\n",
       "Name: user_id, dtype: int64"
      ]
     },
     "execution_count": 50,
     "metadata": {},
     "output_type": "execute_result"
    }
   ],
   "source": [
    "DF5.groupby('STATE')['user_id'].count().sort_values(ascending=False).head(10)"
   ]
  },
  {
   "cell_type": "code",
   "execution_count": null,
   "id": "d53615bf",
   "metadata": {},
   "outputs": [],
   "source": []
  },
  {
   "cell_type": "markdown",
   "id": "c1b72f2d",
   "metadata": {},
   "source": [
    "#### -saving the plot"
   ]
  },
  {
   "cell_type": "code",
   "execution_count": 51,
   "id": "5d005869",
   "metadata": {},
   "outputs": [],
   "source": [
    "bar15.figure.savefig(os.path.join(path, 'Prepared Data', 'YNC_UsersNumberState.png'))"
   ]
  },
  {
   "cell_type": "markdown",
   "id": "a2d601e3",
   "metadata": {},
   "source": [
    "### 7 - Analyzing YNC by n_dependants"
   ]
  },
  {
   "cell_type": "code",
   "execution_count": 52,
   "id": "2864b045",
   "metadata": {},
   "outputs": [],
   "source": [
    "df6=df[['user_id', 'n_dependants']]"
   ]
  },
  {
   "cell_type": "code",
   "execution_count": 53,
   "id": "e5568505",
   "metadata": {},
   "outputs": [],
   "source": [
    "DF6=df6.drop_duplicates()"
   ]
  },
  {
   "cell_type": "code",
   "execution_count": 54,
   "id": "59971c8d",
   "metadata": {},
   "outputs": [
    {
     "data": {
      "text/plain": [
       "n_dependants\n",
       "0    5538\n",
       "1    5478\n",
       "2    5467\n",
       "3    5347\n",
       "Name: user_id, dtype: int64"
      ]
     },
     "execution_count": 54,
     "metadata": {},
     "output_type": "execute_result"
    }
   ],
   "source": [
    "DF6.groupby(['n_dependants'])['user_id'].count()"
   ]
  },
  {
   "cell_type": "code",
   "execution_count": 55,
   "id": "e705b023",
   "metadata": {},
   "outputs": [
    {
     "data": {
      "image/png": "[encoded data removed]",
      "text/plain": [
       "<Figure size 640x480 with 1 Axes>"
      ]
     },
     "metadata": {},
     "output_type": "display_data"
    }
   ],
   "source": [
    "pie16=DF6.groupby(['n_dependants'])['user_id'].count().plot(kind='pie', autopct='%0.01f%%')"
   ]
  },
  {
   "cell_type": "code",
   "execution_count": 56,
   "id": "4144864c",
   "metadata": {},
   "outputs": [
    {
     "data": {
      "text/html": [
       "<div>\n",
       "<style scoped>\n",
       "    .dataframe tbody tr th:only-of-type {\n",
       "        vertical-align: middle;\n",
       "    }\n",
       "\n",
       "    .dataframe tbody tr th {\n",
       "        vertical-align: top;\n",
       "    }\n",
       "\n",
       "    .dataframe thead th {\n",
       "        text-align: right;\n",
       "    }\n",
       "</style>\n",
       "<table border=\"1\" class=\"dataframe\">\n",
       "  <thead>\n",
       "    <tr style=\"text-align: right;\">\n",
       "      <th></th>\n",
       "      <th>user_id</th>\n",
       "      <th>n_dependants</th>\n",
       "    </tr>\n",
       "  </thead>\n",
       "  <tbody>\n",
       "    <tr>\n",
       "      <th>19</th>\n",
       "      <td>65803</td>\n",
       "      <td>2</td>\n",
       "    </tr>\n",
       "    <tr>\n",
       "      <th>497</th>\n",
       "      <td>8794</td>\n",
       "      <td>3</td>\n",
       "    </tr>\n",
       "    <tr>\n",
       "      <th>1362</th>\n",
       "      <td>168047</td>\n",
       "      <td>3</td>\n",
       "    </tr>\n",
       "    <tr>\n",
       "      <th>1990</th>\n",
       "      <td>23357</td>\n",
       "      <td>0</td>\n",
       "    </tr>\n",
       "    <tr>\n",
       "      <th>2084</th>\n",
       "      <td>76694</td>\n",
       "      <td>3</td>\n",
       "    </tr>\n",
       "    <tr>\n",
       "      <th>...</th>\n",
       "      <td>...</td>\n",
       "      <td>...</td>\n",
       "    </tr>\n",
       "    <tr>\n",
       "      <th>4231416</th>\n",
       "      <td>186530</td>\n",
       "      <td>3</td>\n",
       "    </tr>\n",
       "    <tr>\n",
       "      <th>4347018</th>\n",
       "      <td>179450</td>\n",
       "      <td>1</td>\n",
       "    </tr>\n",
       "    <tr>\n",
       "      <th>4578719</th>\n",
       "      <td>73043</td>\n",
       "      <td>0</td>\n",
       "    </tr>\n",
       "    <tr>\n",
       "      <th>4754176</th>\n",
       "      <td>10625</td>\n",
       "      <td>2</td>\n",
       "    </tr>\n",
       "    <tr>\n",
       "      <th>5166243</th>\n",
       "      <td>15443</td>\n",
       "      <td>2</td>\n",
       "    </tr>\n",
       "  </tbody>\n",
       "</table>\n",
       "<p>21830 rows × 2 columns</p>\n",
       "</div>"
      ],
      "text/plain": [
       "         user_id  n_dependants\n",
       "19         65803             2\n",
       "497         8794             3\n",
       "1362      168047             3\n",
       "1990       23357             0\n",
       "2084       76694             3\n",
       "...          ...           ...\n",
       "4231416   186530             3\n",
       "4347018   179450             1\n",
       "4578719    73043             0\n",
       "4754176    10625             2\n",
       "5166243    15443             2\n",
       "\n",
       "[21830 rows x 2 columns]"
      ]
     },
     "execution_count": 56,
     "metadata": {},
     "output_type": "execute_result"
    }
   ],
   "source": [
    "DF6"
   ]
  },
  {
   "cell_type": "markdown",
   "id": "4402e712",
   "metadata": {},
   "source": [
    "#### saving the plot"
   ]
  },
  {
   "cell_type": "code",
   "execution_count": 57,
   "id": "930f9006",
   "metadata": {},
   "outputs": [],
   "source": [
    "pie16.figure.savefig(os.path.join(path, 'Prepared Data', 'YNC_NDependansUsers.png'))"
   ]
  },
  {
   "cell_type": "markdown",
   "id": "69240cad",
   "metadata": {},
   "source": [
    "### 8 - Analyzing YNC Days since prior order"
   ]
  },
  {
   "cell_type": "code",
   "execution_count": 58,
   "id": "38b4175f",
   "metadata": {},
   "outputs": [
    {
     "data": {
      "image/png": "[encoded data removed]",
      "text/plain": [
       "<Figure size 640x480 with 1 Axes>"
      ]
     },
     "metadata": {},
     "output_type": "display_data"
    }
   ],
   "source": [
    "line17=df.groupby('days_since_prior_order')['days_since_prior_order'].count().plot(kind='line')"
   ]
  },
  {
   "cell_type": "code",
   "execution_count": 59,
   "id": "4bc710c4",
   "metadata": {},
   "outputs": [
    {
     "data": {
      "text/plain": [
       "days_since_prior_order\n",
       "0     227248\n",
       "1      13370\n",
       "2      18168\n",
       "3      25927\n",
       "4      31535\n",
       "5      40381\n",
       "6      55928\n",
       "7      85296\n",
       "8      55426\n",
       "9      39403\n",
       "10     33559\n",
       "11     31891\n",
       "12     32865\n",
       "13     39670\n",
       "14     50113\n",
       "15     33733\n",
       "16     24088\n",
       "17     21118\n",
       "18     20378\n",
       "19     20973\n",
       "20     24401\n",
       "21     31240\n",
       "22     20329\n",
       "23     16301\n",
       "24     13955\n",
       "25     13508\n",
       "26     13884\n",
       "27     17345\n",
       "28     21394\n",
       "29     15440\n",
       "30    372135\n",
       "Name: days_since_prior_order, dtype: int64"
      ]
     },
     "execution_count": 59,
     "metadata": {},
     "output_type": "execute_result"
    }
   ],
   "source": [
    "df.groupby('days_since_prior_order')['days_since_prior_order'].count()"
   ]
  },
  {
   "cell_type": "code",
   "execution_count": 60,
   "id": "dc157699",
   "metadata": {},
   "outputs": [],
   "source": [
    "line17.figure.savefig(os.path.join(path, 'Prepared Data', 'YNC_DaysSincePriorOrder.png'))"
   ]
  },
  {
   "cell_type": "markdown",
   "id": "3d0c4597",
   "metadata": {},
   "source": [
    "### 9- Defining YNC TOP products for client group\n"
   ]
  },
  {
   "cell_type": "markdown",
   "id": "f0621a1a",
   "metadata": {},
   "source": [
    " #### creating subset"
   ]
  },
  {
   "cell_type": "code",
   "execution_count": 61,
   "id": "b5303195",
   "metadata": {},
   "outputs": [],
   "source": [
    "df18=df[['product_name','product_id','prices']]"
   ]
  },
  {
   "cell_type": "code",
   "execution_count": 62,
   "id": "bc00aa6b",
   "metadata": {},
   "outputs": [
    {
     "data": {
      "text/html": [
       "<div>\n",
       "<style scoped>\n",
       "    .dataframe tbody tr th:only-of-type {\n",
       "        vertical-align: middle;\n",
       "    }\n",
       "\n",
       "    .dataframe tbody tr th {\n",
       "        vertical-align: top;\n",
       "    }\n",
       "\n",
       "    .dataframe thead th {\n",
       "        text-align: right;\n",
       "    }\n",
       "</style>\n",
       "<table border=\"1\" class=\"dataframe\">\n",
       "  <thead>\n",
       "    <tr style=\"text-align: right;\">\n",
       "      <th></th>\n",
       "      <th>product_name</th>\n",
       "      <th>product_id</th>\n",
       "      <th>prices</th>\n",
       "    </tr>\n",
       "  </thead>\n",
       "  <tbody>\n",
       "    <tr>\n",
       "      <th>19</th>\n",
       "      <td>Soda</td>\n",
       "      <td>196</td>\n",
       "      <td>9.0</td>\n",
       "    </tr>\n",
       "    <tr>\n",
       "      <th>20</th>\n",
       "      <td>Organic Mushroom &amp; Olive Pizza</td>\n",
       "      <td>4428</td>\n",
       "      <td>10.0</td>\n",
       "    </tr>\n",
       "    <tr>\n",
       "      <th>21</th>\n",
       "      <td>Tortilla Crusted Tilapia</td>\n",
       "      <td>4432</td>\n",
       "      <td>8.6</td>\n",
       "    </tr>\n",
       "    <tr>\n",
       "      <th>22</th>\n",
       "      <td>Supremo Pork Chorizo 12 Oz.</td>\n",
       "      <td>7337</td>\n",
       "      <td>24.1</td>\n",
       "    </tr>\n",
       "    <tr>\n",
       "      <th>23</th>\n",
       "      <td>Strawberry Frozen Greek Yogurt Bars</td>\n",
       "      <td>13417</td>\n",
       "      <td>4.3</td>\n",
       "    </tr>\n",
       "    <tr>\n",
       "      <th>...</th>\n",
       "      <td>...</td>\n",
       "      <td>...</td>\n",
       "      <td>...</td>\n",
       "    </tr>\n",
       "    <tr>\n",
       "      <th>6464309</th>\n",
       "      <td>Organic  Whole Milk</td>\n",
       "      <td>31720</td>\n",
       "      <td>9.3</td>\n",
       "    </tr>\n",
       "    <tr>\n",
       "      <th>6464310</th>\n",
       "      <td>Organic  Whole Milk</td>\n",
       "      <td>31720</td>\n",
       "      <td>9.3</td>\n",
       "    </tr>\n",
       "    <tr>\n",
       "      <th>6464311</th>\n",
       "      <td>Fresh Mozzarella Ball</td>\n",
       "      <td>37524</td>\n",
       "      <td>4.7</td>\n",
       "    </tr>\n",
       "    <tr>\n",
       "      <th>6464312</th>\n",
       "      <td>Organic Ginger Root</td>\n",
       "      <td>46667</td>\n",
       "      <td>6.9</td>\n",
       "    </tr>\n",
       "    <tr>\n",
       "      <th>6464313</th>\n",
       "      <td>Organic Whole Wheat Bread</td>\n",
       "      <td>48628</td>\n",
       "      <td>4.7</td>\n",
       "    </tr>\n",
       "  </tbody>\n",
       "</table>\n",
       "<p>1461002 rows × 3 columns</p>\n",
       "</div>"
      ],
      "text/plain": [
       "                                product_name  product_id  prices\n",
       "19                                      Soda         196     9.0\n",
       "20            Organic Mushroom & Olive Pizza        4428    10.0\n",
       "21                  Tortilla Crusted Tilapia        4432     8.6\n",
       "22               Supremo Pork Chorizo 12 Oz.        7337    24.1\n",
       "23       Strawberry Frozen Greek Yogurt Bars       13417     4.3\n",
       "...                                      ...         ...     ...\n",
       "6464309                  Organic  Whole Milk       31720     9.3\n",
       "6464310                  Organic  Whole Milk       31720     9.3\n",
       "6464311                Fresh Mozzarella Ball       37524     4.7\n",
       "6464312                  Organic Ginger Root       46667     6.9\n",
       "6464313            Organic Whole Wheat Bread       48628     4.7\n",
       "\n",
       "[1461002 rows x 3 columns]"
      ]
     },
     "execution_count": 62,
     "metadata": {},
     "output_type": "execute_result"
    }
   ],
   "source": [
    "df18"
   ]
  },
  {
   "cell_type": "markdown",
   "id": "dbc97ae0",
   "metadata": {},
   "source": [
    "#### identifying the most populare products counting orders rows  and selecting 10 TOP "
   ]
  },
  {
   "cell_type": "code",
   "execution_count": 63,
   "id": "8d2dd45a",
   "metadata": {},
   "outputs": [],
   "source": [
    "DF18=df18.groupby('product_name')['prices'].count().sort_values( ascending=False).reset_index().head(10)"
   ]
  },
  {
   "cell_type": "code",
   "execution_count": 64,
   "id": "9a600ca3",
   "metadata": {},
   "outputs": [
    {
     "data": {
      "text/html": [
       "<div>\n",
       "<style scoped>\n",
       "    .dataframe tbody tr th:only-of-type {\n",
       "        vertical-align: middle;\n",
       "    }\n",
       "\n",
       "    .dataframe tbody tr th {\n",
       "        vertical-align: top;\n",
       "    }\n",
       "\n",
       "    .dataframe thead th {\n",
       "        text-align: right;\n",
       "    }\n",
       "</style>\n",
       "<table border=\"1\" class=\"dataframe\">\n",
       "  <thead>\n",
       "    <tr style=\"text-align: right;\">\n",
       "      <th></th>\n",
       "      <th>product_name</th>\n",
       "      <th>prices</th>\n",
       "    </tr>\n",
       "  </thead>\n",
       "  <tbody>\n",
       "    <tr>\n",
       "      <th>0</th>\n",
       "      <td></td>\n",
       "      <td>23086</td>\n",
       "    </tr>\n",
       "    <tr>\n",
       "      <th>1</th>\n",
       "      <td>Banana</td>\n",
       "      <td>19000</td>\n",
       "    </tr>\n",
       "    <tr>\n",
       "      <th>2</th>\n",
       "      <td>Bag of Organic Bananas</td>\n",
       "      <td>14024</td>\n",
       "    </tr>\n",
       "    <tr>\n",
       "      <th>3</th>\n",
       "      <td>Organic Baby Spinach</td>\n",
       "      <td>9780</td>\n",
       "    </tr>\n",
       "    <tr>\n",
       "      <th>4</th>\n",
       "      <td>Organic Strawberries</td>\n",
       "      <td>8892</td>\n",
       "    </tr>\n",
       "    <tr>\n",
       "      <th>5</th>\n",
       "      <td>Organic Avocado</td>\n",
       "      <td>8678</td>\n",
       "    </tr>\n",
       "    <tr>\n",
       "      <th>6</th>\n",
       "      <td>Large Lemon</td>\n",
       "      <td>7290</td>\n",
       "    </tr>\n",
       "    <tr>\n",
       "      <th>7</th>\n",
       "      <td>Organic Hass Avocado</td>\n",
       "      <td>7064</td>\n",
       "    </tr>\n",
       "    <tr>\n",
       "      <th>8</th>\n",
       "      <td>Strawberries</td>\n",
       "      <td>6510</td>\n",
       "    </tr>\n",
       "    <tr>\n",
       "      <th>9</th>\n",
       "      <td>Limes</td>\n",
       "      <td>5857</td>\n",
       "    </tr>\n",
       "  </tbody>\n",
       "</table>\n",
       "</div>"
      ],
      "text/plain": [
       "             product_name  prices\n",
       "0                           23086\n",
       "1                  Banana   19000\n",
       "2  Bag of Organic Bananas   14024\n",
       "3    Organic Baby Spinach    9780\n",
       "4    Organic Strawberries    8892\n",
       "5         Organic Avocado    8678\n",
       "6             Large Lemon    7290\n",
       "7    Organic Hass Avocado    7064\n",
       "8            Strawberries    6510\n",
       "9                   Limes    5857"
      ]
     },
     "execution_count": 64,
     "metadata": {},
     "output_type": "execute_result"
    }
   ],
   "source": [
    "DF18"
   ]
  },
  {
   "cell_type": "code",
   "execution_count": 65,
   "id": "93087406",
   "metadata": {},
   "outputs": [],
   "source": [
    "DF18=DF18.rename(columns={'prices':'count_orders'})"
   ]
  },
  {
   "cell_type": "code",
   "execution_count": 66,
   "id": "501292d6",
   "metadata": {},
   "outputs": [],
   "source": [
    "DF18=DF18.drop(index=0)"
   ]
  },
  {
   "cell_type": "code",
   "execution_count": 67,
   "id": "992dffcb",
   "metadata": {},
   "outputs": [
    {
     "data": {
      "text/html": [
       "<div>\n",
       "<style scoped>\n",
       "    .dataframe tbody tr th:only-of-type {\n",
       "        vertical-align: middle;\n",
       "    }\n",
       "\n",
       "    .dataframe tbody tr th {\n",
       "        vertical-align: top;\n",
       "    }\n",
       "\n",
       "    .dataframe thead th {\n",
       "        text-align: right;\n",
       "    }\n",
       "</style>\n",
       "<table border=\"1\" class=\"dataframe\">\n",
       "  <thead>\n",
       "    <tr style=\"text-align: right;\">\n",
       "      <th></th>\n",
       "      <th>product_name</th>\n",
       "      <th>count_orders</th>\n",
       "    </tr>\n",
       "  </thead>\n",
       "  <tbody>\n",
       "    <tr>\n",
       "      <th>1</th>\n",
       "      <td>Banana</td>\n",
       "      <td>19000</td>\n",
       "    </tr>\n",
       "    <tr>\n",
       "      <th>2</th>\n",
       "      <td>Bag of Organic Bananas</td>\n",
       "      <td>14024</td>\n",
       "    </tr>\n",
       "    <tr>\n",
       "      <th>3</th>\n",
       "      <td>Organic Baby Spinach</td>\n",
       "      <td>9780</td>\n",
       "    </tr>\n",
       "    <tr>\n",
       "      <th>4</th>\n",
       "      <td>Organic Strawberries</td>\n",
       "      <td>8892</td>\n",
       "    </tr>\n",
       "    <tr>\n",
       "      <th>5</th>\n",
       "      <td>Organic Avocado</td>\n",
       "      <td>8678</td>\n",
       "    </tr>\n",
       "    <tr>\n",
       "      <th>6</th>\n",
       "      <td>Large Lemon</td>\n",
       "      <td>7290</td>\n",
       "    </tr>\n",
       "    <tr>\n",
       "      <th>7</th>\n",
       "      <td>Organic Hass Avocado</td>\n",
       "      <td>7064</td>\n",
       "    </tr>\n",
       "    <tr>\n",
       "      <th>8</th>\n",
       "      <td>Strawberries</td>\n",
       "      <td>6510</td>\n",
       "    </tr>\n",
       "    <tr>\n",
       "      <th>9</th>\n",
       "      <td>Limes</td>\n",
       "      <td>5857</td>\n",
       "    </tr>\n",
       "  </tbody>\n",
       "</table>\n",
       "</div>"
      ],
      "text/plain": [
       "             product_name  count_orders\n",
       "1                  Banana         19000\n",
       "2  Bag of Organic Bananas         14024\n",
       "3    Organic Baby Spinach          9780\n",
       "4    Organic Strawberries          8892\n",
       "5         Organic Avocado          8678\n",
       "6             Large Lemon          7290\n",
       "7    Organic Hass Avocado          7064\n",
       "8            Strawberries          6510\n",
       "9                   Limes          5857"
      ]
     },
     "execution_count": 67,
     "metadata": {},
     "output_type": "execute_result"
    }
   ],
   "source": [
    "DF18"
   ]
  },
  {
   "cell_type": "markdown",
   "id": "e81502a4",
   "metadata": {},
   "source": [
    "#### -creating plot"
   ]
  },
  {
   "cell_type": "code",
   "execution_count": 68,
   "id": "24b293eb",
   "metadata": {},
   "outputs": [
    {
     "data": {
      "image/png": "[encoded data removed]",
      "text/plain": [
       "<Figure size 640x480 with 1 Axes>"
      ]
     },
     "metadata": {},
     "output_type": "display_data"
    }
   ],
   "source": [
    "Bar21=DF18.plot.barh(x='product_name')"
   ]
  },
  {
   "cell_type": "markdown",
   "id": "55217e2b",
   "metadata": {},
   "source": [
    "#### -saving the plot"
   ]
  },
  {
   "cell_type": "code",
   "execution_count": 69,
   "id": "6f746e60",
   "metadata": {},
   "outputs": [],
   "source": [
    "Bar21.figure.savefig(os.path.join(path, 'Prepared Data', 'YNC_Products.png'))"
   ]
  },
  {
   "cell_type": "code",
   "execution_count": null,
   "id": "2fea46c3",
   "metadata": {},
   "outputs": [],
   "source": []
  }
 ],
 "metadata": {
  "kernelspec": {
   "display_name": "Python 3 (ipykernel)",
   "language": "python",
   "name": "python3"
  },
  "language_info": {
   "codemirror_mode": {
    "name": "ipython",
    "version": 3
   },
   "file_extension": ".py",
   "mimetype": "text/x-python",
   "name": "python",
   "nbconvert_exporter": "python",
   "pygments_lexer": "ipython3",
   "version": "3.10.9"
  }
 },
 "nbformat": 4,
 "nbformat_minor": 5
}
