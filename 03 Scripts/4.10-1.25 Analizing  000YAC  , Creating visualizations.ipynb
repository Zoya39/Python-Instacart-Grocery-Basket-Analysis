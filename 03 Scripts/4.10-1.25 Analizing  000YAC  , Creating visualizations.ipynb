{
 "cells": [
  {
   "cell_type": "markdown",
   "id": "dc856afc",
   "metadata": {},
   "source": [
    "### 4.10 Part 1.25 Young Advanced Consumer\n",
    "#### 1 - importing libraries\n",
    "#### 2 - Importing df\n",
    "#### 3 - Analyzing  by Loyalty Flag\n",
    "#### 4 - Analyzing Purshases by Income\n",
    "#### 5 - Analyzing by Busiest_day\n",
    "#### 6 - Analyzing number by State\n",
    "#### 7 - Analyzing by n_dependants\n",
    "#### 8 - Analyzing Days since prior order\n",
    "#### 9 - Defining TOP products for client group\n",
    "#### 10 behavior of customers with 2 dependants"
   ]
  },
  {
   "cell_type": "markdown",
   "id": "b3478eda",
   "metadata": {},
   "source": [
    "### 1 Importing libraries and df w/o PII"
   ]
  },
  {
   "cell_type": "code",
   "execution_count": 1,
   "id": "e865d8b6",
   "metadata": {},
   "outputs": [],
   "source": [
    "import pandas as pd\n",
    "import numpy as np\n",
    "import os\n",
    "import matplotlib.pyplot as plt\n",
    "import seaborn as sns\n",
    "import scipy"
   ]
  },
  {
   "cell_type": "code",
   "execution_count": 2,
   "id": "a0d783f3",
   "metadata": {},
   "outputs": [],
   "source": [
    "path=r'C:\\Users\\user\\07-2023 Instacart Basket Analysis\\02 Data'"
   ]
  },
  {
   "cell_type": "markdown",
   "id": "7d9928b7",
   "metadata": {},
   "source": [
    "### 2 Importing df"
   ]
  },
  {
   "cell_type": "code",
   "execution_count": 3,
   "id": "339d7784",
   "metadata": {},
   "outputs": [],
   "source": [
    "df=pd.read_pickle(os.path.join(path,'Prepared Data','000YAC.pkl'))"
   ]
  },
  {
   "cell_type": "code",
   "execution_count": 4,
   "id": "dd1cde48",
   "metadata": {},
   "outputs": [
    {
     "data": {
      "text/plain": [
       "Index(['user_id', 'Gender', 'STATE', 'Age', 'date_joined', 'n_dependants',\n",
       "       'fam_status', 'income', 'product_id', 'product_name', 'aisle_id',\n",
       "       'department_id', 'prices', 'order_id', 'eval_set', 'order_number',\n",
       "       'day_of_week', 'order_hour_of_day', 'days_since_prior_order',\n",
       "       'add_to_cart_order', 'reordered', 'price_range_loc', 'busiest_day',\n",
       "       'busiest days', 'max_order', 'loyalty_flag', 'mean_price',\n",
       "       'spender_flag', 'median_days_sinse_ord', 'frequent_flag',\n",
       "       'AgeIncome_flag'],\n",
       "      dtype='object')"
      ]
     },
     "execution_count": 4,
     "metadata": {},
     "output_type": "execute_result"
    }
   ],
   "source": [
    "df.columns"
   ]
  },
  {
   "cell_type": "code",
   "execution_count": 5,
   "id": "a95c3088",
   "metadata": {},
   "outputs": [
    {
     "data": {
      "text/plain": [
       "(41694, 31)"
      ]
     },
     "execution_count": 5,
     "metadata": {},
     "output_type": "execute_result"
    }
   ],
   "source": [
    "df.shape"
   ]
  },
  {
   "cell_type": "code",
   "execution_count": 6,
   "id": "eb67ce8c",
   "metadata": {},
   "outputs": [
    {
     "data": {
      "text/html": [
       "<div>\n",
       "<style scoped>\n",
       "    .dataframe tbody tr th:only-of-type {\n",
       "        vertical-align: middle;\n",
       "    }\n",
       "\n",
       "    .dataframe tbody tr th {\n",
       "        vertical-align: top;\n",
       "    }\n",
       "\n",
       "    .dataframe thead th {\n",
       "        text-align: right;\n",
       "    }\n",
       "</style>\n",
       "<table border=\"1\" class=\"dataframe\">\n",
       "  <thead>\n",
       "    <tr style=\"text-align: right;\">\n",
       "      <th></th>\n",
       "      <th>user_id</th>\n",
       "      <th>Age</th>\n",
       "      <th>income</th>\n",
       "      <th>product_id</th>\n",
       "      <th>order_number</th>\n",
       "      <th>mean_price</th>\n",
       "    </tr>\n",
       "  </thead>\n",
       "  <tbody>\n",
       "    <tr>\n",
       "      <th>count</th>\n",
       "      <td>41694.000000</td>\n",
       "      <td>41694.000000</td>\n",
       "      <td>41694.000000</td>\n",
       "      <td>41694.000000</td>\n",
       "      <td>41694.000000</td>\n",
       "      <td>41694.000000</td>\n",
       "    </tr>\n",
       "    <tr>\n",
       "      <th>mean</th>\n",
       "      <td>108275.024848</td>\n",
       "      <td>29.395812</td>\n",
       "      <td>306429.256919</td>\n",
       "      <td>25171.303617</td>\n",
       "      <td>17.791960</td>\n",
       "      <td>294.152158</td>\n",
       "    </tr>\n",
       "    <tr>\n",
       "      <th>std</th>\n",
       "      <td>57566.427034</td>\n",
       "      <td>6.537184</td>\n",
       "      <td>55693.850920</td>\n",
       "      <td>14336.069176</td>\n",
       "      <td>16.244927</td>\n",
       "      <td>542.550534</td>\n",
       "    </tr>\n",
       "    <tr>\n",
       "      <th>min</th>\n",
       "      <td>866.000000</td>\n",
       "      <td>18.000000</td>\n",
       "      <td>202542.000000</td>\n",
       "      <td>0.000000</td>\n",
       "      <td>1.000000</td>\n",
       "      <td>24.579249</td>\n",
       "    </tr>\n",
       "    <tr>\n",
       "      <th>25%</th>\n",
       "      <td>66704.000000</td>\n",
       "      <td>24.000000</td>\n",
       "      <td>257826.000000</td>\n",
       "      <td>13108.000000</td>\n",
       "      <td>6.000000</td>\n",
       "      <td>56.455500</td>\n",
       "    </tr>\n",
       "    <tr>\n",
       "      <th>50%</th>\n",
       "      <td>114001.000000</td>\n",
       "      <td>29.000000</td>\n",
       "      <td>312258.000000</td>\n",
       "      <td>25146.000000</td>\n",
       "      <td>12.000000</td>\n",
       "      <td>122.727073</td>\n",
       "    </tr>\n",
       "    <tr>\n",
       "      <th>75%</th>\n",
       "      <td>149828.000000</td>\n",
       "      <td>34.000000</td>\n",
       "      <td>354808.000000</td>\n",
       "      <td>37654.000000</td>\n",
       "      <td>26.000000</td>\n",
       "      <td>252.411475</td>\n",
       "    </tr>\n",
       "    <tr>\n",
       "      <th>max</th>\n",
       "      <td>204991.000000</td>\n",
       "      <td>40.000000</td>\n",
       "      <td>397929.000000</td>\n",
       "      <td>49683.000000</td>\n",
       "      <td>100.000000</td>\n",
       "      <td>4924.385246</td>\n",
       "    </tr>\n",
       "  </tbody>\n",
       "</table>\n",
       "</div>"
      ],
      "text/plain": [
       "             user_id           Age         income    product_id  order_number  \\\n",
       "count   41694.000000  41694.000000   41694.000000  41694.000000  41694.000000   \n",
       "mean   108275.024848     29.395812  306429.256919  25171.303617     17.791960   \n",
       "std     57566.427034      6.537184   55693.850920  14336.069176     16.244927   \n",
       "min       866.000000     18.000000  202542.000000      0.000000      1.000000   \n",
       "25%     66704.000000     24.000000  257826.000000  13108.000000      6.000000   \n",
       "50%    114001.000000     29.000000  312258.000000  25146.000000     12.000000   \n",
       "75%    149828.000000     34.000000  354808.000000  37654.000000     26.000000   \n",
       "max    204991.000000     40.000000  397929.000000  49683.000000    100.000000   \n",
       "\n",
       "         mean_price  \n",
       "count  41694.000000  \n",
       "mean     294.152158  \n",
       "std      542.550534  \n",
       "min       24.579249  \n",
       "25%       56.455500  \n",
       "50%      122.727073  \n",
       "75%      252.411475  \n",
       "max     4924.385246  "
      ]
     },
     "execution_count": 6,
     "metadata": {},
     "output_type": "execute_result"
    }
   ],
   "source": [
    "df[['user_id','Age', 'income','product_id', 'order_number','mean_price']] .describe()"
   ]
  },
  {
   "cell_type": "markdown",
   "id": "08380bfb",
   "metadata": {},
   "source": [
    "### 3 -Analyzing Young  Advanced Consumer by Loyalty Flag"
   ]
  },
  {
   "cell_type": "markdown",
   "id": "6e53f0cf",
   "metadata": {},
   "source": [
    "#### --creating the subset to avoid Memory Error"
   ]
  },
  {
   "cell_type": "code",
   "execution_count": 7,
   "id": "ca583f66",
   "metadata": {},
   "outputs": [],
   "source": [
    "df1=df[['user_id','fam_status','loyalty_flag']]"
   ]
  },
  {
   "cell_type": "code",
   "execution_count": 8,
   "id": "ae779de1",
   "metadata": {},
   "outputs": [],
   "source": [
    "df11=df1.drop_duplicates().reset_index()"
   ]
  },
  {
   "cell_type": "code",
   "execution_count": 9,
   "id": "886f2f16",
   "metadata": {},
   "outputs": [
    {
     "data": {
      "text/html": [
       "<div>\n",
       "<style scoped>\n",
       "    .dataframe tbody tr th:only-of-type {\n",
       "        vertical-align: middle;\n",
       "    }\n",
       "\n",
       "    .dataframe tbody tr th {\n",
       "        vertical-align: top;\n",
       "    }\n",
       "\n",
       "    .dataframe thead th {\n",
       "        text-align: right;\n",
       "    }\n",
       "</style>\n",
       "<table border=\"1\" class=\"dataframe\">\n",
       "  <thead>\n",
       "    <tr style=\"text-align: right;\">\n",
       "      <th></th>\n",
       "      <th>index</th>\n",
       "      <th>user_id</th>\n",
       "      <th>fam_status</th>\n",
       "      <th>loyalty_flag</th>\n",
       "    </tr>\n",
       "  </thead>\n",
       "  <tbody>\n",
       "    <tr>\n",
       "      <th>0</th>\n",
       "      <td>37454</td>\n",
       "      <td>15683</td>\n",
       "      <td>married</td>\n",
       "      <td>New customer</td>\n",
       "    </tr>\n",
       "    <tr>\n",
       "      <th>1</th>\n",
       "      <td>85262</td>\n",
       "      <td>89592</td>\n",
       "      <td>single</td>\n",
       "      <td>Loyal customer</td>\n",
       "    </tr>\n",
       "    <tr>\n",
       "      <th>2</th>\n",
       "      <td>104865</td>\n",
       "      <td>114462</td>\n",
       "      <td>married</td>\n",
       "      <td>Regular customer</td>\n",
       "    </tr>\n",
       "    <tr>\n",
       "      <th>3</th>\n",
       "      <td>145441</td>\n",
       "      <td>156042</td>\n",
       "      <td>married</td>\n",
       "      <td>Regular customer</td>\n",
       "    </tr>\n",
       "    <tr>\n",
       "      <th>4</th>\n",
       "      <td>203317</td>\n",
       "      <td>160502</td>\n",
       "      <td>married</td>\n",
       "      <td>Loyal customer</td>\n",
       "    </tr>\n",
       "    <tr>\n",
       "      <th>...</th>\n",
       "      <td>...</td>\n",
       "      <td>...</td>\n",
       "      <td>...</td>\n",
       "      <td>...</td>\n",
       "    </tr>\n",
       "    <tr>\n",
       "      <th>152</th>\n",
       "      <td>9004233</td>\n",
       "      <td>102904</td>\n",
       "      <td>married</td>\n",
       "      <td>New customer</td>\n",
       "    </tr>\n",
       "    <tr>\n",
       "      <th>153</th>\n",
       "      <td>9111539</td>\n",
       "      <td>202921</td>\n",
       "      <td>living with parents and siblings</td>\n",
       "      <td>Regular customer</td>\n",
       "    </tr>\n",
       "    <tr>\n",
       "      <th>154</th>\n",
       "      <td>9131113</td>\n",
       "      <td>114182</td>\n",
       "      <td>married</td>\n",
       "      <td>Loyal customer</td>\n",
       "    </tr>\n",
       "    <tr>\n",
       "      <th>155</th>\n",
       "      <td>9172386</td>\n",
       "      <td>183344</td>\n",
       "      <td>married</td>\n",
       "      <td>Regular customer</td>\n",
       "    </tr>\n",
       "    <tr>\n",
       "      <th>156</th>\n",
       "      <td>9194816</td>\n",
       "      <td>67998</td>\n",
       "      <td>living with parents and siblings</td>\n",
       "      <td>Regular customer</td>\n",
       "    </tr>\n",
       "  </tbody>\n",
       "</table>\n",
       "<p>157 rows × 4 columns</p>\n",
       "</div>"
      ],
      "text/plain": [
       "       index  user_id                        fam_status      loyalty_flag\n",
       "0      37454    15683                           married      New customer\n",
       "1      85262    89592                            single    Loyal customer\n",
       "2     104865   114462                           married  Regular customer\n",
       "3     145441   156042                           married  Regular customer\n",
       "4     203317   160502                           married    Loyal customer\n",
       "..       ...      ...                               ...               ...\n",
       "152  9004233   102904                           married      New customer\n",
       "153  9111539   202921  living with parents and siblings  Regular customer\n",
       "154  9131113   114182                           married    Loyal customer\n",
       "155  9172386   183344                           married  Regular customer\n",
       "156  9194816    67998  living with parents and siblings  Regular customer\n",
       "\n",
       "[157 rows x 4 columns]"
      ]
     },
     "execution_count": 9,
     "metadata": {},
     "output_type": "execute_result"
    }
   ],
   "source": [
    "df11"
   ]
  },
  {
   "cell_type": "markdown",
   "id": "8a4e55ee",
   "metadata": {},
   "source": [
    "#### -analyzing Young   Advanced Consumer by Loyalty Flag and Family Status"
   ]
  },
  {
   "cell_type": "code",
   "execution_count": 10,
   "id": "b10af605",
   "metadata": {},
   "outputs": [
    {
     "data": {
      "image/png": "[encoded data removed]",
      "text/plain": [
       "<Figure size 640x480 with 1 Axes>"
      ]
     },
     "metadata": {},
     "output_type": "display_data"
    }
   ],
   "source": [
    "bar12=df11.groupby('fam_status')['loyalty_flag'].value_counts().unstack().plot.barh()"
   ]
  },
  {
   "cell_type": "code",
   "execution_count": 11,
   "id": "cdd18c95",
   "metadata": {},
   "outputs": [],
   "source": [
    "bar12.figure.savefig(os.path.join(path, 'Prepared Data', 'YAC_LoyaltyFlag.png'))"
   ]
  },
  {
   "cell_type": "markdown",
   "id": "6df1434e",
   "metadata": {},
   "source": [
    "### 4 -analyzing Young   Advanced Consumer purshases by their income"
   ]
  },
  {
   "cell_type": "code",
   "execution_count": 12,
   "id": "77ac4735",
   "metadata": {},
   "outputs": [],
   "source": [
    "df2=df[['prices', 'income']]"
   ]
  },
  {
   "cell_type": "code",
   "execution_count": 13,
   "id": "907ac2b9",
   "metadata": {},
   "outputs": [
    {
     "data": {
      "text/plain": [
       "12196199.4"
      ]
     },
     "execution_count": 13,
     "metadata": {},
     "output_type": "execute_result"
    }
   ],
   "source": [
    "df2['prices'].sum()"
   ]
  },
  {
   "cell_type": "code",
   "execution_count": 14,
   "id": "9c144c3a",
   "metadata": {},
   "outputs": [],
   "source": [
    "df22=df2.groupby('income').agg(mean_purshase=('prices','mean'))"
   ]
  },
  {
   "cell_type": "code",
   "execution_count": 15,
   "id": "b81dd39e",
   "metadata": {},
   "outputs": [
    {
     "data": {
      "text/html": [
       "<div>\n",
       "<style scoped>\n",
       "    .dataframe tbody tr th:only-of-type {\n",
       "        vertical-align: middle;\n",
       "    }\n",
       "\n",
       "    .dataframe tbody tr th {\n",
       "        vertical-align: top;\n",
       "    }\n",
       "\n",
       "    .dataframe thead th {\n",
       "        text-align: right;\n",
       "    }\n",
       "</style>\n",
       "<table border=\"1\" class=\"dataframe\">\n",
       "  <thead>\n",
       "    <tr style=\"text-align: right;\">\n",
       "      <th></th>\n",
       "      <th>mean_purshase</th>\n",
       "    </tr>\n",
       "    <tr>\n",
       "      <th>income</th>\n",
       "      <th></th>\n",
       "    </tr>\n",
       "  </thead>\n",
       "  <tbody>\n",
       "    <tr>\n",
       "      <th>202542</th>\n",
       "      <td>293.570513</td>\n",
       "    </tr>\n",
       "    <tr>\n",
       "      <th>202820</th>\n",
       "      <td>155.878073</td>\n",
       "    </tr>\n",
       "    <tr>\n",
       "      <th>203653</th>\n",
       "      <td>362.088095</td>\n",
       "    </tr>\n",
       "    <tr>\n",
       "      <th>206182</th>\n",
       "      <td>36.624806</td>\n",
       "    </tr>\n",
       "    <tr>\n",
       "      <th>207493</th>\n",
       "      <td>134.870789</td>\n",
       "    </tr>\n",
       "    <tr>\n",
       "      <th>...</th>\n",
       "      <td>...</td>\n",
       "    </tr>\n",
       "    <tr>\n",
       "      <th>391967</th>\n",
       "      <td>255.054614</td>\n",
       "    </tr>\n",
       "    <tr>\n",
       "      <th>392552</th>\n",
       "      <td>61.662545</td>\n",
       "    </tr>\n",
       "    <tr>\n",
       "      <th>395360</th>\n",
       "      <td>129.548455</td>\n",
       "    </tr>\n",
       "    <tr>\n",
       "      <th>396364</th>\n",
       "      <td>114.668345</td>\n",
       "    </tr>\n",
       "    <tr>\n",
       "      <th>397929</th>\n",
       "      <td>319.348780</td>\n",
       "    </tr>\n",
       "  </tbody>\n",
       "</table>\n",
       "<p>157 rows × 1 columns</p>\n",
       "</div>"
      ],
      "text/plain": [
       "        mean_purshase\n",
       "income               \n",
       "202542     293.570513\n",
       "202820     155.878073\n",
       "203653     362.088095\n",
       "206182      36.624806\n",
       "207493     134.870789\n",
       "...               ...\n",
       "391967     255.054614\n",
       "392552      61.662545\n",
       "395360     129.548455\n",
       "396364     114.668345\n",
       "397929     319.348780\n",
       "\n",
       "[157 rows x 1 columns]"
      ]
     },
     "execution_count": 15,
     "metadata": {},
     "output_type": "execute_result"
    }
   ],
   "source": [
    "df22"
   ]
  },
  {
   "cell_type": "code",
   "execution_count": 16,
   "id": "75ff1fd3",
   "metadata": {},
   "outputs": [
    {
     "data": {
      "image/png": "[encoded data removed]",
      "text/plain": [
       "<Figure size 640x480 with 1 Axes>"
      ]
     },
     "metadata": {},
     "output_type": "display_data"
    }
   ],
   "source": [
    "scat3=sns.scatterplot(x='mean_purshase', y='income', data=df22)"
   ]
  },
  {
   "cell_type": "markdown",
   "id": "cba42179",
   "metadata": {},
   "source": [
    "#### filter extrem big values"
   ]
  },
  {
   "cell_type": "code",
   "execution_count": 17,
   "id": "acf7672e",
   "metadata": {},
   "outputs": [],
   "source": [
    "df22filtered=df22[df22['mean_purshase']<1500]"
   ]
  },
  {
   "cell_type": "code",
   "execution_count": 18,
   "id": "c96ec908",
   "metadata": {},
   "outputs": [
    {
     "data": {
      "image/png": "[encoded data removed]",
      "text/plain": [
       "<Figure size 640x480 with 1 Axes>"
      ]
     },
     "metadata": {},
     "output_type": "display_data"
    }
   ],
   "source": [
    "scat3=sns.scatterplot(x='mean_purshase', y='income', data=df22filtered)"
   ]
  },
  {
   "cell_type": "code",
   "execution_count": 19,
   "id": "6873ccae",
   "metadata": {},
   "outputs": [],
   "source": [
    "scat3.figure.savefig(os.path.join(path, 'Prepared Data', 'YAC_PricesIncome.png'))"
   ]
  },
  {
   "cell_type": "markdown",
   "id": "022c92a7",
   "metadata": {},
   "source": [
    "### 5 - Analyzing Young   Advanced Consumer by Busiest_day"
   ]
  },
  {
   "cell_type": "code",
   "execution_count": 20,
   "id": "58fcebb9",
   "metadata": {},
   "outputs": [],
   "source": [
    "df4=df[['user_id','STATE', 'busiest_day', 'day_of_week']]"
   ]
  },
  {
   "cell_type": "code",
   "execution_count": 21,
   "id": "7a0d6e09",
   "metadata": {},
   "outputs": [
    {
     "data": {
      "text/html": [
       "<div>\n",
       "<style scoped>\n",
       "    .dataframe tbody tr th:only-of-type {\n",
       "        vertical-align: middle;\n",
       "    }\n",
       "\n",
       "    .dataframe tbody tr th {\n",
       "        vertical-align: top;\n",
       "    }\n",
       "\n",
       "    .dataframe thead th {\n",
       "        text-align: right;\n",
       "    }\n",
       "</style>\n",
       "<table border=\"1\" class=\"dataframe\">\n",
       "  <thead>\n",
       "    <tr style=\"text-align: right;\">\n",
       "      <th></th>\n",
       "      <th>user_id</th>\n",
       "      <th>STATE</th>\n",
       "      <th>busiest_day</th>\n",
       "      <th>day_of_week</th>\n",
       "    </tr>\n",
       "  </thead>\n",
       "  <tbody>\n",
       "    <tr>\n",
       "      <th>37454</th>\n",
       "      <td>15683</td>\n",
       "      <td>New Mexico</td>\n",
       "      <td>Busiest days</td>\n",
       "      <td>0</td>\n",
       "    </tr>\n",
       "    <tr>\n",
       "      <th>37455</th>\n",
       "      <td>15683</td>\n",
       "      <td>New Mexico</td>\n",
       "      <td>Busiest days</td>\n",
       "      <td>0</td>\n",
       "    </tr>\n",
       "    <tr>\n",
       "      <th>37456</th>\n",
       "      <td>15683</td>\n",
       "      <td>New Mexico</td>\n",
       "      <td>Regularly days</td>\n",
       "      <td>2</td>\n",
       "    </tr>\n",
       "    <tr>\n",
       "      <th>37457</th>\n",
       "      <td>15683</td>\n",
       "      <td>New Mexico</td>\n",
       "      <td>Regularly days</td>\n",
       "      <td>5</td>\n",
       "    </tr>\n",
       "    <tr>\n",
       "      <th>37458</th>\n",
       "      <td>15683</td>\n",
       "      <td>New Mexico</td>\n",
       "      <td>Busiest days</td>\n",
       "      <td>0</td>\n",
       "    </tr>\n",
       "    <tr>\n",
       "      <th>...</th>\n",
       "      <td>...</td>\n",
       "      <td>...</td>\n",
       "      <td>...</td>\n",
       "      <td>...</td>\n",
       "    </tr>\n",
       "    <tr>\n",
       "      <th>10874333</th>\n",
       "      <td>137065</td>\n",
       "      <td>North Carolina</td>\n",
       "      <td>Regularly days</td>\n",
       "      <td>6</td>\n",
       "    </tr>\n",
       "    <tr>\n",
       "      <th>10874334</th>\n",
       "      <td>137065</td>\n",
       "      <td>North Carolina</td>\n",
       "      <td>Regularly days</td>\n",
       "      <td>5</td>\n",
       "    </tr>\n",
       "    <tr>\n",
       "      <th>10874335</th>\n",
       "      <td>137065</td>\n",
       "      <td>North Carolina</td>\n",
       "      <td>Regularly days</td>\n",
       "      <td>5</td>\n",
       "    </tr>\n",
       "    <tr>\n",
       "      <th>10874336</th>\n",
       "      <td>137065</td>\n",
       "      <td>North Carolina</td>\n",
       "      <td>Slowest days</td>\n",
       "      <td>3</td>\n",
       "    </tr>\n",
       "    <tr>\n",
       "      <th>10874337</th>\n",
       "      <td>137065</td>\n",
       "      <td>North Carolina</td>\n",
       "      <td>Regularly days</td>\n",
       "      <td>5</td>\n",
       "    </tr>\n",
       "  </tbody>\n",
       "</table>\n",
       "<p>41694 rows × 4 columns</p>\n",
       "</div>"
      ],
      "text/plain": [
       "          user_id           STATE     busiest_day  day_of_week\n",
       "37454       15683      New Mexico    Busiest days            0\n",
       "37455       15683      New Mexico    Busiest days            0\n",
       "37456       15683      New Mexico  Regularly days            2\n",
       "37457       15683      New Mexico  Regularly days            5\n",
       "37458       15683      New Mexico    Busiest days            0\n",
       "...           ...             ...             ...          ...\n",
       "10874333   137065  North Carolina  Regularly days            6\n",
       "10874334   137065  North Carolina  Regularly days            5\n",
       "10874335   137065  North Carolina  Regularly days            5\n",
       "10874336   137065  North Carolina    Slowest days            3\n",
       "10874337   137065  North Carolina  Regularly days            5\n",
       "\n",
       "[41694 rows x 4 columns]"
      ]
     },
     "execution_count": 21,
     "metadata": {},
     "output_type": "execute_result"
    }
   ],
   "source": [
    "df4"
   ]
  },
  {
   "cell_type": "code",
   "execution_count": 22,
   "id": "6a0d8788",
   "metadata": {},
   "outputs": [
    {
     "data": {
      "image/png": "[encoded data removed]",
      "text/plain": [
       "<Figure size 640x480 with 1 Axes>"
      ]
     },
     "metadata": {},
     "output_type": "display_data"
    }
   ],
   "source": [
    "bar14=df4.groupby('busiest_day').agg({'day_of_week':['mean']}).plot.barh()"
   ]
  },
  {
   "cell_type": "code",
   "execution_count": 23,
   "id": "1869f79f",
   "metadata": {},
   "outputs": [],
   "source": [
    "bar14.figure.savefig(os.path.join(path, 'Prepared Data', 'YAC_BusiestDayOfWeek.png'))"
   ]
  },
  {
   "cell_type": "code",
   "execution_count": 24,
   "id": "aafc39da",
   "metadata": {},
   "outputs": [
    {
     "data": {
      "image/png": "[encoded data removed]",
      "text/plain": [
       "<Figure size 640x480 with 1 Axes>"
      ]
     },
     "metadata": {},
     "output_type": "display_data"
    }
   ],
   "source": [
    "pie24=df4.groupby('day_of_week')['busiest_day'].count().plot(kind='pie', autopct='%0.01f%%')"
   ]
  },
  {
   "cell_type": "code",
   "execution_count": 25,
   "id": "acd1ee94",
   "metadata": {},
   "outputs": [
    {
     "data": {
      "text/plain": [
       "day_of_week\n",
       "0    7496\n",
       "1    6904\n",
       "2    4958\n",
       "3    4934\n",
       "4    5230\n",
       "5    5850\n",
       "6    6322\n",
       "Name: busiest_day, dtype: int64"
      ]
     },
     "execution_count": 25,
     "metadata": {},
     "output_type": "execute_result"
    }
   ],
   "source": [
    "df4.groupby('day_of_week')['busiest_day'].count()"
   ]
  },
  {
   "cell_type": "code",
   "execution_count": 26,
   "id": "feccd4d7",
   "metadata": {},
   "outputs": [],
   "source": [
    "pie24.figure.savefig(os.path.join(path, 'Prepared Data', 'YAC_pieBusiestDayOfWeek.png'))"
   ]
  },
  {
   "cell_type": "markdown",
   "id": "85c7f6be",
   "metadata": {},
   "source": [
    "#### -prefered hour of day"
   ]
  },
  {
   "cell_type": "code",
   "execution_count": 27,
   "id": "413d0de3",
   "metadata": {},
   "outputs": [],
   "source": [
    "df44=df[['order_hour_of_day','user_id']]"
   ]
  },
  {
   "cell_type": "code",
   "execution_count": 28,
   "id": "17672994",
   "metadata": {},
   "outputs": [
    {
     "data": {
      "text/plain": [
       "order_hour_of_day\n",
       "0      265\n",
       "1       28\n",
       "2      157\n",
       "3       48\n",
       "4       68\n",
       "5      193\n",
       "6      237\n",
       "7     1407\n",
       "8     2695\n",
       "9     3654\n",
       "10    4365\n",
       "11    4045\n",
       "12    3395\n",
       "13    2970\n",
       "14    3233\n",
       "15    3414\n",
       "16    3564\n",
       "17    2303\n",
       "18    1688\n",
       "19    1355\n",
       "20    1253\n",
       "21     621\n",
       "22     521\n",
       "23     215\n",
       "Name: user_id, dtype: int64"
      ]
     },
     "execution_count": 28,
     "metadata": {},
     "output_type": "execute_result"
    }
   ],
   "source": [
    "df44.groupby('order_hour_of_day')['user_id'].count()"
   ]
  },
  {
   "cell_type": "code",
   "execution_count": 29,
   "id": "6dd562a0",
   "metadata": {},
   "outputs": [
    {
     "data": {
      "image/png": "[encoded data removed]",
      "text/plain": [
       "<Figure size 640x480 with 1 Axes>"
      ]
     },
     "metadata": {},
     "output_type": "display_data"
    }
   ],
   "source": [
    "bar44=df44.groupby('order_hour_of_day')['user_id'].count().plot.bar()"
   ]
  },
  {
   "cell_type": "code",
   "execution_count": 30,
   "id": "4e18f690",
   "metadata": {},
   "outputs": [],
   "source": [
    "bar44.figure.savefig(os.path.join(path, 'Prepared Data', 'YAC_BusiestHourOfDay.png'))"
   ]
  },
  {
   "cell_type": "code",
   "execution_count": null,
   "id": "45600cff",
   "metadata": {},
   "outputs": [],
   "source": []
  },
  {
   "cell_type": "markdown",
   "id": "07093898",
   "metadata": {},
   "source": [
    "### 6 - Analyzing number of Young  Advanced Consumers by State"
   ]
  },
  {
   "cell_type": "code",
   "execution_count": 4,
   "id": "7d0dda6d",
   "metadata": {},
   "outputs": [],
   "source": [
    "df5=df[['user_id','STATE']]"
   ]
  },
  {
   "cell_type": "code",
   "execution_count": 5,
   "id": "35bc7814",
   "metadata": {},
   "outputs": [],
   "source": [
    "DF5=df5.drop_duplicates().reset_index()"
   ]
  },
  {
   "cell_type": "code",
   "execution_count": 33,
   "id": "17841906",
   "metadata": {},
   "outputs": [
    {
     "data": {
      "text/html": [
       "<div>\n",
       "<style scoped>\n",
       "    .dataframe tbody tr th:only-of-type {\n",
       "        vertical-align: middle;\n",
       "    }\n",
       "\n",
       "    .dataframe tbody tr th {\n",
       "        vertical-align: top;\n",
       "    }\n",
       "\n",
       "    .dataframe thead th {\n",
       "        text-align: right;\n",
       "    }\n",
       "</style>\n",
       "<table border=\"1\" class=\"dataframe\">\n",
       "  <thead>\n",
       "    <tr style=\"text-align: right;\">\n",
       "      <th></th>\n",
       "      <th>index</th>\n",
       "      <th>user_id</th>\n",
       "      <th>STATE</th>\n",
       "    </tr>\n",
       "  </thead>\n",
       "  <tbody>\n",
       "    <tr>\n",
       "      <th>0</th>\n",
       "      <td>37454</td>\n",
       "      <td>15683</td>\n",
       "      <td>New Mexico</td>\n",
       "    </tr>\n",
       "    <tr>\n",
       "      <th>1</th>\n",
       "      <td>85262</td>\n",
       "      <td>89592</td>\n",
       "      <td>Minnesota</td>\n",
       "    </tr>\n",
       "    <tr>\n",
       "      <th>2</th>\n",
       "      <td>104865</td>\n",
       "      <td>114462</td>\n",
       "      <td>Kentucky</td>\n",
       "    </tr>\n",
       "    <tr>\n",
       "      <th>3</th>\n",
       "      <td>145441</td>\n",
       "      <td>156042</td>\n",
       "      <td>Maryland</td>\n",
       "    </tr>\n",
       "    <tr>\n",
       "      <th>4</th>\n",
       "      <td>203317</td>\n",
       "      <td>160502</td>\n",
       "      <td>California</td>\n",
       "    </tr>\n",
       "    <tr>\n",
       "      <th>...</th>\n",
       "      <td>...</td>\n",
       "      <td>...</td>\n",
       "      <td>...</td>\n",
       "    </tr>\n",
       "    <tr>\n",
       "      <th>152</th>\n",
       "      <td>9004233</td>\n",
       "      <td>102904</td>\n",
       "      <td>Mississippi</td>\n",
       "    </tr>\n",
       "    <tr>\n",
       "      <th>153</th>\n",
       "      <td>9111539</td>\n",
       "      <td>202921</td>\n",
       "      <td>Tennessee</td>\n",
       "    </tr>\n",
       "    <tr>\n",
       "      <th>154</th>\n",
       "      <td>9131113</td>\n",
       "      <td>114182</td>\n",
       "      <td>Texas</td>\n",
       "    </tr>\n",
       "    <tr>\n",
       "      <th>155</th>\n",
       "      <td>9172386</td>\n",
       "      <td>183344</td>\n",
       "      <td>Wisconsin</td>\n",
       "    </tr>\n",
       "    <tr>\n",
       "      <th>156</th>\n",
       "      <td>9194816</td>\n",
       "      <td>67998</td>\n",
       "      <td>Indiana</td>\n",
       "    </tr>\n",
       "  </tbody>\n",
       "</table>\n",
       "<p>157 rows × 3 columns</p>\n",
       "</div>"
      ],
      "text/plain": [
       "       index  user_id        STATE\n",
       "0      37454    15683   New Mexico\n",
       "1      85262    89592    Minnesota\n",
       "2     104865   114462     Kentucky\n",
       "3     145441   156042     Maryland\n",
       "4     203317   160502   California\n",
       "..       ...      ...          ...\n",
       "152  9004233   102904  Mississippi\n",
       "153  9111539   202921    Tennessee\n",
       "154  9131113   114182        Texas\n",
       "155  9172386   183344    Wisconsin\n",
       "156  9194816    67998      Indiana\n",
       "\n",
       "[157 rows x 3 columns]"
      ]
     },
     "execution_count": 33,
     "metadata": {},
     "output_type": "execute_result"
    }
   ],
   "source": [
    "DF5"
   ]
  },
  {
   "cell_type": "markdown",
   "id": "4c0a7d5a",
   "metadata": {},
   "source": [
    "#### number of rows indicate total number of YAC =157"
   ]
  },
  {
   "cell_type": "code",
   "execution_count": 34,
   "id": "3095fc97",
   "metadata": {},
   "outputs": [
    {
     "data": {
      "image/png": "[encoded data removed]",
      "text/plain": [
       "<Figure size 640x480 with 1 Axes>"
      ]
     },
     "metadata": {},
     "output_type": "display_data"
    }
   ],
   "source": [
    "bar15=DF5.groupby('STATE')['user_id'].count().plot.bar()"
   ]
  },
  {
   "cell_type": "code",
   "execution_count": 6,
   "id": "d3b9471f",
   "metadata": {},
   "outputs": [
    {
     "data": {
      "text/plain": [
       "STATE\n",
       "Alabama                 4\n",
       "Alaska                  1\n",
       "Arizona                 6\n",
       "Arkansas                1\n",
       "California              3\n",
       "Colorado                4\n",
       "Connecticut             1\n",
       "Delaware                1\n",
       "District of Columbia    1\n",
       "Georgia                 3\n",
       "Hawaii                  4\n",
       "Idaho                   2\n",
       "Illinois                2\n",
       "Indiana                 3\n",
       "Iowa                    3\n",
       "Kansas                  4\n",
       "Kentucky                5\n",
       "Louisiana               3\n",
       "Maine                   3\n",
       "Maryland                5\n",
       "Massachusetts           2\n",
       "Michigan                2\n",
       "Minnesota               4\n",
       "Mississippi             5\n",
       "Missouri                2\n",
       "Montana                 2\n",
       "Nebraska                5\n",
       "Nevada                  3\n",
       "New Hampshire           3\n",
       "New Jersey              3\n",
       "New Mexico              4\n",
       "New York                4\n",
       "North Carolina          4\n",
       "North Dakota            1\n",
       "Ohio                    3\n",
       "Oklahoma                1\n",
       "Oregon                  3\n",
       "Pennsylvania            1\n",
       "Rhode Island            6\n",
       "South Carolina          4\n",
       "South Dakota            4\n",
       "Tennessee               4\n",
       "Texas                   6\n",
       "Utah                    2\n",
       "Vermont                 2\n",
       "Virginia                5\n",
       "Washington              2\n",
       "West Virginia           3\n",
       "Wisconsin               5\n",
       "Wyoming                 3\n",
       "Name: user_id, dtype: int64"
      ]
     },
     "execution_count": 6,
     "metadata": {},
     "output_type": "execute_result"
    }
   ],
   "source": [
    "DF5.groupby('STATE')['user_id'].count()"
   ]
  },
  {
   "cell_type": "markdown",
   "id": "18d39621",
   "metadata": {},
   "source": [
    "#### -defining 10 Top States"
   ]
  },
  {
   "cell_type": "code",
   "execution_count": 35,
   "id": "aac475de",
   "metadata": {},
   "outputs": [
    {
     "data": {
      "text/plain": [
       "STATE\n",
       "Arizona         6\n",
       "Texas           6\n",
       "Rhode Island    6\n",
       "Nebraska        5\n",
       "Wisconsin       5\n",
       "Maryland        5\n",
       "Virginia        5\n",
       "Kentucky        5\n",
       "Mississippi     5\n",
       "Alabama         4\n",
       "Name: user_id, dtype: int64"
      ]
     },
     "execution_count": 35,
     "metadata": {},
     "output_type": "execute_result"
    }
   ],
   "source": [
    "DF5.groupby('STATE')['user_id'].count().sort_values(ascending=False).head(10)"
   ]
  },
  {
   "cell_type": "code",
   "execution_count": null,
   "id": "d53615bf",
   "metadata": {},
   "outputs": [],
   "source": []
  },
  {
   "cell_type": "markdown",
   "id": "c1b72f2d",
   "metadata": {},
   "source": [
    "#### -saving the plot"
   ]
  },
  {
   "cell_type": "code",
   "execution_count": 36,
   "id": "5d005869",
   "metadata": {},
   "outputs": [],
   "source": [
    "bar15.figure.savefig(os.path.join(path, 'Prepared Data', 'YAC_UsersNumberState.png'))"
   ]
  },
  {
   "cell_type": "markdown",
   "id": "a2d601e3",
   "metadata": {},
   "source": [
    "### 7 - Analyzing Young   Advanced Consumer  by n_dependants"
   ]
  },
  {
   "cell_type": "code",
   "execution_count": 37,
   "id": "2864b045",
   "metadata": {},
   "outputs": [],
   "source": [
    "df6=df[['user_id', 'n_dependants']]"
   ]
  },
  {
   "cell_type": "code",
   "execution_count": 38,
   "id": "e5568505",
   "metadata": {},
   "outputs": [],
   "source": [
    "DF6=df6.drop_duplicates()"
   ]
  },
  {
   "cell_type": "code",
   "execution_count": 39,
   "id": "59971c8d",
   "metadata": {},
   "outputs": [
    {
     "data": {
      "text/plain": [
       "n_dependants\n",
       "0    39\n",
       "1    42\n",
       "2    46\n",
       "3    30\n",
       "Name: user_id, dtype: int64"
      ]
     },
     "execution_count": 39,
     "metadata": {},
     "output_type": "execute_result"
    }
   ],
   "source": [
    "DF6.groupby(['n_dependants'])['user_id'].count()"
   ]
  },
  {
   "cell_type": "code",
   "execution_count": 40,
   "id": "e705b023",
   "metadata": {},
   "outputs": [
    {
     "data": {
      "image/png": "[encoded data removed]",
      "text/plain": [
       "<Figure size 640x480 with 1 Axes>"
      ]
     },
     "metadata": {},
     "output_type": "display_data"
    }
   ],
   "source": [
    "pie16=DF6.groupby(['n_dependants'])['user_id'].count().plot(kind='pie', autopct='%0.01f%%')"
   ]
  },
  {
   "cell_type": "code",
   "execution_count": 41,
   "id": "4144864c",
   "metadata": {},
   "outputs": [
    {
     "data": {
      "text/html": [
       "<div>\n",
       "<style scoped>\n",
       "    .dataframe tbody tr th:only-of-type {\n",
       "        vertical-align: middle;\n",
       "    }\n",
       "\n",
       "    .dataframe tbody tr th {\n",
       "        vertical-align: top;\n",
       "    }\n",
       "\n",
       "    .dataframe thead th {\n",
       "        text-align: right;\n",
       "    }\n",
       "</style>\n",
       "<table border=\"1\" class=\"dataframe\">\n",
       "  <thead>\n",
       "    <tr style=\"text-align: right;\">\n",
       "      <th></th>\n",
       "      <th>user_id</th>\n",
       "      <th>n_dependants</th>\n",
       "    </tr>\n",
       "  </thead>\n",
       "  <tbody>\n",
       "    <tr>\n",
       "      <th>37454</th>\n",
       "      <td>15683</td>\n",
       "      <td>1</td>\n",
       "    </tr>\n",
       "    <tr>\n",
       "      <th>85262</th>\n",
       "      <td>89592</td>\n",
       "      <td>0</td>\n",
       "    </tr>\n",
       "    <tr>\n",
       "      <th>104865</th>\n",
       "      <td>114462</td>\n",
       "      <td>2</td>\n",
       "    </tr>\n",
       "    <tr>\n",
       "      <th>145441</th>\n",
       "      <td>156042</td>\n",
       "      <td>3</td>\n",
       "    </tr>\n",
       "    <tr>\n",
       "      <th>203317</th>\n",
       "      <td>160502</td>\n",
       "      <td>1</td>\n",
       "    </tr>\n",
       "    <tr>\n",
       "      <th>...</th>\n",
       "      <td>...</td>\n",
       "      <td>...</td>\n",
       "    </tr>\n",
       "    <tr>\n",
       "      <th>9004233</th>\n",
       "      <td>102904</td>\n",
       "      <td>1</td>\n",
       "    </tr>\n",
       "    <tr>\n",
       "      <th>9111539</th>\n",
       "      <td>202921</td>\n",
       "      <td>1</td>\n",
       "    </tr>\n",
       "    <tr>\n",
       "      <th>9131113</th>\n",
       "      <td>114182</td>\n",
       "      <td>3</td>\n",
       "    </tr>\n",
       "    <tr>\n",
       "      <th>9172386</th>\n",
       "      <td>183344</td>\n",
       "      <td>3</td>\n",
       "    </tr>\n",
       "    <tr>\n",
       "      <th>9194816</th>\n",
       "      <td>67998</td>\n",
       "      <td>1</td>\n",
       "    </tr>\n",
       "  </tbody>\n",
       "</table>\n",
       "<p>157 rows × 2 columns</p>\n",
       "</div>"
      ],
      "text/plain": [
       "         user_id  n_dependants\n",
       "37454      15683             1\n",
       "85262      89592             0\n",
       "104865    114462             2\n",
       "145441    156042             3\n",
       "203317    160502             1\n",
       "...          ...           ...\n",
       "9004233   102904             1\n",
       "9111539   202921             1\n",
       "9131113   114182             3\n",
       "9172386   183344             3\n",
       "9194816    67998             1\n",
       "\n",
       "[157 rows x 2 columns]"
      ]
     },
     "execution_count": 41,
     "metadata": {},
     "output_type": "execute_result"
    }
   ],
   "source": [
    "DF6"
   ]
  },
  {
   "cell_type": "markdown",
   "id": "4402e712",
   "metadata": {},
   "source": [
    "#### saving the plot"
   ]
  },
  {
   "cell_type": "code",
   "execution_count": 42,
   "id": "930f9006",
   "metadata": {},
   "outputs": [],
   "source": [
    "pie16.figure.savefig(os.path.join(path, 'Prepared Data', 'YAC_NDependansUsers.png'))"
   ]
  },
  {
   "cell_type": "markdown",
   "id": "69240cad",
   "metadata": {},
   "source": [
    "### 8 - Analyzing Days since prior order"
   ]
  },
  {
   "cell_type": "code",
   "execution_count": 43,
   "id": "38b4175f",
   "metadata": {},
   "outputs": [
    {
     "data": {
      "image/png": "[encoded data removed]",
      "text/plain": [
       "<Figure size 640x480 with 1 Axes>"
      ]
     },
     "metadata": {},
     "output_type": "display_data"
    }
   ],
   "source": [
    "line17=df.groupby('days_since_prior_order')['days_since_prior_order'].count().plot(kind='line')"
   ]
  },
  {
   "cell_type": "code",
   "execution_count": 44,
   "id": "4bc710c4",
   "metadata": {},
   "outputs": [
    {
     "data": {
      "text/plain": [
       "days_since_prior_order\n",
       "0     2585\n",
       "1     1227\n",
       "2     1684\n",
       "3     2158\n",
       "4     2234\n",
       "5     2824\n",
       "6     3291\n",
       "7     4992\n",
       "8     2602\n",
       "9     1886\n",
       "10    1586\n",
       "11     995\n",
       "12    1026\n",
       "13    1418\n",
       "14    1478\n",
       "15     960\n",
       "16     540\n",
       "17     284\n",
       "18     380\n",
       "19     452\n",
       "20     458\n",
       "21     578\n",
       "22     370\n",
       "23     271\n",
       "24     250\n",
       "25     280\n",
       "26     301\n",
       "27     262\n",
       "28     419\n",
       "29     215\n",
       "30    3688\n",
       "Name: days_since_prior_order, dtype: int64"
      ]
     },
     "execution_count": 44,
     "metadata": {},
     "output_type": "execute_result"
    }
   ],
   "source": [
    "df.groupby('days_since_prior_order')['days_since_prior_order'].count()"
   ]
  },
  {
   "cell_type": "code",
   "execution_count": 45,
   "id": "dc157699",
   "metadata": {},
   "outputs": [],
   "source": [
    "line17.figure.savefig(os.path.join(path, 'Prepared Data', 'YAC_DaysSincePriorOrder.png'))"
   ]
  },
  {
   "cell_type": "markdown",
   "id": "3d0c4597",
   "metadata": {},
   "source": [
    "### 9- Defining TOP products for client group\n"
   ]
  },
  {
   "cell_type": "markdown",
   "id": "f0621a1a",
   "metadata": {},
   "source": [
    " #### creating subset"
   ]
  },
  {
   "cell_type": "code",
   "execution_count": 46,
   "id": "b5303195",
   "metadata": {},
   "outputs": [],
   "source": [
    "df18=df[['product_name','product_id','prices']]"
   ]
  },
  {
   "cell_type": "code",
   "execution_count": 47,
   "id": "bc00aa6b",
   "metadata": {},
   "outputs": [
    {
     "data": {
      "text/html": [
       "<div>\n",
       "<style scoped>\n",
       "    .dataframe tbody tr th:only-of-type {\n",
       "        vertical-align: middle;\n",
       "    }\n",
       "\n",
       "    .dataframe tbody tr th {\n",
       "        vertical-align: top;\n",
       "    }\n",
       "\n",
       "    .dataframe thead th {\n",
       "        text-align: right;\n",
       "    }\n",
       "</style>\n",
       "<table border=\"1\" class=\"dataframe\">\n",
       "  <thead>\n",
       "    <tr style=\"text-align: right;\">\n",
       "      <th></th>\n",
       "      <th>product_name</th>\n",
       "      <th>product_id</th>\n",
       "      <th>prices</th>\n",
       "    </tr>\n",
       "  </thead>\n",
       "  <tbody>\n",
       "    <tr>\n",
       "      <th>37454</th>\n",
       "      <td>Beef Broth</td>\n",
       "      <td>3689</td>\n",
       "      <td>12.9</td>\n",
       "    </tr>\n",
       "    <tr>\n",
       "      <th>37455</th>\n",
       "      <td>Yellow Onions</td>\n",
       "      <td>4605</td>\n",
       "      <td>1.2</td>\n",
       "    </tr>\n",
       "    <tr>\n",
       "      <th>37456</th>\n",
       "      <td>Rice Vinegar</td>\n",
       "      <td>8069</td>\n",
       "      <td>5.8</td>\n",
       "    </tr>\n",
       "    <tr>\n",
       "      <th>37457</th>\n",
       "      <td>Original Nooks &amp; Crannies English Muffins</td>\n",
       "      <td>10673</td>\n",
       "      <td>6.7</td>\n",
       "    </tr>\n",
       "    <tr>\n",
       "      <th>37458</th>\n",
       "      <td>Hydroponic Bibb Lettuce</td>\n",
       "      <td>14671</td>\n",
       "      <td>9.2</td>\n",
       "    </tr>\n",
       "    <tr>\n",
       "      <th>...</th>\n",
       "      <td>...</td>\n",
       "      <td>...</td>\n",
       "      <td>...</td>\n",
       "    </tr>\n",
       "    <tr>\n",
       "      <th>10874333</th>\n",
       "      <td>2% Reduced Fat Milk</td>\n",
       "      <td>23909</td>\n",
       "      <td>9.2</td>\n",
       "    </tr>\n",
       "    <tr>\n",
       "      <th>10874334</th>\n",
       "      <td>Philadelphia Original Cream Cheese</td>\n",
       "      <td>36086</td>\n",
       "      <td>7.0</td>\n",
       "    </tr>\n",
       "    <tr>\n",
       "      <th>10874335</th>\n",
       "      <td>Natural Medium Cheddar Cheese</td>\n",
       "      <td>15269</td>\n",
       "      <td>11.4</td>\n",
       "    </tr>\n",
       "    <tr>\n",
       "      <th>10874336</th>\n",
       "      <td>Organic Yellow Onion</td>\n",
       "      <td>22935</td>\n",
       "      <td>1.4</td>\n",
       "    </tr>\n",
       "    <tr>\n",
       "      <th>10874337</th>\n",
       "      <td>Original Wheat Thins</td>\n",
       "      <td>39041</td>\n",
       "      <td>6.7</td>\n",
       "    </tr>\n",
       "  </tbody>\n",
       "</table>\n",
       "<p>41694 rows × 3 columns</p>\n",
       "</div>"
      ],
      "text/plain": [
       "                                       product_name  product_id  prices\n",
       "37454                                    Beef Broth        3689    12.9\n",
       "37455                                 Yellow Onions        4605     1.2\n",
       "37456                                  Rice Vinegar        8069     5.8\n",
       "37457     Original Nooks & Crannies English Muffins       10673     6.7\n",
       "37458                       Hydroponic Bibb Lettuce       14671     9.2\n",
       "...                                             ...         ...     ...\n",
       "10874333                        2% Reduced Fat Milk       23909     9.2\n",
       "10874334         Philadelphia Original Cream Cheese       36086     7.0\n",
       "10874335              Natural Medium Cheddar Cheese       15269    11.4\n",
       "10874336                       Organic Yellow Onion       22935     1.4\n",
       "10874337                       Original Wheat Thins       39041     6.7\n",
       "\n",
       "[41694 rows x 3 columns]"
      ]
     },
     "execution_count": 47,
     "metadata": {},
     "output_type": "execute_result"
    }
   ],
   "source": [
    "df18"
   ]
  },
  {
   "cell_type": "markdown",
   "id": "dbc97ae0",
   "metadata": {},
   "source": [
    "#### identifying the most populare products counting orders rows  and selecting 10 TOP "
   ]
  },
  {
   "cell_type": "code",
   "execution_count": 48,
   "id": "8d2dd45a",
   "metadata": {},
   "outputs": [],
   "source": [
    "DF18=df18.groupby('product_name')['prices'].count().sort_values( ascending=False).reset_index().head(11)"
   ]
  },
  {
   "cell_type": "code",
   "execution_count": 49,
   "id": "9a600ca3",
   "metadata": {},
   "outputs": [
    {
     "data": {
      "text/html": [
       "<div>\n",
       "<style scoped>\n",
       "    .dataframe tbody tr th:only-of-type {\n",
       "        vertical-align: middle;\n",
       "    }\n",
       "\n",
       "    .dataframe tbody tr th {\n",
       "        vertical-align: top;\n",
       "    }\n",
       "\n",
       "    .dataframe thead th {\n",
       "        text-align: right;\n",
       "    }\n",
       "</style>\n",
       "<table border=\"1\" class=\"dataframe\">\n",
       "  <thead>\n",
       "    <tr style=\"text-align: right;\">\n",
       "      <th></th>\n",
       "      <th>product_name</th>\n",
       "      <th>prices</th>\n",
       "    </tr>\n",
       "  </thead>\n",
       "  <tbody>\n",
       "    <tr>\n",
       "      <th>0</th>\n",
       "      <td>Banana</td>\n",
       "      <td>454</td>\n",
       "    </tr>\n",
       "    <tr>\n",
       "      <th>1</th>\n",
       "      <td>Lowfat 2% Milkfat Cottage Cheese</td>\n",
       "      <td>381</td>\n",
       "    </tr>\n",
       "    <tr>\n",
       "      <th>2</th>\n",
       "      <td>Bag of Organic Bananas</td>\n",
       "      <td>320</td>\n",
       "    </tr>\n",
       "    <tr>\n",
       "      <th>3</th>\n",
       "      <td>2% Reduced Fat Milk</td>\n",
       "      <td>222</td>\n",
       "    </tr>\n",
       "    <tr>\n",
       "      <th>4</th>\n",
       "      <td>Blueberries</td>\n",
       "      <td>197</td>\n",
       "    </tr>\n",
       "    <tr>\n",
       "      <th>5</th>\n",
       "      <td>100% Whole Wheat Bread</td>\n",
       "      <td>194</td>\n",
       "    </tr>\n",
       "    <tr>\n",
       "      <th>6</th>\n",
       "      <td></td>\n",
       "      <td>174</td>\n",
       "    </tr>\n",
       "    <tr>\n",
       "      <th>7</th>\n",
       "      <td>Organic Fuji Apple</td>\n",
       "      <td>173</td>\n",
       "    </tr>\n",
       "    <tr>\n",
       "      <th>8</th>\n",
       "      <td>Roma Tomato</td>\n",
       "      <td>163</td>\n",
       "    </tr>\n",
       "    <tr>\n",
       "      <th>9</th>\n",
       "      <td>Organic Raspberries</td>\n",
       "      <td>159</td>\n",
       "    </tr>\n",
       "    <tr>\n",
       "      <th>10</th>\n",
       "      <td>Fresh CA Grown Eggs</td>\n",
       "      <td>147</td>\n",
       "    </tr>\n",
       "  </tbody>\n",
       "</table>\n",
       "</div>"
      ],
      "text/plain": [
       "                        product_name  prices\n",
       "0                             Banana     454\n",
       "1   Lowfat 2% Milkfat Cottage Cheese     381\n",
       "2             Bag of Organic Bananas     320\n",
       "3                2% Reduced Fat Milk     222\n",
       "4                        Blueberries     197\n",
       "5             100% Whole Wheat Bread     194\n",
       "6                                        174\n",
       "7                 Organic Fuji Apple     173\n",
       "8                        Roma Tomato     163\n",
       "9                Organic Raspberries     159\n",
       "10               Fresh CA Grown Eggs     147"
      ]
     },
     "execution_count": 49,
     "metadata": {},
     "output_type": "execute_result"
    }
   ],
   "source": [
    "DF18"
   ]
  },
  {
   "cell_type": "code",
   "execution_count": 50,
   "id": "93087406",
   "metadata": {},
   "outputs": [],
   "source": [
    "DF18=DF18.rename(columns={'prices':'count_orders'})"
   ]
  },
  {
   "cell_type": "code",
   "execution_count": 51,
   "id": "501292d6",
   "metadata": {},
   "outputs": [],
   "source": [
    "DF18=DF18.drop(index=6)"
   ]
  },
  {
   "cell_type": "markdown",
   "id": "e81502a4",
   "metadata": {},
   "source": [
    "#### -creating plot"
   ]
  },
  {
   "cell_type": "code",
   "execution_count": 52,
   "id": "24b293eb",
   "metadata": {},
   "outputs": [
    {
     "data": {
      "image/png": "[encoded data removed]",
      "text/plain": [
       "<Figure size 640x480 with 1 Axes>"
      ]
     },
     "metadata": {},
     "output_type": "display_data"
    }
   ],
   "source": [
    "Bar21=DF18.plot.barh(x='product_name')"
   ]
  },
  {
   "cell_type": "markdown",
   "id": "55217e2b",
   "metadata": {},
   "source": [
    "#### -saving the plot"
   ]
  },
  {
   "cell_type": "code",
   "execution_count": 53,
   "id": "6f746e60",
   "metadata": {},
   "outputs": [],
   "source": [
    "Bar21.figure.savefig(os.path.join(path, 'Prepared Data', 'YAC_Products.png'))"
   ]
  },
  {
   "cell_type": "markdown",
   "id": "3243fbd5",
   "metadata": {},
   "source": [
    "### 10 behavior of customers with 2 dependants"
   ]
  },
  {
   "cell_type": "code",
   "execution_count": 4,
   "id": "bb4c8839",
   "metadata": {},
   "outputs": [],
   "source": [
    "DF_2dep=df.loc[df['n_dependants']==2]"
   ]
  },
  {
   "cell_type": "code",
   "execution_count": 5,
   "id": "8a94918e",
   "metadata": {},
   "outputs": [
    {
     "data": {
      "text/html": [
       "<div>\n",
       "<style scoped>\n",
       "    .dataframe tbody tr th:only-of-type {\n",
       "        vertical-align: middle;\n",
       "    }\n",
       "\n",
       "    .dataframe tbody tr th {\n",
       "        vertical-align: top;\n",
       "    }\n",
       "\n",
       "    .dataframe thead th {\n",
       "        text-align: right;\n",
       "    }\n",
       "</style>\n",
       "<table border=\"1\" class=\"dataframe\">\n",
       "  <thead>\n",
       "    <tr style=\"text-align: right;\">\n",
       "      <th></th>\n",
       "      <th>user_id</th>\n",
       "      <th>department_id</th>\n",
       "      <th>prices</th>\n",
       "      <th>order_number</th>\n",
       "      <th>day_of_week</th>\n",
       "      <th>order_hour_of_day</th>\n",
       "      <th>days_since_prior_order</th>\n",
       "      <th>max_order</th>\n",
       "      <th>mean_price</th>\n",
       "    </tr>\n",
       "  </thead>\n",
       "  <tbody>\n",
       "    <tr>\n",
       "      <th>count</th>\n",
       "      <td>11898.000000</td>\n",
       "      <td>11898.000000</td>\n",
       "      <td>11898.000000</td>\n",
       "      <td>11898.000000</td>\n",
       "      <td>11898.000000</td>\n",
       "      <td>11898.000000</td>\n",
       "      <td>11898.000000</td>\n",
       "      <td>11898.000000</td>\n",
       "      <td>11898.000000</td>\n",
       "    </tr>\n",
       "    <tr>\n",
       "      <th>mean</th>\n",
       "      <td>104831.446714</td>\n",
       "      <td>10.006220</td>\n",
       "      <td>501.645319</td>\n",
       "      <td>17.419818</td>\n",
       "      <td>2.765843</td>\n",
       "      <td>12.920659</td>\n",
       "      <td>11.138679</td>\n",
       "      <td>33.863843</td>\n",
       "      <td>503.957524</td>\n",
       "    </tr>\n",
       "    <tr>\n",
       "      <th>std</th>\n",
       "      <td>57044.561213</td>\n",
       "      <td>6.250948</td>\n",
       "      <td>5976.700226</td>\n",
       "      <td>16.561768</td>\n",
       "      <td>2.191083</td>\n",
       "      <td>3.806900</td>\n",
       "      <td>8.804724</td>\n",
       "      <td>23.081550</td>\n",
       "      <td>748.634975</td>\n",
       "    </tr>\n",
       "    <tr>\n",
       "      <th>min</th>\n",
       "      <td>866.000000</td>\n",
       "      <td>0.000000</td>\n",
       "      <td>0.000000</td>\n",
       "      <td>1.000000</td>\n",
       "      <td>0.000000</td>\n",
       "      <td>0.000000</td>\n",
       "      <td>0.000000</td>\n",
       "      <td>6.000000</td>\n",
       "      <td>24.579249</td>\n",
       "    </tr>\n",
       "    <tr>\n",
       "      <th>25%</th>\n",
       "      <td>50764.000000</td>\n",
       "      <td>4.000000</td>\n",
       "      <td>4.300000</td>\n",
       "      <td>5.000000</td>\n",
       "      <td>1.000000</td>\n",
       "      <td>10.000000</td>\n",
       "      <td>5.000000</td>\n",
       "      <td>13.000000</td>\n",
       "      <td>61.887591</td>\n",
       "    </tr>\n",
       "    <tr>\n",
       "      <th>50%</th>\n",
       "      <td>113384.000000</td>\n",
       "      <td>9.000000</td>\n",
       "      <td>7.300000</td>\n",
       "      <td>12.000000</td>\n",
       "      <td>2.000000</td>\n",
       "      <td>13.000000</td>\n",
       "      <td>8.000000</td>\n",
       "      <td>30.000000</td>\n",
       "      <td>131.433333</td>\n",
       "    </tr>\n",
       "    <tr>\n",
       "      <th>75%</th>\n",
       "      <td>159443.000000</td>\n",
       "      <td>16.000000</td>\n",
       "      <td>11.300000</td>\n",
       "      <td>25.000000</td>\n",
       "      <td>5.000000</td>\n",
       "      <td>16.000000</td>\n",
       "      <td>15.000000</td>\n",
       "      <td>50.000000</td>\n",
       "      <td>592.561275</td>\n",
       "    </tr>\n",
       "    <tr>\n",
       "      <th>max</th>\n",
       "      <td>202628.000000</td>\n",
       "      <td>21.000000</td>\n",
       "      <td>99999.000000</td>\n",
       "      <td>100.000000</td>\n",
       "      <td>6.000000</td>\n",
       "      <td>23.000000</td>\n",
       "      <td>30.000000</td>\n",
       "      <td>100.000000</td>\n",
       "      <td>4060.500676</td>\n",
       "    </tr>\n",
       "  </tbody>\n",
       "</table>\n",
       "</div>"
      ],
      "text/plain": [
       "             user_id  department_id        prices  order_number   day_of_week  \\\n",
       "count   11898.000000   11898.000000  11898.000000  11898.000000  11898.000000   \n",
       "mean   104831.446714      10.006220    501.645319     17.419818      2.765843   \n",
       "std     57044.561213       6.250948   5976.700226     16.561768      2.191083   \n",
       "min       866.000000       0.000000      0.000000      1.000000      0.000000   \n",
       "25%     50764.000000       4.000000      4.300000      5.000000      1.000000   \n",
       "50%    113384.000000       9.000000      7.300000     12.000000      2.000000   \n",
       "75%    159443.000000      16.000000     11.300000     25.000000      5.000000   \n",
       "max    202628.000000      21.000000  99999.000000    100.000000      6.000000   \n",
       "\n",
       "       order_hour_of_day  days_since_prior_order     max_order    mean_price  \n",
       "count       11898.000000            11898.000000  11898.000000  11898.000000  \n",
       "mean           12.920659               11.138679     33.863843    503.957524  \n",
       "std             3.806900                8.804724     23.081550    748.634975  \n",
       "min             0.000000                0.000000      6.000000     24.579249  \n",
       "25%            10.000000                5.000000     13.000000     61.887591  \n",
       "50%            13.000000                8.000000     30.000000    131.433333  \n",
       "75%            16.000000               15.000000     50.000000    592.561275  \n",
       "max            23.000000               30.000000    100.000000   4060.500676  "
      ]
     },
     "execution_count": 5,
     "metadata": {},
     "output_type": "execute_result"
    }
   ],
   "source": [
    "DF_2dep[['user_id','department_id','prices','order_number','day_of_week', \n",
    "         'order_hour_of_day','days_since_prior_order','max_order','mean_price' ]].describe()"
   ]
  },
  {
   "cell_type": "code",
   "execution_count": null,
   "id": "91d427a3",
   "metadata": {},
   "outputs": [],
   "source": []
  },
  {
   "cell_type": "code",
   "execution_count": null,
   "id": "59253e9d",
   "metadata": {},
   "outputs": [],
   "source": []
  },
  {
   "cell_type": "code",
   "execution_count": null,
   "id": "f00a466b",
   "metadata": {},
   "outputs": [],
   "source": []
  }
 ],
 "metadata": {
  "kernelspec": {
   "display_name": "Python 3 (ipykernel)",
   "language": "python",
   "name": "python3"
  },
  "language_info": {
   "codemirror_mode": {
    "name": "ipython",
    "version": 3
   },
   "file_extension": ".py",
   "mimetype": "text/x-python",
   "name": "python",
   "nbconvert_exporter": "python",
   "pygments_lexer": "ipython3",
   "version": "3.10.9"
  }
 },
 "nbformat": 4,
 "nbformat_minor": 5
}
