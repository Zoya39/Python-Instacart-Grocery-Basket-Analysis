{
 "cells": [
  {
   "cell_type": "markdown",
   "id": "af65ca84",
   "metadata": {},
   "source": [
    "### 4.02 IC Project. Importing Libraries\n",
    "#### 4.02 -1.1 importing libraries\n",
    "#### 4.02-1.2 writing some code samples"
   ]
  },
  {
   "cell_type": "markdown",
   "id": "3cf8f50c",
   "metadata": {},
   "source": [
    "### 1.1 Importing libraries"
   ]
  },
  {
   "cell_type": "code",
   "execution_count": 2,
   "id": "8f852d55",
   "metadata": {},
   "outputs": [],
   "source": [
    "# Import Libraries\n",
    "import pandas as pd\n",
    "import numpy as np\n",
    "import os"
   ]
  },
  {
   "cell_type": "markdown",
   "id": "a9ae7313",
   "metadata": {},
   "source": [
    "### 1.2 Writing code samples"
   ]
  },
  {
   "cell_type": "code",
   "execution_count": 3,
   "id": "3e868fc0",
   "metadata": {},
   "outputs": [],
   "source": [
    "x=2"
   ]
  },
  {
   "cell_type": "code",
   "execution_count": 5,
   "id": "ea65fb83",
   "metadata": {},
   "outputs": [
    {
     "name": "stdout",
     "output_type": "stream",
     "text": [
      "2\n"
     ]
    }
   ],
   "source": [
    "print(x)"
   ]
  },
  {
   "cell_type": "code",
   "execution_count": 6,
   "id": "04ed0cc9",
   "metadata": {},
   "outputs": [
    {
     "data": {
      "text/plain": [
       "int"
      ]
     },
     "execution_count": 6,
     "metadata": {},
     "output_type": "execute_result"
    }
   ],
   "source": [
    "type(x)"
   ]
  },
  {
   "cell_type": "code",
   "execution_count": 10,
   "id": "f638b3d8",
   "metadata": {},
   "outputs": [],
   "source": [
    "y = 4.566"
   ]
  },
  {
   "cell_type": "code",
   "execution_count": 11,
   "id": "4705c6dd",
   "metadata": {},
   "outputs": [
    {
     "data": {
      "text/plain": [
       "float"
      ]
     },
     "execution_count": 11,
     "metadata": {},
     "output_type": "execute_result"
    }
   ],
   "source": [
    "type(y)"
   ]
  },
  {
   "cell_type": "code",
   "execution_count": 12,
   "id": "4858aeb5",
   "metadata": {},
   "outputs": [],
   "source": [
    "z='Brasil'"
   ]
  },
  {
   "cell_type": "code",
   "execution_count": 13,
   "id": "ea80ca23",
   "metadata": {},
   "outputs": [
    {
     "data": {
      "text/plain": [
       "str"
      ]
     },
     "execution_count": 13,
     "metadata": {},
     "output_type": "execute_result"
    }
   ],
   "source": [
    "type(z)"
   ]
  },
  {
   "cell_type": "code",
   "execution_count": 14,
   "id": "a6b8926f",
   "metadata": {},
   "outputs": [
    {
     "name": "stdout",
     "output_type": "stream",
     "text": [
      "2\n"
     ]
    }
   ],
   "source": [
    "print(x)"
   ]
  },
  {
   "cell_type": "code",
   "execution_count": 15,
   "id": "50883fca",
   "metadata": {},
   "outputs": [
    {
     "data": {
      "text/plain": [
       "4"
      ]
     },
     "execution_count": 15,
     "metadata": {},
     "output_type": "execute_result"
    }
   ],
   "source": [
    "x+2"
   ]
  },
  {
   "cell_type": "code",
   "execution_count": 16,
   "id": "03103fd3",
   "metadata": {},
   "outputs": [],
   "source": [
    "a='Marley'"
   ]
  },
  {
   "cell_type": "code",
   "execution_count": 17,
   "id": "14b5addd",
   "metadata": {},
   "outputs": [],
   "source": [
    "b='Hello,'"
   ]
  },
  {
   "cell_type": "code",
   "execution_count": 18,
   "id": "5c608121",
   "metadata": {},
   "outputs": [
    {
     "data": {
      "text/plain": [
       "'Hello,Marley'"
      ]
     },
     "execution_count": 18,
     "metadata": {},
     "output_type": "execute_result"
    }
   ],
   "source": [
    "b+a"
   ]
  },
  {
   "cell_type": "code",
   "execution_count": 19,
   "id": "c2f7c911",
   "metadata": {},
   "outputs": [
    {
     "data": {
      "text/plain": [
       "False"
      ]
     },
     "execution_count": 19,
     "metadata": {},
     "output_type": "execute_result"
    }
   ],
   "source": [
    "a==b"
   ]
  },
  {
   "cell_type": "code",
   "execution_count": 20,
   "id": "b1e1de35",
   "metadata": {},
   "outputs": [
    {
     "data": {
      "text/plain": [
       "bool"
      ]
     },
     "execution_count": 20,
     "metadata": {},
     "output_type": "execute_result"
    }
   ],
   "source": [
    "type(a==b)"
   ]
  },
  {
   "cell_type": "markdown",
   "id": "190782e9",
   "metadata": {},
   "source": [
    "### The task code samples"
   ]
  },
  {
   "cell_type": "markdown",
   "id": "71b6c3f4",
   "metadata": {},
   "source": [
    "### I. The 3 ways to make 100$"
   ]
  },
  {
   "cell_type": "markdown",
   "id": "7cffb1c2",
   "metadata": {},
   "source": [
    "#### 1) invest & duplicate "
   ]
  },
  {
   "cell_type": "code",
   "execution_count": 21,
   "id": "ddc2f733",
   "metadata": {},
   "outputs": [],
   "source": [
    "a=50"
   ]
  },
  {
   "cell_type": "code",
   "execution_count": 22,
   "id": "fbbe3d0b",
   "metadata": {},
   "outputs": [
    {
     "data": {
      "text/plain": [
       "100"
      ]
     },
     "execution_count": 22,
     "metadata": {},
     "output_type": "execute_result"
    }
   ],
   "source": [
    "a*2"
   ]
  },
  {
   "cell_type": "markdown",
   "id": "c3c7cddc",
   "metadata": {},
   "source": [
    "#### 2) initial capital + invest & duplicate "
   ]
  },
  {
   "cell_type": "code",
   "execution_count": 30,
   "id": "b262830a",
   "metadata": {},
   "outputs": [],
   "source": [
    "b=25"
   ]
  },
  {
   "cell_type": "code",
   "execution_count": 32,
   "id": "d7db0177",
   "metadata": {},
   "outputs": [],
   "source": [
    "a=50"
   ]
  },
  {
   "cell_type": "code",
   "execution_count": 33,
   "id": "525bce39",
   "metadata": {},
   "outputs": [
    {
     "data": {
      "text/plain": [
       "100"
      ]
     },
     "execution_count": 33,
     "metadata": {},
     "output_type": "execute_result"
    }
   ],
   "source": [
    "a+b*2"
   ]
  },
  {
   "cell_type": "markdown",
   "id": "e29652bb",
   "metadata": {},
   "source": [
    "#### 3) update your knowlege + pay the study"
   ]
  },
  {
   "cell_type": "code",
   "execution_count": 36,
   "id": "987303fb",
   "metadata": {},
   "outputs": [],
   "source": [
    "c=-100"
   ]
  },
  {
   "cell_type": "code",
   "execution_count": 40,
   "id": "9b1ad535",
   "metadata": {},
   "outputs": [
    {
     "data": {
      "text/plain": [
       "100"
      ]
     },
     "execution_count": 40,
     "metadata": {},
     "output_type": "execute_result"
    }
   ],
   "source": [
    "c**2-9900"
   ]
  },
  {
   "cell_type": "markdown",
   "id": "0c25eb67",
   "metadata": {},
   "source": [
    "### II. two floats about Earth"
   ]
  },
  {
   "cell_type": "code",
   "execution_count": 46,
   "id": "6bf30474",
   "metadata": {},
   "outputs": [],
   "source": [
    "R=6.378"
   ]
  },
  {
   "cell_type": "code",
   "execution_count": 47,
   "id": "ed8f88a5",
   "metadata": {},
   "outputs": [],
   "source": [
    "C=40.075"
   ]
  },
  {
   "cell_type": "code",
   "execution_count": 50,
   "id": "5ed02f5f",
   "metadata": {},
   "outputs": [
    {
     "data": {
      "text/plain": [
       "3.141658827218564"
      ]
     },
     "execution_count": 50,
     "metadata": {},
     "output_type": "execute_result"
    }
   ],
   "source": [
    "C/(R*2)"
   ]
  },
  {
   "cell_type": "markdown",
   "id": "acd1d2a5",
   "metadata": {},
   "source": [
    "### III. Constructing a short word (something from Wonderworld)"
   ]
  },
  {
   "cell_type": "code",
   "execution_count": 52,
   "id": "1c1ce6ed",
   "metadata": {},
   "outputs": [],
   "source": [
    "a='pine'"
   ]
  },
  {
   "cell_type": "code",
   "execution_count": 53,
   "id": "d8999d4f",
   "metadata": {},
   "outputs": [],
   "source": [
    "b='aple'"
   ]
  },
  {
   "cell_type": "code",
   "execution_count": 54,
   "id": "c81a7256",
   "metadata": {},
   "outputs": [
    {
     "data": {
      "text/plain": [
       "'pineaple'"
      ]
     },
     "execution_count": 54,
     "metadata": {},
     "output_type": "execute_result"
    }
   ],
   "source": [
    "a+b"
   ]
  },
  {
   "cell_type": "markdown",
   "id": "331d274f",
   "metadata": {},
   "source": [
    "### IV. Constructing 2 sentences"
   ]
  },
  {
   "cell_type": "code",
   "execution_count": 60,
   "id": "115ce1ac",
   "metadata": {},
   "outputs": [],
   "source": [
    "a='Nothing is impossible'"
   ]
  },
  {
   "cell_type": "code",
   "execution_count": 61,
   "id": "f67b71c6",
   "metadata": {},
   "outputs": [],
   "source": [
    "b=' And I do nothing every day'"
   ]
  },
  {
   "cell_type": "code",
   "execution_count": 62,
   "id": "5e71a10b",
   "metadata": {},
   "outputs": [
    {
     "data": {
      "text/plain": [
       "'Nothing is impossible And I do nothing every day'"
      ]
     },
     "execution_count": 62,
     "metadata": {},
     "output_type": "execute_result"
    }
   ],
   "source": [
    "a+b"
   ]
  },
  {
   "cell_type": "code",
   "execution_count": 63,
   "id": "43db56dd",
   "metadata": {},
   "outputs": [],
   "source": [
    "c=' fish'"
   ]
  },
  {
   "cell_type": "code",
   "execution_count": 64,
   "id": "ce7c7074",
   "metadata": {},
   "outputs": [],
   "source": [
    "d='es'"
   ]
  },
  {
   "cell_type": "code",
   "execution_count": 68,
   "id": "2ff24007",
   "metadata": {},
   "outputs": [],
   "source": [
    "e=' tank'"
   ]
  },
  {
   "cell_type": "code",
   "execution_count": 72,
   "id": "54ea7e33",
   "metadata": {},
   "outputs": [],
   "source": [
    "f=' in a'"
   ]
  },
  {
   "cell_type": "code",
   "execution_count": 73,
   "id": "00d9a4b2",
   "metadata": {},
   "outputs": [
    {
     "data": {
      "text/plain": [
       "' fish fishes fish in a fish tank'"
      ]
     },
     "execution_count": 73,
     "metadata": {},
     "output_type": "execute_result"
    }
   ],
   "source": [
    "c+c+d+c+f+c+e"
   ]
  },
  {
   "cell_type": "markdown",
   "id": "9a4f6940",
   "metadata": {},
   "source": [
    "### Thanks and Have a nice day!"
   ]
  },
  {
   "cell_type": "code",
   "execution_count": null,
   "id": "77536183",
   "metadata": {},
   "outputs": [],
   "source": []
  }
 ],
 "metadata": {
  "kernelspec": {
   "display_name": "Python 3 (ipykernel)",
   "language": "python",
   "name": "python3"
  },
  "language_info": {
   "codemirror_mode": {
    "name": "ipython",
    "version": 3
   },
   "file_extension": ".py",
   "mimetype": "text/x-python",
   "name": "python",
   "nbconvert_exporter": "python",
   "pygments_lexer": "ipython3",
   "version": "3.10.9"
  }
 },
 "nbformat": 4,
 "nbformat_minor": 5
}
