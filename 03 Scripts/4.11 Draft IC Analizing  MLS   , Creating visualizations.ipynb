{
 "cells": [
  {
   "cell_type": "markdown",
   "id": "dc856afc",
   "metadata": {},
   "source": [
    "### 4.10 Part5 MLS\n",
    "#### 1 Importing libraries and df w/o PI\n",
    "#### 2 analyzing Mature Low Spender by Loyalty Flag\n",
    "#### 3 -analyzing Mature Low Spender purshease by  sales amount\n",
    "#### 4 -analyzing Mature Low Spender by Busiest_day\n",
    "#### Analyzing by prefered hour of day\n",
    "#### 6 Analyzing number of Mature Low Spender by State\n",
    "#### 7 Analyzing Mature Low Spenders  by n_dependants\n",
    "#### 8 Days since prior order\n",
    "####  9  Defining TOP products for client group\n"
   ]
  },
  {
   "cell_type": "markdown",
   "id": "b3478eda",
   "metadata": {},
   "source": [
    "### 1 Importing libraries and df w/o PII"
   ]
  },
  {
   "cell_type": "code",
   "execution_count": 1,
   "id": "e865d8b6",
   "metadata": {},
   "outputs": [],
   "source": [
    "import pandas as pd\n",
    "import numpy as np\n",
    "import os\n",
    "import matplotlib.pyplot as plt\n",
    "import seaborn as sns\n",
    "import scipy"
   ]
  },
  {
   "cell_type": "code",
   "execution_count": 2,
   "id": "a0d783f3",
   "metadata": {},
   "outputs": [],
   "source": [
    "path=r'C:\\Users\\user\\07-2023 Instacart Basket Analysis\\02 Data'"
   ]
  },
  {
   "cell_type": "markdown",
   "id": "7d9928b7",
   "metadata": {},
   "source": [
    "#### -importing df"
   ]
  },
  {
   "cell_type": "code",
   "execution_count": 3,
   "id": "339d7784",
   "metadata": {},
   "outputs": [],
   "source": [
    "df=pd.read_pickle(os.path.join(path,'Prepared Data','MLS.pkl'))"
   ]
  },
  {
   "cell_type": "code",
   "execution_count": 4,
   "id": "dd1cde48",
   "metadata": {},
   "outputs": [
    {
     "data": {
      "text/plain": [
       "Index(['user_id', 'Gender', 'STATE', 'Age', 'date_joined', 'n_dependants',\n",
       "       'fam_status', 'income', 'product_id', 'product_name', 'aisle_id',\n",
       "       'department_id', 'prices', 'order_id', 'eval_set', 'order_number',\n",
       "       'day_of_week', 'order_hour_of_day', 'days_since_prior_order',\n",
       "       'add_to_cart_order', 'reordered', 'price_range_loc', 'busiest_day',\n",
       "       'busiest days', 'max_order', 'loyalty_flag', 'mean_price',\n",
       "       'spender_flag', 'median_days_sinse_ord', 'frequent_flag',\n",
       "       'AgeIncome_flag'],\n",
       "      dtype='object')"
      ]
     },
     "execution_count": 4,
     "metadata": {},
     "output_type": "execute_result"
    }
   ],
   "source": [
    "df.columns"
   ]
  },
  {
   "cell_type": "code",
   "execution_count": 5,
   "id": "a95c3088",
   "metadata": {},
   "outputs": [
    {
     "data": {
      "text/plain": [
       "(19543086, 31)"
      ]
     },
     "execution_count": 5,
     "metadata": {},
     "output_type": "execute_result"
    }
   ],
   "source": [
    "df.shape"
   ]
  },
  {
   "cell_type": "code",
   "execution_count": 6,
   "id": "5d2cc055",
   "metadata": {},
   "outputs": [
    {
     "data": {
      "text/html": [
       "<div>\n",
       "<style scoped>\n",
       "    .dataframe tbody tr th:only-of-type {\n",
       "        vertical-align: middle;\n",
       "    }\n",
       "\n",
       "    .dataframe tbody tr th {\n",
       "        vertical-align: top;\n",
       "    }\n",
       "\n",
       "    .dataframe thead th {\n",
       "        text-align: right;\n",
       "    }\n",
       "</style>\n",
       "<table border=\"1\" class=\"dataframe\">\n",
       "  <thead>\n",
       "    <tr style=\"text-align: right;\">\n",
       "      <th></th>\n",
       "      <th>user_id</th>\n",
       "      <th>Age</th>\n",
       "      <th>income</th>\n",
       "      <th>product_id</th>\n",
       "      <th>median_days_sinse_ord</th>\n",
       "      <th>order_number</th>\n",
       "      <th>mean_price</th>\n",
       "    </tr>\n",
       "  </thead>\n",
       "  <tbody>\n",
       "    <tr>\n",
       "      <th>count</th>\n",
       "      <td>1.954309e+07</td>\n",
       "      <td>1.954309e+07</td>\n",
       "      <td>1.954309e+07</td>\n",
       "      <td>1.954309e+07</td>\n",
       "      <td>1.954309e+07</td>\n",
       "      <td>1.954309e+07</td>\n",
       "      <td>1.954309e+07</td>\n",
       "    </tr>\n",
       "    <tr>\n",
       "      <th>mean</th>\n",
       "      <td>1.028124e+05</td>\n",
       "      <td>6.099244e+01</td>\n",
       "      <td>1.135977e+05</td>\n",
       "      <td>2.545479e+04</td>\n",
       "      <td>9.359802e+00</td>\n",
       "      <td>1.781142e+01</td>\n",
       "      <td>7.788966e+00</td>\n",
       "    </tr>\n",
       "    <tr>\n",
       "      <th>std</th>\n",
       "      <td>5.938728e+04</td>\n",
       "      <td>1.185586e+01</td>\n",
       "      <td>3.581320e+04</td>\n",
       "      <td>1.417398e+04</td>\n",
       "      <td>6.109826e+00</td>\n",
       "      <td>1.761591e+01</td>\n",
       "      <td>7.094531e-01</td>\n",
       "    </tr>\n",
       "    <tr>\n",
       "      <th>min</th>\n",
       "      <td>2.000000e+00</td>\n",
       "      <td>4.100000e+01</td>\n",
       "      <td>2.900100e+04</td>\n",
       "      <td>0.000000e+00</td>\n",
       "      <td>0.000000e+00</td>\n",
       "      <td>1.000000e+00</td>\n",
       "      <td>1.000000e+00</td>\n",
       "    </tr>\n",
       "    <tr>\n",
       "      <th>25%</th>\n",
       "      <td>5.151300e+04</td>\n",
       "      <td>5.100000e+01</td>\n",
       "      <td>9.538400e+04</td>\n",
       "      <td>1.325900e+04</td>\n",
       "      <td>6.000000e+00</td>\n",
       "      <td>5.000000e+00</td>\n",
       "      <td>7.387143e+00</td>\n",
       "    </tr>\n",
       "    <tr>\n",
       "      <th>50%</th>\n",
       "      <td>1.021900e+05</td>\n",
       "      <td>6.100000e+01</td>\n",
       "      <td>1.156290e+05</td>\n",
       "      <td>2.513300e+04</td>\n",
       "      <td>7.000000e+00</td>\n",
       "      <td>1.200000e+01</td>\n",
       "      <td>7.818224e+00</td>\n",
       "    </tr>\n",
       "    <tr>\n",
       "      <th>75%</th>\n",
       "      <td>1.540850e+05</td>\n",
       "      <td>7.100000e+01</td>\n",
       "      <td>1.423020e+05</td>\n",
       "      <td>3.780000e+04</td>\n",
       "      <td>1.200000e+01</td>\n",
       "      <td>2.500000e+01</td>\n",
       "      <td>8.231280e+00</td>\n",
       "    </tr>\n",
       "    <tr>\n",
       "      <th>max</th>\n",
       "      <td>2.062090e+05</td>\n",
       "      <td>8.100000e+01</td>\n",
       "      <td>1.699970e+05</td>\n",
       "      <td>4.968800e+04</td>\n",
       "      <td>3.000000e+01</td>\n",
       "      <td>1.000000e+02</td>\n",
       "      <td>9.998305e+00</td>\n",
       "    </tr>\n",
       "  </tbody>\n",
       "</table>\n",
       "</div>"
      ],
      "text/plain": [
       "            user_id           Age        income    product_id  \\\n",
       "count  1.954309e+07  1.954309e+07  1.954309e+07  1.954309e+07   \n",
       "mean   1.028124e+05  6.099244e+01  1.135977e+05  2.545479e+04   \n",
       "std    5.938728e+04  1.185586e+01  3.581320e+04  1.417398e+04   \n",
       "min    2.000000e+00  4.100000e+01  2.900100e+04  0.000000e+00   \n",
       "25%    5.151300e+04  5.100000e+01  9.538400e+04  1.325900e+04   \n",
       "50%    1.021900e+05  6.100000e+01  1.156290e+05  2.513300e+04   \n",
       "75%    1.540850e+05  7.100000e+01  1.423020e+05  3.780000e+04   \n",
       "max    2.062090e+05  8.100000e+01  1.699970e+05  4.968800e+04   \n",
       "\n",
       "       median_days_sinse_ord  order_number    mean_price  \n",
       "count           1.954309e+07  1.954309e+07  1.954309e+07  \n",
       "mean            9.359802e+00  1.781142e+01  7.788966e+00  \n",
       "std             6.109826e+00  1.761591e+01  7.094531e-01  \n",
       "min             0.000000e+00  1.000000e+00  1.000000e+00  \n",
       "25%             6.000000e+00  5.000000e+00  7.387143e+00  \n",
       "50%             7.000000e+00  1.200000e+01  7.818224e+00  \n",
       "75%             1.200000e+01  2.500000e+01  8.231280e+00  \n",
       "max             3.000000e+01  1.000000e+02  9.998305e+00  "
      ]
     },
     "execution_count": 6,
     "metadata": {},
     "output_type": "execute_result"
    }
   ],
   "source": [
    "df[['user_id','Age', 'income','product_id', 'median_days_sinse_ord','order_number','mean_price']] .describe()"
   ]
  },
  {
   "cell_type": "markdown",
   "id": "08380bfb",
   "metadata": {},
   "source": [
    "### 2 Analyzing Mature Low Spender by Loyalty Flag"
   ]
  },
  {
   "cell_type": "markdown",
   "id": "6e53f0cf",
   "metadata": {},
   "source": [
    "#### --creating the subset to avoid Memory Error"
   ]
  },
  {
   "cell_type": "code",
   "execution_count": 7,
   "id": "ca583f66",
   "metadata": {},
   "outputs": [],
   "source": [
    "df1=df[['user_id','Gender','fam_status','STATE','department_id', 'product_id', 'product_name', \n",
    "       'busiest_day','loyalty_flag','AgeIncome_flag','prices','income']]"
   ]
  },
  {
   "cell_type": "markdown",
   "id": "db69a845",
   "metadata": {},
   "source": [
    "### - How many customers are MLS?"
   ]
  },
  {
   "cell_type": "code",
   "execution_count": 8,
   "id": "166ad79b",
   "metadata": {},
   "outputs": [
    {
     "data": {
      "text/plain": [
       "(102032, 1)"
      ]
     },
     "execution_count": 8,
     "metadata": {},
     "output_type": "execute_result"
    }
   ],
   "source": [
    "df1[['user_id']].drop_duplicates().shape"
   ]
  },
  {
   "cell_type": "code",
   "execution_count": null,
   "id": "7a398bce",
   "metadata": {},
   "outputs": [],
   "source": []
  },
  {
   "cell_type": "markdown",
   "id": "8a4e55ee",
   "metadata": {},
   "source": [
    "### 3 -Analyzing Mature Low Spender by Loyalty Flag and Family Status"
   ]
  },
  {
   "cell_type": "markdown",
   "id": "260990d5",
   "metadata": {},
   "source": [
    "#### -creating subset with unique user_id"
   ]
  },
  {
   "cell_type": "code",
   "execution_count": 9,
   "id": "6be23ed7",
   "metadata": {},
   "outputs": [],
   "source": [
    "df1=df[['user_id','fam_status','loyalty_flag']].drop_duplicates()"
   ]
  },
  {
   "cell_type": "code",
   "execution_count": 10,
   "id": "db67831c",
   "metadata": {},
   "outputs": [
    {
     "data": {
      "text/plain": [
       "fam_status        loyalty_flag    \n",
       "divorced/widowed  Regular customer     7012\n",
       "                  New customer         5014\n",
       "                  Loyal customer       1502\n",
       "married           Regular customer    39552\n",
       "                  New customer        28627\n",
       "                  Loyal customer       8469\n",
       "single            Regular customer     6027\n",
       "                  New customer         4470\n",
       "                  Loyal customer       1359\n",
       "Name: loyalty_flag, dtype: int64"
      ]
     },
     "execution_count": 10,
     "metadata": {},
     "output_type": "execute_result"
    }
   ],
   "source": [
    "df1.groupby('fam_status')['loyalty_flag'].value_counts()"
   ]
  },
  {
   "cell_type": "code",
   "execution_count": 11,
   "id": "b10af605",
   "metadata": {},
   "outputs": [
    {
     "data": {
      "image/png": "[encoded data removed]",
      "text/plain": [
       "<Figure size 640x480 with 1 Axes>"
      ]
     },
     "metadata": {},
     "output_type": "display_data"
    }
   ],
   "source": [
    "bar12=df1.groupby('fam_status')['loyalty_flag'].value_counts().unstack().plot.barh()"
   ]
  },
  {
   "cell_type": "code",
   "execution_count": 12,
   "id": "cdd18c95",
   "metadata": {},
   "outputs": [],
   "source": [
    "bar12.figure.savefig(os.path.join(path, 'Prepared Data', 'MLS_LoyaltyFlag.png'))"
   ]
  },
  {
   "cell_type": "markdown",
   "id": "6df1434e",
   "metadata": {},
   "source": [
    "### 3 -analyzing Mature Low Spender purshease by  sales amount"
   ]
  },
  {
   "cell_type": "code",
   "execution_count": 13,
   "id": "b0a78b81",
   "metadata": {},
   "outputs": [],
   "source": [
    "Df1=df[['user_id','prices','loyalty_flag']]"
   ]
  },
  {
   "cell_type": "code",
   "execution_count": 14,
   "id": "8d567259",
   "metadata": {},
   "outputs": [
    {
     "data": {
      "text/html": [
       "<div>\n",
       "<style scoped>\n",
       "    .dataframe tbody tr th:only-of-type {\n",
       "        vertical-align: middle;\n",
       "    }\n",
       "\n",
       "    .dataframe tbody tr th {\n",
       "        vertical-align: top;\n",
       "    }\n",
       "\n",
       "    .dataframe thead th {\n",
       "        text-align: right;\n",
       "    }\n",
       "</style>\n",
       "<table border=\"1\" class=\"dataframe\">\n",
       "  <thead>\n",
       "    <tr style=\"text-align: right;\">\n",
       "      <th></th>\n",
       "      <th>user_id</th>\n",
       "      <th>prices</th>\n",
       "      <th>loyalty_flag</th>\n",
       "    </tr>\n",
       "  </thead>\n",
       "  <tbody>\n",
       "    <tr>\n",
       "      <th>0</th>\n",
       "      <td>26711</td>\n",
       "      <td>9.0</td>\n",
       "      <td>New customer</td>\n",
       "    </tr>\n",
       "    <tr>\n",
       "      <th>1</th>\n",
       "      <td>26711</td>\n",
       "      <td>12.6</td>\n",
       "      <td>New customer</td>\n",
       "    </tr>\n",
       "    <tr>\n",
       "      <th>2</th>\n",
       "      <td>26711</td>\n",
       "      <td>0.0</td>\n",
       "      <td>New customer</td>\n",
       "    </tr>\n",
       "    <tr>\n",
       "      <th>3</th>\n",
       "      <td>26711</td>\n",
       "      <td>12.6</td>\n",
       "      <td>New customer</td>\n",
       "    </tr>\n",
       "    <tr>\n",
       "      <th>4</th>\n",
       "      <td>26711</td>\n",
       "      <td>12.6</td>\n",
       "      <td>New customer</td>\n",
       "    </tr>\n",
       "    <tr>\n",
       "      <th>...</th>\n",
       "      <td>...</td>\n",
       "      <td>...</td>\n",
       "      <td>...</td>\n",
       "    </tr>\n",
       "    <tr>\n",
       "      <th>10907397</th>\n",
       "      <td>157930</td>\n",
       "      <td>7.0</td>\n",
       "      <td>New customer</td>\n",
       "    </tr>\n",
       "    <tr>\n",
       "      <th>10907398</th>\n",
       "      <td>157930</td>\n",
       "      <td>0.0</td>\n",
       "      <td>New customer</td>\n",
       "    </tr>\n",
       "    <tr>\n",
       "      <th>10907402</th>\n",
       "      <td>117766</td>\n",
       "      <td>9.0</td>\n",
       "      <td>New customer</td>\n",
       "    </tr>\n",
       "    <tr>\n",
       "      <th>10907403</th>\n",
       "      <td>117766</td>\n",
       "      <td>13.4</td>\n",
       "      <td>New customer</td>\n",
       "    </tr>\n",
       "    <tr>\n",
       "      <th>10907405</th>\n",
       "      <td>136418</td>\n",
       "      <td>0.0</td>\n",
       "      <td>New customer</td>\n",
       "    </tr>\n",
       "  </tbody>\n",
       "</table>\n",
       "<p>19543086 rows × 3 columns</p>\n",
       "</div>"
      ],
      "text/plain": [
       "          user_id  prices  loyalty_flag\n",
       "0           26711     9.0  New customer\n",
       "1           26711    12.6  New customer\n",
       "2           26711     0.0  New customer\n",
       "3           26711    12.6  New customer\n",
       "4           26711    12.6  New customer\n",
       "...           ...     ...           ...\n",
       "10907397   157930     7.0  New customer\n",
       "10907398   157930     0.0  New customer\n",
       "10907402   117766     9.0  New customer\n",
       "10907403   117766    13.4  New customer\n",
       "10907405   136418     0.0  New customer\n",
       "\n",
       "[19543086 rows x 3 columns]"
      ]
     },
     "execution_count": 14,
     "metadata": {},
     "output_type": "execute_result"
    }
   ],
   "source": [
    "Df1"
   ]
  },
  {
   "cell_type": "code",
   "execution_count": 15,
   "id": "77ac4735",
   "metadata": {},
   "outputs": [],
   "source": [
    "df11=Df1.groupby('loyalty_flag')['prices'].sum()"
   ]
  },
  {
   "cell_type": "code",
   "execution_count": 16,
   "id": "63956370",
   "metadata": {},
   "outputs": [
    {
     "data": {
      "text/plain": [
       "loyalty_flag\n",
       "Loyal customer      52177620.3\n",
       "New customer        19850606.7\n",
       "Regular customer    79395626.9\n",
       "Name: prices, dtype: float64"
      ]
     },
     "execution_count": 16,
     "metadata": {},
     "output_type": "execute_result"
    }
   ],
   "source": [
    "df11"
   ]
  },
  {
   "cell_type": "markdown",
   "id": "b0722454",
   "metadata": {},
   "source": [
    "#### -creating and saving plot"
   ]
  },
  {
   "cell_type": "code",
   "execution_count": 17,
   "id": "9c144c3a",
   "metadata": {},
   "outputs": [
    {
     "data": {
      "image/png": "[encoded data removed]",
      "text/plain": [
       "<Figure size 640x480 with 1 Axes>"
      ]
     },
     "metadata": {},
     "output_type": "display_data"
    }
   ],
   "source": [
    "bar22=Df1.groupby('loyalty_flag')['prices'].sum().plot.barh(color=['red', 'green','blue'])"
   ]
  },
  {
   "cell_type": "code",
   "execution_count": 18,
   "id": "b81dd39e",
   "metadata": {},
   "outputs": [],
   "source": [
    "bar22.figure.savefig(os.path.join(path, 'Prepared Data', 'MLS_LoyaltyFlagPrices.png'))"
   ]
  },
  {
   "cell_type": "markdown",
   "id": "022c92a7",
   "metadata": {},
   "source": [
    "### 4 -analyzing Mature Low Spender by Busiest_day"
   ]
  },
  {
   "cell_type": "code",
   "execution_count": 19,
   "id": "58fcebb9",
   "metadata": {},
   "outputs": [],
   "source": [
    "df4=df[['user_id','STATE', 'busiest_day', 'day_of_week']]"
   ]
  },
  {
   "cell_type": "code",
   "execution_count": 20,
   "id": "7a0d6e09",
   "metadata": {},
   "outputs": [
    {
     "data": {
      "text/html": [
       "<div>\n",
       "<style scoped>\n",
       "    .dataframe tbody tr th:only-of-type {\n",
       "        vertical-align: middle;\n",
       "    }\n",
       "\n",
       "    .dataframe tbody tr th {\n",
       "        vertical-align: top;\n",
       "    }\n",
       "\n",
       "    .dataframe thead th {\n",
       "        text-align: right;\n",
       "    }\n",
       "</style>\n",
       "<table border=\"1\" class=\"dataframe\">\n",
       "  <thead>\n",
       "    <tr style=\"text-align: right;\">\n",
       "      <th></th>\n",
       "      <th>user_id</th>\n",
       "      <th>STATE</th>\n",
       "      <th>busiest_day</th>\n",
       "      <th>day_of_week</th>\n",
       "    </tr>\n",
       "  </thead>\n",
       "  <tbody>\n",
       "    <tr>\n",
       "      <th>0</th>\n",
       "      <td>26711</td>\n",
       "      <td>Missouri</td>\n",
       "      <td>Regularly days</td>\n",
       "      <td>5</td>\n",
       "    </tr>\n",
       "    <tr>\n",
       "      <th>1</th>\n",
       "      <td>26711</td>\n",
       "      <td>Missouri</td>\n",
       "      <td>Regularly days</td>\n",
       "      <td>2</td>\n",
       "    </tr>\n",
       "    <tr>\n",
       "      <th>2</th>\n",
       "      <td>26711</td>\n",
       "      <td>Missouri</td>\n",
       "      <td>Regularly days</td>\n",
       "      <td>2</td>\n",
       "    </tr>\n",
       "    <tr>\n",
       "      <th>3</th>\n",
       "      <td>26711</td>\n",
       "      <td>Missouri</td>\n",
       "      <td>Busiest days</td>\n",
       "      <td>1</td>\n",
       "    </tr>\n",
       "    <tr>\n",
       "      <th>4</th>\n",
       "      <td>26711</td>\n",
       "      <td>Missouri</td>\n",
       "      <td>Regularly days</td>\n",
       "      <td>5</td>\n",
       "    </tr>\n",
       "    <tr>\n",
       "      <th>...</th>\n",
       "      <td>...</td>\n",
       "      <td>...</td>\n",
       "      <td>...</td>\n",
       "      <td>...</td>\n",
       "    </tr>\n",
       "    <tr>\n",
       "      <th>10907397</th>\n",
       "      <td>157930</td>\n",
       "      <td>Massachusetts</td>\n",
       "      <td>Slowest days</td>\n",
       "      <td>3</td>\n",
       "    </tr>\n",
       "    <tr>\n",
       "      <th>10907398</th>\n",
       "      <td>157930</td>\n",
       "      <td>Massachusetts</td>\n",
       "      <td>Regularly days</td>\n",
       "      <td>6</td>\n",
       "    </tr>\n",
       "    <tr>\n",
       "      <th>10907402</th>\n",
       "      <td>117766</td>\n",
       "      <td>Connecticut</td>\n",
       "      <td>Busiest days</td>\n",
       "      <td>1</td>\n",
       "    </tr>\n",
       "    <tr>\n",
       "      <th>10907403</th>\n",
       "      <td>117766</td>\n",
       "      <td>Connecticut</td>\n",
       "      <td>Regularly days</td>\n",
       "      <td>5</td>\n",
       "    </tr>\n",
       "    <tr>\n",
       "      <th>10907405</th>\n",
       "      <td>136418</td>\n",
       "      <td>Texas</td>\n",
       "      <td>Slowest days</td>\n",
       "      <td>4</td>\n",
       "    </tr>\n",
       "  </tbody>\n",
       "</table>\n",
       "<p>19543086 rows × 4 columns</p>\n",
       "</div>"
      ],
      "text/plain": [
       "          user_id          STATE     busiest_day  day_of_week\n",
       "0           26711       Missouri  Regularly days            5\n",
       "1           26711       Missouri  Regularly days            2\n",
       "2           26711       Missouri  Regularly days            2\n",
       "3           26711       Missouri    Busiest days            1\n",
       "4           26711       Missouri  Regularly days            5\n",
       "...           ...            ...             ...          ...\n",
       "10907397   157930  Massachusetts    Slowest days            3\n",
       "10907398   157930  Massachusetts  Regularly days            6\n",
       "10907402   117766    Connecticut    Busiest days            1\n",
       "10907403   117766    Connecticut  Regularly days            5\n",
       "10907405   136418          Texas    Slowest days            4\n",
       "\n",
       "[19543086 rows x 4 columns]"
      ]
     },
     "execution_count": 20,
     "metadata": {},
     "output_type": "execute_result"
    }
   ],
   "source": [
    "df4"
   ]
  },
  {
   "cell_type": "code",
   "execution_count": 21,
   "id": "6a0d8788",
   "metadata": {},
   "outputs": [
    {
     "data": {
      "image/png": "[encoded data removed]",
      "text/plain": [
       "<Figure size 640x480 with 1 Axes>"
      ]
     },
     "metadata": {},
     "output_type": "display_data"
    }
   ],
   "source": [
    "pie24=df4.groupby('day_of_week')['busiest_day'].count().plot(kind='pie', autopct='%0.01f%%')"
   ]
  },
  {
   "cell_type": "code",
   "execution_count": 22,
   "id": "1869f79f",
   "metadata": {},
   "outputs": [],
   "source": [
    "pie24.figure.savefig(os.path.join(path, 'Prepared Data', 'MLS_BusiestDayOfWeek.png'))"
   ]
  },
  {
   "cell_type": "code",
   "execution_count": 23,
   "id": "3e4fd4f5",
   "metadata": {},
   "outputs": [
    {
     "data": {
      "text/plain": [
       "day_of_week\n",
       "0    3732534\n",
       "1    3392793\n",
       "2    2545702\n",
       "3    2318597\n",
       "4    2282162\n",
       "5    2542498\n",
       "6    2728800\n",
       "Name: busiest_day, dtype: int64"
      ]
     },
     "execution_count": 23,
     "metadata": {},
     "output_type": "execute_result"
    }
   ],
   "source": [
    "df4.groupby('day_of_week')['busiest_day'].count()"
   ]
  },
  {
   "cell_type": "markdown",
   "id": "1d10e1f3",
   "metadata": {},
   "source": [
    "### 5 Analyzing by prefered hour of day"
   ]
  },
  {
   "cell_type": "code",
   "execution_count": 24,
   "id": "f8decae6",
   "metadata": {},
   "outputs": [],
   "source": [
    "df44=df[['order_hour_of_day','user_id']]"
   ]
  },
  {
   "cell_type": "code",
   "execution_count": 25,
   "id": "04152fe0",
   "metadata": {},
   "outputs": [
    {
     "data": {
      "text/plain": [
       "order_hour_of_day\n",
       "0      129292\n",
       "1       68057\n",
       "2       39971\n",
       "3       30104\n",
       "4       31594\n",
       "5       53168\n",
       "6      174008\n",
       "7      545783\n",
       "8     1053124\n",
       "9     1491635\n",
       "10    1667377\n",
       "11    1644697\n",
       "12    1574804\n",
       "13    1601916\n",
       "14    1619956\n",
       "15    1592655\n",
       "16    1523757\n",
       "17    1255397\n",
       "18     986068\n",
       "19     757927\n",
       "20     590539\n",
       "21     483849\n",
       "22     381727\n",
       "23     245681\n",
       "Name: user_id, dtype: int64"
      ]
     },
     "execution_count": 25,
     "metadata": {},
     "output_type": "execute_result"
    }
   ],
   "source": [
    "df44.groupby('order_hour_of_day')['user_id'].count()"
   ]
  },
  {
   "cell_type": "code",
   "execution_count": 26,
   "id": "451f2ccb",
   "metadata": {},
   "outputs": [
    {
     "data": {
      "image/png": "[encoded data removed]",
      "text/plain": [
       "<Figure size 640x480 with 1 Axes>"
      ]
     },
     "metadata": {},
     "output_type": "display_data"
    }
   ],
   "source": [
    "bar44=df44.groupby('order_hour_of_day')['user_id'].count().plot.bar()"
   ]
  },
  {
   "cell_type": "code",
   "execution_count": 27,
   "id": "6f7235cd",
   "metadata": {},
   "outputs": [],
   "source": [
    "bar44.figure.savefig(os.path.join(path, 'Prepared Data', 'MLS_BusiestHourOfDay.png'))"
   ]
  },
  {
   "cell_type": "code",
   "execution_count": null,
   "id": "096b1e57",
   "metadata": {},
   "outputs": [],
   "source": []
  },
  {
   "cell_type": "code",
   "execution_count": null,
   "id": "f5667298",
   "metadata": {},
   "outputs": [],
   "source": []
  },
  {
   "cell_type": "markdown",
   "id": "07093898",
   "metadata": {},
   "source": [
    "### 6 Analyzing number of Mature Low Spender by State"
   ]
  },
  {
   "cell_type": "code",
   "execution_count": 28,
   "id": "7d0dda6d",
   "metadata": {},
   "outputs": [],
   "source": [
    "df5=df[['user_id','STATE']]"
   ]
  },
  {
   "cell_type": "code",
   "execution_count": 29,
   "id": "313b3b38",
   "metadata": {},
   "outputs": [],
   "source": [
    "DF5=df5.drop_duplicates().reset_index()"
   ]
  },
  {
   "cell_type": "code",
   "execution_count": 30,
   "id": "35bc7814",
   "metadata": {},
   "outputs": [
    {
     "data": {
      "text/html": [
       "<div>\n",
       "<style scoped>\n",
       "    .dataframe tbody tr th:only-of-type {\n",
       "        vertical-align: middle;\n",
       "    }\n",
       "\n",
       "    .dataframe tbody tr th {\n",
       "        vertical-align: top;\n",
       "    }\n",
       "\n",
       "    .dataframe thead th {\n",
       "        text-align: right;\n",
       "    }\n",
       "</style>\n",
       "<table border=\"1\" class=\"dataframe\">\n",
       "  <thead>\n",
       "    <tr style=\"text-align: right;\">\n",
       "      <th></th>\n",
       "      <th>index</th>\n",
       "      <th>user_id</th>\n",
       "      <th>STATE</th>\n",
       "    </tr>\n",
       "  </thead>\n",
       "  <tbody>\n",
       "    <tr>\n",
       "      <th>0</th>\n",
       "      <td>0</td>\n",
       "      <td>26711</td>\n",
       "      <td>Missouri</td>\n",
       "    </tr>\n",
       "    <tr>\n",
       "      <th>1</th>\n",
       "      <td>144</td>\n",
       "      <td>133128</td>\n",
       "      <td>Kentucky</td>\n",
       "    </tr>\n",
       "    <tr>\n",
       "      <th>2</th>\n",
       "      <td>226</td>\n",
       "      <td>69965</td>\n",
       "      <td>Texas</td>\n",
       "    </tr>\n",
       "    <tr>\n",
       "      <th>3</th>\n",
       "      <td>317</td>\n",
       "      <td>33835</td>\n",
       "      <td>Nebraska</td>\n",
       "    </tr>\n",
       "    <tr>\n",
       "      <th>4</th>\n",
       "      <td>357</td>\n",
       "      <td>75032</td>\n",
       "      <td>Georgia</td>\n",
       "    </tr>\n",
       "    <tr>\n",
       "      <th>...</th>\n",
       "      <td>...</td>\n",
       "      <td>...</td>\n",
       "      <td>...</td>\n",
       "    </tr>\n",
       "    <tr>\n",
       "      <th>102027</th>\n",
       "      <td>10898951</td>\n",
       "      <td>109272</td>\n",
       "      <td>Ohio</td>\n",
       "    </tr>\n",
       "    <tr>\n",
       "      <th>102028</th>\n",
       "      <td>10898988</td>\n",
       "      <td>82612</td>\n",
       "      <td>Tennessee</td>\n",
       "    </tr>\n",
       "    <tr>\n",
       "      <th>102029</th>\n",
       "      <td>10899442</td>\n",
       "      <td>181214</td>\n",
       "      <td>Georgia</td>\n",
       "    </tr>\n",
       "    <tr>\n",
       "      <th>102030</th>\n",
       "      <td>10900939</td>\n",
       "      <td>48223</td>\n",
       "      <td>North Carolina</td>\n",
       "    </tr>\n",
       "    <tr>\n",
       "      <th>102031</th>\n",
       "      <td>1144116</td>\n",
       "      <td>11548</td>\n",
       "      <td>Nebraska</td>\n",
       "    </tr>\n",
       "  </tbody>\n",
       "</table>\n",
       "<p>102032 rows × 3 columns</p>\n",
       "</div>"
      ],
      "text/plain": [
       "           index  user_id           STATE\n",
       "0              0    26711        Missouri\n",
       "1            144   133128        Kentucky\n",
       "2            226    69965           Texas\n",
       "3            317    33835        Nebraska\n",
       "4            357    75032         Georgia\n",
       "...          ...      ...             ...\n",
       "102027  10898951   109272            Ohio\n",
       "102028  10898988    82612       Tennessee\n",
       "102029  10899442   181214         Georgia\n",
       "102030  10900939    48223  North Carolina\n",
       "102031   1144116    11548        Nebraska\n",
       "\n",
       "[102032 rows x 3 columns]"
      ]
     },
     "execution_count": 30,
     "metadata": {},
     "output_type": "execute_result"
    }
   ],
   "source": [
    "DF5"
   ]
  },
  {
   "cell_type": "code",
   "execution_count": 31,
   "id": "3095fc97",
   "metadata": {},
   "outputs": [
    {
     "data": {
      "image/png": "[encoded data removed]",
      "text/plain": [
       "<Figure size 640x480 with 1 Axes>"
      ]
     },
     "metadata": {},
     "output_type": "display_data"
    }
   ],
   "source": [
    "bar15=DF5.groupby('STATE')['user_id'].count().plot.bar()"
   ]
  },
  {
   "cell_type": "code",
   "execution_count": 32,
   "id": "3dff13e0",
   "metadata": {},
   "outputs": [
    {
     "data": {
      "text/plain": [
       "STATE\n",
       "Alabama                 2031\n",
       "Alaska                  2017\n",
       "Arizona                 2031\n",
       "Arkansas                1940\n",
       "California              1986\n",
       "Colorado                1937\n",
       "Connecticut             2011\n",
       "Delaware                1985\n",
       "District of Columbia    2028\n",
       "Florida                 1948\n",
       "Georgia                 1979\n",
       "Hawaii                  2006\n",
       "Idaho                   1988\n",
       "Illinois                1985\n",
       "Indiana                 2067\n",
       "Iowa                    2123\n",
       "Kansas                  1985\n",
       "Kentucky                2015\n",
       "Louisiana               1995\n",
       "Maine                   1968\n",
       "Maryland                1983\n",
       "Massachusetts           2022\n",
       "Michigan                2073\n",
       "Minnesota               2038\n",
       "Mississippi             1989\n",
       "Missouri                2023\n",
       "Montana                 2012\n",
       "Nebraska                1932\n",
       "Nevada                  1978\n",
       "New Hampshire           2024\n",
       "New Jersey              2003\n",
       "New Mexico              2007\n",
       "New York                1970\n",
       "North Carolina          1972\n",
       "North Dakota            1987\n",
       "Ohio                    2024\n",
       "Oklahoma                2000\n",
       "Oregon                  2003\n",
       "Pennsylvania            2047\n",
       "Rhode Island            1958\n",
       "South Carolina          2051\n",
       "South Dakota            1972\n",
       "Tennessee               1949\n",
       "Texas                   1955\n",
       "Utah                    2019\n",
       "Vermont                 1994\n",
       "Virginia                2002\n",
       "Washington              2031\n",
       "West Virginia           1974\n",
       "Wisconsin               2013\n",
       "Wyoming                 2002\n",
       "Name: user_id, dtype: int64"
      ]
     },
     "execution_count": 32,
     "metadata": {},
     "output_type": "execute_result"
    }
   ],
   "source": [
    "DF5.groupby('STATE')['user_id'].count()"
   ]
  },
  {
   "cell_type": "code",
   "execution_count": 33,
   "id": "5d005869",
   "metadata": {},
   "outputs": [],
   "source": [
    "bar15.figure.savefig(os.path.join(path, 'Prepared Data', 'MLS_UsersNumberState.png'))"
   ]
  },
  {
   "cell_type": "markdown",
   "id": "a2d601e3",
   "metadata": {},
   "source": [
    "### 7 Analyzing Mature Low Spenders  by n_dependants"
   ]
  },
  {
   "cell_type": "code",
   "execution_count": 34,
   "id": "2864b045",
   "metadata": {},
   "outputs": [],
   "source": [
    "df6=df[['user_id', 'n_dependants']]"
   ]
  },
  {
   "cell_type": "code",
   "execution_count": 35,
   "id": "8ffd07ba",
   "metadata": {},
   "outputs": [],
   "source": [
    "DF6=df6.drop_duplicates()"
   ]
  },
  {
   "cell_type": "code",
   "execution_count": 36,
   "id": "e705b023",
   "metadata": {},
   "outputs": [
    {
     "data": {
      "image/png": "[encoded data removed]",
      "text/plain": [
       "<Figure size 640x480 with 1 Axes>"
      ]
     },
     "metadata": {},
     "output_type": "display_data"
    }
   ],
   "source": [
    "pie16=df6.groupby(['n_dependants'])['user_id'].nunique().plot(kind='pie', autopct='%0.01f%%')"
   ]
  },
  {
   "cell_type": "code",
   "execution_count": 37,
   "id": "4144864c",
   "metadata": {},
   "outputs": [
    {
     "data": {
      "text/html": [
       "<div>\n",
       "<style scoped>\n",
       "    .dataframe tbody tr th:only-of-type {\n",
       "        vertical-align: middle;\n",
       "    }\n",
       "\n",
       "    .dataframe tbody tr th {\n",
       "        vertical-align: top;\n",
       "    }\n",
       "\n",
       "    .dataframe thead th {\n",
       "        text-align: right;\n",
       "    }\n",
       "</style>\n",
       "<table border=\"1\" class=\"dataframe\">\n",
       "  <thead>\n",
       "    <tr style=\"text-align: right;\">\n",
       "      <th></th>\n",
       "      <th>user_id</th>\n",
       "      <th>n_dependants</th>\n",
       "    </tr>\n",
       "  </thead>\n",
       "  <tbody>\n",
       "    <tr>\n",
       "      <th>0</th>\n",
       "      <td>26711</td>\n",
       "      <td>3</td>\n",
       "    </tr>\n",
       "    <tr>\n",
       "      <th>1</th>\n",
       "      <td>26711</td>\n",
       "      <td>3</td>\n",
       "    </tr>\n",
       "    <tr>\n",
       "      <th>2</th>\n",
       "      <td>26711</td>\n",
       "      <td>3</td>\n",
       "    </tr>\n",
       "    <tr>\n",
       "      <th>3</th>\n",
       "      <td>26711</td>\n",
       "      <td>3</td>\n",
       "    </tr>\n",
       "    <tr>\n",
       "      <th>4</th>\n",
       "      <td>26711</td>\n",
       "      <td>3</td>\n",
       "    </tr>\n",
       "    <tr>\n",
       "      <th>...</th>\n",
       "      <td>...</td>\n",
       "      <td>...</td>\n",
       "    </tr>\n",
       "    <tr>\n",
       "      <th>10907397</th>\n",
       "      <td>157930</td>\n",
       "      <td>0</td>\n",
       "    </tr>\n",
       "    <tr>\n",
       "      <th>10907398</th>\n",
       "      <td>157930</td>\n",
       "      <td>0</td>\n",
       "    </tr>\n",
       "    <tr>\n",
       "      <th>10907402</th>\n",
       "      <td>117766</td>\n",
       "      <td>0</td>\n",
       "    </tr>\n",
       "    <tr>\n",
       "      <th>10907403</th>\n",
       "      <td>117766</td>\n",
       "      <td>0</td>\n",
       "    </tr>\n",
       "    <tr>\n",
       "      <th>10907405</th>\n",
       "      <td>136418</td>\n",
       "      <td>3</td>\n",
       "    </tr>\n",
       "  </tbody>\n",
       "</table>\n",
       "<p>19543086 rows × 2 columns</p>\n",
       "</div>"
      ],
      "text/plain": [
       "          user_id  n_dependants\n",
       "0           26711             3\n",
       "1           26711             3\n",
       "2           26711             3\n",
       "3           26711             3\n",
       "4           26711             3\n",
       "...           ...           ...\n",
       "10907397   157930             0\n",
       "10907398   157930             0\n",
       "10907402   117766             0\n",
       "10907403   117766             0\n",
       "10907405   136418             3\n",
       "\n",
       "[19543086 rows x 2 columns]"
      ]
     },
     "execution_count": 37,
     "metadata": {},
     "output_type": "execute_result"
    }
   ],
   "source": [
    "df6"
   ]
  },
  {
   "cell_type": "code",
   "execution_count": 38,
   "id": "930f9006",
   "metadata": {},
   "outputs": [],
   "source": [
    "pie16.figure.savefig(os.path.join(path, 'Prepared Data', 'MLS_NDependansUsers.png'))"
   ]
  },
  {
   "cell_type": "code",
   "execution_count": 39,
   "id": "dadd0bd6",
   "metadata": {},
   "outputs": [
    {
     "data": {
      "text/plain": [
       "n_dependants\n",
       "0    25384\n",
       "1    25650\n",
       "2    25385\n",
       "3    25613\n",
       "Name: user_id, dtype: int64"
      ]
     },
     "execution_count": 39,
     "metadata": {},
     "output_type": "execute_result"
    }
   ],
   "source": [
    "DF6.groupby(['n_dependants'])['user_id'].count()"
   ]
  },
  {
   "cell_type": "markdown",
   "id": "69240cad",
   "metadata": {},
   "source": [
    "### 8 Days since prior order"
   ]
  },
  {
   "cell_type": "code",
   "execution_count": 40,
   "id": "38b4175f",
   "metadata": {},
   "outputs": [
    {
     "data": {
      "image/png": "[encoded data removed]",
      "text/plain": [
       "<Figure size 640x480 with 1 Axes>"
      ]
     },
     "metadata": {},
     "output_type": "display_data"
    }
   ],
   "source": [
    "line17=df.groupby('days_since_prior_order')['days_since_prior_order'].count().plot(kind='line')"
   ]
  },
  {
   "cell_type": "code",
   "execution_count": 41,
   "id": "4bc710c4",
   "metadata": {},
   "outputs": [
    {
     "data": {
      "text/plain": [
       "days_since_prior_order\n",
       "0     1326605\n",
       "1      588415\n",
       "2      913710\n",
       "3     1169466\n",
       "4     1300107\n",
       "5     1325668\n",
       "6     1566340\n",
       "7     2144854\n",
       "8     1188597\n",
       "9      750253\n",
       "10     594658\n",
       "11     499900\n",
       "12     468625\n",
       "13     516450\n",
       "14     625686\n",
       "15     407744\n",
       "16     277754\n",
       "17     230964\n",
       "18     213191\n",
       "19     200070\n",
       "20     228691\n",
       "21     266071\n",
       "22     185840\n",
       "23     134270\n",
       "24     115724\n",
       "25     107045\n",
       "26     105540\n",
       "27     121506\n",
       "28     149669\n",
       "29     103800\n",
       "30    1715873\n",
       "Name: days_since_prior_order, dtype: int64"
      ]
     },
     "execution_count": 41,
     "metadata": {},
     "output_type": "execute_result"
    }
   ],
   "source": [
    "df.groupby('days_since_prior_order')['days_since_prior_order'].count()"
   ]
  },
  {
   "cell_type": "code",
   "execution_count": 42,
   "id": "dc157699",
   "metadata": {},
   "outputs": [],
   "source": [
    "line17.figure.savefig(os.path.join(path, 'Prepared Data', 'MLS_DaysSincePriorOrder.png'))"
   ]
  },
  {
   "cell_type": "markdown",
   "id": "3d0c4597",
   "metadata": {},
   "source": [
    "### 9  Defining TOP products for client group\n"
   ]
  },
  {
   "cell_type": "markdown",
   "id": "f0621a1a",
   "metadata": {},
   "source": [
    " #### creating subset"
   ]
  },
  {
   "cell_type": "code",
   "execution_count": 43,
   "id": "b5303195",
   "metadata": {},
   "outputs": [],
   "source": [
    "df18=df[['product_name','product_id','prices']]"
   ]
  },
  {
   "cell_type": "code",
   "execution_count": 44,
   "id": "7a749b89",
   "metadata": {},
   "outputs": [
    {
     "data": {
      "text/html": [
       "<div>\n",
       "<style scoped>\n",
       "    .dataframe tbody tr th:only-of-type {\n",
       "        vertical-align: middle;\n",
       "    }\n",
       "\n",
       "    .dataframe tbody tr th {\n",
       "        vertical-align: top;\n",
       "    }\n",
       "\n",
       "    .dataframe thead th {\n",
       "        text-align: right;\n",
       "    }\n",
       "</style>\n",
       "<table border=\"1\" class=\"dataframe\">\n",
       "  <thead>\n",
       "    <tr style=\"text-align: right;\">\n",
       "      <th></th>\n",
       "      <th>product_name</th>\n",
       "      <th>product_id</th>\n",
       "      <th>prices</th>\n",
       "    </tr>\n",
       "  </thead>\n",
       "  <tbody>\n",
       "    <tr>\n",
       "      <th>0</th>\n",
       "      <td>Soda</td>\n",
       "      <td>196</td>\n",
       "      <td>9.0</td>\n",
       "    </tr>\n",
       "    <tr>\n",
       "      <th>1</th>\n",
       "      <td>0% Greek Strained Yogurt</td>\n",
       "      <td>38928</td>\n",
       "      <td>12.6</td>\n",
       "    </tr>\n",
       "    <tr>\n",
       "      <th>2</th>\n",
       "      <td></td>\n",
       "      <td>0</td>\n",
       "      <td>0.0</td>\n",
       "    </tr>\n",
       "    <tr>\n",
       "      <th>3</th>\n",
       "      <td>0% Greek Strained Yogurt</td>\n",
       "      <td>38928</td>\n",
       "      <td>12.6</td>\n",
       "    </tr>\n",
       "    <tr>\n",
       "      <th>4</th>\n",
       "      <td>0% Greek Strained Yogurt</td>\n",
       "      <td>38928</td>\n",
       "      <td>12.6</td>\n",
       "    </tr>\n",
       "    <tr>\n",
       "      <th>...</th>\n",
       "      <td>...</td>\n",
       "      <td>...</td>\n",
       "      <td>...</td>\n",
       "    </tr>\n",
       "    <tr>\n",
       "      <th>10907397</th>\n",
       "      <td>Plain Bagels</td>\n",
       "      <td>20738</td>\n",
       "      <td>7.0</td>\n",
       "    </tr>\n",
       "    <tr>\n",
       "      <th>10907398</th>\n",
       "      <td></td>\n",
       "      <td>0</td>\n",
       "      <td>0.0</td>\n",
       "    </tr>\n",
       "    <tr>\n",
       "      <th>10907402</th>\n",
       "      <td>Soda</td>\n",
       "      <td>196</td>\n",
       "      <td>9.0</td>\n",
       "    </tr>\n",
       "    <tr>\n",
       "      <th>10907403</th>\n",
       "      <td>Zero Calorie Cola</td>\n",
       "      <td>46149</td>\n",
       "      <td>13.4</td>\n",
       "    </tr>\n",
       "    <tr>\n",
       "      <th>10907405</th>\n",
       "      <td></td>\n",
       "      <td>0</td>\n",
       "      <td>0.0</td>\n",
       "    </tr>\n",
       "  </tbody>\n",
       "</table>\n",
       "<p>19543086 rows × 3 columns</p>\n",
       "</div>"
      ],
      "text/plain": [
       "                      product_name  product_id  prices\n",
       "0                             Soda         196     9.0\n",
       "1         0% Greek Strained Yogurt       38928    12.6\n",
       "2                                            0     0.0\n",
       "3         0% Greek Strained Yogurt       38928    12.6\n",
       "4         0% Greek Strained Yogurt       38928    12.6\n",
       "...                            ...         ...     ...\n",
       "10907397              Plain Bagels       20738     7.0\n",
       "10907398                                     0     0.0\n",
       "10907402                      Soda         196     9.0\n",
       "10907403         Zero Calorie Cola       46149    13.4\n",
       "10907405                                     0     0.0\n",
       "\n",
       "[19543086 rows x 3 columns]"
      ]
     },
     "execution_count": 44,
     "metadata": {},
     "output_type": "execute_result"
    }
   ],
   "source": [
    "df18"
   ]
  },
  {
   "cell_type": "markdown",
   "id": "4d3ed604",
   "metadata": {},
   "source": [
    "#### identifying the most populare products counting orders rows  and selecting 10 TOP "
   ]
  },
  {
   "cell_type": "code",
   "execution_count": 45,
   "id": "06b51c03",
   "metadata": {},
   "outputs": [],
   "source": [
    "DF18=df18.groupby('product_name')['prices'].count().sort_values( ascending=False).reset_index().drop(index=2).head(10)"
   ]
  },
  {
   "cell_type": "code",
   "execution_count": 46,
   "id": "6fdf1577",
   "metadata": {},
   "outputs": [
    {
     "data": {
      "text/html": [
       "<div>\n",
       "<style scoped>\n",
       "    .dataframe tbody tr th:only-of-type {\n",
       "        vertical-align: middle;\n",
       "    }\n",
       "\n",
       "    .dataframe tbody tr th {\n",
       "        vertical-align: top;\n",
       "    }\n",
       "\n",
       "    .dataframe thead th {\n",
       "        text-align: right;\n",
       "    }\n",
       "</style>\n",
       "<table border=\"1\" class=\"dataframe\">\n",
       "  <thead>\n",
       "    <tr style=\"text-align: right;\">\n",
       "      <th></th>\n",
       "      <th>product_name</th>\n",
       "      <th>prices</th>\n",
       "    </tr>\n",
       "  </thead>\n",
       "  <tbody>\n",
       "    <tr>\n",
       "      <th>0</th>\n",
       "      <td>Banana</td>\n",
       "      <td>283893</td>\n",
       "    </tr>\n",
       "    <tr>\n",
       "      <th>1</th>\n",
       "      <td>Bag of Organic Bananas</td>\n",
       "      <td>231704</td>\n",
       "    </tr>\n",
       "    <tr>\n",
       "      <th>3</th>\n",
       "      <td>Organic Baby Spinach</td>\n",
       "      <td>147147</td>\n",
       "    </tr>\n",
       "    <tr>\n",
       "      <th>4</th>\n",
       "      <td>Organic Hass Avocado</td>\n",
       "      <td>132255</td>\n",
       "    </tr>\n",
       "    <tr>\n",
       "      <th>5</th>\n",
       "      <td></td>\n",
       "      <td>120232</td>\n",
       "    </tr>\n",
       "    <tr>\n",
       "      <th>6</th>\n",
       "      <td>Organic Avocado</td>\n",
       "      <td>105661</td>\n",
       "    </tr>\n",
       "    <tr>\n",
       "      <th>7</th>\n",
       "      <td>Large Lemon</td>\n",
       "      <td>91164</td>\n",
       "    </tr>\n",
       "    <tr>\n",
       "      <th>8</th>\n",
       "      <td>Strawberries</td>\n",
       "      <td>86580</td>\n",
       "    </tr>\n",
       "    <tr>\n",
       "      <th>9</th>\n",
       "      <td>Limes</td>\n",
       "      <td>84623</td>\n",
       "    </tr>\n",
       "    <tr>\n",
       "      <th>10</th>\n",
       "      <td>Organic Whole Milk</td>\n",
       "      <td>83975</td>\n",
       "    </tr>\n",
       "  </tbody>\n",
       "</table>\n",
       "</div>"
      ],
      "text/plain": [
       "              product_name  prices\n",
       "0                   Banana  283893\n",
       "1   Bag of Organic Bananas  231704\n",
       "3     Organic Baby Spinach  147147\n",
       "4     Organic Hass Avocado  132255\n",
       "5                           120232\n",
       "6          Organic Avocado  105661\n",
       "7              Large Lemon   91164\n",
       "8             Strawberries   86580\n",
       "9                    Limes   84623\n",
       "10      Organic Whole Milk   83975"
      ]
     },
     "execution_count": 46,
     "metadata": {},
     "output_type": "execute_result"
    }
   ],
   "source": [
    "DF18"
   ]
  },
  {
   "cell_type": "code",
   "execution_count": 47,
   "id": "60cacae4",
   "metadata": {},
   "outputs": [],
   "source": [
    "DF18=DF18.rename(columns={'prices':'count_orders'})"
   ]
  },
  {
   "cell_type": "code",
   "execution_count": 48,
   "id": "98a790fb",
   "metadata": {},
   "outputs": [
    {
     "data": {
      "text/html": [
       "<div>\n",
       "<style scoped>\n",
       "    .dataframe tbody tr th:only-of-type {\n",
       "        vertical-align: middle;\n",
       "    }\n",
       "\n",
       "    .dataframe tbody tr th {\n",
       "        vertical-align: top;\n",
       "    }\n",
       "\n",
       "    .dataframe thead th {\n",
       "        text-align: right;\n",
       "    }\n",
       "</style>\n",
       "<table border=\"1\" class=\"dataframe\">\n",
       "  <thead>\n",
       "    <tr style=\"text-align: right;\">\n",
       "      <th></th>\n",
       "      <th>product_name</th>\n",
       "      <th>count_orders</th>\n",
       "    </tr>\n",
       "  </thead>\n",
       "  <tbody>\n",
       "    <tr>\n",
       "      <th>0</th>\n",
       "      <td>Banana</td>\n",
       "      <td>283893</td>\n",
       "    </tr>\n",
       "    <tr>\n",
       "      <th>1</th>\n",
       "      <td>Bag of Organic Bananas</td>\n",
       "      <td>231704</td>\n",
       "    </tr>\n",
       "    <tr>\n",
       "      <th>3</th>\n",
       "      <td>Organic Baby Spinach</td>\n",
       "      <td>147147</td>\n",
       "    </tr>\n",
       "    <tr>\n",
       "      <th>4</th>\n",
       "      <td>Organic Hass Avocado</td>\n",
       "      <td>132255</td>\n",
       "    </tr>\n",
       "    <tr>\n",
       "      <th>5</th>\n",
       "      <td></td>\n",
       "      <td>120232</td>\n",
       "    </tr>\n",
       "    <tr>\n",
       "      <th>6</th>\n",
       "      <td>Organic Avocado</td>\n",
       "      <td>105661</td>\n",
       "    </tr>\n",
       "    <tr>\n",
       "      <th>7</th>\n",
       "      <td>Large Lemon</td>\n",
       "      <td>91164</td>\n",
       "    </tr>\n",
       "    <tr>\n",
       "      <th>8</th>\n",
       "      <td>Strawberries</td>\n",
       "      <td>86580</td>\n",
       "    </tr>\n",
       "    <tr>\n",
       "      <th>9</th>\n",
       "      <td>Limes</td>\n",
       "      <td>84623</td>\n",
       "    </tr>\n",
       "    <tr>\n",
       "      <th>10</th>\n",
       "      <td>Organic Whole Milk</td>\n",
       "      <td>83975</td>\n",
       "    </tr>\n",
       "  </tbody>\n",
       "</table>\n",
       "</div>"
      ],
      "text/plain": [
       "              product_name  count_orders\n",
       "0                   Banana        283893\n",
       "1   Bag of Organic Bananas        231704\n",
       "3     Organic Baby Spinach        147147\n",
       "4     Organic Hass Avocado        132255\n",
       "5                                 120232\n",
       "6          Organic Avocado        105661\n",
       "7              Large Lemon         91164\n",
       "8             Strawberries         86580\n",
       "9                    Limes         84623\n",
       "10      Organic Whole Milk         83975"
      ]
     },
     "execution_count": 48,
     "metadata": {},
     "output_type": "execute_result"
    }
   ],
   "source": [
    "DF18"
   ]
  },
  {
   "cell_type": "markdown",
   "id": "9976d6c9",
   "metadata": {},
   "source": [
    "#### -creating plot"
   ]
  },
  {
   "cell_type": "code",
   "execution_count": 49,
   "id": "e3ea4809",
   "metadata": {},
   "outputs": [
    {
     "data": {
      "image/png": "[encoded data removed]",
      "text/plain": [
       "<Figure size 640x480 with 1 Axes>"
      ]
     },
     "metadata": {},
     "output_type": "display_data"
    }
   ],
   "source": [
    "Bar21=DF18.plot.barh(x='product_name')"
   ]
  },
  {
   "cell_type": "code",
   "execution_count": 50,
   "id": "ead1aa38",
   "metadata": {},
   "outputs": [],
   "source": [
    "Bar21.figure.savefig(os.path.join(path, 'Prepared Data', 'MLS_Products.png'))"
   ]
  },
  {
   "cell_type": "markdown",
   "id": "0fe223b8",
   "metadata": {},
   "source": [
    "#### droping duplicates"
   ]
  },
  {
   "cell_type": "code",
   "execution_count": 51,
   "id": "231594da",
   "metadata": {},
   "outputs": [],
   "source": [
    "df19=df18.drop_duplicates()"
   ]
  },
  {
   "cell_type": "code",
   "execution_count": 52,
   "id": "0375d652",
   "metadata": {},
   "outputs": [
    {
     "data": {
      "text/html": [
       "<div>\n",
       "<style scoped>\n",
       "    .dataframe tbody tr th:only-of-type {\n",
       "        vertical-align: middle;\n",
       "    }\n",
       "\n",
       "    .dataframe tbody tr th {\n",
       "        vertical-align: top;\n",
       "    }\n",
       "\n",
       "    .dataframe thead th {\n",
       "        text-align: right;\n",
       "    }\n",
       "</style>\n",
       "<table border=\"1\" class=\"dataframe\">\n",
       "  <thead>\n",
       "    <tr style=\"text-align: right;\">\n",
       "      <th></th>\n",
       "      <th>product_name</th>\n",
       "      <th>product_id</th>\n",
       "      <th>prices</th>\n",
       "    </tr>\n",
       "  </thead>\n",
       "  <tbody>\n",
       "    <tr>\n",
       "      <th>0</th>\n",
       "      <td>Soda</td>\n",
       "      <td>196</td>\n",
       "      <td>9.0</td>\n",
       "    </tr>\n",
       "    <tr>\n",
       "      <th>1</th>\n",
       "      <td>0% Greek Strained Yogurt</td>\n",
       "      <td>38928</td>\n",
       "      <td>12.6</td>\n",
       "    </tr>\n",
       "    <tr>\n",
       "      <th>2</th>\n",
       "      <td></td>\n",
       "      <td>0</td>\n",
       "      <td>0.0</td>\n",
       "    </tr>\n",
       "    <tr>\n",
       "      <th>5</th>\n",
       "      <td>Clementines</td>\n",
       "      <td>6184</td>\n",
       "      <td>4.3</td>\n",
       "    </tr>\n",
       "    <tr>\n",
       "      <th>6</th>\n",
       "      <td>Assorted Nuggets</td>\n",
       "      <td>8617</td>\n",
       "      <td>4.0</td>\n",
       "    </tr>\n",
       "    <tr>\n",
       "      <th>...</th>\n",
       "      <td>...</td>\n",
       "      <td>...</td>\n",
       "      <td>...</td>\n",
       "    </tr>\n",
       "    <tr>\n",
       "      <th>10809894</th>\n",
       "      <td>Organic Baked Sour Cream &amp; Onion Potato Chips</td>\n",
       "      <td>17885</td>\n",
       "      <td>3.0</td>\n",
       "    </tr>\n",
       "    <tr>\n",
       "      <th>10841690</th>\n",
       "      <td>Vegan Potato</td>\n",
       "      <td>44569</td>\n",
       "      <td>6.7</td>\n",
       "    </tr>\n",
       "    <tr>\n",
       "      <th>10876919</th>\n",
       "      <td>Dry Roasted Goji Blend Edamame</td>\n",
       "      <td>45897</td>\n",
       "      <td>2.1</td>\n",
       "    </tr>\n",
       "    <tr>\n",
       "      <th>10879578</th>\n",
       "      <td>Go Bar Chocolate Brownie</td>\n",
       "      <td>45602</td>\n",
       "      <td>2.5</td>\n",
       "    </tr>\n",
       "    <tr>\n",
       "      <th>10905251</th>\n",
       "      <td>Super Nutrition Vanilla Shake</td>\n",
       "      <td>25888</td>\n",
       "      <td>6.4</td>\n",
       "    </tr>\n",
       "  </tbody>\n",
       "</table>\n",
       "<p>49348 rows × 3 columns</p>\n",
       "</div>"
      ],
      "text/plain": [
       "                                           product_name  product_id  prices\n",
       "0                                                  Soda         196     9.0\n",
       "1                              0% Greek Strained Yogurt       38928    12.6\n",
       "2                                                                 0     0.0\n",
       "5                                           Clementines        6184     4.3\n",
       "6                                      Assorted Nuggets        8617     4.0\n",
       "...                                                 ...         ...     ...\n",
       "10809894  Organic Baked Sour Cream & Onion Potato Chips       17885     3.0\n",
       "10841690                                   Vegan Potato       44569     6.7\n",
       "10876919                 Dry Roasted Goji Blend Edamame       45897     2.1\n",
       "10879578                       Go Bar Chocolate Brownie       45602     2.5\n",
       "10905251                  Super Nutrition Vanilla Shake       25888     6.4\n",
       "\n",
       "[49348 rows x 3 columns]"
      ]
     },
     "execution_count": 52,
     "metadata": {},
     "output_type": "execute_result"
    }
   ],
   "source": [
    "df19"
   ]
  },
  {
   "cell_type": "markdown",
   "id": "e5494db5",
   "metadata": {},
   "source": [
    "#### sorting by descending order to see TOP products"
   ]
  },
  {
   "cell_type": "code",
   "execution_count": 53,
   "id": "43dbb919",
   "metadata": {},
   "outputs": [
    {
     "data": {
      "text/html": [
       "<div>\n",
       "<style scoped>\n",
       "    .dataframe tbody tr th:only-of-type {\n",
       "        vertical-align: middle;\n",
       "    }\n",
       "\n",
       "    .dataframe tbody tr th {\n",
       "        vertical-align: top;\n",
       "    }\n",
       "\n",
       "    .dataframe thead th {\n",
       "        text-align: right;\n",
       "    }\n",
       "</style>\n",
       "<table border=\"1\" class=\"dataframe\">\n",
       "  <thead>\n",
       "    <tr style=\"text-align: right;\">\n",
       "      <th></th>\n",
       "      <th>product_name</th>\n",
       "      <th>product_id</th>\n",
       "      <th>prices</th>\n",
       "    </tr>\n",
       "  </thead>\n",
       "  <tbody>\n",
       "  </tbody>\n",
       "</table>\n",
       "</div>"
      ],
      "text/plain": [
       "Empty DataFrame\n",
       "Columns: [product_name, product_id, prices]\n",
       "Index: []"
      ]
     },
     "execution_count": 53,
     "metadata": {},
     "output_type": "execute_result"
    }
   ],
   "source": [
    "df19.loc[df19['prices']>=1000].sort_values(by='prices', ascending=False).head(10)"
   ]
  },
  {
   "cell_type": "code",
   "execution_count": null,
   "id": "2fea46c3",
   "metadata": {},
   "outputs": [],
   "source": []
  },
  {
   "cell_type": "code",
   "execution_count": null,
   "id": "30a99396",
   "metadata": {},
   "outputs": [],
   "source": []
  }
 ],
 "metadata": {
  "kernelspec": {
   "display_name": "Python 3 (ipykernel)",
   "language": "python",
   "name": "python3"
  },
  "language_info": {
   "codemirror_mode": {
    "name": "ipython",
    "version": 3
   },
   "file_extension": ".py",
   "mimetype": "text/x-python",
   "name": "python",
   "nbconvert_exporter": "python",
   "pygments_lexer": "ipython3",
   "version": "3.10.9"
  }
 },
 "nbformat": 4,
 "nbformat_minor": 5
}
