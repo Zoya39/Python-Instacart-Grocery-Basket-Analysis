{
 "cells": [
  {
   "cell_type": "markdown",
   "id": "6961abc7",
   "metadata": {},
   "source": [
    "### 4.3 IC  Import Data and Descriptive Analysis \n",
    "#### 4.3 IC-1 Importing libraries\n",
    "#### 4.3 IC-2 Importing files to library\n",
    "#### 4.3 IC-3 Creating list and importing it\n",
    "#### 4.3 IC-4 Printing 5 rows\n",
    "#### 4.3 IC-5 Import Products Data\n",
    "#### 4.3 IC-6 Printing first and last rows, columns names, rows/colums number\n",
    "#### 4.3 IC-7 Answering the questions"
   ]
  },
  {
   "cell_type": "markdown",
   "id": "728c90f1",
   "metadata": {},
   "source": [
    "### 4.3 IC-1 Importing libraries"
   ]
  },
  {
   "cell_type": "code",
   "execution_count": 2,
   "id": "360a78f9",
   "metadata": {},
   "outputs": [],
   "source": [
    "#import libraies\n",
    "import pandas as pd\n",
    "import numpy as nd\n",
    "import os"
   ]
  },
  {
   "cell_type": "markdown",
   "id": "07e12900",
   "metadata": {},
   "source": [
    "### 4.3 IC-2 Importing files to library"
   ]
  },
  {
   "cell_type": "code",
   "execution_count": 4,
   "id": "1e53a54d",
   "metadata": {},
   "outputs": [],
   "source": [
    "path=r'C:\\Users\\user\\07-2023 Instacart Basket Analysis'"
   ]
  },
  {
   "cell_type": "code",
   "execution_count": 5,
   "id": "e6c63ef7",
   "metadata": {},
   "outputs": [
    {
     "data": {
      "text/plain": [
       "'C:\\\\Users\\\\user\\\\07-2023 Instacart Basket Analysis'"
      ]
     },
     "execution_count": 5,
     "metadata": {},
     "output_type": "execute_result"
    }
   ],
   "source": [
    "path\n"
   ]
  },
  {
   "cell_type": "markdown",
   "id": "00e1ad98",
   "metadata": {},
   "source": [
    "### 4.3 IC-3 Creating list and importing it"
   ]
  },
  {
   "cell_type": "code",
   "execution_count": 7,
   "id": "af473733",
   "metadata": {},
   "outputs": [],
   "source": [
    "var_list=['order_id', 'user_id', 'order_number', 'order_dow',\n",
    "       'order_hour_of_day', 'days_since_prior_order']"
   ]
  },
  {
   "cell_type": "code",
   "execution_count": 8,
   "id": "1d4aee5b",
   "metadata": {},
   "outputs": [
    {
     "data": {
      "text/plain": [
       "['order_id',\n",
       " 'user_id',\n",
       " 'order_number',\n",
       " 'order_dow',\n",
       " 'order_hour_of_day',\n",
       " 'days_since_prior_order']"
      ]
     },
     "execution_count": 8,
     "metadata": {},
     "output_type": "execute_result"
    }
   ],
   "source": [
    "var_list"
   ]
  },
  {
   "cell_type": "code",
   "execution_count": 9,
   "id": "045be0c5",
   "metadata": {},
   "outputs": [],
   "source": [
    "df=pd.read_csv(os.path.join(path,'02 Data','Original Data','orders.csv'), usecols=var_list)"
   ]
  },
  {
   "cell_type": "markdown",
   "id": "3cf8a87d",
   "metadata": {},
   "source": [
    "### 4.3 IC-4 Printing 5 rows"
   ]
  },
  {
   "cell_type": "code",
   "execution_count": 11,
   "id": "98664300",
   "metadata": {},
   "outputs": [
    {
     "data": {
      "text/html": [
       "<div>\n",
       "<style scoped>\n",
       "    .dataframe tbody tr th:only-of-type {\n",
       "        vertical-align: middle;\n",
       "    }\n",
       "\n",
       "    .dataframe tbody tr th {\n",
       "        vertical-align: top;\n",
       "    }\n",
       "\n",
       "    .dataframe thead th {\n",
       "        text-align: right;\n",
       "    }\n",
       "</style>\n",
       "<table border=\"1\" class=\"dataframe\">\n",
       "  <thead>\n",
       "    <tr style=\"text-align: right;\">\n",
       "      <th></th>\n",
       "      <th>order_id</th>\n",
       "      <th>user_id</th>\n",
       "      <th>order_number</th>\n",
       "      <th>order_dow</th>\n",
       "      <th>order_hour_of_day</th>\n",
       "      <th>days_since_prior_order</th>\n",
       "    </tr>\n",
       "  </thead>\n",
       "  <tbody>\n",
       "    <tr>\n",
       "      <th>0</th>\n",
       "      <td>2539329</td>\n",
       "      <td>1</td>\n",
       "      <td>1</td>\n",
       "      <td>2</td>\n",
       "      <td>8</td>\n",
       "      <td>NaN</td>\n",
       "    </tr>\n",
       "    <tr>\n",
       "      <th>1</th>\n",
       "      <td>2398795</td>\n",
       "      <td>1</td>\n",
       "      <td>2</td>\n",
       "      <td>3</td>\n",
       "      <td>7</td>\n",
       "      <td>15.0</td>\n",
       "    </tr>\n",
       "    <tr>\n",
       "      <th>2</th>\n",
       "      <td>473747</td>\n",
       "      <td>1</td>\n",
       "      <td>3</td>\n",
       "      <td>3</td>\n",
       "      <td>12</td>\n",
       "      <td>21.0</td>\n",
       "    </tr>\n",
       "    <tr>\n",
       "      <th>3</th>\n",
       "      <td>2254736</td>\n",
       "      <td>1</td>\n",
       "      <td>4</td>\n",
       "      <td>4</td>\n",
       "      <td>7</td>\n",
       "      <td>29.0</td>\n",
       "    </tr>\n",
       "    <tr>\n",
       "      <th>4</th>\n",
       "      <td>431534</td>\n",
       "      <td>1</td>\n",
       "      <td>5</td>\n",
       "      <td>4</td>\n",
       "      <td>15</td>\n",
       "      <td>28.0</td>\n",
       "    </tr>\n",
       "  </tbody>\n",
       "</table>\n",
       "</div>"
      ],
      "text/plain": [
       "   order_id  user_id  order_number  order_dow  order_hour_of_day  \\\n",
       "0   2539329        1             1          2                  8   \n",
       "1   2398795        1             2          3                  7   \n",
       "2    473747        1             3          3                 12   \n",
       "3   2254736        1             4          4                  7   \n",
       "4    431534        1             5          4                 15   \n",
       "\n",
       "   days_since_prior_order  \n",
       "0                     NaN  \n",
       "1                    15.0  \n",
       "2                    21.0  \n",
       "3                    29.0  \n",
       "4                    28.0  "
      ]
     },
     "execution_count": 11,
     "metadata": {},
     "output_type": "execute_result"
    }
   ],
   "source": [
    "df.head (5)"
   ]
  },
  {
   "cell_type": "markdown",
   "id": "5e228ecc",
   "metadata": {},
   "source": [
    "### 4.3 IC-5 Import Products Data"
   ]
  },
  {
   "cell_type": "code",
   "execution_count": 14,
   "id": "6523fb05",
   "metadata": {},
   "outputs": [],
   "source": [
    "df_prod=pd.read_csv(os.path.join(path,'02 Data','Original Data','products.csv'), index_col=False)"
   ]
  },
  {
   "cell_type": "markdown",
   "id": "92cc0b97",
   "metadata": {},
   "source": [
    "### 4.3 IC-6 Printing the first 20 rows and last 35 rows"
   ]
  },
  {
   "cell_type": "code",
   "execution_count": 16,
   "id": "29ea629a",
   "metadata": {},
   "outputs": [
    {
     "data": {
      "text/plain": [
       "(    order_id  user_id  order_number  order_dow  order_hour_of_day  \\\n",
       " 0    2539329        1             1          2                  8   \n",
       " 1    2398795        1             2          3                  7   \n",
       " 2     473747        1             3          3                 12   \n",
       " 3    2254736        1             4          4                  7   \n",
       " 4     431534        1             5          4                 15   \n",
       " 5    3367565        1             6          2                  7   \n",
       " 6     550135        1             7          1                  9   \n",
       " 7    3108588        1             8          1                 14   \n",
       " 8    2295261        1             9          1                 16   \n",
       " 9    2550362        1            10          4                  8   \n",
       " 10   1187899        1            11          4                  8   \n",
       " 11   2168274        2             1          2                 11   \n",
       " 12   1501582        2             2          5                 10   \n",
       " 13   1901567        2             3          1                 10   \n",
       " 14    738281        2             4          2                 10   \n",
       " 15   1673511        2             5          3                 11   \n",
       " 16   1199898        2             6          2                  9   \n",
       " 17   3194192        2             7          2                 12   \n",
       " 18    788338        2             8          1                 15   \n",
       " 19   1718559        2             9          2                  9   \n",
       " \n",
       "     days_since_prior_order  \n",
       " 0                      NaN  \n",
       " 1                     15.0  \n",
       " 2                     21.0  \n",
       " 3                     29.0  \n",
       " 4                     28.0  \n",
       " 5                     19.0  \n",
       " 6                     20.0  \n",
       " 7                     14.0  \n",
       " 8                      0.0  \n",
       " 9                     30.0  \n",
       " 10                    14.0  \n",
       " 11                     NaN  \n",
       " 12                    10.0  \n",
       " 13                     3.0  \n",
       " 14                     8.0  \n",
       " 15                     8.0  \n",
       " 16                    13.0  \n",
       " 17                    14.0  \n",
       " 18                    27.0  \n",
       " 19                     8.0  ,\n",
       "          order_id  user_id  order_number  order_dow  order_hour_of_day  \\\n",
       " 3421048    726186   206208            30          0                 16   \n",
       " 3421049   2523609   206208            31          4                 11   \n",
       " 3421050    756221   206208            32          6                 18   \n",
       " 3421051   2254244   206208            33          6                 13   \n",
       " 3421052   2017995   206208            34          6                 15   \n",
       " 3421053   2789700   206208            35          3                 22   \n",
       " 3421054    844592   206208            36          6                 15   \n",
       " 3421055   1541132   206208            37          2                 12   \n",
       " 3421056   2808240   206208            38          0                 15   \n",
       " 3421057   3027766   206208            39          2                 14   \n",
       " 3421058   3356245   206208            40          5                  9   \n",
       " 3421059    442304   206208            41          2                 14   \n",
       " 3421060   2675140   206208            42          1                 19   \n",
       " 3421061    167903   206208            43          4                 14   \n",
       " 3421062   2393201   206208            44          6                 16   \n",
       " 3421063   3292671   206208            45          2                 11   \n",
       " 3421064   3059777   206208            46          1                 10   \n",
       " 3421065   2239861   206208            47          3                  4   \n",
       " 3421066   1285346   206208            48          1                 11   \n",
       " 3421067   1882108   206208            49          1                 22   \n",
       " 3421068    803273   206208            50          5                 11   \n",
       " 3421069   3154581   206209             1          3                 11   \n",
       " 3421070   1889163   206209             2          3                 17   \n",
       " 3421071   1542354   206209             3          5                 11   \n",
       " 3421072    688306   206209             4          1                 10   \n",
       " 3421073   2307371   206209             5          4                 15   \n",
       " 3421074   3186442   206209             6          0                 16   \n",
       " 3421075    550836   206209             7          2                 13   \n",
       " 3421076   2129269   206209             8          3                 17   \n",
       " 3421077   2558525   206209             9          4                 15   \n",
       " 3421078   2266710   206209            10          5                 18   \n",
       " 3421079   1854736   206209            11          4                 10   \n",
       " 3421080    626363   206209            12          1                 12   \n",
       " 3421081   2977660   206209            13          1                 12   \n",
       " 3421082    272231   206209            14          6                 14   \n",
       " \n",
       "          days_since_prior_order  \n",
       " 3421048                     3.0  \n",
       " 3421049                     4.0  \n",
       " 3421050                     9.0  \n",
       " 3421051                     7.0  \n",
       " 3421052                     7.0  \n",
       " 3421053                     4.0  \n",
       " 3421054                    10.0  \n",
       " 3421055                     3.0  \n",
       " 3421056                    19.0  \n",
       " 3421057                     9.0  \n",
       " 3421058                    10.0  \n",
       " 3421059                    11.0  \n",
       " 3421060                     6.0  \n",
       " 3421061                     3.0  \n",
       " 3421062                     2.0  \n",
       " 3421063                     3.0  \n",
       " 3421064                    13.0  \n",
       " 3421065                     9.0  \n",
       " 3421066                     5.0  \n",
       " 3421067                     7.0  \n",
       " 3421068                     4.0  \n",
       " 3421069                     NaN  \n",
       " 3421070                     7.0  \n",
       " 3421071                    30.0  \n",
       " 3421072                    30.0  \n",
       " 3421073                     3.0  \n",
       " 3421074                     3.0  \n",
       " 3421075                     9.0  \n",
       " 3421076                    22.0  \n",
       " 3421077                    22.0  \n",
       " 3421078                    29.0  \n",
       " 3421079                    30.0  \n",
       " 3421080                    18.0  \n",
       " 3421081                     7.0  \n",
       " 3421082                    30.0  )"
      ]
     },
     "execution_count": 16,
     "metadata": {},
     "output_type": "execute_result"
    }
   ],
   "source": [
    "df.head(20),df.tail(35)"
   ]
  },
  {
   "cell_type": "markdown",
   "id": "7964d19f",
   "metadata": {},
   "source": [
    "#### --printing products colum names"
   ]
  },
  {
   "cell_type": "code",
   "execution_count": 20,
   "id": "633c0492",
   "metadata": {},
   "outputs": [
    {
     "data": {
      "text/plain": [
       "Index(['product_id', 'product_name', 'aisle_id', 'department_id', 'prices'], dtype='object')"
      ]
     },
     "execution_count": 20,
     "metadata": {},
     "output_type": "execute_result"
    }
   ],
   "source": [
    "df_prod.columns"
   ]
  },
  {
   "cell_type": "markdown",
   "id": "d68d8f08",
   "metadata": {},
   "source": [
    "#### --#printing rows/colums number"
   ]
  },
  {
   "cell_type": "code",
   "execution_count": 21,
   "id": "32de47f0",
   "metadata": {},
   "outputs": [
    {
     "data": {
      "text/plain": [
       "(49693, 5)"
      ]
     },
     "execution_count": 21,
     "metadata": {},
     "output_type": "execute_result"
    }
   ],
   "source": [
    "df_prod.shape"
   ]
  },
  {
   "cell_type": "markdown",
   "id": "a0678d49",
   "metadata": {},
   "source": [
    "### 4.3 Answering the questions "
   ]
  },
  {
   "cell_type": "markdown",
   "id": "30042142",
   "metadata": {},
   "source": [
    "#### --What’s the maximum value of the “aisle_id” column?"
   ]
  },
  {
   "cell_type": "code",
   "execution_count": 23,
   "id": "cfaca23d",
   "metadata": {},
   "outputs": [
    {
     "data": {
      "text/html": [
       "<div>\n",
       "<style scoped>\n",
       "    .dataframe tbody tr th:only-of-type {\n",
       "        vertical-align: middle;\n",
       "    }\n",
       "\n",
       "    .dataframe tbody tr th {\n",
       "        vertical-align: top;\n",
       "    }\n",
       "\n",
       "    .dataframe thead th {\n",
       "        text-align: right;\n",
       "    }\n",
       "</style>\n",
       "<table border=\"1\" class=\"dataframe\">\n",
       "  <thead>\n",
       "    <tr style=\"text-align: right;\">\n",
       "      <th></th>\n",
       "      <th>product_id</th>\n",
       "      <th>aisle_id</th>\n",
       "      <th>department_id</th>\n",
       "      <th>prices</th>\n",
       "    </tr>\n",
       "  </thead>\n",
       "  <tbody>\n",
       "    <tr>\n",
       "      <th>count</th>\n",
       "      <td>49693.000000</td>\n",
       "      <td>49693.000000</td>\n",
       "      <td>49693.000000</td>\n",
       "      <td>49693.000000</td>\n",
       "    </tr>\n",
       "    <tr>\n",
       "      <th>mean</th>\n",
       "      <td>24844.345139</td>\n",
       "      <td>67.770249</td>\n",
       "      <td>11.728433</td>\n",
       "      <td>9.994136</td>\n",
       "    </tr>\n",
       "    <tr>\n",
       "      <th>std</th>\n",
       "      <td>14343.717401</td>\n",
       "      <td>38.316774</td>\n",
       "      <td>5.850282</td>\n",
       "      <td>453.519686</td>\n",
       "    </tr>\n",
       "    <tr>\n",
       "      <th>min</th>\n",
       "      <td>1.000000</td>\n",
       "      <td>1.000000</td>\n",
       "      <td>1.000000</td>\n",
       "      <td>1.000000</td>\n",
       "    </tr>\n",
       "    <tr>\n",
       "      <th>25%</th>\n",
       "      <td>12423.000000</td>\n",
       "      <td>35.000000</td>\n",
       "      <td>7.000000</td>\n",
       "      <td>4.100000</td>\n",
       "    </tr>\n",
       "    <tr>\n",
       "      <th>50%</th>\n",
       "      <td>24845.000000</td>\n",
       "      <td>69.000000</td>\n",
       "      <td>13.000000</td>\n",
       "      <td>7.100000</td>\n",
       "    </tr>\n",
       "    <tr>\n",
       "      <th>75%</th>\n",
       "      <td>37265.000000</td>\n",
       "      <td>100.000000</td>\n",
       "      <td>17.000000</td>\n",
       "      <td>11.200000</td>\n",
       "    </tr>\n",
       "    <tr>\n",
       "      <th>max</th>\n",
       "      <td>49688.000000</td>\n",
       "      <td>134.000000</td>\n",
       "      <td>21.000000</td>\n",
       "      <td>99999.000000</td>\n",
       "    </tr>\n",
       "  </tbody>\n",
       "</table>\n",
       "</div>"
      ],
      "text/plain": [
       "         product_id      aisle_id  department_id        prices\n",
       "count  49693.000000  49693.000000   49693.000000  49693.000000\n",
       "mean   24844.345139     67.770249      11.728433      9.994136\n",
       "std    14343.717401     38.316774       5.850282    453.519686\n",
       "min        1.000000      1.000000       1.000000      1.000000\n",
       "25%    12423.000000     35.000000       7.000000      4.100000\n",
       "50%    24845.000000     69.000000      13.000000      7.100000\n",
       "75%    37265.000000    100.000000      17.000000     11.200000\n",
       "max    49688.000000    134.000000      21.000000  99999.000000"
      ]
     },
     "execution_count": 23,
     "metadata": {},
     "output_type": "execute_result"
    }
   ],
   "source": [
    "df_prod.describe()"
   ]
  },
  {
   "cell_type": "markdown",
   "id": "5db6e12a",
   "metadata": {},
   "source": [
    "#### the maximum value of the “aisle_id” column is 134.000000"
   ]
  },
  {
   "cell_type": "markdown",
   "id": "1c856fee",
   "metadata": {},
   "source": [
    "#### -- What’s the data type of the “department_id” column?"
   ]
  },
  {
   "cell_type": "code",
   "execution_count": 24,
   "id": "b3d4a460",
   "metadata": {},
   "outputs": [
    {
     "data": {
      "text/plain": [
       "product_id         int64\n",
       "product_name      object\n",
       "aisle_id           int64\n",
       "department_id      int64\n",
       "prices           float64\n",
       "dtype: object"
      ]
     },
     "execution_count": 24,
     "metadata": {},
     "output_type": "execute_result"
    }
   ],
   "source": [
    "df_prod.dtypes"
   ]
  },
  {
   "cell_type": "markdown",
   "id": "739b9d63",
   "metadata": {},
   "source": [
    "#### The data type of the “department_id” column is integer 64"
   ]
  },
  {
   "cell_type": "code",
   "execution_count": null,
   "id": "c371f57f",
   "metadata": {},
   "outputs": [],
   "source": []
  },
  {
   "cell_type": "markdown",
   "id": "468fd08b",
   "metadata": {},
   "source": [
    "### Thank you. Have a nice day!"
   ]
  },
  {
   "cell_type": "code",
   "execution_count": null,
   "id": "9041f411",
   "metadata": {},
   "outputs": [],
   "source": []
  },
  {
   "cell_type": "code",
   "execution_count": null,
   "id": "e8d8e172",
   "metadata": {},
   "outputs": [],
   "source": []
  },
  {
   "cell_type": "code",
   "execution_count": null,
   "id": "ed389b00",
   "metadata": {},
   "outputs": [],
   "source": []
  }
 ],
 "metadata": {
  "kernelspec": {
   "display_name": "Python 3 (ipykernel)",
   "language": "python",
   "name": "python3"
  },
  "language_info": {
   "codemirror_mode": {
    "name": "ipython",
    "version": 3
   },
   "file_extension": ".py",
   "mimetype": "text/x-python",
   "name": "python",
   "nbconvert_exporter": "python",
   "pygments_lexer": "ipython3",
   "version": "3.10.9"
  }
 },
 "nbformat": 4,
 "nbformat_minor": 5
}
