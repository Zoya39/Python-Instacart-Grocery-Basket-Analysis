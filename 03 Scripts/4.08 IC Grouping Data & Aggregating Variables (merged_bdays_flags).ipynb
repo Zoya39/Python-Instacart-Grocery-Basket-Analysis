{
 "cells": [
  {
   "cell_type": "markdown",
   "id": "99932959",
   "metadata": {},
   "source": [
    "### 4.8-1 Imporing libraries and file"
   ]
  },
  {
   "cell_type": "code",
   "execution_count": 1,
   "id": "435e61f1",
   "metadata": {},
   "outputs": [],
   "source": [
    "import pandas as pd\n",
    "import numpy as np\n",
    "import os\n",
    "import matplotlib.pyplot as plt\n",
    "import seaborn as sns\n",
    "import scipy"
   ]
  },
  {
   "cell_type": "code",
   "execution_count": 2,
   "id": "f80cbb58",
   "metadata": {},
   "outputs": [],
   "source": [
    "path=r'C:\\Users\\user\\07-2023 Instacart Basket Analysis\\02 Data'"
   ]
  },
  {
   "cell_type": "code",
   "execution_count": 3,
   "id": "011f5f12",
   "metadata": {},
   "outputs": [],
   "source": [
    "df_merged_bdays=pd.read_pickle(os.path.join(path,'Prepared Data','ords_merged_bdays.pkl'))"
   ]
  },
  {
   "cell_type": "markdown",
   "id": "7553843d",
   "metadata": {},
   "source": [
    "### 4.8-2 finding the aggregated mean of the “order_number” column grouped by “department_id” for the entire dataframe."
   ]
  },
  {
   "cell_type": "code",
   "execution_count": 4,
   "id": "2534b442",
   "metadata": {},
   "outputs": [
    {
     "data": {
      "text/plain": [
       "(32641279, 18)"
      ]
     },
     "execution_count": 4,
     "metadata": {},
     "output_type": "execute_result"
    }
   ],
   "source": [
    "df_merged_bdays.shape"
   ]
  },
  {
   "cell_type": "code",
   "execution_count": 5,
   "id": "fa8e781c",
   "metadata": {},
   "outputs": [
    {
     "data": {
      "text/html": [
       "<div>\n",
       "<style scoped>\n",
       "    .dataframe tbody tr th:only-of-type {\n",
       "        vertical-align: middle;\n",
       "    }\n",
       "\n",
       "    .dataframe tbody tr th {\n",
       "        vertical-align: top;\n",
       "    }\n",
       "\n",
       "    .dataframe thead tr th {\n",
       "        text-align: left;\n",
       "    }\n",
       "\n",
       "    .dataframe thead tr:last-of-type th {\n",
       "        text-align: right;\n",
       "    }\n",
       "</style>\n",
       "<table border=\"1\" class=\"dataframe\">\n",
       "  <thead>\n",
       "    <tr>\n",
       "      <th></th>\n",
       "      <th>order_number</th>\n",
       "    </tr>\n",
       "    <tr>\n",
       "      <th></th>\n",
       "      <th>mean</th>\n",
       "    </tr>\n",
       "    <tr>\n",
       "      <th>department_id</th>\n",
       "      <th></th>\n",
       "    </tr>\n",
       "  </thead>\n",
       "  <tbody>\n",
       "    <tr>\n",
       "      <th>1.0</th>\n",
       "      <td>15.457687</td>\n",
       "    </tr>\n",
       "    <tr>\n",
       "      <th>2.0</th>\n",
       "      <td>17.277920</td>\n",
       "    </tr>\n",
       "    <tr>\n",
       "      <th>3.0</th>\n",
       "      <td>17.179756</td>\n",
       "    </tr>\n",
       "    <tr>\n",
       "      <th>4.0</th>\n",
       "      <td>17.811403</td>\n",
       "    </tr>\n",
       "    <tr>\n",
       "      <th>5.0</th>\n",
       "      <td>15.215751</td>\n",
       "    </tr>\n",
       "    <tr>\n",
       "      <th>6.0</th>\n",
       "      <td>16.439806</td>\n",
       "    </tr>\n",
       "    <tr>\n",
       "      <th>7.0</th>\n",
       "      <td>17.225773</td>\n",
       "    </tr>\n",
       "    <tr>\n",
       "      <th>8.0</th>\n",
       "      <td>15.340520</td>\n",
       "    </tr>\n",
       "    <tr>\n",
       "      <th>9.0</th>\n",
       "      <td>15.895474</td>\n",
       "    </tr>\n",
       "    <tr>\n",
       "      <th>10.0</th>\n",
       "      <td>20.197148</td>\n",
       "    </tr>\n",
       "    <tr>\n",
       "      <th>11.0</th>\n",
       "      <td>16.170371</td>\n",
       "    </tr>\n",
       "    <tr>\n",
       "      <th>12.0</th>\n",
       "      <td>15.887622</td>\n",
       "    </tr>\n",
       "    <tr>\n",
       "      <th>13.0</th>\n",
       "      <td>16.583304</td>\n",
       "    </tr>\n",
       "    <tr>\n",
       "      <th>14.0</th>\n",
       "      <td>16.759763</td>\n",
       "    </tr>\n",
       "    <tr>\n",
       "      <th>15.0</th>\n",
       "      <td>16.165037</td>\n",
       "    </tr>\n",
       "    <tr>\n",
       "      <th>16.0</th>\n",
       "      <td>17.663250</td>\n",
       "    </tr>\n",
       "    <tr>\n",
       "      <th>17.0</th>\n",
       "      <td>15.694469</td>\n",
       "    </tr>\n",
       "    <tr>\n",
       "      <th>18.0</th>\n",
       "      <td>19.310397</td>\n",
       "    </tr>\n",
       "    <tr>\n",
       "      <th>19.0</th>\n",
       "      <td>17.177343</td>\n",
       "    </tr>\n",
       "    <tr>\n",
       "      <th>20.0</th>\n",
       "      <td>16.473447</td>\n",
       "    </tr>\n",
       "    <tr>\n",
       "      <th>21.0</th>\n",
       "      <td>22.902379</td>\n",
       "    </tr>\n",
       "  </tbody>\n",
       "</table>\n",
       "</div>"
      ],
      "text/plain": [
       "              order_number\n",
       "                      mean\n",
       "department_id             \n",
       "1.0              15.457687\n",
       "2.0              17.277920\n",
       "3.0              17.179756\n",
       "4.0              17.811403\n",
       "5.0              15.215751\n",
       "6.0              16.439806\n",
       "7.0              17.225773\n",
       "8.0              15.340520\n",
       "9.0              15.895474\n",
       "10.0             20.197148\n",
       "11.0             16.170371\n",
       "12.0             15.887622\n",
       "13.0             16.583304\n",
       "14.0             16.759763\n",
       "15.0             16.165037\n",
       "16.0             17.663250\n",
       "17.0             15.694469\n",
       "18.0             19.310397\n",
       "19.0             17.177343\n",
       "20.0             16.473447\n",
       "21.0             22.902379"
      ]
     },
     "execution_count": 5,
     "metadata": {},
     "output_type": "execute_result"
    }
   ],
   "source": [
    "df_merged_bdays.groupby('department_id').agg({'order_number':['mean']})"
   ]
  },
  {
   "cell_type": "markdown",
   "id": "773f9493",
   "metadata": {},
   "source": [
    "#### if the entire df is analysed we became different valuese for the mean as by analyzing the first 1 mln rows. It is normal statistic rule. The difference it self is random because the partial table was sorted by product_id ,whithout any correlation to the department_id ."
   ]
  },
  {
   "cell_type": "markdown",
   "id": "eb639b10",
   "metadata": {},
   "source": [
    "#### -creating the plot to show the order number by department_id"
   ]
  },
  {
   "cell_type": "code",
   "execution_count": 6,
   "id": "5ebd58e5",
   "metadata": {},
   "outputs": [
    {
     "data": {
      "image/png": "[encoded data removed]",
      "text/plain": [
       "<Figure size 640x480 with 1 Axes>"
      ]
     },
     "metadata": {},
     "output_type": "display_data"
    }
   ],
   "source": [
    "bar=df_merged_bdays.groupby('department_id').agg({'order_number':['mean']}).plot.bar()"
   ]
  },
  {
   "cell_type": "markdown",
   "id": "9ecc089d",
   "metadata": {},
   "source": [
    "#### -esporting bar plot"
   ]
  },
  {
   "cell_type": "code",
   "execution_count": 7,
   "id": "651b52d9",
   "metadata": {},
   "outputs": [],
   "source": [
    "bar.figure.savefig(os.path.join(path, 'Prepared Data', 'Entire_DepOrdNamber_barplot.png'))"
   ]
  },
  {
   "cell_type": "markdown",
   "id": "5a6880c1",
   "metadata": {},
   "source": [
    "### 4.8-3 creating a loyalty flag for the customers using the transform() and loc() functions"
   ]
  },
  {
   "cell_type": "markdown",
   "id": "e0d67f29",
   "metadata": {},
   "source": [
    "#### creating the column of max order's qnty groupping by customer and transforming number of order in max order number"
   ]
  },
  {
   "cell_type": "code",
   "execution_count": 8,
   "id": "d6720041",
   "metadata": {},
   "outputs": [],
   "source": [
    "df_merged_bdays['max_order'] = df_merged_bdays.groupby(['user_id'])['order_number'].transform(np.max)"
   ]
  },
  {
   "cell_type": "code",
   "execution_count": 9,
   "id": "76a66b16",
   "metadata": {},
   "outputs": [
    {
     "data": {
      "text/plain": [
       "(32641279, 19)"
      ]
     },
     "execution_count": 9,
     "metadata": {},
     "output_type": "execute_result"
    }
   ],
   "source": [
    "df_merged_bdays.shape"
   ]
  },
  {
   "cell_type": "markdown",
   "id": "0c6f4e42",
   "metadata": {},
   "source": [
    "#### creating loyalty flag according to max order number value"
   ]
  },
  {
   "cell_type": "code",
   "execution_count": 10,
   "id": "5283d339",
   "metadata": {},
   "outputs": [],
   "source": [
    "df_merged_bdays.loc[df_merged_bdays['max_order'] > 40, 'loyalty_flag'] = 'Loyal customer'"
   ]
  },
  {
   "cell_type": "code",
   "execution_count": 11,
   "id": "b5dcbd02",
   "metadata": {},
   "outputs": [],
   "source": [
    "df_merged_bdays.loc[(df_merged_bdays['max_order'] <= 40) & (df_merged_bdays['max_order'] > 10), 'loyalty_flag'] = 'Regular customer'"
   ]
  },
  {
   "cell_type": "code",
   "execution_count": 12,
   "id": "1c34fd84",
   "metadata": {},
   "outputs": [],
   "source": [
    "df_merged_bdays.loc[df_merged_bdays['max_order'] <= 10, 'loyalty_flag'] = 'New customer'"
   ]
  },
  {
   "cell_type": "code",
   "execution_count": 13,
   "id": "89134903",
   "metadata": {},
   "outputs": [
    {
     "data": {
      "text/plain": [
       "Regular customer    16381472\n",
       "Loyal customer      10679578\n",
       "New customer         5580218\n",
       "NaN                       11\n",
       "Name: loyalty_flag, dtype: int64"
      ]
     },
     "execution_count": 13,
     "metadata": {},
     "output_type": "execute_result"
    }
   ],
   "source": [
    "df_merged_bdays['loyalty_flag'].value_counts(dropna=False)"
   ]
  },
  {
   "cell_type": "code",
   "execution_count": 14,
   "id": "46a6cf76",
   "metadata": {},
   "outputs": [
    {
     "data": {
      "text/plain": [
       "(32641279, 20)"
      ]
     },
     "execution_count": 14,
     "metadata": {},
     "output_type": "execute_result"
    }
   ],
   "source": [
    "df_merged_bdays.shape"
   ]
  },
  {
   "cell_type": "markdown",
   "id": "889a466b",
   "metadata": {},
   "source": [
    "### 4.8-4 finding a difference between the spending habits of the three types of customers using the loyalty flag for checking the basic statistics of the product prices for each loyalty category (Loyal Customer, Regular Customer, and New Customer)."
   ]
  },
  {
   "cell_type": "markdown",
   "id": "93c269ed",
   "metadata": {},
   "source": [
    "#### filtring the df for each customer cathegory and creating the df from output, then creating describe statistic for each df"
   ]
  },
  {
   "cell_type": "code",
   "execution_count": 15,
   "id": "9baff60a",
   "metadata": {},
   "outputs": [],
   "source": [
    "output=df_merged_bdays[df_merged_bdays['loyalty_flag']=='Regular customer']"
   ]
  },
  {
   "cell_type": "code",
   "execution_count": 16,
   "id": "d883da40",
   "metadata": {},
   "outputs": [],
   "source": [
    "db2=pd.DataFrame(output)"
   ]
  },
  {
   "cell_type": "code",
   "execution_count": 17,
   "id": "6bf4b9d5",
   "metadata": {},
   "outputs": [
    {
     "data": {
      "text/plain": [
       "count    1.629661e+07\n",
       "mean     1.261682e+01\n",
       "std      5.485322e+02\n",
       "min      1.000000e+00\n",
       "25%      4.200000e+00\n",
       "50%      7.400000e+00\n",
       "75%      1.130000e+01\n",
       "max      9.999900e+04\n",
       "Name: prices, dtype: float64"
      ]
     },
     "execution_count": 17,
     "metadata": {},
     "output_type": "execute_result"
    }
   ],
   "source": [
    "db2['prices'].describe()"
   ]
  },
  {
   "cell_type": "code",
   "execution_count": 18,
   "id": "4a13d295",
   "metadata": {},
   "outputs": [],
   "source": [
    "output1=df_merged_bdays[df_merged_bdays['loyalty_flag']=='Loyal customer']"
   ]
  },
  {
   "cell_type": "code",
   "execution_count": 19,
   "id": "af96e978",
   "metadata": {},
   "outputs": [],
   "source": [
    "df1=pd.DataFrame(output1)"
   ]
  },
  {
   "cell_type": "code",
   "execution_count": 20,
   "id": "486ebd40",
   "metadata": {},
   "outputs": [
    {
     "data": {
      "text/plain": [
       "count    1.066106e+07\n",
       "mean     1.037968e+01\n",
       "std      3.289191e+02\n",
       "min      1.000000e+00\n",
       "25%      4.200000e+00\n",
       "50%      7.400000e+00\n",
       "75%      1.120000e+01\n",
       "max      9.999900e+04\n",
       "Name: prices, dtype: float64"
      ]
     },
     "execution_count": 20,
     "metadata": {},
     "output_type": "execute_result"
    }
   ],
   "source": [
    "df1['prices'].describe()"
   ]
  },
  {
   "cell_type": "code",
   "execution_count": 21,
   "id": "70e6afa9",
   "metadata": {},
   "outputs": [],
   "source": [
    "output3=df_merged_bdays[df_merged_bdays['loyalty_flag']=='New customer']"
   ]
  },
  {
   "cell_type": "code",
   "execution_count": 22,
   "id": "3ebbe172",
   "metadata": {},
   "outputs": [],
   "source": [
    "df3=pd.DataFrame(output3)"
   ]
  },
  {
   "cell_type": "code",
   "execution_count": 23,
   "id": "474bc19e",
   "metadata": {},
   "outputs": [
    {
     "data": {
      "text/plain": [
       "count    5.475359e+06\n",
       "mean     1.320846e+01\n",
       "std      5.897188e+02\n",
       "min      1.000000e+00\n",
       "25%      4.200000e+00\n",
       "50%      7.400000e+00\n",
       "75%      1.130000e+01\n",
       "max      9.999900e+04\n",
       "Name: prices, dtype: float64"
      ]
     },
     "execution_count": 23,
     "metadata": {},
     "output_type": "execute_result"
    }
   ],
   "source": [
    "df3['prices'].describe()"
   ]
  },
  {
   "cell_type": "markdown",
   "id": "5399fd51",
   "metadata": {},
   "source": [
    "##### matching the mean values we can see that the new customers buy the more expensive goods (NC-13.2, LC -10.4, RC- 12.6) and if they continue to buy they find more cheaper option as a Regular customer and finaly they became Loyal customer finding the cheapest option. "
   ]
  },
  {
   "cell_type": "markdown",
   "id": "a1900e4d",
   "metadata": {},
   "source": [
    "##### matching the 25%, 50% and 75% statistic we became the folow results: (NC-3.2, LC -4.2, RC- 4.2) , (NC-11.4, LC -7.4, RC- 12.6) , (NC-11.3, LC -11.2, RC- 11.3) "
   ]
  },
  {
   "cell_type": "markdown",
   "id": "f6c88208",
   "metadata": {},
   "source": [
    "##### thats mean: the behavior of customers buying the expensive item is the same (75% value is like 11.3 by all cathegories). the behavior of customers buying cheap items is more cautious by New Customers (3.2 vs 4.2 by LC andRC).  And most clients are buying more cheap items when they became Loyal Customers (7.4 vs 11.4 and 12.6)"
   ]
  },
  {
   "cell_type": "markdown",
   "id": "509a6df0",
   "metadata": {},
   "source": [
    "##### analyzing std (price spread by buying) we assume that as more customer is buying as les is the price spread (5.9 vs 5.5 vs 5.3)"
   ]
  },
  {
   "cell_type": "markdown",
   "id": "bc1cce10",
   "metadata": {},
   "source": [
    "### 4.6  Create a spending flag for each user based on the average price across all their orders using the  given criteria"
   ]
  },
  {
   "cell_type": "markdown",
   "id": "76014b35",
   "metadata": {},
   "source": [
    "#### Creating column 'mean_price' for each customer"
   ]
  },
  {
   "cell_type": "code",
   "execution_count": 24,
   "id": "aa62374c",
   "metadata": {},
   "outputs": [],
   "source": [
    "df_merged_bdays['mean_price'] = df_merged_bdays.groupby(['user_id'])['prices'].transform(np.mean)"
   ]
  },
  {
   "cell_type": "code",
   "execution_count": 25,
   "id": "bb7c34ab",
   "metadata": {},
   "outputs": [
    {
     "data": {
      "text/html": [
       "<div>\n",
       "<style scoped>\n",
       "    .dataframe tbody tr th:only-of-type {\n",
       "        vertical-align: middle;\n",
       "    }\n",
       "\n",
       "    .dataframe tbody tr th {\n",
       "        vertical-align: top;\n",
       "    }\n",
       "\n",
       "    .dataframe thead th {\n",
       "        text-align: right;\n",
       "    }\n",
       "</style>\n",
       "<table border=\"1\" class=\"dataframe\">\n",
       "  <thead>\n",
       "    <tr style=\"text-align: right;\">\n",
       "      <th></th>\n",
       "      <th>product_id</th>\n",
       "      <th>product_name</th>\n",
       "      <th>aisle_id</th>\n",
       "      <th>department_id</th>\n",
       "      <th>prices</th>\n",
       "      <th>order_id</th>\n",
       "      <th>user_id</th>\n",
       "      <th>eval_set</th>\n",
       "      <th>order_number</th>\n",
       "      <th>day_of_week</th>\n",
       "      <th>...</th>\n",
       "      <th>days_since_prior_order</th>\n",
       "      <th>add_to_cart_order</th>\n",
       "      <th>reordered</th>\n",
       "      <th>_merge</th>\n",
       "      <th>price_range_loc</th>\n",
       "      <th>busiest_day</th>\n",
       "      <th>busiest days</th>\n",
       "      <th>max_order</th>\n",
       "      <th>loyalty_flag</th>\n",
       "      <th>mean_price</th>\n",
       "    </tr>\n",
       "  </thead>\n",
       "  <tbody>\n",
       "    <tr>\n",
       "      <th>0</th>\n",
       "      <td>1.0</td>\n",
       "      <td>Chocolate Sandwich Cookies</td>\n",
       "      <td>61.0</td>\n",
       "      <td>19.0</td>\n",
       "      <td>5.8</td>\n",
       "      <td>3139998.0</td>\n",
       "      <td>138.0</td>\n",
       "      <td>prior</td>\n",
       "      <td>28.0</td>\n",
       "      <td>6.0</td>\n",
       "      <td>...</td>\n",
       "      <td>3.0</td>\n",
       "      <td>5.0</td>\n",
       "      <td>0.0</td>\n",
       "      <td>both</td>\n",
       "      <td>mid_range_product</td>\n",
       "      <td>Regularly busy</td>\n",
       "      <td>Regularly days</td>\n",
       "      <td>33.0</td>\n",
       "      <td>Regular customer</td>\n",
       "      <td>6.935811</td>\n",
       "    </tr>\n",
       "    <tr>\n",
       "      <th>1</th>\n",
       "      <td>1.0</td>\n",
       "      <td>Chocolate Sandwich Cookies</td>\n",
       "      <td>61.0</td>\n",
       "      <td>19.0</td>\n",
       "      <td>5.8</td>\n",
       "      <td>1977647.0</td>\n",
       "      <td>138.0</td>\n",
       "      <td>prior</td>\n",
       "      <td>30.0</td>\n",
       "      <td>6.0</td>\n",
       "      <td>...</td>\n",
       "      <td>20.0</td>\n",
       "      <td>1.0</td>\n",
       "      <td>1.0</td>\n",
       "      <td>both</td>\n",
       "      <td>mid_range_product</td>\n",
       "      <td>Regularly busy</td>\n",
       "      <td>Regularly days</td>\n",
       "      <td>33.0</td>\n",
       "      <td>Regular customer</td>\n",
       "      <td>6.935811</td>\n",
       "    </tr>\n",
       "  </tbody>\n",
       "</table>\n",
       "<p>2 rows × 21 columns</p>\n",
       "</div>"
      ],
      "text/plain": [
       "   product_id                product_name  aisle_id  department_id  prices  \\\n",
       "0         1.0  Chocolate Sandwich Cookies      61.0           19.0     5.8   \n",
       "1         1.0  Chocolate Sandwich Cookies      61.0           19.0     5.8   \n",
       "\n",
       "    order_id  user_id eval_set  order_number  day_of_week  ...  \\\n",
       "0  3139998.0    138.0    prior          28.0          6.0  ...   \n",
       "1  1977647.0    138.0    prior          30.0          6.0  ...   \n",
       "\n",
       "   days_since_prior_order  add_to_cart_order  reordered  _merge  \\\n",
       "0                     3.0                5.0        0.0    both   \n",
       "1                    20.0                1.0        1.0    both   \n",
       "\n",
       "     price_range_loc     busiest_day    busiest days max_order  \\\n",
       "0  mid_range_product  Regularly busy  Regularly days      33.0   \n",
       "1  mid_range_product  Regularly busy  Regularly days      33.0   \n",
       "\n",
       "       loyalty_flag mean_price  \n",
       "0  Regular customer   6.935811  \n",
       "1  Regular customer   6.935811  \n",
       "\n",
       "[2 rows x 21 columns]"
      ]
     },
     "execution_count": 25,
     "metadata": {},
     "output_type": "execute_result"
    }
   ],
   "source": [
    "df_merged_bdays.head(2)"
   ]
  },
  {
   "cell_type": "markdown",
   "id": "b82af7d1",
   "metadata": {},
   "source": [
    "#### Creating 'spende_flag'"
   ]
  },
  {
   "cell_type": "code",
   "execution_count": 26,
   "id": "6214348c",
   "metadata": {},
   "outputs": [],
   "source": [
    "df_merged_bdays.loc[df_merged_bdays['mean_price']< 10, 'spender_flag'] = 'Low spender'"
   ]
  },
  {
   "cell_type": "code",
   "execution_count": 27,
   "id": "416664ba",
   "metadata": {},
   "outputs": [],
   "source": [
    "df_merged_bdays.loc[df_merged_bdays['mean_price']>= 10, 'spender_flag'] = 'High spender'"
   ]
  },
  {
   "cell_type": "code",
   "execution_count": 28,
   "id": "a2f9162c",
   "metadata": {},
   "outputs": [
    {
     "data": {
      "text/plain": [
       "Low spender     32000353\n",
       "High spender      640915\n",
       "NaN                   11\n",
       "Name: spender_flag, dtype: int64"
      ]
     },
     "execution_count": 28,
     "metadata": {},
     "output_type": "execute_result"
    }
   ],
   "source": [
    "df_merged_bdays['spender_flag'].value_counts(dropna=False)"
   ]
  },
  {
   "cell_type": "markdown",
   "id": "ff6f1e0f",
   "metadata": {},
   "source": [
    "#### sorting df by spender_flag"
   ]
  },
  {
   "cell_type": "code",
   "execution_count": 29,
   "id": "40d6bc0d",
   "metadata": {},
   "outputs": [
    {
     "data": {
      "text/html": [
       "<div>\n",
       "<style scoped>\n",
       "    .dataframe tbody tr th:only-of-type {\n",
       "        vertical-align: middle;\n",
       "    }\n",
       "\n",
       "    .dataframe tbody tr th {\n",
       "        vertical-align: top;\n",
       "    }\n",
       "\n",
       "    .dataframe thead th {\n",
       "        text-align: right;\n",
       "    }\n",
       "</style>\n",
       "<table border=\"1\" class=\"dataframe\">\n",
       "  <thead>\n",
       "    <tr style=\"text-align: right;\">\n",
       "      <th></th>\n",
       "      <th>product_id</th>\n",
       "      <th>product_name</th>\n",
       "      <th>aisle_id</th>\n",
       "      <th>department_id</th>\n",
       "      <th>prices</th>\n",
       "      <th>order_id</th>\n",
       "      <th>user_id</th>\n",
       "      <th>eval_set</th>\n",
       "      <th>order_number</th>\n",
       "      <th>day_of_week</th>\n",
       "      <th>...</th>\n",
       "      <th>add_to_cart_order</th>\n",
       "      <th>reordered</th>\n",
       "      <th>_merge</th>\n",
       "      <th>price_range_loc</th>\n",
       "      <th>busiest_day</th>\n",
       "      <th>busiest days</th>\n",
       "      <th>max_order</th>\n",
       "      <th>loyalty_flag</th>\n",
       "      <th>mean_price</th>\n",
       "      <th>spender_flag</th>\n",
       "    </tr>\n",
       "  </thead>\n",
       "  <tbody>\n",
       "    <tr>\n",
       "      <th>0</th>\n",
       "      <td>1.0</td>\n",
       "      <td>Chocolate Sandwich Cookies</td>\n",
       "      <td>61.0</td>\n",
       "      <td>19.0</td>\n",
       "      <td>5.8</td>\n",
       "      <td>3139998.0</td>\n",
       "      <td>138.0</td>\n",
       "      <td>prior</td>\n",
       "      <td>28.0</td>\n",
       "      <td>6.0</td>\n",
       "      <td>...</td>\n",
       "      <td>5.0</td>\n",
       "      <td>0.0</td>\n",
       "      <td>both</td>\n",
       "      <td>mid_range_product</td>\n",
       "      <td>Regularly busy</td>\n",
       "      <td>Regularly days</td>\n",
       "      <td>33.0</td>\n",
       "      <td>Regular customer</td>\n",
       "      <td>6.935811</td>\n",
       "      <td>Low spender</td>\n",
       "    </tr>\n",
       "    <tr>\n",
       "      <th>21655235</th>\n",
       "      <td>33316.0</td>\n",
       "      <td>Lemongrass &amp; Clementine Zest Natural Dish Liquid</td>\n",
       "      <td>74.0</td>\n",
       "      <td>17.0</td>\n",
       "      <td>3.8</td>\n",
       "      <td>256963.0</td>\n",
       "      <td>86434.0</td>\n",
       "      <td>prior</td>\n",
       "      <td>1.0</td>\n",
       "      <td>1.0</td>\n",
       "      <td>...</td>\n",
       "      <td>3.0</td>\n",
       "      <td>0.0</td>\n",
       "      <td>both</td>\n",
       "      <td>low_range_product</td>\n",
       "      <td>Regularly busy</td>\n",
       "      <td>Busiest days</td>\n",
       "      <td>6.0</td>\n",
       "      <td>New customer</td>\n",
       "      <td>7.955405</td>\n",
       "      <td>Low spender</td>\n",
       "    </tr>\n",
       "    <tr>\n",
       "      <th>21655233</th>\n",
       "      <td>33316.0</td>\n",
       "      <td>Lemongrass &amp; Clementine Zest Natural Dish Liquid</td>\n",
       "      <td>74.0</td>\n",
       "      <td>17.0</td>\n",
       "      <td>3.8</td>\n",
       "      <td>31256.0</td>\n",
       "      <td>85960.0</td>\n",
       "      <td>prior</td>\n",
       "      <td>5.0</td>\n",
       "      <td>5.0</td>\n",
       "      <td>...</td>\n",
       "      <td>6.0</td>\n",
       "      <td>0.0</td>\n",
       "      <td>both</td>\n",
       "      <td>low_range_product</td>\n",
       "      <td>Regularly busy</td>\n",
       "      <td>Regularly days</td>\n",
       "      <td>7.0</td>\n",
       "      <td>New customer</td>\n",
       "      <td>8.444737</td>\n",
       "      <td>Low spender</td>\n",
       "    </tr>\n",
       "    <tr>\n",
       "      <th>21655232</th>\n",
       "      <td>33316.0</td>\n",
       "      <td>Lemongrass &amp; Clementine Zest Natural Dish Liquid</td>\n",
       "      <td>74.0</td>\n",
       "      <td>17.0</td>\n",
       "      <td>3.8</td>\n",
       "      <td>1486406.0</td>\n",
       "      <td>85802.0</td>\n",
       "      <td>prior</td>\n",
       "      <td>6.0</td>\n",
       "      <td>3.0</td>\n",
       "      <td>...</td>\n",
       "      <td>24.0</td>\n",
       "      <td>0.0</td>\n",
       "      <td>both</td>\n",
       "      <td>low_range_product</td>\n",
       "      <td>Regularly busy</td>\n",
       "      <td>Slowest days</td>\n",
       "      <td>12.0</td>\n",
       "      <td>Regular customer</td>\n",
       "      <td>7.101379</td>\n",
       "      <td>Low spender</td>\n",
       "    </tr>\n",
       "    <tr>\n",
       "      <th>21655231</th>\n",
       "      <td>33316.0</td>\n",
       "      <td>Lemongrass &amp; Clementine Zest Natural Dish Liquid</td>\n",
       "      <td>74.0</td>\n",
       "      <td>17.0</td>\n",
       "      <td>3.8</td>\n",
       "      <td>2153506.0</td>\n",
       "      <td>85339.0</td>\n",
       "      <td>prior</td>\n",
       "      <td>18.0</td>\n",
       "      <td>1.0</td>\n",
       "      <td>...</td>\n",
       "      <td>5.0</td>\n",
       "      <td>1.0</td>\n",
       "      <td>both</td>\n",
       "      <td>low_range_product</td>\n",
       "      <td>Regularly busy</td>\n",
       "      <td>Busiest days</td>\n",
       "      <td>31.0</td>\n",
       "      <td>Regular customer</td>\n",
       "      <td>9.649778</td>\n",
       "      <td>Low spender</td>\n",
       "    </tr>\n",
       "    <tr>\n",
       "      <th>...</th>\n",
       "      <td>...</td>\n",
       "      <td>...</td>\n",
       "      <td>...</td>\n",
       "      <td>...</td>\n",
       "      <td>...</td>\n",
       "      <td>...</td>\n",
       "      <td>...</td>\n",
       "      <td>...</td>\n",
       "      <td>...</td>\n",
       "      <td>...</td>\n",
       "      <td>...</td>\n",
       "      <td>...</td>\n",
       "      <td>...</td>\n",
       "      <td>...</td>\n",
       "      <td>...</td>\n",
       "      <td>...</td>\n",
       "      <td>...</td>\n",
       "      <td>...</td>\n",
       "      <td>...</td>\n",
       "      <td>...</td>\n",
       "      <td>...</td>\n",
       "    </tr>\n",
       "    <tr>\n",
       "      <th>24232636</th>\n",
       "      <td>37703.0</td>\n",
       "      <td>Ultra Sun Blossom Liquid 90 loads Fabric Enhan...</td>\n",
       "      <td>75.0</td>\n",
       "      <td>17.0</td>\n",
       "      <td>14.3</td>\n",
       "      <td>NaN</td>\n",
       "      <td>NaN</td>\n",
       "      <td>NaN</td>\n",
       "      <td>NaN</td>\n",
       "      <td>NaN</td>\n",
       "      <td>...</td>\n",
       "      <td>NaN</td>\n",
       "      <td>NaN</td>\n",
       "      <td>left_only</td>\n",
       "      <td>mid_range_product</td>\n",
       "      <td>Regularly busy</td>\n",
       "      <td>Regularly days</td>\n",
       "      <td>NaN</td>\n",
       "      <td>NaN</td>\n",
       "      <td>NaN</td>\n",
       "      <td>NaN</td>\n",
       "    </tr>\n",
       "    <tr>\n",
       "      <th>28037267</th>\n",
       "      <td>43725.0</td>\n",
       "      <td>Sweetart Jelly Beans</td>\n",
       "      <td>100.0</td>\n",
       "      <td>21.0</td>\n",
       "      <td>8.1</td>\n",
       "      <td>NaN</td>\n",
       "      <td>NaN</td>\n",
       "      <td>NaN</td>\n",
       "      <td>NaN</td>\n",
       "      <td>NaN</td>\n",
       "      <td>...</td>\n",
       "      <td>NaN</td>\n",
       "      <td>NaN</td>\n",
       "      <td>left_only</td>\n",
       "      <td>mid_range_product</td>\n",
       "      <td>Regularly busy</td>\n",
       "      <td>Regularly days</td>\n",
       "      <td>NaN</td>\n",
       "      <td>NaN</td>\n",
       "      <td>NaN</td>\n",
       "      <td>NaN</td>\n",
       "    </tr>\n",
       "    <tr>\n",
       "      <th>29658742</th>\n",
       "      <td>45971.0</td>\n",
       "      <td>12 Inch Taper Candle White</td>\n",
       "      <td>101.0</td>\n",
       "      <td>17.0</td>\n",
       "      <td>9.8</td>\n",
       "      <td>NaN</td>\n",
       "      <td>NaN</td>\n",
       "      <td>NaN</td>\n",
       "      <td>NaN</td>\n",
       "      <td>NaN</td>\n",
       "      <td>...</td>\n",
       "      <td>NaN</td>\n",
       "      <td>NaN</td>\n",
       "      <td>left_only</td>\n",
       "      <td>mid_range_product</td>\n",
       "      <td>Regularly busy</td>\n",
       "      <td>Regularly days</td>\n",
       "      <td>NaN</td>\n",
       "      <td>NaN</td>\n",
       "      <td>NaN</td>\n",
       "      <td>NaN</td>\n",
       "    </tr>\n",
       "    <tr>\n",
       "      <th>29930524</th>\n",
       "      <td>46625.0</td>\n",
       "      <td>Single Barrel Kentucky Straight Bourbon Whiskey</td>\n",
       "      <td>31.0</td>\n",
       "      <td>7.0</td>\n",
       "      <td>1.7</td>\n",
       "      <td>NaN</td>\n",
       "      <td>NaN</td>\n",
       "      <td>NaN</td>\n",
       "      <td>NaN</td>\n",
       "      <td>NaN</td>\n",
       "      <td>...</td>\n",
       "      <td>NaN</td>\n",
       "      <td>NaN</td>\n",
       "      <td>left_only</td>\n",
       "      <td>low_range_product</td>\n",
       "      <td>Regularly busy</td>\n",
       "      <td>Regularly days</td>\n",
       "      <td>NaN</td>\n",
       "      <td>NaN</td>\n",
       "      <td>NaN</td>\n",
       "      <td>NaN</td>\n",
       "    </tr>\n",
       "    <tr>\n",
       "      <th>32282913</th>\n",
       "      <td>49540.0</td>\n",
       "      <td>Pure Squeezed  Lemonade</td>\n",
       "      <td>31.0</td>\n",
       "      <td>7.0</td>\n",
       "      <td>9.1</td>\n",
       "      <td>NaN</td>\n",
       "      <td>NaN</td>\n",
       "      <td>NaN</td>\n",
       "      <td>NaN</td>\n",
       "      <td>NaN</td>\n",
       "      <td>...</td>\n",
       "      <td>NaN</td>\n",
       "      <td>NaN</td>\n",
       "      <td>left_only</td>\n",
       "      <td>mid_range_product</td>\n",
       "      <td>Regularly busy</td>\n",
       "      <td>Regularly days</td>\n",
       "      <td>NaN</td>\n",
       "      <td>NaN</td>\n",
       "      <td>NaN</td>\n",
       "      <td>NaN</td>\n",
       "    </tr>\n",
       "  </tbody>\n",
       "</table>\n",
       "<p>32641279 rows × 22 columns</p>\n",
       "</div>"
      ],
      "text/plain": [
       "          product_id                                       product_name  \\\n",
       "0                1.0                         Chocolate Sandwich Cookies   \n",
       "21655235     33316.0   Lemongrass & Clementine Zest Natural Dish Liquid   \n",
       "21655233     33316.0   Lemongrass & Clementine Zest Natural Dish Liquid   \n",
       "21655232     33316.0   Lemongrass & Clementine Zest Natural Dish Liquid   \n",
       "21655231     33316.0   Lemongrass & Clementine Zest Natural Dish Liquid   \n",
       "...              ...                                                ...   \n",
       "24232636     37703.0  Ultra Sun Blossom Liquid 90 loads Fabric Enhan...   \n",
       "28037267     43725.0                               Sweetart Jelly Beans   \n",
       "29658742     45971.0                         12 Inch Taper Candle White   \n",
       "29930524     46625.0    Single Barrel Kentucky Straight Bourbon Whiskey   \n",
       "32282913     49540.0                            Pure Squeezed  Lemonade   \n",
       "\n",
       "          aisle_id  department_id  prices   order_id  user_id eval_set  \\\n",
       "0             61.0           19.0     5.8  3139998.0    138.0    prior   \n",
       "21655235      74.0           17.0     3.8   256963.0  86434.0    prior   \n",
       "21655233      74.0           17.0     3.8    31256.0  85960.0    prior   \n",
       "21655232      74.0           17.0     3.8  1486406.0  85802.0    prior   \n",
       "21655231      74.0           17.0     3.8  2153506.0  85339.0    prior   \n",
       "...            ...            ...     ...        ...      ...      ...   \n",
       "24232636      75.0           17.0    14.3        NaN      NaN      NaN   \n",
       "28037267     100.0           21.0     8.1        NaN      NaN      NaN   \n",
       "29658742     101.0           17.0     9.8        NaN      NaN      NaN   \n",
       "29930524      31.0            7.0     1.7        NaN      NaN      NaN   \n",
       "32282913      31.0            7.0     9.1        NaN      NaN      NaN   \n",
       "\n",
       "          order_number  day_of_week  ...  add_to_cart_order  reordered  \\\n",
       "0                 28.0          6.0  ...                5.0        0.0   \n",
       "21655235           1.0          1.0  ...                3.0        0.0   \n",
       "21655233           5.0          5.0  ...                6.0        0.0   \n",
       "21655232           6.0          3.0  ...               24.0        0.0   \n",
       "21655231          18.0          1.0  ...                5.0        1.0   \n",
       "...                ...          ...  ...                ...        ...   \n",
       "24232636           NaN          NaN  ...                NaN        NaN   \n",
       "28037267           NaN          NaN  ...                NaN        NaN   \n",
       "29658742           NaN          NaN  ...                NaN        NaN   \n",
       "29930524           NaN          NaN  ...                NaN        NaN   \n",
       "32282913           NaN          NaN  ...                NaN        NaN   \n",
       "\n",
       "             _merge    price_range_loc     busiest_day    busiest days  \\\n",
       "0              both  mid_range_product  Regularly busy  Regularly days   \n",
       "21655235       both  low_range_product  Regularly busy    Busiest days   \n",
       "21655233       both  low_range_product  Regularly busy  Regularly days   \n",
       "21655232       both  low_range_product  Regularly busy    Slowest days   \n",
       "21655231       both  low_range_product  Regularly busy    Busiest days   \n",
       "...             ...                ...             ...             ...   \n",
       "24232636  left_only  mid_range_product  Regularly busy  Regularly days   \n",
       "28037267  left_only  mid_range_product  Regularly busy  Regularly days   \n",
       "29658742  left_only  mid_range_product  Regularly busy  Regularly days   \n",
       "29930524  left_only  low_range_product  Regularly busy  Regularly days   \n",
       "32282913  left_only  mid_range_product  Regularly busy  Regularly days   \n",
       "\n",
       "         max_order      loyalty_flag  mean_price spender_flag  \n",
       "0             33.0  Regular customer    6.935811  Low spender  \n",
       "21655235       6.0      New customer    7.955405  Low spender  \n",
       "21655233       7.0      New customer    8.444737  Low spender  \n",
       "21655232      12.0  Regular customer    7.101379  Low spender  \n",
       "21655231      31.0  Regular customer    9.649778  Low spender  \n",
       "...            ...               ...         ...          ...  \n",
       "24232636       NaN               NaN         NaN          NaN  \n",
       "28037267       NaN               NaN         NaN          NaN  \n",
       "29658742       NaN               NaN         NaN          NaN  \n",
       "29930524       NaN               NaN         NaN          NaN  \n",
       "32282913       NaN               NaN         NaN          NaN  \n",
       "\n",
       "[32641279 rows x 22 columns]"
      ]
     },
     "execution_count": 29,
     "metadata": {},
     "output_type": "execute_result"
    }
   ],
   "source": [
    "df_merged_bdays.sort_values(['spender_flag'], ascending=False)"
   ]
  },
  {
   "cell_type": "markdown",
   "id": "947c0e34",
   "metadata": {},
   "source": [
    "### 4.8.6 Creating an frequency flag to determe frequent versus non-frequent customers. (using the median in the “days_since_prior_order” column) with the given criteria"
   ]
  },
  {
   "cell_type": "markdown",
   "id": "446b6912",
   "metadata": {},
   "source": [
    "#### Creating 'median_days_sinse_ord' column for each customer"
   ]
  },
  {
   "cell_type": "code",
   "execution_count": 30,
   "id": "7494922c",
   "metadata": {},
   "outputs": [],
   "source": [
    "df_merged_bdays['median_days_sinse_ord']=df_merged_bdays.groupby(['user_id'])['days_since_prior_order'].transform (np.median)"
   ]
  },
  {
   "cell_type": "markdown",
   "id": "098d13c2",
   "metadata": {},
   "source": [
    "#### Assigning the frequent flag (Non-frequent customer: median of “days_since_prior_order” >  20, Regular customer: 10 - 20, Frequent customer: <10)"
   ]
  },
  {
   "cell_type": "code",
   "execution_count": 31,
   "id": "b9c5131c",
   "metadata": {},
   "outputs": [],
   "source": [
    "df_merged_bdays.loc[df_merged_bdays['median_days_sinse_ord']>20,'frequent_flag']='Non-frequent customer'"
   ]
  },
  {
   "cell_type": "code",
   "execution_count": 32,
   "id": "877c43cb",
   "metadata": {},
   "outputs": [],
   "source": [
    "df_merged_bdays.loc[(df_merged_bdays['median_days_sinse_ord']<=20)&(df_merged_bdays['median_days_sinse_ord']>=10),'frequent_flag']='Regular customer'"
   ]
  },
  {
   "cell_type": "code",
   "execution_count": 33,
   "id": "8a31710f",
   "metadata": {},
   "outputs": [],
   "source": [
    "df_merged_bdays.loc[df_merged_bdays['median_days_sinse_ord']<10,'frequent_flag']='Frequent customer'"
   ]
  },
  {
   "cell_type": "code",
   "execution_count": 34,
   "id": "b32ac952",
   "metadata": {},
   "outputs": [
    {
     "data": {
      "text/plain": [
       "Frequent customer        21561982\n",
       "Regular customer          8326674\n",
       "Non-frequent customer     2752612\n",
       "NaN                            11\n",
       "Name: frequent_flag, dtype: int64"
      ]
     },
     "execution_count": 34,
     "metadata": {},
     "output_type": "execute_result"
    }
   ],
   "source": [
    "df_merged_bdays['frequent_flag'].value_counts(dropna=False)"
   ]
  },
  {
   "cell_type": "markdown",
   "id": "bd153f98",
   "metadata": {},
   "source": [
    "#### the NANs are new castomers that have done the first order only"
   ]
  },
  {
   "cell_type": "markdown",
   "id": "841b3977",
   "metadata": {},
   "source": [
    "#### Checking df:"
   ]
  },
  {
   "cell_type": "code",
   "execution_count": 35,
   "id": "e2124944",
   "metadata": {},
   "outputs": [
    {
     "data": {
      "text/plain": [
       "(32641279, 24)"
      ]
     },
     "execution_count": 35,
     "metadata": {},
     "output_type": "execute_result"
    }
   ],
   "source": [
    "df_merged_bdays.shape"
   ]
  },
  {
   "cell_type": "code",
   "execution_count": 36,
   "id": "3c5932a3",
   "metadata": {},
   "outputs": [
    {
     "data": {
      "text/html": [
       "<div>\n",
       "<style scoped>\n",
       "    .dataframe tbody tr th:only-of-type {\n",
       "        vertical-align: middle;\n",
       "    }\n",
       "\n",
       "    .dataframe tbody tr th {\n",
       "        vertical-align: top;\n",
       "    }\n",
       "\n",
       "    .dataframe thead th {\n",
       "        text-align: right;\n",
       "    }\n",
       "</style>\n",
       "<table border=\"1\" class=\"dataframe\">\n",
       "  <thead>\n",
       "    <tr style=\"text-align: right;\">\n",
       "      <th></th>\n",
       "      <th>product_id</th>\n",
       "      <th>product_name</th>\n",
       "      <th>aisle_id</th>\n",
       "      <th>department_id</th>\n",
       "      <th>prices</th>\n",
       "      <th>order_id</th>\n",
       "      <th>user_id</th>\n",
       "      <th>eval_set</th>\n",
       "      <th>order_number</th>\n",
       "      <th>day_of_week</th>\n",
       "      <th>...</th>\n",
       "      <th>_merge</th>\n",
       "      <th>price_range_loc</th>\n",
       "      <th>busiest_day</th>\n",
       "      <th>busiest days</th>\n",
       "      <th>max_order</th>\n",
       "      <th>loyalty_flag</th>\n",
       "      <th>mean_price</th>\n",
       "      <th>spender_flag</th>\n",
       "      <th>median_days_sinse_ord</th>\n",
       "      <th>frequent_flag</th>\n",
       "    </tr>\n",
       "  </thead>\n",
       "  <tbody>\n",
       "    <tr>\n",
       "      <th>0</th>\n",
       "      <td>1.0</td>\n",
       "      <td>Chocolate Sandwich Cookies</td>\n",
       "      <td>61.0</td>\n",
       "      <td>19.0</td>\n",
       "      <td>5.8</td>\n",
       "      <td>3139998.0</td>\n",
       "      <td>138.0</td>\n",
       "      <td>prior</td>\n",
       "      <td>28.0</td>\n",
       "      <td>6.0</td>\n",
       "      <td>...</td>\n",
       "      <td>both</td>\n",
       "      <td>mid_range_product</td>\n",
       "      <td>Regularly busy</td>\n",
       "      <td>Regularly days</td>\n",
       "      <td>33.0</td>\n",
       "      <td>Regular customer</td>\n",
       "      <td>6.935811</td>\n",
       "      <td>Low spender</td>\n",
       "      <td>8.0</td>\n",
       "      <td>Frequent customer</td>\n",
       "    </tr>\n",
       "    <tr>\n",
       "      <th>1</th>\n",
       "      <td>1.0</td>\n",
       "      <td>Chocolate Sandwich Cookies</td>\n",
       "      <td>61.0</td>\n",
       "      <td>19.0</td>\n",
       "      <td>5.8</td>\n",
       "      <td>1977647.0</td>\n",
       "      <td>138.0</td>\n",
       "      <td>prior</td>\n",
       "      <td>30.0</td>\n",
       "      <td>6.0</td>\n",
       "      <td>...</td>\n",
       "      <td>both</td>\n",
       "      <td>mid_range_product</td>\n",
       "      <td>Regularly busy</td>\n",
       "      <td>Regularly days</td>\n",
       "      <td>33.0</td>\n",
       "      <td>Regular customer</td>\n",
       "      <td>6.935811</td>\n",
       "      <td>Low spender</td>\n",
       "      <td>8.0</td>\n",
       "      <td>Frequent customer</td>\n",
       "    </tr>\n",
       "    <tr>\n",
       "      <th>2</th>\n",
       "      <td>1.0</td>\n",
       "      <td>Chocolate Sandwich Cookies</td>\n",
       "      <td>61.0</td>\n",
       "      <td>19.0</td>\n",
       "      <td>5.8</td>\n",
       "      <td>389851.0</td>\n",
       "      <td>709.0</td>\n",
       "      <td>prior</td>\n",
       "      <td>2.0</td>\n",
       "      <td>0.0</td>\n",
       "      <td>...</td>\n",
       "      <td>both</td>\n",
       "      <td>mid_range_product</td>\n",
       "      <td>Busiest day</td>\n",
       "      <td>Busiest days</td>\n",
       "      <td>6.0</td>\n",
       "      <td>New customer</td>\n",
       "      <td>7.930208</td>\n",
       "      <td>Low spender</td>\n",
       "      <td>6.0</td>\n",
       "      <td>Frequent customer</td>\n",
       "    </tr>\n",
       "    <tr>\n",
       "      <th>3</th>\n",
       "      <td>1.0</td>\n",
       "      <td>Chocolate Sandwich Cookies</td>\n",
       "      <td>61.0</td>\n",
       "      <td>19.0</td>\n",
       "      <td>5.8</td>\n",
       "      <td>652770.0</td>\n",
       "      <td>764.0</td>\n",
       "      <td>prior</td>\n",
       "      <td>1.0</td>\n",
       "      <td>3.0</td>\n",
       "      <td>...</td>\n",
       "      <td>both</td>\n",
       "      <td>mid_range_product</td>\n",
       "      <td>Regularly busy</td>\n",
       "      <td>Slowest days</td>\n",
       "      <td>4.0</td>\n",
       "      <td>New customer</td>\n",
       "      <td>4.972414</td>\n",
       "      <td>Low spender</td>\n",
       "      <td>9.0</td>\n",
       "      <td>Frequent customer</td>\n",
       "    </tr>\n",
       "    <tr>\n",
       "      <th>4</th>\n",
       "      <td>1.0</td>\n",
       "      <td>Chocolate Sandwich Cookies</td>\n",
       "      <td>61.0</td>\n",
       "      <td>19.0</td>\n",
       "      <td>5.8</td>\n",
       "      <td>1813452.0</td>\n",
       "      <td>764.0</td>\n",
       "      <td>prior</td>\n",
       "      <td>3.0</td>\n",
       "      <td>4.0</td>\n",
       "      <td>...</td>\n",
       "      <td>both</td>\n",
       "      <td>mid_range_product</td>\n",
       "      <td>Least busy</td>\n",
       "      <td>Slowest days</td>\n",
       "      <td>4.0</td>\n",
       "      <td>New customer</td>\n",
       "      <td>4.972414</td>\n",
       "      <td>Low spender</td>\n",
       "      <td>9.0</td>\n",
       "      <td>Frequent customer</td>\n",
       "    </tr>\n",
       "    <tr>\n",
       "      <th>...</th>\n",
       "      <td>...</td>\n",
       "      <td>...</td>\n",
       "      <td>...</td>\n",
       "      <td>...</td>\n",
       "      <td>...</td>\n",
       "      <td>...</td>\n",
       "      <td>...</td>\n",
       "      <td>...</td>\n",
       "      <td>...</td>\n",
       "      <td>...</td>\n",
       "      <td>...</td>\n",
       "      <td>...</td>\n",
       "      <td>...</td>\n",
       "      <td>...</td>\n",
       "      <td>...</td>\n",
       "      <td>...</td>\n",
       "      <td>...</td>\n",
       "      <td>...</td>\n",
       "      <td>...</td>\n",
       "      <td>...</td>\n",
       "      <td>...</td>\n",
       "    </tr>\n",
       "    <tr>\n",
       "      <th>32641274</th>\n",
       "      <td>26519.0</td>\n",
       "      <td>NaN</td>\n",
       "      <td>NaN</td>\n",
       "      <td>NaN</td>\n",
       "      <td>NaN</td>\n",
       "      <td>1405103.0</td>\n",
       "      <td>194090.0</td>\n",
       "      <td>prior</td>\n",
       "      <td>21.0</td>\n",
       "      <td>1.0</td>\n",
       "      <td>...</td>\n",
       "      <td>right_only</td>\n",
       "      <td>NaN</td>\n",
       "      <td>Regularly busy</td>\n",
       "      <td>Busiest days</td>\n",
       "      <td>45.0</td>\n",
       "      <td>Loyal customer</td>\n",
       "      <td>8.594718</td>\n",
       "      <td>Low spender</td>\n",
       "      <td>8.0</td>\n",
       "      <td>Frequent customer</td>\n",
       "    </tr>\n",
       "    <tr>\n",
       "      <th>32641275</th>\n",
       "      <td>26519.0</td>\n",
       "      <td>NaN</td>\n",
       "      <td>NaN</td>\n",
       "      <td>NaN</td>\n",
       "      <td>NaN</td>\n",
       "      <td>635307.0</td>\n",
       "      <td>194090.0</td>\n",
       "      <td>prior</td>\n",
       "      <td>35.0</td>\n",
       "      <td>2.0</td>\n",
       "      <td>...</td>\n",
       "      <td>right_only</td>\n",
       "      <td>NaN</td>\n",
       "      <td>Regularly busy</td>\n",
       "      <td>Regularly days</td>\n",
       "      <td>45.0</td>\n",
       "      <td>Loyal customer</td>\n",
       "      <td>8.594718</td>\n",
       "      <td>Low spender</td>\n",
       "      <td>8.0</td>\n",
       "      <td>Frequent customer</td>\n",
       "    </tr>\n",
       "    <tr>\n",
       "      <th>32641276</th>\n",
       "      <td>26519.0</td>\n",
       "      <td>NaN</td>\n",
       "      <td>NaN</td>\n",
       "      <td>NaN</td>\n",
       "      <td>NaN</td>\n",
       "      <td>1940566.0</td>\n",
       "      <td>194090.0</td>\n",
       "      <td>prior</td>\n",
       "      <td>40.0</td>\n",
       "      <td>4.0</td>\n",
       "      <td>...</td>\n",
       "      <td>right_only</td>\n",
       "      <td>NaN</td>\n",
       "      <td>Least busy</td>\n",
       "      <td>Slowest days</td>\n",
       "      <td>45.0</td>\n",
       "      <td>Loyal customer</td>\n",
       "      <td>8.594718</td>\n",
       "      <td>Low spender</td>\n",
       "      <td>8.0</td>\n",
       "      <td>Frequent customer</td>\n",
       "    </tr>\n",
       "    <tr>\n",
       "      <th>32641277</th>\n",
       "      <td>26519.0</td>\n",
       "      <td>NaN</td>\n",
       "      <td>NaN</td>\n",
       "      <td>NaN</td>\n",
       "      <td>NaN</td>\n",
       "      <td>550657.0</td>\n",
       "      <td>198251.0</td>\n",
       "      <td>prior</td>\n",
       "      <td>63.0</td>\n",
       "      <td>1.0</td>\n",
       "      <td>...</td>\n",
       "      <td>right_only</td>\n",
       "      <td>NaN</td>\n",
       "      <td>Regularly busy</td>\n",
       "      <td>Busiest days</td>\n",
       "      <td>69.0</td>\n",
       "      <td>Loyal customer</td>\n",
       "      <td>7.229468</td>\n",
       "      <td>Low spender</td>\n",
       "      <td>5.0</td>\n",
       "      <td>Frequent customer</td>\n",
       "    </tr>\n",
       "    <tr>\n",
       "      <th>32641278</th>\n",
       "      <td>26519.0</td>\n",
       "      <td>NaN</td>\n",
       "      <td>NaN</td>\n",
       "      <td>NaN</td>\n",
       "      <td>NaN</td>\n",
       "      <td>723935.0</td>\n",
       "      <td>200065.0</td>\n",
       "      <td>prior</td>\n",
       "      <td>12.0</td>\n",
       "      <td>2.0</td>\n",
       "      <td>...</td>\n",
       "      <td>right_only</td>\n",
       "      <td>NaN</td>\n",
       "      <td>Regularly busy</td>\n",
       "      <td>Regularly days</td>\n",
       "      <td>19.0</td>\n",
       "      <td>Regular customer</td>\n",
       "      <td>96.595833</td>\n",
       "      <td>High spender</td>\n",
       "      <td>12.0</td>\n",
       "      <td>Regular customer</td>\n",
       "    </tr>\n",
       "  </tbody>\n",
       "</table>\n",
       "<p>32641279 rows × 24 columns</p>\n",
       "</div>"
      ],
      "text/plain": [
       "          product_id                product_name  aisle_id  department_id  \\\n",
       "0                1.0  Chocolate Sandwich Cookies      61.0           19.0   \n",
       "1                1.0  Chocolate Sandwich Cookies      61.0           19.0   \n",
       "2                1.0  Chocolate Sandwich Cookies      61.0           19.0   \n",
       "3                1.0  Chocolate Sandwich Cookies      61.0           19.0   \n",
       "4                1.0  Chocolate Sandwich Cookies      61.0           19.0   \n",
       "...              ...                         ...       ...            ...   \n",
       "32641274     26519.0                         NaN       NaN            NaN   \n",
       "32641275     26519.0                         NaN       NaN            NaN   \n",
       "32641276     26519.0                         NaN       NaN            NaN   \n",
       "32641277     26519.0                         NaN       NaN            NaN   \n",
       "32641278     26519.0                         NaN       NaN            NaN   \n",
       "\n",
       "          prices   order_id   user_id eval_set  order_number  day_of_week  \\\n",
       "0            5.8  3139998.0     138.0    prior          28.0          6.0   \n",
       "1            5.8  1977647.0     138.0    prior          30.0          6.0   \n",
       "2            5.8   389851.0     709.0    prior           2.0          0.0   \n",
       "3            5.8   652770.0     764.0    prior           1.0          3.0   \n",
       "4            5.8  1813452.0     764.0    prior           3.0          4.0   \n",
       "...          ...        ...       ...      ...           ...          ...   \n",
       "32641274     NaN  1405103.0  194090.0    prior          21.0          1.0   \n",
       "32641275     NaN   635307.0  194090.0    prior          35.0          2.0   \n",
       "32641276     NaN  1940566.0  194090.0    prior          40.0          4.0   \n",
       "32641277     NaN   550657.0  198251.0    prior          63.0          1.0   \n",
       "32641278     NaN   723935.0  200065.0    prior          12.0          2.0   \n",
       "\n",
       "          ...      _merge    price_range_loc     busiest_day    busiest days  \\\n",
       "0         ...        both  mid_range_product  Regularly busy  Regularly days   \n",
       "1         ...        both  mid_range_product  Regularly busy  Regularly days   \n",
       "2         ...        both  mid_range_product     Busiest day    Busiest days   \n",
       "3         ...        both  mid_range_product  Regularly busy    Slowest days   \n",
       "4         ...        both  mid_range_product      Least busy    Slowest days   \n",
       "...       ...         ...                ...             ...             ...   \n",
       "32641274  ...  right_only                NaN  Regularly busy    Busiest days   \n",
       "32641275  ...  right_only                NaN  Regularly busy  Regularly days   \n",
       "32641276  ...  right_only                NaN      Least busy    Slowest days   \n",
       "32641277  ...  right_only                NaN  Regularly busy    Busiest days   \n",
       "32641278  ...  right_only                NaN  Regularly busy  Regularly days   \n",
       "\n",
       "         max_order      loyalty_flag mean_price  spender_flag  \\\n",
       "0             33.0  Regular customer   6.935811   Low spender   \n",
       "1             33.0  Regular customer   6.935811   Low spender   \n",
       "2              6.0      New customer   7.930208   Low spender   \n",
       "3              4.0      New customer   4.972414   Low spender   \n",
       "4              4.0      New customer   4.972414   Low spender   \n",
       "...            ...               ...        ...           ...   \n",
       "32641274      45.0    Loyal customer   8.594718   Low spender   \n",
       "32641275      45.0    Loyal customer   8.594718   Low spender   \n",
       "32641276      45.0    Loyal customer   8.594718   Low spender   \n",
       "32641277      69.0    Loyal customer   7.229468   Low spender   \n",
       "32641278      19.0  Regular customer  96.595833  High spender   \n",
       "\n",
       "          median_days_sinse_ord      frequent_flag  \n",
       "0                           8.0  Frequent customer  \n",
       "1                           8.0  Frequent customer  \n",
       "2                           6.0  Frequent customer  \n",
       "3                           9.0  Frequent customer  \n",
       "4                           9.0  Frequent customer  \n",
       "...                         ...                ...  \n",
       "32641274                    8.0  Frequent customer  \n",
       "32641275                    8.0  Frequent customer  \n",
       "32641276                    8.0  Frequent customer  \n",
       "32641277                    5.0  Frequent customer  \n",
       "32641278                   12.0   Regular customer  \n",
       "\n",
       "[32641279 rows x 24 columns]"
      ]
     },
     "execution_count": 36,
     "metadata": {},
     "output_type": "execute_result"
    }
   ],
   "source": [
    "df_merged_bdays"
   ]
  },
  {
   "cell_type": "code",
   "execution_count": 37,
   "id": "2c4937be",
   "metadata": {},
   "outputs": [],
   "source": [
    "df_merged_bdays.to_pickle(os.path.join(path,'Prepared Data', 'merged_bdays_flags.pkl'))"
   ]
  },
  {
   "cell_type": "code",
   "execution_count": 38,
   "id": "7724cee7",
   "metadata": {},
   "outputs": [
    {
     "data": {
      "text/plain": [
       "(32641279, 24)"
      ]
     },
     "execution_count": 38,
     "metadata": {},
     "output_type": "execute_result"
    }
   ],
   "source": [
    "df_merged_bdays.shape"
   ]
  },
  {
   "cell_type": "code",
   "execution_count": null,
   "id": "9ec22ea8",
   "metadata": {},
   "outputs": [],
   "source": []
  },
  {
   "cell_type": "markdown",
   "id": "85f660b0",
   "metadata": {},
   "source": []
  }
 ],
 "metadata": {
  "kernelspec": {
   "display_name": "Python 3 (ipykernel)",
   "language": "python",
   "name": "python3"
  },
  "language_info": {
   "codemirror_mode": {
    "name": "ipython",
    "version": 3
   },
   "file_extension": ".py",
   "mimetype": "text/x-python",
   "name": "python",
   "nbconvert_exporter": "python",
   "pygments_lexer": "ipython3",
   "version": "3.10.9"
  }
 },
 "nbformat": 4,
 "nbformat_minor": 5
}
