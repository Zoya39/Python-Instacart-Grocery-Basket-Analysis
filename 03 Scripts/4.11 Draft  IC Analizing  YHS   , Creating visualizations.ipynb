{
 "cells": [
  {
   "cell_type": "markdown",
   "id": "dc856afc",
   "metadata": {},
   "source": [
    "### 4.10 Part5 YHS\n",
    "#### 1 Importing libraries and df w/o PI\n",
    "#### 2 analyzing Young High Spender by Loyalty Flag\n",
    "#### 3 -analyzing Young High Spender purshease by  sales amount\n",
    "#### 4 -analyzing Young High Spender by Busiest_day\n",
    "#### Analyzing by prefered hour of day\n",
    "#### 6 Analyzing number of Young High Spender by State\n",
    "#### 7 Analyzing Young High Spenders  by n_dependants\n",
    "#### 8 Days since prior order\n",
    "####  9  Defining TOP products for client group\n"
   ]
  },
  {
   "cell_type": "markdown",
   "id": "b3478eda",
   "metadata": {},
   "source": [
    "### 1 Importing libraries and df w/o PII"
   ]
  },
  {
   "cell_type": "code",
   "execution_count": 1,
   "id": "e865d8b6",
   "metadata": {},
   "outputs": [],
   "source": [
    "import pandas as pd\n",
    "import numpy as np\n",
    "import os\n",
    "import matplotlib.pyplot as plt\n",
    "import seaborn as sns\n",
    "import scipy"
   ]
  },
  {
   "cell_type": "code",
   "execution_count": 2,
   "id": "a0d783f3",
   "metadata": {},
   "outputs": [],
   "source": [
    "path=r'C:\\Users\\user\\07-2023 Instacart Basket Analysis\\02 Data'"
   ]
  },
  {
   "cell_type": "markdown",
   "id": "7d9928b7",
   "metadata": {},
   "source": [
    "#### -importing df"
   ]
  },
  {
   "cell_type": "code",
   "execution_count": 3,
   "id": "339d7784",
   "metadata": {},
   "outputs": [],
   "source": [
    "df=pd.read_pickle(os.path.join(path,'Prepared Data','YHS.pkl'))"
   ]
  },
  {
   "cell_type": "code",
   "execution_count": 4,
   "id": "dd1cde48",
   "metadata": {},
   "outputs": [
    {
     "data": {
      "text/plain": [
       "Index(['user_id', 'Gender', 'STATE', 'Age', 'date_joined', 'n_dependants',\n",
       "       'fam_status', 'income', 'product_id', 'product_name', 'aisle_id',\n",
       "       'department_id', 'prices', 'order_id', 'eval_set', 'order_number',\n",
       "       'day_of_week', 'order_hour_of_day', 'days_since_prior_order',\n",
       "       'add_to_cart_order', 'reordered', 'price_range_loc', 'busiest_day',\n",
       "       'busiest days', 'max_order', 'loyalty_flag', 'mean_price',\n",
       "       'spender_flag', 'median_days_sinse_ord', 'frequent_flag',\n",
       "       'AgeIncome_flag'],\n",
       "      dtype='object')"
      ]
     },
     "execution_count": 4,
     "metadata": {},
     "output_type": "execute_result"
    }
   ],
   "source": [
    "df.columns"
   ]
  },
  {
   "cell_type": "code",
   "execution_count": 5,
   "id": "a95c3088",
   "metadata": {},
   "outputs": [
    {
     "data": {
      "text/plain": [
       "(202625, 31)"
      ]
     },
     "execution_count": 5,
     "metadata": {},
     "output_type": "execute_result"
    }
   ],
   "source": [
    "df.shape"
   ]
  },
  {
   "cell_type": "code",
   "execution_count": 6,
   "id": "5d2cc055",
   "metadata": {},
   "outputs": [
    {
     "data": {
      "text/html": [
       "<div>\n",
       "<style scoped>\n",
       "    .dataframe tbody tr th:only-of-type {\n",
       "        vertical-align: middle;\n",
       "    }\n",
       "\n",
       "    .dataframe tbody tr th {\n",
       "        vertical-align: top;\n",
       "    }\n",
       "\n",
       "    .dataframe thead th {\n",
       "        text-align: right;\n",
       "    }\n",
       "</style>\n",
       "<table border=\"1\" class=\"dataframe\">\n",
       "  <thead>\n",
       "    <tr style=\"text-align: right;\">\n",
       "      <th></th>\n",
       "      <th>user_id</th>\n",
       "      <th>Age</th>\n",
       "      <th>income</th>\n",
       "      <th>product_id</th>\n",
       "      <th>median_days_sinse_ord</th>\n",
       "      <th>order_number</th>\n",
       "      <th>mean_price</th>\n",
       "    </tr>\n",
       "  </thead>\n",
       "  <tbody>\n",
       "    <tr>\n",
       "      <th>count</th>\n",
       "      <td>202625.000000</td>\n",
       "      <td>202625.000000</td>\n",
       "      <td>202625.000000</td>\n",
       "      <td>202625.000000</td>\n",
       "      <td>202625.000000</td>\n",
       "      <td>202625.000000</td>\n",
       "      <td>202625.000000</td>\n",
       "    </tr>\n",
       "    <tr>\n",
       "      <th>mean</th>\n",
       "      <td>109277.614095</td>\n",
       "      <td>28.786922</td>\n",
       "      <td>162330.702366</td>\n",
       "      <td>25027.011746</td>\n",
       "      <td>9.198885</td>\n",
       "      <td>18.698147</td>\n",
       "      <td>231.109586</td>\n",
       "    </tr>\n",
       "    <tr>\n",
       "      <th>std</th>\n",
       "      <td>57582.310892</td>\n",
       "      <td>6.605939</td>\n",
       "      <td>85599.494376</td>\n",
       "      <td>14352.197856</td>\n",
       "      <td>6.237597</td>\n",
       "      <td>18.447751</td>\n",
       "      <td>590.114700</td>\n",
       "    </tr>\n",
       "    <tr>\n",
       "      <th>min</th>\n",
       "      <td>17.000000</td>\n",
       "      <td>18.000000</td>\n",
       "      <td>42266.000000</td>\n",
       "      <td>0.000000</td>\n",
       "      <td>0.000000</td>\n",
       "      <td>1.000000</td>\n",
       "      <td>10.001923</td>\n",
       "    </tr>\n",
       "    <tr>\n",
       "      <th>25%</th>\n",
       "      <td>63612.000000</td>\n",
       "      <td>23.000000</td>\n",
       "      <td>97374.000000</td>\n",
       "      <td>12919.000000</td>\n",
       "      <td>5.000000</td>\n",
       "      <td>5.000000</td>\n",
       "      <td>28.845897</td>\n",
       "    </tr>\n",
       "    <tr>\n",
       "      <th>50%</th>\n",
       "      <td>111683.000000</td>\n",
       "      <td>29.000000</td>\n",
       "      <td>149785.000000</td>\n",
       "      <td>24852.000000</td>\n",
       "      <td>7.000000</td>\n",
       "      <td>12.000000</td>\n",
       "      <td>82.132226</td>\n",
       "    </tr>\n",
       "    <tr>\n",
       "      <th>75%</th>\n",
       "      <td>157980.000000</td>\n",
       "      <td>35.000000</td>\n",
       "      <td>185263.000000</td>\n",
       "      <td>37354.000000</td>\n",
       "      <td>11.000000</td>\n",
       "      <td>26.000000</td>\n",
       "      <td>190.033439</td>\n",
       "    </tr>\n",
       "    <tr>\n",
       "      <th>max</th>\n",
       "      <td>206049.000000</td>\n",
       "      <td>40.000000</td>\n",
       "      <td>397929.000000</td>\n",
       "      <td>49688.000000</td>\n",
       "      <td>30.000000</td>\n",
       "      <td>100.000000</td>\n",
       "      <td>10209.987755</td>\n",
       "    </tr>\n",
       "  </tbody>\n",
       "</table>\n",
       "</div>"
      ],
      "text/plain": [
       "             user_id            Age         income     product_id  \\\n",
       "count  202625.000000  202625.000000  202625.000000  202625.000000   \n",
       "mean   109277.614095      28.786922  162330.702366   25027.011746   \n",
       "std     57582.310892       6.605939   85599.494376   14352.197856   \n",
       "min        17.000000      18.000000   42266.000000       0.000000   \n",
       "25%     63612.000000      23.000000   97374.000000   12919.000000   \n",
       "50%    111683.000000      29.000000  149785.000000   24852.000000   \n",
       "75%    157980.000000      35.000000  185263.000000   37354.000000   \n",
       "max    206049.000000      40.000000  397929.000000   49688.000000   \n",
       "\n",
       "       median_days_sinse_ord   order_number     mean_price  \n",
       "count          202625.000000  202625.000000  202625.000000  \n",
       "mean                9.198885      18.698147     231.109586  \n",
       "std                 6.237597      18.447751     590.114700  \n",
       "min                 0.000000       1.000000      10.001923  \n",
       "25%                 5.000000       5.000000      28.845897  \n",
       "50%                 7.000000      12.000000      82.132226  \n",
       "75%                11.000000      26.000000     190.033439  \n",
       "max                30.000000     100.000000   10209.987755  "
      ]
     },
     "execution_count": 6,
     "metadata": {},
     "output_type": "execute_result"
    }
   ],
   "source": [
    "df[['user_id','Age', 'income','product_id', 'median_days_sinse_ord','order_number','mean_price']] .describe()"
   ]
  },
  {
   "cell_type": "markdown",
   "id": "08380bfb",
   "metadata": {},
   "source": [
    "### 2 Analyzing Young High Spender by Loyalty Flag"
   ]
  },
  {
   "cell_type": "markdown",
   "id": "6e53f0cf",
   "metadata": {},
   "source": [
    "#### --creating the subset to avoid Memory Error"
   ]
  },
  {
   "cell_type": "code",
   "execution_count": 7,
   "id": "ca583f66",
   "metadata": {},
   "outputs": [],
   "source": [
    "df1=df[['user_id','Gender','fam_status','STATE','department_id', 'product_id', 'product_name', \n",
    "       'busiest_day','loyalty_flag','AgeIncome_flag','prices','income']]"
   ]
  },
  {
   "cell_type": "markdown",
   "id": "db69a845",
   "metadata": {},
   "source": [
    "### - How many customers are YHS?"
   ]
  },
  {
   "cell_type": "code",
   "execution_count": 8,
   "id": "166ad79b",
   "metadata": {},
   "outputs": [
    {
     "data": {
      "text/plain": [
       "(1256, 1)"
      ]
     },
     "execution_count": 8,
     "metadata": {},
     "output_type": "execute_result"
    }
   ],
   "source": [
    "df1[['user_id']].drop_duplicates().shape"
   ]
  },
  {
   "cell_type": "code",
   "execution_count": null,
   "id": "7a398bce",
   "metadata": {},
   "outputs": [],
   "source": []
  },
  {
   "cell_type": "markdown",
   "id": "8a4e55ee",
   "metadata": {},
   "source": [
    "### 3 -Analyzing Young High Spender by Loyalty Flag and Family Status"
   ]
  },
  {
   "cell_type": "markdown",
   "id": "260990d5",
   "metadata": {},
   "source": [
    "#### -creating subset with unique user_id"
   ]
  },
  {
   "cell_type": "code",
   "execution_count": 9,
   "id": "6be23ed7",
   "metadata": {},
   "outputs": [],
   "source": [
    "df1=df[['user_id','fam_status','loyalty_flag']].drop_duplicates()"
   ]
  },
  {
   "cell_type": "code",
   "execution_count": 10,
   "id": "db67831c",
   "metadata": {},
   "outputs": [
    {
     "data": {
      "text/plain": [
       "fam_status                        loyalty_flag    \n",
       "living with parents and siblings  Regular customer     78\n",
       "                                  New customer         71\n",
       "                                  Loyal customer       21\n",
       "married                           Regular customer    372\n",
       "                                  New customer        323\n",
       "                                  Loyal customer       82\n",
       "single                            New customer        145\n",
       "                                  Regular customer    135\n",
       "                                  Loyal customer       29\n",
       "Name: loyalty_flag, dtype: int64"
      ]
     },
     "execution_count": 10,
     "metadata": {},
     "output_type": "execute_result"
    }
   ],
   "source": [
    "df1.groupby('fam_status')['loyalty_flag'].value_counts()"
   ]
  },
  {
   "cell_type": "code",
   "execution_count": 11,
   "id": "b10af605",
   "metadata": {},
   "outputs": [
    {
     "data": {
      "image/png": "[encoded data removed]",
      "text/plain": [
       "<Figure size 640x480 with 1 Axes>"
      ]
     },
     "metadata": {},
     "output_type": "display_data"
    }
   ],
   "source": [
    "bar12=df1.groupby('fam_status')['loyalty_flag'].value_counts().unstack().plot.barh()"
   ]
  },
  {
   "cell_type": "code",
   "execution_count": 12,
   "id": "cdd18c95",
   "metadata": {},
   "outputs": [],
   "source": [
    "bar12.figure.savefig(os.path.join(path, 'Prepared Data', 'YHS_LoyaltyFlag.png'))"
   ]
  },
  {
   "cell_type": "markdown",
   "id": "6df1434e",
   "metadata": {},
   "source": [
    "### 3 -analyzing Young High Spender purshease by  sales amount"
   ]
  },
  {
   "cell_type": "code",
   "execution_count": 13,
   "id": "4ce826fb",
   "metadata": {},
   "outputs": [],
   "source": [
    "Df1=df[['user_id','prices','loyalty_flag']]"
   ]
  },
  {
   "cell_type": "code",
   "execution_count": 14,
   "id": "fd1ecd64",
   "metadata": {},
   "outputs": [
    {
     "data": {
      "text/html": [
       "<div>\n",
       "<style scoped>\n",
       "    .dataframe tbody tr th:only-of-type {\n",
       "        vertical-align: middle;\n",
       "    }\n",
       "\n",
       "    .dataframe tbody tr th {\n",
       "        vertical-align: top;\n",
       "    }\n",
       "\n",
       "    .dataframe thead th {\n",
       "        text-align: right;\n",
       "    }\n",
       "</style>\n",
       "<table border=\"1\" class=\"dataframe\">\n",
       "  <thead>\n",
       "    <tr style=\"text-align: right;\">\n",
       "      <th></th>\n",
       "      <th>user_id</th>\n",
       "      <th>prices</th>\n",
       "      <th>loyalty_flag</th>\n",
       "    </tr>\n",
       "  </thead>\n",
       "  <tbody>\n",
       "    <tr>\n",
       "      <th>7894</th>\n",
       "      <td>100958</td>\n",
       "      <td>1.7</td>\n",
       "      <td>New customer</td>\n",
       "    </tr>\n",
       "    <tr>\n",
       "      <th>7895</th>\n",
       "      <td>100958</td>\n",
       "      <td>7.2</td>\n",
       "      <td>New customer</td>\n",
       "    </tr>\n",
       "    <tr>\n",
       "      <th>7896</th>\n",
       "      <td>100958</td>\n",
       "      <td>1.1</td>\n",
       "      <td>New customer</td>\n",
       "    </tr>\n",
       "    <tr>\n",
       "      <th>7897</th>\n",
       "      <td>100958</td>\n",
       "      <td>8.2</td>\n",
       "      <td>New customer</td>\n",
       "    </tr>\n",
       "    <tr>\n",
       "      <th>7898</th>\n",
       "      <td>100958</td>\n",
       "      <td>9.8</td>\n",
       "      <td>New customer</td>\n",
       "    </tr>\n",
       "    <tr>\n",
       "      <th>...</th>\n",
       "      <td>...</td>\n",
       "      <td>...</td>\n",
       "      <td>...</td>\n",
       "    </tr>\n",
       "    <tr>\n",
       "      <th>10907307</th>\n",
       "      <td>121722</td>\n",
       "      <td>12.9</td>\n",
       "      <td>New customer</td>\n",
       "    </tr>\n",
       "    <tr>\n",
       "      <th>10907316</th>\n",
       "      <td>37545</td>\n",
       "      <td>11.0</td>\n",
       "      <td>New customer</td>\n",
       "    </tr>\n",
       "    <tr>\n",
       "      <th>10907317</th>\n",
       "      <td>37545</td>\n",
       "      <td>11.0</td>\n",
       "      <td>New customer</td>\n",
       "    </tr>\n",
       "    <tr>\n",
       "      <th>10907318</th>\n",
       "      <td>37545</td>\n",
       "      <td>11.0</td>\n",
       "      <td>New customer</td>\n",
       "    </tr>\n",
       "    <tr>\n",
       "      <th>10907349</th>\n",
       "      <td>171938</td>\n",
       "      <td>13.2</td>\n",
       "      <td>New customer</td>\n",
       "    </tr>\n",
       "  </tbody>\n",
       "</table>\n",
       "<p>202625 rows × 3 columns</p>\n",
       "</div>"
      ],
      "text/plain": [
       "          user_id  prices  loyalty_flag\n",
       "7894       100958     1.7  New customer\n",
       "7895       100958     7.2  New customer\n",
       "7896       100958     1.1  New customer\n",
       "7897       100958     8.2  New customer\n",
       "7898       100958     9.8  New customer\n",
       "...           ...     ...           ...\n",
       "10907307   121722    12.9  New customer\n",
       "10907316    37545    11.0  New customer\n",
       "10907317    37545    11.0  New customer\n",
       "10907318    37545    11.0  New customer\n",
       "10907349   171938    13.2  New customer\n",
       "\n",
       "[202625 rows x 3 columns]"
      ]
     },
     "execution_count": 14,
     "metadata": {},
     "output_type": "execute_result"
    }
   ],
   "source": [
    "Df1"
   ]
  },
  {
   "cell_type": "code",
   "execution_count": 15,
   "id": "77ac4735",
   "metadata": {},
   "outputs": [],
   "source": [
    "df11=Df1.groupby('loyalty_flag')['prices'].sum()"
   ]
  },
  {
   "cell_type": "code",
   "execution_count": 16,
   "id": "63956370",
   "metadata": {},
   "outputs": [
    {
     "data": {
      "text/plain": [
       "loyalty_flag\n",
       "Loyal customer      10834065.6\n",
       "New customer         8525009.9\n",
       "Regular customer    27194152.8\n",
       "Name: prices, dtype: float64"
      ]
     },
     "execution_count": 16,
     "metadata": {},
     "output_type": "execute_result"
    }
   ],
   "source": [
    "df11"
   ]
  },
  {
   "cell_type": "markdown",
   "id": "b0722454",
   "metadata": {},
   "source": [
    "#### -creating and saving plot"
   ]
  },
  {
   "cell_type": "code",
   "execution_count": 17,
   "id": "9c144c3a",
   "metadata": {},
   "outputs": [
    {
     "data": {
      "image/png": "[encoded data removed]",
      "text/plain": [
       "<Figure size 640x480 with 1 Axes>"
      ]
     },
     "metadata": {},
     "output_type": "display_data"
    }
   ],
   "source": [
    "bar22=Df1.groupby('loyalty_flag')['prices'].sum().plot.barh(color=['red', 'green','blue'])"
   ]
  },
  {
   "cell_type": "code",
   "execution_count": 18,
   "id": "b81dd39e",
   "metadata": {},
   "outputs": [],
   "source": [
    "bar22.figure.savefig(os.path.join(path, 'Prepared Data', 'YHS_LoyaltyFlagPrices.png'))"
   ]
  },
  {
   "cell_type": "markdown",
   "id": "022c92a7",
   "metadata": {},
   "source": [
    "### 4 -analyzing Young High Spender by Busiest_day"
   ]
  },
  {
   "cell_type": "code",
   "execution_count": 19,
   "id": "58fcebb9",
   "metadata": {},
   "outputs": [],
   "source": [
    "df4=df[['user_id','STATE', 'busiest_day', 'day_of_week']]"
   ]
  },
  {
   "cell_type": "code",
   "execution_count": 20,
   "id": "7a0d6e09",
   "metadata": {},
   "outputs": [
    {
     "data": {
      "text/html": [
       "<div>\n",
       "<style scoped>\n",
       "    .dataframe tbody tr th:only-of-type {\n",
       "        vertical-align: middle;\n",
       "    }\n",
       "\n",
       "    .dataframe tbody tr th {\n",
       "        vertical-align: top;\n",
       "    }\n",
       "\n",
       "    .dataframe thead th {\n",
       "        text-align: right;\n",
       "    }\n",
       "</style>\n",
       "<table border=\"1\" class=\"dataframe\">\n",
       "  <thead>\n",
       "    <tr style=\"text-align: right;\">\n",
       "      <th></th>\n",
       "      <th>user_id</th>\n",
       "      <th>STATE</th>\n",
       "      <th>busiest_day</th>\n",
       "      <th>day_of_week</th>\n",
       "    </tr>\n",
       "  </thead>\n",
       "  <tbody>\n",
       "    <tr>\n",
       "      <th>7894</th>\n",
       "      <td>100958</td>\n",
       "      <td>North Dakota</td>\n",
       "      <td>Busiest days</td>\n",
       "      <td>0</td>\n",
       "    </tr>\n",
       "    <tr>\n",
       "      <th>7895</th>\n",
       "      <td>100958</td>\n",
       "      <td>North Dakota</td>\n",
       "      <td>Busiest days</td>\n",
       "      <td>0</td>\n",
       "    </tr>\n",
       "    <tr>\n",
       "      <th>7896</th>\n",
       "      <td>100958</td>\n",
       "      <td>North Dakota</td>\n",
       "      <td>Busiest days</td>\n",
       "      <td>0</td>\n",
       "    </tr>\n",
       "    <tr>\n",
       "      <th>7897</th>\n",
       "      <td>100958</td>\n",
       "      <td>North Dakota</td>\n",
       "      <td>Busiest days</td>\n",
       "      <td>0</td>\n",
       "    </tr>\n",
       "    <tr>\n",
       "      <th>7898</th>\n",
       "      <td>100958</td>\n",
       "      <td>North Dakota</td>\n",
       "      <td>Busiest days</td>\n",
       "      <td>0</td>\n",
       "    </tr>\n",
       "    <tr>\n",
       "      <th>...</th>\n",
       "      <td>...</td>\n",
       "      <td>...</td>\n",
       "      <td>...</td>\n",
       "      <td>...</td>\n",
       "    </tr>\n",
       "    <tr>\n",
       "      <th>10907307</th>\n",
       "      <td>121722</td>\n",
       "      <td>Minnesota</td>\n",
       "      <td>Regularly days</td>\n",
       "      <td>6</td>\n",
       "    </tr>\n",
       "    <tr>\n",
       "      <th>10907316</th>\n",
       "      <td>37545</td>\n",
       "      <td>District of Columbia</td>\n",
       "      <td>Regularly days</td>\n",
       "      <td>2</td>\n",
       "    </tr>\n",
       "    <tr>\n",
       "      <th>10907317</th>\n",
       "      <td>37545</td>\n",
       "      <td>District of Columbia</td>\n",
       "      <td>Busiest days</td>\n",
       "      <td>0</td>\n",
       "    </tr>\n",
       "    <tr>\n",
       "      <th>10907318</th>\n",
       "      <td>37545</td>\n",
       "      <td>District of Columbia</td>\n",
       "      <td>Slowest days</td>\n",
       "      <td>3</td>\n",
       "    </tr>\n",
       "    <tr>\n",
       "      <th>10907349</th>\n",
       "      <td>171938</td>\n",
       "      <td>Kansas</td>\n",
       "      <td>Regularly days</td>\n",
       "      <td>6</td>\n",
       "    </tr>\n",
       "  </tbody>\n",
       "</table>\n",
       "<p>202625 rows × 4 columns</p>\n",
       "</div>"
      ],
      "text/plain": [
       "          user_id                 STATE     busiest_day  day_of_week\n",
       "7894       100958          North Dakota    Busiest days            0\n",
       "7895       100958          North Dakota    Busiest days            0\n",
       "7896       100958          North Dakota    Busiest days            0\n",
       "7897       100958          North Dakota    Busiest days            0\n",
       "7898       100958          North Dakota    Busiest days            0\n",
       "...           ...                   ...             ...          ...\n",
       "10907307   121722             Minnesota  Regularly days            6\n",
       "10907316    37545  District of Columbia  Regularly days            2\n",
       "10907317    37545  District of Columbia    Busiest days            0\n",
       "10907318    37545  District of Columbia    Slowest days            3\n",
       "10907349   171938                Kansas  Regularly days            6\n",
       "\n",
       "[202625 rows x 4 columns]"
      ]
     },
     "execution_count": 20,
     "metadata": {},
     "output_type": "execute_result"
    }
   ],
   "source": [
    "df4"
   ]
  },
  {
   "cell_type": "code",
   "execution_count": 21,
   "id": "6a0d8788",
   "metadata": {},
   "outputs": [
    {
     "data": {
      "image/png": "[encoded data removed]",
      "text/plain": [
       "<Figure size 640x480 with 1 Axes>"
      ]
     },
     "metadata": {},
     "output_type": "display_data"
    }
   ],
   "source": [
    "pie24=df4.groupby('day_of_week')['busiest_day'].count().plot(kind='pie', autopct='%0.01f%%')"
   ]
  },
  {
   "cell_type": "code",
   "execution_count": 22,
   "id": "1869f79f",
   "metadata": {},
   "outputs": [],
   "source": [
    "pie24.figure.savefig(os.path.join(path, 'Prepared Data', 'YHS_BusiestDayOfWeek.png'))"
   ]
  },
  {
   "cell_type": "code",
   "execution_count": 23,
   "id": "3e4fd4f5",
   "metadata": {},
   "outputs": [
    {
     "data": {
      "text/plain": [
       "day_of_week\n",
       "0    33801\n",
       "1    36289\n",
       "2    26962\n",
       "3    25660\n",
       "4    25823\n",
       "5    28232\n",
       "6    25858\n",
       "Name: busiest_day, dtype: int64"
      ]
     },
     "execution_count": 23,
     "metadata": {},
     "output_type": "execute_result"
    }
   ],
   "source": [
    "df4.groupby('day_of_week')['busiest_day'].count()"
   ]
  },
  {
   "cell_type": "markdown",
   "id": "1d10e1f3",
   "metadata": {},
   "source": [
    "### 5 Analyzing by prefered hour of day"
   ]
  },
  {
   "cell_type": "code",
   "execution_count": 24,
   "id": "f8decae6",
   "metadata": {},
   "outputs": [],
   "source": [
    "df44=df[['order_hour_of_day','user_id']]"
   ]
  },
  {
   "cell_type": "code",
   "execution_count": 25,
   "id": "04152fe0",
   "metadata": {},
   "outputs": [
    {
     "data": {
      "text/plain": [
       "order_hour_of_day\n",
       "0      1417\n",
       "1       657\n",
       "2       450\n",
       "3       324\n",
       "4       346\n",
       "5       601\n",
       "6      1532\n",
       "7      5548\n",
       "8     10697\n",
       "9     14672\n",
       "10    18928\n",
       "11    18016\n",
       "12    16417\n",
       "13    15934\n",
       "14    17338\n",
       "15    16626\n",
       "16    16702\n",
       "17    13792\n",
       "18     9991\n",
       "19     7510\n",
       "20     6110\n",
       "21     3716\n",
       "22     3304\n",
       "23     1997\n",
       "Name: user_id, dtype: int64"
      ]
     },
     "execution_count": 25,
     "metadata": {},
     "output_type": "execute_result"
    }
   ],
   "source": [
    "df44.groupby('order_hour_of_day')['user_id'].count()"
   ]
  },
  {
   "cell_type": "code",
   "execution_count": 26,
   "id": "451f2ccb",
   "metadata": {},
   "outputs": [
    {
     "data": {
      "image/png": "[encoded data removed]",
      "text/plain": [
       "<Figure size 640x480 with 1 Axes>"
      ]
     },
     "metadata": {},
     "output_type": "display_data"
    }
   ],
   "source": [
    "bar44=df44.groupby('order_hour_of_day')['user_id'].count().plot.bar()"
   ]
  },
  {
   "cell_type": "code",
   "execution_count": 27,
   "id": "6f7235cd",
   "metadata": {},
   "outputs": [],
   "source": [
    "bar44.figure.savefig(os.path.join(path, 'Prepared Data', 'YHS_BusiestHourOfDay.png'))"
   ]
  },
  {
   "cell_type": "code",
   "execution_count": null,
   "id": "096b1e57",
   "metadata": {},
   "outputs": [],
   "source": []
  },
  {
   "cell_type": "code",
   "execution_count": null,
   "id": "f5667298",
   "metadata": {},
   "outputs": [],
   "source": []
  },
  {
   "cell_type": "markdown",
   "id": "07093898",
   "metadata": {},
   "source": [
    "### 6 Analyzing number of Young High Spender by State"
   ]
  },
  {
   "cell_type": "code",
   "execution_count": 28,
   "id": "7d0dda6d",
   "metadata": {},
   "outputs": [],
   "source": [
    "df5=df[['user_id','STATE']]"
   ]
  },
  {
   "cell_type": "code",
   "execution_count": 29,
   "id": "313b3b38",
   "metadata": {},
   "outputs": [],
   "source": [
    "DF5=df5.drop_duplicates().reset_index()"
   ]
  },
  {
   "cell_type": "code",
   "execution_count": 30,
   "id": "35bc7814",
   "metadata": {},
   "outputs": [
    {
     "data": {
      "text/html": [
       "<div>\n",
       "<style scoped>\n",
       "    .dataframe tbody tr th:only-of-type {\n",
       "        vertical-align: middle;\n",
       "    }\n",
       "\n",
       "    .dataframe tbody tr th {\n",
       "        vertical-align: top;\n",
       "    }\n",
       "\n",
       "    .dataframe thead th {\n",
       "        text-align: right;\n",
       "    }\n",
       "</style>\n",
       "<table border=\"1\" class=\"dataframe\">\n",
       "  <thead>\n",
       "    <tr style=\"text-align: right;\">\n",
       "      <th></th>\n",
       "      <th>index</th>\n",
       "      <th>user_id</th>\n",
       "      <th>STATE</th>\n",
       "    </tr>\n",
       "  </thead>\n",
       "  <tbody>\n",
       "    <tr>\n",
       "      <th>0</th>\n",
       "      <td>7894</td>\n",
       "      <td>100958</td>\n",
       "      <td>North Dakota</td>\n",
       "    </tr>\n",
       "    <tr>\n",
       "      <th>1</th>\n",
       "      <td>12844</td>\n",
       "      <td>31668</td>\n",
       "      <td>Washington</td>\n",
       "    </tr>\n",
       "    <tr>\n",
       "      <th>2</th>\n",
       "      <td>14327</td>\n",
       "      <td>58136</td>\n",
       "      <td>Virginia</td>\n",
       "    </tr>\n",
       "    <tr>\n",
       "      <th>3</th>\n",
       "      <td>24408</td>\n",
       "      <td>164144</td>\n",
       "      <td>New Mexico</td>\n",
       "    </tr>\n",
       "    <tr>\n",
       "      <th>4</th>\n",
       "      <td>37454</td>\n",
       "      <td>15683</td>\n",
       "      <td>New Mexico</td>\n",
       "    </tr>\n",
       "    <tr>\n",
       "      <th>...</th>\n",
       "      <td>...</td>\n",
       "      <td>...</td>\n",
       "      <td>...</td>\n",
       "    </tr>\n",
       "    <tr>\n",
       "      <th>1251</th>\n",
       "      <td>10870170</td>\n",
       "      <td>43200</td>\n",
       "      <td>Arizona</td>\n",
       "    </tr>\n",
       "    <tr>\n",
       "      <th>1252</th>\n",
       "      <td>10888799</td>\n",
       "      <td>4259</td>\n",
       "      <td>New Mexico</td>\n",
       "    </tr>\n",
       "    <tr>\n",
       "      <th>1253</th>\n",
       "      <td>10892729</td>\n",
       "      <td>7099</td>\n",
       "      <td>Florida</td>\n",
       "    </tr>\n",
       "    <tr>\n",
       "      <th>1254</th>\n",
       "      <td>10902198</td>\n",
       "      <td>86902</td>\n",
       "      <td>West Virginia</td>\n",
       "    </tr>\n",
       "    <tr>\n",
       "      <th>1255</th>\n",
       "      <td>5779024</td>\n",
       "      <td>88866</td>\n",
       "      <td>New Hampshire</td>\n",
       "    </tr>\n",
       "  </tbody>\n",
       "</table>\n",
       "<p>1256 rows × 3 columns</p>\n",
       "</div>"
      ],
      "text/plain": [
       "         index  user_id          STATE\n",
       "0         7894   100958   North Dakota\n",
       "1        12844    31668     Washington\n",
       "2        14327    58136       Virginia\n",
       "3        24408   164144     New Mexico\n",
       "4        37454    15683     New Mexico\n",
       "...        ...      ...            ...\n",
       "1251  10870170    43200        Arizona\n",
       "1252  10888799     4259     New Mexico\n",
       "1253  10892729     7099        Florida\n",
       "1254  10902198    86902  West Virginia\n",
       "1255   5779024    88866  New Hampshire\n",
       "\n",
       "[1256 rows x 3 columns]"
      ]
     },
     "execution_count": 30,
     "metadata": {},
     "output_type": "execute_result"
    }
   ],
   "source": [
    "DF5"
   ]
  },
  {
   "cell_type": "code",
   "execution_count": 31,
   "id": "3095fc97",
   "metadata": {},
   "outputs": [
    {
     "data": {
      "image/png": "[encoded data removed]",
      "text/plain": [
       "<Figure size 640x480 with 1 Axes>"
      ]
     },
     "metadata": {},
     "output_type": "display_data"
    }
   ],
   "source": [
    "bar15=DF5.groupby('STATE')['user_id'].count().plot.bar()"
   ]
  },
  {
   "cell_type": "code",
   "execution_count": 32,
   "id": "3dff13e0",
   "metadata": {},
   "outputs": [
    {
     "data": {
      "text/plain": [
       "STATE\n",
       "Alabama                 21\n",
       "Alaska                  18\n",
       "Arizona                 25\n",
       "Arkansas                23\n",
       "California              25\n",
       "Colorado                26\n",
       "Connecticut             25\n",
       "Delaware                29\n",
       "District of Columbia    34\n",
       "Florida                 21\n",
       "Georgia                 22\n",
       "Hawaii                  25\n",
       "Idaho                   22\n",
       "Illinois                28\n",
       "Indiana                 20\n",
       "Iowa                    14\n",
       "Kansas                  26\n",
       "Kentucky                27\n",
       "Louisiana               17\n",
       "Maine                   28\n",
       "Maryland                25\n",
       "Massachusetts           23\n",
       "Michigan                25\n",
       "Minnesota               30\n",
       "Mississippi             23\n",
       "Missouri                23\n",
       "Montana                 24\n",
       "Nebraska                26\n",
       "Nevada                  20\n",
       "New Hampshire           27\n",
       "New Jersey              25\n",
       "New Mexico              23\n",
       "New York                26\n",
       "North Carolina          26\n",
       "North Dakota            27\n",
       "Ohio                    28\n",
       "Oklahoma                22\n",
       "Oregon                  25\n",
       "Pennsylvania            23\n",
       "Rhode Island            24\n",
       "South Carolina          26\n",
       "South Dakota            28\n",
       "Tennessee               26\n",
       "Texas                   31\n",
       "Utah                    22\n",
       "Vermont                 20\n",
       "Virginia                36\n",
       "Washington              20\n",
       "West Virginia           28\n",
       "Wisconsin               24\n",
       "Wyoming                 24\n",
       "Name: user_id, dtype: int64"
      ]
     },
     "execution_count": 32,
     "metadata": {},
     "output_type": "execute_result"
    }
   ],
   "source": [
    "DF5.groupby('STATE')['user_id'].count()"
   ]
  },
  {
   "cell_type": "code",
   "execution_count": 33,
   "id": "5d005869",
   "metadata": {},
   "outputs": [],
   "source": [
    "bar15.figure.savefig(os.path.join(path, 'Prepared Data', 'YHS_UsersNumberState.png'))"
   ]
  },
  {
   "cell_type": "markdown",
   "id": "a2d601e3",
   "metadata": {},
   "source": [
    "### 7 Analyzing Young High Spenders  by n_dependants"
   ]
  },
  {
   "cell_type": "code",
   "execution_count": 34,
   "id": "2864b045",
   "metadata": {},
   "outputs": [],
   "source": [
    "df6=df[['user_id', 'n_dependants']]"
   ]
  },
  {
   "cell_type": "code",
   "execution_count": 35,
   "id": "8ffd07ba",
   "metadata": {},
   "outputs": [],
   "source": [
    "DF6=df6.drop_duplicates()"
   ]
  },
  {
   "cell_type": "code",
   "execution_count": 36,
   "id": "e705b023",
   "metadata": {},
   "outputs": [
    {
     "data": {
      "image/png": "[encoded data removed]",
      "text/plain": [
       "<Figure size 640x480 with 1 Axes>"
      ]
     },
     "metadata": {},
     "output_type": "display_data"
    }
   ],
   "source": [
    "pie16=df6.groupby(['n_dependants'])['user_id'].nunique().plot(kind='pie', autopct='%0.01f%%')"
   ]
  },
  {
   "cell_type": "code",
   "execution_count": 37,
   "id": "4144864c",
   "metadata": {},
   "outputs": [
    {
     "data": {
      "text/html": [
       "<div>\n",
       "<style scoped>\n",
       "    .dataframe tbody tr th:only-of-type {\n",
       "        vertical-align: middle;\n",
       "    }\n",
       "\n",
       "    .dataframe tbody tr th {\n",
       "        vertical-align: top;\n",
       "    }\n",
       "\n",
       "    .dataframe thead th {\n",
       "        text-align: right;\n",
       "    }\n",
       "</style>\n",
       "<table border=\"1\" class=\"dataframe\">\n",
       "  <thead>\n",
       "    <tr style=\"text-align: right;\">\n",
       "      <th></th>\n",
       "      <th>user_id</th>\n",
       "      <th>n_dependants</th>\n",
       "    </tr>\n",
       "  </thead>\n",
       "  <tbody>\n",
       "    <tr>\n",
       "      <th>7894</th>\n",
       "      <td>100958</td>\n",
       "      <td>2</td>\n",
       "    </tr>\n",
       "    <tr>\n",
       "      <th>7895</th>\n",
       "      <td>100958</td>\n",
       "      <td>2</td>\n",
       "    </tr>\n",
       "    <tr>\n",
       "      <th>7896</th>\n",
       "      <td>100958</td>\n",
       "      <td>2</td>\n",
       "    </tr>\n",
       "    <tr>\n",
       "      <th>7897</th>\n",
       "      <td>100958</td>\n",
       "      <td>2</td>\n",
       "    </tr>\n",
       "    <tr>\n",
       "      <th>7898</th>\n",
       "      <td>100958</td>\n",
       "      <td>2</td>\n",
       "    </tr>\n",
       "    <tr>\n",
       "      <th>...</th>\n",
       "      <td>...</td>\n",
       "      <td>...</td>\n",
       "    </tr>\n",
       "    <tr>\n",
       "      <th>10907307</th>\n",
       "      <td>121722</td>\n",
       "      <td>2</td>\n",
       "    </tr>\n",
       "    <tr>\n",
       "      <th>10907316</th>\n",
       "      <td>37545</td>\n",
       "      <td>2</td>\n",
       "    </tr>\n",
       "    <tr>\n",
       "      <th>10907317</th>\n",
       "      <td>37545</td>\n",
       "      <td>2</td>\n",
       "    </tr>\n",
       "    <tr>\n",
       "      <th>10907318</th>\n",
       "      <td>37545</td>\n",
       "      <td>2</td>\n",
       "    </tr>\n",
       "    <tr>\n",
       "      <th>10907349</th>\n",
       "      <td>171938</td>\n",
       "      <td>3</td>\n",
       "    </tr>\n",
       "  </tbody>\n",
       "</table>\n",
       "<p>202625 rows × 2 columns</p>\n",
       "</div>"
      ],
      "text/plain": [
       "          user_id  n_dependants\n",
       "7894       100958             2\n",
       "7895       100958             2\n",
       "7896       100958             2\n",
       "7897       100958             2\n",
       "7898       100958             2\n",
       "...           ...           ...\n",
       "10907307   121722             2\n",
       "10907316    37545             2\n",
       "10907317    37545             2\n",
       "10907318    37545             2\n",
       "10907349   171938             3\n",
       "\n",
       "[202625 rows x 2 columns]"
      ]
     },
     "execution_count": 37,
     "metadata": {},
     "output_type": "execute_result"
    }
   ],
   "source": [
    "df6"
   ]
  },
  {
   "cell_type": "code",
   "execution_count": 38,
   "id": "930f9006",
   "metadata": {},
   "outputs": [],
   "source": [
    "pie16.figure.savefig(os.path.join(path, 'Prepared Data', 'YHS_NDependansUsers.png'))"
   ]
  },
  {
   "cell_type": "code",
   "execution_count": 39,
   "id": "dadd0bd6",
   "metadata": {},
   "outputs": [
    {
     "data": {
      "text/plain": [
       "n_dependants\n",
       "0    309\n",
       "1    285\n",
       "2    332\n",
       "3    330\n",
       "Name: user_id, dtype: int64"
      ]
     },
     "execution_count": 39,
     "metadata": {},
     "output_type": "execute_result"
    }
   ],
   "source": [
    "DF6.groupby(['n_dependants'])['user_id'].count()"
   ]
  },
  {
   "cell_type": "markdown",
   "id": "69240cad",
   "metadata": {},
   "source": [
    "### 8 Days since prior order"
   ]
  },
  {
   "cell_type": "code",
   "execution_count": 40,
   "id": "38b4175f",
   "metadata": {},
   "outputs": [
    {
     "data": {
      "image/png": "[encoded data removed]",
      "text/plain": [
       "<Figure size 640x480 with 1 Axes>"
      ]
     },
     "metadata": {},
     "output_type": "display_data"
    }
   ],
   "source": [
    "line17=df.groupby('days_since_prior_order')['days_since_prior_order'].count().plot(kind='line')"
   ]
  },
  {
   "cell_type": "code",
   "execution_count": 41,
   "id": "4bc710c4",
   "metadata": {},
   "outputs": [
    {
     "data": {
      "text/plain": [
       "days_since_prior_order\n",
       "0     13539\n",
       "1      7323\n",
       "2     10543\n",
       "3     14036\n",
       "4     14000\n",
       "5     13342\n",
       "6     15013\n",
       "7     20765\n",
       "8     11538\n",
       "9      7955\n",
       "10     6428\n",
       "11     5546\n",
       "12     4933\n",
       "13     5095\n",
       "14     6355\n",
       "15     4517\n",
       "16     3182\n",
       "17     1999\n",
       "18     2189\n",
       "19     1914\n",
       "20     2066\n",
       "21     2182\n",
       "22     1701\n",
       "23     1191\n",
       "24      966\n",
       "25     1024\n",
       "26      958\n",
       "27     1206\n",
       "28     1451\n",
       "29     1060\n",
       "30    18608\n",
       "Name: days_since_prior_order, dtype: int64"
      ]
     },
     "execution_count": 41,
     "metadata": {},
     "output_type": "execute_result"
    }
   ],
   "source": [
    "df.groupby('days_since_prior_order')['days_since_prior_order'].count()"
   ]
  },
  {
   "cell_type": "code",
   "execution_count": 42,
   "id": "dc157699",
   "metadata": {},
   "outputs": [],
   "source": [
    "line17.figure.savefig(os.path.join(path, 'Prepared Data', 'YHS_DaysSincePriorOrder.png'))"
   ]
  },
  {
   "cell_type": "markdown",
   "id": "3d0c4597",
   "metadata": {},
   "source": [
    "### 9  Defining TOP products for client group\n"
   ]
  },
  {
   "cell_type": "markdown",
   "id": "f0621a1a",
   "metadata": {},
   "source": [
    " #### creating subset"
   ]
  },
  {
   "cell_type": "code",
   "execution_count": 43,
   "id": "b5303195",
   "metadata": {},
   "outputs": [],
   "source": [
    "df18=df[['product_name','product_id','prices']]"
   ]
  },
  {
   "cell_type": "code",
   "execution_count": 44,
   "id": "7a749b89",
   "metadata": {},
   "outputs": [
    {
     "data": {
      "text/html": [
       "<div>\n",
       "<style scoped>\n",
       "    .dataframe tbody tr th:only-of-type {\n",
       "        vertical-align: middle;\n",
       "    }\n",
       "\n",
       "    .dataframe tbody tr th {\n",
       "        vertical-align: top;\n",
       "    }\n",
       "\n",
       "    .dataframe thead th {\n",
       "        text-align: right;\n",
       "    }\n",
       "</style>\n",
       "<table border=\"1\" class=\"dataframe\">\n",
       "  <thead>\n",
       "    <tr style=\"text-align: right;\">\n",
       "      <th></th>\n",
       "      <th>product_name</th>\n",
       "      <th>product_id</th>\n",
       "      <th>prices</th>\n",
       "    </tr>\n",
       "  </thead>\n",
       "  <tbody>\n",
       "    <tr>\n",
       "      <th>7894</th>\n",
       "      <td>Traditional Chicken &amp; Orzo with Lemon Soup</td>\n",
       "      <td>129</td>\n",
       "      <td>1.7</td>\n",
       "    </tr>\n",
       "    <tr>\n",
       "      <th>7895</th>\n",
       "      <td>Sesame Flatbreads</td>\n",
       "      <td>12002</td>\n",
       "      <td>7.2</td>\n",
       "    </tr>\n",
       "    <tr>\n",
       "      <th>7896</th>\n",
       "      <td>Natural Apple Sauce Cups</td>\n",
       "      <td>15860</td>\n",
       "      <td>1.1</td>\n",
       "    </tr>\n",
       "    <tr>\n",
       "      <th>7897</th>\n",
       "      <td>Light Mozzarella String Cheese</td>\n",
       "      <td>22882</td>\n",
       "      <td>8.2</td>\n",
       "    </tr>\n",
       "    <tr>\n",
       "      <th>7898</th>\n",
       "      <td>Eggo Nutri-Grain Low Fat Waffles</td>\n",
       "      <td>26510</td>\n",
       "      <td>9.8</td>\n",
       "    </tr>\n",
       "    <tr>\n",
       "      <th>...</th>\n",
       "      <td>...</td>\n",
       "      <td>...</td>\n",
       "      <td>...</td>\n",
       "    </tr>\n",
       "    <tr>\n",
       "      <th>10907307</th>\n",
       "      <td>Kiwi Sandia Sparkling Water</td>\n",
       "      <td>12576</td>\n",
       "      <td>12.9</td>\n",
       "    </tr>\n",
       "    <tr>\n",
       "      <th>10907316</th>\n",
       "      <td>Smartwater</td>\n",
       "      <td>21386</td>\n",
       "      <td>11.0</td>\n",
       "    </tr>\n",
       "    <tr>\n",
       "      <th>10907317</th>\n",
       "      <td>Smartwater</td>\n",
       "      <td>21386</td>\n",
       "      <td>11.0</td>\n",
       "    </tr>\n",
       "    <tr>\n",
       "      <th>10907318</th>\n",
       "      <td>Smartwater</td>\n",
       "      <td>21386</td>\n",
       "      <td>11.0</td>\n",
       "    </tr>\n",
       "    <tr>\n",
       "      <th>10907349</th>\n",
       "      <td>Cheesecake</td>\n",
       "      <td>1993</td>\n",
       "      <td>13.2</td>\n",
       "    </tr>\n",
       "  </tbody>\n",
       "</table>\n",
       "<p>202625 rows × 3 columns</p>\n",
       "</div>"
      ],
      "text/plain": [
       "                                        product_name  product_id  prices\n",
       "7894      Traditional Chicken & Orzo with Lemon Soup         129     1.7\n",
       "7895                               Sesame Flatbreads       12002     7.2\n",
       "7896                        Natural Apple Sauce Cups       15860     1.1\n",
       "7897                  Light Mozzarella String Cheese       22882     8.2\n",
       "7898                Eggo Nutri-Grain Low Fat Waffles       26510     9.8\n",
       "...                                              ...         ...     ...\n",
       "10907307                 Kiwi Sandia Sparkling Water       12576    12.9\n",
       "10907316                                  Smartwater       21386    11.0\n",
       "10907317                                  Smartwater       21386    11.0\n",
       "10907318                                  Smartwater       21386    11.0\n",
       "10907349                                  Cheesecake        1993    13.2\n",
       "\n",
       "[202625 rows x 3 columns]"
      ]
     },
     "execution_count": 44,
     "metadata": {},
     "output_type": "execute_result"
    }
   ],
   "source": [
    "df18"
   ]
  },
  {
   "cell_type": "markdown",
   "id": "4d3ed604",
   "metadata": {},
   "source": [
    "#### identifying the most populare products counting orders rows  and selecting 10 TOP "
   ]
  },
  {
   "cell_type": "code",
   "execution_count": 45,
   "id": "06b51c03",
   "metadata": {},
   "outputs": [],
   "source": [
    "DF18=df18.groupby('product_name')['prices'].count().sort_values( ascending=False).reset_index().drop(index=2).head(10)"
   ]
  },
  {
   "cell_type": "code",
   "execution_count": 46,
   "id": "6fdf1577",
   "metadata": {},
   "outputs": [
    {
     "data": {
      "text/html": [
       "<div>\n",
       "<style scoped>\n",
       "    .dataframe tbody tr th:only-of-type {\n",
       "        vertical-align: middle;\n",
       "    }\n",
       "\n",
       "    .dataframe tbody tr th {\n",
       "        vertical-align: top;\n",
       "    }\n",
       "\n",
       "    .dataframe thead th {\n",
       "        text-align: right;\n",
       "    }\n",
       "</style>\n",
       "<table border=\"1\" class=\"dataframe\">\n",
       "  <thead>\n",
       "    <tr style=\"text-align: right;\">\n",
       "      <th></th>\n",
       "      <th>product_name</th>\n",
       "      <th>prices</th>\n",
       "    </tr>\n",
       "  </thead>\n",
       "  <tbody>\n",
       "    <tr>\n",
       "      <th>0</th>\n",
       "      <td>Banana</td>\n",
       "      <td>3116</td>\n",
       "    </tr>\n",
       "    <tr>\n",
       "      <th>1</th>\n",
       "      <td>Bag of Organic Bananas</td>\n",
       "      <td>1657</td>\n",
       "    </tr>\n",
       "    <tr>\n",
       "      <th>3</th>\n",
       "      <td></td>\n",
       "      <td>1401</td>\n",
       "    </tr>\n",
       "    <tr>\n",
       "      <th>4</th>\n",
       "      <td>2% Reduced Fat Milk</td>\n",
       "      <td>803</td>\n",
       "    </tr>\n",
       "    <tr>\n",
       "      <th>5</th>\n",
       "      <td>Blueberries</td>\n",
       "      <td>776</td>\n",
       "    </tr>\n",
       "    <tr>\n",
       "      <th>6</th>\n",
       "      <td>Roma Tomato</td>\n",
       "      <td>720</td>\n",
       "    </tr>\n",
       "    <tr>\n",
       "      <th>7</th>\n",
       "      <td>Organic Whole Milk</td>\n",
       "      <td>679</td>\n",
       "    </tr>\n",
       "    <tr>\n",
       "      <th>8</th>\n",
       "      <td>Small Hass Avocado</td>\n",
       "      <td>648</td>\n",
       "    </tr>\n",
       "    <tr>\n",
       "      <th>9</th>\n",
       "      <td>Fresh CA Grown Eggs</td>\n",
       "      <td>645</td>\n",
       "    </tr>\n",
       "    <tr>\n",
       "      <th>10</th>\n",
       "      <td>100% Whole Wheat Bread</td>\n",
       "      <td>635</td>\n",
       "    </tr>\n",
       "  </tbody>\n",
       "</table>\n",
       "</div>"
      ],
      "text/plain": [
       "              product_name  prices\n",
       "0                   Banana    3116\n",
       "1   Bag of Organic Bananas    1657\n",
       "3                             1401\n",
       "4      2% Reduced Fat Milk     803\n",
       "5              Blueberries     776\n",
       "6              Roma Tomato     720\n",
       "7       Organic Whole Milk     679\n",
       "8       Small Hass Avocado     648\n",
       "9      Fresh CA Grown Eggs     645\n",
       "10  100% Whole Wheat Bread     635"
      ]
     },
     "execution_count": 46,
     "metadata": {},
     "output_type": "execute_result"
    }
   ],
   "source": [
    "DF18"
   ]
  },
  {
   "cell_type": "code",
   "execution_count": 47,
   "id": "60cacae4",
   "metadata": {},
   "outputs": [],
   "source": [
    "DF18=DF18.rename(columns={'prices':'count_orders'})"
   ]
  },
  {
   "cell_type": "code",
   "execution_count": 48,
   "id": "98a790fb",
   "metadata": {},
   "outputs": [
    {
     "data": {
      "text/html": [
       "<div>\n",
       "<style scoped>\n",
       "    .dataframe tbody tr th:only-of-type {\n",
       "        vertical-align: middle;\n",
       "    }\n",
       "\n",
       "    .dataframe tbody tr th {\n",
       "        vertical-align: top;\n",
       "    }\n",
       "\n",
       "    .dataframe thead th {\n",
       "        text-align: right;\n",
       "    }\n",
       "</style>\n",
       "<table border=\"1\" class=\"dataframe\">\n",
       "  <thead>\n",
       "    <tr style=\"text-align: right;\">\n",
       "      <th></th>\n",
       "      <th>product_name</th>\n",
       "      <th>count_orders</th>\n",
       "    </tr>\n",
       "  </thead>\n",
       "  <tbody>\n",
       "    <tr>\n",
       "      <th>0</th>\n",
       "      <td>Banana</td>\n",
       "      <td>3116</td>\n",
       "    </tr>\n",
       "    <tr>\n",
       "      <th>1</th>\n",
       "      <td>Bag of Organic Bananas</td>\n",
       "      <td>1657</td>\n",
       "    </tr>\n",
       "    <tr>\n",
       "      <th>3</th>\n",
       "      <td></td>\n",
       "      <td>1401</td>\n",
       "    </tr>\n",
       "    <tr>\n",
       "      <th>4</th>\n",
       "      <td>2% Reduced Fat Milk</td>\n",
       "      <td>803</td>\n",
       "    </tr>\n",
       "    <tr>\n",
       "      <th>5</th>\n",
       "      <td>Blueberries</td>\n",
       "      <td>776</td>\n",
       "    </tr>\n",
       "    <tr>\n",
       "      <th>6</th>\n",
       "      <td>Roma Tomato</td>\n",
       "      <td>720</td>\n",
       "    </tr>\n",
       "    <tr>\n",
       "      <th>7</th>\n",
       "      <td>Organic Whole Milk</td>\n",
       "      <td>679</td>\n",
       "    </tr>\n",
       "    <tr>\n",
       "      <th>8</th>\n",
       "      <td>Small Hass Avocado</td>\n",
       "      <td>648</td>\n",
       "    </tr>\n",
       "    <tr>\n",
       "      <th>9</th>\n",
       "      <td>Fresh CA Grown Eggs</td>\n",
       "      <td>645</td>\n",
       "    </tr>\n",
       "    <tr>\n",
       "      <th>10</th>\n",
       "      <td>100% Whole Wheat Bread</td>\n",
       "      <td>635</td>\n",
       "    </tr>\n",
       "  </tbody>\n",
       "</table>\n",
       "</div>"
      ],
      "text/plain": [
       "              product_name  count_orders\n",
       "0                   Banana          3116\n",
       "1   Bag of Organic Bananas          1657\n",
       "3                                   1401\n",
       "4      2% Reduced Fat Milk           803\n",
       "5              Blueberries           776\n",
       "6              Roma Tomato           720\n",
       "7       Organic Whole Milk           679\n",
       "8       Small Hass Avocado           648\n",
       "9      Fresh CA Grown Eggs           645\n",
       "10  100% Whole Wheat Bread           635"
      ]
     },
     "execution_count": 48,
     "metadata": {},
     "output_type": "execute_result"
    }
   ],
   "source": [
    "DF18"
   ]
  },
  {
   "cell_type": "markdown",
   "id": "9976d6c9",
   "metadata": {},
   "source": [
    "#### -creating plot"
   ]
  },
  {
   "cell_type": "code",
   "execution_count": 49,
   "id": "e3ea4809",
   "metadata": {},
   "outputs": [
    {
     "data": {
      "image/png": "[encoded data removed]",
      "text/plain": [
       "<Figure size 640x480 with 1 Axes>"
      ]
     },
     "metadata": {},
     "output_type": "display_data"
    }
   ],
   "source": [
    "Bar21=DF18.plot.barh(x='product_name')"
   ]
  },
  {
   "cell_type": "code",
   "execution_count": 50,
   "id": "ead1aa38",
   "metadata": {},
   "outputs": [],
   "source": [
    "Bar21.figure.savefig(os.path.join(path, 'Prepared Data', 'YHS_Products.png'))"
   ]
  },
  {
   "cell_type": "markdown",
   "id": "0fe223b8",
   "metadata": {},
   "source": [
    "#### droping duplicates"
   ]
  },
  {
   "cell_type": "code",
   "execution_count": 51,
   "id": "231594da",
   "metadata": {},
   "outputs": [],
   "source": [
    "df19=df18.drop_duplicates()"
   ]
  },
  {
   "cell_type": "code",
   "execution_count": 52,
   "id": "0375d652",
   "metadata": {},
   "outputs": [
    {
     "data": {
      "text/html": [
       "<div>\n",
       "<style scoped>\n",
       "    .dataframe tbody tr th:only-of-type {\n",
       "        vertical-align: middle;\n",
       "    }\n",
       "\n",
       "    .dataframe tbody tr th {\n",
       "        vertical-align: top;\n",
       "    }\n",
       "\n",
       "    .dataframe thead th {\n",
       "        text-align: right;\n",
       "    }\n",
       "</style>\n",
       "<table border=\"1\" class=\"dataframe\">\n",
       "  <thead>\n",
       "    <tr style=\"text-align: right;\">\n",
       "      <th></th>\n",
       "      <th>product_name</th>\n",
       "      <th>product_id</th>\n",
       "      <th>prices</th>\n",
       "    </tr>\n",
       "  </thead>\n",
       "  <tbody>\n",
       "    <tr>\n",
       "      <th>7894</th>\n",
       "      <td>Traditional Chicken &amp; Orzo with Lemon Soup</td>\n",
       "      <td>129</td>\n",
       "      <td>1.7</td>\n",
       "    </tr>\n",
       "    <tr>\n",
       "      <th>7895</th>\n",
       "      <td>Sesame Flatbreads</td>\n",
       "      <td>12002</td>\n",
       "      <td>7.2</td>\n",
       "    </tr>\n",
       "    <tr>\n",
       "      <th>7896</th>\n",
       "      <td>Natural Apple Sauce Cups</td>\n",
       "      <td>15860</td>\n",
       "      <td>1.1</td>\n",
       "    </tr>\n",
       "    <tr>\n",
       "      <th>7897</th>\n",
       "      <td>Light Mozzarella String Cheese</td>\n",
       "      <td>22882</td>\n",
       "      <td>8.2</td>\n",
       "    </tr>\n",
       "    <tr>\n",
       "      <th>7898</th>\n",
       "      <td>Eggo Nutri-Grain Low Fat Waffles</td>\n",
       "      <td>26510</td>\n",
       "      <td>9.8</td>\n",
       "    </tr>\n",
       "    <tr>\n",
       "      <th>...</th>\n",
       "      <td>...</td>\n",
       "      <td>...</td>\n",
       "      <td>...</td>\n",
       "    </tr>\n",
       "    <tr>\n",
       "      <th>10902321</th>\n",
       "      <td>Organic Sweet Potatoes</td>\n",
       "      <td>13730</td>\n",
       "      <td>10.8</td>\n",
       "    </tr>\n",
       "    <tr>\n",
       "      <th>10904063</th>\n",
       "      <td>Lavender Lemonade</td>\n",
       "      <td>38809</td>\n",
       "      <td>7.0</td>\n",
       "    </tr>\n",
       "    <tr>\n",
       "      <th>10904235</th>\n",
       "      <td>Classic Ketchup</td>\n",
       "      <td>39799</td>\n",
       "      <td>6.7</td>\n",
       "    </tr>\n",
       "    <tr>\n",
       "      <th>10904727</th>\n",
       "      <td>Lime Italian Sparkling Mineral Water</td>\n",
       "      <td>36216</td>\n",
       "      <td>3.0</td>\n",
       "    </tr>\n",
       "    <tr>\n",
       "      <th>10906678</th>\n",
       "      <td>Beef Polish Sausage</td>\n",
       "      <td>26071</td>\n",
       "      <td>21.7</td>\n",
       "    </tr>\n",
       "  </tbody>\n",
       "</table>\n",
       "<p>16469 rows × 3 columns</p>\n",
       "</div>"
      ],
      "text/plain": [
       "                                        product_name  product_id  prices\n",
       "7894      Traditional Chicken & Orzo with Lemon Soup         129     1.7\n",
       "7895                               Sesame Flatbreads       12002     7.2\n",
       "7896                        Natural Apple Sauce Cups       15860     1.1\n",
       "7897                  Light Mozzarella String Cheese       22882     8.2\n",
       "7898                Eggo Nutri-Grain Low Fat Waffles       26510     9.8\n",
       "...                                              ...         ...     ...\n",
       "10902321                      Organic Sweet Potatoes       13730    10.8\n",
       "10904063                           Lavender Lemonade       38809     7.0\n",
       "10904235                             Classic Ketchup       39799     6.7\n",
       "10904727        Lime Italian Sparkling Mineral Water       36216     3.0\n",
       "10906678                         Beef Polish Sausage       26071    21.7\n",
       "\n",
       "[16469 rows x 3 columns]"
      ]
     },
     "execution_count": 52,
     "metadata": {},
     "output_type": "execute_result"
    }
   ],
   "source": [
    "df19"
   ]
  },
  {
   "cell_type": "markdown",
   "id": "e5494db5",
   "metadata": {},
   "source": [
    "#### sorting by descending order to see YHS TOP products"
   ]
  },
  {
   "cell_type": "code",
   "execution_count": 53,
   "id": "43dbb919",
   "metadata": {},
   "outputs": [
    {
     "data": {
      "text/html": [
       "<div>\n",
       "<style scoped>\n",
       "    .dataframe tbody tr th:only-of-type {\n",
       "        vertical-align: middle;\n",
       "    }\n",
       "\n",
       "    .dataframe tbody tr th {\n",
       "        vertical-align: top;\n",
       "    }\n",
       "\n",
       "    .dataframe thead th {\n",
       "        text-align: right;\n",
       "    }\n",
       "</style>\n",
       "<table border=\"1\" class=\"dataframe\">\n",
       "  <thead>\n",
       "    <tr style=\"text-align: right;\">\n",
       "      <th></th>\n",
       "      <th>product_name</th>\n",
       "      <th>product_id</th>\n",
       "      <th>prices</th>\n",
       "    </tr>\n",
       "  </thead>\n",
       "  <tbody>\n",
       "    <tr>\n",
       "      <th>302065</th>\n",
       "      <td>2 % Reduced Fat  Milk</td>\n",
       "      <td>33664</td>\n",
       "      <td>99999.0</td>\n",
       "    </tr>\n",
       "    <tr>\n",
       "      <th>7926</th>\n",
       "      <td>Lowfat 2% Milkfat Cottage Cheese</td>\n",
       "      <td>21553</td>\n",
       "      <td>14900.0</td>\n",
       "    </tr>\n",
       "  </tbody>\n",
       "</table>\n",
       "</div>"
      ],
      "text/plain": [
       "                            product_name  product_id   prices\n",
       "302065             2 % Reduced Fat  Milk       33664  99999.0\n",
       "7926    Lowfat 2% Milkfat Cottage Cheese       21553  14900.0"
      ]
     },
     "execution_count": 53,
     "metadata": {},
     "output_type": "execute_result"
    }
   ],
   "source": [
    "df19.loc[df19['prices']>=1000].sort_values(by='prices', ascending=False).head(10)"
   ]
  },
  {
   "cell_type": "code",
   "execution_count": null,
   "id": "2fea46c3",
   "metadata": {},
   "outputs": [],
   "source": []
  },
  {
   "cell_type": "code",
   "execution_count": null,
   "id": "c6da9f46",
   "metadata": {},
   "outputs": [],
   "source": []
  }
 ],
 "metadata": {
  "kernelspec": {
   "display_name": "Python 3 (ipykernel)",
   "language": "python",
   "name": "python3"
  },
  "language_info": {
   "codemirror_mode": {
    "name": "ipython",
    "version": 3
   },
   "file_extension": ".py",
   "mimetype": "text/x-python",
   "name": "python",
   "nbconvert_exporter": "python",
   "pygments_lexer": "ipython3",
   "version": "3.10.9"
  }
 },
 "nbformat": 4,
 "nbformat_minor": 5
}
