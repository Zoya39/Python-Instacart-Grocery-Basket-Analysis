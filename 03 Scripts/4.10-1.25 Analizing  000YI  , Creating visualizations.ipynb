{
 "cells": [
  {
   "cell_type": "markdown",
   "id": "dc856afc",
   "metadata": {},
   "source": [
    "### 4.10 Part 1.25 Young Investor\n",
    "#### 1 - importing libraries\n",
    "#### 2 - Importing df\n",
    "#### 3 - Analyzing  by Loyalty Flag\n",
    "#### 4 - Analyzing Purshases by Income\n",
    "#### 5 - Analyzing by Busiest_day\n",
    "#### 6 - Analyzing number by State\n",
    "#### 7 - Analyzing by n_dependants\n",
    "#### 8 - Analyzing Days since prior order\n",
    "#### 9 - Defining TOP products for client group"
   ]
  },
  {
   "cell_type": "markdown",
   "id": "b3478eda",
   "metadata": {},
   "source": [
    "### 1 Importing libraries and df w/o PII"
   ]
  },
  {
   "cell_type": "code",
   "execution_count": 1,
   "id": "e865d8b6",
   "metadata": {},
   "outputs": [],
   "source": [
    "import pandas as pd\n",
    "import numpy as np\n",
    "import os\n",
    "import matplotlib.pyplot as plt\n",
    "import seaborn as sns\n",
    "import scipy"
   ]
  },
  {
   "cell_type": "code",
   "execution_count": 2,
   "id": "a0d783f3",
   "metadata": {},
   "outputs": [],
   "source": [
    "path=r'C:\\Users\\user\\07-2023 Instacart Basket Analysis\\02 Data'"
   ]
  },
  {
   "cell_type": "markdown",
   "id": "7d9928b7",
   "metadata": {},
   "source": [
    "### 2 Importing df"
   ]
  },
  {
   "cell_type": "code",
   "execution_count": 3,
   "id": "339d7784",
   "metadata": {},
   "outputs": [],
   "source": [
    "df=pd.read_pickle(os.path.join(path,'Prepared Data','000YI.pkl'))"
   ]
  },
  {
   "cell_type": "code",
   "execution_count": 4,
   "id": "dd1cde48",
   "metadata": {},
   "outputs": [
    {
     "data": {
      "text/plain": [
       "Index(['user_id', 'Gender', 'STATE', 'Age', 'date_joined', 'n_dependants',\n",
       "       'fam_status', 'income', 'product_id', 'product_name', 'aisle_id',\n",
       "       'department_id', 'prices', 'order_id', 'eval_set', 'order_number',\n",
       "       'day_of_week', 'order_hour_of_day', 'days_since_prior_order',\n",
       "       'add_to_cart_order', 'reordered', 'price_range_loc', 'busiest_day',\n",
       "       'busiest days', 'max_order', 'loyalty_flag', 'mean_price',\n",
       "       'spender_flag', 'median_days_sinse_ord', 'frequent_flag',\n",
       "       'AgeIncome_flag'],\n",
       "      dtype='object')"
      ]
     },
     "execution_count": 4,
     "metadata": {},
     "output_type": "execute_result"
    }
   ],
   "source": [
    "df.columns"
   ]
  },
  {
   "cell_type": "code",
   "execution_count": 5,
   "id": "a95c3088",
   "metadata": {},
   "outputs": [
    {
     "data": {
      "text/plain": [
       "(0, 31)"
      ]
     },
     "execution_count": 5,
     "metadata": {},
     "output_type": "execute_result"
    }
   ],
   "source": [
    "df.shape"
   ]
  },
  {
   "cell_type": "markdown",
   "id": "08380bfb",
   "metadata": {},
   "source": [
    "### 3 -Analyzing Young  Investor by Loyalty Flag"
   ]
  },
  {
   "cell_type": "markdown",
   "id": "6e53f0cf",
   "metadata": {},
   "source": [
    "#### --creating the subset to avoid Memory Error"
   ]
  },
  {
   "cell_type": "code",
   "execution_count": 6,
   "id": "ca583f66",
   "metadata": {},
   "outputs": [],
   "source": [
    "df1=df[['user_id','fam_status','loyalty_flag']]"
   ]
  },
  {
   "cell_type": "code",
   "execution_count": 7,
   "id": "ae779de1",
   "metadata": {},
   "outputs": [],
   "source": [
    "df11=df1.drop_duplicates().reset_index()"
   ]
  },
  {
   "cell_type": "code",
   "execution_count": 8,
   "id": "886f2f16",
   "metadata": {},
   "outputs": [
    {
     "data": {
      "text/html": [
       "<div>\n",
       "<style scoped>\n",
       "    .dataframe tbody tr th:only-of-type {\n",
       "        vertical-align: middle;\n",
       "    }\n",
       "\n",
       "    .dataframe tbody tr th {\n",
       "        vertical-align: top;\n",
       "    }\n",
       "\n",
       "    .dataframe thead th {\n",
       "        text-align: right;\n",
       "    }\n",
       "</style>\n",
       "<table border=\"1\" class=\"dataframe\">\n",
       "  <thead>\n",
       "    <tr style=\"text-align: right;\">\n",
       "      <th></th>\n",
       "      <th>index</th>\n",
       "      <th>user_id</th>\n",
       "      <th>fam_status</th>\n",
       "      <th>loyalty_flag</th>\n",
       "    </tr>\n",
       "  </thead>\n",
       "  <tbody>\n",
       "  </tbody>\n",
       "</table>\n",
       "</div>"
      ],
      "text/plain": [
       "Empty DataFrame\n",
       "Columns: [index, user_id, fam_status, loyalty_flag]\n",
       "Index: []"
      ]
     },
     "execution_count": 8,
     "metadata": {},
     "output_type": "execute_result"
    }
   ],
   "source": [
    "df11"
   ]
  },
  {
   "cell_type": "markdown",
   "id": "189b9934",
   "metadata": {},
   "source": [
    "## There are no Young Investors in db"
   ]
  },
  {
   "cell_type": "code",
   "execution_count": null,
   "id": "dd99bf2e",
   "metadata": {},
   "outputs": [],
   "source": []
  }
 ],
 "metadata": {
  "kernelspec": {
   "display_name": "Python 3 (ipykernel)",
   "language": "python",
   "name": "python3"
  },
  "language_info": {
   "codemirror_mode": {
    "name": "ipython",
    "version": 3
   },
   "file_extension": ".py",
   "mimetype": "text/x-python",
   "name": "python",
   "nbconvert_exporter": "python",
   "pygments_lexer": "ipython3",
   "version": "3.10.9"
  }
 },
 "nbformat": 4,
 "nbformat_minor": 5
}
