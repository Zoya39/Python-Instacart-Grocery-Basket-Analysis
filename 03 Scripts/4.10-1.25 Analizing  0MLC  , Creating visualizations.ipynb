{
 "cells": [
  {
   "cell_type": "markdown",
   "id": "dc856afc",
   "metadata": {},
   "source": [
    "### 4.10 Part 1.25 Matural Loyal Consumer\n",
    "#### 1 - importing libraries\n",
    "#### 2 - Importing df\n",
    "#### 3 - Analyzing  by Loyalty Flag\n",
    "#### 4 - Analyzing Purshases by Income\n",
    "#### 5 - Analyzing by Busiest_day\n",
    "#### 6 - Analyzing number by State\n",
    "#### 7 - Analyzing by n_dependants\n",
    "#### 8 - Analyzing Days since prior order\n",
    "#### 9 - Defining TOP products for client group"
   ]
  },
  {
   "cell_type": "markdown",
   "id": "b3478eda",
   "metadata": {},
   "source": [
    "### 1 Importing libraries and df w/o PII"
   ]
  },
  {
   "cell_type": "code",
   "execution_count": 1,
   "id": "e865d8b6",
   "metadata": {},
   "outputs": [],
   "source": [
    "import pandas as pd\n",
    "import numpy as np\n",
    "import os\n",
    "import matplotlib.pyplot as plt\n",
    "import seaborn as sns\n",
    "import scipy"
   ]
  },
  {
   "cell_type": "code",
   "execution_count": 2,
   "id": "a0d783f3",
   "metadata": {},
   "outputs": [],
   "source": [
    "path=r'C:\\Users\\user\\07-2023 Instacart Basket Analysis\\02 Data'"
   ]
  },
  {
   "cell_type": "markdown",
   "id": "7d9928b7",
   "metadata": {},
   "source": [
    "### 2 Importing df"
   ]
  },
  {
   "cell_type": "code",
   "execution_count": 4,
   "id": "339d7784",
   "metadata": {},
   "outputs": [],
   "source": [
    "df=pd.read_pickle(os.path.join(path,'Prepared Data','0MLC.pkl'))"
   ]
  },
  {
   "cell_type": "code",
   "execution_count": 5,
   "id": "dd1cde48",
   "metadata": {},
   "outputs": [
    {
     "data": {
      "text/plain": [
       "Index(['user_id', 'Gender', 'STATE', 'Age', 'date_joined', 'n_dependants',\n",
       "       'fam_status', 'income', 'product_id', 'product_name', 'aisle_id',\n",
       "       'department_id', 'prices', 'order_id', 'eval_set', 'order_number',\n",
       "       'day_of_week', 'order_hour_of_day', 'days_since_prior_order',\n",
       "       'add_to_cart_order', 'reordered', 'price_range_loc', 'busiest_day',\n",
       "       'busiest days', 'max_order', 'loyalty_flag', 'mean_price',\n",
       "       'spender_flag', 'median_days_sinse_ord', 'frequent_flag'],\n",
       "      dtype='object')"
      ]
     },
     "execution_count": 5,
     "metadata": {},
     "output_type": "execute_result"
    }
   ],
   "source": [
    "df.columns"
   ]
  },
  {
   "cell_type": "code",
   "execution_count": 6,
   "id": "a95c3088",
   "metadata": {},
   "outputs": [
    {
     "data": {
      "text/plain": [
       "(6863808, 30)"
      ]
     },
     "execution_count": 6,
     "metadata": {},
     "output_type": "execute_result"
    }
   ],
   "source": [
    "df.shape"
   ]
  },
  {
   "cell_type": "code",
   "execution_count": 7,
   "id": "d110e1b9",
   "metadata": {},
   "outputs": [
    {
     "data": {
      "text/html": [
       "<div>\n",
       "<style scoped>\n",
       "    .dataframe tbody tr th:only-of-type {\n",
       "        vertical-align: middle;\n",
       "    }\n",
       "\n",
       "    .dataframe tbody tr th {\n",
       "        vertical-align: top;\n",
       "    }\n",
       "\n",
       "    .dataframe thead th {\n",
       "        text-align: right;\n",
       "    }\n",
       "</style>\n",
       "<table border=\"1\" class=\"dataframe\">\n",
       "  <thead>\n",
       "    <tr style=\"text-align: right;\">\n",
       "      <th></th>\n",
       "      <th>user_id</th>\n",
       "      <th>Age</th>\n",
       "      <th>income</th>\n",
       "      <th>product_id</th>\n",
       "      <th>order_number</th>\n",
       "      <th>mean_price</th>\n",
       "    </tr>\n",
       "  </thead>\n",
       "  <tbody>\n",
       "    <tr>\n",
       "      <th>count</th>\n",
       "      <td>6.863808e+06</td>\n",
       "      <td>6.863808e+06</td>\n",
       "      <td>6.863808e+06</td>\n",
       "      <td>6.863808e+06</td>\n",
       "      <td>6.863808e+06</td>\n",
       "      <td>6.863808e+06</td>\n",
       "    </tr>\n",
       "    <tr>\n",
       "      <th>mean</th>\n",
       "      <td>1.031587e+05</td>\n",
       "      <td>6.099241e+01</td>\n",
       "      <td>1.165229e+05</td>\n",
       "      <td>2.551593e+04</td>\n",
       "      <td>3.223800e+01</td>\n",
       "      <td>1.029989e+01</td>\n",
       "    </tr>\n",
       "    <tr>\n",
       "      <th>std</th>\n",
       "      <td>5.935375e+04</td>\n",
       "      <td>1.185911e+01</td>\n",
       "      <td>4.336474e+04</td>\n",
       "      <td>1.407611e+04</td>\n",
       "      <td>2.151584e+01</td>\n",
       "      <td>3.208811e+01</td>\n",
       "    </tr>\n",
       "    <tr>\n",
       "      <th>min</th>\n",
       "      <td>2.700000e+01</td>\n",
       "      <td>4.100000e+01</td>\n",
       "      <td>2.905300e+04</td>\n",
       "      <td>0.000000e+00</td>\n",
       "      <td>1.000000e+00</td>\n",
       "      <td>3.012000e+00</td>\n",
       "    </tr>\n",
       "    <tr>\n",
       "      <th>25%</th>\n",
       "      <td>5.174600e+04</td>\n",
       "      <td>5.100000e+01</td>\n",
       "      <td>9.597500e+04</td>\n",
       "      <td>1.343100e+04</td>\n",
       "      <td>1.500000e+01</td>\n",
       "      <td>7.408529e+00</td>\n",
       "    </tr>\n",
       "    <tr>\n",
       "      <th>50%</th>\n",
       "      <td>1.023010e+05</td>\n",
       "      <td>6.100000e+01</td>\n",
       "      <td>1.161790e+05</td>\n",
       "      <td>2.512200e+04</td>\n",
       "      <td>3.000000e+01</td>\n",
       "      <td>7.821308e+00</td>\n",
       "    </tr>\n",
       "    <tr>\n",
       "      <th>75%</th>\n",
       "      <td>1.538930e+05</td>\n",
       "      <td>7.100000e+01</td>\n",
       "      <td>1.432400e+05</td>\n",
       "      <td>3.776900e+04</td>\n",
       "      <td>4.500000e+01</td>\n",
       "      <td>8.224262e+00</td>\n",
       "    </tr>\n",
       "    <tr>\n",
       "      <th>max</th>\n",
       "      <td>2.062080e+05</td>\n",
       "      <td>8.100000e+01</td>\n",
       "      <td>5.939010e+05</td>\n",
       "      <td>4.968800e+04</td>\n",
       "      <td>1.000000e+02</td>\n",
       "      <td>1.626190e+03</td>\n",
       "    </tr>\n",
       "  </tbody>\n",
       "</table>\n",
       "</div>"
      ],
      "text/plain": [
       "            user_id           Age        income    product_id  order_number  \\\n",
       "count  6.863808e+06  6.863808e+06  6.863808e+06  6.863808e+06  6.863808e+06   \n",
       "mean   1.031587e+05  6.099241e+01  1.165229e+05  2.551593e+04  3.223800e+01   \n",
       "std    5.935375e+04  1.185911e+01  4.336474e+04  1.407611e+04  2.151584e+01   \n",
       "min    2.700000e+01  4.100000e+01  2.905300e+04  0.000000e+00  1.000000e+00   \n",
       "25%    5.174600e+04  5.100000e+01  9.597500e+04  1.343100e+04  1.500000e+01   \n",
       "50%    1.023010e+05  6.100000e+01  1.161790e+05  2.512200e+04  3.000000e+01   \n",
       "75%    1.538930e+05  7.100000e+01  1.432400e+05  3.776900e+04  4.500000e+01   \n",
       "max    2.062080e+05  8.100000e+01  5.939010e+05  4.968800e+04  1.000000e+02   \n",
       "\n",
       "         mean_price  \n",
       "count  6.863808e+06  \n",
       "mean   1.029989e+01  \n",
       "std    3.208811e+01  \n",
       "min    3.012000e+00  \n",
       "25%    7.408529e+00  \n",
       "50%    7.821308e+00  \n",
       "75%    8.224262e+00  \n",
       "max    1.626190e+03  "
      ]
     },
     "execution_count": 7,
     "metadata": {},
     "output_type": "execute_result"
    }
   ],
   "source": [
    "df[['user_id','Age', 'income','product_id', 'order_number','mean_price']] .describe()"
   ]
  },
  {
   "cell_type": "markdown",
   "id": "13111559",
   "metadata": {},
   "source": [
    "#### It's not possible use df.describe(include=[np.object]) per non numeric data because the dtype object was changed to string to avoide Memory errors"
   ]
  },
  {
   "cell_type": "markdown",
   "id": "08380bfb",
   "metadata": {},
   "source": [
    "### 3 -Analyzing MLC by Frequent Flag"
   ]
  },
  {
   "cell_type": "markdown",
   "id": "6e53f0cf",
   "metadata": {},
   "source": [
    "#### --creating the subset to avoid Memory Error"
   ]
  },
  {
   "cell_type": "code",
   "execution_count": 8,
   "id": "ca583f66",
   "metadata": {},
   "outputs": [],
   "source": [
    "df1=df[['user_id','fam_status','frequent_flag']]"
   ]
  },
  {
   "cell_type": "code",
   "execution_count": 9,
   "id": "ae779de1",
   "metadata": {},
   "outputs": [],
   "source": [
    "df11=df1.drop_duplicates().reset_index()"
   ]
  },
  {
   "cell_type": "code",
   "execution_count": 10,
   "id": "886f2f16",
   "metadata": {},
   "outputs": [
    {
     "data": {
      "text/html": [
       "<div>\n",
       "<style scoped>\n",
       "    .dataframe tbody tr th:only-of-type {\n",
       "        vertical-align: middle;\n",
       "    }\n",
       "\n",
       "    .dataframe tbody tr th {\n",
       "        vertical-align: top;\n",
       "    }\n",
       "\n",
       "    .dataframe thead th {\n",
       "        text-align: right;\n",
       "    }\n",
       "</style>\n",
       "<table border=\"1\" class=\"dataframe\">\n",
       "  <thead>\n",
       "    <tr style=\"text-align: right;\">\n",
       "      <th></th>\n",
       "      <th>index</th>\n",
       "      <th>user_id</th>\n",
       "      <th>fam_status</th>\n",
       "      <th>frequent_flag</th>\n",
       "    </tr>\n",
       "  </thead>\n",
       "  <tbody>\n",
       "    <tr>\n",
       "      <th>0</th>\n",
       "      <td>224</td>\n",
       "      <td>33835</td>\n",
       "      <td>married</td>\n",
       "      <td>Regular customer</td>\n",
       "    </tr>\n",
       "    <tr>\n",
       "      <th>1</th>\n",
       "      <td>254</td>\n",
       "      <td>75032</td>\n",
       "      <td>married</td>\n",
       "      <td>Frequent customer</td>\n",
       "    </tr>\n",
       "    <tr>\n",
       "      <th>2</th>\n",
       "      <td>300</td>\n",
       "      <td>516</td>\n",
       "      <td>married</td>\n",
       "      <td>Frequent customer</td>\n",
       "    </tr>\n",
       "    <tr>\n",
       "      <th>3</th>\n",
       "      <td>676</td>\n",
       "      <td>68032</td>\n",
       "      <td>married</td>\n",
       "      <td>Frequent customer</td>\n",
       "    </tr>\n",
       "    <tr>\n",
       "      <th>4</th>\n",
       "      <td>969</td>\n",
       "      <td>113616</td>\n",
       "      <td>married</td>\n",
       "      <td>Frequent customer</td>\n",
       "    </tr>\n",
       "    <tr>\n",
       "      <th>...</th>\n",
       "      <td>...</td>\n",
       "      <td>...</td>\n",
       "      <td>...</td>\n",
       "      <td>...</td>\n",
       "    </tr>\n",
       "    <tr>\n",
       "      <th>11579</th>\n",
       "      <td>6526125</td>\n",
       "      <td>205754</td>\n",
       "      <td>married</td>\n",
       "      <td>Frequent customer</td>\n",
       "    </tr>\n",
       "    <tr>\n",
       "      <th>11580</th>\n",
       "      <td>6526781</td>\n",
       "      <td>193697</td>\n",
       "      <td>divorced/widowed</td>\n",
       "      <td>Frequent customer</td>\n",
       "    </tr>\n",
       "    <tr>\n",
       "      <th>11581</th>\n",
       "      <td>6526948</td>\n",
       "      <td>180441</td>\n",
       "      <td>married</td>\n",
       "      <td>Frequent customer</td>\n",
       "    </tr>\n",
       "    <tr>\n",
       "      <th>11582</th>\n",
       "      <td>6527116</td>\n",
       "      <td>24301</td>\n",
       "      <td>single</td>\n",
       "      <td>Frequent customer</td>\n",
       "    </tr>\n",
       "    <tr>\n",
       "      <th>11583</th>\n",
       "      <td>6527670</td>\n",
       "      <td>99254</td>\n",
       "      <td>married</td>\n",
       "      <td>Frequent customer</td>\n",
       "    </tr>\n",
       "  </tbody>\n",
       "</table>\n",
       "<p>11584 rows × 4 columns</p>\n",
       "</div>"
      ],
      "text/plain": [
       "         index  user_id        fam_status      frequent_flag\n",
       "0          224    33835           married   Regular customer\n",
       "1          254    75032           married  Frequent customer\n",
       "2          300      516           married  Frequent customer\n",
       "3          676    68032           married  Frequent customer\n",
       "4          969   113616           married  Frequent customer\n",
       "...        ...      ...               ...                ...\n",
       "11579  6526125   205754           married  Frequent customer\n",
       "11580  6526781   193697  divorced/widowed  Frequent customer\n",
       "11581  6526948   180441           married  Frequent customer\n",
       "11582  6527116    24301            single  Frequent customer\n",
       "11583  6527670    99254           married  Frequent customer\n",
       "\n",
       "[11584 rows x 4 columns]"
      ]
     },
     "execution_count": 10,
     "metadata": {},
     "output_type": "execute_result"
    }
   ],
   "source": [
    "df11"
   ]
  },
  {
   "cell_type": "markdown",
   "id": "8a4e55ee",
   "metadata": {},
   "source": [
    "#### -analyzing MLC by Frequent_flag and Family Status based on customers number"
   ]
  },
  {
   "cell_type": "code",
   "execution_count": 11,
   "id": "b10af605",
   "metadata": {},
   "outputs": [
    {
     "data": {
      "image/png": "[encoded data removed]",
      "text/plain": [
       "<Figure size 640x480 with 1 Axes>"
      ]
     },
     "metadata": {},
     "output_type": "display_data"
    }
   ],
   "source": [
    "bar12=df11.groupby('fam_status')['frequent_flag'].value_counts().unstack().plot.barh()"
   ]
  },
  {
   "cell_type": "code",
   "execution_count": 12,
   "id": "cdd18c95",
   "metadata": {},
   "outputs": [],
   "source": [
    "bar12.figure.savefig(os.path.join(path, 'Prepared Data', 'MLC_LoyaltyFlag.png'))"
   ]
  },
  {
   "cell_type": "code",
   "execution_count": 13,
   "id": "9633aa76",
   "metadata": {},
   "outputs": [
    {
     "data": {
      "text/plain": [
       "fam_status        frequent_flag    \n",
       "divorced/widowed  Frequent customer    1528\n",
       "                                          3\n",
       "                  Regular customer        1\n",
       "married           Frequent customer    8645\n",
       "                                          6\n",
       "                  Regular customer        4\n",
       "single            Frequent customer    1389\n",
       "                                          8\n",
       "Name: frequent_flag, dtype: int64"
      ]
     },
     "execution_count": 13,
     "metadata": {},
     "output_type": "execute_result"
    }
   ],
   "source": [
    "df11.groupby('fam_status')['frequent_flag'].value_counts()"
   ]
  },
  {
   "cell_type": "markdown",
   "id": "432fdabf",
   "metadata": {},
   "source": [
    "### -analyzing MLC by Frequent flag and Family Status based on purchase number"
   ]
  },
  {
   "cell_type": "code",
   "execution_count": 14,
   "id": "41bc2683",
   "metadata": {},
   "outputs": [
    {
     "data": {
      "image/png": "[encoded data removed]",
      "text/plain": [
       "<Figure size 640x480 with 1 Axes>"
      ]
     },
     "metadata": {},
     "output_type": "display_data"
    }
   ],
   "source": [
    "bar12=df1.groupby('fam_status')['frequent_flag'].value_counts().unstack().plot.barh()"
   ]
  },
  {
   "cell_type": "code",
   "execution_count": 15,
   "id": "d0c74606",
   "metadata": {},
   "outputs": [],
   "source": [
    "bar12.figure.savefig(os.path.join(path, 'Prepared Data', 'MLC_LoyaltyFlagSales.png'))"
   ]
  },
  {
   "cell_type": "code",
   "execution_count": 16,
   "id": "7d9900be",
   "metadata": {},
   "outputs": [
    {
     "data": {
      "text/plain": [
       "fam_status        frequent_flag    \n",
       "divorced/widowed  Frequent customer    1528\n",
       "                                          3\n",
       "                  Regular customer        1\n",
       "married           Frequent customer    8645\n",
       "                                          6\n",
       "                  Regular customer        4\n",
       "single            Frequent customer    1389\n",
       "                                          8\n",
       "Name: frequent_flag, dtype: int64"
      ]
     },
     "execution_count": 16,
     "metadata": {},
     "output_type": "execute_result"
    }
   ],
   "source": [
    "df11.groupby('fam_status')['frequent_flag'].value_counts()"
   ]
  },
  {
   "cell_type": "code",
   "execution_count": null,
   "id": "0d411ab1",
   "metadata": {},
   "outputs": [],
   "source": []
  },
  {
   "cell_type": "markdown",
   "id": "6df1434e",
   "metadata": {},
   "source": [
    "### 4 -analyzing MLC purshases by their income"
   ]
  },
  {
   "cell_type": "code",
   "execution_count": 17,
   "id": "77ac4735",
   "metadata": {},
   "outputs": [],
   "source": [
    "df2=df[['prices', 'income']]"
   ]
  },
  {
   "cell_type": "code",
   "execution_count": 18,
   "id": "e10061de",
   "metadata": {},
   "outputs": [
    {
     "data": {
      "text/plain": [
       "70569661.79999991"
      ]
     },
     "execution_count": 18,
     "metadata": {},
     "output_type": "execute_result"
    }
   ],
   "source": [
    "df2['prices'].sum()"
   ]
  },
  {
   "cell_type": "code",
   "execution_count": 19,
   "id": "9c144c3a",
   "metadata": {},
   "outputs": [],
   "source": [
    "df22=df2.groupby('income').agg(mean_purshase=('prices','mean'))"
   ]
  },
  {
   "cell_type": "code",
   "execution_count": 20,
   "id": "b81dd39e",
   "metadata": {},
   "outputs": [
    {
     "data": {
      "text/html": [
       "<div>\n",
       "<style scoped>\n",
       "    .dataframe tbody tr th:only-of-type {\n",
       "        vertical-align: middle;\n",
       "    }\n",
       "\n",
       "    .dataframe tbody tr th {\n",
       "        vertical-align: top;\n",
       "    }\n",
       "\n",
       "    .dataframe thead th {\n",
       "        text-align: right;\n",
       "    }\n",
       "</style>\n",
       "<table border=\"1\" class=\"dataframe\">\n",
       "  <thead>\n",
       "    <tr style=\"text-align: right;\">\n",
       "      <th></th>\n",
       "      <th>mean_purshase</th>\n",
       "    </tr>\n",
       "    <tr>\n",
       "      <th>income</th>\n",
       "      <th></th>\n",
       "    </tr>\n",
       "  </thead>\n",
       "  <tbody>\n",
       "    <tr>\n",
       "      <th>29053</th>\n",
       "      <td>5.809153</td>\n",
       "    </tr>\n",
       "    <tr>\n",
       "      <th>29076</th>\n",
       "      <td>6.459859</td>\n",
       "    </tr>\n",
       "    <tr>\n",
       "      <th>29095</th>\n",
       "      <td>5.944949</td>\n",
       "    </tr>\n",
       "    <tr>\n",
       "      <th>29134</th>\n",
       "      <td>6.843655</td>\n",
       "    </tr>\n",
       "    <tr>\n",
       "      <th>29229</th>\n",
       "      <td>6.086957</td>\n",
       "    </tr>\n",
       "    <tr>\n",
       "      <th>...</th>\n",
       "      <td>...</td>\n",
       "    </tr>\n",
       "    <tr>\n",
       "      <th>556641</th>\n",
       "      <td>33.659304</td>\n",
       "    </tr>\n",
       "    <tr>\n",
       "      <th>573617</th>\n",
       "      <td>518.481931</td>\n",
       "    </tr>\n",
       "    <tr>\n",
       "      <th>579169</th>\n",
       "      <td>116.827422</td>\n",
       "    </tr>\n",
       "    <tr>\n",
       "      <th>584097</th>\n",
       "      <td>62.517654</td>\n",
       "    </tr>\n",
       "    <tr>\n",
       "      <th>593901</th>\n",
       "      <td>53.892200</td>\n",
       "    </tr>\n",
       "  </tbody>\n",
       "</table>\n",
       "<p>11001 rows × 1 columns</p>\n",
       "</div>"
      ],
      "text/plain": [
       "        mean_purshase\n",
       "income               \n",
       "29053        5.809153\n",
       "29076        6.459859\n",
       "29095        5.944949\n",
       "29134        6.843655\n",
       "29229        6.086957\n",
       "...               ...\n",
       "556641      33.659304\n",
       "573617     518.481931\n",
       "579169     116.827422\n",
       "584097      62.517654\n",
       "593901      53.892200\n",
       "\n",
       "[11001 rows x 1 columns]"
      ]
     },
     "execution_count": 20,
     "metadata": {},
     "output_type": "execute_result"
    }
   ],
   "source": [
    "df22"
   ]
  },
  {
   "cell_type": "code",
   "execution_count": 21,
   "id": "75ff1fd3",
   "metadata": {},
   "outputs": [
    {
     "data": {
      "image/png": "[encoded data removed]",
      "text/plain": [
       "<Figure size 640x480 with 1 Axes>"
      ]
     },
     "metadata": {},
     "output_type": "display_data"
    }
   ],
   "source": [
    "scat3=sns.scatterplot(x='mean_purshase', y='income', data=df22)"
   ]
  },
  {
   "cell_type": "markdown",
   "id": "cba42179",
   "metadata": {},
   "source": [
    "#### filter extrem big values"
   ]
  },
  {
   "cell_type": "code",
   "execution_count": 22,
   "id": "acf7672e",
   "metadata": {},
   "outputs": [],
   "source": [
    "df22filtered=df22[df22['mean_purshase']<600]"
   ]
  },
  {
   "cell_type": "code",
   "execution_count": 23,
   "id": "c96ec908",
   "metadata": {},
   "outputs": [
    {
     "data": {
      "image/png": "[encoded data removed]",
      "text/plain": [
       "<Figure size 640x480 with 1 Axes>"
      ]
     },
     "metadata": {},
     "output_type": "display_data"
    }
   ],
   "source": [
    "scat3=sns.scatterplot(x='mean_purshase', y='income', data=df22filtered)"
   ]
  },
  {
   "cell_type": "code",
   "execution_count": 24,
   "id": "6873ccae",
   "metadata": {},
   "outputs": [],
   "source": [
    "scat3.figure.savefig(os.path.join(path, 'Prepared Data', 'MLC_PricesIncome.png'))"
   ]
  },
  {
   "cell_type": "markdown",
   "id": "022c92a7",
   "metadata": {},
   "source": [
    "### 5 - Analyzing MLC by Busiest_day"
   ]
  },
  {
   "cell_type": "code",
   "execution_count": 25,
   "id": "58fcebb9",
   "metadata": {},
   "outputs": [],
   "source": [
    "df4=df[['user_id','STATE', 'busiest_day', 'day_of_week']]"
   ]
  },
  {
   "cell_type": "code",
   "execution_count": 26,
   "id": "7a0d6e09",
   "metadata": {},
   "outputs": [
    {
     "data": {
      "text/html": [
       "<div>\n",
       "<style scoped>\n",
       "    .dataframe tbody tr th:only-of-type {\n",
       "        vertical-align: middle;\n",
       "    }\n",
       "\n",
       "    .dataframe tbody tr th {\n",
       "        vertical-align: top;\n",
       "    }\n",
       "\n",
       "    .dataframe thead th {\n",
       "        text-align: right;\n",
       "    }\n",
       "</style>\n",
       "<table border=\"1\" class=\"dataframe\">\n",
       "  <thead>\n",
       "    <tr style=\"text-align: right;\">\n",
       "      <th></th>\n",
       "      <th>user_id</th>\n",
       "      <th>STATE</th>\n",
       "      <th>busiest_day</th>\n",
       "      <th>day_of_week</th>\n",
       "    </tr>\n",
       "  </thead>\n",
       "  <tbody>\n",
       "    <tr>\n",
       "      <th>224</th>\n",
       "      <td>33835</td>\n",
       "      <td>Nebraska</td>\n",
       "      <td>Busiest days</td>\n",
       "      <td>1</td>\n",
       "    </tr>\n",
       "    <tr>\n",
       "      <th>225</th>\n",
       "      <td>33835</td>\n",
       "      <td>Nebraska</td>\n",
       "      <td>Slowest days</td>\n",
       "      <td>4</td>\n",
       "    </tr>\n",
       "    <tr>\n",
       "      <th>226</th>\n",
       "      <td>33835</td>\n",
       "      <td>Nebraska</td>\n",
       "      <td>Busiest days</td>\n",
       "      <td>1</td>\n",
       "    </tr>\n",
       "    <tr>\n",
       "      <th>227</th>\n",
       "      <td>33835</td>\n",
       "      <td>Nebraska</td>\n",
       "      <td>Slowest days</td>\n",
       "      <td>4</td>\n",
       "    </tr>\n",
       "    <tr>\n",
       "      <th>228</th>\n",
       "      <td>33835</td>\n",
       "      <td>Nebraska</td>\n",
       "      <td>Regularly days</td>\n",
       "      <td>2</td>\n",
       "    </tr>\n",
       "    <tr>\n",
       "      <th>...</th>\n",
       "      <td>...</td>\n",
       "      <td>...</td>\n",
       "      <td>...</td>\n",
       "      <td>...</td>\n",
       "    </tr>\n",
       "    <tr>\n",
       "      <th>6463831</th>\n",
       "      <td>99254</td>\n",
       "      <td>Delaware</td>\n",
       "      <td>Busiest days</td>\n",
       "      <td>0</td>\n",
       "    </tr>\n",
       "    <tr>\n",
       "      <th>6463832</th>\n",
       "      <td>99254</td>\n",
       "      <td>Delaware</td>\n",
       "      <td>Regularly days</td>\n",
       "      <td>6</td>\n",
       "    </tr>\n",
       "    <tr>\n",
       "      <th>6463833</th>\n",
       "      <td>99254</td>\n",
       "      <td>Delaware</td>\n",
       "      <td>Busiest days</td>\n",
       "      <td>0</td>\n",
       "    </tr>\n",
       "    <tr>\n",
       "      <th>6463834</th>\n",
       "      <td>99254</td>\n",
       "      <td>Delaware</td>\n",
       "      <td>Busiest days</td>\n",
       "      <td>0</td>\n",
       "    </tr>\n",
       "    <tr>\n",
       "      <th>6463835</th>\n",
       "      <td>99254</td>\n",
       "      <td>Delaware</td>\n",
       "      <td>Slowest days</td>\n",
       "      <td>4</td>\n",
       "    </tr>\n",
       "  </tbody>\n",
       "</table>\n",
       "<p>6863808 rows × 4 columns</p>\n",
       "</div>"
      ],
      "text/plain": [
       "         user_id     STATE     busiest_day  day_of_week\n",
       "224        33835  Nebraska    Busiest days            1\n",
       "225        33835  Nebraska    Slowest days            4\n",
       "226        33835  Nebraska    Busiest days            1\n",
       "227        33835  Nebraska    Slowest days            4\n",
       "228        33835  Nebraska  Regularly days            2\n",
       "...          ...       ...             ...          ...\n",
       "6463831    99254  Delaware    Busiest days            0\n",
       "6463832    99254  Delaware  Regularly days            6\n",
       "6463833    99254  Delaware    Busiest days            0\n",
       "6463834    99254  Delaware    Busiest days            0\n",
       "6463835    99254  Delaware    Slowest days            4\n",
       "\n",
       "[6863808 rows x 4 columns]"
      ]
     },
     "execution_count": 26,
     "metadata": {},
     "output_type": "execute_result"
    }
   ],
   "source": [
    "df4"
   ]
  },
  {
   "cell_type": "code",
   "execution_count": 27,
   "id": "6a0d8788",
   "metadata": {},
   "outputs": [
    {
     "data": {
      "image/png": "[encoded data removed]",
      "text/plain": [
       "<Figure size 640x480 with 1 Axes>"
      ]
     },
     "metadata": {},
     "output_type": "display_data"
    }
   ],
   "source": [
    "bar14=df4.groupby('busiest_day').agg({'day_of_week':['mean']}).plot.barh()"
   ]
  },
  {
   "cell_type": "code",
   "execution_count": 28,
   "id": "1869f79f",
   "metadata": {},
   "outputs": [],
   "source": [
    "bar14.figure.savefig(os.path.join(path, 'Prepared Data', 'MLC_BusiestDayOfWeek.png'))"
   ]
  },
  {
   "cell_type": "code",
   "execution_count": 29,
   "id": "85f545c6",
   "metadata": {},
   "outputs": [
    {
     "data": {
      "image/png": "[encoded data removed]",
      "text/plain": [
       "<Figure size 640x480 with 1 Axes>"
      ]
     },
     "metadata": {},
     "output_type": "display_data"
    }
   ],
   "source": [
    "pie24=df4.groupby('day_of_week')['busiest_day'].count().plot(kind='pie', autopct='%0.01f%%')"
   ]
  },
  {
   "cell_type": "code",
   "execution_count": 30,
   "id": "69e06226",
   "metadata": {},
   "outputs": [
    {
     "data": {
      "text/plain": [
       "day_of_week\n",
       "0    1175305\n",
       "1    1218115\n",
       "2     906364\n",
       "3     846258\n",
       "4     857635\n",
       "5     962774\n",
       "6     897357\n",
       "Name: busiest_day, dtype: int64"
      ]
     },
     "execution_count": 30,
     "metadata": {},
     "output_type": "execute_result"
    }
   ],
   "source": [
    "df4.groupby('day_of_week')['busiest_day'].count()"
   ]
  },
  {
   "cell_type": "code",
   "execution_count": 31,
   "id": "8815f6e2",
   "metadata": {},
   "outputs": [],
   "source": [
    "pie24.figure.savefig(os.path.join(path, 'Prepared Data', 'MLC_pieBusiestDayOfWeek.png'))"
   ]
  },
  {
   "cell_type": "markdown",
   "id": "2d3eb93f",
   "metadata": {},
   "source": [
    "### -MLC prefered hour of day"
   ]
  },
  {
   "cell_type": "code",
   "execution_count": 32,
   "id": "1b254441",
   "metadata": {},
   "outputs": [],
   "source": [
    "df44=df[['order_hour_of_day','user_id']]"
   ]
  },
  {
   "cell_type": "code",
   "execution_count": 33,
   "id": "6ea53ee1",
   "metadata": {},
   "outputs": [
    {
     "data": {
      "text/plain": [
       "order_hour_of_day\n",
       "0      39832\n",
       "1      19958\n",
       "2      11851\n",
       "3       8788\n",
       "4      11273\n",
       "5      19847\n",
       "6      73891\n",
       "7     232216\n",
       "8     430745\n",
       "9     587623\n",
       "10    622120\n",
       "11    581665\n",
       "12    539312\n",
       "13    550433\n",
       "14    555092\n",
       "15    537680\n",
       "16    496358\n",
       "17    394718\n",
       "18    304481\n",
       "19    243956\n",
       "20    205763\n",
       "21    176913\n",
       "22    135760\n",
       "23     83533\n",
       "Name: user_id, dtype: int64"
      ]
     },
     "execution_count": 33,
     "metadata": {},
     "output_type": "execute_result"
    }
   ],
   "source": [
    "df44.groupby('order_hour_of_day')['user_id'].count()"
   ]
  },
  {
   "cell_type": "code",
   "execution_count": 34,
   "id": "a091f84d",
   "metadata": {},
   "outputs": [
    {
     "data": {
      "image/png": "[encoded data removed]",
      "text/plain": [
       "<Figure size 640x480 with 1 Axes>"
      ]
     },
     "metadata": {},
     "output_type": "display_data"
    }
   ],
   "source": [
    "bar44=df44.groupby('order_hour_of_day')['user_id'].count().plot.bar()"
   ]
  },
  {
   "cell_type": "code",
   "execution_count": 35,
   "id": "ae76aa46",
   "metadata": {},
   "outputs": [],
   "source": [
    "bar44.figure.savefig(os.path.join(path, 'Prepared Data', 'MLC_BusiestHourOfDay.png'))"
   ]
  },
  {
   "cell_type": "markdown",
   "id": "07093898",
   "metadata": {},
   "source": [
    "### 6 - Analyzing number of MLC by State"
   ]
  },
  {
   "cell_type": "code",
   "execution_count": 36,
   "id": "7d0dda6d",
   "metadata": {},
   "outputs": [],
   "source": [
    "df5=df[['user_id','STATE']]"
   ]
  },
  {
   "cell_type": "code",
   "execution_count": 37,
   "id": "35bc7814",
   "metadata": {},
   "outputs": [],
   "source": [
    "DF5=df5.drop_duplicates().reset_index()"
   ]
  },
  {
   "cell_type": "code",
   "execution_count": 38,
   "id": "17841906",
   "metadata": {},
   "outputs": [
    {
     "data": {
      "text/html": [
       "<div>\n",
       "<style scoped>\n",
       "    .dataframe tbody tr th:only-of-type {\n",
       "        vertical-align: middle;\n",
       "    }\n",
       "\n",
       "    .dataframe tbody tr th {\n",
       "        vertical-align: top;\n",
       "    }\n",
       "\n",
       "    .dataframe thead th {\n",
       "        text-align: right;\n",
       "    }\n",
       "</style>\n",
       "<table border=\"1\" class=\"dataframe\">\n",
       "  <thead>\n",
       "    <tr style=\"text-align: right;\">\n",
       "      <th></th>\n",
       "      <th>index</th>\n",
       "      <th>user_id</th>\n",
       "      <th>STATE</th>\n",
       "    </tr>\n",
       "  </thead>\n",
       "  <tbody>\n",
       "    <tr>\n",
       "      <th>0</th>\n",
       "      <td>224</td>\n",
       "      <td>33835</td>\n",
       "      <td>Nebraska</td>\n",
       "    </tr>\n",
       "    <tr>\n",
       "      <th>1</th>\n",
       "      <td>254</td>\n",
       "      <td>75032</td>\n",
       "      <td>Georgia</td>\n",
       "    </tr>\n",
       "    <tr>\n",
       "      <th>2</th>\n",
       "      <td>300</td>\n",
       "      <td>516</td>\n",
       "      <td>Colorado</td>\n",
       "    </tr>\n",
       "    <tr>\n",
       "      <th>3</th>\n",
       "      <td>676</td>\n",
       "      <td>68032</td>\n",
       "      <td>West Virginia</td>\n",
       "    </tr>\n",
       "    <tr>\n",
       "      <th>4</th>\n",
       "      <td>969</td>\n",
       "      <td>113616</td>\n",
       "      <td>Pennsylvania</td>\n",
       "    </tr>\n",
       "    <tr>\n",
       "      <th>...</th>\n",
       "      <td>...</td>\n",
       "      <td>...</td>\n",
       "      <td>...</td>\n",
       "    </tr>\n",
       "    <tr>\n",
       "      <th>11579</th>\n",
       "      <td>6526125</td>\n",
       "      <td>205754</td>\n",
       "      <td>Maine</td>\n",
       "    </tr>\n",
       "    <tr>\n",
       "      <th>11580</th>\n",
       "      <td>6526781</td>\n",
       "      <td>193697</td>\n",
       "      <td>Wisconsin</td>\n",
       "    </tr>\n",
       "    <tr>\n",
       "      <th>11581</th>\n",
       "      <td>6526948</td>\n",
       "      <td>180441</td>\n",
       "      <td>Arizona</td>\n",
       "    </tr>\n",
       "    <tr>\n",
       "      <th>11582</th>\n",
       "      <td>6527116</td>\n",
       "      <td>24301</td>\n",
       "      <td>New Jersey</td>\n",
       "    </tr>\n",
       "    <tr>\n",
       "      <th>11583</th>\n",
       "      <td>6527670</td>\n",
       "      <td>99254</td>\n",
       "      <td>Delaware</td>\n",
       "    </tr>\n",
       "  </tbody>\n",
       "</table>\n",
       "<p>11584 rows × 3 columns</p>\n",
       "</div>"
      ],
      "text/plain": [
       "         index  user_id          STATE\n",
       "0          224    33835       Nebraska\n",
       "1          254    75032        Georgia\n",
       "2          300      516       Colorado\n",
       "3          676    68032  West Virginia\n",
       "4          969   113616   Pennsylvania\n",
       "...        ...      ...            ...\n",
       "11579  6526125   205754          Maine\n",
       "11580  6526781   193697      Wisconsin\n",
       "11581  6526948   180441        Arizona\n",
       "11582  6527116    24301     New Jersey\n",
       "11583  6527670    99254       Delaware\n",
       "\n",
       "[11584 rows x 3 columns]"
      ]
     },
     "execution_count": 38,
     "metadata": {},
     "output_type": "execute_result"
    }
   ],
   "source": [
    "DF5"
   ]
  },
  {
   "cell_type": "markdown",
   "id": "4c0a7d5a",
   "metadata": {},
   "source": [
    "#### number of rows indicate total number of YLC =11594"
   ]
  },
  {
   "cell_type": "code",
   "execution_count": 39,
   "id": "3095fc97",
   "metadata": {},
   "outputs": [
    {
     "data": {
      "image/png": "[encoded data removed]",
      "text/plain": [
       "<Figure size 640x480 with 1 Axes>"
      ]
     },
     "metadata": {},
     "output_type": "display_data"
    }
   ],
   "source": [
    "bar15=DF5.groupby('STATE')['user_id'].count().plot.bar()"
   ]
  },
  {
   "cell_type": "code",
   "execution_count": 40,
   "id": "ae4f0761",
   "metadata": {},
   "outputs": [
    {
     "data": {
      "text/plain": [
       "STATE\n",
       "Alabama                 243\n",
       "Alaska                  224\n",
       "Arizona                 239\n",
       "Arkansas                223\n",
       "California              259\n",
       "Colorado                250\n",
       "Connecticut             234\n",
       "Delaware                220\n",
       "District of Columbia    232\n",
       "Florida                 234\n",
       "Georgia                 223\n",
       "Hawaii                  220\n",
       "Idaho                   208\n",
       "Illinois                226\n",
       "Indiana                 226\n",
       "Iowa                    223\n",
       "Kansas                  232\n",
       "Kentucky                219\n",
       "Louisiana               211\n",
       "Maine                   240\n",
       "Maryland                221\n",
       "Massachusetts           252\n",
       "Michigan                236\n",
       "Minnesota               242\n",
       "Mississippi             207\n",
       "Missouri                225\n",
       "Montana                 220\n",
       "Nebraska                227\n",
       "Nevada                  215\n",
       "New Hampshire           221\n",
       "New Jersey              219\n",
       "New Mexico              230\n",
       "New York                209\n",
       "North Carolina          203\n",
       "North Dakota            219\n",
       "Ohio                    237\n",
       "Oklahoma                218\n",
       "Oregon                  236\n",
       "Pennsylvania            245\n",
       "Rhode Island            232\n",
       "South Carolina          222\n",
       "South Dakota            215\n",
       "Tennessee               216\n",
       "Texas                   233\n",
       "Utah                    200\n",
       "Vermont                 224\n",
       "Virginia                235\n",
       "Washington              250\n",
       "West Virginia           223\n",
       "Wisconsin               236\n",
       "Wyoming                 230\n",
       "Name: user_id, dtype: int64"
      ]
     },
     "execution_count": 40,
     "metadata": {},
     "output_type": "execute_result"
    }
   ],
   "source": [
    "DF5.groupby('STATE')['user_id'].count()"
   ]
  },
  {
   "cell_type": "markdown",
   "id": "18d39621",
   "metadata": {},
   "source": [
    "#### -defining 10 Top States"
   ]
  },
  {
   "cell_type": "code",
   "execution_count": 41,
   "id": "aac475de",
   "metadata": {},
   "outputs": [
    {
     "data": {
      "text/plain": [
       "STATE\n",
       "California       259\n",
       "Massachusetts    252\n",
       "Colorado         250\n",
       "Washington       250\n",
       "Pennsylvania     245\n",
       "Alabama          243\n",
       "Minnesota        242\n",
       "Maine            240\n",
       "Arizona          239\n",
       "Ohio             237\n",
       "Name: user_id, dtype: int64"
      ]
     },
     "execution_count": 41,
     "metadata": {},
     "output_type": "execute_result"
    }
   ],
   "source": [
    "DF5.groupby('STATE')['user_id'].count().sort_values(ascending=False).head(10)"
   ]
  },
  {
   "cell_type": "code",
   "execution_count": null,
   "id": "d53615bf",
   "metadata": {},
   "outputs": [],
   "source": []
  },
  {
   "cell_type": "markdown",
   "id": "c1b72f2d",
   "metadata": {},
   "source": [
    "#### -saving the plot"
   ]
  },
  {
   "cell_type": "code",
   "execution_count": 42,
   "id": "5d005869",
   "metadata": {},
   "outputs": [],
   "source": [
    "bar15.figure.savefig(os.path.join(path, 'Prepared Data', 'MLC_UsersNumberState.png'))"
   ]
  },
  {
   "cell_type": "markdown",
   "id": "a2d601e3",
   "metadata": {},
   "source": [
    "### 7 - Analyzing MLC by n_dependants"
   ]
  },
  {
   "cell_type": "code",
   "execution_count": 43,
   "id": "2864b045",
   "metadata": {},
   "outputs": [],
   "source": [
    "df6=df[['user_id', 'n_dependants']]"
   ]
  },
  {
   "cell_type": "code",
   "execution_count": 44,
   "id": "e5568505",
   "metadata": {},
   "outputs": [],
   "source": [
    "DF6=df6.drop_duplicates()"
   ]
  },
  {
   "cell_type": "code",
   "execution_count": 45,
   "id": "59971c8d",
   "metadata": {},
   "outputs": [
    {
     "data": {
      "text/plain": [
       "n_dependants\n",
       "0    2929\n",
       "1    2902\n",
       "2    2870\n",
       "3    2883\n",
       "Name: user_id, dtype: int64"
      ]
     },
     "execution_count": 45,
     "metadata": {},
     "output_type": "execute_result"
    }
   ],
   "source": [
    "DF6.groupby(['n_dependants'])['user_id'].count()"
   ]
  },
  {
   "cell_type": "code",
   "execution_count": 46,
   "id": "e705b023",
   "metadata": {},
   "outputs": [
    {
     "data": {
      "image/png": "[encoded data removed]",
      "text/plain": [
       "<Figure size 640x480 with 1 Axes>"
      ]
     },
     "metadata": {},
     "output_type": "display_data"
    }
   ],
   "source": [
    "pie16=DF6.groupby(['n_dependants'])['user_id'].count().plot(kind='pie', autopct='%0.01f%%')"
   ]
  },
  {
   "cell_type": "code",
   "execution_count": 47,
   "id": "4144864c",
   "metadata": {},
   "outputs": [
    {
     "data": {
      "text/html": [
       "<div>\n",
       "<style scoped>\n",
       "    .dataframe tbody tr th:only-of-type {\n",
       "        vertical-align: middle;\n",
       "    }\n",
       "\n",
       "    .dataframe tbody tr th {\n",
       "        vertical-align: top;\n",
       "    }\n",
       "\n",
       "    .dataframe thead th {\n",
       "        text-align: right;\n",
       "    }\n",
       "</style>\n",
       "<table border=\"1\" class=\"dataframe\">\n",
       "  <thead>\n",
       "    <tr style=\"text-align: right;\">\n",
       "      <th></th>\n",
       "      <th>user_id</th>\n",
       "      <th>n_dependants</th>\n",
       "    </tr>\n",
       "  </thead>\n",
       "  <tbody>\n",
       "    <tr>\n",
       "      <th>224</th>\n",
       "      <td>33835</td>\n",
       "      <td>2</td>\n",
       "    </tr>\n",
       "    <tr>\n",
       "      <th>254</th>\n",
       "      <td>75032</td>\n",
       "      <td>1</td>\n",
       "    </tr>\n",
       "    <tr>\n",
       "      <th>300</th>\n",
       "      <td>516</td>\n",
       "      <td>2</td>\n",
       "    </tr>\n",
       "    <tr>\n",
       "      <th>676</th>\n",
       "      <td>68032</td>\n",
       "      <td>2</td>\n",
       "    </tr>\n",
       "    <tr>\n",
       "      <th>969</th>\n",
       "      <td>113616</td>\n",
       "      <td>2</td>\n",
       "    </tr>\n",
       "    <tr>\n",
       "      <th>...</th>\n",
       "      <td>...</td>\n",
       "      <td>...</td>\n",
       "    </tr>\n",
       "    <tr>\n",
       "      <th>6526125</th>\n",
       "      <td>205754</td>\n",
       "      <td>3</td>\n",
       "    </tr>\n",
       "    <tr>\n",
       "      <th>6526781</th>\n",
       "      <td>193697</td>\n",
       "      <td>0</td>\n",
       "    </tr>\n",
       "    <tr>\n",
       "      <th>6526948</th>\n",
       "      <td>180441</td>\n",
       "      <td>1</td>\n",
       "    </tr>\n",
       "    <tr>\n",
       "      <th>6527116</th>\n",
       "      <td>24301</td>\n",
       "      <td>0</td>\n",
       "    </tr>\n",
       "    <tr>\n",
       "      <th>6527670</th>\n",
       "      <td>99254</td>\n",
       "      <td>1</td>\n",
       "    </tr>\n",
       "  </tbody>\n",
       "</table>\n",
       "<p>11584 rows × 2 columns</p>\n",
       "</div>"
      ],
      "text/plain": [
       "         user_id  n_dependants\n",
       "224        33835             2\n",
       "254        75032             1\n",
       "300          516             2\n",
       "676        68032             2\n",
       "969       113616             2\n",
       "...          ...           ...\n",
       "6526125   205754             3\n",
       "6526781   193697             0\n",
       "6526948   180441             1\n",
       "6527116    24301             0\n",
       "6527670    99254             1\n",
       "\n",
       "[11584 rows x 2 columns]"
      ]
     },
     "execution_count": 47,
     "metadata": {},
     "output_type": "execute_result"
    }
   ],
   "source": [
    "DF6"
   ]
  },
  {
   "cell_type": "markdown",
   "id": "4402e712",
   "metadata": {},
   "source": [
    "#### saving the plot"
   ]
  },
  {
   "cell_type": "code",
   "execution_count": 48,
   "id": "930f9006",
   "metadata": {},
   "outputs": [],
   "source": [
    "pie16.figure.savefig(os.path.join(path, 'Prepared Data', 'MLC_NDependansUsers.png'))"
   ]
  },
  {
   "cell_type": "markdown",
   "id": "69240cad",
   "metadata": {},
   "source": [
    "### 8 - Analyzing MLC Days since prior order"
   ]
  },
  {
   "cell_type": "code",
   "execution_count": 49,
   "id": "38b4175f",
   "metadata": {},
   "outputs": [
    {
     "data": {
      "image/png": "[encoded data removed]",
      "text/plain": [
       "<Figure size 640x480 with 1 Axes>"
      ]
     },
     "metadata": {},
     "output_type": "display_data"
    }
   ],
   "source": [
    "line17=df.groupby('days_since_prior_order')['days_since_prior_order'].count().plot(kind='line')"
   ]
  },
  {
   "cell_type": "code",
   "execution_count": 50,
   "id": "4bc710c4",
   "metadata": {},
   "outputs": [
    {
     "data": {
      "text/plain": [
       "days_since_prior_order\n",
       "0     288115\n",
       "1     409526\n",
       "2     635309\n",
       "3     774800\n",
       "4     794166\n",
       "5     714882\n",
       "6     731289\n",
       "7     900206\n",
       "8     434660\n",
       "9     237167\n",
       "10    170493\n",
       "11    126102\n",
       "12    103145\n",
       "13     94077\n",
       "14    102378\n",
       "15     62626\n",
       "16     40650\n",
       "17     31495\n",
       "18     25614\n",
       "19     22015\n",
       "20     22761\n",
       "21     23906\n",
       "22     16442\n",
       "23     10809\n",
       "24      8858\n",
       "25      8228\n",
       "26      6605\n",
       "27      7066\n",
       "28      7965\n",
       "29      5196\n",
       "30     47257\n",
       "Name: days_since_prior_order, dtype: int64"
      ]
     },
     "execution_count": 50,
     "metadata": {},
     "output_type": "execute_result"
    }
   ],
   "source": [
    "df.groupby('days_since_prior_order')['days_since_prior_order'].count()"
   ]
  },
  {
   "cell_type": "code",
   "execution_count": 51,
   "id": "dc157699",
   "metadata": {},
   "outputs": [],
   "source": [
    "line17.figure.savefig(os.path.join(path, 'Prepared Data', 'MLC_DaysSincePriorOrder.png'))"
   ]
  },
  {
   "cell_type": "markdown",
   "id": "3d0c4597",
   "metadata": {},
   "source": [
    "### 9- Defining MLC TOP products for client group\n"
   ]
  },
  {
   "cell_type": "markdown",
   "id": "f0621a1a",
   "metadata": {},
   "source": [
    " #### creating subset"
   ]
  },
  {
   "cell_type": "code",
   "execution_count": 52,
   "id": "b5303195",
   "metadata": {},
   "outputs": [],
   "source": [
    "df18=df[['product_name','product_id','prices']]"
   ]
  },
  {
   "cell_type": "code",
   "execution_count": 53,
   "id": "bc00aa6b",
   "metadata": {},
   "outputs": [
    {
     "data": {
      "text/html": [
       "<div>\n",
       "<style scoped>\n",
       "    .dataframe tbody tr th:only-of-type {\n",
       "        vertical-align: middle;\n",
       "    }\n",
       "\n",
       "    .dataframe tbody tr th {\n",
       "        vertical-align: top;\n",
       "    }\n",
       "\n",
       "    .dataframe thead th {\n",
       "        text-align: right;\n",
       "    }\n",
       "</style>\n",
       "<table border=\"1\" class=\"dataframe\">\n",
       "  <thead>\n",
       "    <tr style=\"text-align: right;\">\n",
       "      <th></th>\n",
       "      <th>product_name</th>\n",
       "      <th>product_id</th>\n",
       "      <th>prices</th>\n",
       "    </tr>\n",
       "  </thead>\n",
       "  <tbody>\n",
       "    <tr>\n",
       "      <th>224</th>\n",
       "      <td>Pistachios</td>\n",
       "      <td>10258</td>\n",
       "      <td>3.0</td>\n",
       "    </tr>\n",
       "    <tr>\n",
       "      <th>225</th>\n",
       "      <td>Pistachios</td>\n",
       "      <td>10258</td>\n",
       "      <td>3.0</td>\n",
       "    </tr>\n",
       "    <tr>\n",
       "      <th>226</th>\n",
       "      <td>Pistachios</td>\n",
       "      <td>10258</td>\n",
       "      <td>3.0</td>\n",
       "    </tr>\n",
       "    <tr>\n",
       "      <th>227</th>\n",
       "      <td>Pistachios</td>\n",
       "      <td>10258</td>\n",
       "      <td>3.0</td>\n",
       "    </tr>\n",
       "    <tr>\n",
       "      <th>228</th>\n",
       "      <td>Dry Roasted Almonds</td>\n",
       "      <td>10441</td>\n",
       "      <td>3.0</td>\n",
       "    </tr>\n",
       "    <tr>\n",
       "      <th>...</th>\n",
       "      <td>...</td>\n",
       "      <td>...</td>\n",
       "      <td>...</td>\n",
       "    </tr>\n",
       "    <tr>\n",
       "      <th>6463831</th>\n",
       "      <td>Oyster Crackers</td>\n",
       "      <td>48190</td>\n",
       "      <td>6.4</td>\n",
       "    </tr>\n",
       "    <tr>\n",
       "      <th>6463832</th>\n",
       "      <td>Shoestring Fries</td>\n",
       "      <td>48720</td>\n",
       "      <td>3.2</td>\n",
       "    </tr>\n",
       "    <tr>\n",
       "      <th>6463833</th>\n",
       "      <td>80% Lean Ground Beef</td>\n",
       "      <td>49236</td>\n",
       "      <td>20.7</td>\n",
       "    </tr>\n",
       "    <tr>\n",
       "      <th>6463834</th>\n",
       "      <td>80% Lean Ground Beef</td>\n",
       "      <td>49236</td>\n",
       "      <td>20.7</td>\n",
       "    </tr>\n",
       "    <tr>\n",
       "      <th>6463835</th>\n",
       "      <td></td>\n",
       "      <td>0</td>\n",
       "      <td>0.0</td>\n",
       "    </tr>\n",
       "  </tbody>\n",
       "</table>\n",
       "<p>6863808 rows × 3 columns</p>\n",
       "</div>"
      ],
      "text/plain": [
       "                 product_name  product_id  prices\n",
       "224                Pistachios       10258     3.0\n",
       "225                Pistachios       10258     3.0\n",
       "226                Pistachios       10258     3.0\n",
       "227                Pistachios       10258     3.0\n",
       "228       Dry Roasted Almonds       10441     3.0\n",
       "...                       ...         ...     ...\n",
       "6463831       Oyster Crackers       48190     6.4\n",
       "6463832      Shoestring Fries       48720     3.2\n",
       "6463833  80% Lean Ground Beef       49236    20.7\n",
       "6463834  80% Lean Ground Beef       49236    20.7\n",
       "6463835                                 0     0.0\n",
       "\n",
       "[6863808 rows x 3 columns]"
      ]
     },
     "execution_count": 53,
     "metadata": {},
     "output_type": "execute_result"
    }
   ],
   "source": [
    "df18"
   ]
  },
  {
   "cell_type": "markdown",
   "id": "dbc97ae0",
   "metadata": {},
   "source": [
    "#### identifying the most populare products counting orders rows  and selecting 10 TOP "
   ]
  },
  {
   "cell_type": "code",
   "execution_count": 54,
   "id": "8d2dd45a",
   "metadata": {},
   "outputs": [],
   "source": [
    "DF18=df18.groupby('product_name')['prices'].count().sort_values( ascending=False).reset_index().head(10)"
   ]
  },
  {
   "cell_type": "code",
   "execution_count": 55,
   "id": "9a600ca3",
   "metadata": {},
   "outputs": [
    {
     "data": {
      "text/html": [
       "<div>\n",
       "<style scoped>\n",
       "    .dataframe tbody tr th:only-of-type {\n",
       "        vertical-align: middle;\n",
       "    }\n",
       "\n",
       "    .dataframe tbody tr th {\n",
       "        vertical-align: top;\n",
       "    }\n",
       "\n",
       "    .dataframe thead th {\n",
       "        text-align: right;\n",
       "    }\n",
       "</style>\n",
       "<table border=\"1\" class=\"dataframe\">\n",
       "  <thead>\n",
       "    <tr style=\"text-align: right;\">\n",
       "      <th></th>\n",
       "      <th>product_name</th>\n",
       "      <th>prices</th>\n",
       "    </tr>\n",
       "  </thead>\n",
       "  <tbody>\n",
       "    <tr>\n",
       "      <th>0</th>\n",
       "      <td>Banana</td>\n",
       "      <td>102783</td>\n",
       "    </tr>\n",
       "    <tr>\n",
       "      <th>1</th>\n",
       "      <td>Bag of Organic Bananas</td>\n",
       "      <td>96843</td>\n",
       "    </tr>\n",
       "    <tr>\n",
       "      <th>2</th>\n",
       "      <td>Organic Strawberries</td>\n",
       "      <td>69471</td>\n",
       "    </tr>\n",
       "    <tr>\n",
       "      <th>3</th>\n",
       "      <td>Organic Hass Avocado</td>\n",
       "      <td>55994</td>\n",
       "    </tr>\n",
       "    <tr>\n",
       "      <th>4</th>\n",
       "      <td>Organic Baby Spinach</td>\n",
       "      <td>53115</td>\n",
       "    </tr>\n",
       "    <tr>\n",
       "      <th>5</th>\n",
       "      <td>Organic Raspberries</td>\n",
       "      <td>37559</td>\n",
       "    </tr>\n",
       "    <tr>\n",
       "      <th>6</th>\n",
       "      <td>Organic Whole Milk</td>\n",
       "      <td>36858</td>\n",
       "    </tr>\n",
       "    <tr>\n",
       "      <th>7</th>\n",
       "      <td>Organic Avocado</td>\n",
       "      <td>33066</td>\n",
       "    </tr>\n",
       "    <tr>\n",
       "      <th>8</th>\n",
       "      <td>Limes</td>\n",
       "      <td>29991</td>\n",
       "    </tr>\n",
       "    <tr>\n",
       "      <th>9</th>\n",
       "      <td>Large Lemon</td>\n",
       "      <td>29078</td>\n",
       "    </tr>\n",
       "  </tbody>\n",
       "</table>\n",
       "</div>"
      ],
      "text/plain": [
       "             product_name  prices\n",
       "0                  Banana  102783\n",
       "1  Bag of Organic Bananas   96843\n",
       "2    Organic Strawberries   69471\n",
       "3    Organic Hass Avocado   55994\n",
       "4    Organic Baby Spinach   53115\n",
       "5     Organic Raspberries   37559\n",
       "6      Organic Whole Milk   36858\n",
       "7         Organic Avocado   33066\n",
       "8                   Limes   29991\n",
       "9             Large Lemon   29078"
      ]
     },
     "execution_count": 55,
     "metadata": {},
     "output_type": "execute_result"
    }
   ],
   "source": [
    "DF18"
   ]
  },
  {
   "cell_type": "code",
   "execution_count": 56,
   "id": "93087406",
   "metadata": {},
   "outputs": [],
   "source": [
    "DF18=DF18.rename(columns={'prices':'count_orders'})"
   ]
  },
  {
   "cell_type": "code",
   "execution_count": 57,
   "id": "501292d6",
   "metadata": {},
   "outputs": [
    {
     "data": {
      "text/html": [
       "<div>\n",
       "<style scoped>\n",
       "    .dataframe tbody tr th:only-of-type {\n",
       "        vertical-align: middle;\n",
       "    }\n",
       "\n",
       "    .dataframe tbody tr th {\n",
       "        vertical-align: top;\n",
       "    }\n",
       "\n",
       "    .dataframe thead th {\n",
       "        text-align: right;\n",
       "    }\n",
       "</style>\n",
       "<table border=\"1\" class=\"dataframe\">\n",
       "  <thead>\n",
       "    <tr style=\"text-align: right;\">\n",
       "      <th></th>\n",
       "      <th>product_name</th>\n",
       "      <th>count_orders</th>\n",
       "    </tr>\n",
       "  </thead>\n",
       "  <tbody>\n",
       "    <tr>\n",
       "      <th>0</th>\n",
       "      <td>Banana</td>\n",
       "      <td>102783</td>\n",
       "    </tr>\n",
       "    <tr>\n",
       "      <th>1</th>\n",
       "      <td>Bag of Organic Bananas</td>\n",
       "      <td>96843</td>\n",
       "    </tr>\n",
       "    <tr>\n",
       "      <th>2</th>\n",
       "      <td>Organic Strawberries</td>\n",
       "      <td>69471</td>\n",
       "    </tr>\n",
       "    <tr>\n",
       "      <th>3</th>\n",
       "      <td>Organic Hass Avocado</td>\n",
       "      <td>55994</td>\n",
       "    </tr>\n",
       "    <tr>\n",
       "      <th>4</th>\n",
       "      <td>Organic Baby Spinach</td>\n",
       "      <td>53115</td>\n",
       "    </tr>\n",
       "    <tr>\n",
       "      <th>5</th>\n",
       "      <td>Organic Raspberries</td>\n",
       "      <td>37559</td>\n",
       "    </tr>\n",
       "    <tr>\n",
       "      <th>6</th>\n",
       "      <td>Organic Whole Milk</td>\n",
       "      <td>36858</td>\n",
       "    </tr>\n",
       "    <tr>\n",
       "      <th>7</th>\n",
       "      <td>Organic Avocado</td>\n",
       "      <td>33066</td>\n",
       "    </tr>\n",
       "    <tr>\n",
       "      <th>8</th>\n",
       "      <td>Limes</td>\n",
       "      <td>29991</td>\n",
       "    </tr>\n",
       "    <tr>\n",
       "      <th>9</th>\n",
       "      <td>Large Lemon</td>\n",
       "      <td>29078</td>\n",
       "    </tr>\n",
       "  </tbody>\n",
       "</table>\n",
       "</div>"
      ],
      "text/plain": [
       "             product_name  count_orders\n",
       "0                  Banana        102783\n",
       "1  Bag of Organic Bananas         96843\n",
       "2    Organic Strawberries         69471\n",
       "3    Organic Hass Avocado         55994\n",
       "4    Organic Baby Spinach         53115\n",
       "5     Organic Raspberries         37559\n",
       "6      Organic Whole Milk         36858\n",
       "7         Organic Avocado         33066\n",
       "8                   Limes         29991\n",
       "9             Large Lemon         29078"
      ]
     },
     "execution_count": 57,
     "metadata": {},
     "output_type": "execute_result"
    }
   ],
   "source": [
    "DF18"
   ]
  },
  {
   "cell_type": "markdown",
   "id": "e81502a4",
   "metadata": {},
   "source": [
    "#### -creating plot"
   ]
  },
  {
   "cell_type": "code",
   "execution_count": 58,
   "id": "24b293eb",
   "metadata": {},
   "outputs": [
    {
     "data": {
      "image/png": "[encoded data removed]",
      "text/plain": [
       "<Figure size 640x480 with 1 Axes>"
      ]
     },
     "metadata": {},
     "output_type": "display_data"
    }
   ],
   "source": [
    "Bar21=DF18.plot.barh(x='product_name')"
   ]
  },
  {
   "cell_type": "markdown",
   "id": "55217e2b",
   "metadata": {},
   "source": [
    "#### -saving the plot"
   ]
  },
  {
   "cell_type": "code",
   "execution_count": 59,
   "id": "6f746e60",
   "metadata": {},
   "outputs": [],
   "source": [
    "Bar21.figure.savefig(os.path.join(path, 'Prepared Data', 'MLC_Products.png'))"
   ]
  },
  {
   "cell_type": "code",
   "execution_count": null,
   "id": "2fea46c3",
   "metadata": {},
   "outputs": [],
   "source": []
  }
 ],
 "metadata": {
  "kernelspec": {
   "display_name": "Python 3 (ipykernel)",
   "language": "python",
   "name": "python3"
  },
  "language_info": {
   "codemirror_mode": {
    "name": "ipython",
    "version": 3
   },
   "file_extension": ".py",
   "mimetype": "text/x-python",
   "name": "python",
   "nbconvert_exporter": "python",
   "pygments_lexer": "ipython3",
   "version": "3.10.9"
  }
 },
 "nbformat": 4,
 "nbformat_minor": 5
}
