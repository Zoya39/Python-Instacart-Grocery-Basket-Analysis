{
 "cells": [
  {
   "cell_type": "markdown",
   "id": "dc856afc",
   "metadata": {},
   "source": [
    "### 4.10 Part 1.2-2\n",
    "#### -analyzing the customers to define which flag is more efficient \n",
    "#### -creating the AgeIncome_flag\n",
    "#### - merging flag with df"
   ]
  },
  {
   "cell_type": "markdown",
   "id": "b3478eda",
   "metadata": {},
   "source": [
    "### 1 Importing libraries and df w/o PII"
   ]
  },
  {
   "cell_type": "code",
   "execution_count": 18,
   "id": "e865d8b6",
   "metadata": {},
   "outputs": [],
   "source": [
    "import pandas as pd\n",
    "import numpy as np\n",
    "import os\n",
    "import matplotlib.pyplot as plt\n",
    "import seaborn as sns\n",
    "import scipy"
   ]
  },
  {
   "cell_type": "code",
   "execution_count": 19,
   "id": "a0d783f3",
   "metadata": {},
   "outputs": [],
   "source": [
    "path=r'C:\\Users\\user\\07-2023 Instacart Basket Analysis\\02 Data'"
   ]
  },
  {
   "cell_type": "code",
   "execution_count": 20,
   "id": "339d7784",
   "metadata": {},
   "outputs": [],
   "source": [
    "df=pd.read_pickle(os.path.join(path,'Prepared Data','sample_revenue.pkl'))"
   ]
  },
  {
   "cell_type": "code",
   "execution_count": 21,
   "id": "dd1cde48",
   "metadata": {},
   "outputs": [
    {
     "data": {
      "text/plain": [
       "Index(['user_id', 'Gender', 'STATE', 'Age', 'date_joined', 'n_dependants',\n",
       "       'fam_status', 'income', 'product_id', 'product_name', 'aisle_id',\n",
       "       'department_id', 'prices', 'order_id', 'eval_set', 'order_number',\n",
       "       'day_of_week', 'order_hour_of_day', 'days_since_prior_order',\n",
       "       'add_to_cart_order', 'reordered', 'price_range_loc', 'busiest_day',\n",
       "       'busiest days', 'max_order', 'loyalty_flag', 'mean_price',\n",
       "       'spender_flag', 'median_days_sinse_ord', 'frequent_flag'],\n",
       "      dtype='object')"
      ]
     },
     "execution_count": 21,
     "metadata": {},
     "output_type": "execute_result"
    }
   ],
   "source": [
    "df.columns"
   ]
  },
  {
   "cell_type": "code",
   "execution_count": 22,
   "id": "a95c3088",
   "metadata": {},
   "outputs": [
    {
     "data": {
      "text/plain": [
       "(31156122, 30)"
      ]
     },
     "execution_count": 22,
     "metadata": {},
     "output_type": "execute_result"
    }
   ],
   "source": [
    "df.shape"
   ]
  },
  {
   "cell_type": "code",
   "execution_count": 23,
   "id": "20786e6a",
   "metadata": {},
   "outputs": [
    {
     "data": {
      "text/html": [
       "<div>\n",
       "<style scoped>\n",
       "    .dataframe tbody tr th:only-of-type {\n",
       "        vertical-align: middle;\n",
       "    }\n",
       "\n",
       "    .dataframe tbody tr th {\n",
       "        vertical-align: top;\n",
       "    }\n",
       "\n",
       "    .dataframe thead th {\n",
       "        text-align: right;\n",
       "    }\n",
       "</style>\n",
       "<table border=\"1\" class=\"dataframe\">\n",
       "  <thead>\n",
       "    <tr style=\"text-align: right;\">\n",
       "      <th></th>\n",
       "      <th>user_id</th>\n",
       "      <th>Age</th>\n",
       "      <th>income</th>\n",
       "      <th>product_id</th>\n",
       "      <th>order_number</th>\n",
       "      <th>mean_price</th>\n",
       "    </tr>\n",
       "  </thead>\n",
       "  <tbody>\n",
       "    <tr>\n",
       "      <th>count</th>\n",
       "      <td>3.115612e+07</td>\n",
       "      <td>3.115612e+07</td>\n",
       "      <td>3.115612e+07</td>\n",
       "      <td>3.115612e+07</td>\n",
       "      <td>3.115612e+07</td>\n",
       "      <td>3.115612e+07</td>\n",
       "    </tr>\n",
       "    <tr>\n",
       "      <th>mean</th>\n",
       "      <td>1.029291e+05</td>\n",
       "      <td>4.946819e+01</td>\n",
       "      <td>9.965268e+04</td>\n",
       "      <td>2.544263e+04</td>\n",
       "      <td>1.784422e+01</td>\n",
       "      <td>1.193667e+01</td>\n",
       "    </tr>\n",
       "    <tr>\n",
       "      <th>std</th>\n",
       "      <td>5.947130e+04</td>\n",
       "      <td>1.848516e+01</td>\n",
       "      <td>4.313888e+04</td>\n",
       "      <td>1.417704e+04</td>\n",
       "      <td>1.763326e+01</td>\n",
       "      <td>8.001784e+01</td>\n",
       "    </tr>\n",
       "    <tr>\n",
       "      <th>min</th>\n",
       "      <td>1.000000e+00</td>\n",
       "      <td>1.800000e+01</td>\n",
       "      <td>2.590300e+04</td>\n",
       "      <td>0.000000e+00</td>\n",
       "      <td>1.000000e+00</td>\n",
       "      <td>1.000000e+00</td>\n",
       "    </tr>\n",
       "    <tr>\n",
       "      <th>25%</th>\n",
       "      <td>5.140900e+04</td>\n",
       "      <td>3.300000e+01</td>\n",
       "      <td>6.727000e+04</td>\n",
       "      <td>1.324900e+04</td>\n",
       "      <td>5.000000e+00</td>\n",
       "      <td>7.397610e+00</td>\n",
       "    </tr>\n",
       "    <tr>\n",
       "      <th>50%</th>\n",
       "      <td>1.025860e+05</td>\n",
       "      <td>4.900000e+01</td>\n",
       "      <td>9.674800e+04</td>\n",
       "      <td>2.510400e+04</td>\n",
       "      <td>1.200000e+01</td>\n",
       "      <td>7.829827e+00</td>\n",
       "    </tr>\n",
       "    <tr>\n",
       "      <th>75%</th>\n",
       "      <td>1.543890e+05</td>\n",
       "      <td>6.500000e+01</td>\n",
       "      <td>1.280820e+05</td>\n",
       "      <td>3.776600e+04</td>\n",
       "      <td>2.500000e+01</td>\n",
       "      <td>8.253762e+00</td>\n",
       "    </tr>\n",
       "    <tr>\n",
       "      <th>max</th>\n",
       "      <td>2.062090e+05</td>\n",
       "      <td>8.100000e+01</td>\n",
       "      <td>5.939010e+05</td>\n",
       "      <td>4.968800e+04</td>\n",
       "      <td>1.000000e+02</td>\n",
       "      <td>1.500694e+04</td>\n",
       "    </tr>\n",
       "  </tbody>\n",
       "</table>\n",
       "</div>"
      ],
      "text/plain": [
       "            user_id           Age        income    product_id  order_number  \\\n",
       "count  3.115612e+07  3.115612e+07  3.115612e+07  3.115612e+07  3.115612e+07   \n",
       "mean   1.029291e+05  4.946819e+01  9.965268e+04  2.544263e+04  1.784422e+01   \n",
       "std    5.947130e+04  1.848516e+01  4.313888e+04  1.417704e+04  1.763326e+01   \n",
       "min    1.000000e+00  1.800000e+01  2.590300e+04  0.000000e+00  1.000000e+00   \n",
       "25%    5.140900e+04  3.300000e+01  6.727000e+04  1.324900e+04  5.000000e+00   \n",
       "50%    1.025860e+05  4.900000e+01  9.674800e+04  2.510400e+04  1.200000e+01   \n",
       "75%    1.543890e+05  6.500000e+01  1.280820e+05  3.776600e+04  2.500000e+01   \n",
       "max    2.062090e+05  8.100000e+01  5.939010e+05  4.968800e+04  1.000000e+02   \n",
       "\n",
       "         mean_price  \n",
       "count  3.115612e+07  \n",
       "mean   1.193667e+01  \n",
       "std    8.001784e+01  \n",
       "min    1.000000e+00  \n",
       "25%    7.397610e+00  \n",
       "50%    7.829827e+00  \n",
       "75%    8.253762e+00  \n",
       "max    1.500694e+04  "
      ]
     },
     "execution_count": 23,
     "metadata": {},
     "output_type": "execute_result"
    }
   ],
   "source": [
    "df[['user_id','Age', 'income','product_id', 'order_number','mean_price']] .describe()"
   ]
  },
  {
   "cell_type": "markdown",
   "id": "1f8912ad",
   "metadata": {},
   "source": [
    "### 5 - Analyzing Young   Advanced Consumer by Busiest_day"
   ]
  },
  {
   "cell_type": "code",
   "execution_count": 24,
   "id": "7978c4d1",
   "metadata": {},
   "outputs": [],
   "source": [
    "df4=df[['user_id','STATE', 'busiest_day', 'day_of_week']]"
   ]
  },
  {
   "cell_type": "code",
   "execution_count": 25,
   "id": "b88b125a",
   "metadata": {},
   "outputs": [
    {
     "data": {
      "image/png": "[encoded data removed]",
      "text/plain": [
       "<Figure size 640x480 with 1 Axes>"
      ]
     },
     "metadata": {},
     "output_type": "display_data"
    }
   ],
   "source": [
    "pie24=df4.groupby('day_of_week')['busiest_day'].count().plot(kind='pie', autopct='%0.01f%%')"
   ]
  },
  {
   "cell_type": "code",
   "execution_count": 26,
   "id": "664910b2",
   "metadata": {},
   "outputs": [
    {
     "data": {
      "text/plain": [
       "day_of_week\n",
       "0    5948348\n",
       "1    5440943\n",
       "2    4048187\n",
       "3    3692196\n",
       "4    3648286\n",
       "5    4059422\n",
       "6    4318740\n",
       "Name: busiest_day, dtype: int64"
      ]
     },
     "execution_count": 26,
     "metadata": {},
     "output_type": "execute_result"
    }
   ],
   "source": [
    "df4.groupby('day_of_week')['busiest_day'].count()"
   ]
  },
  {
   "cell_type": "code",
   "execution_count": 27,
   "id": "43eaba73",
   "metadata": {},
   "outputs": [],
   "source": [
    "pie24.figure.savefig(os.path.join(path, 'Prepared Data', 'Entire_pieBusiestDayOfWeek.png'))"
   ]
  },
  {
   "cell_type": "markdown",
   "id": "31fc8767",
   "metadata": {},
   "source": [
    "#### -prefered hour of day"
   ]
  },
  {
   "cell_type": "code",
   "execution_count": 28,
   "id": "82b39c77",
   "metadata": {},
   "outputs": [],
   "source": [
    "df44=df[['order_hour_of_day','user_id']]"
   ]
  },
  {
   "cell_type": "code",
   "execution_count": 29,
   "id": "a194eb6e",
   "metadata": {},
   "outputs": [
    {
     "data": {
      "text/plain": [
       "order_hour_of_day\n",
       "0      209292\n",
       "1      110318\n",
       "2       66097\n",
       "3       49110\n",
       "4       51078\n",
       "5       85001\n",
       "6      282741\n",
       "7      868390\n",
       "8     1668939\n",
       "9     2377634\n",
       "10    2665459\n",
       "11    2630504\n",
       "12    2511088\n",
       "13    2554778\n",
       "14    2584001\n",
       "15    2551999\n",
       "16    2428826\n",
       "17    1995584\n",
       "18    1561796\n",
       "19    1201887\n",
       "20     936603\n",
       "21     767563\n",
       "22     610685\n",
       "23     386749\n",
       "Name: user_id, dtype: int64"
      ]
     },
     "execution_count": 29,
     "metadata": {},
     "output_type": "execute_result"
    }
   ],
   "source": [
    "df44.groupby('order_hour_of_day')['user_id'].count()"
   ]
  },
  {
   "cell_type": "code",
   "execution_count": 30,
   "id": "6c70c7ce",
   "metadata": {},
   "outputs": [
    {
     "data": {
      "image/png": "[encoded data removed]",
      "text/plain": [
       "<Figure size 640x480 with 1 Axes>"
      ]
     },
     "metadata": {},
     "output_type": "display_data"
    }
   ],
   "source": [
    "bar44=df44.groupby('order_hour_of_day')['user_id'].count().plot.bar()"
   ]
  },
  {
   "cell_type": "code",
   "execution_count": 31,
   "id": "d572a63e",
   "metadata": {},
   "outputs": [],
   "source": [
    "bar44.figure.savefig(os.path.join(path, 'Prepared Data', 'Entire_BusiestHourOfDay.png'))"
   ]
  },
  {
   "cell_type": "markdown",
   "id": "e994e3de",
   "metadata": {},
   "source": [
    "### 9- Defining TOP products "
   ]
  },
  {
   "cell_type": "code",
   "execution_count": 32,
   "id": "bdc226da",
   "metadata": {},
   "outputs": [],
   "source": [
    "df18=df[['product_name','product_id','prices']]"
   ]
  },
  {
   "cell_type": "code",
   "execution_count": 33,
   "id": "52be7ba0",
   "metadata": {},
   "outputs": [
    {
     "data": {
      "text/html": [
       "<div>\n",
       "<style scoped>\n",
       "    .dataframe tbody tr th:only-of-type {\n",
       "        vertical-align: middle;\n",
       "    }\n",
       "\n",
       "    .dataframe tbody tr th {\n",
       "        vertical-align: top;\n",
       "    }\n",
       "\n",
       "    .dataframe thead th {\n",
       "        text-align: right;\n",
       "    }\n",
       "</style>\n",
       "<table border=\"1\" class=\"dataframe\">\n",
       "  <thead>\n",
       "    <tr style=\"text-align: right;\">\n",
       "      <th></th>\n",
       "      <th>product_name</th>\n",
       "      <th>product_id</th>\n",
       "      <th>prices</th>\n",
       "    </tr>\n",
       "  </thead>\n",
       "  <tbody>\n",
       "    <tr>\n",
       "      <th>0</th>\n",
       "      <td>Soda</td>\n",
       "      <td>196</td>\n",
       "      <td>9.0</td>\n",
       "    </tr>\n",
       "    <tr>\n",
       "      <th>1</th>\n",
       "      <td>Clementines</td>\n",
       "      <td>6184</td>\n",
       "      <td>4.3</td>\n",
       "    </tr>\n",
       "    <tr>\n",
       "      <th>2</th>\n",
       "      <td>0% Greek Strained Yogurt</td>\n",
       "      <td>38928</td>\n",
       "      <td>12.6</td>\n",
       "    </tr>\n",
       "    <tr>\n",
       "      <th>3</th>\n",
       "      <td></td>\n",
       "      <td>0</td>\n",
       "      <td>0.0</td>\n",
       "    </tr>\n",
       "    <tr>\n",
       "      <th>4</th>\n",
       "      <td>Organic Diced Tomatoes</td>\n",
       "      <td>890</td>\n",
       "      <td>4.9</td>\n",
       "    </tr>\n",
       "    <tr>\n",
       "      <th>...</th>\n",
       "      <td>...</td>\n",
       "      <td>...</td>\n",
       "      <td>...</td>\n",
       "    </tr>\n",
       "    <tr>\n",
       "      <th>6464349</th>\n",
       "      <td>Chicken Carbonara</td>\n",
       "      <td>32019</td>\n",
       "      <td>13.2</td>\n",
       "    </tr>\n",
       "    <tr>\n",
       "      <th>6464350</th>\n",
       "      <td>Wild Blueberry Muffin &amp; Quick Bread Mix</td>\n",
       "      <td>44678</td>\n",
       "      <td>12.1</td>\n",
       "    </tr>\n",
       "    <tr>\n",
       "      <th>6464351</th>\n",
       "      <td>Fresh Mint Toothpaste</td>\n",
       "      <td>44801</td>\n",
       "      <td>1.5</td>\n",
       "    </tr>\n",
       "    <tr>\n",
       "      <th>6464352</th>\n",
       "      <td>Favorites Super Moist Butter Recipe Yellow Cak...</td>\n",
       "      <td>47115</td>\n",
       "      <td>8.6</td>\n",
       "    </tr>\n",
       "    <tr>\n",
       "      <th>6464353</th>\n",
       "      <td>Puffs Simply White Cheddar Cheese Flavored Snacks</td>\n",
       "      <td>49496</td>\n",
       "      <td>6.0</td>\n",
       "    </tr>\n",
       "  </tbody>\n",
       "</table>\n",
       "<p>31156122 rows × 3 columns</p>\n",
       "</div>"
      ],
      "text/plain": [
       "                                              product_name  product_id  prices\n",
       "0                                                     Soda         196     9.0\n",
       "1                                              Clementines        6184     4.3\n",
       "2                                 0% Greek Strained Yogurt       38928    12.6\n",
       "3                                                                    0     0.0\n",
       "4                                   Organic Diced Tomatoes         890     4.9\n",
       "...                                                    ...         ...     ...\n",
       "6464349                                  Chicken Carbonara       32019    13.2\n",
       "6464350            Wild Blueberry Muffin & Quick Bread Mix       44678    12.1\n",
       "6464351                              Fresh Mint Toothpaste       44801     1.5\n",
       "6464352  Favorites Super Moist Butter Recipe Yellow Cak...       47115     8.6\n",
       "6464353  Puffs Simply White Cheddar Cheese Flavored Snacks       49496     6.0\n",
       "\n",
       "[31156122 rows x 3 columns]"
      ]
     },
     "execution_count": 33,
     "metadata": {},
     "output_type": "execute_result"
    }
   ],
   "source": [
    "df18"
   ]
  },
  {
   "cell_type": "markdown",
   "id": "91616ed9",
   "metadata": {},
   "source": [
    "#### identifying the most populare products counting orders rows  and selecting 10 TOP "
   ]
  },
  {
   "cell_type": "code",
   "execution_count": 34,
   "id": "5c182719",
   "metadata": {},
   "outputs": [],
   "source": [
    "DF18=df18.groupby('product_name')['prices'].count().sort_values( ascending=False).reset_index().head(11)"
   ]
  },
  {
   "cell_type": "code",
   "execution_count": 35,
   "id": "e4583304",
   "metadata": {},
   "outputs": [
    {
     "data": {
      "text/html": [
       "<div>\n",
       "<style scoped>\n",
       "    .dataframe tbody tr th:only-of-type {\n",
       "        vertical-align: middle;\n",
       "    }\n",
       "\n",
       "    .dataframe tbody tr th {\n",
       "        vertical-align: top;\n",
       "    }\n",
       "\n",
       "    .dataframe thead th {\n",
       "        text-align: right;\n",
       "    }\n",
       "</style>\n",
       "<table border=\"1\" class=\"dataframe\">\n",
       "  <thead>\n",
       "    <tr style=\"text-align: right;\">\n",
       "      <th></th>\n",
       "      <th>product_name</th>\n",
       "      <th>prices</th>\n",
       "    </tr>\n",
       "  </thead>\n",
       "  <tbody>\n",
       "    <tr>\n",
       "      <th>0</th>\n",
       "      <td>Banana</td>\n",
       "      <td>453164</td>\n",
       "    </tr>\n",
       "    <tr>\n",
       "      <th>1</th>\n",
       "      <td>Bag of Organic Bananas</td>\n",
       "      <td>366403</td>\n",
       "    </tr>\n",
       "    <tr>\n",
       "      <th>2</th>\n",
       "      <td>Organic Strawberries</td>\n",
       "      <td>255988</td>\n",
       "    </tr>\n",
       "    <tr>\n",
       "      <th>3</th>\n",
       "      <td>Organic Baby Spinach</td>\n",
       "      <td>231772</td>\n",
       "    </tr>\n",
       "    <tr>\n",
       "      <th>4</th>\n",
       "      <td>Organic Hass Avocado</td>\n",
       "      <td>206799</td>\n",
       "    </tr>\n",
       "    <tr>\n",
       "      <th>5</th>\n",
       "      <td></td>\n",
       "      <td>191552</td>\n",
       "    </tr>\n",
       "    <tr>\n",
       "      <th>6</th>\n",
       "      <td>Organic Avocado</td>\n",
       "      <td>168267</td>\n",
       "    </tr>\n",
       "    <tr>\n",
       "      <th>7</th>\n",
       "      <td>Large Lemon</td>\n",
       "      <td>145397</td>\n",
       "    </tr>\n",
       "    <tr>\n",
       "      <th>8</th>\n",
       "      <td>Strawberries</td>\n",
       "      <td>136330</td>\n",
       "    </tr>\n",
       "    <tr>\n",
       "      <th>9</th>\n",
       "      <td>Limes</td>\n",
       "      <td>134751</td>\n",
       "    </tr>\n",
       "    <tr>\n",
       "      <th>10</th>\n",
       "      <td>Organic Whole Milk</td>\n",
       "      <td>133514</td>\n",
       "    </tr>\n",
       "  </tbody>\n",
       "</table>\n",
       "</div>"
      ],
      "text/plain": [
       "              product_name  prices\n",
       "0                   Banana  453164\n",
       "1   Bag of Organic Bananas  366403\n",
       "2     Organic Strawberries  255988\n",
       "3     Organic Baby Spinach  231772\n",
       "4     Organic Hass Avocado  206799\n",
       "5                           191552\n",
       "6          Organic Avocado  168267\n",
       "7              Large Lemon  145397\n",
       "8             Strawberries  136330\n",
       "9                    Limes  134751\n",
       "10      Organic Whole Milk  133514"
      ]
     },
     "execution_count": 35,
     "metadata": {},
     "output_type": "execute_result"
    }
   ],
   "source": [
    "DF18"
   ]
  },
  {
   "cell_type": "code",
   "execution_count": 36,
   "id": "b697f049",
   "metadata": {},
   "outputs": [],
   "source": [
    "DF18=DF18.rename(columns={'prices':'count_orders'})"
   ]
  },
  {
   "cell_type": "code",
   "execution_count": 38,
   "id": "1bab1efc",
   "metadata": {},
   "outputs": [],
   "source": [
    "DF18=DF18.drop(index=5)"
   ]
  },
  {
   "cell_type": "markdown",
   "id": "a3c410ae",
   "metadata": {},
   "source": [
    "#### -creating plot"
   ]
  },
  {
   "cell_type": "code",
   "execution_count": 39,
   "id": "d1a5d675",
   "metadata": {},
   "outputs": [
    {
     "data": {
      "image/png": "[encoded data removed]",
      "text/plain": [
       "<Figure size 640x480 with 1 Axes>"
      ]
     },
     "metadata": {},
     "output_type": "display_data"
    }
   ],
   "source": [
    "Bar21=DF18.plot.barh(x='product_name')"
   ]
  },
  {
   "cell_type": "code",
   "execution_count": 40,
   "id": "d8eca259",
   "metadata": {},
   "outputs": [],
   "source": [
    "Bar21.figure.savefig(os.path.join(path, 'Prepared Data', 'Entire_Products.png'))"
   ]
  },
  {
   "cell_type": "markdown",
   "id": "877da3ee",
   "metadata": {},
   "source": [
    "### total amount of purshases"
   ]
  },
  {
   "cell_type": "code",
   "execution_count": 41,
   "id": "e0ccf672",
   "metadata": {},
   "outputs": [
    {
     "data": {
      "text/plain": [
       "369873724.4000002"
      ]
     },
     "execution_count": 41,
     "metadata": {},
     "output_type": "execute_result"
    }
   ],
   "source": [
    "df['prices'].sum()"
   ]
  },
  {
   "cell_type": "markdown",
   "id": "5236db99",
   "metadata": {},
   "source": [
    "### 4.10-5 Creating a profiling variable based on age, income, certain goods in the “department_id” column, and number of dependents. If using the “orders_day_of_the_week” and “order_hour_of_day” columns show how they would impact customer profiles. (seeking for characteristics would lead to the profile “Single adult” or “Young parent.”)"
   ]
  },
  {
   "cell_type": "markdown",
   "id": "87e01a43",
   "metadata": {},
   "source": [
    "##### 1.  Profiling characteristics: 'user_id', 'Gender', 'STATE', 'Age', 'date_joined', 'n_dependants','fam_status', 'income'  "
   ]
  },
  {
   "cell_type": "markdown",
   "id": "abbd2ebf",
   "metadata": {},
   "source": [
    "###### 2.Variables:  'product_id', 'product_name', 'aisle_id','department_id', 'prices', 'order_id', 'eval_set', 'order_number', 'day_of_week', 'order_hour_of_day', 'days_since_prior_order', 'add_to_cart_order', 'reordered', 'price_range_loc', 'busiest_day', 'busiest days', 'max_order', 'loyalty_flag', 'mean_price','spender_flag', 'median_days_sinse_ord', 'frequent_flag'"
   ]
  },
  {
   "cell_type": "markdown",
   "id": "4d71ffdc",
   "metadata": {},
   "source": [
    "#### 4.10-5 Creating profiling variables: sigle adult, young parent\n",
    "#### -- analyzing which profile is more interesting as spender: grouping by different columns we can see counts that is number of orders by this group (every row corrispond to the order)\n",
    "#### -- creating choosen variables adding the corrisponding flag at customer df and merging it with our db (and don't adding the flag directly to our df to avoid Memory Error)"
   ]
  },
  {
   "cell_type": "code",
   "execution_count": null,
   "id": "e65e3d0b",
   "metadata": {},
   "outputs": [],
   "source": [
    "df_short=df[['user_id', 'Gender', 'STATE', 'Age',\n",
    "        'date_joined', 'n_dependants','fam_status', 'income', 'loyalty_flag']].copy()"
   ]
  },
  {
   "cell_type": "markdown",
   "id": "676f1f48",
   "metadata": {},
   "source": [
    "#### --analyzing customers by fam_status"
   ]
  },
  {
   "cell_type": "code",
   "execution_count": null,
   "id": "47e61014",
   "metadata": {},
   "outputs": [],
   "source": [
    "df_short.groupby(['Gender']).value_counts(['fam_status'])"
   ]
  },
  {
   "cell_type": "code",
   "execution_count": null,
   "id": "6150cc5d",
   "metadata": {},
   "outputs": [],
   "source": [
    "df_short.groupby(['Gender']).value_counts(['fam_status', 'n_dependants'])"
   ]
  },
  {
   "cell_type": "markdown",
   "id": "cd41486b",
   "metadata": {},
   "source": [
    "#### Creating the plot to show Gender-Fam_status-N_dipendants correlation"
   ]
  },
  {
   "cell_type": "code",
   "execution_count": null,
   "id": "75bf3b1d",
   "metadata": {},
   "outputs": [],
   "source": [
    "df1=df_short[['user_id','fam_status','loyalty_flag']]"
   ]
  },
  {
   "cell_type": "code",
   "execution_count": null,
   "id": "5ff139e9",
   "metadata": {},
   "outputs": [],
   "source": [
    "df11=df1.drop_duplicates().reset_index()"
   ]
  },
  {
   "cell_type": "code",
   "execution_count": null,
   "id": "b5ad04a6",
   "metadata": {},
   "outputs": [],
   "source": [
    "df11"
   ]
  },
  {
   "cell_type": "code",
   "execution_count": null,
   "id": "0f44c9c9",
   "metadata": {},
   "outputs": [],
   "source": [
    "bar111=df11.groupby('fam_status')['loyalty_flag'].value_counts().unstack().plot.barh()"
   ]
  },
  {
   "cell_type": "code",
   "execution_count": null,
   "id": "37724426",
   "metadata": {},
   "outputs": [],
   "source": [
    "bar111.figure.savefig(os.path.join(path,'Prepared Data', 'Intire_Fam-LoyaltyFlag.png'))"
   ]
  },
  {
   "cell_type": "markdown",
   "id": "1387537d",
   "metadata": {},
   "source": [
    "#### saving plot"
   ]
  },
  {
   "cell_type": "code",
   "execution_count": null,
   "id": "42fbe504",
   "metadata": {},
   "outputs": [],
   "source": [
    "bar.figure.savefig(os.path.join(path,'Prepared Data', 'Gender-Fam-Dependants.png'))"
   ]
  },
  {
   "cell_type": "code",
   "execution_count": null,
   "id": "475bc5f4",
   "metadata": {},
   "outputs": [],
   "source": []
  },
  {
   "cell_type": "code",
   "execution_count": null,
   "id": "43ee07a9",
   "metadata": {},
   "outputs": [],
   "source": [
    "bar=df_short.groupby(['Gender']).value_counts(['fam_status', 'n_dependants']).plot.bar(color=['magenta','magenta','magenta','magenta','magenta','magenta','magenta','magenta','blue','blue','blue','blue','blue','blue','blue','blue'])"
   ]
  },
  {
   "cell_type": "markdown",
   "id": "ced65ca2",
   "metadata": {},
   "source": [
    "#### saving the plot"
   ]
  },
  {
   "cell_type": "code",
   "execution_count": null,
   "id": "788d41b1",
   "metadata": {},
   "outputs": [],
   "source": [
    "bar.figure.savefig(os.path.join(path,'Prepared Data', 'Gender-Fam-Dependants.png'))"
   ]
  },
  {
   "cell_type": "markdown",
   "id": "d4b3fda2",
   "metadata": {},
   "source": [
    "#### Creating the plot to show Prices-Fam_status-N_dipendants correlation"
   ]
  },
  {
   "cell_type": "code",
   "execution_count": null,
   "id": "15ab8748",
   "metadata": {},
   "outputs": [],
   "source": [
    "bar=df.groupby(['fam_status','n_dependants'])['prices'].mean().plot.bar()"
   ]
  },
  {
   "cell_type": "code",
   "execution_count": null,
   "id": "e54f89b4",
   "metadata": {},
   "outputs": [],
   "source": [
    "bar.figure.savefig(os.path.join(path,'Prepared Data', 'Entire_Prices-Fam-Dependants.png'))"
   ]
  },
  {
   "cell_type": "code",
   "execution_count": null,
   "id": "2e703668",
   "metadata": {},
   "outputs": [],
   "source": [
    "df.groupby(['fam_status','n_dependants'])['prices'].mean()"
   ]
  },
  {
   "cell_type": "markdown",
   "id": "6e8a5121",
   "metadata": {},
   "source": [
    "#### Creating the plot to show Prices-Fam_status-N_dipendants correlation"
   ]
  },
  {
   "cell_type": "code",
   "execution_count": null,
   "id": "a309459b",
   "metadata": {},
   "outputs": [],
   "source": [
    "df.groupby(['Gender'])['prices'].mean()"
   ]
  },
  {
   "cell_type": "code",
   "execution_count": null,
   "id": "8ae351d1",
   "metadata": {},
   "outputs": [],
   "source": [
    "df['prices'].sum()"
   ]
  },
  {
   "cell_type": "code",
   "execution_count": 27,
   "id": "fc552092",
   "metadata": {},
   "outputs": [],
   "source": [
    "df.groupby(['Gender'])['prices'].mean().to_clipboard()"
   ]
  },
  {
   "cell_type": "code",
   "execution_count": 24,
   "id": "6423a061",
   "metadata": {},
   "outputs": [
    {
     "data": {
      "image/png": "[encoded data removed]",
      "text/plain": [
       "<Figure size 640x480 with 1 Axes>"
      ]
     },
     "metadata": {},
     "output_type": "display_data"
    }
   ],
   "source": [
    "bar=df.groupby(['Gender'])['prices'].mean().sort_values(ascending=False).plot.bar(color=['blue','magenta'])\n"
   ]
  },
  {
   "cell_type": "code",
   "execution_count": 26,
   "id": "63ec888e",
   "metadata": {},
   "outputs": [],
   "source": [
    "bar.figure.savefig(os.path.join(path,'Prepared Data', 'Entire_Gender_MeanPrice.png'))"
   ]
  },
  {
   "cell_type": "code",
   "execution_count": null,
   "id": "923d1d2b",
   "metadata": {},
   "outputs": [],
   "source": []
  },
  {
   "cell_type": "markdown",
   "id": "e5ea11cc",
   "metadata": {},
   "source": [
    "#### As the data shows married male and female customers order number is simile independent of presence of children or number of dependants. "
   ]
  },
  {
   "cell_type": "markdown",
   "id": "329923ba",
   "metadata": {},
   "source": [
    "#### as we know from scatterplot from 4.9-2-2 that income is more by customer after 40 years old we can make the flag like \"young age\" <=40 and mature age >40; base_consumer <=200,000 $ advanced_consumer>200,000$ and <400,000$, investor>=400,000$, "
   ]
  },
  {
   "cell_type": "code",
   "execution_count": null,
   "id": "8bc791d5",
   "metadata": {},
   "outputs": [],
   "source": [
    "df10=pd.read_csv(os.path.join(path,'Original Data','customers.csv'))"
   ]
  },
  {
   "cell_type": "code",
   "execution_count": null,
   "id": "cd32de08",
   "metadata": {},
   "outputs": [],
   "source": [
    "df11=df10[['user_id','Age', 'income']]"
   ]
  },
  {
   "cell_type": "code",
   "execution_count": null,
   "id": "c66dd40b",
   "metadata": {},
   "outputs": [],
   "source": [
    "df11.head"
   ]
  },
  {
   "cell_type": "markdown",
   "id": "43b925cb",
   "metadata": {},
   "source": [
    "### Defining flag"
   ]
  },
  {
   "cell_type": "code",
   "execution_count": null,
   "id": "aef3faa5",
   "metadata": {},
   "outputs": [],
   "source": [
    "df11.loc[(df11['Age']<=40)&(df11['income']<=200000),\n",
    "          'AgeIncome_flag']='young base_consumer'"
   ]
  },
  {
   "cell_type": "code",
   "execution_count": null,
   "id": "ea34f143",
   "metadata": {},
   "outputs": [],
   "source": [
    "df11.loc[(df11['Age']<=40)&(df11['income']>200000)&(df11['income']<400000),\n",
    "          'AgeIncome_flag']='young advanced_consumer'"
   ]
  },
  {
   "cell_type": "code",
   "execution_count": null,
   "id": "ac1b72a7",
   "metadata": {},
   "outputs": [],
   "source": [
    "df11.loc[(df11['Age']<=40)&(df11['income']>=400000),\n",
    "          'AgeIncome_flag']='young investor'"
   ]
  },
  {
   "cell_type": "code",
   "execution_count": null,
   "id": "87bae4c2",
   "metadata": {},
   "outputs": [],
   "source": [
    "df11.loc[(df11['Age']>40)&(df11['income']<=200000),\n",
    "          'AgeIncome_flag']='mature base_consumer'"
   ]
  },
  {
   "cell_type": "code",
   "execution_count": null,
   "id": "9545ecc6",
   "metadata": {},
   "outputs": [],
   "source": [
    "df11.loc[(df11['Age']>40)&(df11['income']>200000)&(df11['income']<400000),\n",
    "          'AgeIncome_flag']='mature advanced_consumer'"
   ]
  },
  {
   "cell_type": "code",
   "execution_count": null,
   "id": "4744058d",
   "metadata": {},
   "outputs": [],
   "source": [
    "df11.loc[(df11['Age']>40)&(df11['income']>=400000),\n",
    "          'AgeIncome_flag']='mature investor'"
   ]
  },
  {
   "cell_type": "code",
   "execution_count": null,
   "id": "f3e05baf",
   "metadata": {},
   "outputs": [],
   "source": [
    "df11.loc[df11['income'] == 'NaN','AgeIncome_flag']='not defined'"
   ]
  },
  {
   "cell_type": "markdown",
   "id": "fba164a1",
   "metadata": {},
   "source": [
    "### Application flag"
   ]
  },
  {
   "cell_type": "code",
   "execution_count": null,
   "id": "56a551fe",
   "metadata": {},
   "outputs": [],
   "source": [
    "df11['AgeIncome_flag'].value_counts(dropna=False)"
   ]
  },
  {
   "cell_type": "markdown",
   "id": "28c8eac8",
   "metadata": {},
   "source": [
    "### Adding the flag to df"
   ]
  },
  {
   "cell_type": "markdown",
   "id": "cff5b9bd",
   "metadata": {},
   "source": [
    "### Deviding df to 3 random sample parts"
   ]
  },
  {
   "cell_type": "code",
   "execution_count": null,
   "id": "c0c00ad9",
   "metadata": {},
   "outputs": [],
   "source": [
    "np.random.seed(4)\n",
    "dev=np.random.rand(len(df))<=0.7"
   ]
  },
  {
   "cell_type": "markdown",
   "id": "a941c7de",
   "metadata": {},
   "source": [
    "#### sroring 30% of sample in df small"
   ]
  },
  {
   "cell_type": "code",
   "execution_count": null,
   "id": "276e7b42",
   "metadata": {},
   "outputs": [],
   "source": [
    "small=df[~dev]"
   ]
  },
  {
   "cell_type": "markdown",
   "id": "f4926117",
   "metadata": {},
   "source": [
    "#### storing 70% of sample in df big"
   ]
  },
  {
   "cell_type": "code",
   "execution_count": null,
   "id": "956fd07c",
   "metadata": {},
   "outputs": [],
   "source": [
    "big=df[dev]"
   ]
  },
  {
   "cell_type": "markdown",
   "id": "ebff8e78",
   "metadata": {},
   "source": [
    "#### Deviding big to 3 df"
   ]
  },
  {
   "cell_type": "code",
   "execution_count": null,
   "id": "490648af",
   "metadata": {},
   "outputs": [],
   "source": [
    "np.random.seed(4)\n",
    "dev=np.random.rand(len(big))<=0.5"
   ]
  },
  {
   "cell_type": "code",
   "execution_count": null,
   "id": "6333f8ae",
   "metadata": {},
   "outputs": [],
   "source": [
    "small_2=big[~dev]"
   ]
  },
  {
   "cell_type": "code",
   "execution_count": null,
   "id": "fa1b7ff5",
   "metadata": {},
   "outputs": [],
   "source": [
    "small_3=big[dev]"
   ]
  },
  {
   "cell_type": "markdown",
   "id": "904eeb69",
   "metadata": {},
   "source": [
    "#### Merging partial df with df11 containing flag"
   ]
  },
  {
   "cell_type": "code",
   "execution_count": null,
   "id": "a020c287",
   "metadata": {},
   "outputs": [],
   "source": [
    "small_merged=pd.merge(small, df11, on=['user_id','Age', 'income'])"
   ]
  },
  {
   "cell_type": "code",
   "execution_count": null,
   "id": "7c48b105",
   "metadata": {},
   "outputs": [],
   "source": [
    "small_2_merged=pd.merge(small_2, df11, on=['user_id','Age', 'income'])"
   ]
  },
  {
   "cell_type": "code",
   "execution_count": null,
   "id": "21c1e5e6",
   "metadata": {},
   "outputs": [],
   "source": [
    "small_3_merged=pd.merge(small_3, df11, on=['user_id','Age', 'income'])"
   ]
  },
  {
   "cell_type": "markdown",
   "id": "b5b563d1",
   "metadata": {},
   "source": [
    "#### exporting partial df for concatenate them later to avoid memory error"
   ]
  },
  {
   "cell_type": "code",
   "execution_count": null,
   "id": "67d22c30",
   "metadata": {},
   "outputs": [],
   "source": [
    "small_merged.to_pickle(os.path.join(path,'Prepared Data', 'AgeIncome_1_merged.pkl'))"
   ]
  },
  {
   "cell_type": "code",
   "execution_count": null,
   "id": "622e240e",
   "metadata": {},
   "outputs": [],
   "source": [
    "small_2_merged.to_pickle(os.path.join(path,'Prepared Data', 'AgeIncome_2_merged_flag.pkl'))"
   ]
  },
  {
   "cell_type": "code",
   "execution_count": null,
   "id": "632624de",
   "metadata": {},
   "outputs": [],
   "source": [
    "small_3_merged.to_pickle(os.path.join(path,'Prepared Data', 'AgeIncome_3_merged.pkl'))"
   ]
  }
 ],
 "metadata": {
  "kernelspec": {
   "display_name": "Python 3 (ipykernel)",
   "language": "python",
   "name": "python3"
  },
  "language_info": {
   "codemirror_mode": {
    "name": "ipython",
    "version": 3
   },
   "file_extension": ".py",
   "mimetype": "text/x-python",
   "name": "python",
   "nbconvert_exporter": "python",
   "pygments_lexer": "ipython3",
   "version": "3.10.9"
  }
 },
 "nbformat": 4,
 "nbformat_minor": 5
}
