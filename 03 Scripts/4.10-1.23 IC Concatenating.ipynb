{
 "cells": [
  {
   "cell_type": "markdown",
   "id": "dc856afc",
   "metadata": {},
   "source": [
    "### 4.10 Part1-2\n",
    "#### - importing and concatenating partial df\n",
    "#### - exporting concatenated df\n",
    "#### - creating and analyzing customers profiles"
   ]
  },
  {
   "cell_type": "markdown",
   "id": "b3478eda",
   "metadata": {},
   "source": [
    "### 4.10-1 Importing libraries and df w/o PII"
   ]
  },
  {
   "cell_type": "code",
   "execution_count": 1,
   "id": "e865d8b6",
   "metadata": {},
   "outputs": [],
   "source": [
    "import pandas as pd\n",
    "import numpy as np\n",
    "import os"
   ]
  },
  {
   "cell_type": "code",
   "execution_count": 2,
   "id": "a0d783f3",
   "metadata": {},
   "outputs": [],
   "source": [
    "path=r'C:\\Users\\user\\07-2023 Instacart Basket Analysis\\02 Data'"
   ]
  },
  {
   "cell_type": "code",
   "execution_count": 7,
   "id": "efde0e26",
   "metadata": {},
   "outputs": [],
   "source": [
    "df1=pd.read_pickle(os.path.join(path,'Prepared Data','AgeIncome_1_merged.pkl'))"
   ]
  },
  {
   "cell_type": "code",
   "execution_count": 8,
   "id": "db1fe9b3",
   "metadata": {},
   "outputs": [],
   "source": [
    "df2=pd.read_pickle(os.path.join(path,'Prepared Data','AgeIncome_2_merged_flag.pkl'))"
   ]
  },
  {
   "cell_type": "code",
   "execution_count": 9,
   "id": "339d7784",
   "metadata": {},
   "outputs": [],
   "source": [
    "df3=pd.read_pickle(os.path.join(path,'Prepared Data','AgeIncome_3_merged.pkl'))"
   ]
  },
  {
   "cell_type": "markdown",
   "id": "da214567",
   "metadata": {},
   "source": [
    "#### concatenating partial df"
   ]
  },
  {
   "cell_type": "code",
   "execution_count": 10,
   "id": "b1298aa2",
   "metadata": {},
   "outputs": [],
   "source": [
    "frames=[df1,df2, df3]"
   ]
  },
  {
   "cell_type": "code",
   "execution_count": 11,
   "id": "58a70d9d",
   "metadata": {},
   "outputs": [],
   "source": [
    "dfAgeIncome_concat=pd.concat(frames)"
   ]
  },
  {
   "cell_type": "markdown",
   "id": "c892d7c1",
   "metadata": {},
   "source": [
    "#### Exporting df_concat"
   ]
  },
  {
   "cell_type": "code",
   "execution_count": 12,
   "id": "55fbacff",
   "metadata": {},
   "outputs": [],
   "source": [
    "dfAgeIncome_concat.to_pickle(os.path.join(path,'Prepared Data', 'AgeIncome_flag.pkl'))"
   ]
  },
  {
   "cell_type": "code",
   "execution_count": null,
   "id": "18b88ffa",
   "metadata": {},
   "outputs": [],
   "source": []
  }
 ],
 "metadata": {
  "kernelspec": {
   "display_name": "Python 3 (ipykernel)",
   "language": "python",
   "name": "python3"
  },
  "language_info": {
   "codemirror_mode": {
    "name": "ipython",
    "version": 3
   },
   "file_extension": ".py",
   "mimetype": "text/x-python",
   "name": "python",
   "nbconvert_exporter": "python",
   "pygments_lexer": "ipython3",
   "version": "3.10.9"
  }
 },
 "nbformat": 4,
 "nbformat_minor": 5
}
