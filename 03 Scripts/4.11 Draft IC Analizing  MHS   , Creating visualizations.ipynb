{
 "cells": [
  {
   "cell_type": "markdown",
   "id": "dc856afc",
   "metadata": {},
   "source": [
    "### 4.10 Part5 MHS\n",
    "#### 1 Importing libraries and df w/o PI\n",
    "#### 2 analyzing Mature High Spender by Loyalty Flag\n",
    "#### 3 -analyzing Mature High Spender purshease by  sales amount\n",
    "#### 4 -analyzing Mature High Spender by Busiest_day\n",
    "#### Analyzing by prefered hour of day\n",
    "#### 6 Analyzing number of Mature High Spender by State\n",
    "#### 7 Analyzing Mature High Spenders  by n_dependants\n",
    "#### 8 Days since prior order\n",
    "####  9  Defining TOP products for client group\n"
   ]
  },
  {
   "cell_type": "markdown",
   "id": "b3478eda",
   "metadata": {},
   "source": [
    "### 1 Importing libraries and df w/o PII"
   ]
  },
  {
   "cell_type": "code",
   "execution_count": 1,
   "id": "e865d8b6",
   "metadata": {},
   "outputs": [],
   "source": [
    "import pandas as pd\n",
    "import numpy as np\n",
    "import os\n",
    "import matplotlib.pyplot as plt\n",
    "import seaborn as sns\n",
    "import scipy"
   ]
  },
  {
   "cell_type": "code",
   "execution_count": 2,
   "id": "a0d783f3",
   "metadata": {},
   "outputs": [],
   "source": [
    "path=r'C:\\Users\\user\\07-2023 Instacart Basket Analysis\\02 Data'"
   ]
  },
  {
   "cell_type": "markdown",
   "id": "7d9928b7",
   "metadata": {},
   "source": [
    "#### -importing df"
   ]
  },
  {
   "cell_type": "code",
   "execution_count": 3,
   "id": "339d7784",
   "metadata": {},
   "outputs": [],
   "source": [
    "df=pd.read_pickle(os.path.join(path,'Prepared Data','MHS.pkl'))"
   ]
  },
  {
   "cell_type": "code",
   "execution_count": 4,
   "id": "dd1cde48",
   "metadata": {},
   "outputs": [
    {
     "data": {
      "text/plain": [
       "Index(['user_id', 'Gender', 'STATE', 'Age', 'date_joined', 'n_dependants',\n",
       "       'fam_status', 'income', 'product_id', 'product_name', 'aisle_id',\n",
       "       'department_id', 'prices', 'order_id', 'eval_set', 'order_number',\n",
       "       'day_of_week', 'order_hour_of_day', 'days_since_prior_order',\n",
       "       'add_to_cart_order', 'reordered', 'price_range_loc', 'busiest_day',\n",
       "       'busiest days', 'max_order', 'loyalty_flag', 'mean_price',\n",
       "       'spender_flag', 'median_days_sinse_ord', 'frequent_flag',\n",
       "       'AgeIncome_flag'],\n",
       "      dtype='object')"
      ]
     },
     "execution_count": 4,
     "metadata": {},
     "output_type": "execute_result"
    }
   ],
   "source": [
    "df.columns"
   ]
  },
  {
   "cell_type": "code",
   "execution_count": 5,
   "id": "a95c3088",
   "metadata": {},
   "outputs": [
    {
     "data": {
      "text/plain": [
       "(396050, 31)"
      ]
     },
     "execution_count": 5,
     "metadata": {},
     "output_type": "execute_result"
    }
   ],
   "source": [
    "df.shape"
   ]
  },
  {
   "cell_type": "code",
   "execution_count": 6,
   "id": "5d2cc055",
   "metadata": {},
   "outputs": [
    {
     "data": {
      "text/html": [
       "<div>\n",
       "<style scoped>\n",
       "    .dataframe tbody tr th:only-of-type {\n",
       "        vertical-align: middle;\n",
       "    }\n",
       "\n",
       "    .dataframe tbody tr th {\n",
       "        vertical-align: top;\n",
       "    }\n",
       "\n",
       "    .dataframe thead th {\n",
       "        text-align: right;\n",
       "    }\n",
       "</style>\n",
       "<table border=\"1\" class=\"dataframe\">\n",
       "  <thead>\n",
       "    <tr style=\"text-align: right;\">\n",
       "      <th></th>\n",
       "      <th>user_id</th>\n",
       "      <th>Age</th>\n",
       "      <th>income</th>\n",
       "      <th>product_id</th>\n",
       "      <th>median_days_sinse_ord</th>\n",
       "      <th>order_number</th>\n",
       "      <th>mean_price</th>\n",
       "    </tr>\n",
       "  </thead>\n",
       "  <tbody>\n",
       "    <tr>\n",
       "      <th>count</th>\n",
       "      <td>396050.000000</td>\n",
       "      <td>396050.000000</td>\n",
       "      <td>396050.000000</td>\n",
       "      <td>396050.000000</td>\n",
       "      <td>396050.000000</td>\n",
       "      <td>396050.000000</td>\n",
       "      <td>396050.000000</td>\n",
       "    </tr>\n",
       "    <tr>\n",
       "      <th>mean</th>\n",
       "      <td>103498.919010</td>\n",
       "      <td>60.714319</td>\n",
       "      <td>233139.421515</td>\n",
       "      <td>25012.039624</td>\n",
       "      <td>8.999710</td>\n",
       "      <td>18.686315</td>\n",
       "      <td>212.374056</td>\n",
       "    </tr>\n",
       "    <tr>\n",
       "      <th>std</th>\n",
       "      <td>59431.583705</td>\n",
       "      <td>11.999570</td>\n",
       "      <td>118555.269511</td>\n",
       "      <td>14423.790424</td>\n",
       "      <td>5.876693</td>\n",
       "      <td>18.203368</td>\n",
       "      <td>491.762227</td>\n",
       "    </tr>\n",
       "    <tr>\n",
       "      <th>min</th>\n",
       "      <td>85.000000</td>\n",
       "      <td>41.000000</td>\n",
       "      <td>61629.000000</td>\n",
       "      <td>0.000000</td>\n",
       "      <td>0.000000</td>\n",
       "      <td>1.000000</td>\n",
       "      <td>10.000000</td>\n",
       "    </tr>\n",
       "    <tr>\n",
       "      <th>25%</th>\n",
       "      <td>53303.000000</td>\n",
       "      <td>49.000000</td>\n",
       "      <td>142816.000000</td>\n",
       "      <td>12919.000000</td>\n",
       "      <td>5.000000</td>\n",
       "      <td>6.000000</td>\n",
       "      <td>35.765428</td>\n",
       "    </tr>\n",
       "    <tr>\n",
       "      <th>50%</th>\n",
       "      <td>102256.000000</td>\n",
       "      <td>61.000000</td>\n",
       "      <td>212949.000000</td>\n",
       "      <td>24852.000000</td>\n",
       "      <td>7.000000</td>\n",
       "      <td>13.000000</td>\n",
       "      <td>84.613542</td>\n",
       "    </tr>\n",
       "    <tr>\n",
       "      <th>75%</th>\n",
       "      <td>154307.000000</td>\n",
       "      <td>71.000000</td>\n",
       "      <td>284359.000000</td>\n",
       "      <td>37449.000000</td>\n",
       "      <td>11.000000</td>\n",
       "      <td>26.000000</td>\n",
       "      <td>195.139359</td>\n",
       "    </tr>\n",
       "    <tr>\n",
       "      <th>max</th>\n",
       "      <td>206008.000000</td>\n",
       "      <td>81.000000</td>\n",
       "      <td>593901.000000</td>\n",
       "      <td>49688.000000</td>\n",
       "      <td>30.000000</td>\n",
       "      <td>100.000000</td>\n",
       "      <td>15006.940000</td>\n",
       "    </tr>\n",
       "  </tbody>\n",
       "</table>\n",
       "</div>"
      ],
      "text/plain": [
       "             user_id            Age         income     product_id  \\\n",
       "count  396050.000000  396050.000000  396050.000000  396050.000000   \n",
       "mean   103498.919010      60.714319  233139.421515   25012.039624   \n",
       "std     59431.583705      11.999570  118555.269511   14423.790424   \n",
       "min        85.000000      41.000000   61629.000000       0.000000   \n",
       "25%     53303.000000      49.000000  142816.000000   12919.000000   \n",
       "50%    102256.000000      61.000000  212949.000000   24852.000000   \n",
       "75%    154307.000000      71.000000  284359.000000   37449.000000   \n",
       "max    206008.000000      81.000000  593901.000000   49688.000000   \n",
       "\n",
       "       median_days_sinse_ord   order_number     mean_price  \n",
       "count          396050.000000  396050.000000  396050.000000  \n",
       "mean                8.999710      18.686315     212.374056  \n",
       "std                 5.876693      18.203368     491.762227  \n",
       "min                 0.000000       1.000000      10.000000  \n",
       "25%                 5.000000       6.000000      35.765428  \n",
       "50%                 7.000000      13.000000      84.613542  \n",
       "75%                11.000000      26.000000     195.139359  \n",
       "max                30.000000     100.000000   15006.940000  "
      ]
     },
     "execution_count": 6,
     "metadata": {},
     "output_type": "execute_result"
    }
   ],
   "source": [
    "df[['user_id','Age', 'income','product_id', 'median_days_sinse_ord','order_number','mean_price']] .describe()"
   ]
  },
  {
   "cell_type": "markdown",
   "id": "08380bfb",
   "metadata": {},
   "source": [
    "### 2 Analyzing Mature High Spender by Loyalty Flag"
   ]
  },
  {
   "cell_type": "markdown",
   "id": "6e53f0cf",
   "metadata": {},
   "source": [
    "#### --creating the subset to avoid Memory Error"
   ]
  },
  {
   "cell_type": "code",
   "execution_count": 7,
   "id": "ca583f66",
   "metadata": {},
   "outputs": [],
   "source": [
    "df1=df[['user_id','Gender','fam_status','STATE','department_id', 'product_id', 'product_name', \n",
    "       'busiest_day','loyalty_flag','AgeIncome_flag','prices','income']]"
   ]
  },
  {
   "cell_type": "markdown",
   "id": "db69a845",
   "metadata": {},
   "source": [
    "### - How many customers are MHS?"
   ]
  },
  {
   "cell_type": "code",
   "execution_count": 8,
   "id": "166ad79b",
   "metadata": {},
   "outputs": [
    {
     "data": {
      "text/plain": [
       "(2413, 1)"
      ]
     },
     "execution_count": 8,
     "metadata": {},
     "output_type": "execute_result"
    }
   ],
   "source": [
    "df1[['user_id']].drop_duplicates().shape"
   ]
  },
  {
   "cell_type": "code",
   "execution_count": null,
   "id": "7a398bce",
   "metadata": {},
   "outputs": [],
   "source": []
  },
  {
   "cell_type": "markdown",
   "id": "8a4e55ee",
   "metadata": {},
   "source": [
    "### 3 -Analyzing Mature High Spender by Loyalty Flag and Family Status"
   ]
  },
  {
   "cell_type": "markdown",
   "id": "260990d5",
   "metadata": {},
   "source": [
    "#### -creating subset with unique user_id"
   ]
  },
  {
   "cell_type": "code",
   "execution_count": 9,
   "id": "6be23ed7",
   "metadata": {},
   "outputs": [],
   "source": [
    "df1=df[['user_id','fam_status','loyalty_flag']].drop_duplicates()"
   ]
  },
  {
   "cell_type": "code",
   "execution_count": 10,
   "id": "db67831c",
   "metadata": {},
   "outputs": [
    {
     "data": {
      "text/plain": [
       "fam_status        loyalty_flag    \n",
       "divorced/widowed  Regular customer    153\n",
       "                  New customer        121\n",
       "                  Loyal customer       30\n",
       "married           Regular customer    874\n",
       "                  New customer        737\n",
       "                  Loyal customer      186\n",
       "single            New customer        138\n",
       "                  Regular customer    136\n",
       "                  Loyal customer       38\n",
       "Name: loyalty_flag, dtype: int64"
      ]
     },
     "execution_count": 10,
     "metadata": {},
     "output_type": "execute_result"
    }
   ],
   "source": [
    "df1.groupby('fam_status')['loyalty_flag'].value_counts()"
   ]
  },
  {
   "cell_type": "code",
   "execution_count": 11,
   "id": "b10af605",
   "metadata": {},
   "outputs": [
    {
     "data": {
      "image/png": "[encoded data removed]",
      "text/plain": [
       "<Figure size 640x480 with 1 Axes>"
      ]
     },
     "metadata": {},
     "output_type": "display_data"
    }
   ],
   "source": [
    "bar12=df1.groupby('fam_status')['loyalty_flag'].value_counts().unstack().plot.barh()"
   ]
  },
  {
   "cell_type": "code",
   "execution_count": 12,
   "id": "cdd18c95",
   "metadata": {},
   "outputs": [],
   "source": [
    "bar12.figure.savefig(os.path.join(path, 'Prepared Data', 'MHS_LoyaltyFlag.png'))"
   ]
  },
  {
   "cell_type": "markdown",
   "id": "6df1434e",
   "metadata": {},
   "source": [
    "### 3 -analyzing Mature High Spender purshease by  sales amount"
   ]
  },
  {
   "cell_type": "code",
   "execution_count": 19,
   "id": "4ce826fb",
   "metadata": {},
   "outputs": [],
   "source": [
    "Df1=df[['user_id','prices','loyalty_flag']]"
   ]
  },
  {
   "cell_type": "code",
   "execution_count": 23,
   "id": "fd1ecd64",
   "metadata": {},
   "outputs": [
    {
     "data": {
      "text/html": [
       "<div>\n",
       "<style scoped>\n",
       "    .dataframe tbody tr th:only-of-type {\n",
       "        vertical-align: middle;\n",
       "    }\n",
       "\n",
       "    .dataframe tbody tr th {\n",
       "        vertical-align: top;\n",
       "    }\n",
       "\n",
       "    .dataframe thead th {\n",
       "        text-align: right;\n",
       "    }\n",
       "</style>\n",
       "<table border=\"1\" class=\"dataframe\">\n",
       "  <thead>\n",
       "    <tr style=\"text-align: right;\">\n",
       "      <th></th>\n",
       "      <th>user_id</th>\n",
       "      <th>prices</th>\n",
       "      <th>loyalty_flag</th>\n",
       "    </tr>\n",
       "  </thead>\n",
       "  <tbody>\n",
       "    <tr>\n",
       "      <th>1522</th>\n",
       "      <td>117740</td>\n",
       "      <td>3.2</td>\n",
       "      <td>Loyal customer</td>\n",
       "    </tr>\n",
       "    <tr>\n",
       "      <th>1523</th>\n",
       "      <td>117740</td>\n",
       "      <td>13.5</td>\n",
       "      <td>Loyal customer</td>\n",
       "    </tr>\n",
       "    <tr>\n",
       "      <th>1524</th>\n",
       "      <td>117740</td>\n",
       "      <td>1.6</td>\n",
       "      <td>Loyal customer</td>\n",
       "    </tr>\n",
       "    <tr>\n",
       "      <th>1525</th>\n",
       "      <td>117740</td>\n",
       "      <td>12.3</td>\n",
       "      <td>Loyal customer</td>\n",
       "    </tr>\n",
       "    <tr>\n",
       "      <th>1526</th>\n",
       "      <td>117740</td>\n",
       "      <td>6.4</td>\n",
       "      <td>Loyal customer</td>\n",
       "    </tr>\n",
       "    <tr>\n",
       "      <th>...</th>\n",
       "      <td>...</td>\n",
       "      <td>...</td>\n",
       "      <td>...</td>\n",
       "    </tr>\n",
       "    <tr>\n",
       "      <th>10907279</th>\n",
       "      <td>56006</td>\n",
       "      <td>11.7</td>\n",
       "      <td>New customer</td>\n",
       "    </tr>\n",
       "    <tr>\n",
       "      <th>10907280</th>\n",
       "      <td>56006</td>\n",
       "      <td>11.7</td>\n",
       "      <td>New customer</td>\n",
       "    </tr>\n",
       "    <tr>\n",
       "      <th>10907308</th>\n",
       "      <td>57909</td>\n",
       "      <td>12.4</td>\n",
       "      <td>New customer</td>\n",
       "    </tr>\n",
       "    <tr>\n",
       "      <th>10907309</th>\n",
       "      <td>57909</td>\n",
       "      <td>0.0</td>\n",
       "      <td>New customer</td>\n",
       "    </tr>\n",
       "    <tr>\n",
       "      <th>10907377</th>\n",
       "      <td>201345</td>\n",
       "      <td>0.0</td>\n",
       "      <td>New customer</td>\n",
       "    </tr>\n",
       "  </tbody>\n",
       "</table>\n",
       "<p>396050 rows × 3 columns</p>\n",
       "</div>"
      ],
      "text/plain": [
       "          user_id  prices    loyalty_flag\n",
       "1522       117740     3.2  Loyal customer\n",
       "1523       117740    13.5  Loyal customer\n",
       "1524       117740     1.6  Loyal customer\n",
       "1525       117740    12.3  Loyal customer\n",
       "1526       117740     6.4  Loyal customer\n",
       "...           ...     ...             ...\n",
       "10907279    56006    11.7    New customer\n",
       "10907280    56006    11.7    New customer\n",
       "10907308    57909    12.4    New customer\n",
       "10907309    57909     0.0    New customer\n",
       "10907377   201345     0.0    New customer\n",
       "\n",
       "[396050 rows x 3 columns]"
      ]
     },
     "execution_count": 23,
     "metadata": {},
     "output_type": "execute_result"
    }
   ],
   "source": [
    "Df1"
   ]
  },
  {
   "cell_type": "code",
   "execution_count": 20,
   "id": "77ac4735",
   "metadata": {},
   "outputs": [],
   "source": [
    "df11=Df1.groupby('loyalty_flag')['prices'].sum()"
   ]
  },
  {
   "cell_type": "code",
   "execution_count": 21,
   "id": "63956370",
   "metadata": {},
   "outputs": [
    {
     "data": {
      "text/plain": [
       "loyalty_flag\n",
       "Loyal customer      18392041.5\n",
       "New customer        13656990.4\n",
       "Regular customer    51565899.8\n",
       "Name: prices, dtype: float64"
      ]
     },
     "execution_count": 21,
     "metadata": {},
     "output_type": "execute_result"
    }
   ],
   "source": [
    "df11"
   ]
  },
  {
   "cell_type": "markdown",
   "id": "b0722454",
   "metadata": {},
   "source": [
    "#### -creating and saving plot"
   ]
  },
  {
   "cell_type": "code",
   "execution_count": 22,
   "id": "9c144c3a",
   "metadata": {},
   "outputs": [
    {
     "data": {
      "image/png": "[encoded data removed]",
      "text/plain": [
       "<Figure size 640x480 with 1 Axes>"
      ]
     },
     "metadata": {},
     "output_type": "display_data"
    }
   ],
   "source": [
    "bar22=Df1.groupby('loyalty_flag')['prices'].sum().plot.barh(color=['red', 'green','blue'])"
   ]
  },
  {
   "cell_type": "code",
   "execution_count": 24,
   "id": "b81dd39e",
   "metadata": {},
   "outputs": [],
   "source": [
    "bar22.figure.savefig(os.path.join(path, 'Prepared Data', 'MHS_LoyaltyFlagPrices.png'))"
   ]
  },
  {
   "cell_type": "markdown",
   "id": "022c92a7",
   "metadata": {},
   "source": [
    "### 4 -analyzing Mature High Spender by Busiest_day"
   ]
  },
  {
   "cell_type": "code",
   "execution_count": 25,
   "id": "58fcebb9",
   "metadata": {},
   "outputs": [],
   "source": [
    "df4=df[['user_id','STATE', 'busiest_day', 'day_of_week']]"
   ]
  },
  {
   "cell_type": "code",
   "execution_count": 26,
   "id": "7a0d6e09",
   "metadata": {},
   "outputs": [
    {
     "data": {
      "text/html": [
       "<div>\n",
       "<style scoped>\n",
       "    .dataframe tbody tr th:only-of-type {\n",
       "        vertical-align: middle;\n",
       "    }\n",
       "\n",
       "    .dataframe tbody tr th {\n",
       "        vertical-align: top;\n",
       "    }\n",
       "\n",
       "    .dataframe thead th {\n",
       "        text-align: right;\n",
       "    }\n",
       "</style>\n",
       "<table border=\"1\" class=\"dataframe\">\n",
       "  <thead>\n",
       "    <tr style=\"text-align: right;\">\n",
       "      <th></th>\n",
       "      <th>user_id</th>\n",
       "      <th>STATE</th>\n",
       "      <th>busiest_day</th>\n",
       "      <th>day_of_week</th>\n",
       "    </tr>\n",
       "  </thead>\n",
       "  <tbody>\n",
       "    <tr>\n",
       "      <th>1522</th>\n",
       "      <td>117740</td>\n",
       "      <td>Oregon</td>\n",
       "      <td>Slowest days</td>\n",
       "      <td>4</td>\n",
       "    </tr>\n",
       "    <tr>\n",
       "      <th>1523</th>\n",
       "      <td>117740</td>\n",
       "      <td>Oregon</td>\n",
       "      <td>Regularly days</td>\n",
       "      <td>5</td>\n",
       "    </tr>\n",
       "    <tr>\n",
       "      <th>1524</th>\n",
       "      <td>117740</td>\n",
       "      <td>Oregon</td>\n",
       "      <td>Slowest days</td>\n",
       "      <td>3</td>\n",
       "    </tr>\n",
       "    <tr>\n",
       "      <th>1525</th>\n",
       "      <td>117740</td>\n",
       "      <td>Oregon</td>\n",
       "      <td>Regularly days</td>\n",
       "      <td>2</td>\n",
       "    </tr>\n",
       "    <tr>\n",
       "      <th>1526</th>\n",
       "      <td>117740</td>\n",
       "      <td>Oregon</td>\n",
       "      <td>Regularly days</td>\n",
       "      <td>5</td>\n",
       "    </tr>\n",
       "    <tr>\n",
       "      <th>...</th>\n",
       "      <td>...</td>\n",
       "      <td>...</td>\n",
       "      <td>...</td>\n",
       "      <td>...</td>\n",
       "    </tr>\n",
       "    <tr>\n",
       "      <th>10907279</th>\n",
       "      <td>56006</td>\n",
       "      <td>Delaware</td>\n",
       "      <td>Slowest days</td>\n",
       "      <td>4</td>\n",
       "    </tr>\n",
       "    <tr>\n",
       "      <th>10907280</th>\n",
       "      <td>56006</td>\n",
       "      <td>Delaware</td>\n",
       "      <td>Slowest days</td>\n",
       "      <td>4</td>\n",
       "    </tr>\n",
       "    <tr>\n",
       "      <th>10907308</th>\n",
       "      <td>57909</td>\n",
       "      <td>New Hampshire</td>\n",
       "      <td>Regularly days</td>\n",
       "      <td>5</td>\n",
       "    </tr>\n",
       "    <tr>\n",
       "      <th>10907309</th>\n",
       "      <td>57909</td>\n",
       "      <td>New Hampshire</td>\n",
       "      <td>Regularly days</td>\n",
       "      <td>6</td>\n",
       "    </tr>\n",
       "    <tr>\n",
       "      <th>10907377</th>\n",
       "      <td>201345</td>\n",
       "      <td>Washington</td>\n",
       "      <td>Regularly days</td>\n",
       "      <td>2</td>\n",
       "    </tr>\n",
       "  </tbody>\n",
       "</table>\n",
       "<p>396050 rows × 4 columns</p>\n",
       "</div>"
      ],
      "text/plain": [
       "          user_id          STATE     busiest_day  day_of_week\n",
       "1522       117740         Oregon    Slowest days            4\n",
       "1523       117740         Oregon  Regularly days            5\n",
       "1524       117740         Oregon    Slowest days            3\n",
       "1525       117740         Oregon  Regularly days            2\n",
       "1526       117740         Oregon  Regularly days            5\n",
       "...           ...            ...             ...          ...\n",
       "10907279    56006       Delaware    Slowest days            4\n",
       "10907280    56006       Delaware    Slowest days            4\n",
       "10907308    57909  New Hampshire  Regularly days            5\n",
       "10907309    57909  New Hampshire  Regularly days            6\n",
       "10907377   201345     Washington  Regularly days            2\n",
       "\n",
       "[396050 rows x 4 columns]"
      ]
     },
     "execution_count": 26,
     "metadata": {},
     "output_type": "execute_result"
    }
   ],
   "source": [
    "df4"
   ]
  },
  {
   "cell_type": "code",
   "execution_count": 27,
   "id": "6a0d8788",
   "metadata": {},
   "outputs": [
    {
     "data": {
      "image/png": "[encoded data removed]",
      "text/plain": [
       "<Figure size 640x480 with 1 Axes>"
      ]
     },
     "metadata": {},
     "output_type": "display_data"
    }
   ],
   "source": [
    "pie24=df4.groupby('day_of_week')['busiest_day'].count().plot(kind='pie', autopct='%0.01f%%')"
   ]
  },
  {
   "cell_type": "code",
   "execution_count": 28,
   "id": "1869f79f",
   "metadata": {},
   "outputs": [],
   "source": [
    "pie24.figure.savefig(os.path.join(path, 'Prepared Data', 'MHS_BusiestDayOfWeek.png'))"
   ]
  },
  {
   "cell_type": "code",
   "execution_count": 29,
   "id": "3e4fd4f5",
   "metadata": {},
   "outputs": [
    {
     "data": {
      "text/plain": [
       "day_of_week\n",
       "0    65777\n",
       "1    72019\n",
       "2    54576\n",
       "3    49943\n",
       "4    48691\n",
       "5    54843\n",
       "6    50201\n",
       "Name: busiest_day, dtype: int64"
      ]
     },
     "execution_count": 29,
     "metadata": {},
     "output_type": "execute_result"
    }
   ],
   "source": [
    "df4.groupby('day_of_week')['busiest_day'].count()"
   ]
  },
  {
   "cell_type": "markdown",
   "id": "1d10e1f3",
   "metadata": {},
   "source": [
    "### 5 Analyzing by prefered hour of day"
   ]
  },
  {
   "cell_type": "code",
   "execution_count": 30,
   "id": "f8decae6",
   "metadata": {},
   "outputs": [],
   "source": [
    "df44=df[['order_hour_of_day','user_id']]"
   ]
  },
  {
   "cell_type": "code",
   "execution_count": 31,
   "id": "04152fe0",
   "metadata": {},
   "outputs": [
    {
     "data": {
      "text/plain": [
       "order_hour_of_day\n",
       "0      1995\n",
       "1      1411\n",
       "2      1294\n",
       "3       807\n",
       "4       936\n",
       "5      1362\n",
       "6      5029\n",
       "7     11934\n",
       "8     19648\n",
       "9     30167\n",
       "10    34505\n",
       "11    34561\n",
       "12    32141\n",
       "13    31471\n",
       "14    32197\n",
       "15    34767\n",
       "16    30924\n",
       "17    26980\n",
       "18    20469\n",
       "19    15055\n",
       "20    11121\n",
       "21     7966\n",
       "22     5526\n",
       "23     3784\n",
       "Name: user_id, dtype: int64"
      ]
     },
     "execution_count": 31,
     "metadata": {},
     "output_type": "execute_result"
    }
   ],
   "source": [
    "df44.groupby('order_hour_of_day')['user_id'].count()"
   ]
  },
  {
   "cell_type": "code",
   "execution_count": 32,
   "id": "451f2ccb",
   "metadata": {},
   "outputs": [
    {
     "data": {
      "image/png": "[encoded data removed]",
      "text/plain": [
       "<Figure size 640x480 with 1 Axes>"
      ]
     },
     "metadata": {},
     "output_type": "display_data"
    }
   ],
   "source": [
    "bar44=df44.groupby('order_hour_of_day')['user_id'].count().plot.bar()"
   ]
  },
  {
   "cell_type": "code",
   "execution_count": 33,
   "id": "6f7235cd",
   "metadata": {},
   "outputs": [],
   "source": [
    "bar44.figure.savefig(os.path.join(path, 'Prepared Data', 'MHS_BusiestHourOfDay.png'))"
   ]
  },
  {
   "cell_type": "code",
   "execution_count": null,
   "id": "096b1e57",
   "metadata": {},
   "outputs": [],
   "source": []
  },
  {
   "cell_type": "code",
   "execution_count": null,
   "id": "f5667298",
   "metadata": {},
   "outputs": [],
   "source": []
  },
  {
   "cell_type": "markdown",
   "id": "07093898",
   "metadata": {},
   "source": [
    "### 6 Analyzing number of Mature High Spender by State"
   ]
  },
  {
   "cell_type": "code",
   "execution_count": 34,
   "id": "7d0dda6d",
   "metadata": {},
   "outputs": [],
   "source": [
    "df5=df[['user_id','STATE']]"
   ]
  },
  {
   "cell_type": "code",
   "execution_count": 35,
   "id": "313b3b38",
   "metadata": {},
   "outputs": [],
   "source": [
    "DF5=df5.drop_duplicates().reset_index()"
   ]
  },
  {
   "cell_type": "code",
   "execution_count": 36,
   "id": "35bc7814",
   "metadata": {},
   "outputs": [
    {
     "data": {
      "text/html": [
       "<div>\n",
       "<style scoped>\n",
       "    .dataframe tbody tr th:only-of-type {\n",
       "        vertical-align: middle;\n",
       "    }\n",
       "\n",
       "    .dataframe tbody tr th {\n",
       "        vertical-align: top;\n",
       "    }\n",
       "\n",
       "    .dataframe thead th {\n",
       "        text-align: right;\n",
       "    }\n",
       "</style>\n",
       "<table border=\"1\" class=\"dataframe\">\n",
       "  <thead>\n",
       "    <tr style=\"text-align: right;\">\n",
       "      <th></th>\n",
       "      <th>index</th>\n",
       "      <th>user_id</th>\n",
       "      <th>STATE</th>\n",
       "    </tr>\n",
       "  </thead>\n",
       "  <tbody>\n",
       "    <tr>\n",
       "      <th>0</th>\n",
       "      <td>1522</td>\n",
       "      <td>117740</td>\n",
       "      <td>Oregon</td>\n",
       "    </tr>\n",
       "    <tr>\n",
       "      <th>1</th>\n",
       "      <td>2910</td>\n",
       "      <td>31590</td>\n",
       "      <td>Montana</td>\n",
       "    </tr>\n",
       "    <tr>\n",
       "      <th>2</th>\n",
       "      <td>4050</td>\n",
       "      <td>47548</td>\n",
       "      <td>Iowa</td>\n",
       "    </tr>\n",
       "    <tr>\n",
       "      <th>3</th>\n",
       "      <td>9889</td>\n",
       "      <td>2823</td>\n",
       "      <td>Kentucky</td>\n",
       "    </tr>\n",
       "    <tr>\n",
       "      <th>4</th>\n",
       "      <td>15258</td>\n",
       "      <td>100191</td>\n",
       "      <td>New York</td>\n",
       "    </tr>\n",
       "    <tr>\n",
       "      <th>...</th>\n",
       "      <td>...</td>\n",
       "      <td>...</td>\n",
       "      <td>...</td>\n",
       "    </tr>\n",
       "    <tr>\n",
       "      <th>2408</th>\n",
       "      <td>3434585</td>\n",
       "      <td>176485</td>\n",
       "      <td>New Jersey</td>\n",
       "    </tr>\n",
       "    <tr>\n",
       "      <th>2409</th>\n",
       "      <td>5262389</td>\n",
       "      <td>82751</td>\n",
       "      <td>North Dakota</td>\n",
       "    </tr>\n",
       "    <tr>\n",
       "      <th>2410</th>\n",
       "      <td>6687459</td>\n",
       "      <td>15227</td>\n",
       "      <td>North Dakota</td>\n",
       "    </tr>\n",
       "    <tr>\n",
       "      <th>2411</th>\n",
       "      <td>10743455</td>\n",
       "      <td>115493</td>\n",
       "      <td>North Dakota</td>\n",
       "    </tr>\n",
       "    <tr>\n",
       "      <th>2412</th>\n",
       "      <td>10875961</td>\n",
       "      <td>54429</td>\n",
       "      <td>Hawaii</td>\n",
       "    </tr>\n",
       "  </tbody>\n",
       "</table>\n",
       "<p>2413 rows × 3 columns</p>\n",
       "</div>"
      ],
      "text/plain": [
       "         index  user_id         STATE\n",
       "0         1522   117740        Oregon\n",
       "1         2910    31590       Montana\n",
       "2         4050    47548          Iowa\n",
       "3         9889     2823      Kentucky\n",
       "4        15258   100191      New York\n",
       "...        ...      ...           ...\n",
       "2408   3434585   176485    New Jersey\n",
       "2409   5262389    82751  North Dakota\n",
       "2410   6687459    15227  North Dakota\n",
       "2411  10743455   115493  North Dakota\n",
       "2412  10875961    54429        Hawaii\n",
       "\n",
       "[2413 rows x 3 columns]"
      ]
     },
     "execution_count": 36,
     "metadata": {},
     "output_type": "execute_result"
    }
   ],
   "source": [
    "DF5"
   ]
  },
  {
   "cell_type": "code",
   "execution_count": 37,
   "id": "3095fc97",
   "metadata": {},
   "outputs": [
    {
     "data": {
      "image/png": "[encoded data removed]",
      "text/plain": [
       "<Figure size 640x480 with 1 Axes>"
      ]
     },
     "metadata": {},
     "output_type": "display_data"
    }
   ],
   "source": [
    "bar15=DF5.groupby('STATE')['user_id'].count().plot.bar()"
   ]
  },
  {
   "cell_type": "code",
   "execution_count": 38,
   "id": "3dff13e0",
   "metadata": {},
   "outputs": [
    {
     "data": {
      "text/plain": [
       "STATE\n",
       "Alabama                 44\n",
       "Alaska                  42\n",
       "Arizona                 51\n",
       "Arkansas                48\n",
       "California              37\n",
       "Colorado                61\n",
       "Connecticut             44\n",
       "Delaware                55\n",
       "District of Columbia    33\n",
       "Florida                 57\n",
       "Georgia                 53\n",
       "Hawaii                  61\n",
       "Idaho                   46\n",
       "Illinois                46\n",
       "Indiana                 59\n",
       "Iowa                    31\n",
       "Kansas                  45\n",
       "Kentucky                44\n",
       "Louisiana               46\n",
       "Maine                   43\n",
       "Maryland                41\n",
       "Massachusetts           40\n",
       "Michigan                52\n",
       "Minnesota               48\n",
       "Mississippi             52\n",
       "Missouri                50\n",
       "Montana                 43\n",
       "Nebraska                60\n",
       "Nevada                  42\n",
       "New Hampshire           46\n",
       "New Jersey              36\n",
       "New Mexico              37\n",
       "New York                40\n",
       "North Carolina          49\n",
       "North Dakota            46\n",
       "Ohio                    39\n",
       "Oklahoma                37\n",
       "Oregon                  44\n",
       "Pennsylvania            40\n",
       "Rhode Island            48\n",
       "South Carolina          48\n",
       "South Dakota            54\n",
       "Tennessee               57\n",
       "Texas                   54\n",
       "Utah                    59\n",
       "Vermont                 47\n",
       "Virginia                41\n",
       "Washington              74\n",
       "West Virginia           49\n",
       "Wisconsin               50\n",
       "Wyoming                 44\n",
       "Name: user_id, dtype: int64"
      ]
     },
     "execution_count": 38,
     "metadata": {},
     "output_type": "execute_result"
    }
   ],
   "source": [
    "DF5.groupby('STATE')['user_id'].count()"
   ]
  },
  {
   "cell_type": "code",
   "execution_count": 39,
   "id": "5d005869",
   "metadata": {},
   "outputs": [],
   "source": [
    "bar15.figure.savefig(os.path.join(path, 'Prepared Data', 'MHS_UsersNumberState.png'))"
   ]
  },
  {
   "cell_type": "markdown",
   "id": "a2d601e3",
   "metadata": {},
   "source": [
    "### 7 Analyzing Mature High Spenders  by n_dependants"
   ]
  },
  {
   "cell_type": "code",
   "execution_count": 40,
   "id": "2864b045",
   "metadata": {},
   "outputs": [],
   "source": [
    "df6=df[['user_id', 'n_dependants']]"
   ]
  },
  {
   "cell_type": "code",
   "execution_count": 41,
   "id": "8ffd07ba",
   "metadata": {},
   "outputs": [],
   "source": [
    "DF6=df6.drop_duplicates()"
   ]
  },
  {
   "cell_type": "code",
   "execution_count": 42,
   "id": "e705b023",
   "metadata": {},
   "outputs": [
    {
     "data": {
      "image/png": "[encoded data removed]",
      "text/plain": [
       "<Figure size 640x480 with 1 Axes>"
      ]
     },
     "metadata": {},
     "output_type": "display_data"
    }
   ],
   "source": [
    "pie16=df6.groupby(['n_dependants'])['user_id'].nunique().plot(kind='pie', autopct='%0.01f%%')"
   ]
  },
  {
   "cell_type": "code",
   "execution_count": 43,
   "id": "4144864c",
   "metadata": {},
   "outputs": [
    {
     "data": {
      "text/html": [
       "<div>\n",
       "<style scoped>\n",
       "    .dataframe tbody tr th:only-of-type {\n",
       "        vertical-align: middle;\n",
       "    }\n",
       "\n",
       "    .dataframe tbody tr th {\n",
       "        vertical-align: top;\n",
       "    }\n",
       "\n",
       "    .dataframe thead th {\n",
       "        text-align: right;\n",
       "    }\n",
       "</style>\n",
       "<table border=\"1\" class=\"dataframe\">\n",
       "  <thead>\n",
       "    <tr style=\"text-align: right;\">\n",
       "      <th></th>\n",
       "      <th>user_id</th>\n",
       "      <th>n_dependants</th>\n",
       "    </tr>\n",
       "  </thead>\n",
       "  <tbody>\n",
       "    <tr>\n",
       "      <th>1522</th>\n",
       "      <td>117740</td>\n",
       "      <td>1</td>\n",
       "    </tr>\n",
       "    <tr>\n",
       "      <th>1523</th>\n",
       "      <td>117740</td>\n",
       "      <td>1</td>\n",
       "    </tr>\n",
       "    <tr>\n",
       "      <th>1524</th>\n",
       "      <td>117740</td>\n",
       "      <td>1</td>\n",
       "    </tr>\n",
       "    <tr>\n",
       "      <th>1525</th>\n",
       "      <td>117740</td>\n",
       "      <td>1</td>\n",
       "    </tr>\n",
       "    <tr>\n",
       "      <th>1526</th>\n",
       "      <td>117740</td>\n",
       "      <td>1</td>\n",
       "    </tr>\n",
       "    <tr>\n",
       "      <th>...</th>\n",
       "      <td>...</td>\n",
       "      <td>...</td>\n",
       "    </tr>\n",
       "    <tr>\n",
       "      <th>10907279</th>\n",
       "      <td>56006</td>\n",
       "      <td>0</td>\n",
       "    </tr>\n",
       "    <tr>\n",
       "      <th>10907280</th>\n",
       "      <td>56006</td>\n",
       "      <td>0</td>\n",
       "    </tr>\n",
       "    <tr>\n",
       "      <th>10907308</th>\n",
       "      <td>57909</td>\n",
       "      <td>3</td>\n",
       "    </tr>\n",
       "    <tr>\n",
       "      <th>10907309</th>\n",
       "      <td>57909</td>\n",
       "      <td>3</td>\n",
       "    </tr>\n",
       "    <tr>\n",
       "      <th>10907377</th>\n",
       "      <td>201345</td>\n",
       "      <td>0</td>\n",
       "    </tr>\n",
       "  </tbody>\n",
       "</table>\n",
       "<p>396050 rows × 2 columns</p>\n",
       "</div>"
      ],
      "text/plain": [
       "          user_id  n_dependants\n",
       "1522       117740             1\n",
       "1523       117740             1\n",
       "1524       117740             1\n",
       "1525       117740             1\n",
       "1526       117740             1\n",
       "...           ...           ...\n",
       "10907279    56006             0\n",
       "10907280    56006             0\n",
       "10907308    57909             3\n",
       "10907309    57909             3\n",
       "10907377   201345             0\n",
       "\n",
       "[396050 rows x 2 columns]"
      ]
     },
     "execution_count": 43,
     "metadata": {},
     "output_type": "execute_result"
    }
   ],
   "source": [
    "df6"
   ]
  },
  {
   "cell_type": "code",
   "execution_count": 44,
   "id": "930f9006",
   "metadata": {},
   "outputs": [],
   "source": [
    "pie16.figure.savefig(os.path.join(path, 'Prepared Data', 'MHS_NDependansUsers.png'))"
   ]
  },
  {
   "cell_type": "code",
   "execution_count": 45,
   "id": "dadd0bd6",
   "metadata": {},
   "outputs": [
    {
     "data": {
      "text/plain": [
       "n_dependants\n",
       "0    616\n",
       "1    580\n",
       "2    609\n",
       "3    608\n",
       "Name: user_id, dtype: int64"
      ]
     },
     "execution_count": 45,
     "metadata": {},
     "output_type": "execute_result"
    }
   ],
   "source": [
    "DF6.groupby(['n_dependants'])['user_id'].count()"
   ]
  },
  {
   "cell_type": "markdown",
   "id": "69240cad",
   "metadata": {},
   "source": [
    "### 8 Days since prior order"
   ]
  },
  {
   "cell_type": "code",
   "execution_count": 46,
   "id": "38b4175f",
   "metadata": {},
   "outputs": [
    {
     "data": {
      "image/png": "[encoded data removed]",
      "text/plain": [
       "<Figure size 640x480 with 1 Axes>"
      ]
     },
     "metadata": {},
     "output_type": "display_data"
    }
   ],
   "source": [
    "line17=df.groupby('days_since_prior_order')['days_since_prior_order'].count().plot(kind='line')"
   ]
  },
  {
   "cell_type": "code",
   "execution_count": 47,
   "id": "4bc710c4",
   "metadata": {},
   "outputs": [
    {
     "data": {
      "text/plain": [
       "days_since_prior_order\n",
       "0     26904\n",
       "1     13845\n",
       "2     21289\n",
       "3     26662\n",
       "4     27457\n",
       "5     26635\n",
       "6     28503\n",
       "7     40081\n",
       "8     23872\n",
       "9     15584\n",
       "10    13785\n",
       "11    10964\n",
       "12     9838\n",
       "13     9878\n",
       "14    12228\n",
       "15     7592\n",
       "16     6331\n",
       "17     4634\n",
       "18     4485\n",
       "19     4181\n",
       "20     4556\n",
       "21     4956\n",
       "22     3597\n",
       "23     2905\n",
       "24     2344\n",
       "25     2097\n",
       "26     2130\n",
       "27     2110\n",
       "28     2828\n",
       "29     1675\n",
       "30    32104\n",
       "Name: days_since_prior_order, dtype: int64"
      ]
     },
     "execution_count": 47,
     "metadata": {},
     "output_type": "execute_result"
    }
   ],
   "source": [
    "df.groupby('days_since_prior_order')['days_since_prior_order'].count()"
   ]
  },
  {
   "cell_type": "code",
   "execution_count": 48,
   "id": "dc157699",
   "metadata": {},
   "outputs": [],
   "source": [
    "line17.figure.savefig(os.path.join(path, 'Prepared Data', 'MHS_DaysSincePriorOrder.png'))"
   ]
  },
  {
   "cell_type": "markdown",
   "id": "3d0c4597",
   "metadata": {},
   "source": [
    "### 9  Defining TOP products for client group\n"
   ]
  },
  {
   "cell_type": "markdown",
   "id": "f0621a1a",
   "metadata": {},
   "source": [
    " #### creating subset"
   ]
  },
  {
   "cell_type": "code",
   "execution_count": 49,
   "id": "b5303195",
   "metadata": {},
   "outputs": [],
   "source": [
    "df18=df[['product_name','product_id','prices']]"
   ]
  },
  {
   "cell_type": "code",
   "execution_count": 50,
   "id": "7a749b89",
   "metadata": {},
   "outputs": [
    {
     "data": {
      "text/html": [
       "<div>\n",
       "<style scoped>\n",
       "    .dataframe tbody tr th:only-of-type {\n",
       "        vertical-align: middle;\n",
       "    }\n",
       "\n",
       "    .dataframe tbody tr th {\n",
       "        vertical-align: top;\n",
       "    }\n",
       "\n",
       "    .dataframe thead th {\n",
       "        text-align: right;\n",
       "    }\n",
       "</style>\n",
       "<table border=\"1\" class=\"dataframe\">\n",
       "  <thead>\n",
       "    <tr style=\"text-align: right;\">\n",
       "      <th></th>\n",
       "      <th>product_name</th>\n",
       "      <th>product_id</th>\n",
       "      <th>prices</th>\n",
       "    </tr>\n",
       "  </thead>\n",
       "  <tbody>\n",
       "    <tr>\n",
       "      <th>1522</th>\n",
       "      <td>Copper Coated Scrubbing Pads</td>\n",
       "      <td>2494</td>\n",
       "      <td>3.2</td>\n",
       "    </tr>\n",
       "    <tr>\n",
       "      <th>1523</th>\n",
       "      <td>Whole Milk</td>\n",
       "      <td>4210</td>\n",
       "      <td>13.5</td>\n",
       "    </tr>\n",
       "    <tr>\n",
       "      <th>1524</th>\n",
       "      <td>Eggo Chocolate Chip Waffles</td>\n",
       "      <td>6052</td>\n",
       "      <td>1.6</td>\n",
       "    </tr>\n",
       "    <tr>\n",
       "      <th>1525</th>\n",
       "      <td>Tomato Ketchup</td>\n",
       "      <td>7751</td>\n",
       "      <td>12.3</td>\n",
       "    </tr>\n",
       "    <tr>\n",
       "      <th>1526</th>\n",
       "      <td>Napa Cabbage</td>\n",
       "      <td>11526</td>\n",
       "      <td>6.4</td>\n",
       "    </tr>\n",
       "    <tr>\n",
       "      <th>...</th>\n",
       "      <td>...</td>\n",
       "      <td>...</td>\n",
       "      <td>...</td>\n",
       "    </tr>\n",
       "    <tr>\n",
       "      <th>10907279</th>\n",
       "      <td>Smoked Whitefish Salad</td>\n",
       "      <td>5351</td>\n",
       "      <td>11.7</td>\n",
       "    </tr>\n",
       "    <tr>\n",
       "      <th>10907280</th>\n",
       "      <td>Smoked Whitefish Salad</td>\n",
       "      <td>5351</td>\n",
       "      <td>11.7</td>\n",
       "    </tr>\n",
       "    <tr>\n",
       "      <th>10907308</th>\n",
       "      <td>Organic Ezekiel 49 Bread Cinnamon Raisin</td>\n",
       "      <td>32665</td>\n",
       "      <td>12.4</td>\n",
       "    </tr>\n",
       "    <tr>\n",
       "      <th>10907309</th>\n",
       "      <td></td>\n",
       "      <td>0</td>\n",
       "      <td>0.0</td>\n",
       "    </tr>\n",
       "    <tr>\n",
       "      <th>10907377</th>\n",
       "      <td></td>\n",
       "      <td>0</td>\n",
       "      <td>0.0</td>\n",
       "    </tr>\n",
       "  </tbody>\n",
       "</table>\n",
       "<p>396050 rows × 3 columns</p>\n",
       "</div>"
      ],
      "text/plain": [
       "                                      product_name  product_id  prices\n",
       "1522                  Copper Coated Scrubbing Pads        2494     3.2\n",
       "1523                                    Whole Milk        4210    13.5\n",
       "1524                   Eggo Chocolate Chip Waffles        6052     1.6\n",
       "1525                                Tomato Ketchup        7751    12.3\n",
       "1526                                  Napa Cabbage       11526     6.4\n",
       "...                                            ...         ...     ...\n",
       "10907279                    Smoked Whitefish Salad        5351    11.7\n",
       "10907280                    Smoked Whitefish Salad        5351    11.7\n",
       "10907308  Organic Ezekiel 49 Bread Cinnamon Raisin       32665    12.4\n",
       "10907309                                                     0     0.0\n",
       "10907377                                                     0     0.0\n",
       "\n",
       "[396050 rows x 3 columns]"
      ]
     },
     "execution_count": 50,
     "metadata": {},
     "output_type": "execute_result"
    }
   ],
   "source": [
    "df18"
   ]
  },
  {
   "cell_type": "markdown",
   "id": "4d3ed604",
   "metadata": {},
   "source": [
    "#### identifying the most populare products counting orders rows  and selecting 10 TOP "
   ]
  },
  {
   "cell_type": "code",
   "execution_count": 51,
   "id": "06b51c03",
   "metadata": {},
   "outputs": [],
   "source": [
    "DF18=df18.groupby('product_name')['prices'].count().sort_values( ascending=False).reset_index().drop(index=2).head(10)"
   ]
  },
  {
   "cell_type": "code",
   "execution_count": 52,
   "id": "6fdf1577",
   "metadata": {},
   "outputs": [
    {
     "data": {
      "text/html": [
       "<div>\n",
       "<style scoped>\n",
       "    .dataframe tbody tr th:only-of-type {\n",
       "        vertical-align: middle;\n",
       "    }\n",
       "\n",
       "    .dataframe tbody tr th {\n",
       "        vertical-align: top;\n",
       "    }\n",
       "\n",
       "    .dataframe thead th {\n",
       "        text-align: right;\n",
       "    }\n",
       "</style>\n",
       "<table border=\"1\" class=\"dataframe\">\n",
       "  <thead>\n",
       "    <tr style=\"text-align: right;\">\n",
       "      <th></th>\n",
       "      <th>product_name</th>\n",
       "      <th>prices</th>\n",
       "    </tr>\n",
       "  </thead>\n",
       "  <tbody>\n",
       "    <tr>\n",
       "      <th>0</th>\n",
       "      <td>Banana</td>\n",
       "      <td>5524</td>\n",
       "    </tr>\n",
       "    <tr>\n",
       "      <th>1</th>\n",
       "      <td>Bag of Organic Bananas</td>\n",
       "      <td>3368</td>\n",
       "    </tr>\n",
       "    <tr>\n",
       "      <th>3</th>\n",
       "      <td>Lowfat 2% Milkfat Cottage Cheese</td>\n",
       "      <td>2718</td>\n",
       "    </tr>\n",
       "    <tr>\n",
       "      <th>4</th>\n",
       "      <td>Large Lemon</td>\n",
       "      <td>1551</td>\n",
       "    </tr>\n",
       "    <tr>\n",
       "      <th>5</th>\n",
       "      <td>Limes</td>\n",
       "      <td>1525</td>\n",
       "    </tr>\n",
       "    <tr>\n",
       "      <th>6</th>\n",
       "      <td>2% Reduced Fat Milk</td>\n",
       "      <td>1393</td>\n",
       "    </tr>\n",
       "    <tr>\n",
       "      <th>7</th>\n",
       "      <td>Blueberries</td>\n",
       "      <td>1385</td>\n",
       "    </tr>\n",
       "    <tr>\n",
       "      <th>8</th>\n",
       "      <td>Organic Avocado</td>\n",
       "      <td>1266</td>\n",
       "    </tr>\n",
       "    <tr>\n",
       "      <th>9</th>\n",
       "      <td>Small Hass Avocado</td>\n",
       "      <td>1137</td>\n",
       "    </tr>\n",
       "    <tr>\n",
       "      <th>10</th>\n",
       "      <td>Organic Strawberries</td>\n",
       "      <td>1134</td>\n",
       "    </tr>\n",
       "  </tbody>\n",
       "</table>\n",
       "</div>"
      ],
      "text/plain": [
       "                        product_name  prices\n",
       "0                             Banana    5524\n",
       "1             Bag of Organic Bananas    3368\n",
       "3   Lowfat 2% Milkfat Cottage Cheese    2718\n",
       "4                        Large Lemon    1551\n",
       "5                              Limes    1525\n",
       "6                2% Reduced Fat Milk    1393\n",
       "7                        Blueberries    1385\n",
       "8                    Organic Avocado    1266\n",
       "9                 Small Hass Avocado    1137\n",
       "10              Organic Strawberries    1134"
      ]
     },
     "execution_count": 52,
     "metadata": {},
     "output_type": "execute_result"
    }
   ],
   "source": [
    "DF18"
   ]
  },
  {
   "cell_type": "code",
   "execution_count": 53,
   "id": "60cacae4",
   "metadata": {},
   "outputs": [],
   "source": [
    "DF18=DF18.rename(columns={'prices':'count_orders'})"
   ]
  },
  {
   "cell_type": "code",
   "execution_count": 54,
   "id": "98a790fb",
   "metadata": {},
   "outputs": [
    {
     "data": {
      "text/html": [
       "<div>\n",
       "<style scoped>\n",
       "    .dataframe tbody tr th:only-of-type {\n",
       "        vertical-align: middle;\n",
       "    }\n",
       "\n",
       "    .dataframe tbody tr th {\n",
       "        vertical-align: top;\n",
       "    }\n",
       "\n",
       "    .dataframe thead th {\n",
       "        text-align: right;\n",
       "    }\n",
       "</style>\n",
       "<table border=\"1\" class=\"dataframe\">\n",
       "  <thead>\n",
       "    <tr style=\"text-align: right;\">\n",
       "      <th></th>\n",
       "      <th>product_name</th>\n",
       "      <th>count_orders</th>\n",
       "    </tr>\n",
       "  </thead>\n",
       "  <tbody>\n",
       "    <tr>\n",
       "      <th>0</th>\n",
       "      <td>Banana</td>\n",
       "      <td>5524</td>\n",
       "    </tr>\n",
       "    <tr>\n",
       "      <th>1</th>\n",
       "      <td>Bag of Organic Bananas</td>\n",
       "      <td>3368</td>\n",
       "    </tr>\n",
       "    <tr>\n",
       "      <th>3</th>\n",
       "      <td>Lowfat 2% Milkfat Cottage Cheese</td>\n",
       "      <td>2718</td>\n",
       "    </tr>\n",
       "    <tr>\n",
       "      <th>4</th>\n",
       "      <td>Large Lemon</td>\n",
       "      <td>1551</td>\n",
       "    </tr>\n",
       "    <tr>\n",
       "      <th>5</th>\n",
       "      <td>Limes</td>\n",
       "      <td>1525</td>\n",
       "    </tr>\n",
       "    <tr>\n",
       "      <th>6</th>\n",
       "      <td>2% Reduced Fat Milk</td>\n",
       "      <td>1393</td>\n",
       "    </tr>\n",
       "    <tr>\n",
       "      <th>7</th>\n",
       "      <td>Blueberries</td>\n",
       "      <td>1385</td>\n",
       "    </tr>\n",
       "    <tr>\n",
       "      <th>8</th>\n",
       "      <td>Organic Avocado</td>\n",
       "      <td>1266</td>\n",
       "    </tr>\n",
       "    <tr>\n",
       "      <th>9</th>\n",
       "      <td>Small Hass Avocado</td>\n",
       "      <td>1137</td>\n",
       "    </tr>\n",
       "    <tr>\n",
       "      <th>10</th>\n",
       "      <td>Organic Strawberries</td>\n",
       "      <td>1134</td>\n",
       "    </tr>\n",
       "  </tbody>\n",
       "</table>\n",
       "</div>"
      ],
      "text/plain": [
       "                        product_name  count_orders\n",
       "0                             Banana          5524\n",
       "1             Bag of Organic Bananas          3368\n",
       "3   Lowfat 2% Milkfat Cottage Cheese          2718\n",
       "4                        Large Lemon          1551\n",
       "5                              Limes          1525\n",
       "6                2% Reduced Fat Milk          1393\n",
       "7                        Blueberries          1385\n",
       "8                    Organic Avocado          1266\n",
       "9                 Small Hass Avocado          1137\n",
       "10              Organic Strawberries          1134"
      ]
     },
     "execution_count": 54,
     "metadata": {},
     "output_type": "execute_result"
    }
   ],
   "source": [
    "DF18"
   ]
  },
  {
   "cell_type": "markdown",
   "id": "9976d6c9",
   "metadata": {},
   "source": [
    "#### -creating plot"
   ]
  },
  {
   "cell_type": "code",
   "execution_count": 55,
   "id": "e3ea4809",
   "metadata": {},
   "outputs": [
    {
     "data": {
      "image/png": "[encoded data removed]",
      "text/plain": [
       "<Figure size 640x480 with 1 Axes>"
      ]
     },
     "metadata": {},
     "output_type": "display_data"
    }
   ],
   "source": [
    "Bar21=DF18.plot.barh(x='product_name')"
   ]
  },
  {
   "cell_type": "code",
   "execution_count": 56,
   "id": "ead1aa38",
   "metadata": {},
   "outputs": [],
   "source": [
    "Bar21.figure.savefig(os.path.join(path, 'Prepared Data', 'MHS_Products.png'))"
   ]
  },
  {
   "cell_type": "markdown",
   "id": "0fe223b8",
   "metadata": {},
   "source": [
    "#### droping duplicates"
   ]
  },
  {
   "cell_type": "code",
   "execution_count": 62,
   "id": "231594da",
   "metadata": {},
   "outputs": [],
   "source": [
    "df19=df18.drop_duplicates()"
   ]
  },
  {
   "cell_type": "code",
   "execution_count": 63,
   "id": "0375d652",
   "metadata": {},
   "outputs": [
    {
     "data": {
      "text/html": [
       "<div>\n",
       "<style scoped>\n",
       "    .dataframe tbody tr th:only-of-type {\n",
       "        vertical-align: middle;\n",
       "    }\n",
       "\n",
       "    .dataframe tbody tr th {\n",
       "        vertical-align: top;\n",
       "    }\n",
       "\n",
       "    .dataframe thead th {\n",
       "        text-align: right;\n",
       "    }\n",
       "</style>\n",
       "<table border=\"1\" class=\"dataframe\">\n",
       "  <thead>\n",
       "    <tr style=\"text-align: right;\">\n",
       "      <th></th>\n",
       "      <th>product_name</th>\n",
       "      <th>product_id</th>\n",
       "      <th>prices</th>\n",
       "    </tr>\n",
       "  </thead>\n",
       "  <tbody>\n",
       "    <tr>\n",
       "      <th>1522</th>\n",
       "      <td>Copper Coated Scrubbing Pads</td>\n",
       "      <td>2494</td>\n",
       "      <td>16.0</td>\n",
       "    </tr>\n",
       "    <tr>\n",
       "      <th>1523</th>\n",
       "      <td>Whole Milk</td>\n",
       "      <td>4210</td>\n",
       "      <td>13081.5</td>\n",
       "    </tr>\n",
       "    <tr>\n",
       "      <th>1524</th>\n",
       "      <td>Eggo Chocolate Chip Waffles</td>\n",
       "      <td>6052</td>\n",
       "      <td>260.8</td>\n",
       "    </tr>\n",
       "    <tr>\n",
       "      <th>1525</th>\n",
       "      <td>Tomato Ketchup</td>\n",
       "      <td>7751</td>\n",
       "      <td>3628.5</td>\n",
       "    </tr>\n",
       "    <tr>\n",
       "      <th>1526</th>\n",
       "      <td>Napa Cabbage</td>\n",
       "      <td>11526</td>\n",
       "      <td>281.6</td>\n",
       "    </tr>\n",
       "    <tr>\n",
       "      <th>...</th>\n",
       "      <td>...</td>\n",
       "      <td>...</td>\n",
       "      <td>...</td>\n",
       "    </tr>\n",
       "    <tr>\n",
       "      <th>10904757</th>\n",
       "      <td>Organic Grass Fed Whey Protein Unflavored</td>\n",
       "      <td>2085</td>\n",
       "      <td>14.6</td>\n",
       "    </tr>\n",
       "    <tr>\n",
       "      <th>10905913</th>\n",
       "      <td>Cold Pressed Flax Oil</td>\n",
       "      <td>42543</td>\n",
       "      <td>11.7</td>\n",
       "    </tr>\n",
       "    <tr>\n",
       "      <th>10906752</th>\n",
       "      <td>Organic Raisins</td>\n",
       "      <td>20448</td>\n",
       "      <td>5.4</td>\n",
       "    </tr>\n",
       "    <tr>\n",
       "      <th>10906822</th>\n",
       "      <td>Vanilla Non Dairy Frozen Dessert Minis</td>\n",
       "      <td>23586</td>\n",
       "      <td>12.5</td>\n",
       "    </tr>\n",
       "    <tr>\n",
       "      <th>10906938</th>\n",
       "      <td>Triple Action Power Scrub Microfiber Roller Mop</td>\n",
       "      <td>39827</td>\n",
       "      <td>9.8</td>\n",
       "    </tr>\n",
       "  </tbody>\n",
       "</table>\n",
       "<p>21142 rows × 3 columns</p>\n",
       "</div>"
      ],
      "text/plain": [
       "                                             product_name  product_id   prices\n",
       "1522                         Copper Coated Scrubbing Pads        2494     16.0\n",
       "1523                                           Whole Milk        4210  13081.5\n",
       "1524                          Eggo Chocolate Chip Waffles        6052    260.8\n",
       "1525                                       Tomato Ketchup        7751   3628.5\n",
       "1526                                         Napa Cabbage       11526    281.6\n",
       "...                                                   ...         ...      ...\n",
       "10904757        Organic Grass Fed Whey Protein Unflavored        2085     14.6\n",
       "10905913                            Cold Pressed Flax Oil       42543     11.7\n",
       "10906752                                  Organic Raisins       20448      5.4\n",
       "10906822           Vanilla Non Dairy Frozen Dessert Minis       23586     12.5\n",
       "10906938  Triple Action Power Scrub Microfiber Roller Mop       39827      9.8\n",
       "\n",
       "[21142 rows x 3 columns]"
      ]
     },
     "execution_count": 63,
     "metadata": {},
     "output_type": "execute_result"
    }
   ],
   "source": [
    "df19"
   ]
  },
  {
   "cell_type": "markdown",
   "id": "e5494db5",
   "metadata": {},
   "source": [
    "#### sorting by descending order to see MHS TOP products"
   ]
  },
  {
   "cell_type": "code",
   "execution_count": 65,
   "id": "43dbb919",
   "metadata": {},
   "outputs": [
    {
     "data": {
      "text/html": [
       "<div>\n",
       "<style scoped>\n",
       "    .dataframe tbody tr th:only-of-type {\n",
       "        vertical-align: middle;\n",
       "    }\n",
       "\n",
       "    .dataframe tbody tr th {\n",
       "        vertical-align: top;\n",
       "    }\n",
       "\n",
       "    .dataframe thead th {\n",
       "        text-align: right;\n",
       "    }\n",
       "</style>\n",
       "<table border=\"1\" class=\"dataframe\">\n",
       "  <thead>\n",
       "    <tr style=\"text-align: right;\">\n",
       "      <th></th>\n",
       "      <th>product_name</th>\n",
       "      <th>product_id</th>\n",
       "      <th>prices</th>\n",
       "    </tr>\n",
       "  </thead>\n",
       "  <tbody>\n",
       "    <tr>\n",
       "      <th>9913</th>\n",
       "      <td>Lowfat 2% Milkfat Cottage Cheese</td>\n",
       "      <td>21553</td>\n",
       "      <td>40498200.0</td>\n",
       "    </tr>\n",
       "    <tr>\n",
       "      <th>227237</th>\n",
       "      <td>2 % Reduced Fat  Milk</td>\n",
       "      <td>33664</td>\n",
       "      <td>39899601.0</td>\n",
       "    </tr>\n",
       "    <tr>\n",
       "      <th>1630</th>\n",
       "      <td>Banana</td>\n",
       "      <td>24852</td>\n",
       "      <td>67945.2</td>\n",
       "    </tr>\n",
       "    <tr>\n",
       "      <th>1621</th>\n",
       "      <td>Bag of Organic Bananas</td>\n",
       "      <td>13176</td>\n",
       "      <td>34690.4</td>\n",
       "    </tr>\n",
       "    <tr>\n",
       "      <th>1663</th>\n",
       "      <td>Limes</td>\n",
       "      <td>26209</td>\n",
       "      <td>22417.5</td>\n",
       "    </tr>\n",
       "    <tr>\n",
       "      <th>44314</th>\n",
       "      <td>Large Lemon</td>\n",
       "      <td>47626</td>\n",
       "      <td>21714.0</td>\n",
       "    </tr>\n",
       "    <tr>\n",
       "      <th>2970</th>\n",
       "      <td>Blueberries</td>\n",
       "      <td>9076</td>\n",
       "      <td>14681.0</td>\n",
       "    </tr>\n",
       "    <tr>\n",
       "      <th>93713</th>\n",
       "      <td>Asparagus</td>\n",
       "      <td>46979</td>\n",
       "      <td>13084.5</td>\n",
       "    </tr>\n",
       "    <tr>\n",
       "      <th>1523</th>\n",
       "      <td>Whole Milk</td>\n",
       "      <td>4210</td>\n",
       "      <td>13081.5</td>\n",
       "    </tr>\n",
       "    <tr>\n",
       "      <th>9892</th>\n",
       "      <td>2% Reduced Fat Milk</td>\n",
       "      <td>23909</td>\n",
       "      <td>12815.6</td>\n",
       "    </tr>\n",
       "  </tbody>\n",
       "</table>\n",
       "</div>"
      ],
      "text/plain": [
       "                            product_name  product_id      prices\n",
       "9913    Lowfat 2% Milkfat Cottage Cheese       21553  40498200.0\n",
       "227237             2 % Reduced Fat  Milk       33664  39899601.0\n",
       "1630                              Banana       24852     67945.2\n",
       "1621              Bag of Organic Bananas       13176     34690.4\n",
       "1663                               Limes       26209     22417.5\n",
       "44314                        Large Lemon       47626     21714.0\n",
       "2970                         Blueberries        9076     14681.0\n",
       "93713                          Asparagus       46979     13084.5\n",
       "1523                          Whole Milk        4210     13081.5\n",
       "9892                 2% Reduced Fat Milk       23909     12815.6"
      ]
     },
     "execution_count": 65,
     "metadata": {},
     "output_type": "execute_result"
    }
   ],
   "source": [
    "df19.loc[df19['prices']>=1000].sort_values(by='prices', ascending=False).head(10)"
   ]
  },
  {
   "cell_type": "code",
   "execution_count": null,
   "id": "2fea46c3",
   "metadata": {},
   "outputs": [],
   "source": []
  },
  {
   "cell_type": "code",
   "execution_count": null,
   "id": "c6da9f46",
   "metadata": {},
   "outputs": [],
   "source": []
  }
 ],
 "metadata": {
  "kernelspec": {
   "display_name": "Python 3 (ipykernel)",
   "language": "python",
   "name": "python3"
  },
  "language_info": {
   "codemirror_mode": {
    "name": "ipython",
    "version": 3
   },
   "file_extension": ".py",
   "mimetype": "text/x-python",
   "name": "python",
   "nbconvert_exporter": "python",
   "pygments_lexer": "ipython3",
   "version": "3.10.9"
  }
 },
 "nbformat": 4,
 "nbformat_minor": 5
}
