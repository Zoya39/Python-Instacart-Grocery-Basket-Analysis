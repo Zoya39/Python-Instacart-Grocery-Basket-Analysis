{
 "cells": [
  {
   "cell_type": "markdown",
   "id": "dc856afc",
   "metadata": {},
   "source": [
    "### 4.10 Part5 YLS\n",
    "#### 1 Importing libraries and df w/o PI\n",
    "#### 2 analyzing Young Low Spender by Loyalty Flag\n",
    "#### 3 -analyzing Young Low Spender purshease by  sales amount\n",
    "#### 4 -analyzing Young Low Spender by Busiest_day\n",
    "#### Analyzing by prefered hour of day\n",
    "#### 6 Analyzing number of Young Low Spender by State\n",
    "#### 7 Analyzing Young Low Spenders  by n_dependants\n",
    "#### 8 Days since prior order\n",
    "####  9  Defining TOP products for client group\n"
   ]
  },
  {
   "cell_type": "markdown",
   "id": "b3478eda",
   "metadata": {},
   "source": [
    "### 1 Importing libraries and df w/o PII"
   ]
  },
  {
   "cell_type": "code",
   "execution_count": 1,
   "id": "e865d8b6",
   "metadata": {},
   "outputs": [],
   "source": [
    "import pandas as pd\n",
    "import numpy as np\n",
    "import os\n",
    "import matplotlib.pyplot as plt\n",
    "import seaborn as sns\n",
    "import scipy"
   ]
  },
  {
   "cell_type": "code",
   "execution_count": 2,
   "id": "a0d783f3",
   "metadata": {},
   "outputs": [],
   "source": [
    "path=r'C:\\Users\\user\\07-2023 Instacart Basket Analysis\\02 Data'"
   ]
  },
  {
   "cell_type": "markdown",
   "id": "7d9928b7",
   "metadata": {},
   "source": [
    "#### -importing df"
   ]
  },
  {
   "cell_type": "code",
   "execution_count": 3,
   "id": "339d7784",
   "metadata": {},
   "outputs": [],
   "source": [
    "df=pd.read_pickle(os.path.join(path,'Prepared Data','YLS.pkl'))"
   ]
  },
  {
   "cell_type": "code",
   "execution_count": 4,
   "id": "dd1cde48",
   "metadata": {},
   "outputs": [
    {
     "data": {
      "text/plain": [
       "Index(['user_id', 'Gender', 'STATE', 'Age', 'date_joined', 'n_dependants',\n",
       "       'fam_status', 'income', 'product_id', 'product_name', 'aisle_id',\n",
       "       'department_id', 'prices', 'order_id', 'eval_set', 'order_number',\n",
       "       'day_of_week', 'order_hour_of_day', 'days_since_prior_order',\n",
       "       'add_to_cart_order', 'reordered', 'price_range_loc', 'busiest_day',\n",
       "       'busiest days', 'max_order', 'loyalty_flag', 'mean_price',\n",
       "       'spender_flag', 'median_days_sinse_ord', 'frequent_flag',\n",
       "       'AgeIncome_flag'],\n",
       "      dtype='object')"
      ]
     },
     "execution_count": 4,
     "metadata": {},
     "output_type": "execute_result"
    }
   ],
   "source": [
    "df.columns"
   ]
  },
  {
   "cell_type": "code",
   "execution_count": 5,
   "id": "a95c3088",
   "metadata": {},
   "outputs": [
    {
     "data": {
      "text/plain": [
       "(10518691, 31)"
      ]
     },
     "execution_count": 5,
     "metadata": {},
     "output_type": "execute_result"
    }
   ],
   "source": [
    "df.shape"
   ]
  },
  {
   "cell_type": "code",
   "execution_count": 6,
   "id": "5d2cc055",
   "metadata": {},
   "outputs": [
    {
     "data": {
      "text/html": [
       "<div>\n",
       "<style scoped>\n",
       "    .dataframe tbody tr th:only-of-type {\n",
       "        vertical-align: middle;\n",
       "    }\n",
       "\n",
       "    .dataframe tbody tr th {\n",
       "        vertical-align: top;\n",
       "    }\n",
       "\n",
       "    .dataframe thead th {\n",
       "        text-align: right;\n",
       "    }\n",
       "</style>\n",
       "<table border=\"1\" class=\"dataframe\">\n",
       "  <thead>\n",
       "    <tr style=\"text-align: right;\">\n",
       "      <th></th>\n",
       "      <th>user_id</th>\n",
       "      <th>Age</th>\n",
       "      <th>income</th>\n",
       "      <th>product_id</th>\n",
       "      <th>median_days_sinse_ord</th>\n",
       "      <th>order_number</th>\n",
       "      <th>mean_price</th>\n",
       "    </tr>\n",
       "  </thead>\n",
       "  <tbody>\n",
       "    <tr>\n",
       "      <th>count</th>\n",
       "      <td>1.051869e+07</td>\n",
       "      <td>1.051869e+07</td>\n",
       "      <td>1.051869e+07</td>\n",
       "      <td>1.051869e+07</td>\n",
       "      <td>1.051869e+07</td>\n",
       "      <td>1.051869e+07</td>\n",
       "      <td>1.051869e+07</td>\n",
       "    </tr>\n",
       "    <tr>\n",
       "      <th>mean</th>\n",
       "      <td>1.029623e+05</td>\n",
       "      <td>2.857221e+01</td>\n",
       "      <td>6.890848e+04</td>\n",
       "      <td>2.544154e+04</td>\n",
       "      <td>9.382789e+00</td>\n",
       "      <td>1.783348e+01</td>\n",
       "      <td>7.781633e+00</td>\n",
       "    </tr>\n",
       "    <tr>\n",
       "      <th>std</th>\n",
       "      <td>5.962691e+04</td>\n",
       "      <td>6.488775e+00</td>\n",
       "      <td>1.842283e+04</td>\n",
       "      <td>1.416965e+04</td>\n",
       "      <td>6.074647e+00</td>\n",
       "      <td>1.761254e+01</td>\n",
       "      <td>7.042631e-01</td>\n",
       "    </tr>\n",
       "    <tr>\n",
       "      <th>min</th>\n",
       "      <td>1.000000e+00</td>\n",
       "      <td>1.800000e+01</td>\n",
       "      <td>2.590300e+04</td>\n",
       "      <td>0.000000e+00</td>\n",
       "      <td>0.000000e+00</td>\n",
       "      <td>1.000000e+00</td>\n",
       "      <td>1.000000e+00</td>\n",
       "    </tr>\n",
       "    <tr>\n",
       "      <th>25%</th>\n",
       "      <td>5.106900e+04</td>\n",
       "      <td>2.300000e+01</td>\n",
       "      <td>5.601100e+04</td>\n",
       "      <td>1.325900e+04</td>\n",
       "      <td>6.000000e+00</td>\n",
       "      <td>5.000000e+00</td>\n",
       "      <td>7.387179e+00</td>\n",
       "    </tr>\n",
       "    <tr>\n",
       "      <th>50%</th>\n",
       "      <td>1.030540e+05</td>\n",
       "      <td>2.900000e+01</td>\n",
       "      <td>6.877000e+04</td>\n",
       "      <td>2.507200e+04</td>\n",
       "      <td>7.000000e+00</td>\n",
       "      <td>1.200000e+01</td>\n",
       "      <td>7.809154e+00</td>\n",
       "    </tr>\n",
       "    <tr>\n",
       "      <th>75%</th>\n",
       "      <td>1.547900e+05</td>\n",
       "      <td>3.400000e+01</td>\n",
       "      <td>8.385200e+04</td>\n",
       "      <td>3.776600e+04</td>\n",
       "      <td>1.200000e+01</td>\n",
       "      <td>2.500000e+01</td>\n",
       "      <td>8.215493e+00</td>\n",
       "    </tr>\n",
       "    <tr>\n",
       "      <th>max</th>\n",
       "      <td>2.062060e+05</td>\n",
       "      <td>4.000000e+01</td>\n",
       "      <td>1.013980e+05</td>\n",
       "      <td>4.968800e+04</td>\n",
       "      <td>3.000000e+01</td>\n",
       "      <td>1.000000e+02</td>\n",
       "      <td>9.997059e+00</td>\n",
       "    </tr>\n",
       "  </tbody>\n",
       "</table>\n",
       "</div>"
      ],
      "text/plain": [
       "            user_id           Age        income    product_id  \\\n",
       "count  1.051869e+07  1.051869e+07  1.051869e+07  1.051869e+07   \n",
       "mean   1.029623e+05  2.857221e+01  6.890848e+04  2.544154e+04   \n",
       "std    5.962691e+04  6.488775e+00  1.842283e+04  1.416965e+04   \n",
       "min    1.000000e+00  1.800000e+01  2.590300e+04  0.000000e+00   \n",
       "25%    5.106900e+04  2.300000e+01  5.601100e+04  1.325900e+04   \n",
       "50%    1.030540e+05  2.900000e+01  6.877000e+04  2.507200e+04   \n",
       "75%    1.547900e+05  3.400000e+01  8.385200e+04  3.776600e+04   \n",
       "max    2.062060e+05  4.000000e+01  1.013980e+05  4.968800e+04   \n",
       "\n",
       "       median_days_sinse_ord  order_number    mean_price  \n",
       "count           1.051869e+07  1.051869e+07  1.051869e+07  \n",
       "mean            9.382789e+00  1.783348e+01  7.781633e+00  \n",
       "std             6.074647e+00  1.761254e+01  7.042631e-01  \n",
       "min             0.000000e+00  1.000000e+00  1.000000e+00  \n",
       "25%             6.000000e+00  5.000000e+00  7.387179e+00  \n",
       "50%             7.000000e+00  1.200000e+01  7.809154e+00  \n",
       "75%             1.200000e+01  2.500000e+01  8.215493e+00  \n",
       "max             3.000000e+01  1.000000e+02  9.997059e+00  "
      ]
     },
     "execution_count": 6,
     "metadata": {},
     "output_type": "execute_result"
    }
   ],
   "source": [
    "df[['user_id','Age', 'income','product_id', 'median_days_sinse_ord','order_number','mean_price']] .describe()"
   ]
  },
  {
   "cell_type": "markdown",
   "id": "08380bfb",
   "metadata": {},
   "source": [
    "### 2 Analyzing Young Low Spender by Loyalty Flag"
   ]
  },
  {
   "cell_type": "markdown",
   "id": "6e53f0cf",
   "metadata": {},
   "source": [
    "#### --creating the subset to avoid Memory Error"
   ]
  },
  {
   "cell_type": "code",
   "execution_count": 7,
   "id": "ca583f66",
   "metadata": {},
   "outputs": [],
   "source": [
    "df1=df[['user_id','Gender','fam_status','STATE','department_id', 'product_id', 'product_name', \n",
    "       'busiest_day','loyalty_flag','AgeIncome_flag','prices','income']]"
   ]
  },
  {
   "cell_type": "markdown",
   "id": "db69a845",
   "metadata": {},
   "source": [
    "### - How many customers are YLS?"
   ]
  },
  {
   "cell_type": "code",
   "execution_count": 8,
   "id": "166ad79b",
   "metadata": {},
   "outputs": [
    {
     "data": {
      "text/plain": [
       "(54427, 1)"
      ]
     },
     "execution_count": 8,
     "metadata": {},
     "output_type": "execute_result"
    }
   ],
   "source": [
    "df1[['user_id']].drop_duplicates().shape"
   ]
  },
  {
   "cell_type": "code",
   "execution_count": null,
   "id": "7a398bce",
   "metadata": {},
   "outputs": [],
   "source": []
  },
  {
   "cell_type": "markdown",
   "id": "8a4e55ee",
   "metadata": {},
   "source": [
    "### 3 -Analyzing Young Low Spender by Loyalty Flag and Family Status"
   ]
  },
  {
   "cell_type": "markdown",
   "id": "260990d5",
   "metadata": {},
   "source": [
    "#### -creating subset with unique user_id"
   ]
  },
  {
   "cell_type": "code",
   "execution_count": 9,
   "id": "6be23ed7",
   "metadata": {},
   "outputs": [],
   "source": [
    "df1=df[['user_id','fam_status','loyalty_flag']].drop_duplicates()"
   ]
  },
  {
   "cell_type": "code",
   "execution_count": 10,
   "id": "db67831c",
   "metadata": {},
   "outputs": [
    {
     "data": {
      "text/plain": [
       "fam_status                        loyalty_flag    \n",
       "living with parents and siblings  Regular customer     3878\n",
       "                                  New customer         2729\n",
       "                                  Loyal customer        831\n",
       "married                           Regular customer    17129\n",
       "                                  New customer        12472\n",
       "                                  Loyal customer       3606\n",
       "single                            Regular customer     7157\n",
       "                                  New customer         5160\n",
       "                                  Loyal customer       1465\n",
       "Name: loyalty_flag, dtype: int64"
      ]
     },
     "execution_count": 10,
     "metadata": {},
     "output_type": "execute_result"
    }
   ],
   "source": [
    "df1.groupby('fam_status')['loyalty_flag'].value_counts()"
   ]
  },
  {
   "cell_type": "code",
   "execution_count": 11,
   "id": "b10af605",
   "metadata": {},
   "outputs": [
    {
     "data": {
      "image/png": "[encoded data removed]",
      "text/plain": [
       "<Figure size 640x480 with 1 Axes>"
      ]
     },
     "metadata": {},
     "output_type": "display_data"
    }
   ],
   "source": [
    "bar12=df1.groupby('fam_status')['loyalty_flag'].value_counts().unstack().plot.barh()"
   ]
  },
  {
   "cell_type": "code",
   "execution_count": 12,
   "id": "cdd18c95",
   "metadata": {},
   "outputs": [],
   "source": [
    "bar12.figure.savefig(os.path.join(path, 'Prepared Data', 'YLS_LoyaltyFlag.png'))"
   ]
  },
  {
   "cell_type": "markdown",
   "id": "6df1434e",
   "metadata": {},
   "source": [
    "### 3 -analyzing Young Low Spender purshease by  sales amount"
   ]
  },
  {
   "cell_type": "code",
   "execution_count": 13,
   "id": "4ce826fb",
   "metadata": {},
   "outputs": [],
   "source": [
    "Df1=df[['user_id','prices','loyalty_flag']]"
   ]
  },
  {
   "cell_type": "code",
   "execution_count": 14,
   "id": "fd1ecd64",
   "metadata": {},
   "outputs": [
    {
     "data": {
      "text/html": [
       "<div>\n",
       "<style scoped>\n",
       "    .dataframe tbody tr th:only-of-type {\n",
       "        vertical-align: middle;\n",
       "    }\n",
       "\n",
       "    .dataframe tbody tr th {\n",
       "        vertical-align: top;\n",
       "    }\n",
       "\n",
       "    .dataframe thead th {\n",
       "        text-align: right;\n",
       "    }\n",
       "</style>\n",
       "<table border=\"1\" class=\"dataframe\">\n",
       "  <thead>\n",
       "    <tr style=\"text-align: right;\">\n",
       "      <th></th>\n",
       "      <th>user_id</th>\n",
       "      <th>prices</th>\n",
       "      <th>loyalty_flag</th>\n",
       "    </tr>\n",
       "  </thead>\n",
       "  <tbody>\n",
       "    <tr>\n",
       "      <th>8</th>\n",
       "      <td>33890</td>\n",
       "      <td>12.3</td>\n",
       "      <td>Regular customer</td>\n",
       "    </tr>\n",
       "    <tr>\n",
       "      <th>9</th>\n",
       "      <td>33890</td>\n",
       "      <td>12.8</td>\n",
       "      <td>Regular customer</td>\n",
       "    </tr>\n",
       "    <tr>\n",
       "      <th>10</th>\n",
       "      <td>33890</td>\n",
       "      <td>6.1</td>\n",
       "      <td>Regular customer</td>\n",
       "    </tr>\n",
       "    <tr>\n",
       "      <th>11</th>\n",
       "      <td>33890</td>\n",
       "      <td>12.1</td>\n",
       "      <td>Regular customer</td>\n",
       "    </tr>\n",
       "    <tr>\n",
       "      <th>12</th>\n",
       "      <td>33890</td>\n",
       "      <td>9.0</td>\n",
       "      <td>Regular customer</td>\n",
       "    </tr>\n",
       "    <tr>\n",
       "      <th>...</th>\n",
       "      <td>...</td>\n",
       "      <td>...</td>\n",
       "      <td>...</td>\n",
       "    </tr>\n",
       "    <tr>\n",
       "      <th>10907400</th>\n",
       "      <td>41926</td>\n",
       "      <td>1.6</td>\n",
       "      <td>New customer</td>\n",
       "    </tr>\n",
       "    <tr>\n",
       "      <th>10907401</th>\n",
       "      <td>41926</td>\n",
       "      <td>7.2</td>\n",
       "      <td>New customer</td>\n",
       "    </tr>\n",
       "    <tr>\n",
       "      <th>10907404</th>\n",
       "      <td>53943</td>\n",
       "      <td>8.2</td>\n",
       "      <td>New customer</td>\n",
       "    </tr>\n",
       "    <tr>\n",
       "      <th>10907406</th>\n",
       "      <td>66119</td>\n",
       "      <td>12.2</td>\n",
       "      <td>New customer</td>\n",
       "    </tr>\n",
       "    <tr>\n",
       "      <th>10907407</th>\n",
       "      <td>66119</td>\n",
       "      <td>0.0</td>\n",
       "      <td>New customer</td>\n",
       "    </tr>\n",
       "  </tbody>\n",
       "</table>\n",
       "<p>10518691 rows × 3 columns</p>\n",
       "</div>"
      ],
      "text/plain": [
       "          user_id  prices      loyalty_flag\n",
       "8           33890    12.3  Regular customer\n",
       "9           33890    12.8  Regular customer\n",
       "10          33890     6.1  Regular customer\n",
       "11          33890    12.1  Regular customer\n",
       "12          33890     9.0  Regular customer\n",
       "...           ...     ...               ...\n",
       "10907400    41926     1.6      New customer\n",
       "10907401    41926     7.2      New customer\n",
       "10907404    53943     8.2      New customer\n",
       "10907406    66119    12.2      New customer\n",
       "10907407    66119     0.0      New customer\n",
       "\n",
       "[10518691 rows x 3 columns]"
      ]
     },
     "execution_count": 14,
     "metadata": {},
     "output_type": "execute_result"
    }
   ],
   "source": [
    "Df1"
   ]
  },
  {
   "cell_type": "code",
   "execution_count": 15,
   "id": "77ac4735",
   "metadata": {},
   "outputs": [],
   "source": [
    "df11=Df1.groupby('loyalty_flag')['prices'].sum()"
   ]
  },
  {
   "cell_type": "code",
   "execution_count": 16,
   "id": "63956370",
   "metadata": {},
   "outputs": [
    {
     "data": {
      "text/plain": [
       "loyalty_flag\n",
       "Loyal customer      27663732.1\n",
       "New customer        10539115.4\n",
       "Regular customer    43224340.1\n",
       "Name: prices, dtype: float64"
      ]
     },
     "execution_count": 16,
     "metadata": {},
     "output_type": "execute_result"
    }
   ],
   "source": [
    "df11"
   ]
  },
  {
   "cell_type": "markdown",
   "id": "b0722454",
   "metadata": {},
   "source": [
    "#### -creating and saving plot"
   ]
  },
  {
   "cell_type": "code",
   "execution_count": 17,
   "id": "9c144c3a",
   "metadata": {},
   "outputs": [
    {
     "data": {
      "image/png": "[encoded data removed]",
      "text/plain": [
       "<Figure size 640x480 with 1 Axes>"
      ]
     },
     "metadata": {},
     "output_type": "display_data"
    }
   ],
   "source": [
    "bar22=Df1.groupby('loyalty_flag')['prices'].sum().plot.barh(color=['red', 'green','blue'])"
   ]
  },
  {
   "cell_type": "code",
   "execution_count": 18,
   "id": "b81dd39e",
   "metadata": {},
   "outputs": [],
   "source": [
    "bar22.figure.savefig(os.path.join(path, 'Prepared Data', 'YLS_LoyaltyFlagPrices.png'))"
   ]
  },
  {
   "cell_type": "markdown",
   "id": "022c92a7",
   "metadata": {},
   "source": [
    "### 4 -analyzing Young Low Spender by Busiest_day"
   ]
  },
  {
   "cell_type": "code",
   "execution_count": 19,
   "id": "58fcebb9",
   "metadata": {},
   "outputs": [],
   "source": [
    "df4=df[['user_id','STATE', 'busiest_day', 'day_of_week']]"
   ]
  },
  {
   "cell_type": "code",
   "execution_count": 20,
   "id": "7a0d6e09",
   "metadata": {},
   "outputs": [
    {
     "data": {
      "text/html": [
       "<div>\n",
       "<style scoped>\n",
       "    .dataframe tbody tr th:only-of-type {\n",
       "        vertical-align: middle;\n",
       "    }\n",
       "\n",
       "    .dataframe tbody tr th {\n",
       "        vertical-align: top;\n",
       "    }\n",
       "\n",
       "    .dataframe thead th {\n",
       "        text-align: right;\n",
       "    }\n",
       "</style>\n",
       "<table border=\"1\" class=\"dataframe\">\n",
       "  <thead>\n",
       "    <tr style=\"text-align: right;\">\n",
       "      <th></th>\n",
       "      <th>user_id</th>\n",
       "      <th>STATE</th>\n",
       "      <th>busiest_day</th>\n",
       "      <th>day_of_week</th>\n",
       "    </tr>\n",
       "  </thead>\n",
       "  <tbody>\n",
       "    <tr>\n",
       "      <th>8</th>\n",
       "      <td>33890</td>\n",
       "      <td>New Mexico</td>\n",
       "      <td>Busiest days</td>\n",
       "      <td>1</td>\n",
       "    </tr>\n",
       "    <tr>\n",
       "      <th>9</th>\n",
       "      <td>33890</td>\n",
       "      <td>New Mexico</td>\n",
       "      <td>Regularly days</td>\n",
       "      <td>6</td>\n",
       "    </tr>\n",
       "    <tr>\n",
       "      <th>10</th>\n",
       "      <td>33890</td>\n",
       "      <td>New Mexico</td>\n",
       "      <td>Regularly days</td>\n",
       "      <td>6</td>\n",
       "    </tr>\n",
       "    <tr>\n",
       "      <th>11</th>\n",
       "      <td>33890</td>\n",
       "      <td>New Mexico</td>\n",
       "      <td>Regularly days</td>\n",
       "      <td>6</td>\n",
       "    </tr>\n",
       "    <tr>\n",
       "      <th>12</th>\n",
       "      <td>33890</td>\n",
       "      <td>New Mexico</td>\n",
       "      <td>Regularly days</td>\n",
       "      <td>6</td>\n",
       "    </tr>\n",
       "    <tr>\n",
       "      <th>...</th>\n",
       "      <td>...</td>\n",
       "      <td>...</td>\n",
       "      <td>...</td>\n",
       "      <td>...</td>\n",
       "    </tr>\n",
       "    <tr>\n",
       "      <th>10907400</th>\n",
       "      <td>41926</td>\n",
       "      <td>Arkansas</td>\n",
       "      <td>Regularly days</td>\n",
       "      <td>5</td>\n",
       "    </tr>\n",
       "    <tr>\n",
       "      <th>10907401</th>\n",
       "      <td>41926</td>\n",
       "      <td>Arkansas</td>\n",
       "      <td>Slowest days</td>\n",
       "      <td>3</td>\n",
       "    </tr>\n",
       "    <tr>\n",
       "      <th>10907404</th>\n",
       "      <td>53943</td>\n",
       "      <td>Minnesota</td>\n",
       "      <td>Busiest days</td>\n",
       "      <td>1</td>\n",
       "    </tr>\n",
       "    <tr>\n",
       "      <th>10907406</th>\n",
       "      <td>66119</td>\n",
       "      <td>Nevada</td>\n",
       "      <td>Regularly days</td>\n",
       "      <td>6</td>\n",
       "    </tr>\n",
       "    <tr>\n",
       "      <th>10907407</th>\n",
       "      <td>66119</td>\n",
       "      <td>Nevada</td>\n",
       "      <td>Regularly days</td>\n",
       "      <td>5</td>\n",
       "    </tr>\n",
       "  </tbody>\n",
       "</table>\n",
       "<p>10518691 rows × 4 columns</p>\n",
       "</div>"
      ],
      "text/plain": [
       "          user_id       STATE     busiest_day  day_of_week\n",
       "8           33890  New Mexico    Busiest days            1\n",
       "9           33890  New Mexico  Regularly days            6\n",
       "10          33890  New Mexico  Regularly days            6\n",
       "11          33890  New Mexico  Regularly days            6\n",
       "12          33890  New Mexico  Regularly days            6\n",
       "...           ...         ...             ...          ...\n",
       "10907400    41926    Arkansas  Regularly days            5\n",
       "10907401    41926    Arkansas    Slowest days            3\n",
       "10907404    53943   Minnesota    Busiest days            1\n",
       "10907406    66119      Nevada  Regularly days            6\n",
       "10907407    66119      Nevada  Regularly days            5\n",
       "\n",
       "[10518691 rows x 4 columns]"
      ]
     },
     "execution_count": 20,
     "metadata": {},
     "output_type": "execute_result"
    }
   ],
   "source": [
    "df4"
   ]
  },
  {
   "cell_type": "code",
   "execution_count": 21,
   "id": "6a0d8788",
   "metadata": {},
   "outputs": [
    {
     "data": {
      "image/png": "[encoded data removed]",
      "text/plain": [
       "<Figure size 640x480 with 1 Axes>"
      ]
     },
     "metadata": {},
     "output_type": "display_data"
    }
   ],
   "source": [
    "pie24=df4.groupby('day_of_week')['busiest_day'].count().plot(kind='pie', autopct='%0.01f%%')"
   ]
  },
  {
   "cell_type": "code",
   "execution_count": 22,
   "id": "1869f79f",
   "metadata": {},
   "outputs": [],
   "source": [
    "pie24.figure.savefig(os.path.join(path, 'Prepared Data', 'YLS_BusiestDayOfWeek.png'))"
   ]
  },
  {
   "cell_type": "code",
   "execution_count": 23,
   "id": "3e4fd4f5",
   "metadata": {},
   "outputs": [
    {
     "data": {
      "text/plain": [
       "day_of_week\n",
       "0    2022962\n",
       "1    1854336\n",
       "2    1354709\n",
       "3    1236989\n",
       "4    1235117\n",
       "5    1368532\n",
       "6    1446046\n",
       "Name: busiest_day, dtype: int64"
      ]
     },
     "execution_count": 23,
     "metadata": {},
     "output_type": "execute_result"
    }
   ],
   "source": [
    "df4.groupby('day_of_week')['busiest_day'].count()"
   ]
  },
  {
   "cell_type": "markdown",
   "id": "1d10e1f3",
   "metadata": {},
   "source": [
    "### 5 Analyzing by prefered hour of day"
   ]
  },
  {
   "cell_type": "code",
   "execution_count": 24,
   "id": "f8decae6",
   "metadata": {},
   "outputs": [],
   "source": [
    "df44=df[['order_hour_of_day','user_id']]"
   ]
  },
  {
   "cell_type": "code",
   "execution_count": 25,
   "id": "04152fe0",
   "metadata": {},
   "outputs": [
    {
     "data": {
      "text/plain": [
       "order_hour_of_day\n",
       "0      73204\n",
       "1      37946\n",
       "2      23272\n",
       "3      17189\n",
       "4      17506\n",
       "5      28753\n",
       "6      97852\n",
       "7     291400\n",
       "8     560293\n",
       "9     804464\n",
       "10    903140\n",
       "11    892231\n",
       "12    847714\n",
       "13    863058\n",
       "14    873369\n",
       "15    866175\n",
       "16    818378\n",
       "17    667382\n",
       "18    520339\n",
       "19    402554\n",
       "20    314873\n",
       "21    259286\n",
       "22    209149\n",
       "23    129164\n",
       "Name: user_id, dtype: int64"
      ]
     },
     "execution_count": 25,
     "metadata": {},
     "output_type": "execute_result"
    }
   ],
   "source": [
    "df44.groupby('order_hour_of_day')['user_id'].count()"
   ]
  },
  {
   "cell_type": "code",
   "execution_count": 26,
   "id": "451f2ccb",
   "metadata": {},
   "outputs": [
    {
     "data": {
      "image/png": "[encoded data removed]",
      "text/plain": [
       "<Figure size 640x480 with 1 Axes>"
      ]
     },
     "metadata": {},
     "output_type": "display_data"
    }
   ],
   "source": [
    "bar44=df44.groupby('order_hour_of_day')['user_id'].count().plot.bar()"
   ]
  },
  {
   "cell_type": "code",
   "execution_count": 27,
   "id": "6f7235cd",
   "metadata": {},
   "outputs": [],
   "source": [
    "bar44.figure.savefig(os.path.join(path, 'Prepared Data', 'YLS_BusiestHourOfDay.png'))"
   ]
  },
  {
   "cell_type": "code",
   "execution_count": null,
   "id": "096b1e57",
   "metadata": {},
   "outputs": [],
   "source": []
  },
  {
   "cell_type": "code",
   "execution_count": null,
   "id": "f5667298",
   "metadata": {},
   "outputs": [],
   "source": []
  },
  {
   "cell_type": "markdown",
   "id": "07093898",
   "metadata": {},
   "source": [
    "### 6 Analyzing number of Young Low Spender by State"
   ]
  },
  {
   "cell_type": "code",
   "execution_count": 28,
   "id": "7d0dda6d",
   "metadata": {},
   "outputs": [],
   "source": [
    "df5=df[['user_id','STATE']]"
   ]
  },
  {
   "cell_type": "code",
   "execution_count": 29,
   "id": "313b3b38",
   "metadata": {},
   "outputs": [],
   "source": [
    "DF5=df5.drop_duplicates().reset_index()"
   ]
  },
  {
   "cell_type": "code",
   "execution_count": 30,
   "id": "35bc7814",
   "metadata": {},
   "outputs": [
    {
     "data": {
      "text/html": [
       "<div>\n",
       "<style scoped>\n",
       "    .dataframe tbody tr th:only-of-type {\n",
       "        vertical-align: middle;\n",
       "    }\n",
       "\n",
       "    .dataframe tbody tr th {\n",
       "        vertical-align: top;\n",
       "    }\n",
       "\n",
       "    .dataframe thead th {\n",
       "        text-align: right;\n",
       "    }\n",
       "</style>\n",
       "<table border=\"1\" class=\"dataframe\">\n",
       "  <thead>\n",
       "    <tr style=\"text-align: right;\">\n",
       "      <th></th>\n",
       "      <th>index</th>\n",
       "      <th>user_id</th>\n",
       "      <th>STATE</th>\n",
       "    </tr>\n",
       "  </thead>\n",
       "  <tbody>\n",
       "    <tr>\n",
       "      <th>0</th>\n",
       "      <td>8</td>\n",
       "      <td>33890</td>\n",
       "      <td>New Mexico</td>\n",
       "    </tr>\n",
       "    <tr>\n",
       "      <th>1</th>\n",
       "      <td>25</td>\n",
       "      <td>65803</td>\n",
       "      <td>Idaho</td>\n",
       "    </tr>\n",
       "    <tr>\n",
       "      <th>2</th>\n",
       "      <td>50</td>\n",
       "      <td>125935</td>\n",
       "      <td>Iowa</td>\n",
       "    </tr>\n",
       "    <tr>\n",
       "      <th>3</th>\n",
       "      <td>95</td>\n",
       "      <td>130797</td>\n",
       "      <td>Maryland</td>\n",
       "    </tr>\n",
       "    <tr>\n",
       "      <th>4</th>\n",
       "      <td>164</td>\n",
       "      <td>152052</td>\n",
       "      <td>Montana</td>\n",
       "    </tr>\n",
       "    <tr>\n",
       "      <th>...</th>\n",
       "      <td>...</td>\n",
       "      <td>...</td>\n",
       "      <td>...</td>\n",
       "    </tr>\n",
       "    <tr>\n",
       "      <th>54422</th>\n",
       "      <td>10876198</td>\n",
       "      <td>176747</td>\n",
       "      <td>Oregon</td>\n",
       "    </tr>\n",
       "    <tr>\n",
       "      <th>54423</th>\n",
       "      <td>10884972</td>\n",
       "      <td>172046</td>\n",
       "      <td>Nevada</td>\n",
       "    </tr>\n",
       "    <tr>\n",
       "      <th>54424</th>\n",
       "      <td>10895587</td>\n",
       "      <td>125626</td>\n",
       "      <td>Idaho</td>\n",
       "    </tr>\n",
       "    <tr>\n",
       "      <th>54425</th>\n",
       "      <td>10900242</td>\n",
       "      <td>153361</td>\n",
       "      <td>Arkansas</td>\n",
       "    </tr>\n",
       "    <tr>\n",
       "      <th>54426</th>\n",
       "      <td>10902041</td>\n",
       "      <td>93084</td>\n",
       "      <td>District of Columbia</td>\n",
       "    </tr>\n",
       "  </tbody>\n",
       "</table>\n",
       "<p>54427 rows × 3 columns</p>\n",
       "</div>"
      ],
      "text/plain": [
       "          index  user_id                 STATE\n",
       "0             8    33890            New Mexico\n",
       "1            25    65803                 Idaho\n",
       "2            50   125935                  Iowa\n",
       "3            95   130797              Maryland\n",
       "4           164   152052               Montana\n",
       "...         ...      ...                   ...\n",
       "54422  10876198   176747                Oregon\n",
       "54423  10884972   172046                Nevada\n",
       "54424  10895587   125626                 Idaho\n",
       "54425  10900242   153361              Arkansas\n",
       "54426  10902041    93084  District of Columbia\n",
       "\n",
       "[54427 rows x 3 columns]"
      ]
     },
     "execution_count": 30,
     "metadata": {},
     "output_type": "execute_result"
    }
   ],
   "source": [
    "DF5"
   ]
  },
  {
   "cell_type": "code",
   "execution_count": 31,
   "id": "3095fc97",
   "metadata": {},
   "outputs": [
    {
     "data": {
      "image/png": "[encoded data removed]",
      "text/plain": [
       "<Figure size 640x480 with 1 Axes>"
      ]
     },
     "metadata": {},
     "output_type": "display_data"
    }
   ],
   "source": [
    "bar15=DF5.groupby('STATE')['user_id'].count().plot.bar()"
   ]
  },
  {
   "cell_type": "code",
   "execution_count": 32,
   "id": "3dff13e0",
   "metadata": {},
   "outputs": [
    {
     "data": {
      "text/plain": [
       "STATE\n",
       "Alabama                 1090\n",
       "Alaska                  1093\n",
       "Arizona                 1021\n",
       "Arkansas                1090\n",
       "California              1069\n",
       "Colorado                1091\n",
       "Connecticut             1049\n",
       "Delaware                1091\n",
       "District of Columbia    1060\n",
       "Florida                 1118\n",
       "Georgia                 1092\n",
       "Hawaii                  1054\n",
       "Idaho                   1084\n",
       "Illinois                1081\n",
       "Indiana                 1034\n",
       "Iowa                     999\n",
       "Kansas                  1096\n",
       "Kentucky                1054\n",
       "Louisiana               1022\n",
       "Maine                   1055\n",
       "Maryland                1098\n",
       "Massachusetts           1073\n",
       "Michigan                1019\n",
       "Minnesota               1054\n",
       "Mississippi             1068\n",
       "Missouri                1062\n",
       "Montana                 1066\n",
       "Nebraska                1098\n",
       "Nevada                  1080\n",
       "New Hampshire           1038\n",
       "New Jersey              1046\n",
       "New Mexico              1098\n",
       "New York                1082\n",
       "North Carolina          1110\n",
       "North Dakota            1084\n",
       "Ohio                    1055\n",
       "Oklahoma                1111\n",
       "Oregon                  1088\n",
       "Pennsylvania            1072\n",
       "Rhode Island            1067\n",
       "South Carolina          1014\n",
       "South Dakota            1075\n",
       "Tennessee               1086\n",
       "Texas                   1089\n",
       "Utah                    1032\n",
       "Vermont                 1038\n",
       "Virginia                1076\n",
       "Washington              1048\n",
       "West Virginia           1055\n",
       "Wisconsin               1025\n",
       "Wyoming                 1077\n",
       "Name: user_id, dtype: int64"
      ]
     },
     "execution_count": 32,
     "metadata": {},
     "output_type": "execute_result"
    }
   ],
   "source": [
    "DF5.groupby('STATE')['user_id'].count()"
   ]
  },
  {
   "cell_type": "code",
   "execution_count": 33,
   "id": "5d005869",
   "metadata": {},
   "outputs": [],
   "source": [
    "bar15.figure.savefig(os.path.join(path, 'Prepared Data', 'YLUsersNumberState.png'))"
   ]
  },
  {
   "cell_type": "markdown",
   "id": "a2d601e3",
   "metadata": {},
   "source": [
    "### 7 Analyzing Young Low Spenders  by n_dependants"
   ]
  },
  {
   "cell_type": "code",
   "execution_count": 34,
   "id": "2864b045",
   "metadata": {},
   "outputs": [],
   "source": [
    "df6=df[['user_id', 'n_dependants']]"
   ]
  },
  {
   "cell_type": "code",
   "execution_count": 35,
   "id": "8ffd07ba",
   "metadata": {},
   "outputs": [],
   "source": [
    "DF6=df6.drop_duplicates()"
   ]
  },
  {
   "cell_type": "code",
   "execution_count": 36,
   "id": "e705b023",
   "metadata": {},
   "outputs": [
    {
     "data": {
      "image/png": "[encoded data removed]",
      "text/plain": [
       "<Figure size 640x480 with 1 Axes>"
      ]
     },
     "metadata": {},
     "output_type": "display_data"
    }
   ],
   "source": [
    "pie16=df6.groupby(['n_dependants'])['user_id'].nunique().plot(kind='pie', autopct='%0.01f%%')"
   ]
  },
  {
   "cell_type": "code",
   "execution_count": 37,
   "id": "4144864c",
   "metadata": {},
   "outputs": [
    {
     "data": {
      "text/html": [
       "<div>\n",
       "<style scoped>\n",
       "    .dataframe tbody tr th:only-of-type {\n",
       "        vertical-align: middle;\n",
       "    }\n",
       "\n",
       "    .dataframe tbody tr th {\n",
       "        vertical-align: top;\n",
       "    }\n",
       "\n",
       "    .dataframe thead th {\n",
       "        text-align: right;\n",
       "    }\n",
       "</style>\n",
       "<table border=\"1\" class=\"dataframe\">\n",
       "  <thead>\n",
       "    <tr style=\"text-align: right;\">\n",
       "      <th></th>\n",
       "      <th>user_id</th>\n",
       "      <th>n_dependants</th>\n",
       "    </tr>\n",
       "  </thead>\n",
       "  <tbody>\n",
       "    <tr>\n",
       "      <th>8</th>\n",
       "      <td>33890</td>\n",
       "      <td>0</td>\n",
       "    </tr>\n",
       "    <tr>\n",
       "      <th>9</th>\n",
       "      <td>33890</td>\n",
       "      <td>0</td>\n",
       "    </tr>\n",
       "    <tr>\n",
       "      <th>10</th>\n",
       "      <td>33890</td>\n",
       "      <td>0</td>\n",
       "    </tr>\n",
       "    <tr>\n",
       "      <th>11</th>\n",
       "      <td>33890</td>\n",
       "      <td>0</td>\n",
       "    </tr>\n",
       "    <tr>\n",
       "      <th>12</th>\n",
       "      <td>33890</td>\n",
       "      <td>0</td>\n",
       "    </tr>\n",
       "    <tr>\n",
       "      <th>...</th>\n",
       "      <td>...</td>\n",
       "      <td>...</td>\n",
       "    </tr>\n",
       "    <tr>\n",
       "      <th>10907400</th>\n",
       "      <td>41926</td>\n",
       "      <td>1</td>\n",
       "    </tr>\n",
       "    <tr>\n",
       "      <th>10907401</th>\n",
       "      <td>41926</td>\n",
       "      <td>1</td>\n",
       "    </tr>\n",
       "    <tr>\n",
       "      <th>10907404</th>\n",
       "      <td>53943</td>\n",
       "      <td>2</td>\n",
       "    </tr>\n",
       "    <tr>\n",
       "      <th>10907406</th>\n",
       "      <td>66119</td>\n",
       "      <td>2</td>\n",
       "    </tr>\n",
       "    <tr>\n",
       "      <th>10907407</th>\n",
       "      <td>66119</td>\n",
       "      <td>2</td>\n",
       "    </tr>\n",
       "  </tbody>\n",
       "</table>\n",
       "<p>10518691 rows × 2 columns</p>\n",
       "</div>"
      ],
      "text/plain": [
       "          user_id  n_dependants\n",
       "8           33890             0\n",
       "9           33890             0\n",
       "10          33890             0\n",
       "11          33890             0\n",
       "12          33890             0\n",
       "...           ...           ...\n",
       "10907400    41926             1\n",
       "10907401    41926             1\n",
       "10907404    53943             2\n",
       "10907406    66119             2\n",
       "10907407    66119             2\n",
       "\n",
       "[10518691 rows x 2 columns]"
      ]
     },
     "execution_count": 37,
     "metadata": {},
     "output_type": "execute_result"
    }
   ],
   "source": [
    "df6"
   ]
  },
  {
   "cell_type": "code",
   "execution_count": 38,
   "id": "930f9006",
   "metadata": {},
   "outputs": [],
   "source": [
    "pie16.figure.savefig(os.path.join(path, 'Prepared Data', 'YLS_NDependansUsers.png'))"
   ]
  },
  {
   "cell_type": "code",
   "execution_count": 39,
   "id": "dadd0bd6",
   "metadata": {},
   "outputs": [
    {
     "data": {
      "text/plain": [
       "n_dependants\n",
       "0    13782\n",
       "1    13504\n",
       "2    13674\n",
       "3    13467\n",
       "Name: user_id, dtype: int64"
      ]
     },
     "execution_count": 39,
     "metadata": {},
     "output_type": "execute_result"
    }
   ],
   "source": [
    "DF6.groupby(['n_dependants'])['user_id'].count()"
   ]
  },
  {
   "cell_type": "markdown",
   "id": "69240cad",
   "metadata": {},
   "source": [
    "### 8 Days since prior order"
   ]
  },
  {
   "cell_type": "code",
   "execution_count": 40,
   "id": "38b4175f",
   "metadata": {},
   "outputs": [
    {
     "data": {
      "image/png": "[encoded data removed]",
      "text/plain": [
       "<Figure size 640x480 with 1 Axes>"
      ]
     },
     "metadata": {},
     "output_type": "display_data"
    }
   ],
   "source": [
    "line17=df.groupby('days_since_prior_order')['days_since_prior_order'].count().plot(kind='line')"
   ]
  },
  {
   "cell_type": "code",
   "execution_count": 41,
   "id": "4bc710c4",
   "metadata": {},
   "outputs": [
    {
     "data": {
      "text/plain": [
       "days_since_prior_order\n",
       "0      703920\n",
       "1      311725\n",
       "2      488491\n",
       "3      627937\n",
       "4      691972\n",
       "5      706356\n",
       "6      839461\n",
       "7     1171716\n",
       "8      646851\n",
       "9      402232\n",
       "10     318218\n",
       "11     273022\n",
       "12     259600\n",
       "13     283609\n",
       "14     337458\n",
       "15     221216\n",
       "16     150707\n",
       "17     124789\n",
       "18     113936\n",
       "19     110162\n",
       "20     123726\n",
       "21     144529\n",
       "22      99525\n",
       "23      72879\n",
       "24      63057\n",
       "25      58717\n",
       "26      57456\n",
       "27      64940\n",
       "28      81418\n",
       "29      55986\n",
       "30     913080\n",
       "Name: days_since_prior_order, dtype: int64"
      ]
     },
     "execution_count": 41,
     "metadata": {},
     "output_type": "execute_result"
    }
   ],
   "source": [
    "df.groupby('days_since_prior_order')['days_since_prior_order'].count()"
   ]
  },
  {
   "cell_type": "code",
   "execution_count": 42,
   "id": "dc157699",
   "metadata": {},
   "outputs": [],
   "source": [
    "line17.figure.savefig(os.path.join(path, 'Prepared Data', 'YLS_DaysSincePriorOrder.png'))"
   ]
  },
  {
   "cell_type": "markdown",
   "id": "3d0c4597",
   "metadata": {},
   "source": [
    "### 9  Defining TOP products for client group\n"
   ]
  },
  {
   "cell_type": "markdown",
   "id": "f0621a1a",
   "metadata": {},
   "source": [
    " #### creating subset"
   ]
  },
  {
   "cell_type": "code",
   "execution_count": 43,
   "id": "b5303195",
   "metadata": {},
   "outputs": [],
   "source": [
    "df18=df[['product_name','product_id','prices']]"
   ]
  },
  {
   "cell_type": "code",
   "execution_count": 44,
   "id": "7a749b89",
   "metadata": {},
   "outputs": [
    {
     "data": {
      "text/html": [
       "<div>\n",
       "<style scoped>\n",
       "    .dataframe tbody tr th:only-of-type {\n",
       "        vertical-align: middle;\n",
       "    }\n",
       "\n",
       "    .dataframe tbody tr th {\n",
       "        vertical-align: top;\n",
       "    }\n",
       "\n",
       "    .dataframe thead th {\n",
       "        text-align: right;\n",
       "    }\n",
       "</style>\n",
       "<table border=\"1\" class=\"dataframe\">\n",
       "  <thead>\n",
       "    <tr style=\"text-align: right;\">\n",
       "      <th></th>\n",
       "      <th>product_name</th>\n",
       "      <th>product_id</th>\n",
       "      <th>prices</th>\n",
       "    </tr>\n",
       "  </thead>\n",
       "  <tbody>\n",
       "    <tr>\n",
       "      <th>8</th>\n",
       "      <td>Key Limes</td>\n",
       "      <td>8953</td>\n",
       "      <td>12.3</td>\n",
       "    </tr>\n",
       "    <tr>\n",
       "      <th>9</th>\n",
       "      <td>Organic Green Beans</td>\n",
       "      <td>15200</td>\n",
       "      <td>12.8</td>\n",
       "    </tr>\n",
       "    <tr>\n",
       "      <th>10</th>\n",
       "      <td>Organic Black Beans</td>\n",
       "      <td>27156</td>\n",
       "      <td>6.1</td>\n",
       "    </tr>\n",
       "    <tr>\n",
       "      <th>11</th>\n",
       "      <td>Avocado Oil</td>\n",
       "      <td>31912</td>\n",
       "      <td>12.1</td>\n",
       "    </tr>\n",
       "    <tr>\n",
       "      <th>12</th>\n",
       "      <td>Soda</td>\n",
       "      <td>196</td>\n",
       "      <td>9.0</td>\n",
       "    </tr>\n",
       "    <tr>\n",
       "      <th>...</th>\n",
       "      <td>...</td>\n",
       "      <td>...</td>\n",
       "      <td>...</td>\n",
       "    </tr>\n",
       "    <tr>\n",
       "      <th>10907400</th>\n",
       "      <td>Vegetable Oil</td>\n",
       "      <td>22128</td>\n",
       "      <td>1.6</td>\n",
       "    </tr>\n",
       "    <tr>\n",
       "      <th>10907401</th>\n",
       "      <td>Seedless Cucumbers</td>\n",
       "      <td>30827</td>\n",
       "      <td>7.2</td>\n",
       "    </tr>\n",
       "    <tr>\n",
       "      <th>10907404</th>\n",
       "      <td>Organic Baby Spinach</td>\n",
       "      <td>21903</td>\n",
       "      <td>8.2</td>\n",
       "    </tr>\n",
       "    <tr>\n",
       "      <th>10907406</th>\n",
       "      <td>24/7 Performance Light Weight Cat Litter</td>\n",
       "      <td>15175</td>\n",
       "      <td>12.2</td>\n",
       "    </tr>\n",
       "    <tr>\n",
       "      <th>10907407</th>\n",
       "      <td></td>\n",
       "      <td>0</td>\n",
       "      <td>0.0</td>\n",
       "    </tr>\n",
       "  </tbody>\n",
       "</table>\n",
       "<p>10518691 rows × 3 columns</p>\n",
       "</div>"
      ],
      "text/plain": [
       "                                      product_name  product_id  prices\n",
       "8                                        Key Limes        8953    12.3\n",
       "9                              Organic Green Beans       15200    12.8\n",
       "10                             Organic Black Beans       27156     6.1\n",
       "11                                     Avocado Oil       31912    12.1\n",
       "12                                            Soda         196     9.0\n",
       "...                                            ...         ...     ...\n",
       "10907400                             Vegetable Oil       22128     1.6\n",
       "10907401                        Seedless Cucumbers       30827     7.2\n",
       "10907404                      Organic Baby Spinach       21903     8.2\n",
       "10907406  24/7 Performance Light Weight Cat Litter       15175    12.2\n",
       "10907407                                                     0     0.0\n",
       "\n",
       "[10518691 rows x 3 columns]"
      ]
     },
     "execution_count": 44,
     "metadata": {},
     "output_type": "execute_result"
    }
   ],
   "source": [
    "df18"
   ]
  },
  {
   "cell_type": "markdown",
   "id": "4d3ed604",
   "metadata": {},
   "source": [
    "#### identifying the most populare products counting orders rows  and selecting 10 TOP "
   ]
  },
  {
   "cell_type": "code",
   "execution_count": 45,
   "id": "06b51c03",
   "metadata": {},
   "outputs": [],
   "source": [
    "DF18=df18.groupby('product_name')['prices'].count().sort_values( ascending=False).reset_index().drop(index=2).head(10)"
   ]
  },
  {
   "cell_type": "code",
   "execution_count": 46,
   "id": "6fdf1577",
   "metadata": {},
   "outputs": [
    {
     "data": {
      "text/html": [
       "<div>\n",
       "<style scoped>\n",
       "    .dataframe tbody tr th:only-of-type {\n",
       "        vertical-align: middle;\n",
       "    }\n",
       "\n",
       "    .dataframe tbody tr th {\n",
       "        vertical-align: top;\n",
       "    }\n",
       "\n",
       "    .dataframe thead th {\n",
       "        text-align: right;\n",
       "    }\n",
       "</style>\n",
       "<table border=\"1\" class=\"dataframe\">\n",
       "  <thead>\n",
       "    <tr style=\"text-align: right;\">\n",
       "      <th></th>\n",
       "      <th>product_name</th>\n",
       "      <th>prices</th>\n",
       "    </tr>\n",
       "  </thead>\n",
       "  <tbody>\n",
       "    <tr>\n",
       "      <th>0</th>\n",
       "      <td>Banana</td>\n",
       "      <td>153333</td>\n",
       "    </tr>\n",
       "    <tr>\n",
       "      <th>1</th>\n",
       "      <td>Bag of Organic Bananas</td>\n",
       "      <td>123800</td>\n",
       "    </tr>\n",
       "    <tr>\n",
       "      <th>3</th>\n",
       "      <td>Organic Baby Spinach</td>\n",
       "      <td>79499</td>\n",
       "    </tr>\n",
       "    <tr>\n",
       "      <th>4</th>\n",
       "      <td>Organic Hass Avocado</td>\n",
       "      <td>70258</td>\n",
       "    </tr>\n",
       "    <tr>\n",
       "      <th>5</th>\n",
       "      <td></td>\n",
       "      <td>64272</td>\n",
       "    </tr>\n",
       "    <tr>\n",
       "      <th>6</th>\n",
       "      <td>Organic Avocado</td>\n",
       "      <td>57883</td>\n",
       "    </tr>\n",
       "    <tr>\n",
       "      <th>7</th>\n",
       "      <td>Large Lemon</td>\n",
       "      <td>49610</td>\n",
       "    </tr>\n",
       "    <tr>\n",
       "      <th>8</th>\n",
       "      <td>Strawberries</td>\n",
       "      <td>45969</td>\n",
       "    </tr>\n",
       "    <tr>\n",
       "      <th>9</th>\n",
       "      <td>Limes</td>\n",
       "      <td>45599</td>\n",
       "    </tr>\n",
       "    <tr>\n",
       "      <th>10</th>\n",
       "      <td>Organic Whole Milk</td>\n",
       "      <td>45533</td>\n",
       "    </tr>\n",
       "  </tbody>\n",
       "</table>\n",
       "</div>"
      ],
      "text/plain": [
       "              product_name  prices\n",
       "0                   Banana  153333\n",
       "1   Bag of Organic Bananas  123800\n",
       "3     Organic Baby Spinach   79499\n",
       "4     Organic Hass Avocado   70258\n",
       "5                            64272\n",
       "6          Organic Avocado   57883\n",
       "7              Large Lemon   49610\n",
       "8             Strawberries   45969\n",
       "9                    Limes   45599\n",
       "10      Organic Whole Milk   45533"
      ]
     },
     "execution_count": 46,
     "metadata": {},
     "output_type": "execute_result"
    }
   ],
   "source": [
    "DF18"
   ]
  },
  {
   "cell_type": "code",
   "execution_count": 47,
   "id": "60cacae4",
   "metadata": {},
   "outputs": [],
   "source": [
    "DF18=DF18.rename(columns={'prices':'count_orders'})"
   ]
  },
  {
   "cell_type": "code",
   "execution_count": 48,
   "id": "98a790fb",
   "metadata": {},
   "outputs": [
    {
     "data": {
      "text/html": [
       "<div>\n",
       "<style scoped>\n",
       "    .dataframe tbody tr th:only-of-type {\n",
       "        vertical-align: middle;\n",
       "    }\n",
       "\n",
       "    .dataframe tbody tr th {\n",
       "        vertical-align: top;\n",
       "    }\n",
       "\n",
       "    .dataframe thead th {\n",
       "        text-align: right;\n",
       "    }\n",
       "</style>\n",
       "<table border=\"1\" class=\"dataframe\">\n",
       "  <thead>\n",
       "    <tr style=\"text-align: right;\">\n",
       "      <th></th>\n",
       "      <th>product_name</th>\n",
       "      <th>count_orders</th>\n",
       "    </tr>\n",
       "  </thead>\n",
       "  <tbody>\n",
       "    <tr>\n",
       "      <th>0</th>\n",
       "      <td>Banana</td>\n",
       "      <td>153333</td>\n",
       "    </tr>\n",
       "    <tr>\n",
       "      <th>1</th>\n",
       "      <td>Bag of Organic Bananas</td>\n",
       "      <td>123800</td>\n",
       "    </tr>\n",
       "    <tr>\n",
       "      <th>3</th>\n",
       "      <td>Organic Baby Spinach</td>\n",
       "      <td>79499</td>\n",
       "    </tr>\n",
       "    <tr>\n",
       "      <th>4</th>\n",
       "      <td>Organic Hass Avocado</td>\n",
       "      <td>70258</td>\n",
       "    </tr>\n",
       "    <tr>\n",
       "      <th>5</th>\n",
       "      <td></td>\n",
       "      <td>64272</td>\n",
       "    </tr>\n",
       "    <tr>\n",
       "      <th>6</th>\n",
       "      <td>Organic Avocado</td>\n",
       "      <td>57883</td>\n",
       "    </tr>\n",
       "    <tr>\n",
       "      <th>7</th>\n",
       "      <td>Large Lemon</td>\n",
       "      <td>49610</td>\n",
       "    </tr>\n",
       "    <tr>\n",
       "      <th>8</th>\n",
       "      <td>Strawberries</td>\n",
       "      <td>45969</td>\n",
       "    </tr>\n",
       "    <tr>\n",
       "      <th>9</th>\n",
       "      <td>Limes</td>\n",
       "      <td>45599</td>\n",
       "    </tr>\n",
       "    <tr>\n",
       "      <th>10</th>\n",
       "      <td>Organic Whole Milk</td>\n",
       "      <td>45533</td>\n",
       "    </tr>\n",
       "  </tbody>\n",
       "</table>\n",
       "</div>"
      ],
      "text/plain": [
       "              product_name  count_orders\n",
       "0                   Banana        153333\n",
       "1   Bag of Organic Bananas        123800\n",
       "3     Organic Baby Spinach         79499\n",
       "4     Organic Hass Avocado         70258\n",
       "5                                  64272\n",
       "6          Organic Avocado         57883\n",
       "7              Large Lemon         49610\n",
       "8             Strawberries         45969\n",
       "9                    Limes         45599\n",
       "10      Organic Whole Milk         45533"
      ]
     },
     "execution_count": 48,
     "metadata": {},
     "output_type": "execute_result"
    }
   ],
   "source": [
    "DF18"
   ]
  },
  {
   "cell_type": "markdown",
   "id": "9976d6c9",
   "metadata": {},
   "source": [
    "#### -creating plot"
   ]
  },
  {
   "cell_type": "code",
   "execution_count": 49,
   "id": "e3ea4809",
   "metadata": {},
   "outputs": [
    {
     "data": {
      "image/png": "[encoded data removed]",
      "text/plain": [
       "<Figure size 640x480 with 1 Axes>"
      ]
     },
     "metadata": {},
     "output_type": "display_data"
    }
   ],
   "source": [
    "Bar21=DF18.plot.barh(x='product_name')"
   ]
  },
  {
   "cell_type": "code",
   "execution_count": 50,
   "id": "ead1aa38",
   "metadata": {},
   "outputs": [],
   "source": [
    "Bar21.figure.savefig(os.path.join(path, 'Prepared Data', 'YLS_Products.png'))"
   ]
  },
  {
   "cell_type": "markdown",
   "id": "0fe223b8",
   "metadata": {},
   "source": [
    "#### droping duplicates"
   ]
  },
  {
   "cell_type": "code",
   "execution_count": 51,
   "id": "231594da",
   "metadata": {},
   "outputs": [],
   "source": [
    "df19=df18.drop_duplicates()"
   ]
  },
  {
   "cell_type": "code",
   "execution_count": 52,
   "id": "0375d652",
   "metadata": {},
   "outputs": [
    {
     "data": {
      "text/html": [
       "<div>\n",
       "<style scoped>\n",
       "    .dataframe tbody tr th:only-of-type {\n",
       "        vertical-align: middle;\n",
       "    }\n",
       "\n",
       "    .dataframe tbody tr th {\n",
       "        vertical-align: top;\n",
       "    }\n",
       "\n",
       "    .dataframe thead th {\n",
       "        text-align: right;\n",
       "    }\n",
       "</style>\n",
       "<table border=\"1\" class=\"dataframe\">\n",
       "  <thead>\n",
       "    <tr style=\"text-align: right;\">\n",
       "      <th></th>\n",
       "      <th>product_name</th>\n",
       "      <th>product_id</th>\n",
       "      <th>prices</th>\n",
       "    </tr>\n",
       "  </thead>\n",
       "  <tbody>\n",
       "    <tr>\n",
       "      <th>8</th>\n",
       "      <td>Key Limes</td>\n",
       "      <td>8953</td>\n",
       "      <td>12.3</td>\n",
       "    </tr>\n",
       "    <tr>\n",
       "      <th>9</th>\n",
       "      <td>Organic Green Beans</td>\n",
       "      <td>15200</td>\n",
       "      <td>12.8</td>\n",
       "    </tr>\n",
       "    <tr>\n",
       "      <th>10</th>\n",
       "      <td>Organic Black Beans</td>\n",
       "      <td>27156</td>\n",
       "      <td>6.1</td>\n",
       "    </tr>\n",
       "    <tr>\n",
       "      <th>11</th>\n",
       "      <td>Avocado Oil</td>\n",
       "      <td>31912</td>\n",
       "      <td>12.1</td>\n",
       "    </tr>\n",
       "    <tr>\n",
       "      <th>12</th>\n",
       "      <td>Soda</td>\n",
       "      <td>196</td>\n",
       "      <td>9.0</td>\n",
       "    </tr>\n",
       "    <tr>\n",
       "      <th>...</th>\n",
       "      <td>...</td>\n",
       "      <td>...</td>\n",
       "      <td>...</td>\n",
       "    </tr>\n",
       "    <tr>\n",
       "      <th>10887603</th>\n",
       "      <td>Strawberry Nectar</td>\n",
       "      <td>19524</td>\n",
       "      <td>11.1</td>\n",
       "    </tr>\n",
       "    <tr>\n",
       "      <th>10895349</th>\n",
       "      <td>Citrus Vodka</td>\n",
       "      <td>21396</td>\n",
       "      <td>10.1</td>\n",
       "    </tr>\n",
       "    <tr>\n",
       "      <th>10895663</th>\n",
       "      <td>Jumbo Papaya</td>\n",
       "      <td>25019</td>\n",
       "      <td>4.0</td>\n",
       "    </tr>\n",
       "    <tr>\n",
       "      <th>10900489</th>\n",
       "      <td>Ignatia Amara 6C Homeopathic Pellets</td>\n",
       "      <td>25611</td>\n",
       "      <td>3.0</td>\n",
       "    </tr>\n",
       "    <tr>\n",
       "      <th>10904632</th>\n",
       "      <td>New York Sharp Cheddar Cheese</td>\n",
       "      <td>13495</td>\n",
       "      <td>11.5</td>\n",
       "    </tr>\n",
       "  </tbody>\n",
       "</table>\n",
       "<p>47775 rows × 3 columns</p>\n",
       "</div>"
      ],
      "text/plain": [
       "                                  product_name  product_id  prices\n",
       "8                                    Key Limes        8953    12.3\n",
       "9                          Organic Green Beans       15200    12.8\n",
       "10                         Organic Black Beans       27156     6.1\n",
       "11                                 Avocado Oil       31912    12.1\n",
       "12                                        Soda         196     9.0\n",
       "...                                        ...         ...     ...\n",
       "10887603                     Strawberry Nectar       19524    11.1\n",
       "10895349                          Citrus Vodka       21396    10.1\n",
       "10895663                          Jumbo Papaya       25019     4.0\n",
       "10900489  Ignatia Amara 6C Homeopathic Pellets       25611     3.0\n",
       "10904632         New York Sharp Cheddar Cheese       13495    11.5\n",
       "\n",
       "[47775 rows x 3 columns]"
      ]
     },
     "execution_count": 52,
     "metadata": {},
     "output_type": "execute_result"
    }
   ],
   "source": [
    "df19"
   ]
  },
  {
   "cell_type": "markdown",
   "id": "e5494db5",
   "metadata": {},
   "source": [
    "#### sorting by descending order to see YLS TOP products"
   ]
  },
  {
   "cell_type": "code",
   "execution_count": 53,
   "id": "43dbb919",
   "metadata": {},
   "outputs": [
    {
     "data": {
      "text/html": [
       "<div>\n",
       "<style scoped>\n",
       "    .dataframe tbody tr th:only-of-type {\n",
       "        vertical-align: middle;\n",
       "    }\n",
       "\n",
       "    .dataframe tbody tr th {\n",
       "        vertical-align: top;\n",
       "    }\n",
       "\n",
       "    .dataframe thead th {\n",
       "        text-align: right;\n",
       "    }\n",
       "</style>\n",
       "<table border=\"1\" class=\"dataframe\">\n",
       "  <thead>\n",
       "    <tr style=\"text-align: right;\">\n",
       "      <th></th>\n",
       "      <th>product_name</th>\n",
       "      <th>product_id</th>\n",
       "      <th>prices</th>\n",
       "    </tr>\n",
       "  </thead>\n",
       "  <tbody>\n",
       "  </tbody>\n",
       "</table>\n",
       "</div>"
      ],
      "text/plain": [
       "Empty DataFrame\n",
       "Columns: [product_name, product_id, prices]\n",
       "Index: []"
      ]
     },
     "execution_count": 53,
     "metadata": {},
     "output_type": "execute_result"
    }
   ],
   "source": [
    "df19.loc[df19['prices']>=1000].sort_values(by='prices', ascending=False).head(10)"
   ]
  },
  {
   "cell_type": "code",
   "execution_count": null,
   "id": "2fea46c3",
   "metadata": {},
   "outputs": [],
   "source": []
  },
  {
   "cell_type": "code",
   "execution_count": null,
   "id": "c6da9f46",
   "metadata": {},
   "outputs": [],
   "source": []
  }
 ],
 "metadata": {
  "kernelspec": {
   "display_name": "Python 3 (ipykernel)",
   "language": "python",
   "name": "python3"
  },
  "language_info": {
   "codemirror_mode": {
    "name": "ipython",
    "version": 3
   },
   "file_extension": ".py",
   "mimetype": "text/x-python",
   "name": "python",
   "nbconvert_exporter": "python",
   "pygments_lexer": "ipython3",
   "version": "3.10.9"
  }
 },
 "nbformat": 4,
 "nbformat_minor": 5
}
