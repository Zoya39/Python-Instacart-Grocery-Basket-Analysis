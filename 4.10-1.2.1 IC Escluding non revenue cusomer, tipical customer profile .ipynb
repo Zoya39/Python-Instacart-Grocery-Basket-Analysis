{
 "cells": [
  {
   "cell_type": "markdown",
   "id": "dc856afc",
   "metadata": {},
   "source": [
    "### 4.10 Part1\n",
    "#### -iscluding non revenue customers \n",
    "#### -tipical customer portrait"
   ]
  },
  {
   "cell_type": "markdown",
   "id": "b3478eda",
   "metadata": {},
   "source": [
    "### 4.10-1 Importing libraries and df w/o PII"
   ]
  },
  {
   "cell_type": "code",
   "execution_count": 1,
   "id": "e865d8b6",
   "metadata": {},
   "outputs": [],
   "source": [
    "import pandas as pd\n",
    "import numpy as np\n",
    "import os"
   ]
  },
  {
   "cell_type": "code",
   "execution_count": 2,
   "id": "a0d783f3",
   "metadata": {},
   "outputs": [],
   "source": [
    "path=r'C:\\Users\\user\\07-2023 Instacart Basket Analysis\\02 Data'"
   ]
  },
  {
   "cell_type": "code",
   "execution_count": 3,
   "id": "339d7784",
   "metadata": {},
   "outputs": [],
   "source": [
    "df=pd.read_pickle(os.path.join(path,'Prepared Data','for_analysis410.pkl'))"
   ]
  },
  {
   "cell_type": "markdown",
   "id": "f90fb8bd",
   "metadata": {},
   "source": [
    "### 4.10-4 Escluding customers who don’t generate much revenue for the app (customers with less than 5 orders). Exporting this sample."
   ]
  },
  {
   "cell_type": "code",
   "execution_count": 4,
   "id": "dd1cde48",
   "metadata": {},
   "outputs": [
    {
     "data": {
      "text/plain": [
       "Index(['user_id', 'Gender', 'STATE', 'Age', 'date_joined', 'n_dependants',\n",
       "       'fam_status', 'income', 'product_id', 'product_name', 'aisle_id',\n",
       "       'department_id', 'prices', 'order_id', 'eval_set', 'order_number',\n",
       "       'day_of_week', 'order_hour_of_day', 'days_since_prior_order',\n",
       "       'add_to_cart_order', 'reordered', 'price_range_loc', 'busiest_day',\n",
       "       'busiest days', 'max_order', 'loyalty_flag', 'mean_price',\n",
       "       'spender_flag', 'median_days_sinse_ord', 'frequent_flag'],\n",
       "      dtype='object')"
      ]
     },
     "execution_count": 4,
     "metadata": {},
     "output_type": "execute_result"
    }
   ],
   "source": [
    "df.columns"
   ]
  },
  {
   "cell_type": "code",
   "execution_count": 5,
   "id": "a95c3088",
   "metadata": {},
   "outputs": [
    {
     "data": {
      "text/plain": [
       "(32641268, 30)"
      ]
     },
     "execution_count": 5,
     "metadata": {},
     "output_type": "execute_result"
    }
   ],
   "source": [
    "df.shape"
   ]
  },
  {
   "cell_type": "markdown",
   "id": "17bf7039",
   "metadata": {},
   "source": [
    "#### The column needed for creating the sample  is max_order"
   ]
  },
  {
   "cell_type": "code",
   "execution_count": 4,
   "id": "e64bd71c",
   "metadata": {},
   "outputs": [],
   "source": [
    "df_revenue=df.query(\"max_order not in[1,2,3,4,5]\")"
   ]
  },
  {
   "cell_type": "code",
   "execution_count": 7,
   "id": "b5af86d0",
   "metadata": {},
   "outputs": [
    {
     "data": {
      "text/plain": [
       "(31156122, 30)"
      ]
     },
     "execution_count": 7,
     "metadata": {},
     "output_type": "execute_result"
    }
   ],
   "source": [
    "df_revenue.shape"
   ]
  },
  {
   "cell_type": "code",
   "execution_count": 8,
   "id": "24392340",
   "metadata": {},
   "outputs": [
    {
     "data": {
      "text/plain": [
       "user_id                     int64\n",
       "Gender                     string\n",
       "STATE                      string\n",
       "Age                         int64\n",
       "date_joined                string\n",
       "n_dependants                int64\n",
       "fam_status                 string\n",
       "income                      int64\n",
       "product_id                  int64\n",
       "product_name               string\n",
       "aisle_id                    int64\n",
       "department_id               int64\n",
       "prices                    float64\n",
       "order_id                    int64\n",
       "eval_set                   string\n",
       "order_number                int64\n",
       "day_of_week                 int64\n",
       "order_hour_of_day           int64\n",
       "days_since_prior_order      int64\n",
       "add_to_cart_order           int64\n",
       "reordered                   int64\n",
       "price_range_loc            string\n",
       "busiest_day                string\n",
       "busiest days               string\n",
       "max_order                   int64\n",
       "loyalty_flag               string\n",
       "mean_price                float64\n",
       "spender_flag               string\n",
       "median_days_sinse_ord       int64\n",
       "frequent_flag              string\n",
       "dtype: object"
      ]
     },
     "execution_count": 8,
     "metadata": {},
     "output_type": "execute_result"
    }
   ],
   "source": [
    "df_revenue.dtypes"
   ]
  },
  {
   "cell_type": "markdown",
   "id": "405f9431",
   "metadata": {},
   "source": [
    "#### exporting sample "
   ]
  },
  {
   "cell_type": "code",
   "execution_count": 5,
   "id": "4480165f",
   "metadata": {},
   "outputs": [],
   "source": [
    "df_revenue.to_pickle(os.path.join(path, 'Prepared Data','sample_revenue.pkl'))"
   ]
  },
  {
   "cell_type": "markdown",
   "id": "5236db99",
   "metadata": {},
   "source": [
    "### 4.10-5 Creating a profiling variable based on age, income, certain goods in the “department_id” column, and number of dependents. If using the “orders_day_of_the_week” and “order_hour_of_day” columns show how they would impact customer profiles. (seeking for characteristics would lead to the profile “Single adult” or “Young parent.”)"
   ]
  },
  {
   "cell_type": "markdown",
   "id": "87e01a43",
   "metadata": {},
   "source": [
    "#### 1.  Profiling characteristics: 'user_id', 'Gender', 'STATE', 'Age', 'date_joined', 'n_dependants','fam_status', 'income'  "
   ]
  },
  {
   "cell_type": "markdown",
   "id": "abbd2ebf",
   "metadata": {},
   "source": [
    "#### 2.Variables:  'product_id', 'product_name', 'aisle_id','department_id', 'prices', 'order_id', 'eval_set', 'order_number', 'day_of_week', 'order_hour_of_day', 'days_since_prior_order', 'add_to_cart_order', 'reordered', 'price_range_loc', 'busiest_day', 'busiest days', 'max_order', 'loyalty_flag', 'mean_price','spender_flag', 'median_days_sinse_ord', 'frequent_flag'"
   ]
  },
  {
   "cell_type": "markdown",
   "id": "4d71ffdc",
   "metadata": {},
   "source": [
    "#### 4.10-5 Tipical customer portrait"
   ]
  },
  {
   "cell_type": "markdown",
   "id": "08b1624b",
   "metadata": {},
   "source": [
    "1. Descriptive statistic of customer characteristics"
   ]
  },
  {
   "cell_type": "code",
   "execution_count": 10,
   "id": "70770f0f",
   "metadata": {},
   "outputs": [
    {
     "data": {
      "text/html": [
       "<div>\n",
       "<style scoped>\n",
       "    .dataframe tbody tr th:only-of-type {\n",
       "        vertical-align: middle;\n",
       "    }\n",
       "\n",
       "    .dataframe tbody tr th {\n",
       "        vertical-align: top;\n",
       "    }\n",
       "\n",
       "    .dataframe thead th {\n",
       "        text-align: right;\n",
       "    }\n",
       "</style>\n",
       "<table border=\"1\" class=\"dataframe\">\n",
       "  <thead>\n",
       "    <tr style=\"text-align: right;\">\n",
       "      <th></th>\n",
       "      <th>Age</th>\n",
       "      <th>n_dependants</th>\n",
       "      <th>income</th>\n",
       "    </tr>\n",
       "  </thead>\n",
       "  <tbody>\n",
       "    <tr>\n",
       "      <th>count</th>\n",
       "      <td>3.115612e+07</td>\n",
       "      <td>3.115612e+07</td>\n",
       "      <td>3.115612e+07</td>\n",
       "    </tr>\n",
       "    <tr>\n",
       "      <th>mean</th>\n",
       "      <td>4.946819e+01</td>\n",
       "      <td>1.501787e+00</td>\n",
       "      <td>9.965268e+04</td>\n",
       "    </tr>\n",
       "    <tr>\n",
       "      <th>std</th>\n",
       "      <td>1.848516e+01</td>\n",
       "      <td>1.118896e+00</td>\n",
       "      <td>4.313888e+04</td>\n",
       "    </tr>\n",
       "    <tr>\n",
       "      <th>min</th>\n",
       "      <td>1.800000e+01</td>\n",
       "      <td>0.000000e+00</td>\n",
       "      <td>2.590300e+04</td>\n",
       "    </tr>\n",
       "    <tr>\n",
       "      <th>25%</th>\n",
       "      <td>3.300000e+01</td>\n",
       "      <td>1.000000e+00</td>\n",
       "      <td>6.727000e+04</td>\n",
       "    </tr>\n",
       "    <tr>\n",
       "      <th>50%</th>\n",
       "      <td>4.900000e+01</td>\n",
       "      <td>2.000000e+00</td>\n",
       "      <td>9.674800e+04</td>\n",
       "    </tr>\n",
       "    <tr>\n",
       "      <th>75%</th>\n",
       "      <td>6.500000e+01</td>\n",
       "      <td>3.000000e+00</td>\n",
       "      <td>1.280820e+05</td>\n",
       "    </tr>\n",
       "    <tr>\n",
       "      <th>max</th>\n",
       "      <td>8.100000e+01</td>\n",
       "      <td>3.000000e+00</td>\n",
       "      <td>5.939010e+05</td>\n",
       "    </tr>\n",
       "  </tbody>\n",
       "</table>\n",
       "</div>"
      ],
      "text/plain": [
       "                Age  n_dependants        income\n",
       "count  3.115612e+07  3.115612e+07  3.115612e+07\n",
       "mean   4.946819e+01  1.501787e+00  9.965268e+04\n",
       "std    1.848516e+01  1.118896e+00  4.313888e+04\n",
       "min    1.800000e+01  0.000000e+00  2.590300e+04\n",
       "25%    3.300000e+01  1.000000e+00  6.727000e+04\n",
       "50%    4.900000e+01  2.000000e+00  9.674800e+04\n",
       "75%    6.500000e+01  3.000000e+00  1.280820e+05\n",
       "max    8.100000e+01  3.000000e+00  5.939010e+05"
      ]
     },
     "execution_count": 10,
     "metadata": {},
     "output_type": "execute_result"
    }
   ],
   "source": [
    "df_revenue[['Age','n_dependants','income']].describe()"
   ]
  },
  {
   "cell_type": "markdown",
   "id": "722c803e",
   "metadata": {},
   "source": [
    "Customer's Age is from 18 to 81 years with mean 49 years with distribiution similar to normal. N_dipendants is from 0 to 3, sideways to more dipendants. Income is from 25,903$ to 593,900$  with elevate std and mean about 100,000$."
   ]
  },
  {
   "cell_type": "markdown",
   "id": "4cc12b10",
   "metadata": {},
   "source": [
    "#### changing dtype string to object for making descriptive statistic of non numeric columns (df.describe(include=[np.object])"
   ]
  },
  {
   "cell_type": "code",
   "execution_count": 11,
   "id": "a0ab6a0f",
   "metadata": {},
   "outputs": [
    {
     "name": "stderr",
     "output_type": "stream",
     "text": [
      "C:\\Users\\user\\AppData\\Local\\Temp\\ipykernel_2664\\3885802145.py:1: DeprecationWarning: `np.object` is a deprecated alias for the builtin `object`. To silence this warning, use `object` by itself. Doing this will not modify any behavior and is safe. \n",
      "Deprecated in NumPy 1.20; for more details and guidance: https://numpy.org/devdocs/release/1.20.0-notes.html#deprecations\n",
      "  df_revenue=df_revenue.astype({'Gender':np.object,\n",
      "C:\\Users\\user\\AppData\\Local\\Temp\\ipykernel_2664\\3885802145.py:2: DeprecationWarning: `np.object` is a deprecated alias for the builtin `object`. To silence this warning, use `object` by itself. Doing this will not modify any behavior and is safe. \n",
      "Deprecated in NumPy 1.20; for more details and guidance: https://numpy.org/devdocs/release/1.20.0-notes.html#deprecations\n",
      "  'STATE':np.object,\n",
      "C:\\Users\\user\\AppData\\Local\\Temp\\ipykernel_2664\\3885802145.py:3: DeprecationWarning: `np.object` is a deprecated alias for the builtin `object`. To silence this warning, use `object` by itself. Doing this will not modify any behavior and is safe. \n",
      "Deprecated in NumPy 1.20; for more details and guidance: https://numpy.org/devdocs/release/1.20.0-notes.html#deprecations\n",
      "  'date_joined':np.object,\n",
      "C:\\Users\\user\\AppData\\Local\\Temp\\ipykernel_2664\\3885802145.py:4: DeprecationWarning: `np.object` is a deprecated alias for the builtin `object`. To silence this warning, use `object` by itself. Doing this will not modify any behavior and is safe. \n",
      "Deprecated in NumPy 1.20; for more details and guidance: https://numpy.org/devdocs/release/1.20.0-notes.html#deprecations\n",
      "  'fam_status':np.object,\n",
      "C:\\Users\\user\\AppData\\Local\\Temp\\ipykernel_2664\\3885802145.py:5: DeprecationWarning: `np.object` is a deprecated alias for the builtin `object`. To silence this warning, use `object` by itself. Doing this will not modify any behavior and is safe. \n",
      "Deprecated in NumPy 1.20; for more details and guidance: https://numpy.org/devdocs/release/1.20.0-notes.html#deprecations\n",
      "  'product_name':np.object,})\n"
     ]
    }
   ],
   "source": [
    "df_revenue=df_revenue.astype({'Gender':np.object,\n",
    "'STATE':np.object,\n",
    "'date_joined':np.object,\n",
    "'fam_status':np.object,\n",
    "'product_name':np.object,})"
   ]
  },
  {
   "cell_type": "code",
   "execution_count": 12,
   "id": "7a0d8d84",
   "metadata": {},
   "outputs": [
    {
     "name": "stderr",
     "output_type": "stream",
     "text": [
      "C:\\Users\\user\\AppData\\Local\\Temp\\ipykernel_2664\\3307682251.py:1: DeprecationWarning: `np.object` is a deprecated alias for the builtin `object`. To silence this warning, use `object` by itself. Doing this will not modify any behavior and is safe. \n",
      "Deprecated in NumPy 1.20; for more details and guidance: https://numpy.org/devdocs/release/1.20.0-notes.html#deprecations\n",
      "  df_revenue.describe(include=[np.object])\n"
     ]
    },
    {
     "data": {
      "text/html": [
       "<div>\n",
       "<style scoped>\n",
       "    .dataframe tbody tr th:only-of-type {\n",
       "        vertical-align: middle;\n",
       "    }\n",
       "\n",
       "    .dataframe tbody tr th {\n",
       "        vertical-align: top;\n",
       "    }\n",
       "\n",
       "    .dataframe thead th {\n",
       "        text-align: right;\n",
       "    }\n",
       "</style>\n",
       "<table border=\"1\" class=\"dataframe\">\n",
       "  <thead>\n",
       "    <tr style=\"text-align: right;\">\n",
       "      <th></th>\n",
       "      <th>Gender</th>\n",
       "      <th>STATE</th>\n",
       "      <th>date_joined</th>\n",
       "      <th>fam_status</th>\n",
       "      <th>product_name</th>\n",
       "    </tr>\n",
       "  </thead>\n",
       "  <tbody>\n",
       "    <tr>\n",
       "      <th>count</th>\n",
       "      <td>31156122</td>\n",
       "      <td>31156122</td>\n",
       "      <td>31156122</td>\n",
       "      <td>31156122</td>\n",
       "      <td>31156122</td>\n",
       "    </tr>\n",
       "    <tr>\n",
       "      <th>unique</th>\n",
       "      <td>2</td>\n",
       "      <td>51</td>\n",
       "      <td>1187</td>\n",
       "      <td>4</td>\n",
       "      <td>49631</td>\n",
       "    </tr>\n",
       "    <tr>\n",
       "      <th>top</th>\n",
       "      <td>Male</td>\n",
       "      <td>Pennsylvania</td>\n",
       "      <td>7/28/2018</td>\n",
       "      <td>married</td>\n",
       "      <td>Banana</td>\n",
       "    </tr>\n",
       "    <tr>\n",
       "      <th>freq</th>\n",
       "      <td>15683105</td>\n",
       "      <td>644694</td>\n",
       "      <td>37029</td>\n",
       "      <td>21877882</td>\n",
       "      <td>453164</td>\n",
       "    </tr>\n",
       "  </tbody>\n",
       "</table>\n",
       "</div>"
      ],
      "text/plain": [
       "          Gender         STATE date_joined fam_status product_name\n",
       "count   31156122      31156122    31156122   31156122     31156122\n",
       "unique         2            51        1187          4        49631\n",
       "top         Male  Pennsylvania   7/28/2018    married       Banana\n",
       "freq    15683105        644694       37029   21877882       453164"
      ]
     },
     "execution_count": 12,
     "metadata": {},
     "output_type": "execute_result"
    }
   ],
   "source": [
    "df_revenue.describe(include=[np.object])"
   ]
  },
  {
   "cell_type": "markdown",
   "id": "b2109fd8",
   "metadata": {},
   "source": [
    "### The tipical customer is 49 years old married male living in Pensilvania, having income about 100k and buying bananas :)"
   ]
  },
  {
   "cell_type": "code",
   "execution_count": null,
   "id": "e65e3d0b",
   "metadata": {},
   "outputs": [],
   "source": []
  },
  {
   "cell_type": "code",
   "execution_count": null,
   "id": "47e61014",
   "metadata": {},
   "outputs": [],
   "source": []
  },
  {
   "cell_type": "code",
   "execution_count": null,
   "id": "6510a3a9",
   "metadata": {},
   "outputs": [],
   "source": []
  },
  {
   "cell_type": "code",
   "execution_count": null,
   "id": "907c21db",
   "metadata": {},
   "outputs": [],
   "source": []
  },
  {
   "cell_type": "code",
   "execution_count": null,
   "id": "6b0c5715",
   "metadata": {},
   "outputs": [],
   "source": []
  },
  {
   "cell_type": "code",
   "execution_count": null,
   "id": "3c0dc20c",
   "metadata": {},
   "outputs": [],
   "source": []
  },
  {
   "cell_type": "code",
   "execution_count": null,
   "id": "7b5316a9",
   "metadata": {},
   "outputs": [],
   "source": []
  },
  {
   "cell_type": "code",
   "execution_count": null,
   "id": "e5103feb",
   "metadata": {},
   "outputs": [],
   "source": []
  },
  {
   "cell_type": "code",
   "execution_count": null,
   "id": "8ed7d025",
   "metadata": {},
   "outputs": [],
   "source": []
  },
  {
   "cell_type": "code",
   "execution_count": null,
   "id": "b9215b20",
   "metadata": {},
   "outputs": [],
   "source": []
  },
  {
   "cell_type": "code",
   "execution_count": null,
   "id": "ac1b72a7",
   "metadata": {},
   "outputs": [],
   "source": []
  },
  {
   "cell_type": "code",
   "execution_count": null,
   "id": "7173d47c",
   "metadata": {},
   "outputs": [],
   "source": []
  }
 ],
 "metadata": {
  "kernelspec": {
   "display_name": "Python 3 (ipykernel)",
   "language": "python",
   "name": "python3"
  },
  "language_info": {
   "codemirror_mode": {
    "name": "ipython",
    "version": 3
   },
   "file_extension": ".py",
   "mimetype": "text/x-python",
   "name": "python",
   "nbconvert_exporter": "python",
   "pygments_lexer": "ipython3",
   "version": "3.10.9"
  }
 },
 "nbformat": 4,
 "nbformat_minor": 5
}
